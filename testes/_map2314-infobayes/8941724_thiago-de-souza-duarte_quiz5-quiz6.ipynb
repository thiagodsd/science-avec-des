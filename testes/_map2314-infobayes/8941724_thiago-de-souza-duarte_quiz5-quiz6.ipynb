{
 "cells": [
  {
   "cell_type": "markdown",
   "metadata": {},
   "source": [
    "# Quiz 5"
   ]
  },
  {
   "cell_type": "markdown",
   "metadata": {},
   "source": [
    "## Exercício 39.2\n",
    "\n",
    "Mostrar que, dado \n",
    "\n",
    "$$G(w)=-\\sum_n\\left[ t^{(n)}ln y(x^{(n)};w) + (1 - t^{(n)})ln(1-y(x^{(n)};w)) \\right]$$ \n",
    "\n",
    "$\\vec{g}=\\frac{\\partial G}{\\partial w}$, tal que\n",
    "\n",
    "$$g_j = \\frac{\\partial G}{\\partial w_j} = \\sum_{n=1}^{N}-(t^{(n)}-y^{(n)})x_j^{(n)}$$"
   ]
  },
  {
   "cell_type": "markdown",
   "metadata": {},
   "source": [
    "### Solução\n",
    "\n",
    "Para cada $n$\n",
    "\n",
    "$$\\frac{\\partial G}{\\partial w_j} = - \\left[ t\\frac{1}{y}\\frac{\\partial y}{\\partial w_j} \n",
    "- \\frac{1}{1-y}\\frac{\\partial y}{\\partial w_j} \n",
    "+ t\\frac{1}{1-y}\\frac{\\partial y}{\\partial w_j}  \\right]$$\n",
    "\n",
    "como as funções de ativação são lineares nos parâmetros segue que\n",
    "\n",
    "$$ \\frac{\\partial y}{\\partial w_j} = \\frac{\\partial y}{\\partial a}\\frac{\\partial a}{\\partial w_j} = \\frac{\\partial y}{\\partial a}x_j $$\n",
    "\n",
    "então\n",
    "\n",
    "$$\\frac{\\partial G}{\\partial w_j} = - \\left[ t\\frac{1}{y} - \\frac{1}{1-y} + t\\frac{1}{1-y} \\right]\\frac{\\partial y}{\\partial a}x_j$$\n",
    "\n",
    "que pode ser escrita como\n",
    "\n",
    "$$\\boxed{\\frac{\\partial G}{\\partial w_j} = - \\left[ \\frac{t-y}{y(1-y)} \\right]\\frac{\\partial y}{\\partial a}x_j}$$\n",
    "\n",
    "Em particular para a sigmoide $y(a)=(1+e^{-a})^{-1}$, segue que\n",
    "\n",
    "$$\n",
    "\\begin{aligned}\n",
    "\\frac{\\partial y}{\\partial a} & = (-1)(1+e^{-a})^{-2}e^{-a}(-1)\\\\\n",
    "&= (1+e^{-a})^{-2}e^{-a} \\\\\n",
    "&= \\frac{e^{-a}}{(1+e^{-a})}\\frac{1}{(1+e^{-a})}\\\\\n",
    "&= \\left(\\frac{e^{-a} +1-1}{(1+e^{-a})} \\right)\\frac{1}{(1+e^{-a})}\\\\\n",
    "&= \\left(\\frac{1 + e^{-a}}{(1+e^{-a})} - \\frac{1}{(1+e^{-a})} \\right)\\frac{1}{(1+e^{-a})}\\\\\n",
    "& = (1 - y)y\n",
    "\\end{aligned}\n",
    "$$\n",
    "\n",
    "plugando em $\\frac{\\partial G}{\\partial w_j}$, para cada $n$\n",
    "\n",
    "$$g_j = -(t-y)x_j$$"
   ]
  },
  {
   "cell_type": "markdown",
   "metadata": {},
   "source": [
    "- - -"
   ]
  },
  {
   "cell_type": "markdown",
   "metadata": {},
   "source": [
    "## Exercício 39.4\n",
    "\n",
    "Dadas duas distribuições normais $N_1(z, \\mu, \\Sigma_1)$ e $N_2(z, \\mu, \\Sigma_2)$ e um vetor $z = (z_1, z_2, \\dots, z_I)^T$, a probabilidade de $z$ vir da s-ésima normal, com $s \\in {0,1}$, é  \n",
    "\n",
    "$$P(z \\mid s) = \\Pi_{i=1}^{I} N_s(z_i, \\mu, \\Sigma_{si})$$\n",
    "\n",
    "Mostrar que $P(s=1 \\mid z)$ pode ser escrita como\n",
    "\n",
    "$$(1 + e^{-w^Tx + \\theta})^{-1}$$"
   ]
  },
  {
   "cell_type": "markdown",
   "metadata": {},
   "source": [
    "### Solução\n",
    "\n",
    "Pelo teorema de Bayes\n",
    "\n",
    "$$ P(s=1 \\mid z) = \\frac{P(z \\mid s=1)P(s=1)}{P(z)} =  \\frac{P(z \\mid s=1)P(s=1)}{P(z \\mid s=0)P(s=0) + P(z \\mid s=1)P(s=1)} = \\frac{1}{1 + \\frac{P(z \\mid s=0)P(s=0)}{P(z \\mid s=1)P(s=1)}}$$\n",
    "\n",
    "que pode ser reescrito como\n",
    "\n",
    "$$ P(s=1 \\mid z) = \\frac{1}{1 + e^{ln( \\frac{P(z \\mid s=0)P(s=0)}{P(z \\mid s=1)P(s=1)} )}} .$$\n",
    "\n",
    "Desenvolvendo:\n",
    "\n",
    "$$ ln \\left( \\frac{P(z \\mid s=0)P(s=0)}{P(z \\mid s=1)P(s=1)} \\right) = ln \\left( \\frac{P(z \\mid s=0)}{P(z \\mid s=1)} \\right) + C_1$$\n",
    "\n",
    "onde $C_1$ é constante com respeito à variável $z$. Prosseguindo\n",
    "\n",
    "$$ \n",
    "\\begin{aligned}\n",
    "\\frac{P(z \\mid s=0)}{P(z \\mid s=1)} &= \\frac{\\Pi N_0(z_i, \\mu, \\Sigma_{0i})}{\\Pi N_1(z_i, \\mu, \\Sigma_{1i})} \\\\\n",
    "&= \\xi_1 \\frac{ e^{-\\frac{1}{2}(z-\\mu)^T\\Sigma_{0}^{-1}(z-\\mu)} }{ e^{-\\frac{1}{2}(z-\\mu)^T\\Sigma_{1}^{-1}(z-\\mu)} }\n",
    "\\end{aligned}\n",
    "$$\n",
    "\n",
    "onde $\\xi_1$ é uma função que não depende de $z$. Segue que\n",
    "\n",
    "$$ \\frac{P(z \\mid s=0)}{P(z \\mid s=1)} = exp\\left[ -\\frac{1}{2} \\left( \n",
    "(z-\\mu)^T\\Sigma_{0}^{-1}(z-\\mu) - (z-\\mu)^T\\Sigma_{1}^{-1}(z-\\mu) \\right) \\right] $$\n",
    "\n",
    "Usando os seguintes resultados da álgebra linear\n",
    "\n",
    "+ $(A + B)^T = A^T + B^T$\n",
    "+ $ (A + B) C = AC + BC$\n",
    "\n",
    "é possível reescrever o termo dentro da exponencial como\n",
    "\n",
    "$$ z^T\\Sigma_{0}^{-1}z -z^T\\Sigma_{0}^{-1}\\mu - \\mu^T\\Sigma_{0}^{-1}z + \\mu^T\\Sigma_{0}^{-1}\\mu $$\n",
    "\n",
    "$$-z^T\\Sigma_{1}^{-1}z +z^T\\Sigma_{1}^{-1}\\mu + \\mu^T\\Sigma_{1}^{-1}z - \\mu^T\\Sigma_{1}^{-1}\\mu$$\n",
    "\n",
    "Segue da álgebra linear também que\n",
    "\n",
    "+ $A^T B = A^T(B^T)^T = (B^T A)^T$\n",
    "+ $A^T = A$ se $A$ for simétrica\n",
    "\n",
    "Observando que $a^T M b$ é um número, e que portanto $a^T M b = (a^T M b)^T$, é imediato que \n",
    "\n",
    "$$ \n",
    "\\begin{aligned}\n",
    "a^T M b &= (a^T M b)^T \\\\\n",
    "&= b^T(a^T M)^T \\\\\n",
    "&= b^T M^T (a^T)^T \\\\\n",
    "&= b^T M a  \\quad \\text{para toda M simétrica}\n",
    "\\end{aligned}\n",
    "$$\n",
    "\n",
    "Então o termo da exponencial pode ser reescrito como\n",
    "\n",
    "$$ z^T\\Sigma_{0}^{-1}z -\\mu^T\\Sigma_{0}^{-1}z - \\mu^T\\Sigma_{0}^{-1}z + \\mu^T\\Sigma_{0}^{-1}\\mu $$\n",
    "\n",
    "$$-z^T\\Sigma_{1}^{-1}z +\\mu^T\\Sigma_{1}^{-1}z + \\mu^T\\Sigma_{1}^{-1}z - \\mu^T\\Sigma_{1}^{-1}\\mu$$\n",
    "\n",
    "$$=$$\n",
    "\n",
    "$$  z^T(\\Sigma_{0}^{-1} - \\Sigma_{1}^{-1})z\n",
    "- 2 z^T (\\Sigma_{0}^{-1} - \\Sigma_{1}^{-1})\\mu + \\mu^T(\\Sigma_{0}^{-1} - \\Sigma_{1}^{-1})\\mu $$\n",
    "\n",
    "$$=$$\n",
    "\n",
    "$$  z^T M z - 2 \\mu^T M z +  \\mu^T M \\mu $$\n",
    "\n",
    "Retomando a forma incial\n",
    "\n",
    "$$ ln \\left( \\frac{P(z \\mid s=0)}{P(z \\mid s=1)} \\right) + C_1$$\n",
    "\n",
    "Segue que\n",
    "\n",
    "$$\n",
    "\\begin{aligned}\n",
    "\\frac{P(z \\mid s=0)}{P(z \\mid s=1)} &= \\xi_1 e^{-\\frac{1}{2} z^T M z + \\mu^T M z - \\frac{1}{2}\\mu^T M \\mu } \\\\\n",
    "&= \\xi_1 e^{-\\frac{1}{2}\\mu^T M \\mu} e^{-\\frac{1}{2} z^T M z + \\mu^T M z }\\\\\n",
    "&= \\xi_2 e^{-\\frac{1}{2} z^T M z + \\mu^T M z } \\\\\n",
    "\\end{aligned}\n",
    "$$\n",
    "\n",
    "Então\n",
    "\n",
    "$$ ln \\left( \\frac{P(z \\mid s=0)}{P(z \\mid s=1)} \\right) + C_1 = -\\frac{1}{2} z^T M z + \\mu^T M z + C_2$$\n",
    "\n",
    "logo\n",
    "\n",
    "$$ P(s=1 \\mid z) = \\frac{1}{1 + e^{-\\frac{1}{2} z^T M z + \\mu^T M z + C_2}}$$\n",
    "\n",
    "que pode ser reescrito como $$\\frac{1}{1 + e^{-w^T x + \\theta}}$$\n",
    "\n",
    "uma vez que qualquer forma quadrática, tal como $$-\\frac{1}{2} z^T M z + \\mu^T M z$$ pode ser representada por uma matriz simétrica e que portanto pode ser associada a um produto interno."
   ]
  },
  {
   "cell_type": "markdown",
   "metadata": {},
   "source": [
    "- - -"
   ]
  },
  {
   "cell_type": "markdown",
   "metadata": {},
   "source": [
    "## Exercício 40.4"
   ]
  },
  {
   "cell_type": "markdown",
   "metadata": {},
   "source": [
    "- - -"
   ]
  },
  {
   "cell_type": "markdown",
   "metadata": {},
   "source": [
    "## Exercício 41.2"
   ]
  },
  {
   "cell_type": "markdown",
   "metadata": {},
   "source": [
    "- - -"
   ]
  },
  {
   "cell_type": "markdown",
   "metadata": {},
   "source": [
    "## Exercício 43.3"
   ]
  },
  {
   "cell_type": "markdown",
   "metadata": {},
   "source": [
    "- - -"
   ]
  },
  {
   "cell_type": "markdown",
   "metadata": {},
   "source": [
    "<br/>\n",
    "<br/>"
   ]
  },
  {
   "cell_type": "markdown",
   "metadata": {},
   "source": [
    "# Quiz 6"
   ]
  },
  {
   "cell_type": "markdown",
   "metadata": {},
   "source": [
    "## Exercício 22.12\n",
    "\n",
    "Dada a distribuição $$P(x \\mid w) = \\frac{1}{Z(w)} exp \\left( \\sum_k w_k f_k(x) \\right)$$ mostrar que os parâmetros de máxima verossimilhança satisfazem $$\\sum_x P(x \\mid w_{ML})f_k(x) = \\frac{1}{N}\\sum_n f_k(x^{(n)})$$\n",
    "\n",
    "Dica: $$\\mathcal{E}(f_k)_{P(x \\mid w_{ML})}=\\mathcal{E}(f_k)_{\\text{data}}$$"
   ]
  },
  {
   "cell_type": "markdown",
   "metadata": {},
   "source": [
    "### Solução\n",
    "\n",
    "Para cada $x$\n",
    "\n",
    "$$lnP=-lnZ + \\sum_k w_k f_k(x) $$\n",
    "\n",
    "diferenciando com respeito aos parâmetros\n",
    "\n",
    "$$\\frac{\\partial}{\\partial w_k}lnP = -\\frac{\\partial}{\\partial w_k}lnZ + f_k(x)$$\n",
    "\n",
    "para todos os $x$, então\n",
    "\n",
    "$$\\frac{\\partial}{\\partial w_k}lnP = -N\\frac{\\partial}{\\partial w_k}lnZ + \\sum_n f_k(x)$$\n",
    "\n",
    "onde \n",
    "\n",
    "$$\n",
    "\\begin{aligned}\n",
    "\\frac{\\partial}{\\partial w_k}lnZ &= \\frac{1}{Z}\\frac{\\partial Z}{\\partial w_k} \\\\\n",
    "&= \\frac{1}{Z}\\frac{\\partial }{\\partial w_k} \\sum_x exp \\left( \\sum_i w_i f_i(x) \\right) \\\\\n",
    "&= \\frac{1}{Z} \\sum_x exp \\left( \\sum_i w_i f_i(x) \\right) f_k(x) \\\\\n",
    "&= \\sum_x P(x \\mid w) f_k(x)\n",
    "\\end{aligned}\n",
    "$$\n",
    "\n",
    "então\n",
    "\n",
    "$$\\frac{\\partial}{\\partial w_k}lnP = -N\\sum_x P(x \\mid w) f_k(x) + \\sum_n f_k(x)$$\n",
    "\n",
    "de onde segue que, em $\\frac{\\partial}{\\partial w_k}lnP=0$\n",
    "\n",
    "$$\\boxed{ \\sum_x P(x \\mid w_{ML}) f_k(x) = \\frac{1}{N}\\sum_n f_k(x^n) }$$"
   ]
  },
  {
   "cell_type": "markdown",
   "metadata": {},
   "source": [
    "- - -"
   ]
  },
  {
   "cell_type": "markdown",
   "metadata": {},
   "source": [
    "## Exercício 33.5\n",
    "\n",
    "Dada gaussiana bivariada $P(x, \\sigma_1, \\sigma_2)$, se $P$ é aproximada por uma gassiana esférica de variância $\\sigma^2$, qual é o valor ótimo de $\\sigma^2$ usando:\n",
    "\n",
    "- a minimização da energia livre ?\n",
    "- a minimização da função objetiva $G = \\int dx P(x) ln \\frac{P(x)}{Q(x,\\sigma^2)}$ ?\n",
    "\n",
    "Esboçar curvas de níveis de $P$ e das duas aproximações, usando $\\frac{\\sigma_1}{\\sigma_2}=10$."
   ]
  },
  {
   "cell_type": "markdown",
   "metadata": {},
   "source": [
    "### Solução\n",
    "\n",
    "Partindo da função de energia livre\n",
    "\n",
    "$$\\beta F(\\theta) = \\int dx Q(x,\\theta) ln \\frac{Q(x,\\theta)}{P(x,\\theta)} + \\beta F$$\n",
    "\n",
    "identificando a distribuição normal, com média 0 e variância $\\sigma_Z^2$ como $N_Z$, calculando o termo de entropia relativa entre P e Q\n",
    "\n",
    "$$\\int dx N_Q ln \\frac{N_Q}{N_P}$$\n",
    "\n",
    "segue que\n",
    "\n",
    "$$ \\int dx \\frac{1}{\\sqrt{2\\pi}\\sigma_Q}e^{-\\frac{x^2}{2\\sigma_Q^2}} ln \\frac{\\frac{1}{\\sqrt{2\\pi}\\sigma_Q}e^{-\\frac{x^2}{2\\sigma_Q^2}}}{\\frac{1}{\\sqrt{2\\pi}\\sigma_P}e^{-\\frac{x^2}{2\\sigma_P^2}}} $$\n",
    "\n",
    "$$ \\int dx \\frac{1}{\\sqrt{2\\pi}\\sigma_Q}e^{-\\frac{x^2}{2\\sigma_Q^2}}\\left( -\\frac{1}{2}x^2 \\left(  \\frac{1}{\\sigma_Q^2} - \\frac{1}{\\sigma_P^2} \\right) + ln\\frac{\\sigma_P}{\\sigma_Q} \\right) $$\n",
    "\n",
    "Usando os resultados de integrais gaussianas\n",
    "\n",
    "$$\\int dx e^{-\\lambda x^2} = \\sqrt{ \\frac{\\pi}{\\lambda} }$$\n",
    "\n",
    "e\n",
    "\n",
    "$$\\int dx x^2 e^{-\\lambda x^2} = \\frac{(\\pi)^{\\frac{1}{2}}}{(2\\lambda)^{\\frac{3}{2}}}$$\n",
    "\n",
    "segue que\n",
    "\n",
    "$$ln\\frac{\\sigma_P}{\\sigma_Q} + \\frac{1}{\\sqrt{2\\pi}\\sigma_Q} \\left( -\\frac{1}{2}\\left(  \\frac{1}{\\sigma_Q^2} - \\frac{1}{\\sigma_P^2} \\right) \\right) \\sigma_Q^3 \\sqrt{2 \\pi} $$\n",
    "\n",
    "$$= ln\\frac{\\sigma_P}{\\sigma_Q} + \\sigma_Q^2 \\left( -\\frac{1}{2}\\left(  \\frac{1}{\\sigma_Q^2} - \\frac{1}{\\sigma_P^2} \\right) \\right) $$\n",
    "\n",
    "$$= \\frac{1}{2} \\left( 2 ln\\frac{\\sigma_P}{\\sigma_Q} - \\left(  1 - \\frac{\\sigma_Q^2}{\\sigma_P^2} \\right) \\right) $$\n",
    "\n",
    "\n",
    "$$= \\frac{1}{2} \\left( ln\\frac{\\sigma_P^2}{\\sigma_Q^2} - 1 + \\frac{\\sigma_Q^2}{\\sigma_P^2} \\right) $$\n",
    "\n",
    "Como ambas, $P(x, \\sigma_1^2, \\sigma_2^2)$ e $Q(x, \\sigma_Q^2, \\sigma_Q^2)$ podem ser decompostas em produtos de distribuições, a integral inicial poderia ser separada em dois termos, resultando em  \n",
    "\n",
    "$$\\beta F(\\theta) = \\frac{1}{2} \\left( ln\\frac{\\sigma_1^2}{\\sigma_Q^2} - 1 + \\frac{\\sigma_Q^2}{\\sigma_1^2} + ln\\frac{\\sigma_2^2}{\\sigma_Q^2} - 1 + \\frac{\\sigma_Q^2}{\\sigma_2^2} \\right)$$\n",
    "\n",
    "encontrando então o $\\sigma_Q^2$ ótimo\n",
    "\n",
    "$$\\frac{d}{d\\sigma_Q^2} \\beta F = 0 \\Rightarrow \\left( -\\frac{\\sigma_Q^2}{\\sigma_1^2}\\sigma_1^2\\frac{1}{(\\sigma_Q^2)^2} + \\frac{1}{\\sigma_1^2} -\\frac{\\sigma_Q^2}{\\sigma_2^2}\\sigma_2^2\\frac{1}{(\\sigma_Q^2)^2} + \\frac{1}{\\sigma_2^2} \\right) = 0$$\n",
    "\n",
    "ou seja\n",
    "\n",
    "$$ -\\frac{2}{\\sigma_Q^2} + \\frac{1}{\\sigma_1^2} + \\frac{1}{\\sigma_2^2} = 0  \\Rightarrow \\boxed{ \\sigma_Q^2 = \\frac{2}{\\left( \\frac{1}{\\sigma_1^2} + \\frac{1}{\\sigma_2^2} \\right)}}$$"
   ]
  },
  {
   "cell_type": "markdown",
   "metadata": {},
   "source": [
    "- - -\n",
    "\n",
    "Partindo agora de $$G = \\int dx N_P ln \\frac{N_P}{N_Q}$$ analogamente \n",
    "\n",
    "$$ \\int dx \\frac{1}{\\sqrt{2\\pi}\\sigma_P}e^{-\\frac{x^2}{2\\sigma_P^2}} ln \\frac{\\frac{1}{\\sqrt{2\\pi}\\sigma_P}e^{-\\frac{x^2}{2\\sigma_P^2}}}{\\frac{1}{\\sqrt{2\\pi}\\sigma_Q}e^{-\\frac{x^2}{2\\sigma_Q^2}}} = \\frac{1}{2} \\left( ln\\frac{\\sigma_Q^2}{\\sigma_P^2} - 1 + \\frac{\\sigma_P^2}{\\sigma_Q^2} \\right) $$\n",
    "\n"
   ]
  },
  {
   "cell_type": "markdown",
   "metadata": {},
   "source": [
    "segue que\n",
    "\n",
    "$$G= \\frac{1}{2} \\left( ln\\frac{\\sigma_Q^2}{\\sigma_1^2} - 1 + \\frac{\\sigma_1^2}{\\sigma_Q^2} + ln\\frac{\\sigma_Q^2}{\\sigma_2^2} - 1 + \\frac{\\sigma_2^2}{\\sigma_Q^2} \\right)$$\n"
   ]
  },
  {
   "cell_type": "markdown",
   "metadata": {},
   "source": [
    "\n",
    "$$\\frac{d}{d\\sigma_Q^2} G = 0 \\Rightarrow \\left( \\frac{\\sigma_1^2}{\\sigma_Q^2}\\frac{1}{\\sigma_1^2}-\\frac{\\sigma_1^2}{(\\sigma_Q^2)^2} + \\frac{\\sigma_2^2}{\\sigma_Q^2}\\frac{1}{\\sigma_2^2}-\\frac{\\sigma_2^2}{(\\sigma_Q^2)^2} \\right) = 0 $$"
   ]
  },
  {
   "cell_type": "markdown",
   "metadata": {},
   "source": [
    "$$ \\left( \\frac{2}{\\sigma_Q^2}-\\frac{\\sigma_1^2}{(\\sigma_Q^2)^2} -\\frac{\\sigma_2^2}{(\\sigma_Q^2)^2} \\right) = 0 $$"
   ]
  },
  {
   "cell_type": "markdown",
   "metadata": {},
   "source": [
    "$$ \\boxed{ \\sigma_Q^2 = \\frac{1}{2} \\left( \\sigma_1^2 + \\sigma_2^2 \\right) }$$\n",
    "\n",
    "- - -\n",
    "\n",
    "Para $\\sigma_1 = 10$ e $\\sigma_2 = 1$:"
   ]
  },
  {
   "cell_type": "code",
   "execution_count": 1,
   "metadata": {},
   "outputs": [
    {
     "data": {
      "image/png": "[encoded data removed]",
      "text/plain": [
       "<Figure size 576x576 with 1 Axes>"
      ]
     },
     "metadata": {
      "needs_background": "light"
     },
     "output_type": "display_data"
    }
   ],
   "source": [
    "import matplotlib\n",
    "import numpy as np\n",
    "import matplotlib.cm as cm\n",
    "import matplotlib.pyplot as plt\n",
    "\n",
    "def P(x, y, s1, s2):\n",
    "    return (1/(2*np.pi*s1*s2))*np.exp(-0.5*((x/s1)**2 + (y/s2)**2))\n",
    "\n",
    "delta = 0.025\n",
    "x = np.arange(-12.0, 12.0, delta)\n",
    "y = np.arange(-13.0, 12.0, delta)\n",
    "X, Y = np.meshgrid(x, y)\n",
    "p  = P(X,Y, 10, 1)\n",
    "\n",
    "sq = np.sqrt(2/(1/10**2 + 1/1**2))\n",
    "qf = P(X,Y, sq, sq)\n",
    "\n",
    "sg = np.sqrt((10**2 + 1**2)/2)\n",
    "qg = P(X,Y, sg, sg)\n",
    "\n",
    "fig, ax = plt.subplots(figsize=(8,8))\n",
    "CS = ax.contour(X*np.cos(np.pi/4) - Y*np.sin(np.pi/4), \n",
    "                X*np.sin(np.pi/4) + Y*np.cos(np.pi/4), \n",
    "                p, 1)\n",
    "CQF = ax.contour(X*np.cos(np.pi/4) - Y*np.sin(np.pi/4), \n",
    "                 X*np.sin(np.pi/4) + Y*np.cos(np.pi/4), \n",
    "                 qf, 1, \n",
    "                 linestyles='dashed', colors='k')\n",
    "CQG = ax.contour(X*np.cos(np.pi/4) - Y*np.sin(np.pi/4), \n",
    "                 X*np.sin(np.pi/4) + Y*np.cos(np.pi/4), \n",
    "                 qg, 1, \n",
    "                 linestyles='dashed', colors='r')\n",
    "\n",
    "CS.collections[1].set_label(r'$P(x)$')\n",
    "CQF.collections[1].set_label(r'$Q_F (x)$')\n",
    "CQG.collections[1].set_label(r'$Q_G (x)$')\n",
    "\n",
    "plt.legend(fontsize=14)\n",
    "plt.show()"
   ]
  },
  {
   "cell_type": "markdown",
   "metadata": {},
   "source": [
    "Mostrando que a aproximação pela minimização da energia livre, $Q_F (x)$, leva a uma distribuição mais compacta que a original."
   ]
  },
  {
   "cell_type": "markdown",
   "metadata": {},
   "source": [
    "- - -"
   ]
  },
  {
   "cell_type": "markdown",
   "metadata": {},
   "source": [
    "## Exercício 39.5\n",
    "\n",
    "\n",
    "Um LED é composto por 7 elementos, cujo estado é representado por um vetor $x=(x_1, ..., x_7)$, onde cada elemento tem probabilidade $f$ de estar errôneamente acesos, e $1-f$ de estarem corretamente acesos.\n",
    "\n",
    "Se o LED está exibindo 2, $c(2)=(1,0,1,1,1,0,1)$, ou 3, $c(3)=(1,0,1,1,0,1,1)$, mostrar que $$ P(s=2 \\mid x) = \\frac{1}{1 + exp(-w^T x + \\theta)} $$\n",
    "\n",
    "Escreva a probabilidade de $s$ dado $x$, $s \\in {0,1, ..., 9}$, na forma\n",
    "\n",
    "$$P(s \\mid x) = \\frac{e^{a_s}}{\\sum_{s'} e^{a_s'} }$$"
   ]
  },
  {
   "cell_type": "markdown",
   "metadata": {},
   "source": [
    "### Solução\n",
    "\n",
    "Pelo teorema de Bayes\n",
    "\n",
    "$$ P(s=2 \\mid x) = \\frac{P(x \\mid s=1)P(s=2)}{P(x)} =  \\frac{P(x \\mid s=2)P(s=2)}{P(x \\mid s=2)P(s=2) + P(x \\mid s=3)P(s=3)} = \\frac{1}{1 + \\frac{P(x \\mid s=3)P(s=3)}{P(x \\mid s=2)P(s=2)}}$$\n",
    "\n",
    "\n",
    "Imediatamente $\\frac{P(s=3)}{P(s=2)}$ é uma constante, que pode ser reescrita como $e^{ log \\frac{P(s=3)}{P(s=2)} }=e^{\\theta}$. Resta avaliar $$\\frac{P(x \\mid s=3)}{P(x \\mid s=2)}$$\n",
    "\n",
    "Em particular, é possível reconhecer\n",
    "\n",
    "$$P(x \\mid 2) = f^{x_2 + x_6} (1-f)^{x_1 + x_3 + x_4 + x_5 + x_7}$$\n",
    " \n",
    "que é equivalente a\n",
    "\n",
    "$$= f^{\\tilde{c(2)}\\cdot x} (1-f)^{c(2) \\cdot x}$$\n",
    "\n",
    "onde $\\tilde{c} = (1-c_1, ..., 1-c_7)$, de modo a zerar o produto escalar dos elementos acesos. Segue então que\n",
    "\n",
    "$$P(x \\mid 2) = exp\\left( log f^{\\tilde{c(2)}} + log(1-f)^{c(2)} \\right)\\cdot x$$\n",
    "\n",
    "$$ = exp\\left( \\tilde{c(2)} log f + c(2) log(1-f) \\right)\\cdot x$$\n",
    "\n",
    "O mesmo vale para $P(x \\mid 3)$, então, lembrando que $c(2)$ e $c(3)$ são vetores, segue que\n",
    "\n",
    "$$ P(s=2 \\mid x) = \\frac{1}{1 + e^{(\\tilde{c(3)} log f + c(3) log(1-f) - \\tilde{c(2)} log f - c(2) log(1-f))\\cdot x + \\theta}} $$\n",
    "\n",
    "que finalmente pode ser reescrito como\n",
    "\n",
    "$$ \\boxed{ P(s=2 \\mid x) = \\frac{1}{1 + e^{-w^T x + \\theta}} } $$\n",
    "\n",
    "- - - \n",
    "\n",
    "O Teorema de Bayes permite escrever uma forma geral do resultado acima\n",
    "\n",
    "$$ P(s \\mid x) = \\frac{e^{ log P(x \\mid s) p_s}}{\\sum_{s'} e^{ log P(x \\mid s') p_s}} = \\frac{e^{a_s}}{\\sum_{s'} e^{a_{s'}}}$$\n",
    "\n",
    "onde $$ a_s = p_s( c(s)log(1-f) + \\tilde{c}(s)log f ) \\cdot x$$\n"
   ]
  },
  {
   "cell_type": "markdown",
   "metadata": {},
   "source": [
    "- - -"
   ]
  },
  {
   "cell_type": "markdown",
   "metadata": {},
   "source": [
    "## Exercício 42.5"
   ]
  },
  {
   "cell_type": "markdown",
   "metadata": {},
   "source": [
    "Referência - [takyamamoto/Hopfield-Network: Hopfield network implemented with Python](https://github.com/takyamamoto/Hopfield-Network).\n",
    "\n",
    "Códigos na seção Apêndice."
   ]
  },
  {
   "cell_type": "markdown",
   "metadata": {},
   "source": [
    "### Resultados\n",
    "\n",
    "* Atualização assíncrona, após 500 iterações.\n",
    "* Imagens 100x100"
   ]
  },
  {
   "cell_type": "markdown",
   "metadata": {},
   "source": [
    "#### Imagens fragmentadas"
   ]
  },
  {
   "cell_type": "markdown",
   "metadata": {},
   "source": [
    "**25% de fragmentação**\n",
    "\n",
    "<div>\n",
    "\n",
    "<div style=\"float: left; width: 50%;\" />\n",
    "\n",
    "![25% de fragmentação](hopfield/noise_25/result.png)\n",
    "\n",
    "</div>\n",
    "<div style=\"float: left; width: 50%;\" />\n",
    "\n",
    "![25% de fragmentação](hopfield/noise_25/pesos.png)\n",
    "\n",
    "</div>\n",
    "\n",
    "</div>"
   ]
  },
  {
   "cell_type": "markdown",
   "metadata": {
    "cell_style": "center"
   },
   "source": [
    "**50% de fragmentação**\n",
    "\n",
    "<div>\n",
    "<div style=\"float: left; width: 50%;\" />\n",
    "\n",
    "![50% de fragmentação](hopfield/noise_50/result.png)\n",
    "\n",
    "</div>\n",
    "<div style=\"float: left; width: 50%;\" />\n",
    "\n",
    "![50% de fragmentação](hopfield/noise_50/pesos.png)\n",
    "\n",
    "</div>\n",
    "</div>"
   ]
  },
  {
   "cell_type": "markdown",
   "metadata": {},
   "source": [
    "**75% de fragmentação**\n",
    "\n",
    "<div>\n",
    "<div style=\"float: left; width: 50%;\" />\n",
    "\n",
    "![75% de fragmentação](hopfield/noise_75/result.png)\n",
    "\n",
    "</div>\n",
    "<div style=\"float: left; width: 50%;\" />\n",
    "\n",
    "![75% de fragmentação](hopfield/noise_75/pesos.png)\n",
    "\n",
    "</div>\n",
    "</div>"
   ]
  },
  {
   "cell_type": "markdown",
   "metadata": {},
   "source": [
    "#### Pesos fragmentados\n",
    "\n",
    "* Imagens com 30% de fragmentação\n",
    "* Pesos alterados para -5"
   ]
  },
  {
   "cell_type": "markdown",
   "metadata": {},
   "source": [
    "**10% dos pesos alterados aleatoriamente**\n",
    "\n",
    "<div>\n",
    "<div style=\"float: left; width: 50%;\" />\n",
    "\n",
    "![10% dos pesos alterados aleatoriamente](hopfield/noise_30_10p/result.png)\n",
    "\n",
    "</div>\n",
    "<div style=\"float: left; width: 50%;\" />\n",
    "\n",
    "![10% dos pesos alterados aleatoriamente](hopfield/noise_30_10p/pesos.png)\n",
    "\n",
    "</div>\n",
    "</div>"
   ]
  },
  {
   "cell_type": "markdown",
   "metadata": {},
   "source": [
    "**30% dos pesos alterados aleatoriamente**\n",
    "\n",
    "<div>\n",
    "<div style=\"float: left; width: 50%;\" />\n",
    "\n",
    "![30% dos pesos alterados aleatoriamente](hopfield/noise_30_30p/result.png)\n",
    "\n",
    "</div>\n",
    "<div style=\"float: left; width: 50%;\" />\n",
    "\n",
    "![30% dos pesos alterados aleatoriamente](hopfield/noise_30_30p/pesos.png)\n",
    "\n",
    "</div>\n",
    "</div>"
   ]
  },
  {
   "cell_type": "markdown",
   "metadata": {},
   "source": [
    "<br/>\n",
    "<br/>"
   ]
  },
  {
   "cell_type": "markdown",
   "metadata": {},
   "source": [
    "# Apêndice"
   ]
  },
  {
   "cell_type": "markdown",
   "metadata": {},
   "source": [
    "## Códigos"
   ]
  },
  {
   "cell_type": "markdown",
   "metadata": {},
   "source": [
    "### network.py"
   ]
  },
  {
   "cell_type": "code",
   "execution_count": null,
   "metadata": {},
   "outputs": [],
   "source": [
    "import numpy as np\n",
    "from matplotlib import pyplot as plt\n",
    "import matplotlib.cm as cm\n",
    "from tqdm import tqdm\n",
    "import sys\n",
    "\n",
    "class HopfieldNetwork(object):      \n",
    "    def train_weights(self, train_data):\n",
    "        print(\"Start to train weights...\")\n",
    "        num_data =  len(train_data)\n",
    "        self.num_neuron = train_data[0].shape[0]\n",
    "        \n",
    "        # initialize weights\n",
    "        W = np.zeros((self.num_neuron, self.num_neuron))\n",
    "        rho = np.sum([np.sum(t) for t in train_data]) / (num_data*self.num_neuron)\n",
    "        \n",
    "        # Hebb rule\n",
    "        for i in tqdm(range(num_data)):\n",
    "            t = train_data[i] - rho\n",
    "            W += np.outer(t, t)\n",
    "        \n",
    "        # Make diagonal element of W into 0\n",
    "        diagW = np.diag(np.diag(W))\n",
    "        W = W - diagW\n",
    "        W /= num_data\n",
    "        \n",
    "        self.W = W \n",
    "    \n",
    "    def predict(self, data, num_iter=20, threshold=0, asyn=False):\n",
    "        print(\"Start to predict...\")\n",
    "        self.num_iter = num_iter\n",
    "        self.threshold = threshold\n",
    "        self.asyn = asyn\n",
    "        \n",
    "        # Copy to avoid call by reference \n",
    "        copied_data = np.copy(data)\n",
    "        \n",
    "        # Define predict list\n",
    "        predicted = []\n",
    "        for i in tqdm(range(len(data))):\n",
    "            predicted.append(self._run(copied_data[i]))\n",
    "        return predicted\n",
    "    \n",
    "    def _run(self, init_s):\n",
    "        if self.asyn==False:\n",
    "            \"\"\"\n",
    "            Synchronous update\n",
    "            \"\"\"\n",
    "            # Compute initial state energy\n",
    "            s = init_s\n",
    "\n",
    "            e = self.energy(s)\n",
    "            \n",
    "            # Iteration\n",
    "            for i in range(self.num_iter):\n",
    "                # Update s\n",
    "                s = np.sign(self.W @ s - self.threshold)\n",
    "                # Compute new state energy\n",
    "                e_new = self.energy(s)\n",
    "                \n",
    "                # s is converged\n",
    "                if e == e_new:\n",
    "                    return s\n",
    "                # Update energy\n",
    "                e = e_new\n",
    "            return s\n",
    "        else:\n",
    "            \"\"\"\n",
    "            Asynchronous update\n",
    "            \"\"\"\n",
    "            # Compute initial state energy\n",
    "            s = init_s\n",
    "            e = self.energy(s)\n",
    "            \n",
    "            # Iteration\n",
    "            for i in range(self.num_iter):\n",
    "                for j in range(1000):\n",
    "                    # Select random neuron\n",
    "                    idx = np.random.randint(0, self.num_neuron) \n",
    "                    # Update s\n",
    "                    s[idx] = np.sign(self.W[idx].T @ s - self.threshold)\n",
    "                \n",
    "                # Compute new state energy\n",
    "                e_new = self.energy(s)\n",
    "                \n",
    "                # s is converged\n",
    "                if e == e_new:\n",
    "                    return s\n",
    "                # Update energy\n",
    "                e = e_new\n",
    "            return s\n",
    "    \n",
    "    \n",
    "    def energy(self, s):\n",
    "        return -0.5 * s @ self.W @ s + np.sum(s * self.threshold)\n",
    "\n",
    "    def plot_weights(self):\n",
    "        plt.figure(figsize=(6, 5))\n",
    "        w_mat = plt.imshow(self.W, cmap=cm.coolwarm)\n",
    "        plt.colorbar(w_mat)\n",
    "        plt.title(\"Pesos\")\n",
    "        plt.tight_layout()\n",
    "        plt.savefig(\"pesos.png\")\n",
    "        plt.show()\n",
    "    \n",
    "    def shuffle(self):\n",
    "        for x in range(int(0.5*self.num_neuron*self.num_neuron)):\n",
    "          i = np.random.randint(0,self.num_neuron-1)\n",
    "          j = np.random.randint(0,self.num_neuron-1)\n",
    "          self.W[i,j] = -5.0"
   ]
  },
  {
   "cell_type": "markdown",
   "metadata": {},
   "source": [
    "### infobayes_treino.py"
   ]
  },
  {
   "cell_type": "code",
   "execution_count": null,
   "metadata": {},
   "outputs": [],
   "source": [
    "import numpy as np\n",
    "\n",
    "import matplotlib.pyplot as plt\n",
    "\n",
    "import skimage.data\n",
    "from skimage import io\n",
    "from skimage.color import rgb2gray\n",
    "from skimage.filters import threshold_mean\n",
    "from skimage.transform import resize\n",
    "from skimage import img_as_bool\n",
    "\n",
    "import network\n",
    "\n",
    "def get_corrupted_input(input, corruption_level):\n",
    "    corrupted = np.copy(input)\n",
    "    inv = np.random.binomial(n=1, p=corruption_level, size=len(input))\n",
    "    for i, v in enumerate(input):\n",
    "        if inv[i]:\n",
    "            corrupted[i] = -1 * v\n",
    "    return corrupted\n",
    "    \n",
    "def reshape(data):\n",
    "    dim = int(np.sqrt(len(data)))\n",
    "    data = np.reshape(data, (dim, dim))\n",
    "    return data\n",
    "\n",
    "def plot(data, test, predicted, figsize=(5, 6)):\n",
    "    data = [reshape(d) for d in data]\n",
    "    test = [reshape(d) for d in test]\n",
    "    predicted = [reshape(d) for d in predicted]\n",
    "\n",
    "    fig, axarr = plt.subplots(len(data), 3, figsize=figsize)\n",
    "    print(fig, axarr[0], len(data))\n",
    "    for i in range(len(data)):\n",
    "        if i==0:\n",
    "            axarr[i, 0].set_title('Treino')\n",
    "            axarr[i, 1].set_title(\"Teste\")\n",
    "            axarr[i, 2].set_title('Predição')\n",
    "\n",
    "        axarr[i, 0].imshow(data[i], cmap='gray')\n",
    "        axarr[i, 0].axis('off')\n",
    "        axarr[i, 1].imshow(test[i], cmap='gray')\n",
    "        axarr[i, 1].axis('off')\n",
    "        axarr[i, 2].imshow(predicted[i], cmap='gray')\n",
    "        axarr[i, 2].axis('off')\n",
    "\n",
    "    plt.tight_layout()\n",
    "    plt.savefig(\"result.png\")\n",
    "    plt.show()\n",
    "\n",
    "def preprocessing(img, w=100, h=100):\n",
    "    # Resize image\n",
    "    img = resize(img, (w,h), mode='reflect')\n",
    "\n",
    "    # Thresholding\n",
    "    thresh = threshold_mean(img)\n",
    "    binary = img > thresh\n",
    "    shift = 2*(binary*1)-1 # Boolian to int\n",
    "\n",
    "    # Reshape\n",
    "    flatten = np.reshape(shift, (w*h))\n",
    "    return flatten\n",
    "\n",
    "def main():\n",
    "    # Load data\n",
    "    shannon = io.imread('shannon.png')\n",
    "    infobayes = io.imread('infobayes.png')\n",
    "    boltzmann = io.imread('boltzmann.png')\n",
    "\n",
    "    # Marge data\n",
    "    data = [shannon, infobayes, boltzmann]\n",
    "\n",
    "    # Preprocessing\n",
    "    print(\"Start to data preprocessing...\")\n",
    "    data = [preprocessing(d) for d in data]\n",
    "\n",
    "    # Create Hopfield Network Model\n",
    "    model = network.HopfieldNetwork()\n",
    "    model.train_weights(data)\n",
    "    \n",
    "    model.shuffle()\n",
    "\n",
    "    # Generate testset\n",
    "    test = [get_corrupted_input(d, 0.30) for d in data]\n",
    "\n",
    "    predicted = model.predict(test, threshold=0, asyn=True)\n",
    "    print(\"Show prediction results...\")\n",
    "    plot(data, test, predicted)\n",
    "    print(\"Show network weights matrix...\")\n",
    "    model.plot_weights()\n",
    "\n",
    "if __name__ == '__main__':\n",
    "    main()"
   ]
  }
 ],
 "metadata": {
  "kernelspec": {
   "display_name": "Python 3",
   "language": "python",
   "name": "python3"
  },
  "language_info": {
   "codemirror_mode": {
    "name": "ipython",
    "version": 3
   },
   "file_extension": ".py",
   "mimetype": "text/x-python",
   "name": "python",
   "nbconvert_exporter": "python",
   "pygments_lexer": "ipython3",
   "version": "3.8.5"
  },
  "toc": {
   "base_numbering": 1,
   "nav_menu": {},
   "number_sections": true,
   "sideBar": true,
   "skip_h1_title": false,
   "title_cell": "Table of Contents",
   "title_sidebar": "Contents",
   "toc_cell": false,
   "toc_position": {
    "height": "calc(100% - 180px)",
    "left": "10px",
    "top": "150px",
    "width": "236px"
   },
   "toc_section_display": true,
   "toc_window_display": true
  }
 },
 "nbformat": 4,
 "nbformat_minor": 4
}
