{
  "nbformat": 4,
  "nbformat_minor": 0,
  "metadata": {
    "colab": {
      "name": "australia.ipynb",
      "provenance": [],
      "authorship_tag": "ABX9TyPj3sCQ4NdKWpQKXeNEskay",
      "include_colab_link": true
    },
    "kernelspec": {
      "name": "python3",
      "display_name": "Python 3"
    }
  },
  "cells": [
    {
      "cell_type": "markdown",
      "metadata": {
        "id": "view-in-github",
        "colab_type": "text"
      },
      "source": [
        "<a href=\"https://colab.research.google.com/github/thiagodsd/science-avec-des/blob/master/australia.ipynb\" target=\"_parent\"><img src=\"https://colab.research.google.com/assets/colab-badge.svg\" alt=\"Open In Colab\"/></a>"
      ]
    },
    {
      "cell_type": "markdown",
      "metadata": {
        "id": "sFqdDhJjGdxF",
        "colab_type": "text"
      },
      "source": [
        "# Referências"
      ]
    },
    {
      "cell_type": "markdown",
      "metadata": {
        "id": "7WSqLXvqGSn0",
        "colab_type": "text"
      },
      "source": [
        "* [Optuna tutorial for hyperparameter optimization | Kaggle](https://www.kaggle.com/corochann/optuna-tutorial-for-hyperparameter-optimization)\n",
        "* [Predict Future Sales - LGBM hyperparameter Optuna | Kaggle](https://www.kaggle.com/dhiiyaur/predict-future-sales-lgbm-hyperparameter-optuna)\n",
        "* [Lightgbm using Optuna(Optunaを用いたLightgbm) | Kaggle](https://www.kaggle.com/snakayama/lightgbm-using-optuna-optuna-lightgbm)\n",
        "* [LightGBM Tuning Step by Step Optuna [0.122 LB] | Kaggle](https://www.kaggle.com/chen2222/lightgbm-tuning-step-by-step-optuna-0-122-lb)\n",
        "* [Boruta feature elimination | Kaggle](https://www.kaggle.com/tilii7/boruta-feature-elimination)\n",
        "* [Boruta Feature Importance Analysis | Kaggle](https://www.kaggle.com/jimthompson/boruta-feature-importance-analysis)\n",
        "* [Featuretools for Good | Kaggle](https://www.kaggle.com/willkoehrsen/featuretools-for-good)\n",
        "* [Auto feature generation (FEATURETOOLS example) | Kaggle](https://www.kaggle.com/frednavruzov/auto-feature-generation-featuretools-example)"
      ]
    },
    {
      "cell_type": "code",
      "metadata": {
        "id": "E5vY0ADTGU3c",
        "colab_type": "code",
        "colab": {}
      },
      "source": [
        ""
      ],
      "execution_count": null,
      "outputs": []
    }
  ]
}