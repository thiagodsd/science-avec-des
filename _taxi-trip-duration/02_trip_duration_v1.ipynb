{
 "cells": [
  {
   "cell_type": "markdown",
   "metadata": {},
   "source": [
    "Checking files:"
   ]
  },
  {
   "cell_type": "code",
   "execution_count": 1,
   "metadata": {
    "_cell_guid": "b1076dfc-b9ad-4769-8c92-a6c4dae69d19",
    "_uuid": "8f2839f25d086af736a60e9eeb907d3b93b6e0e5"
   },
   "outputs": [
    {
     "name": "stdout",
     "output_type": "stream",
     "text": [
      "/kaggle/input/nyc-taxi-trip-duration/sample_submission.csv\n",
      "/kaggle/input/nyc-taxi-trip-duration/test.csv\n",
      "/kaggle/input/nyc-taxi-trip-duration/train.csv\n",
      "/kaggle/input/nyc-taxi-trip-duration/test/test.csv\n",
      "/kaggle/input/nyc-taxi-trip-duration/sample_submission/sample_submission.csv\n",
      "/kaggle/input/nyc-taxi-trip-duration/train/train.csv\n"
     ]
    }
   ],
   "source": [
    "import numpy  as np\n",
    "import pandas as pd\n",
    "\n",
    "import os\n",
    "for dirname, _, filenames in os.walk('/kaggle/input'):\n",
    "    for filename in filenames:\n",
    "        print(os.path.join(dirname, filename))"
   ]
  },
  {
   "cell_type": "markdown",
   "metadata": {},
   "source": [
    "Summoning some libs:"
   ]
  },
  {
   "cell_type": "code",
   "execution_count": 70,
   "metadata": {
    "_cell_guid": "79c7e3d0-c299-4dcb-8224-4455121ee9b0",
    "_uuid": "d629ff2d2480ee46fbb7e2d37f6b5fab8052498a"
   },
   "outputs": [],
   "source": [
    "import datetime\n",
    "import warnings\n",
    "import gc\n",
    "\n",
    "%matplotlib inline\n",
    "import matplotlib.pyplot as plt\n",
    "import seaborn           as sns\n",
    "from pandas.plotting import scatter_matrix\n",
    "\n",
    "from sklearn import metrics\n",
    "from sklearn.model_selection import train_test_split\n",
    "from sklearn.impute          import SimpleImputer\n",
    "from sklearn.compose         import ColumnTransformer\n",
    "from sklearn.preprocessing   import OrdinalEncoder, OneHotEncoder\n",
    "from sklearn.pipeline        import Pipeline\n",
    "from sklearn.preprocessing   import StandardScaler\n",
    "\n",
    "from sklearn.cluster      import KMeans, DBSCAN\n",
    "from sklearn.linear_model import LinearRegression\n",
    "from sklearn.tree         import DecisionTreeRegressor\n",
    "\n",
    "from sklearn.metrics import mean_absolute_error, mean_squared_log_error\n",
    "\n",
    "\n",
    "from IPython.display import display\n",
    "\n",
    "#\n",
    "\n",
    "warnings.filterwarnings('ignore')\n",
    "plt.rcParams['figure.figsize'] = [13, 7]\n",
    "np.random.seed(1642)"
   ]
  },
  {
   "cell_type": "markdown",
   "metadata": {},
   "source": [
    "Defining some functions:"
   ]
  },
  {
   "cell_type": "code",
   "execution_count": 3,
   "metadata": {},
   "outputs": [],
   "source": [
    "# constants and functions\n",
    "\n",
    "def var_cleaner(s):\n",
    "    \"\"\"\n",
    "    ('var1, var2, ..., varN') -> None\n",
    "    \"\"\"\n",
    "    trash = list()\n",
    "    miss  = list()\n",
    "    for v in s.replace(' ', '').split(','):\n",
    "        if v in globals():\n",
    "            del globals()[v]\n",
    "            trash.append(v)\n",
    "        else:\n",
    "            miss.append(v)\n",
    "    print('- DELETED:     {}'.format( ', '.join(trash) ))\n",
    "    print('- NOT DEFINED: {}'.format( ', '.join(miss) ))\n",
    "\n",
    "from math import sin, cos, sqrt, atan2, radians\n",
    "def lat_lon_converter(lat1, lon1, lat2, lon2, unit):\n",
    "    \"\"\"\n",
    "    ref: https://stackoverflow.com/questions/19412462/getting-distance-between-two-points-based-on-latitude-longitude\n",
    "    \"\"\"\n",
    "    try:\n",
    "        R = 6373.0\n",
    "        dlon = radians(lon2) - radians(lon1)\n",
    "        dlat = radians(lat2) - radians(lat1)\n",
    "        a = sin(dlat / 2)**2 + cos(lat1) * cos(lat2) * sin(dlon / 2)**2\n",
    "        c = 2 * atan2(sqrt(a), sqrt(1 - a))\n",
    "        distance = R * c\n",
    "\n",
    "        if unit == 'm':\n",
    "            return distance * 10e3\n",
    "        elif unit == 'km':\n",
    "            return distance\n",
    "    except ValueError:\n",
    "        return np.nan\n",
    "\n",
    "    \n",
    "def dbscan_predict(model, X):\n",
    "    \"\"\"\n",
    "    ref: https://stackoverflow.com/questions/27822752/scikit-learn-predicting-new-points-with-dbscan\n",
    "    \"\"\"\n",
    "    nr_samples = X.shape[0]\n",
    "\n",
    "    y_new = np.ones(shape=nr_samples, dtype=int) * -1\n",
    "\n",
    "    for i in range(nr_samples):\n",
    "        diff = model.components_ - X[i, :]   # NumPy broadcasting\n",
    "        dist = np.linalg.norm(diff, axis=1)  # Euclidean distance\n",
    "        shortest_dist_idx = np.argmin(dist)\n",
    "\n",
    "        if dist[shortest_dist_idx] < model.eps:\n",
    "            y_new[i] = model.labels_[model.core_sample_indices_[shortest_dist_idx]]\n",
    "\n",
    "    return y_new\n",
    "\n",
    "\n",
    "import scipy as sp\n",
    "def dbscan_predict2(dbscan_model, X_new, metric=sp.spatial.distance.euclidean):\n",
    "    \"\"\"\n",
    "    ref: https://stackoverflow.com/questions/27822752/scikit-learn-predicting-new-points-with-dbscan\n",
    "    \"\"\"\n",
    "    # Result is noise by default\n",
    "    y_new = np.ones(shape=len(X_new), dtype=int)*-1 \n",
    "\n",
    "    # Iterate all input samples for a label\n",
    "    for j, x_new in enumerate(X_new):\n",
    "        # Find a core sample closer than EPS\n",
    "        for i, x_core in enumerate(dbscan_model.components_): \n",
    "            if metric(x_new, x_core) < dbscan_model.eps:\n",
    "                # Assign label of x_core to x_new\n",
    "                y_new[j] = dbscan_model.labels_[dbscan_model.core_sample_indices_[i]]\n",
    "                break\n",
    "\n",
    "    return y_new"
   ]
  },
  {
   "cell_type": "markdown",
   "metadata": {},
   "source": [
    "# Exploring"
   ]
  },
  {
   "cell_type": "code",
   "execution_count": 4,
   "metadata": {},
   "outputs": [
    {
     "name": "stdout",
     "output_type": "stream",
     "text": [
      "train:  (1458644, 11)\n",
      "test:   (625134, 9)\n"
     ]
    },
    {
     "data": {
      "text/html": [
       "<div>\n",
       "<style scoped>\n",
       "    .dataframe tbody tr th:only-of-type {\n",
       "        vertical-align: middle;\n",
       "    }\n",
       "\n",
       "    .dataframe tbody tr th {\n",
       "        vertical-align: top;\n",
       "    }\n",
       "\n",
       "    .dataframe thead th {\n",
       "        text-align: right;\n",
       "    }\n",
       "</style>\n",
       "<table border=\"1\" class=\"dataframe\">\n",
       "  <thead>\n",
       "    <tr style=\"text-align: right;\">\n",
       "      <th></th>\n",
       "      <th>id</th>\n",
       "      <th>vendor_id</th>\n",
       "      <th>pickup_datetime</th>\n",
       "      <th>dropoff_datetime</th>\n",
       "      <th>passenger_count</th>\n",
       "      <th>pickup_longitude</th>\n",
       "      <th>pickup_latitude</th>\n",
       "      <th>dropoff_longitude</th>\n",
       "      <th>dropoff_latitude</th>\n",
       "      <th>store_and_fwd_flag</th>\n",
       "      <th>trip_duration</th>\n",
       "    </tr>\n",
       "  </thead>\n",
       "  <tbody>\n",
       "    <tr>\n",
       "      <td>0</td>\n",
       "      <td>id2875421</td>\n",
       "      <td>2</td>\n",
       "      <td>2016-03-14 17:24:55</td>\n",
       "      <td>2016-03-14 17:32:30</td>\n",
       "      <td>1</td>\n",
       "      <td>-73.982155</td>\n",
       "      <td>40.767937</td>\n",
       "      <td>-73.964630</td>\n",
       "      <td>40.765602</td>\n",
       "      <td>N</td>\n",
       "      <td>455</td>\n",
       "    </tr>\n",
       "    <tr>\n",
       "      <td>1</td>\n",
       "      <td>id2377394</td>\n",
       "      <td>1</td>\n",
       "      <td>2016-06-12 00:43:35</td>\n",
       "      <td>2016-06-12 00:54:38</td>\n",
       "      <td>1</td>\n",
       "      <td>-73.980415</td>\n",
       "      <td>40.738564</td>\n",
       "      <td>-73.999481</td>\n",
       "      <td>40.731152</td>\n",
       "      <td>N</td>\n",
       "      <td>663</td>\n",
       "    </tr>\n",
       "    <tr>\n",
       "      <td>2</td>\n",
       "      <td>id3858529</td>\n",
       "      <td>2</td>\n",
       "      <td>2016-01-19 11:35:24</td>\n",
       "      <td>2016-01-19 12:10:48</td>\n",
       "      <td>1</td>\n",
       "      <td>-73.979027</td>\n",
       "      <td>40.763939</td>\n",
       "      <td>-74.005333</td>\n",
       "      <td>40.710087</td>\n",
       "      <td>N</td>\n",
       "      <td>2124</td>\n",
       "    </tr>\n",
       "    <tr>\n",
       "      <td>3</td>\n",
       "      <td>id3504673</td>\n",
       "      <td>2</td>\n",
       "      <td>2016-04-06 19:32:31</td>\n",
       "      <td>2016-04-06 19:39:40</td>\n",
       "      <td>1</td>\n",
       "      <td>-74.010040</td>\n",
       "      <td>40.719971</td>\n",
       "      <td>-74.012268</td>\n",
       "      <td>40.706718</td>\n",
       "      <td>N</td>\n",
       "      <td>429</td>\n",
       "    </tr>\n",
       "    <tr>\n",
       "      <td>4</td>\n",
       "      <td>id2181028</td>\n",
       "      <td>2</td>\n",
       "      <td>2016-03-26 13:30:55</td>\n",
       "      <td>2016-03-26 13:38:10</td>\n",
       "      <td>1</td>\n",
       "      <td>-73.973053</td>\n",
       "      <td>40.793209</td>\n",
       "      <td>-73.972923</td>\n",
       "      <td>40.782520</td>\n",
       "      <td>N</td>\n",
       "      <td>435</td>\n",
       "    </tr>\n",
       "  </tbody>\n",
       "</table>\n",
       "</div>"
      ],
      "text/plain": [
       "          id  vendor_id      pickup_datetime     dropoff_datetime  \\\n",
       "0  id2875421          2  2016-03-14 17:24:55  2016-03-14 17:32:30   \n",
       "1  id2377394          1  2016-06-12 00:43:35  2016-06-12 00:54:38   \n",
       "2  id3858529          2  2016-01-19 11:35:24  2016-01-19 12:10:48   \n",
       "3  id3504673          2  2016-04-06 19:32:31  2016-04-06 19:39:40   \n",
       "4  id2181028          2  2016-03-26 13:30:55  2016-03-26 13:38:10   \n",
       "\n",
       "   passenger_count  pickup_longitude  pickup_latitude  dropoff_longitude  \\\n",
       "0                1        -73.982155        40.767937         -73.964630   \n",
       "1                1        -73.980415        40.738564         -73.999481   \n",
       "2                1        -73.979027        40.763939         -74.005333   \n",
       "3                1        -74.010040        40.719971         -74.012268   \n",
       "4                1        -73.973053        40.793209         -73.972923   \n",
       "\n",
       "   dropoff_latitude store_and_fwd_flag  trip_duration  \n",
       "0         40.765602                  N            455  \n",
       "1         40.731152                  N            663  \n",
       "2         40.710087                  N           2124  \n",
       "3         40.706718                  N            429  \n",
       "4         40.782520                  N            435  "
      ]
     },
     "metadata": {},
     "output_type": "display_data"
    },
    {
     "data": {
      "text/html": [
       "<div>\n",
       "<style scoped>\n",
       "    .dataframe tbody tr th:only-of-type {\n",
       "        vertical-align: middle;\n",
       "    }\n",
       "\n",
       "    .dataframe tbody tr th {\n",
       "        vertical-align: top;\n",
       "    }\n",
       "\n",
       "    .dataframe thead th {\n",
       "        text-align: right;\n",
       "    }\n",
       "</style>\n",
       "<table border=\"1\" class=\"dataframe\">\n",
       "  <thead>\n",
       "    <tr style=\"text-align: right;\">\n",
       "      <th></th>\n",
       "      <th>id</th>\n",
       "      <th>vendor_id</th>\n",
       "      <th>pickup_datetime</th>\n",
       "      <th>passenger_count</th>\n",
       "      <th>pickup_longitude</th>\n",
       "      <th>pickup_latitude</th>\n",
       "      <th>dropoff_longitude</th>\n",
       "      <th>dropoff_latitude</th>\n",
       "      <th>store_and_fwd_flag</th>\n",
       "    </tr>\n",
       "  </thead>\n",
       "  <tbody>\n",
       "    <tr>\n",
       "      <td>0</td>\n",
       "      <td>id3004672</td>\n",
       "      <td>1</td>\n",
       "      <td>2016-06-30 23:59:58</td>\n",
       "      <td>1</td>\n",
       "      <td>-73.988129</td>\n",
       "      <td>40.732029</td>\n",
       "      <td>-73.990173</td>\n",
       "      <td>40.756680</td>\n",
       "      <td>N</td>\n",
       "    </tr>\n",
       "    <tr>\n",
       "      <td>1</td>\n",
       "      <td>id3505355</td>\n",
       "      <td>1</td>\n",
       "      <td>2016-06-30 23:59:53</td>\n",
       "      <td>1</td>\n",
       "      <td>-73.964203</td>\n",
       "      <td>40.679993</td>\n",
       "      <td>-73.959808</td>\n",
       "      <td>40.655403</td>\n",
       "      <td>N</td>\n",
       "    </tr>\n",
       "    <tr>\n",
       "      <td>2</td>\n",
       "      <td>id1217141</td>\n",
       "      <td>1</td>\n",
       "      <td>2016-06-30 23:59:47</td>\n",
       "      <td>1</td>\n",
       "      <td>-73.997437</td>\n",
       "      <td>40.737583</td>\n",
       "      <td>-73.986160</td>\n",
       "      <td>40.729523</td>\n",
       "      <td>N</td>\n",
       "    </tr>\n",
       "    <tr>\n",
       "      <td>3</td>\n",
       "      <td>id2150126</td>\n",
       "      <td>2</td>\n",
       "      <td>2016-06-30 23:59:41</td>\n",
       "      <td>1</td>\n",
       "      <td>-73.956070</td>\n",
       "      <td>40.771900</td>\n",
       "      <td>-73.986427</td>\n",
       "      <td>40.730469</td>\n",
       "      <td>N</td>\n",
       "    </tr>\n",
       "    <tr>\n",
       "      <td>4</td>\n",
       "      <td>id1598245</td>\n",
       "      <td>1</td>\n",
       "      <td>2016-06-30 23:59:33</td>\n",
       "      <td>1</td>\n",
       "      <td>-73.970215</td>\n",
       "      <td>40.761475</td>\n",
       "      <td>-73.961510</td>\n",
       "      <td>40.755890</td>\n",
       "      <td>N</td>\n",
       "    </tr>\n",
       "  </tbody>\n",
       "</table>\n",
       "</div>"
      ],
      "text/plain": [
       "          id  vendor_id      pickup_datetime  passenger_count  \\\n",
       "0  id3004672          1  2016-06-30 23:59:58                1   \n",
       "1  id3505355          1  2016-06-30 23:59:53                1   \n",
       "2  id1217141          1  2016-06-30 23:59:47                1   \n",
       "3  id2150126          2  2016-06-30 23:59:41                1   \n",
       "4  id1598245          1  2016-06-30 23:59:33                1   \n",
       "\n",
       "   pickup_longitude  pickup_latitude  dropoff_longitude  dropoff_latitude  \\\n",
       "0        -73.988129        40.732029         -73.990173         40.756680   \n",
       "1        -73.964203        40.679993         -73.959808         40.655403   \n",
       "2        -73.997437        40.737583         -73.986160         40.729523   \n",
       "3        -73.956070        40.771900         -73.986427         40.730469   \n",
       "4        -73.970215        40.761475         -73.961510         40.755890   \n",
       "\n",
       "  store_and_fwd_flag  \n",
       "0                  N  \n",
       "1                  N  \n",
       "2                  N  \n",
       "3                  N  \n",
       "4                  N  "
      ]
     },
     "metadata": {},
     "output_type": "display_data"
    }
   ],
   "source": [
    "df_train = pd.read_csv('/kaggle/input/nyc-taxi-trip-duration/train.csv')\n",
    "df_test  = pd.read_csv('/kaggle/input/nyc-taxi-trip-duration/test.csv')\n",
    "\n",
    "print('train: ', df_train.shape)\n",
    "print('test:  ', df_test.shape)\n",
    "\n",
    "display( df_train.head() )\n",
    "display( df_test.head() )"
   ]
  },
  {
   "cell_type": "code",
   "execution_count": 5,
   "metadata": {},
   "outputs": [
    {
     "data": {
      "text/plain": [
       "{'dropoff_latitude',\n",
       " 'dropoff_longitude',\n",
       " 'passenger_count',\n",
       " 'pickup_datetime',\n",
       " 'pickup_latitude',\n",
       " 'pickup_longitude',\n",
       " 'store_and_fwd_flag',\n",
       " 'vendor_id'}"
      ]
     },
     "metadata": {},
     "output_type": "display_data"
    }
   ],
   "source": [
    "_TARGET      = 'trip_duration'\n",
    "_NON_FEATURE = set(df_train.columns) - set(df_test.columns)\n",
    "_FEATURES    = set(df_train.columns).intersection(set(df_test.columns)) - set(['id'])\n",
    "display(_FEATURES)"
   ]
  },
  {
   "cell_type": "code",
   "execution_count": 6,
   "metadata": {},
   "outputs": [],
   "source": [
    "train = df_train[_FEATURES]"
   ]
  },
  {
   "cell_type": "markdown",
   "metadata": {},
   "source": [
    "## Overview"
   ]
  },
  {
   "cell_type": "code",
   "execution_count": 7,
   "metadata": {},
   "outputs": [
    {
     "name": "stdout",
     "output_type": "stream",
     "text": [
      "<class 'pandas.core.frame.DataFrame'>\n",
      "RangeIndex: 1458644 entries, 0 to 1458643\n",
      "Data columns (total 8 columns):\n",
      "dropoff_longitude     1458644 non-null float64\n",
      "pickup_longitude      1458644 non-null float64\n",
      "store_and_fwd_flag    1458644 non-null object\n",
      "passenger_count       1458644 non-null int64\n",
      "pickup_datetime       1458644 non-null object\n",
      "dropoff_latitude      1458644 non-null float64\n",
      "pickup_latitude       1458644 non-null float64\n",
      "vendor_id             1458644 non-null int64\n",
      "dtypes: float64(4), int64(2), object(2)\n",
      "memory usage: 89.0+ MB\n"
     ]
    }
   ],
   "source": [
    "train.info()"
   ]
  },
  {
   "cell_type": "code",
   "execution_count": 8,
   "metadata": {},
   "outputs": [
    {
     "data": {
      "text/html": [
       "<div>\n",
       "<style scoped>\n",
       "    .dataframe tbody tr th:only-of-type {\n",
       "        vertical-align: middle;\n",
       "    }\n",
       "\n",
       "    .dataframe tbody tr th {\n",
       "        vertical-align: top;\n",
       "    }\n",
       "\n",
       "    .dataframe thead th {\n",
       "        text-align: right;\n",
       "    }\n",
       "</style>\n",
       "<table border=\"1\" class=\"dataframe\">\n",
       "  <thead>\n",
       "    <tr style=\"text-align: right;\">\n",
       "      <th></th>\n",
       "      <th>dropoff_longitude</th>\n",
       "      <th>pickup_longitude</th>\n",
       "      <th>passenger_count</th>\n",
       "      <th>dropoff_latitude</th>\n",
       "      <th>pickup_latitude</th>\n",
       "      <th>vendor_id</th>\n",
       "    </tr>\n",
       "  </thead>\n",
       "  <tbody>\n",
       "    <tr>\n",
       "      <td>count</td>\n",
       "      <td>1458644.000</td>\n",
       "      <td>1458644.000</td>\n",
       "      <td>1458644.000</td>\n",
       "      <td>1458644.000</td>\n",
       "      <td>1458644.000</td>\n",
       "      <td>1458644.000</td>\n",
       "    </tr>\n",
       "    <tr>\n",
       "      <td>mean</td>\n",
       "      <td>-73.973</td>\n",
       "      <td>-73.973</td>\n",
       "      <td>1.665</td>\n",
       "      <td>40.752</td>\n",
       "      <td>40.751</td>\n",
       "      <td>1.535</td>\n",
       "    </tr>\n",
       "    <tr>\n",
       "      <td>std</td>\n",
       "      <td>0.071</td>\n",
       "      <td>0.071</td>\n",
       "      <td>1.314</td>\n",
       "      <td>0.036</td>\n",
       "      <td>0.033</td>\n",
       "      <td>0.499</td>\n",
       "    </tr>\n",
       "    <tr>\n",
       "      <td>min</td>\n",
       "      <td>-121.933</td>\n",
       "      <td>-121.933</td>\n",
       "      <td>0.000</td>\n",
       "      <td>32.181</td>\n",
       "      <td>34.360</td>\n",
       "      <td>1.000</td>\n",
       "    </tr>\n",
       "    <tr>\n",
       "      <td>25%</td>\n",
       "      <td>-73.991</td>\n",
       "      <td>-73.992</td>\n",
       "      <td>1.000</td>\n",
       "      <td>40.736</td>\n",
       "      <td>40.737</td>\n",
       "      <td>1.000</td>\n",
       "    </tr>\n",
       "    <tr>\n",
       "      <td>50%</td>\n",
       "      <td>-73.980</td>\n",
       "      <td>-73.982</td>\n",
       "      <td>1.000</td>\n",
       "      <td>40.755</td>\n",
       "      <td>40.754</td>\n",
       "      <td>2.000</td>\n",
       "    </tr>\n",
       "    <tr>\n",
       "      <td>75%</td>\n",
       "      <td>-73.963</td>\n",
       "      <td>-73.967</td>\n",
       "      <td>2.000</td>\n",
       "      <td>40.770</td>\n",
       "      <td>40.768</td>\n",
       "      <td>2.000</td>\n",
       "    </tr>\n",
       "    <tr>\n",
       "      <td>max</td>\n",
       "      <td>-61.336</td>\n",
       "      <td>-61.336</td>\n",
       "      <td>9.000</td>\n",
       "      <td>43.921</td>\n",
       "      <td>51.881</td>\n",
       "      <td>2.000</td>\n",
       "    </tr>\n",
       "  </tbody>\n",
       "</table>\n",
       "</div>"
      ],
      "text/plain": [
       "      dropoff_longitude pickup_longitude passenger_count dropoff_latitude  \\\n",
       "count       1458644.000      1458644.000     1458644.000      1458644.000   \n",
       "mean            -73.973          -73.973           1.665           40.752   \n",
       "std               0.071            0.071           1.314            0.036   \n",
       "min            -121.933         -121.933           0.000           32.181   \n",
       "25%             -73.991          -73.992           1.000           40.736   \n",
       "50%             -73.980          -73.982           1.000           40.755   \n",
       "75%             -73.963          -73.967           2.000           40.770   \n",
       "max             -61.336          -61.336           9.000           43.921   \n",
       "\n",
       "      pickup_latitude    vendor_id  \n",
       "count     1458644.000  1458644.000  \n",
       "mean           40.751        1.535  \n",
       "std             0.033        0.499  \n",
       "min            34.360        1.000  \n",
       "25%            40.737        1.000  \n",
       "50%            40.754        2.000  \n",
       "75%            40.768        2.000  \n",
       "max            51.881        2.000  "
      ]
     },
     "execution_count": 8,
     "metadata": {},
     "output_type": "execute_result"
    }
   ],
   "source": [
    "train.describe().apply( lambda s: s.apply( lambda x: format(x, '.3f') ) )"
   ]
  },
  {
   "cell_type": "code",
   "execution_count": 9,
   "metadata": {},
   "outputs": [
    {
     "data": {
      "image/png": "[encoded data removed]",
      "text/plain": [
       "<Figure size 936x504 with 6 Axes>"
      ]
     },
     "metadata": {
      "needs_background": "light"
     },
     "output_type": "display_data"
    }
   ],
   "source": [
    "# scatter_matrix(train[train.dtypes[train.dtypes != object].index].sample(frac=0.005), diagonal='kde'); it doesnt bring any insight\n",
    "train[train.dtypes[train.dtypes != object].index].hist(bins=75, grid='off');"
   ]
  },
  {
   "cell_type": "markdown",
   "metadata": {},
   "source": [
    "## Dealing with outliers"
   ]
  },
  {
   "cell_type": "code",
   "execution_count": 10,
   "metadata": {},
   "outputs": [],
   "source": [
    "_FILTER_OBJECT = train.dtypes[train.dtypes != object].index"
   ]
  },
  {
   "cell_type": "code",
   "execution_count": 11,
   "metadata": {},
   "outputs": [],
   "source": [
    "for _col in _FILTER_OBJECT:\n",
    "    #train['{}_quantile'.format(_col)] = pd.qcut(train[_col], 10, labels=False, duplicates='drop')\n",
    "    _std  = train[_col].std()\n",
    "    _mean = train[_col].mean()\n",
    "    train['{}_outlier'.format(_col)] = train[_col].apply( lambda x: True if ( abs(x) > abs(_mean + 1.5*_std) ) else False)"
   ]
  },
  {
   "cell_type": "code",
   "execution_count": 12,
   "metadata": {},
   "outputs": [],
   "source": [
    "# train[train['trip_duration_outlier'] == False].hist(column = 'trip_duration', \n",
    "#                                                     by     = 'passenger_count',\n",
    "#                                                     bins   = 50, grid='off', alpha = 0.5)\n",
    "# plt.title('Trip Duration Distributions per Passenger Count')\n",
    "# plt.legend();"
   ]
  },
  {
   "cell_type": "markdown",
   "metadata": {},
   "source": [
    "<s>Binning trip duration:</s>"
   ]
  },
  {
   "cell_type": "code",
   "execution_count": 13,
   "metadata": {},
   "outputs": [],
   "source": [
    "# _TRIP_BINS = [0.0, 300.0, 600.0, np.inf]\n",
    "# train['trip_duration_cat'] = pd.cut( train['trip_duration'],\n",
    "#                                      bins   = _TRIP_BINS,\n",
    "#                                      labels = [i for i in range(len(_TRIP_BINS)-1)])\n",
    "# train['trip_duration_cat'].value_counts(normalize=True).sort_index()"
   ]
  },
  {
   "cell_type": "markdown",
   "metadata": {},
   "source": [
    "## Geographical data"
   ]
  },
  {
   "cell_type": "code",
   "execution_count": 14,
   "metadata": {},
   "outputs": [],
   "source": [
    "_FILTER = (train['dropoff_latitude_outlier'] == False) & (train['dropoff_longitude_outlier'] == False)\n",
    "# display( train['dropoff_longitude_outlier'].value_counts() )\n",
    "# display( train['dropoff_latitude_outlier'].value_counts() )\n",
    "# display( (_FILTER).value_counts() )"
   ]
  },
  {
   "cell_type": "code",
   "execution_count": 15,
   "metadata": {},
   "outputs": [
    {
     "data": {
      "image/png": "[encoded data removed]",
      "text/plain": [
       "<Figure size 936x504 with 1 Axes>"
      ]
     },
     "metadata": {
      "needs_background": "light"
     },
     "output_type": "display_data"
    }
   ],
   "source": [
    "_p = train[_FILTER].plot(kind='scatter', x='pickup_longitude', y='pickup_latitude', alpha=0.25, color='b', label='pickup')\n",
    "train[_FILTER].plot(kind='scatter', x='dropoff_longitude', y='dropoff_latitude', alpha=0.25, color='r', label='dropoff', ax=_p)\n",
    "plt.legend();"
   ]
  },
  {
   "cell_type": "markdown",
   "metadata": {},
   "source": [
    "- - -\n",
    "\n",
    "# Model"
   ]
  },
  {
   "cell_type": "code",
   "execution_count": 79,
   "metadata": {},
   "outputs": [
    {
     "name": "stdout",
     "output_type": "stream",
     "text": [
      "- DELETED:     df_train, df_test, _TARGET, _NON_FEATURE, _FEATURES, train\n",
      "- NOT DEFINED: \n",
      "train:  (1458644, 11)\n",
      "test:   (625134, 9)\n"
     ]
    },
    {
     "data": {
      "text/plain": [
       "{'dropoff_latitude',\n",
       " 'dropoff_longitude',\n",
       " 'passenger_count',\n",
       " 'pickup_datetime',\n",
       " 'pickup_latitude',\n",
       " 'pickup_longitude',\n",
       " 'store_and_fwd_flag'}"
      ]
     },
     "metadata": {},
     "output_type": "display_data"
    }
   ],
   "source": [
    "var_cleaner('df_train,  df_test, _TARGET, _NON_FEATURE, _FEATURES, train')\n",
    "\n",
    "#\n",
    "\n",
    "df_train = pd.read_csv('/kaggle/input/nyc-taxi-trip-duration/train.csv')\n",
    "df_test  = pd.read_csv('/kaggle/input/nyc-taxi-trip-duration/test.csv')\n",
    "\n",
    "print('train: ', df_train.shape)\n",
    "print('test:  ', df_test.shape)\n",
    "\n",
    "_TARGET      = 'trip_duration'\n",
    "_NON_FEATURE = set(df_train.columns) - set(df_test.columns)\n",
    "_FEATURES    = set(df_train.columns).intersection(set(df_test.columns)) - set(['id', 'vendor_id'])\n",
    "train = df_train[_FEATURES]\n",
    "test  = df_test[_FEATURES]\n",
    "\n",
    "display(_FEATURES)"
   ]
  },
  {
   "cell_type": "markdown",
   "metadata": {},
   "source": [
    "## Simple Feature Engineering"
   ]
  },
  {
   "cell_type": "markdown",
   "metadata": {},
   "source": [
    "### Clustering"
   ]
  },
  {
   "cell_type": "code",
   "execution_count": 17,
   "metadata": {},
   "outputs": [],
   "source": [
    "_sample = train[_FILTER].sample(3000, random_state=159)[['pickup_longitude', 'pickup_latitude']]"
   ]
  },
  {
   "cell_type": "markdown",
   "metadata": {},
   "source": [
    "#### Kmeans"
   ]
  },
  {
   "cell_type": "code",
   "execution_count": 18,
   "metadata": {},
   "outputs": [
    {
     "data": {
      "text/plain": [
       "array([[-73.97455237,  40.7635236 ],\n",
       "       [-73.78526444,  40.6493026 ],\n",
       "       [-73.87107649,  40.76201433],\n",
       "       [-73.99441015,  40.72700273],\n",
       "       [-73.4761076 ,  40.73979664]])"
      ]
     },
     "metadata": {},
     "output_type": "display_data"
    },
    {
     "data": {
      "image/png": "[encoded data removed]",
      "text/plain": [
       "<Figure size 936x504 with 1 Axes>"
      ]
     },
     "metadata": {
      "needs_background": "light"
     },
     "output_type": "display_data"
    }
   ],
   "source": [
    "kmeans = KMeans(n_clusters=5, random_state=51).fit(_sample)\n",
    "\n",
    "display(kmeans.cluster_centers_)\n",
    "_p = _sample.plot(kind='scatter', x='pickup_longitude', y='pickup_latitude', alpha=0.25, color='b', label='pickup')\n",
    "_p.scatter(x=kmeans.cluster_centers_[:,0],y=kmeans.cluster_centers_[:,1], marker='o', color='g', s=150);"
   ]
  },
  {
   "cell_type": "markdown",
   "metadata": {},
   "source": [
    "#### DBSCAN"
   ]
  },
  {
   "cell_type": "code",
   "execution_count": 19,
   "metadata": {},
   "outputs": [
    {
     "name": "stdout",
     "output_type": "stream",
     "text": [
      "Estimated number of clusters:     7\n",
      "Estimated number of noise points: 178\n",
      "Silhouette Coefficient:           0.397\n"
     ]
    }
   ],
   "source": [
    "dbscan = DBSCAN(eps=0.01, min_samples=15).fit(_sample)\n",
    "\n",
    "core_samples_mask = np.zeros_like( dbscan.labels_, dtype=bool )\n",
    "core_samples_mask[dbscan.core_sample_indices_] = True\n",
    "labels = dbscan.labels_\n",
    "\n",
    "n_clusters_ = len(set(labels)) - (1 if -1 in labels else 0)\n",
    "n_noise_    = list(labels).count(-1)\n",
    "\n",
    "print('Estimated number of clusters:     %d'    % n_clusters_)\n",
    "print('Estimated number of noise points: %d'    % n_noise_)\n",
    "# print(\"Homogeneity:                      %0.3f\" % metrics.homogeneity_score(labels_true, labels))\n",
    "# print(\"Completeness:                     %0.3f\" % metrics.completeness_score(labels_true, labels))\n",
    "# print(\"V-measure:                        %0.3f\" % metrics.v_measure_score(labels_true, labels))\n",
    "# print(\"Adjusted Rand Index:              %0.3f\" % metrics.adjusted_rand_score(labels_true, labels))\n",
    "# print(\"Adjusted Mutual Information:      %0.3f\" % metrics.adjusted_mutual_info_score(labels_true, labels, average_method='arithmetic'))\n",
    "print(\"Silhouette Coefficient:           %0.3f\" % metrics.silhouette_score(_sample[['pickup_longitude', 'pickup_latitude']], labels))\n",
    "\n",
    "#\n",
    "\n",
    "unique_labels = set(labels)\n",
    "colors        = [plt.cm.Spectral(each) for each in np.linspace(0, 1, len(unique_labels))]"
   ]
  },
  {
   "cell_type": "code",
   "execution_count": 20,
   "metadata": {},
   "outputs": [
    {
     "data": {
      "image/png": "[encoded data removed]",
      "text/plain": [
       "<Figure size 936x504 with 1 Axes>"
      ]
     },
     "metadata": {
      "needs_background": "light"
     },
     "output_type": "display_data"
    }
   ],
   "source": [
    "for k, col in zip(unique_labels, colors):\n",
    "    if k == -1:\n",
    "        col = [0, 0, 0, 1] # Black used for noise.\n",
    "\n",
    "    class_member_mask = (labels == k)\n",
    "\n",
    "    xy = _sample[class_member_mask & core_samples_mask].as_matrix()\n",
    "    plt.plot(xy[:, 0], xy[:, 1], 'o', markerfacecolor=tuple(col), markeredgecolor='k', markersize=14)\n",
    "\n",
    "    xy = _sample[class_member_mask & ~core_samples_mask].as_matrix()\n",
    "    plt.plot(xy[:, 0], xy[:, 1], 'o', markerfacecolor=tuple(col), markeredgecolor='k', markersize=6)\n",
    "\n",
    "plt.title('Estimated number of clusters: %d' % n_clusters_)\n",
    "plt.show()"
   ]
  },
  {
   "cell_type": "markdown",
   "metadata": {},
   "source": [
    "Predicting all observations:"
   ]
  },
  {
   "cell_type": "code",
   "execution_count": 21,
   "metadata": {},
   "outputs": [],
   "source": [
    "train['db_predict']     = dbscan_predict(dbscan, train[['pickup_longitude', 'pickup_latitude']].as_matrix())\n",
    "train['kmeans_predict'] = kmeans.predict(train[['pickup_longitude', 'pickup_latitude']])"
   ]
  },
  {
   "cell_type": "code",
   "execution_count": 22,
   "metadata": {},
   "outputs": [
    {
     "data": {
      "text/plain": [
       "-1      38437\n",
       " 0    1334849\n",
       " 1      37124\n",
       " 2      31775\n",
       " 3       4349\n",
       " 4        253\n",
       " 5       3945\n",
       " 6       7912\n",
       "Name: db_predict, dtype: int64"
      ]
     },
     "metadata": {},
     "output_type": "display_data"
    },
    {
     "data": {
      "text/plain": [
       "0    864143\n",
       "1     33179\n",
       "2     46142\n",
       "3    515083\n",
       "4        97\n",
       "Name: kmeans_predict, dtype: int64"
      ]
     },
     "metadata": {},
     "output_type": "display_data"
    }
   ],
   "source": [
    "display( train['db_predict'].value_counts().sort_index() )\n",
    "display( train['kmeans_predict'].value_counts().sort_index() )"
   ]
  },
  {
   "cell_type": "code",
   "execution_count": 23,
   "metadata": {},
   "outputs": [
    {
     "data": {
      "image/png": "[encoded data removed]",
      "text/plain": [
       "<Figure size 936x504 with 2 Axes>"
      ]
     },
     "metadata": {
      "needs_background": "light"
     },
     "output_type": "display_data"
    },
    {
     "data": {
      "image/png": "[encoded data removed]",
      "text/plain": [
       "<Figure size 936x504 with 2 Axes>"
      ]
     },
     "metadata": {
      "needs_background": "light"
     },
     "output_type": "display_data"
    }
   ],
   "source": [
    "train.plot(kind='scatter', x='pickup_longitude', y='pickup_latitude', c='db_predict', cmap=plt.get_cmap('jet'));\n",
    "train.plot(kind='scatter', x='pickup_longitude', y='pickup_latitude', c='kmeans_predict', cmap=plt.get_cmap('jet'));"
   ]
  },
  {
   "cell_type": "markdown",
   "metadata": {},
   "source": [
    "### Additional feature combination"
   ]
  },
  {
   "cell_type": "code",
   "execution_count": 24,
   "metadata": {},
   "outputs": [],
   "source": [
    "train['lon_lat_manhattan']    = abs(train['dropoff_longitude']-train['pickup_longitude']) + abs(train['dropoff_latitude']-train['pickup_latitude'])\n",
    "train['dist_manhattan_meter'] = train.apply( lambda x: lat_lon_converter(x['pickup_latitude'], \n",
    "                                                                         x['pickup_longitude'],\n",
    "                                                                         x['dropoff_latitude'], \n",
    "                                                                         x['dropoff_longitude'],\n",
    "                                                                         'm'), axis=1 )"
   ]
  },
  {
   "cell_type": "code",
   "execution_count": 25,
   "metadata": {},
   "outputs": [],
   "source": [
    "#train['pickup_dt']   = train['pickup_datetime'].apply( lambda x: datetime.datetime.strptime(x, '%Y-%m-%d %H:%M:%S'))\n",
    "#train['dropoff_dt']  = train['dropoff_datetime'].apply( lambda x: datetime.datetime.strptime(x, '%Y-%m-%d %H:%M:%S'))\n",
    "train['pickup_dt']    = pd.to_datetime(train['pickup_datetime'], format='%Y-%m-%d %H:%M:%S', errors='ignore')\n",
    "# train['dropoff_dt'] = pd.to_datetime(train['dropoff_datetime'], format='%Y-%m-%d %H:%M:%S', errors='ignore')\n",
    "# train['delta_time'] = (train['dropoff_dt'] - train['pickup_dt']).dt.total_seconds()\n",
    "\n",
    "# train[['pickup_dt', 'pickup_datetime']]"
   ]
  },
  {
   "cell_type": "code",
   "execution_count": 26,
   "metadata": {},
   "outputs": [],
   "source": [
    "train['pick_minute']     = train['pickup_dt'].dt.minute\n",
    "train['pick_hour']       = train['pickup_dt'].dt.hour\n",
    "train['pick_day']        = train['pickup_dt'].dt.day\n",
    "train['pick_month']      = train['pickup_dt'].dt.month\n",
    "train['pick_year']       = train['pickup_dt'].dt.year\n",
    "train['pick_quarter']    = train['pickup_dt'].dt.quarter\n",
    "train['pick_weekofyear'] = train['pickup_dt'].dt.weekofyear"
   ]
  },
  {
   "cell_type": "code",
   "execution_count": 27,
   "metadata": {},
   "outputs": [],
   "source": [
    "# train['avg_speed']           = train['dist_manhattan_meter'] / train['delta_time']\n",
    "# train['dist_per_passenger']  = train['dist_manhattan_meter'] / train['passenger_count']\n",
    "# train['speed_per_passenger'] = train['avg_speed'] / train['passenger_count']"
   ]
  },
  {
   "cell_type": "markdown",
   "metadata": {},
   "source": [
    "## Data Cleaning"
   ]
  },
  {
   "cell_type": "code",
   "execution_count": 28,
   "metadata": {},
   "outputs": [
    {
     "data": {
      "text/html": [
       "<div>\n",
       "<style scoped>\n",
       "    .dataframe tbody tr th:only-of-type {\n",
       "        vertical-align: middle;\n",
       "    }\n",
       "\n",
       "    .dataframe tbody tr th {\n",
       "        vertical-align: top;\n",
       "    }\n",
       "\n",
       "    .dataframe thead th {\n",
       "        text-align: right;\n",
       "    }\n",
       "</style>\n",
       "<table border=\"1\" class=\"dataframe\">\n",
       "  <thead>\n",
       "    <tr style=\"text-align: right;\">\n",
       "      <th></th>\n",
       "      <th>dropoff_longitude</th>\n",
       "      <th>passenger_count</th>\n",
       "      <th>db_predict</th>\n",
       "      <th>pick_quarter</th>\n",
       "      <th>lon_lat_manhattan</th>\n",
       "      <th>dist_manhattan_meter</th>\n",
       "      <th>pick_month</th>\n",
       "      <th>pick_year</th>\n",
       "      <th>pick_minute</th>\n",
       "      <th>pickup_latitude</th>\n",
       "      <th>pick_weekofyear</th>\n",
       "      <th>pickup_longitude</th>\n",
       "      <th>dropoff_latitude</th>\n",
       "      <th>pick_hour</th>\n",
       "      <th>pick_day</th>\n",
       "    </tr>\n",
       "  </thead>\n",
       "  <tbody>\n",
       "    <tr>\n",
       "      <td>count</td>\n",
       "      <td>1458644.000</td>\n",
       "      <td>1458644.000</td>\n",
       "      <td>1458644.000</td>\n",
       "      <td>1458644.000</td>\n",
       "      <td>1458644.000</td>\n",
       "      <td>1458641.000</td>\n",
       "      <td>1458644.000</td>\n",
       "      <td>1458644.000</td>\n",
       "      <td>1458644.000</td>\n",
       "      <td>1458644.000</td>\n",
       "      <td>1458644.000</td>\n",
       "      <td>1458644.000</td>\n",
       "      <td>1458644.000</td>\n",
       "      <td>1458644.000</td>\n",
       "      <td>1458644.000</td>\n",
       "    </tr>\n",
       "    <tr>\n",
       "      <td>mean</td>\n",
       "      <td>-73.973</td>\n",
       "      <td>1.665</td>\n",
       "      <td>0.098</td>\n",
       "      <td>1.504</td>\n",
       "      <td>0.046</td>\n",
       "      <td>39313.599</td>\n",
       "      <td>3.517</td>\n",
       "      <td>2016.000</td>\n",
       "      <td>29.590</td>\n",
       "      <td>40.751</td>\n",
       "      <td>13.840</td>\n",
       "      <td>-73.973</td>\n",
       "      <td>40.752</td>\n",
       "      <td>13.606</td>\n",
       "      <td>15.504</td>\n",
       "    </tr>\n",
       "    <tr>\n",
       "      <td>std</td>\n",
       "      <td>0.071</td>\n",
       "      <td>1.314</td>\n",
       "      <td>0.649</td>\n",
       "      <td>0.500</td>\n",
       "      <td>0.060</td>\n",
       "      <td>49359.235</td>\n",
       "      <td>1.681</td>\n",
       "      <td>0.000</td>\n",
       "      <td>17.325</td>\n",
       "      <td>0.033</td>\n",
       "      <td>8.565</td>\n",
       "      <td>0.071</td>\n",
       "      <td>0.036</td>\n",
       "      <td>6.400</td>\n",
       "      <td>8.703</td>\n",
       "    </tr>\n",
       "    <tr>\n",
       "      <td>min</td>\n",
       "      <td>-121.933</td>\n",
       "      <td>0.000</td>\n",
       "      <td>-1.000</td>\n",
       "      <td>1.000</td>\n",
       "      <td>0.000</td>\n",
       "      <td>0.000</td>\n",
       "      <td>1.000</td>\n",
       "      <td>2016.000</td>\n",
       "      <td>0.000</td>\n",
       "      <td>34.360</td>\n",
       "      <td>1.000</td>\n",
       "      <td>-121.933</td>\n",
       "      <td>32.181</td>\n",
       "      <td>0.000</td>\n",
       "      <td>1.000</td>\n",
       "    </tr>\n",
       "    <tr>\n",
       "      <td>25%</td>\n",
       "      <td>-73.991</td>\n",
       "      <td>1.000</td>\n",
       "      <td>0.000</td>\n",
       "      <td>1.000</td>\n",
       "      <td>0.016</td>\n",
       "      <td>13969.256</td>\n",
       "      <td>2.000</td>\n",
       "      <td>2016.000</td>\n",
       "      <td>15.000</td>\n",
       "      <td>40.737</td>\n",
       "      <td>7.000</td>\n",
       "      <td>-73.992</td>\n",
       "      <td>40.736</td>\n",
       "      <td>9.000</td>\n",
       "      <td>8.000</td>\n",
       "    </tr>\n",
       "    <tr>\n",
       "      <td>50%</td>\n",
       "      <td>-73.980</td>\n",
       "      <td>1.000</td>\n",
       "      <td>0.000</td>\n",
       "      <td>2.000</td>\n",
       "      <td>0.027</td>\n",
       "      <td>23556.726</td>\n",
       "      <td>4.000</td>\n",
       "      <td>2016.000</td>\n",
       "      <td>30.000</td>\n",
       "      <td>40.754</td>\n",
       "      <td>13.000</td>\n",
       "      <td>-73.982</td>\n",
       "      <td>40.755</td>\n",
       "      <td>14.000</td>\n",
       "      <td>15.000</td>\n",
       "    </tr>\n",
       "    <tr>\n",
       "      <td>75%</td>\n",
       "      <td>-73.963</td>\n",
       "      <td>2.000</td>\n",
       "      <td>0.000</td>\n",
       "      <td>2.000</td>\n",
       "      <td>0.050</td>\n",
       "      <td>42646.922</td>\n",
       "      <td>5.000</td>\n",
       "      <td>2016.000</td>\n",
       "      <td>45.000</td>\n",
       "      <td>40.768</td>\n",
       "      <td>20.000</td>\n",
       "      <td>-73.967</td>\n",
       "      <td>40.770</td>\n",
       "      <td>19.000</td>\n",
       "      <td>23.000</td>\n",
       "    </tr>\n",
       "    <tr>\n",
       "      <td>max</td>\n",
       "      <td>-61.336</td>\n",
       "      <td>9.000</td>\n",
       "      <td>6.000</td>\n",
       "      <td>2.000</td>\n",
       "      <td>12.908</td>\n",
       "      <td>12383530.284</td>\n",
       "      <td>6.000</td>\n",
       "      <td>2016.000</td>\n",
       "      <td>59.000</td>\n",
       "      <td>51.881</td>\n",
       "      <td>53.000</td>\n",
       "      <td>-61.336</td>\n",
       "      <td>43.921</td>\n",
       "      <td>23.000</td>\n",
       "      <td>31.000</td>\n",
       "    </tr>\n",
       "  </tbody>\n",
       "</table>\n",
       "</div>"
      ],
      "text/plain": [
       "      dropoff_longitude passenger_count   db_predict pick_quarter  \\\n",
       "count       1458644.000     1458644.000  1458644.000  1458644.000   \n",
       "mean            -73.973           1.665        0.098        1.504   \n",
       "std               0.071           1.314        0.649        0.500   \n",
       "min            -121.933           0.000       -1.000        1.000   \n",
       "25%             -73.991           1.000        0.000        1.000   \n",
       "50%             -73.980           1.000        0.000        2.000   \n",
       "75%             -73.963           2.000        0.000        2.000   \n",
       "max             -61.336           9.000        6.000        2.000   \n",
       "\n",
       "      lon_lat_manhattan dist_manhattan_meter   pick_month    pick_year  \\\n",
       "count       1458644.000          1458641.000  1458644.000  1458644.000   \n",
       "mean              0.046            39313.599        3.517     2016.000   \n",
       "std               0.060            49359.235        1.681        0.000   \n",
       "min               0.000                0.000        1.000     2016.000   \n",
       "25%               0.016            13969.256        2.000     2016.000   \n",
       "50%               0.027            23556.726        4.000     2016.000   \n",
       "75%               0.050            42646.922        5.000     2016.000   \n",
       "max              12.908         12383530.284        6.000     2016.000   \n",
       "\n",
       "       pick_minute pickup_latitude pick_weekofyear pickup_longitude  \\\n",
       "count  1458644.000     1458644.000     1458644.000      1458644.000   \n",
       "mean        29.590          40.751          13.840          -73.973   \n",
       "std         17.325           0.033           8.565            0.071   \n",
       "min          0.000          34.360           1.000         -121.933   \n",
       "25%         15.000          40.737           7.000          -73.992   \n",
       "50%         30.000          40.754          13.000          -73.982   \n",
       "75%         45.000          40.768          20.000          -73.967   \n",
       "max         59.000          51.881          53.000          -61.336   \n",
       "\n",
       "      dropoff_latitude    pick_hour     pick_day  \n",
       "count      1458644.000  1458644.000  1458644.000  \n",
       "mean            40.752       13.606       15.504  \n",
       "std              0.036        6.400        8.703  \n",
       "min             32.181        0.000        1.000  \n",
       "25%             40.736        9.000        8.000  \n",
       "50%             40.755       14.000       15.000  \n",
       "75%             40.770       19.000       23.000  \n",
       "max             43.921       23.000       31.000  "
      ]
     },
     "execution_count": 28,
     "metadata": {},
     "output_type": "execute_result"
    }
   ],
   "source": [
    "# _FILTER_NUM = set(train.dtypes[(train.dtypes != np.dtype('object')) & (train.dtypes != np.dtype('<M8[ns]'))].index.to_list())\n",
    "_FILTER_INT    = set(train.dtypes[(train.dtypes == np.dtype('int64'))].index.to_list())\n",
    "_FILTER_FLOAT  = set(train.dtypes[(train.dtypes == np.dtype('float64'))].index.to_list())\n",
    "_FILTER_CAT    = set(train.dtypes[(train.dtypes == np.dtype('object'))].index.to_list())\n",
    "_FILTER_DT     = set(train.dtypes[(train.dtypes == np.dtype('<M8[ns]'))].index.to_list())\n",
    "\n",
    "train[ _FILTER_INT.union(_FILTER_FLOAT).union(_FILTER_CAT).union(_FILTER_DT) ].describe().apply( lambda s: s.apply( lambda x: format(x, '.3f') ) )"
   ]
  },
  {
   "cell_type": "code",
   "execution_count": 29,
   "metadata": {},
   "outputs": [],
   "source": [
    "# train['dist_per_passenger']  = train['dist_per_passenger'].replace([np.inf, -np.inf], np.nan)\n",
    "# train['speed_per_passenger'] = train['speed_per_passenger'].replace([np.inf, -np.inf], np.nan)"
   ]
  },
  {
   "cell_type": "code",
   "execution_count": 30,
   "metadata": {},
   "outputs": [
    {
     "data": {
      "text/plain": [
       "{'db_predict',\n",
       " 'passenger_count',\n",
       " 'pick_day',\n",
       " 'pick_hour',\n",
       " 'pick_minute',\n",
       " 'pick_month',\n",
       " 'pick_quarter',\n",
       " 'pick_weekofyear',\n",
       " 'pick_year'}"
      ]
     },
     "metadata": {},
     "output_type": "display_data"
    },
    {
     "data": {
      "text/plain": [
       "{'dist_manhattan_meter',\n",
       " 'dropoff_latitude',\n",
       " 'dropoff_longitude',\n",
       " 'lon_lat_manhattan',\n",
       " 'pickup_latitude',\n",
       " 'pickup_longitude'}"
      ]
     },
     "metadata": {},
     "output_type": "display_data"
    },
    {
     "data": {
      "text/plain": [
       "{'pickup_datetime', 'store_and_fwd_flag'}"
      ]
     },
     "metadata": {},
     "output_type": "display_data"
    },
    {
     "data": {
      "text/plain": [
       "{'pickup_dt'}"
      ]
     },
     "metadata": {},
     "output_type": "display_data"
    }
   ],
   "source": [
    "display(_FILTER_INT)\n",
    "display(_FILTER_FLOAT)\n",
    "display(_FILTER_CAT)\n",
    "display(_FILTER_DT)"
   ]
  },
  {
   "cell_type": "code",
   "execution_count": 31,
   "metadata": {},
   "outputs": [],
   "source": [
    "_FILTER_CAT = _FILTER_CAT - {'pickup_datetime'}"
   ]
  },
  {
   "cell_type": "code",
   "execution_count": 32,
   "metadata": {},
   "outputs": [],
   "source": [
    "# imputer = SimpleImputer(strategy='median')\n",
    "# imputer.fit(train[(_FILTER_OBJECT)])\n",
    "# X = imputer.transform(train[_FILTER_OBJECT])\n",
    "# train_tr = pd.DataFrame(X, columns=train[(_FILTER_OBJECT)].columns)\n",
    "int_pipeline = Pipeline([ ('imputer', SimpleImputer(strategy=\"constant\", fill_value=-1))])\n",
    "\n",
    "float_pipeline = Pipeline([ ('imputer', SimpleImputer(strategy=\"median\")),\n",
    "                          ('std_scaler', StandardScaler())\n",
    "                        ])"
   ]
  },
  {
   "cell_type": "raw",
   "metadata": {},
   "source": []
  },
  {
   "cell_type": "code",
   "execution_count": 36,
   "metadata": {},
   "outputs": [],
   "source": [
    "full_pipeline = ColumnTransformer([\n",
    "                 ('int',   int_pipeline,    list(_FILTER_INT)),\n",
    "                 ('float', float_pipeline,  list(_FILTER_FLOAT)),\n",
    "                 ('cat',   OneHotEncoder(), list(_FILTER_CAT))\n",
    "                 ])\n",
    "\n",
    "d"
   ]
  },
  {
   "cell_type": "markdown",
   "metadata": {},
   "source": [
    "## Train & Test"
   ]
  },
  {
   "cell_type": "code",
   "execution_count": 53,
   "metadata": {},
   "outputs": [
    {
     "data": {
      "text/plain": [
       "0    0.152139\n",
       "1    0.295478\n",
       "2    0.552384\n",
       "Name: trip_duration_cat, dtype: float64"
      ]
     },
     "execution_count": 53,
     "metadata": {},
     "output_type": "execute_result"
    }
   ],
   "source": [
    "train_y['trip_duration'] = train_y['trip_duration'].mask(train_y['trip_duration'].lt(0), 0)\n",
    "_TRIP_BINS = [0.0, 300.0, 600.0, np.inf]\n",
    "train_y['trip_duration_cat'] = pd.cut( train_y['trip_duration'],\n",
    "                                     bins   = _TRIP_BINS,\n",
    "                                     labels = [i for i in range(len(_TRIP_BINS)-1)])\n",
    "train_y['trip_duration_cat'].value_counts(normalize=True).sort_index()"
   ]
  },
  {
   "cell_type": "code",
   "execution_count": null,
   "metadata": {},
   "outputs": [],
   "source": []
  },
  {
   "cell_type": "code",
   "execution_count": 54,
   "metadata": {},
   "outputs": [
    {
     "data": {
      "text/plain": [
       "0    0.152139\n",
       "1    0.295477\n",
       "2    0.552384\n",
       "Name: trip_duration_cat, dtype: float64"
      ]
     },
     "metadata": {},
     "output_type": "display_data"
    },
    {
     "data": {
      "text/plain": [
       "0    0.152138\n",
       "1    0.295480\n",
       "2    0.552383\n",
       "Name: trip_duration_cat, dtype: float64"
      ]
     },
     "metadata": {},
     "output_type": "display_data"
    }
   ],
   "source": [
    "X_train, X_holdout, y_train, y_holdout = train_test_split(train_prepared, train_y, \n",
    "                                          test_size    = 0.2, \n",
    "                                          random_state = 13,\n",
    "                                          stratify     = train_y['trip_duration_cat'])\n",
    "\n",
    "display( y_train['trip_duration_cat'].value_counts(normalize=True).sort_index() )\n",
    "display( y_holdout['trip_duration_cat'].value_counts(normalize=True).sort_index() )\n",
    "\n",
    "y_train = y_train.drop(columns=['trip_duration_cat'])\n",
    "y_holdout = y_holdout.drop(columns=['trip_duration_cat'])"
   ]
  },
  {
   "cell_type": "markdown",
   "metadata": {},
   "source": [
    "Fit:"
   ]
  },
  {
   "cell_type": "code",
   "execution_count": 77,
   "metadata": {},
   "outputs": [],
   "source": [
    "# linreg = LinearRegression(fit_intercept=False)\n",
    "# linreg.fit(X_train, y_train)\n",
    "treereg = DecisionTreeRegressor(random_state=40, max_depth=7).fit(X_train, y_train)"
   ]
  },
  {
   "cell_type": "markdown",
   "metadata": {},
   "source": [
    "Predict:"
   ]
  },
  {
   "cell_type": "code",
   "execution_count": 78,
   "metadata": {},
   "outputs": [
    {
     "data": {
      "text/plain": [
       "0.3329976614407157"
      ]
     },
     "execution_count": 78,
     "metadata": {},
     "output_type": "execute_result"
    }
   ],
   "source": [
    "y_pred = treereg.predict(X_holdout)\n",
    "mean_squared_log_error( y_holdout, y_pred )"
   ]
  },
  {
   "cell_type": "markdown",
   "metadata": {},
   "source": [
    "# Submission"
   ]
  },
  {
   "cell_type": "code",
   "execution_count": 81,
   "metadata": {},
   "outputs": [],
   "source": [
    "test['db_predict']     = dbscan_predict(dbscan, test[['pickup_longitude', 'pickup_latitude']].as_matrix())\n",
    "test['kmeans_predict'] = kmeans.predict(test[['pickup_longitude', 'pickup_latitude']])\n",
    "\n",
    "test['lon_lat_manhattan']    = abs(test['dropoff_longitude']-test['pickup_longitude']) + abs(test['dropoff_latitude']-test['pickup_latitude'])\n",
    "test['dist_manhattan_meter'] = test.apply( lambda x: lat_lon_converter(x['pickup_latitude'], \n",
    "                                                                         x['pickup_longitude'],\n",
    "                                                                         x['dropoff_latitude'], \n",
    "                                                                         x['dropoff_longitude'],\n",
    "                                                                         'm'), axis=1 )\n",
    "test['pickup_dt']    = pd.to_datetime(test['pickup_datetime'], format='%Y-%m-%d %H:%M:%S', errors='ignore')\n",
    "test['pick_minute']     = test['pickup_dt'].dt.minute\n",
    "test['pick_hour']       = test['pickup_dt'].dt.hour\n",
    "test['pick_day']        = test['pickup_dt'].dt.day\n",
    "test['pick_month']      = test['pickup_dt'].dt.month\n",
    "test['pick_year']       = test['pickup_dt'].dt.year\n",
    "test['pick_quarter']    = test['pickup_dt'].dt.quarter\n",
    "test['pick_weekofyear'] = test['pickup_dt'].dt.weekofyear\n",
    "\n",
    "test_x = test[ _FILTER_INT.union(_FILTER_FLOAT).union(_FILTER_CAT) ]\n",
    "test_prepared = full_pipeline.fit_transform(test_x)"
   ]
  },
  {
   "cell_type": "code",
   "execution_count": 87,
   "metadata": {},
   "outputs": [],
   "source": [
    "pred = treereg.predict(test_prepared)\n",
    "\n",
    "df_test['trip_duration'] = pred.astype(int)\n",
    "out = df_test[['id', 'trip_duration']]\n",
    "out.to_csv('pred_treereg.csv',index=False)"
   ]
  },
  {
   "cell_type": "markdown",
   "metadata": {},
   "source": [
    "- - -"
   ]
  }
 ],
 "metadata": {
  "kernelspec": {
   "display_name": "Python 3",
   "language": "python",
   "name": "python3"
  },
  "language_info": {
   "codemirror_mode": {
    "name": "ipython",
    "version": 3
   },
   "file_extension": ".py",
   "mimetype": "text/x-python",
   "name": "python",
   "nbconvert_exporter": "python",
   "pygments_lexer": "ipython3",
   "version": "3.8.5"
  }
 },
 "nbformat": 4,
 "nbformat_minor": 4
}
