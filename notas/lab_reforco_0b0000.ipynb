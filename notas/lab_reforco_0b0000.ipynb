{
 "cells": [
  {
   "cell_type": "markdown",
   "id": "funny-apache",
   "metadata": {},
   "source": [
    "# setup"
   ]
  },
  {
   "cell_type": "markdown",
   "id": "novel-outdoors",
   "metadata": {},
   "source": [
    "setup da gpu"
   ]
  },
  {
   "cell_type": "code",
   "execution_count": 1,
   "id": "joined-wireless",
   "metadata": {},
   "outputs": [
    {
     "name": "stdout",
     "output_type": "stream",
     "text": [
      "08:00.0 VGA compatible controller: NVIDIA Corporation TU116 [GeForce GTX 1660 Ti] (rev a1)\n"
     ]
    }
   ],
   "source": [
    "!lspci | grep VGA"
   ]
  },
  {
   "cell_type": "markdown",
   "id": "after-fetish",
   "metadata": {},
   "source": [
    "```\n",
    " 1357  sudo apt remove \"^nvidia\"\n",
    " 1358  sudo apt autoremove\n",
    " 1359  sudo reboot\n",
    " 1360  sudo apt install nvidia-driver-470\n",
    "       sudo reboot\n",
    "       sudo apt install nvidia-cuda-toolkit\n",
    "       sudo reboot\n",
    " 1392  python3 -m pip install install torch==1.7.1+cu101 torchvision==0.8.2+cu101 torchaudio==0.7.2 -f https://download.pytorch.org/whl/torch_stable.html  --upgrade --force-reinstall --ignore-installed\n",
    "```"
   ]
  },
  {
   "cell_type": "code",
   "execution_count": 2,
   "id": "surprised-brazil",
   "metadata": {},
   "outputs": [
    {
     "name": "stdout",
     "output_type": "stream",
     "text": [
      "nvcc: NVIDIA (R) Cuda compiler driver\n",
      "Copyright (c) 2005-2019 NVIDIA Corporation\n",
      "Built on Sun_Jul_28_19:07:16_PDT_2019\n",
      "Cuda compilation tools, release 10.1, V10.1.243\n"
     ]
    }
   ],
   "source": [
    "!nvcc --version"
   ]
  },
  {
   "cell_type": "code",
   "execution_count": 3,
   "id": "dying-presentation",
   "metadata": {},
   "outputs": [
    {
     "name": "stdout",
     "output_type": "stream",
     "text": [
      "Tue Oct 12 21:56:15 2021       \n",
      "+-----------------------------------------------------------------------------+\n",
      "| NVIDIA-SMI 470.63.01    Driver Version: 470.63.01    CUDA Version: 11.4     |\n",
      "|-------------------------------+----------------------+----------------------+\n",
      "| GPU  Name        Persistence-M| Bus-Id        Disp.A | Volatile Uncorr. ECC |\n",
      "| Fan  Temp  Perf  Pwr:Usage/Cap|         Memory-Usage | GPU-Util  Compute M. |\n",
      "|                               |                      |               MIG M. |\n",
      "|===============================+======================+======================|\n",
      "|   0  NVIDIA GeForce ...  Off  | 00000000:08:00.0  On |                  N/A |\n",
      "|  0%   46C    P8    12W / 130W |    263MiB /  5943MiB |     15%      Default |\n",
      "|                               |                      |                  N/A |\n",
      "+-------------------------------+----------------------+----------------------+\n",
      "                                                                               \n",
      "+-----------------------------------------------------------------------------+\n",
      "| Processes:                                                                  |\n",
      "|  GPU   GI   CI        PID   Type   Process name                  GPU Memory |\n",
      "|        ID   ID                                                   Usage      |\n",
      "|=============================================================================|\n",
      "|    0   N/A  N/A      1227      G   /usr/lib/xorg/Xorg                 35MiB |\n",
      "|    0   N/A  N/A      2148      G   /usr/lib/xorg/Xorg                147MiB |\n",
      "|    0   N/A  N/A      2311      G   /usr/bin/gnome-shell               64MiB |\n",
      "|    0   N/A  N/A     14164      G   .../debug.log --shared-files        5MiB |\n",
      "+-----------------------------------------------------------------------------+\n"
     ]
    }
   ],
   "source": [
    "!nvidia-smi"
   ]
  },
  {
   "cell_type": "markdown",
   "id": "administrative-cleaners",
   "metadata": {},
   "source": [
    "- - -"
   ]
  },
  {
   "cell_type": "code",
   "execution_count": 4,
   "id": "controlling-toronto",
   "metadata": {},
   "outputs": [],
   "source": [
    "import torch"
   ]
  },
  {
   "cell_type": "code",
   "execution_count": 5,
   "id": "rational-habitat",
   "metadata": {},
   "outputs": [
    {
     "data": {
      "text/plain": [
       "True"
      ]
     },
     "execution_count": 5,
     "metadata": {},
     "output_type": "execute_result"
    }
   ],
   "source": [
    "torch.cuda.is_available()"
   ]
  },
  {
   "cell_type": "code",
   "execution_count": 6,
   "id": "negative-exchange",
   "metadata": {},
   "outputs": [
    {
     "data": {
      "text/plain": [
       "1"
      ]
     },
     "execution_count": 6,
     "metadata": {},
     "output_type": "execute_result"
    }
   ],
   "source": [
    "torch.cuda.device_count()"
   ]
  },
  {
   "cell_type": "markdown",
   "id": "incredible-representative",
   "metadata": {},
   "source": [
    "# ambiente"
   ]
  },
  {
   "cell_type": "code",
   "execution_count": 7,
   "id": "imported-wales",
   "metadata": {},
   "outputs": [],
   "source": [
    "import gym"
   ]
  },
  {
   "cell_type": "code",
   "execution_count": 8,
   "id": "characteristic-phenomenon",
   "metadata": {},
   "outputs": [],
   "source": [
    "env = gym.make('FrozenLake-v1')"
   ]
  },
  {
   "cell_type": "code",
   "execution_count": 9,
   "id": "gross-vegetarian",
   "metadata": {},
   "outputs": [
    {
     "name": "stdout",
     "output_type": "stream",
     "text": [
      "\n",
      "\u001b[41mS\u001b[0mFFF\n",
      "FHFH\n",
      "FFFH\n",
      "HFFG\n"
     ]
    }
   ],
   "source": [
    "env.env.render()"
   ]
  },
  {
   "cell_type": "code",
   "execution_count": 10,
   "id": "senior-farmer",
   "metadata": {},
   "outputs": [],
   "source": [
    "P = env.env.P # mdp"
   ]
  },
  {
   "cell_type": "markdown",
   "id": "accessory-announcement",
   "metadata": {},
   "source": [
    "$$\\text{MDP}(S,A,T,R,S_{\\theta},\\gamma, H)$$\n",
    "\n",
    "* $S$ espaço de estado\n",
    "* $A$ espaço de ação\n",
    "* $T$ função de transição\n",
    "* $R$ sinal de recompensa\n",
    "* $S_{\\theta}$ distribuição de estado inicial\n",
    "* $\\gamma$ fator de desconto\n",
    "* $H$ horizonte\n",
    "\n",
    "```\n",
    "mdp = { estado : {\n",
    "            acao : [ (probabilidade, proximo_estado, recompensa, estado_terminal) ]\n",
    "            } \n",
    "        }\n",
    "```"
   ]
  },
  {
   "cell_type": "code",
   "execution_count": 11,
   "id": "approximate-training",
   "metadata": {},
   "outputs": [
    {
     "name": "stdout",
     "output_type": "stream",
     "text": [
      "{0: {0: [(0.3333333333333333, 0, 0.0, False), (0.3333333333333333, 0, 0.0, False), (0.3333333333333333, 4, 0.0, False)], 1: [(0.3333333333333333, 0, 0.0, False), (0.3333333333333333, 4, 0.0, False), (0.3333333333333333, 1, 0.0, False)], 2: [(0.3333333333333333, 4, 0.0, False), (0.3333333333333333, 1, 0.0, False), (0.3333333333333333, 0, 0.0, False)], 3: [(0.3333333333333333, 1, 0.0, False), (0.3333333333333333, 0, 0.0, False), (0.3333333333333333, 0, 0.0, False)]}, 1: {0: [(0.3333333333333333, 1, 0.0, False), (0.3333333333333333, 0, 0.0, False), (0.3333333333333333, 5, 0.0, True)], 1: [(0.3333333333333333, 0, 0.0, False), (0.3333333333333333, 5, 0.0, True), (0.3333333333333333, 2, 0.0, False)], 2: [(0.3333333333333333, 5, 0.0, True), (0.3333333333333333, 2, 0.0, False), (0.3333333333333333, 1, 0.0, False)], 3: [(0.3333333333333333, 2, 0.0, False), (0.3333333333333333, 1, 0.0, False), (0.3333333333333333, 0, 0.0, False)]}, 2: {0: [(0.3333333333333333, 2, 0.0, False), (0.3333333333333333, 1, 0.0, False), (0.3333333333333333, 6, 0.0, False)], 1: [(0.3333333333333333, 1, 0.0, False), (0.3333333333333333, 6, 0.0, False), (0.3333333333333333, 3, 0.0, False)], 2: [(0.3333333333333333, 6, 0.0, False), (0.3333333333333333, 3, 0.0, False), (0.3333333333333333, 2, 0.0, False)], 3: [(0.3333333333333333, 3, 0.0, False), (0.3333333333333333, 2, 0.0, False), (0.3333333333333333, 1, 0.0, False)]}, 3: {0: [(0.3333333333333333, 3, 0.0, False), (0.3333333333333333, 2, 0.0, False), (0.3333333333333333, 7, 0.0, True)], 1: [(0.3333333333333333, 2, 0.0, False), (0.3333333333333333, 7, 0.0, True), (0.3333333333333333, 3, 0.0, False)], 2: [(0.3333333333333333, 7, 0.0, True), (0.3333333333333333, 3, 0.0, False), (0.3333333333333333, 3, 0.0, False)], 3: [(0.3333333333333333, 3, 0.0, False), (0.3333333333333333, 3, 0.0, False), (0.3333333333333333, 2, 0.0, False)]}, 4: {0: [(0.3333333333333333, 0, 0.0, False), (0.3333333333333333, 4, 0.0, False), (0.3333333333333333, 8, 0.0, False)], 1: [(0.3333333333333333, 4, 0.0, False), (0.3333333333333333, 8, 0.0, False), (0.3333333333333333, 5, 0.0, True)], 2: [(0.3333333333333333, 8, 0.0, False), (0.3333333333333333, 5, 0.0, True), (0.3333333333333333, 0, 0.0, False)], 3: [(0.3333333333333333, 5, 0.0, True), (0.3333333333333333, 0, 0.0, False), (0.3333333333333333, 4, 0.0, False)]}, 5: {0: [(1.0, 5, 0, True)], 1: [(1.0, 5, 0, True)], 2: [(1.0, 5, 0, True)], 3: [(1.0, 5, 0, True)]}, 6: {0: [(0.3333333333333333, 2, 0.0, False), (0.3333333333333333, 5, 0.0, True), (0.3333333333333333, 10, 0.0, False)], 1: [(0.3333333333333333, 5, 0.0, True), (0.3333333333333333, 10, 0.0, False), (0.3333333333333333, 7, 0.0, True)], 2: [(0.3333333333333333, 10, 0.0, False), (0.3333333333333333, 7, 0.0, True), (0.3333333333333333, 2, 0.0, False)], 3: [(0.3333333333333333, 7, 0.0, True), (0.3333333333333333, 2, 0.0, False), (0.3333333333333333, 5, 0.0, True)]}, 7: {0: [(1.0, 7, 0, True)], 1: [(1.0, 7, 0, True)], 2: [(1.0, 7, 0, True)], 3: [(1.0, 7, 0, True)]}, 8: {0: [(0.3333333333333333, 4, 0.0, False), (0.3333333333333333, 8, 0.0, False), (0.3333333333333333, 12, 0.0, True)], 1: [(0.3333333333333333, 8, 0.0, False), (0.3333333333333333, 12, 0.0, True), (0.3333333333333333, 9, 0.0, False)], 2: [(0.3333333333333333, 12, 0.0, True), (0.3333333333333333, 9, 0.0, False), (0.3333333333333333, 4, 0.0, False)], 3: [(0.3333333333333333, 9, 0.0, False), (0.3333333333333333, 4, 0.0, False), (0.3333333333333333, 8, 0.0, False)]}, 9: {0: [(0.3333333333333333, 5, 0.0, True), (0.3333333333333333, 8, 0.0, False), (0.3333333333333333, 13, 0.0, False)], 1: [(0.3333333333333333, 8, 0.0, False), (0.3333333333333333, 13, 0.0, False), (0.3333333333333333, 10, 0.0, False)], 2: [(0.3333333333333333, 13, 0.0, False), (0.3333333333333333, 10, 0.0, False), (0.3333333333333333, 5, 0.0, True)], 3: [(0.3333333333333333, 10, 0.0, False), (0.3333333333333333, 5, 0.0, True), (0.3333333333333333, 8, 0.0, False)]}, 10: {0: [(0.3333333333333333, 6, 0.0, False), (0.3333333333333333, 9, 0.0, False), (0.3333333333333333, 14, 0.0, False)], 1: [(0.3333333333333333, 9, 0.0, False), (0.3333333333333333, 14, 0.0, False), (0.3333333333333333, 11, 0.0, True)], 2: [(0.3333333333333333, 14, 0.0, False), (0.3333333333333333, 11, 0.0, True), (0.3333333333333333, 6, 0.0, False)], 3: [(0.3333333333333333, 11, 0.0, True), (0.3333333333333333, 6, 0.0, False), (0.3333333333333333, 9, 0.0, False)]}, 11: {0: [(1.0, 11, 0, True)], 1: [(1.0, 11, 0, True)], 2: [(1.0, 11, 0, True)], 3: [(1.0, 11, 0, True)]}, 12: {0: [(1.0, 12, 0, True)], 1: [(1.0, 12, 0, True)], 2: [(1.0, 12, 0, True)], 3: [(1.0, 12, 0, True)]}, 13: {0: [(0.3333333333333333, 9, 0.0, False), (0.3333333333333333, 12, 0.0, True), (0.3333333333333333, 13, 0.0, False)], 1: [(0.3333333333333333, 12, 0.0, True), (0.3333333333333333, 13, 0.0, False), (0.3333333333333333, 14, 0.0, False)], 2: [(0.3333333333333333, 13, 0.0, False), (0.3333333333333333, 14, 0.0, False), (0.3333333333333333, 9, 0.0, False)], 3: [(0.3333333333333333, 14, 0.0, False), (0.3333333333333333, 9, 0.0, False), (0.3333333333333333, 12, 0.0, True)]}, 14: {0: [(0.3333333333333333, 10, 0.0, False), (0.3333333333333333, 13, 0.0, False), (0.3333333333333333, 14, 0.0, False)], 1: [(0.3333333333333333, 13, 0.0, False), (0.3333333333333333, 14, 0.0, False), (0.3333333333333333, 15, 1.0, True)], 2: [(0.3333333333333333, 14, 0.0, False), (0.3333333333333333, 15, 1.0, True), (0.3333333333333333, 10, 0.0, False)], 3: [(0.3333333333333333, 15, 1.0, True), (0.3333333333333333, 10, 0.0, False), (0.3333333333333333, 13, 0.0, False)]}, 15: {0: [(1.0, 15, 0, True)], 1: [(1.0, 15, 0, True)], 2: [(1.0, 15, 0, True)], 3: [(1.0, 15, 0, True)]}}\n"
     ]
    }
   ],
   "source": [
    "print(P)"
   ]
  },
  {
   "cell_type": "markdown",
   "id": "medical-rogers",
   "metadata": {},
   "source": [
    "# básico"
   ]
  },
  {
   "cell_type": "markdown",
   "id": "laughing-match",
   "metadata": {},
   "source": [
    "até aqui (inclusive) tudo se trata de \n",
    "\n",
    "+ framework teórico (2)\n",
    "+ equilíbrio entre recompensas de curto e longo prazo (3)\n",
    "+ políticas ótimas em problemas de decisão sequencial (3)\n",
    "+ equilíbrio entre exploração e uso de informação (4)"
   ]
  },
  {
   "cell_type": "code",
   "execution_count": 12,
   "id": "billion-eleven",
   "metadata": {},
   "outputs": [],
   "source": [
    "import numpy as np\n",
    "from tqdm import tqdm"
   ]
  },
  {
   "cell_type": "markdown",
   "id": "medical-antigua",
   "metadata": {},
   "source": [
    "## `policy_evaluation`"
   ]
  },
  {
   "cell_type": "markdown",
   "id": "spoken-formation",
   "metadata": {},
   "source": [
    "_policy-evaluation equation_\n",
    "\n",
    "$$ v_{\\pi}(s) = E_{\\pi} \\left[ G_t \\mid S_t = s \\right] \\xrightarrow[ ]{\\text{equacao de bellman}} v_{\\pi}(s) = \\sum_{a}\\pi (a \\mid s) \\sum_{s^{\\prime},r} p (s^{\\prime}, r \\mid s, a) \\left[ r + \\gamma v_{\\pi}(s^{\\prime}) \\right] $$\n",
    "\n",
    "forma iterativa\n",
    "\n",
    "$$ v_{k+1}(s) = \\sum_{a}\\pi (a \\mid s) \\sum_{s^{\\prime},r} p (s^{\\prime}, r \\mid s, a) \\left[ r + \\gamma v_k(s^{\\prime}) \\right] $$"
   ]
  },
  {
   "cell_type": "code",
   "execution_count": 13,
   "id": "reasonable-south",
   "metadata": {},
   "outputs": [],
   "source": [
    "def policy_evaluation(pi, P, gamma=1.0, theta=1e-10):\n",
    "    prev_V = np.zeros(len(P))\n",
    "    \n",
    "    while True:\n",
    "        V = np.zeros(len(P))\n",
    "        for s in range(len(P)):\n",
    "            for prob, next_state, reward, done in P[s][pi(s)]:\n",
    "                V[s] += prob * (reward + gamma * prev_V[next_state] * (not done))\n",
    "        \n",
    "        if np.max(np.abs(prev_V - V)) < theta:\n",
    "            break\n",
    "        prev_V = V.copy()\n",
    "    return V"
   ]
  },
  {
   "cell_type": "markdown",
   "id": "consolidated-mistake",
   "metadata": {},
   "source": [
    "## `policy_improvement`"
   ]
  },
  {
   "cell_type": "markdown",
   "id": "chemical-energy",
   "metadata": {},
   "source": [
    "_policy-improvement equation_\n",
    "\n",
    "$$ \\pi^{\\prime}(s) = \\underset{a}{argmax} \\sum_{s^{\\prime},r} p (s^{\\prime}, r \\mid s, a) \\left[ r + \\gamma v_k(s^{\\prime}) \\right]$$"
   ]
  },
  {
   "cell_type": "code",
   "execution_count": 14,
   "id": "smooth-translation",
   "metadata": {},
   "outputs": [],
   "source": [
    "def policy_improvement(V, P, gamma=1.0):\n",
    "    Q = np.zeros( (len(P), len(P[0])), dtype=np.float64 )\n",
    "    \n",
    "    for s in range(len(P)):\n",
    "        for a in range(len(P[s])):\n",
    "            for prob, next_state, reward, done in P[s][a]:\n",
    "                Q[s][a] += prob * (reward + gamma * V[next_state] * (not done))\n",
    "    \n",
    "    new_pi = lambda s: {s:a for s,a in enumerate( np.argmax(Q, axis=1) )}[s]\n",
    "    \n",
    "    return new_pi"
   ]
  },
  {
   "cell_type": "markdown",
   "id": "weekly-shirt",
   "metadata": {},
   "source": [
    "## `policy_iteration`"
   ]
  },
  {
   "cell_type": "code",
   "execution_count": 15,
   "id": "incorporate-stocks",
   "metadata": {},
   "outputs": [],
   "source": [
    "def policy_iteration(P, gamma=1.0, theta=1e-10):\n",
    "    random_actions = np.random.choice( tuple(P[0].keys()), len(P) )\n",
    "    \n",
    "    pi = lambda s: {s:a for s,a in enumerate( random_actions )}[s]\n",
    "    \n",
    "    while True:\n",
    "        old_pi = {s:pi(s) for s in range(len(P))}\n",
    "        V  = policy_evaluation(pi, P, gamma, theta)\n",
    "        pi = policy_improvement(V, P, gamma)\n",
    "        \n",
    "        if old_pi == {s:pi(s) for s in range(len(P))}:\n",
    "            break\n",
    "    \n",
    "    return V, pi"
   ]
  },
  {
   "cell_type": "code",
   "execution_count": 16,
   "id": "exceptional-ceremony",
   "metadata": {},
   "outputs": [
    {
     "data": {
      "text/plain": [
       "(array([0.82352941, 0.82352941, 0.82352941, 0.82352941, 0.82352941,\n",
       "        0.        , 0.52941176, 0.        , 0.82352941, 0.82352941,\n",
       "        0.76470588, 0.        , 0.        , 0.88235294, 0.94117647,\n",
       "        0.        ]),\n",
       " <function __main__.policy_improvement.<locals>.<lambda>(s)>)"
      ]
     },
     "execution_count": 16,
     "metadata": {},
     "output_type": "execute_result"
    }
   ],
   "source": [
    "policy_iteration(P)"
   ]
  },
  {
   "cell_type": "markdown",
   "id": "promising-pointer",
   "metadata": {},
   "source": [
    "## `value_iteration`"
   ]
  },
  {
   "cell_type": "markdown",
   "id": "inappropriate-spirit",
   "metadata": {},
   "source": [
    "_the value-iteration equation_\n",
    "\n",
    "$$ v_{k+1}(s) = \\underset{a}{max} \\sum_{s^{\\prime},r} p (s^{\\prime}, r \\mid s, a) \\left[ r + \\gamma v_k(s^{\\prime}) \\right]$$"
   ]
  },
  {
   "cell_type": "code",
   "execution_count": 17,
   "id": "arranged-embassy",
   "metadata": {},
   "outputs": [],
   "source": [
    "def value_iteration(P, gamma=1.0, theta=1e-10):\n",
    "    random_actions = np.random.choice( tuple(P[0].keys()), len(P) )\n",
    "    \n",
    "    V = np.zeros(len(P), dtype=np.float64)\n",
    "    \n",
    "    while True:\n",
    "        Q = np.zeros((len(P), len(P[0])), dtype=np.float64)\n",
    "        \n",
    "        for s in range(len(P)):\n",
    "            for a in range(len(P[s])):\n",
    "                for prob, next_state, reward, done in P[s][a]:\n",
    "                    Q[s][a] += prob * (reward + gamma * V[next_state] * (not done))\n",
    "        \n",
    "        if np.max(np.abs(V - np.max(Q, axis=1))) < theta:\n",
    "            break\n",
    "        \n",
    "        V = np.max(Q, axis=1)\n",
    "    \n",
    "    pi = lambda s: {s:a for s,a in enumerate(np.argmax(Q, axis=1))}[s]\n",
    "    \n",
    "    return V, pi"
   ]
  },
  {
   "cell_type": "code",
   "execution_count": 18,
   "id": "proof-hardwood",
   "metadata": {},
   "outputs": [
    {
     "data": {
      "text/plain": [
       "(array([0.82352941, 0.82352941, 0.82352941, 0.82352941, 0.82352941,\n",
       "        0.        , 0.52941176, 0.        , 0.82352941, 0.82352941,\n",
       "        0.76470588, 0.        , 0.        , 0.88235294, 0.94117647,\n",
       "        0.        ]),\n",
       " <function __main__.value_iteration.<locals>.<lambda>(s)>)"
      ]
     },
     "execution_count": 18,
     "metadata": {},
     "output_type": "execute_result"
    }
   ],
   "source": [
    "value_iteration(P)"
   ]
  },
  {
   "cell_type": "markdown",
   "id": "other-capacity",
   "metadata": {},
   "source": [
    "## `pure_exploitation`"
   ]
  },
  {
   "cell_type": "code",
   "execution_count": 19,
   "id": "modern-posting",
   "metadata": {},
   "outputs": [],
   "source": [
    "def pure_exploitation(env, n_episodes=5000):\n",
    "    Q = np.zeros((env.action_space.n))\n",
    "    N = np.zeros((env.action_space.n))\n",
    "    \n",
    "    Qe = np.empty((n_episodes, env.action_space.n))\n",
    "    returns = np.empty(n_episodes)\n",
    "    actions = np.empty(n_episodes, dtype=np.int32)\n",
    "    \n",
    "    name = \"Pure exploitation\"\n",
    "    for e in tqdm(range(n_episodes), desc=\"Episodes for: \" + name, leave=True):\n",
    "        action = np.random.randint(len(Q)) # action = np.argmax(Q)\n",
    "        _, reward, _, _ = env.step(action)\n",
    "        N[action] += 1\n",
    "        Q[action] = Q[action] + (reward - Q[action])/N[action]\n",
    "        \n",
    "        Qe[e] = Q\n",
    "        returns[e] = reward\n",
    "        actions[e] = action\n",
    "    \n",
    "    return name, returns, Qe, actions"
   ]
  },
  {
   "cell_type": "code",
   "execution_count": 20,
   "id": "intelligent-seven",
   "metadata": {},
   "outputs": [
    {
     "name": "stderr",
     "output_type": "stream",
     "text": [
      "Episodes for: Pure exploitation: 100%|██████████| 5000/5000 [00:00<00:00, 103187.51it/s]\n"
     ]
    },
    {
     "data": {
      "text/plain": [
       "('Pure exploitation',\n",
       " array([0., 0., 0., ..., 0., 0., 0.]),\n",
       " array([[0., 0., 0., 0.],\n",
       "        [0., 0., 0., 0.],\n",
       "        [0., 0., 0., 0.],\n",
       "        ...,\n",
       "        [0., 0., 0., 0.],\n",
       "        [0., 0., 0., 0.],\n",
       "        [0., 0., 0., 0.]]),\n",
       " array([2, 0, 1, ..., 3, 3, 1], dtype=int32))"
      ]
     },
     "execution_count": 20,
     "metadata": {},
     "output_type": "execute_result"
    }
   ],
   "source": [
    "pure_exploitation(env.env)"
   ]
  },
  {
   "cell_type": "markdown",
   "id": "representative-southeast",
   "metadata": {},
   "source": [
    "## `epsilon_greedy`"
   ]
  },
  {
   "cell_type": "code",
   "execution_count": 21,
   "id": "cardiovascular-quest",
   "metadata": {},
   "outputs": [],
   "source": [
    "def epsilon_greedy(env, epsilon=0.1, n_episodes=5000):\n",
    "    Q = np.zeros((env.action_space.n))\n",
    "    N = np.zeros((env.action_space.n))\n",
    "    \n",
    "    Qe = np.empty((n_episodes, env.action_space.n))\n",
    "    returns = np.empty(n_episodes)\n",
    "    actions = np.empty(n_episodes, dtype=np.int32)\n",
    "    \n",
    "    name = \"E-greedy {}\".format(epsilon)\n",
    "    for e in tqdm(range(n_episodes), desc=\"Episodes for: \" + name, leave=True):\n",
    "        # action = np.random.randint(len(Q)) # action = np.argmax(Q)\n",
    "        if np.random.random() > epsilon:\n",
    "            action = np.argmax(Q)\n",
    "        else:\n",
    "            action = np.random.randint(len(Q))\n",
    "        \n",
    "        _, reward, _, _ = env.step(action)\n",
    "        N[action] += 1\n",
    "        Q[action] = Q[action] + (reward - Q[action])/N[action]\n",
    "        \n",
    "        Qe[e] = Q\n",
    "        returns[e] = reward\n",
    "        actions[e] = action\n",
    "    \n",
    "    return name, returns, Qe, actions"
   ]
  },
  {
   "cell_type": "code",
   "execution_count": 22,
   "id": "complicated-seeker",
   "metadata": {},
   "outputs": [
    {
     "name": "stderr",
     "output_type": "stream",
     "text": [
      "Episodes for: E-greedy 0.1: 100%|██████████| 5000/5000 [00:00<00:00, 97775.71it/s]\n"
     ]
    },
    {
     "data": {
      "text/plain": [
       "('E-greedy 0.1',\n",
       " array([0., 0., 0., ..., 0., 0., 0.]),\n",
       " array([[0., 0., 0., 0.],\n",
       "        [0., 0., 0., 0.],\n",
       "        [0., 0., 0., 0.],\n",
       "        ...,\n",
       "        [0., 0., 0., 0.],\n",
       "        [0., 0., 0., 0.],\n",
       "        [0., 0., 0., 0.]]),\n",
       " array([0, 0, 0, ..., 0, 0, 0], dtype=int32))"
      ]
     },
     "execution_count": 22,
     "metadata": {},
     "output_type": "execute_result"
    }
   ],
   "source": [
    "epsilon_greedy(env.env)"
   ]
  },
  {
   "cell_type": "markdown",
   "id": "endless-bacteria",
   "metadata": {},
   "source": [
    "## `lin_dec_epsilon_greedy`\n",
    "\n",
    "_linearly decaying epsilon-greedy strategy_"
   ]
  },
  {
   "cell_type": "code",
   "execution_count": 23,
   "id": "expensive-senegal",
   "metadata": {},
   "outputs": [],
   "source": [
    "def lin_dec_epsilon_greedy(env, init_epsilon=1.0, min_epsilon=0.01, decay_ratio=0.05, n_episodes=5000):\n",
    "    Q = np.zeros((env.action_space.n))\n",
    "    N = np.zeros((env.action_space.n))\n",
    "    \n",
    "    Qe = np.empty((n_episodes, env.action_space.n))\n",
    "    returns = np.empty(n_episodes)\n",
    "    actions = np.empty(n_episodes, dtype=np.int32)\n",
    "    \n",
    "    name = \"Lin e-greedy {} {} {}\".format(init_epsilon, min_epsilon, decay_ratio)\n",
    "    for e in tqdm(range(n_episodes), desc=\"Episodes for: \" + name, leave=True):\n",
    "        decay_episodes = n_episodes * decay_ratio\n",
    "        \n",
    "        epsilon = (1 - e)/decay_episodes\n",
    "        epsilon *= init_epsilon - min_epsilon\n",
    "        epsilon += min_epsilon\n",
    "        epsilon = np.clip(epsilon, min_epsilon, init_epsilon)\n",
    "        \n",
    "        if np.random.random() > epsilon:\n",
    "            action = np.argmax(Q)\n",
    "        else:\n",
    "            action = np.random.randint(len(Q))\n",
    "        \n",
    "        _, reward, _, _ = env.step(action)\n",
    "        N[action] += 1\n",
    "        Q[action] = Q[action] + (reward - Q[action])/N[action]\n",
    "        \n",
    "        Qe[e] = Q\n",
    "        returns[e] = reward\n",
    "        actions[e] = action\n",
    "    \n",
    "    return name, returns, Qe, actions"
   ]
  },
  {
   "cell_type": "code",
   "execution_count": 24,
   "id": "committed-native",
   "metadata": {},
   "outputs": [
    {
     "name": "stderr",
     "output_type": "stream",
     "text": [
      "Episodes for: Lin e-greedy 1.0 0.01 0.05: 100%|██████████| 5000/5000 [00:00<00:00, 47751.97it/s]\n"
     ]
    },
    {
     "data": {
      "text/plain": [
       "('Lin e-greedy 1.0 0.01 0.05',\n",
       " array([0., 0., 0., ..., 0., 0., 0.]),\n",
       " array([[0., 0., 0., 0.],\n",
       "        [0., 0., 0., 0.],\n",
       "        [0., 0., 0., 0.],\n",
       "        ...,\n",
       "        [0., 0., 0., 0.],\n",
       "        [0., 0., 0., 0.],\n",
       "        [0., 0., 0., 0.]]),\n",
       " array([0, 0, 0, ..., 0, 0, 0], dtype=int32))"
      ]
     },
     "execution_count": 24,
     "metadata": {},
     "output_type": "execute_result"
    }
   ],
   "source": [
    "lin_dec_epsilon_greedy(env.env)"
   ]
  },
  {
   "cell_type": "markdown",
   "id": "linear-translator",
   "metadata": {},
   "source": [
    "## `exp_dec_epsilon_greedy`"
   ]
  },
  {
   "cell_type": "code",
   "execution_count": 25,
   "id": "decreased-costa",
   "metadata": {},
   "outputs": [],
   "source": [
    "def exp_dec_epsilon_greedy(env, init_epsilon=1.0, min_epsilon=0.01, decay_ratio=0.1, n_episodes=5000):\n",
    "    Q = np.zeros((env.action_space.n))\n",
    "    N = np.zeros((env.action_space.n))\n",
    "    \n",
    "    Qe = np.empty((n_episodes, env.action_space.n))\n",
    "    returns = np.empty(n_episodes)\n",
    "    actions = np.empty(n_episodes, dtype=np.int32)\n",
    "    \n",
    "    decay_episodes = int(n_episodes * decay_ratio)\n",
    "    rem_episodes = n_episodes - decay_episodes\n",
    "    epsilons = 0.01\n",
    "    epsilons /= np.logspace(-2, 0, decay_episodes)\n",
    "    epsilons *= init_epsilon - min_epsilon\n",
    "    epsilons += min_epsilon\n",
    "    epsilons = np.pad(epsilons, (0, rem_episodes), 'edge')\n",
    "    \n",
    "    name = \"Exp e-greedy {} {} {}\".format(init_epsilon, min_epsilon, decay_ratio)\n",
    "    for e in tqdm(range(n_episodes), desc=\"Episodes for: \" + name, leave=True):\n",
    "        if np.random.random() > epsilons[e]:\n",
    "            action = np.argmax(Q)\n",
    "        else:\n",
    "            action = np.random.randint(len(Q))\n",
    "        \n",
    "        _, reward, _, _ = env.step(action)\n",
    "        N[action] += 1\n",
    "        Q[action] = Q[action] + (reward - Q[action])/N[action]\n",
    "        \n",
    "        Qe[e] = Q\n",
    "        returns[e] = reward\n",
    "        actions[e] = action\n",
    "    \n",
    "    return name, returns, Qe, actions"
   ]
  },
  {
   "cell_type": "code",
   "execution_count": 26,
   "id": "executed-crystal",
   "metadata": {},
   "outputs": [
    {
     "name": "stderr",
     "output_type": "stream",
     "text": [
      "Episodes for: Exp e-greedy 1.0 0.01 0.1: 100%|██████████| 5000/5000 [00:00<00:00, 100419.08it/s]\n"
     ]
    },
    {
     "data": {
      "text/plain": [
       "('Exp e-greedy 1.0 0.01 0.1',\n",
       " array([0., 0., 0., ..., 0., 0., 0.]),\n",
       " array([[0., 0., 0., 0.],\n",
       "        [0., 0., 0., 0.],\n",
       "        [0., 0., 0., 0.],\n",
       "        ...,\n",
       "        [0., 0., 0., 0.],\n",
       "        [0., 0., 0., 0.],\n",
       "        [0., 0., 0., 0.]]),\n",
       " array([2, 2, 0, ..., 3, 0, 0], dtype=int32))"
      ]
     },
     "execution_count": 26,
     "metadata": {},
     "output_type": "execute_result"
    }
   ],
   "source": [
    "exp_dec_epsilon_greedy(env.env)"
   ]
  },
  {
   "cell_type": "markdown",
   "id": "variable-version",
   "metadata": {},
   "source": [
    "## `optimistic_initialization`"
   ]
  },
  {
   "cell_type": "code",
   "execution_count": 27,
   "id": "finite-separation",
   "metadata": {},
   "outputs": [],
   "source": [
    "def optimistic_initialization(env, optimistic_estimate=1.0, initial_count=100, n_episodes=5000):\n",
    "    Q = np.full((env.action_space.n), optimistic_estimate, dtype=np.float64)\n",
    "    N = np.full((env.action_space.n), initial_count, dtype=np.float64)\n",
    "    \n",
    "    Qe = np.empty((n_episodes, env.action_space.n))\n",
    "    returns = np.empty(n_episodes)\n",
    "    actions = np.empty(n_episodes, dtype=np.int32)\n",
    "    \n",
    "    name = \"Optimistic {} {}\".format(optimistic_estimate, initial_count)\n",
    "    for e in tqdm(range(n_episodes), desc=\"Episodes for: \" + name, leave=True):\n",
    "        action = np.argmax(Q)\n",
    "        \n",
    "        _, reward, _, _ = env.step(action)\n",
    "        N[action] += 1\n",
    "        Q[action] = Q[action] + (reward - Q[action])/N[action]\n",
    "        \n",
    "        Qe[e] = Q\n",
    "        returns[e] = reward\n",
    "        actions[e] = action\n",
    "    \n",
    "    return name, returns, Qe, actions"
   ]
  },
  {
   "cell_type": "code",
   "execution_count": 28,
   "id": "aboriginal-comedy",
   "metadata": {},
   "outputs": [
    {
     "name": "stderr",
     "output_type": "stream",
     "text": [
      "Episodes for: Optimistic 1.0 100: 100%|██████████| 5000/5000 [00:00<00:00, 124375.17it/s]\n"
     ]
    },
    {
     "data": {
      "text/plain": [
       "('Optimistic 1.0 100',\n",
       " array([0., 0., 0., ..., 0., 0., 0.]),\n",
       " array([[0.99009901, 1.        , 1.        , 1.        ],\n",
       "        [0.99009901, 0.99009901, 1.        , 1.        ],\n",
       "        [0.99009901, 0.99009901, 0.99009901, 1.        ],\n",
       "        ...,\n",
       "        [0.07407407, 0.07407407, 0.07412898, 0.07412898],\n",
       "        [0.07407407, 0.07407407, 0.07407407, 0.07412898],\n",
       "        [0.07407407, 0.07407407, 0.07407407, 0.07407407]]),\n",
       " array([0, 1, 2, ..., 1, 2, 3], dtype=int32))"
      ]
     },
     "execution_count": 28,
     "metadata": {},
     "output_type": "execute_result"
    }
   ],
   "source": [
    "optimistic_initialization(env.env)"
   ]
  },
  {
   "cell_type": "markdown",
   "id": "american-hybrid",
   "metadata": {},
   "source": [
    "- - -"
   ]
  },
  {
   "cell_type": "markdown",
   "id": "passive-buffalo",
   "metadata": {},
   "source": [
    "o que segue são alguns detalhes periféricos:\n",
    "\n",
    "* _softmax exploration strategy_ $$ \\pi(a) = \\frac{e^{\\left( \\frac{Q(a)}{\\tau} \\right)}}{\\sum_{b=0}^{B} e^{\\left( \\frac{Q(b)}{\\tau} \\right)}} $$ \n",
    "* _upper confidence bound strategy_ $$ A_e = \\underset{a}{argmax} \\left[ Q_{e}(a) + c\\sqrt{\\frac{ln\\,e}{N_e(a)}}\\right] $$\n",
    "* _thompson sampling strategy_"
   ]
  },
  {
   "cell_type": "markdown",
   "id": "public-acquisition",
   "metadata": {},
   "source": [
    "# $V_{\\pi}(s)$ : estimando valor de políticas\n",
    "\n",
    "+ até aqui os efeitos das ações não foram levados em conta\n",
    "\n",
    "a ideia agora é olhar para formas de **estimar o valor das políticas sem o mdp**, o que tem a ver com a ideia de **predição** (do futuro), dado que o valor é definido como o valor esperado das recompensas descontadas\n",
    "\n",
    "logo a ideia será **otimizar as políticas sem o mdp**, o que está associado ao **problema do controle**, em que o comportamento do agente é melhorado\n",
    "\n",
    "ambas combinadas dão origem ao _reinforcement learning_\n",
    "\n",
    "_(_\n",
    "\n",
    "_no deep reinforcement learning os agentes aprendem a partir de feedbacks que são_\n",
    "\n",
    "+ sequenciais (não one-shot)\n",
    "+ evaluativos (não supervisionado)\n",
    "+ amostados (não exaustivo)\n",
    "\n",
    "_)_"
   ]
  },
  {
   "cell_type": "markdown",
   "id": "regional-movement",
   "metadata": {},
   "source": [
    "# $Q_{\\pi}(s,a)$ : otimizando políticas \n",
    "\n",
    "a partir daqui o esquema vai ser caminhar para o aprendizado por pura tentativa e erro sem o mdp!\n",
    "\n",
    "aqui entra o q-learning e o sarsa!"
   ]
  },
  {
   "cell_type": "markdown",
   "id": "falling-specific",
   "metadata": {},
   "source": [
    "# evoluindo os agentes\n",
    "\n",
    "aqui finalmente entra no jogo os dados! os _model-based reinforcement learning_"
   ]
  },
  {
   "cell_type": "markdown",
   "id": "false-register",
   "metadata": {},
   "source": [
    "- - -"
   ]
  },
  {
   "cell_type": "markdown",
   "id": "satellite-accuracy",
   "metadata": {},
   "source": [
    "daqui pra trás o esquema foi o chamado **tabular reinforcement learning**, seguindo o roteiro\n",
    "\n",
    "<p style=\"text-align: justify;\"><b>2</b> representação do problema em mdp ---> <b>3</b> algoritmos que resolvem (encontram comportamento ótimo d) esses mdps sequenciais ---> <b>4</b> algoritmos pra tomar decisão sem acesso ao mdp (dando origem ao aprendizado por tentativa e erro) ---> <b>5</b> junta a incerteza do 4 com a sequencialidade do 3 dando origem a agentes que estimam políticas ---> <b>6</b> estudo dos agentes que encontram políticas ótimas em problemas de decisão sequencial sob incerteza, dando orgiem a agentes que aprendem por tentativa e erro capazes de atingir políticas ótimas ---> <b>7</b> otimizar agentes de tentativa e erro</p>\n",
    "\n",
    "agora o lance é "
   ]
  },
  {
   "cell_type": "markdown",
   "id": "neither-scene",
   "metadata": {},
   "source": [
    "# o aprendizado por reforço profundo"
   ]
  },
  {
   "cell_type": "markdown",
   "id": "planned-sphere",
   "metadata": {},
   "source": [
    "há 5 abordagens\n",
    "\n",
    "1. _value-based_\n",
    "2. _policy-based_\n",
    "3. _actor-critic_\n",
    "4. _model-based_\n",
    "5. _gradient-free_"
   ]
  },
  {
   "cell_type": "markdown",
   "id": "chief-radius",
   "metadata": {},
   "source": [
    "## nfq\n",
    "\n",
    "_neural fitted q_\n",
    "\n",
    "escolhas:\n",
    "\n",
    "1. value function to approximate (--> action-value $q(s,a) :\\to Q(s,a;\\theta)$)\n",
    "2. arquitetura (--> state-in-values-out architecture)\n",
    "3. o que otimizar (--> state-in-values-out architecture)\n",
    "4. target para a evaluação de política (--> temporal-difference)\n",
    "5. estrategia de exploração (--> epsilon-greedy)\n",
    "6. loss function (--> mse)\n",
    "7. optimization method (--> rmsprop)\n",
    "\n",
    "<br/>\n",
    "\n",
    "ideal objetive: $L_i(\\theta_i) = E_{s,a}\\left[ \\left( q_{*}(s,a) - Q(s,a;\\theta_i)\\right)^2 \\right]$\n",
    "\n",
    "em que $$ q_{*}(s,a) = \\underset{\\pi}{max} E_{\\pi} \\left[ G_t \\mid S_t=s, A_t=a \\right] $$\n",
    "\n",
    "<br/>\n",
    "\n",
    "td targets can be either on-policy (SARSA) $$ y_{i}^{\\text{SARSA}} = R_{t+1} + \\gamma Q (S_{t+1}, A_{t+1}; \\theta_{i}) $$ or off-policy (Q-learning) $$ y_{i}^{\\text{Q-LEARNING}} = R_{t+1} + \\gamma  \\underset{a}{max} Q (S_{t+1}, a; \\theta_{i}) $$"
   ]
  },
  {
   "cell_type": "markdown",
   "id": "general-cambridge",
   "metadata": {},
   "source": [
    "<br/>\n",
    "\n",
    "então substituindo $q_{*}(s,a)$ por $y_{i}^{\\text{Q-LEARNING}}$:\n",
    "\n",
    "$$L_i(\\theta_i) = E_{s,a,r,s^{\\prime}}\\left[ \\left( r + \\gamma  \\underset{a^{\\prime}}{max} Q (s^{\\prime}, a^{\\prime}; \\theta_{i}) - Q(s,a;\\theta_i)\\right)^2 \\right]$$\n",
    "\n",
    "e diferenciando\n",
    "\n",
    "$$ \\nabla_{\\theta_{i}} L_i(\\theta_i) = E_{s,a,r,s^{\\prime}} \\left[ \\left( r + \\gamma  \\underset{a^{\\prime}}{max} Q (s^{\\prime}, a^{\\prime}; \\theta_{i}) - Q(s,a;\\theta_i)\\right)\\nabla_{\\theta}Q(s,a;\\theta_i) \\right]$$\n",
    "\n",
    "observação: a derivada acima está um pouco esquisita, porque o termo _target_ também depende de $\\theta$, mas a ideia[[1](https://ieor8100.github.io/rl/docs/Lecture%203%20-%20Q-learning%20function%20approximation.pdf)] é que o termo target depende unicamente do estado seguinte, portanto o termo com _argmax_ não é transformado pelo $\\nabla$."
   ]
  },
  {
   "cell_type": "code",
   "execution_count": 29,
   "id": "peaceful-wagner",
   "metadata": {},
   "outputs": [],
   "source": [
    "import numpy as np\n",
    "import random\n",
    "import torch\n",
    "import torch.optim as optim\n",
    "import torch.nn as nn\n",
    "import torch.nn.functional as F\n",
    "\n",
    "import pandas as pd\n",
    "import matplotlib.pyplot as plt\n",
    "\n",
    "from gym import wrappers\n",
    "\n",
    "%matplotlib inline"
   ]
  },
  {
   "cell_type": "code",
   "execution_count": 30,
   "id": "parliamentary-calvin",
   "metadata": {},
   "outputs": [],
   "source": [
    "class FCQ(nn.Module):\n",
    "    def __init__(self, input_dim, output_dim, hidden_dim=(32,32), activation_fc=F.relu):\n",
    "        super(FCQ, self).__init__()\n",
    "        self.activation_fc = activation_fc\n",
    "        \n",
    "        self.input_layer = nn.Linear(input_dim, hidden_dim[0])\n",
    "        self.hidden_layers = nn.ModuleList()\n",
    "        \n",
    "        for i in range(len(hidden_dim)-1):\n",
    "            hidden_layer = nn.Linear(hidden_dim[i], hidden_dim[i+1])\n",
    "            self.hidden_layers.append(hidden_layer)\n",
    "        \n",
    "        self.output_layer = nn.Linear(hidden_dim[-1], output_dim)\n",
    "    \n",
    "    def forward(self, state):\n",
    "        x = state\n",
    "        if not isinstance(x, torch.Tensor):\n",
    "            x = torch.tensor(x, device=self.device, dtype=torch.float32)\n",
    "            x = x.unsqueeze(0)\n",
    "        \n",
    "        x = self.activation_fc( self.input_layer(x) )\n",
    "        \n",
    "        for hidden_layer in self.hidden_layers:\n",
    "            x = self.activation_fc( hidden_layer(x) )\n",
    "\n",
    "        x = self.output_layer(x)\n",
    "        \n",
    "        return x"
   ]
  },
  {
   "cell_type": "markdown",
   "id": "common-invite",
   "metadata": {},
   "source": [
    "_q-learning target_\n",
    "\n",
    "```python\n",
    "q_sp = self.online_model(next_states).detach()\n",
    "\n",
    "max_a_q_sp = q_sp.max(1)[0].unsqueeze(1)\n",
    "max_a_q_sp =* (1 - is_terminals)\n",
    "\n",
    "target_q_s = rewards + self.gamma * max_a_q_sp\n",
    "\n",
    "q_sa = self.online_model(states).gather(1, actions)\n",
    "```"
   ]
  },
  {
   "cell_type": "markdown",
   "id": "drawn-peninsula",
   "metadata": {},
   "source": [
    "_handling terminal states_\n",
    "\n",
    "```python\n",
    "new_state, reward, is_terminal, info = env.step(action)\n",
    "\n",
    "is_truncated = \"TimeLimit.trucated\" in info and info[\"TimeLimit.trucated\"]\n",
    "is_failure = is_terminal and not is_truncated\n",
    "\n",
    "experience = (state, action, reward, new_state, float(is_failure))\n",
    "```"
   ]
  },
  {
   "cell_type": "code",
   "execution_count": 31,
   "id": "comfortable-productivity",
   "metadata": {},
   "outputs": [],
   "source": [
    "class EGreedyStrategy():\n",
    "    \"\"\" ... \"\"\"\n",
    "    \n",
    "    def select_action(self, model, state):\n",
    "        with torch.no_grad():\n",
    "            q_values = model(state).cpu().detach()\n",
    "            q_values = q_values.data.numpy().squeeze()\n",
    "        \n",
    "        if np.random.rand() > self.epsilon:\n",
    "            action = np.argmax(q_values)\n",
    "        else:\n",
    "            action = np.random.randint(len(q_values))\n",
    "        \n",
    "        return action"
   ]
  },
  {
   "cell_type": "markdown",
   "id": "closed-elevation",
   "metadata": {},
   "source": [
    "reorganizando:"
   ]
  },
  {
   "cell_type": "code",
   "execution_count": 32,
   "id": "latest-labor",
   "metadata": {},
   "outputs": [],
   "source": [
    "import numpy as np\n",
    "import random\n",
    "import torch\n",
    "import torch.optim as optim\n",
    "import torch.nn as nn\n",
    "import torch.nn.functional as F\n",
    "\n",
    "DEVICE = \"cpu\"\n",
    "\n",
    "class FCQ(nn.Module):\n",
    "    def __init__(self, input_dim, output_dim, hidden_dim=(64,64), activation_fc=F.relu):\n",
    "        super(FCQ, self).__init__()\n",
    "        \n",
    "        self.activation_fc = activation_fc\n",
    "        \n",
    "        self.input_layer = nn.Linear(input_dim, hidden_dim[0])\n",
    "        self.hidden_layers = nn.ModuleList()\n",
    "        for i in range(len(hidden_dim)-1):\n",
    "            hidden_layer = nn.Linear(hidden_dim[i], hidden_dim[i+1])\n",
    "            self.hidden_layers.append(hidden_layer)\n",
    "        self.output_layer = nn.Linear(hidden_dim[-1], output_dim)\n",
    "    \n",
    "    def forward(self, state):\n",
    "        x = state\n",
    "        if not isinstance(x, torch.Tensor):\n",
    "            x = torch.tensor(x, device=self.device, dtype=torch.float32)\n",
    "            x = x.unsqueeze(0)\n",
    "        \n",
    "        x = self.activation_fc( self.input_layer(x) )\n",
    "        for hidden_layer in self.hidden_layers:\n",
    "            x = self.activation_fc( hidden_layer(x) )\n",
    "        x = self.output_layer(x)\n",
    "        \n",
    "        return x\n",
    "\n",
    "class Agent(object):\n",
    "    def __init__(self, state_size, action_size, gamma=0.99):\n",
    "        self.state_size = state_size\n",
    "        self.action_size = action_size\n",
    "        self.model = FCQ(state_size, action_size)\n",
    "        self.optimizer = optim.RMSprop(self.model.parameters(), lr=0.001)\n",
    "        self.gamma = gamma\n",
    "        self.memory = list()\n",
    "    \n",
    "    def step(self, state, action, reward, next_state, done):\n",
    "        self.memory.append((state, action, reward, next_state, done))\n",
    "    \n",
    "    def act(self, state, eps=0.0):\n",
    "        state = torch.from_numpy(state).float().unsqueeze(0).to(DEVICE)\n",
    "        with torch.no_grad():\n",
    "            action_values = self.model(state)\n",
    "        \n",
    "        if random.random() > eps:  # If eps=1 --> always random choice\n",
    "            return np.argmax(action_values.cpu().data.numpy())\n",
    "        else:\n",
    "            return random.choice(np.arange(self.action_size))\n",
    "        \n",
    "        return action\n",
    "    \n",
    "    def learn(self):\n",
    "        states, actions, rewards, next_states, dones = list(map(list, zip(*self.memory)))\n",
    "        states = torch.FloatTensor(states).to(DEVICE)\n",
    "        next_states = torch.FloatTensor(next_states).to(DEVICE)\n",
    "        rewards = torch.FloatTensor(rewards).to(DEVICE).view(-1, 1)\n",
    "        actions = torch.LongTensor(actions).to(DEVICE).view(-1, 1)\n",
    "        dones = torch.IntTensor(dones).to(DEVICE).view(-1, 1)\n",
    "        \n",
    "        max_a_q_sp = self.model(next_states).detach().max(1)[0].unsqueeze(1) * (1 - dones)\n",
    "        target_q_s = rewards + max_a_q_sp\n",
    "        q_sa = self.model(states).gather(1, actions)\n",
    "        \n",
    "        loss = F.mse_loss(target_q_s, q_sa)\n",
    "        self.optimizer.zero_grad()\n",
    "        loss.backward()\n",
    "        self.optimizer.step()\n",
    "        self.memory = []"
   ]
  },
  {
   "cell_type": "markdown",
   "id": "standing-calculation",
   "metadata": {},
   "source": [
    "- - -"
   ]
  },
  {
   "cell_type": "code",
   "execution_count": 33,
   "id": "micro-forestry",
   "metadata": {},
   "outputs": [],
   "source": [
    "env = gym.make(\"CartPole-v1\")"
   ]
  },
  {
   "cell_type": "code",
   "execution_count": 34,
   "id": "patient-carter",
   "metadata": {},
   "outputs": [],
   "source": [
    "state_size  = env.observation_space.shape[0]\n",
    "action_size = env.action_space.n\n",
    "agent = Agent(state_size, action_size)"
   ]
  },
  {
   "cell_type": "code",
   "execution_count": 35,
   "id": "cordless-michigan",
   "metadata": {},
   "outputs": [
    {
     "name": "stdout",
     "output_type": "stream",
     "text": [
      "Episode: 1000/20000, Score: Rolling Mean: 20 - Mean: 22 - Median: 19 / EPS: 0.95 \n",
      "Episode: 2000/20000, Score: Rolling Mean: 20 - Mean: 21 - Median: 18 / EPS: 0.90 \n",
      "Episode: 3000/20000, Score: Rolling Mean: 26 - Mean: 22 - Median: 19 / EPS: 0.85 \n",
      "Episode: 4000/20000, Score: Rolling Mean: 34 - Mean: 24 - Median: 20 / EPS: 0.80 \n",
      "Episode: 5000/20000, Score: Rolling Mean: 38 - Mean: 27 - Median: 22 / EPS: 0.75 \n",
      "Episode: 6000/20000, Score: Rolling Mean: 47 - Mean: 29 - Median: 23 / EPS: 0.70 \n",
      "Episode: 7000/20000, Score: Rolling Mean: 54 - Mean: 32 - Median: 25 / EPS: 0.65 \n",
      "Episode: 8000/20000, Score: Rolling Mean: 62 - Mean: 35 - Median: 27 / EPS: 0.60 \n",
      "Episode: 9000/20000, Score: Rolling Mean: 97 - Mean: 40 - Median: 29 / EPS: 0.55 \n",
      "Episode: 10000/20000, Score: Rolling Mean: 130 - Mean: 48 - Median: 32 / EPS: 0.50 \n",
      "Episode: 11000/20000, Score: Rolling Mean: 189 - Mean: 58 - Median: 36 / EPS: 0.45 \n",
      "Environment CartPole-v1 is solved since average reward is greater than or equal to 195 over 100 consecutive trials\n"
     ]
    }
   ],
   "source": [
    "EPISODES = 20000\n",
    "scores = list()\n",
    "\n",
    "for e in range(EPISODES+1):\n",
    "    EPS = max(1-e/EPISODES, 0.05)  # Exploratory Rate Decay for E-Greedy Policy\n",
    "    state = env.reset()\n",
    "    done = False\n",
    "    score = 0\n",
    "    \n",
    "    while not(done):\n",
    "        action = agent.act(state, EPS)\n",
    "        next_state, reward, done, _ = env.step(action)\n",
    "        score += reward\n",
    "        agent.step(state, action, score, next_state, done)\n",
    "        state = next_state\n",
    "    agent.learn()  # Learn after collecting experiences by End of Episode\n",
    "    scores.append(score)\n",
    "    \n",
    "    if e % 1000 == 0 and e>1:\n",
    "        print(\"Episode: {}/{}, Score: Rolling Mean: {} - Mean: {} - Median: {} / EPS: {:.2f} \".format(e, EPISODES, int(np.mean(scores[-100:])), int(np.mean(scores)), int(np.median(scores)), EPS))   \n",
    "    if int(np.mean(scores[-100:])) > 195:\n",
    "        print(\"Environment CartPole-v1 is solved since average reward is greater than or equal to 195 over 100 consecutive trials\")        \n",
    "        break"
   ]
  },
  {
   "cell_type": "code",
   "execution_count": 36,
   "id": "labeled-brother",
   "metadata": {},
   "outputs": [
    {
     "data": {
      "image/png": "[encoded data removed]",
      "text/plain": [
       "<Figure size 576x360 with 1 Axes>"
      ]
     },
     "metadata": {
      "needs_background": "light"
     },
     "output_type": "display_data"
    }
   ],
   "source": [
    "pd.Series(scores).plot(linewidth=0.25)\n",
    "pd.Series(scores).rolling(100).mean().plot(linewidth=0.75, figsize=(8, 5))\n",
    "\n",
    "plt.xlabel(\"Episode\")\n",
    "plt.ylabel(\"Score\")\n",
    "plt.title(\"Avg. Training Score\")\n",
    "plt.grid()"
   ]
  },
  {
   "cell_type": "code",
   "execution_count": 37,
   "id": "herbal-imaging",
   "metadata": {},
   "outputs": [],
   "source": [
    "import gym\n",
    "from gym import wrappers\n",
    "\n",
    "env = wrappers.Monitor(env, \"./random\", force=True)\n",
    "env.reset()\n",
    "state = env.reset()\n",
    "for _ in range(100):\n",
    "    action = env.action_space.sample()\n",
    "    observation, reward, done, info = env.step(action)\n",
    "    if done: break\n",
    "env.close()"
   ]
  },
  {
   "cell_type": "code",
   "execution_count": 38,
   "id": "distant-column",
   "metadata": {},
   "outputs": [],
   "source": [
    "import gym\n",
    "from gym import wrappers\n",
    "\n",
    "env = wrappers.Monitor(env, \"./agente\", force=True)\n",
    "env.reset()\n",
    "state = env.reset()\n",
    "for _ in range(100):\n",
    "    action = agent.act(observation)\n",
    "    observation, reward, done, info = env.step(action)\n",
    "    if done: break\n",
    "env.close()"
   ]
  },
  {
   "cell_type": "markdown",
   "id": "indonesian-greene",
   "metadata": {},
   "source": [
    "- - -"
   ]
  },
  {
   "cell_type": "markdown",
   "id": "steady-integrity",
   "metadata": {},
   "source": [
    "# buscando a generalização (do dql)\n",
    "\n",
    "![](../img/nfq_2.png)"
   ]
  },
  {
   "cell_type": "markdown",
   "id": "serious-grill",
   "metadata": {},
   "source": [
    "* _[deque](https://docs.python.org/3/library/collections.html#collections.deque)_ : listas eficientes pra append e pop"
   ]
  },
  {
   "cell_type": "markdown",
   "id": "vital-contributor",
   "metadata": {},
   "source": [
    "```python\n",
    "class Model():\n",
    "    def __init__(dim_estados, dim_acoes, hparam_rede_):\n",
    "        ... # define variaveis locais\n",
    "        modelo = constroi_modelo()\n",
    "    \n",
    "        \n",
    "    def constroi_modelo():\n",
    "        ... # cria objeto do modelo em funcao de variaveis locais\n",
    "        return modelo\n",
    "    \n",
    "    \n",
    "    def forward(estado):\n",
    "        ... # propaga variaveis de estado atraves do modelo\n",
    "        return output\n",
    "    \n",
    "\n",
    "class Agent():\n",
    "    def __init__():\n",
    "        # vars_ambiente\n",
    "        dim_estados = ...\n",
    "        dim_acoes = ...\n",
    "        # vars_agente\n",
    "        memoria = deque()\n",
    "        hparam_exploracao_1 = ...\n",
    "        hparam_exploracao_N = ...\n",
    "        # vars_modelo\n",
    "        hparam_rede_1 = ...\n",
    "        hparam_rede_N = ...\n",
    "        # vars_otimizacao\n",
    "        opt_funcao_perda = ...\n",
    "        opt_otimizador = ...\n",
    "        \n",
    "        modelo = Model(dim_estados, dim_acoes, hparam_rede_)\n",
    "     \n",
    "        \n",
    "    def act(estado):\n",
    "        acao = modelo.predict(estado)\n",
    "        ... # aplica ou nao exploration-exploitation em funcao de hparam_exploracao_\n",
    "        return acao\n",
    "\n",
    "    \n",
    "    def remember(estado, acao, reward, proximo estado, done):\n",
    "        ... # manda estado, acao, reward, proximo estado, done para memoria\n",
    "    \n",
    "        \n",
    "    def learn(estado, acao, reward, proximo estado, done):\n",
    "        ... # traz estados, acoes, rewards, proximos estados, dones da memoria\n",
    "        ... # calcula target e predicao em funcao de proximos estados\n",
    "        loss = opt_funcao_perda( predicao, target )\n",
    "        loss.opt_otimizador()\n",
    "        loss.backward()\n",
    "        opt_otimizador.step()\n",
    "        ... # limpa memoria\n",
    "\n",
    "        \n",
    "class Solver():\n",
    "    def __init__(ambiente):\n",
    "        env = ambiente\n",
    "        agent = Agent(vars_ambiente, vars_agente, vars_modelo)\n",
    "        scores = list()\n",
    "        \n",
    "    \n",
    "    for episode in NUM_EPISODES:\n",
    "        state = env.reset()\n",
    "        score = 0\n",
    "        done = False\n",
    "        ... # distribuicao de estrategia de exploration-exploitation\n",
    "        while not(done):\n",
    "            acao = agent.act(state, args**)                # observe state -> take action\n",
    "            next_state, reward, done, _ = env.step(action) # feedback -> new state\n",
    "            score += reward                                # recompensa\n",
    "            agent.step(state, next_state, reward, done)\n",
    "            state = next_state                             # novo estado\n",
    "        agent.learn()\n",
    "        scores.append(score)\n",
    "        \n",
    "        ... # log das épocas\n",
    "        ... # critério de resolução\n",
    "```"
   ]
  },
  {
   "cell_type": "markdown",
   "id": "characteristic-profile",
   "metadata": {},
   "source": [
    "algumas referências\n",
    "\n",
    "* [An overview of gradient descent optimization algorithms](https://ruder.io/optimizing-gradient-descent/)\n",
    "* [Neural Network Architecture: Criteria for Choosing the Number and Size of Hidden Layers | Baeldung on Computer Science](https://www.baeldung.com/cs/neural-networks-hidden-layers-criteria)\n",
    "* [An Introduction to Reinforcement Learning Q-Learning with Decision Trees | by Chakrit Yau | Towards Data Science](https://towardsdatascience.com/reinforcement-learning-q-learning-with-decision-trees-ecb1215d9131)"
   ]
  },
  {
   "cell_type": "markdown",
   "id": "reduced-piece",
   "metadata": {},
   "source": [
    "# testando a generalização"
   ]
  },
  {
   "cell_type": "code",
   "execution_count": 1,
   "id": "qualified-worry",
   "metadata": {},
   "outputs": [],
   "source": [
    "import collections\n",
    "import random\n",
    "import torch\n",
    "import torch.optim         as optim\n",
    "import torch.nn            as nn\n",
    "import torch.nn.functional as F\n",
    "\n",
    "import gym\n",
    "from gym import wrappers\n",
    "\n",
    "import torchinfo\n",
    "\n",
    "import numpy as np\n",
    "import pandas as pd\n",
    "import matplotlib.pyplot as plt\n",
    "from matplotlib import animation, rc"
   ]
  },
  {
   "cell_type": "code",
   "execution_count": 2,
   "id": "pretty-person",
   "metadata": {},
   "outputs": [],
   "source": [
    "DEVICE = \"cpu\""
   ]
  },
  {
   "cell_type": "code",
   "execution_count": 3,
   "id": "bulgarian-layout",
   "metadata": {},
   "outputs": [],
   "source": [
    "class Model(nn.Module):\n",
    "    def __init__(self, dim_estados, dim_acoes, hparam_rede):\n",
    "        super(Model, self).__init__()\n",
    "        \n",
    "        self.hparam_rede = dict()\n",
    "        \n",
    "        self.dim_estados = dim_estados\n",
    "        self.dim_acoes = dim_acoes\n",
    "        self.hparam_rede = hparam_rede\n",
    "        \n",
    "        self.constroi_modelo()\n",
    "    \n",
    "        \n",
    "    def constroi_modelo(self):\n",
    "        self.input = nn.Linear( self.dim_estados, self.hparam_rede['hidden_layers'][0] )\n",
    "        self.hidden = nn.ModuleList()\n",
    "        for i in range(len(self.hparam_rede['hidden_layers'])-1):\n",
    "            self.hidden.append( nn.Linear(self.hparam_rede['hidden_layers'][i], self.hparam_rede['hidden_layers'][i+1]) )\n",
    "        self.output = nn.Linear( self.hparam_rede['hidden_layers'][-1], self.dim_acoes )\n",
    "    \n",
    "    \n",
    "    def forward(self, estado):\n",
    "        x = estado\n",
    "        if not isinstance(x, torch.Tensor):\n",
    "            x = torch.tensor(x, dtype=torch.float32)\n",
    "            x = x.unsqueeze(0)\n",
    "        \n",
    "        x = self.hparam_rede['func_ativacao']( self.input(x) )\n",
    "        for h in self.hidden:\n",
    "            x = self.hparam_rede['func_ativacao']( h(x) )\n",
    "        x = self.output(x)\n",
    "        \n",
    "        return x"
   ]
  },
  {
   "cell_type": "code",
   "execution_count": 4,
   "id": "average-condition",
   "metadata": {},
   "outputs": [],
   "source": [
    "class Agent(object):\n",
    "    def __init__(self, hparams_ambiente, hparams_model, hparams_reforco):\n",
    "        self.dim_estados = hparams_ambiente['estados']\n",
    "        self.dim_acoes = hparams_ambiente['acoes']\n",
    "\n",
    "        self.hparams_model = dict()\n",
    "        self.hparams_reforco = dict()\n",
    "        self.memoria = collections.deque()\n",
    "\n",
    "        self.hparams_model['hidden_layers'] = hparams_model['hidden_layers']\n",
    "        self.hparams_model['func_ativacao'] = hparams_model['func_ativacao']\n",
    "        self.modelo = Model(self.dim_estados, self.dim_acoes, self.hparams_model)\n",
    "        self.hparams_model['func_opt'] = hparams_model['func_opt'](self.modelo.parameters(), lr=0.001)\n",
    "        self.hparams_model['func_loss'] = hparams_model['func_loss']\n",
    "     \n",
    "        self.hparams_reforco['gamma'] = 0.99\n",
    "        \n",
    "        \n",
    "    def act(self, estado, epsilon=0.0):\n",
    "        x = torch.from_numpy(estado).float().unsqueeze(0).to(DEVICE)\n",
    "        \n",
    "        with torch.no_grad():\n",
    "            acoes = self.modelo(x)\n",
    "        \n",
    "        if random.random() > epsilon:\n",
    "            return np.argmax(acoes.cpu().data.numpy())\n",
    "        else:\n",
    "            return random.choice(np.arange(self.dim_acoes))\n",
    "\n",
    "    \n",
    "    def remember(self, estado, acao, reward, proximo_estado, done):\n",
    "        self.memoria.append( (estado, acao, reward, proximo_estado, done) )\n",
    "    \n",
    "        \n",
    "    def learn(self):\n",
    "        estados, acoes, rewards, prx_estados, dones = list(map(list, zip(*self.memoria)))\n",
    "\n",
    "        estados = torch.FloatTensor(estados).to(DEVICE)\n",
    "        prx_estados = torch.FloatTensor(prx_estados).to(DEVICE)\n",
    "        acoes = torch.LongTensor(acoes).to(DEVICE).view(-1, 1)\n",
    "        rewards = torch.FloatTensor(rewards).to(DEVICE).view(-1, 1)\n",
    "        dones = torch.IntTensor(dones).to(DEVICE).view(-1, 1)\n",
    "        \n",
    "        max_a_q_sp = self.modelo(prx_estados).detach().max(1)[0].unsqueeze(1) * (1 - dones)\n",
    "        target_q_s = rewards + max_a_q_sp\n",
    "        q_sa = self.modelo(estados).gather(1, acoes)\n",
    "        \n",
    "        loss = self.hparams_model['func_loss']( target_q_s, q_sa )\n",
    "        self.hparams_model['func_opt'].zero_grad()\n",
    "        loss.backward()\n",
    "        self.hparams_model['func_opt'].step()\n",
    "        self.memoria = collections.deque()"
   ]
  },
  {
   "cell_type": "code",
   "execution_count": 5,
   "id": "healthy-authentication",
   "metadata": {},
   "outputs": [],
   "source": [
    "class Solver():\n",
    "    def __init__(self, ambiente, hparams_model, hparams_reforco):\n",
    "        self.env = ambiente\n",
    "        \n",
    "        self.hparams_ambiente = dict()\n",
    "        self.hparams_model = hparams_model\n",
    "        self.hparams_reforco = hparams_reforco\n",
    "        \n",
    "        self.hparams_ambiente['estados'] = self.env.observation_space.shape[0]\n",
    "        self.hparams_ambiente['acoes'] = self.env.action_space.n\n",
    "        \n",
    "        self.agent = Agent(self.hparams_ambiente, self.hparams_model, self.hparams_reforco)\n",
    "        self.scores = list()\n",
    "        \n",
    "    def solve(self, episodios):\n",
    "        estado = self.env.reset()\n",
    "        \n",
    "        for e in range(episodios + 1):\n",
    "            estado = self.env.reset()\n",
    "            score = 0\n",
    "            done = False\n",
    "            epsilon = max( 1 -  e/episodios, 0.05)\n",
    "\n",
    "            while not(done):\n",
    "                acao = self.agent.act(estado, epsilon)                     # observe state -> take action\n",
    "                prx_estado, reward, done, _ = self.env.step(acao)          # feedback -> new state\n",
    "                score += reward                                            # recompensa\n",
    "                self.agent.remember(estado, acao, score, prx_estado, done)\n",
    "                estado = prx_estado                                        # novo estado\n",
    "            self.agent.learn()\n",
    "            self.scores.append(score)\n",
    "\n",
    "            if (e % 1000 == 0) and (e > 1):\n",
    "                print( \"episodio : {:>6} de {:>6}  |  (media movel, media, mediana, epsilon) = ({:>3}, {:>3}, {:>3}, {:>3})\".format(\n",
    "                    e, episodios, int(np.mean(self.scores[-100:])), int(np.mean(self.scores)), int(np.median(self.scores)), epsilon) )\n",
    "            \n",
    "            if int(np.mean(self.scores[-100:])) > 195:\n",
    "                print(\"RESOLVIDO!\")\n",
    "                break"
   ]
  },
  {
   "cell_type": "code",
   "execution_count": 6,
   "id": "provincial-brave",
   "metadata": {},
   "outputs": [],
   "source": [
    "env = gym.make(\"CartPole-v1\")\n",
    "\n",
    "hparams_model = {\n",
    "    \"hidden_layers\" : (64, 64) , \n",
    "    \"func_ativacao\" : F.relu ,\n",
    "    \"func_opt\" : optim.RMSprop , \n",
    "    \"func_loss\" : F.mse_loss , \n",
    "}\n",
    "\n",
    "hparams_reforco = {    \n",
    "}\n",
    "\n",
    "RL = Solver(gym.make(\"CartPole-v1\"), hparams_model, hparams_reforco)"
   ]
  },
  {
   "cell_type": "code",
   "execution_count": 7,
   "id": "rapid-figure",
   "metadata": {},
   "outputs": [
    {
     "name": "stdout",
     "output_type": "stream",
     "text": [
      "episodio :   1000 de  20000  |  (media movel, media, mediana, epsilon) = ( 20,  21,  19, 0.95)\n",
      "episodio :   2000 de  20000  |  (media movel, media, mediana, epsilon) = ( 25,  22,  19, 0.9)\n",
      "episodio :   3000 de  20000  |  (media movel, media, mediana, epsilon) = ( 31,  24,  21, 0.85)\n",
      "episodio :   4000 de  20000  |  (media movel, media, mediana, epsilon) = ( 30,  26,  22, 0.8)\n",
      "episodio :   5000 de  20000  |  (media movel, media, mediana, epsilon) = ( 38,  28,  23, 0.75)\n",
      "episodio :   6000 de  20000  |  (media movel, media, mediana, epsilon) = ( 46,  30,  25, 0.7)\n",
      "episodio :   7000 de  20000  |  (media movel, media, mediana, epsilon) = ( 59,  34,  27, 0.65)\n",
      "episodio :   8000 de  20000  |  (media movel, media, mediana, epsilon) = ( 76,  38,  29, 0.6)\n",
      "episodio :   9000 de  20000  |  (media movel, media, mediana, epsilon) = ( 97,  45,  31, 0.55)\n",
      "episodio :  10000 de  20000  |  (media movel, media, mediana, epsilon) = (157,  53,  34, 0.5)\n",
      "RESOLVIDO!\n"
     ]
    }
   ],
   "source": [
    "RL.solve(20000)"
   ]
  },
  {
   "cell_type": "code",
   "execution_count": 8,
   "id": "compressed-belief",
   "metadata": {},
   "outputs": [
    {
     "data": {
      "image/png": "[encoded data removed]",
      "text/plain": [
       "<Figure size 576x360 with 1 Axes>"
      ]
     },
     "metadata": {
      "needs_background": "light"
     },
     "output_type": "display_data"
    }
   ],
   "source": [
    "pd.Series(RL.scores).plot(linewidth=0.25)\n",
    "pd.Series(RL.scores).rolling(100).mean().plot(linewidth=0.75, figsize=(8, 5))\n",
    "\n",
    "plt.xlabel(\"episodio\")\n",
    "plt.ylabel(\"score\")\n",
    "plt.title(\"media movel de score\")\n",
    "plt.grid()"
   ]
  },
  {
   "cell_type": "code",
   "execution_count": 9,
   "id": "broad-digit",
   "metadata": {},
   "outputs": [],
   "source": [
    "observation = env.reset()\n",
    "firstframe = env.render(mode = 'rgb_array')\n",
    "frames = [firstframe]\n",
    "\n",
    "for i in range(250):\n",
    "    action = env.action_space.sample()\n",
    "    observation, reward, done, info = env.step(action)\n",
    "    frame = env.render(mode = 'rgb_array')\n",
    "    frames.append(frame)\n",
    "    if done:\n",
    "        break\n",
    "env.close()"
   ]
  },
  {
   "cell_type": "code",
   "execution_count": 10,
   "id": "grateful-consideration",
   "metadata": {},
   "outputs": [],
   "source": [
    "def env_savegif(frames, path, fname):\n",
    "    try:\n",
    "        plt.figure(figsize=(frames[0].shape[1] / 72.0, frames[0].shape[0] / 72.0), dpi=72)\n",
    "    except:\n",
    "        plt.figure(figsize=(frames[0].get_size()[1] / 72.0, frames[0].get_size()[0] / 72.0), dpi=72)\n",
    "    patch = plt.imshow(frames[0])\n",
    "    plt.axis('off')\n",
    "    \n",
    "    def animate(i):\n",
    "        patch.set_data(frames[i])\n",
    "    \n",
    "    anim = animation.FuncAnimation(plt.gcf(), animate, frames = len(frames), interval=5)\n",
    "    anim.save(path + fname, writer='imagemagick', fps=60)"
   ]
  },
  {
   "cell_type": "code",
   "execution_count": 11,
   "id": "searching-buying",
   "metadata": {},
   "outputs": [
    {
     "data": {
      "image/png": "[encoded data removed]",
      "text/plain": [
       "<Figure size 600x400 with 1 Axes>"
      ]
     },
     "metadata": {
      "needs_background": "light"
     },
     "output_type": "display_data"
    }
   ],
   "source": [
    "env_savegif(frames, \"./\", \"random.gif\")"
   ]
  },
  {
   "cell_type": "markdown",
   "id": "relative-privacy",
   "metadata": {},
   "source": [
    "generalizacao de framework"
   ]
  },
  {
   "cell_type": "code",
   "execution_count": 13,
   "id": "honest-trinity",
   "metadata": {},
   "outputs": [],
   "source": [
    "env = gym.make(\"MountainCar-v0\")"
   ]
  },
  {
   "cell_type": "code",
   "execution_count": 14,
   "id": "toxic-impression",
   "metadata": {},
   "outputs": [
    {
     "data": {
      "image/png": "[encoded data removed]",
      "text/plain": [
       "<Figure size 600x400 with 1 Axes>"
      ]
     },
     "metadata": {
      "needs_background": "light"
     },
     "output_type": "display_data"
    }
   ],
   "source": [
    "env_savegif(frames, \"./\", \"random.gif\")"
   ]
  },
  {
   "cell_type": "markdown",
   "id": "international-opera",
   "metadata": {},
   "source": [
    "treinando"
   ]
  },
  {
   "cell_type": "code",
   "execution_count": 109,
   "id": "stock-tradition",
   "metadata": {},
   "outputs": [],
   "source": [
    "hparams_model = {\n",
    "    \"hidden_layers\" : (64, 64) , \n",
    "    \"func_ativacao\" : F.relu ,\n",
    "    \"func_opt\" : optim.RMSprop , \n",
    "    \"func_loss\" : F.mse_loss , \n",
    "}\n",
    "\n",
    "hparams_reforco = {    \n",
    "}\n",
    "\n",
    "RL = Solver(gym.make(\"MountainCar-v0\"), hparams_model, hparams_reforco)"
   ]
  },
  {
   "cell_type": "code",
   "execution_count": 110,
   "id": "earlier-edgar",
   "metadata": {},
   "outputs": [
    {
     "name": "stdout",
     "output_type": "stream",
     "text": [
      "episodio :   1000 de  20000  |  (media movel, media, mediana, epsilon) = (-200, -200, -200, 0.95)\n",
      "episodio :   2000 de  20000  |  (media movel, media, mediana, epsilon) = (-200, -200, -200, 0.9)\n",
      "episodio :   3000 de  20000  |  (media movel, media, mediana, epsilon) = (-200, -200, -200, 0.85)\n",
      "episodio :   4000 de  20000  |  (media movel, media, mediana, epsilon) = (-200, -200, -200, 0.8)\n",
      "episodio :   5000 de  20000  |  (media movel, media, mediana, epsilon) = (-200, -200, -200, 0.75)\n",
      "episodio :   6000 de  20000  |  (media movel, media, mediana, epsilon) = (-200, -200, -200, 0.7)\n",
      "episodio :   7000 de  20000  |  (media movel, media, mediana, epsilon) = (-200, -200, -200, 0.65)\n",
      "episodio :   8000 de  20000  |  (media movel, media, mediana, epsilon) = (-200, -200, -200, 0.6)\n",
      "episodio :   9000 de  20000  |  (media movel, media, mediana, epsilon) = (-200, -200, -200, 0.55)\n",
      "episodio :  10000 de  20000  |  (media movel, media, mediana, epsilon) = (-200, -200, -200, 0.5)\n",
      "episodio :  11000 de  20000  |  (media movel, media, mediana, epsilon) = (-200, -200, -200, 0.44999999999999996)\n",
      "episodio :  12000 de  20000  |  (media movel, media, mediana, epsilon) = (-200, -200, -200, 0.4)\n",
      "episodio :  13000 de  20000  |  (media movel, media, mediana, epsilon) = (-200, -200, -200, 0.35)\n",
      "episodio :  14000 de  20000  |  (media movel, media, mediana, epsilon) = (-200, -200, -200, 0.30000000000000004)\n",
      "episodio :  15000 de  20000  |  (media movel, media, mediana, epsilon) = (-200, -200, -200, 0.25)\n",
      "episodio :  16000 de  20000  |  (media movel, media, mediana, epsilon) = (-200, -200, -200, 0.19999999999999996)\n",
      "episodio :  17000 de  20000  |  (media movel, media, mediana, epsilon) = (-200, -200, -200, 0.15000000000000002)\n",
      "episodio :  18000 de  20000  |  (media movel, media, mediana, epsilon) = (-200, -200, -200, 0.09999999999999998)\n",
      "episodio :  19000 de  20000  |  (media movel, media, mediana, epsilon) = (-200, -200, -200, 0.050000000000000044)\n",
      "episodio :  20000 de  20000  |  (media movel, media, mediana, epsilon) = (-200, -200, -200, 0.05)\n"
     ]
    }
   ],
   "source": [
    "RL.solve(20000)"
   ]
  },
  {
   "cell_type": "code",
   "execution_count": 111,
   "id": "communist-benchmark",
   "metadata": {},
   "outputs": [],
   "source": [
    "observation = env.reset()\n",
    "firstframe = env.render(mode = 'rgb_array')\n",
    "frames = [firstframe]\n",
    "\n",
    "for i in range(250):\n",
    "    action = RL.agent.act(observation)\n",
    "    observation, reward, done, info = env.step(action)\n",
    "    frame = env.render(mode = 'rgb_array')\n",
    "    frames.append(frame)\n",
    "    if done:\n",
    "        break\n",
    "env.close()"
   ]
  },
  {
   "cell_type": "code",
   "execution_count": 112,
   "id": "twenty-boost",
   "metadata": {},
   "outputs": [
    {
     "data": {
      "image/png": "[encoded data removed]",
      "text/plain": [
       "<Figure size 600x400 with 1 Axes>"
      ]
     },
     "metadata": {
      "needs_background": "light"
     },
     "output_type": "display_data"
    }
   ],
   "source": [
    "env_savegif(frames, \"./\", \"treinado.gif\")"
   ]
  },
  {
   "cell_type": "code",
   "execution_count": 15,
   "id": "necessary-glory",
   "metadata": {},
   "outputs": [
    {
     "name": "stdout",
     "output_type": "stream",
     "text": [
      "Box([-4.8000002e+00 -3.4028235e+38 -4.1887903e-01 -3.4028235e+38], [4.8000002e+00 3.4028235e+38 4.1887903e-01 3.4028235e+38], (4,), float32)\n",
      "Discrete(2)\n"
     ]
    }
   ],
   "source": [
    "print( RL.env.observation_space )\n",
    "print( RL.env.action_space )"
   ]
  },
  {
   "cell_type": "markdown",
   "id": "alike-reach",
   "metadata": {},
   "source": [
    "ajustando recompensa"
   ]
  },
  {
   "cell_type": "markdown",
   "id": "cardiac-worcester",
   "metadata": {},
   "source": [
    "+ [https://tims457.medium.com/solving-mountain-car-with-q-learning-b77bf71b1de2](https://tims457.medium.com/solving-mountain-car-with-q-learning-b77bf71b1de2)\n",
    "+ [https://gist.github.com/tims457/244d36ea4aac872f1c3a82d3b481a99c#file-mountain-car-v0-q-learning-ipynbhttps://gist.github.com/tims457/244d36ea4aac872f1c3a82d3b481a99c#file-mountain-car-v0-q-learning-ipynb](https://gist.github.com/tims457/244d36ea4aac872f1c3a82d3b481a99c#file-mountain-car-v0-q-learning-ipynbhttps://gist.github.com/tims457/244d36ea4aac872f1c3a82d3b481a99c#file-mountain-car-v0-q-learning-ipynb)"
   ]
  },
  {
   "cell_type": "code",
   "execution_count": 135,
   "id": "baking-validity",
   "metadata": {},
   "outputs": [],
   "source": [
    "from torch.distributions import Categorical\n",
    "\n",
    "DEVICE = \"cpu\""
   ]
  },
  {
   "cell_type": "code",
   "execution_count": 136,
   "id": "boring-mentor",
   "metadata": {},
   "outputs": [],
   "source": [
    "class Model(nn.Module):\n",
    "    def __init__(self, dim_estados, dim_acoes, hparam_rede):\n",
    "        super(Model, self).__init__()\n",
    "        \n",
    "        self.hparam_rede = dict()\n",
    "        \n",
    "        self.dim_estados = dim_estados\n",
    "        self.dim_acoes = dim_acoes\n",
    "        self.hparam_rede = hparam_rede\n",
    "        \n",
    "        self.constroi_modelo()\n",
    "    \n",
    "        \n",
    "    def constroi_modelo(self):\n",
    "        self.input = nn.Linear( self.dim_estados, self.hparam_rede['hidden_layers'][0] )\n",
    "        self.hidden = nn.ModuleList()\n",
    "        for i in range(len(self.hparam_rede['hidden_layers'])-1):\n",
    "            self.hidden.append(nn.Dropout(0.1))\n",
    "            self.hidden.append( nn.Linear(self.hparam_rede['hidden_layers'][i], self.hparam_rede['hidden_layers'][i+1]) )\n",
    "        self.output = nn.Linear( self.hparam_rede['hidden_layers'][-1], self.dim_acoes )\n",
    "    \n",
    "    \n",
    "    def forward(self, estado):\n",
    "        x = estado\n",
    "        if not isinstance(x, torch.Tensor):\n",
    "            x = torch.tensor(x, dtype=torch.float32)\n",
    "            x = x.unsqueeze(0)\n",
    "        \n",
    "        x = self.hparam_rede['func_ativacao']( self.input(x) )\n",
    "        for h in self.hidden:\n",
    "            x = self.hparam_rede['func_ativacao']( h(x) )\n",
    "        # x = F.softmax(self.output(x), dim=0)\n",
    "        x = self.output(x)\n",
    "        \n",
    "        return x"
   ]
  },
  {
   "cell_type": "code",
   "execution_count": 153,
   "id": "cross-alarm",
   "metadata": {},
   "outputs": [],
   "source": [
    "class Agent(object):\n",
    "    def __init__(self, hparams_ambiente, hparams_model, hparams_reforco):\n",
    "        self.dim_estados = hparams_ambiente['estados']\n",
    "        self.dim_acoes = hparams_ambiente['acoes']\n",
    "\n",
    "        self.hparams_model = dict()\n",
    "        self.hparams_reforco = dict()\n",
    "        self.memoria = collections.deque()\n",
    "\n",
    "        self.hparams_model['hidden_layers'] = hparams_model['hidden_layers']\n",
    "        self.hparams_model['func_ativacao'] = hparams_model['func_ativacao']\n",
    "        self.modelo = Model(self.dim_estados, self.dim_acoes, self.hparams_model)\n",
    "        self.hparams_model['func_opt'] = hparams_model['func_opt'](self.modelo.parameters(), lr=0.001)\n",
    "        self.hparams_model['func_loss'] = hparams_model['func_loss']\n",
    "     \n",
    "        self.hparams_reforco['gamma'] = 0.99\n",
    "        \n",
    "        \n",
    "    def act(self, estado, epsilon=0.0):\n",
    "        x = torch.from_numpy(estado).float().unsqueeze(0).to(DEVICE)\n",
    "        \n",
    "        with torch.no_grad():\n",
    "            acoes = self.modelo(x)\n",
    "        \n",
    "        if random.random() > epsilon:\n",
    "            return np.argmax(acoes.cpu().data.numpy())\n",
    "        else:\n",
    "            return random.choice(np.arange(self.dim_acoes))\n",
    "\n",
    "    \n",
    "    def remember(self, estado, acao, reward, proximo_estado, done):\n",
    "        self.memoria.append( (estado, acao, reward, proximo_estado, done) )\n",
    "    \n",
    "        \n",
    "    def learn(self):\n",
    "        estados, acoes, rewards, prx_estados, dones = list(map(list, zip(*self.memoria)))\n",
    "\n",
    "        estados = torch.FloatTensor(estados).to(DEVICE)\n",
    "        prx_estados = torch.FloatTensor(prx_estados).to(DEVICE)\n",
    "        acoes = torch.LongTensor(acoes).to(DEVICE).view(-1, 1)\n",
    "        rewards = torch.FloatTensor(rewards).to(DEVICE).view(-1, 1)\n",
    "        dones = torch.IntTensor(dones).to(DEVICE).view(-1, 1)\n",
    "        \n",
    "        max_a_q_sp = self.modelo(prx_estados).detach().max(1)[0].unsqueeze(1) * (1 - dones)\n",
    "        target_q_s = rewards + max_a_q_sp\n",
    "        q_sa = self.modelo(estados).gather(1, acoes)\n",
    "        \n",
    "        loss = self.hparams_model['func_loss']( target_q_s, q_sa )\n",
    "        self.hparams_model['func_opt'].zero_grad()\n",
    "        loss.backward()\n",
    "        self.hparams_model['func_opt'].step()\n",
    "        self.memoria = collections.deque()"
   ]
  },
  {
   "cell_type": "code",
   "execution_count": 154,
   "id": "medical-tampa",
   "metadata": {},
   "outputs": [],
   "source": [
    "class Solver():\n",
    "    def __init__(self, ambiente, hparams_model, hparams_reforco):\n",
    "        self.env = ambiente\n",
    "        \n",
    "        self.hparams_ambiente = dict()\n",
    "        self.hparams_model = hparams_model\n",
    "        self.hparams_reforco = hparams_reforco\n",
    "        \n",
    "        self.hparams_ambiente['estados'] = self.env.observation_space.shape[0]\n",
    "        self.hparams_ambiente['acoes'] = self.env.action_space.n\n",
    "        \n",
    "        self.agent = Agent(self.hparams_ambiente, self.hparams_model, self.hparams_reforco)\n",
    "        self.scores = list()\n",
    "        self.sucesso = 0\n",
    "        self.epsilon = 0.333\n",
    "        self.max_score = -np.inf\n",
    "        \n",
    "    def solve(self, episodios):\n",
    "        estado = self.env.reset()\n",
    "        \n",
    "        for e in range(episodios + 1):\n",
    "            estado = self.env.reset()\n",
    "            score = 0\n",
    "            done = False\n",
    "            # epsilon = max( 1 -  e/episodios, 0.05)\n",
    "\n",
    "            for _ in range(self.hparams_reforco[\"MAX\"]):\n",
    "                acao = self.agent.act(estado, self.epsilon)                # observe state -> take action\n",
    "                prx_estado, reward, done, _ = self.env.step(acao)          # feedback -> new state\n",
    "                \n",
    "                #score += reward                                           # recompensa\n",
    "                #score = prx_estado[0] + 0.5\n",
    "                #if prx_estado[0] >= 0.5:\n",
    "                #    score += 1\n",
    "                if prx_estado[0] >= 0.5:\n",
    "                    score += 10\n",
    "                elif prx_estado[0] > -0.4:\n",
    "                    score += (1 + prx_estado[0])**2\n",
    "                else:\n",
    "                    score = 0\n",
    "                \n",
    "                if score > self.max_score:\n",
    "                    self.max_score = score\n",
    "                \n",
    "                self.agent.remember(estado, acao, score, prx_estado, done)\n",
    "                if done:\n",
    "                    if prx_estado[0] >= 0.5:\n",
    "                        self.epsilon *= .9\n",
    "                        self.sucesso += 1\n",
    "                        print(rf\"RESOLVIDO! (episodio {e}, {self.sucesso} sucessos, score {score})\")\n",
    "                        break\n",
    "                else:\n",
    "                    estado = prx_estado                                        # novo estado\n",
    "            self.agent.learn()\n",
    "            self.scores.append(score)\n",
    "\n",
    "            if (e % 100 == 0) and (e > 1):\n",
    "                print( \"episodio : {:>6} de {:>6}  |  (score, media movel, media, mediana, epsilon) = ({:>3}, {:>3}, {:>3}, {:>3}, {:>3}) | max score : {:>3}\".format(\n",
    "                    e, episodios, round(score, 3), round(np.mean(self.scores[-100:]),3), round(np.mean(self.scores), 3), round(np.median(self.scores), 3), round(self.epsilon, 3), round(self.max_score, 3)) )"
   ]
  },
  {
   "cell_type": "code",
   "execution_count": 155,
   "id": "prostate-winner",
   "metadata": {},
   "outputs": [],
   "source": [
    "hparams_model = {\n",
    "    \"hidden_layers\" : (50,) , \n",
    "    \"func_ativacao\" : F.relu ,\n",
    "    \"func_opt\" : optim.RMSprop , \n",
    "    \"func_loss\" : F.mse_loss , \n",
    "}\n",
    "\n",
    "hparams_reforco = {    \n",
    "    \"MAX\" : 555 ,\n",
    "}\n",
    "\n",
    "RL = Solver(gym.make(\"MountainCar-v0\"), hparams_model, hparams_reforco)"
   ]
  },
  {
   "cell_type": "code",
   "execution_count": 156,
   "id": "ecological-justice",
   "metadata": {},
   "outputs": [
    {
     "data": {
      "text/plain": [
       "Model(\n",
       "  (input): Linear(in_features=2, out_features=50, bias=True)\n",
       "  (hidden): ModuleList()\n",
       "  (output): Linear(in_features=50, out_features=3, bias=True)\n",
       ")"
      ]
     },
     "execution_count": 156,
     "metadata": {},
     "output_type": "execute_result"
    }
   ],
   "source": [
    "RL.agent.modelo"
   ]
  },
  {
   "cell_type": "code",
   "execution_count": 157,
   "id": "published-clause",
   "metadata": {},
   "outputs": [
    {
     "data": {
      "text/plain": [
       "=================================================================\n",
       "Layer (type:depth-idx)                   Param #\n",
       "=================================================================\n",
       "Model                                    --\n",
       "├─Linear: 1-1                            150\n",
       "├─ModuleList: 1-2                        --\n",
       "├─Linear: 1-3                            153\n",
       "=================================================================\n",
       "Total params: 303\n",
       "Trainable params: 303\n",
       "Non-trainable params: 0\n",
       "================================================================="
      ]
     },
     "execution_count": 157,
     "metadata": {},
     "output_type": "execute_result"
    }
   ],
   "source": [
    "torchinfo.summary(RL.agent.modelo)"
   ]
  },
  {
   "cell_type": "code",
   "execution_count": 158,
   "id": "undefined-pavilion",
   "metadata": {
    "tags": []
   },
   "outputs": [
    {
     "name": "stdout",
     "output_type": "stream",
     "text": [
      "episodio :    100 de   1000  |  (score, media movel, media, mediana, epsilon) = (1.654, 1.934, 1.915, 0.0, 0.333) | max score : 31.101\n",
      "episodio :    200 de   1000  |  (score, media movel, media, mediana, epsilon) = (2.675, 3.758, 2.832, 0.0, 0.333) | max score : 49.357\n",
      "RESOLVIDO! (episodio 269, 1 sucessos, score 65.01589580702286)\n",
      "episodio :    300 de   1000  |  (score, media movel, media, mediana, epsilon) = (  0, 3.599, 3.087, 0.0, 0.3) | max score : 65.016\n",
      "episodio :    400 de   1000  |  (score, media movel, media, mediana, epsilon) = (  0, 3.169, 3.107, 0.0, 0.3) | max score : 65.016\n",
      "episodio :    500 de   1000  |  (score, media movel, media, mediana, epsilon) = (  0, 4.236, 3.332, 0.0, 0.3) | max score : 65.016\n",
      "episodio :    600 de   1000  |  (score, media movel, media, mediana, epsilon) = (2.583, 4.112, 3.462, 0.0, 0.3) | max score : 65.016\n",
      "episodio :    700 de   1000  |  (score, media movel, media, mediana, epsilon) = (4.356, 4.206, 3.568, 0.0, 0.3) | max score : 65.016\n",
      "episodio :    800 de   1000  |  (score, media movel, media, mediana, epsilon) = (  0, 3.41, 3.548, 0.0, 0.3) | max score : 65.016\n",
      "episodio :    900 de   1000  |  (score, media movel, media, mediana, epsilon) = (18.91, 4.665, 3.672, 0.0, 0.3) | max score : 65.016\n",
      "episodio :   1000 de   1000  |  (score, media movel, media, mediana, epsilon) = (  0, 2.675, 3.573, 0.0, 0.3) | max score : 65.016\n"
     ]
    }
   ],
   "source": [
    "RL.solve(1000)"
   ]
  },
  {
   "cell_type": "code",
   "execution_count": 159,
   "id": "thirty-bones",
   "metadata": {},
   "outputs": [
    {
     "data": {
      "image/png": "[encoded data removed]",
      "text/plain": [
       "<Figure size 576x360 with 1 Axes>"
      ]
     },
     "metadata": {
      "needs_background": "light"
     },
     "output_type": "display_data"
    }
   ],
   "source": [
    "pd.Series(RL.scores).plot(linewidth=0.25)\n",
    "pd.Series(RL.scores).rolling(100).mean().plot(linewidth=0.75, figsize=(8, 5))\n",
    "\n",
    "plt.xlabel(\"episodio\")\n",
    "plt.ylabel(\"score\")\n",
    "plt.title(\"media movel de score\")\n",
    "plt.grid()"
   ]
  },
  {
   "cell_type": "code",
   "execution_count": 160,
   "id": "foster-station",
   "metadata": {},
   "outputs": [
    {
     "ename": "IndexError",
     "evalue": "list index out of range",
     "output_type": "error",
     "traceback": [
      "\u001b[0;31m---------------------------------------------------------------------------\u001b[0m",
      "\u001b[0;31mIndexError\u001b[0m                                Traceback (most recent call last)",
      "\u001b[0;32m<ipython-input-160-f9ed0ce50eb8>\u001b[0m in \u001b[0;36m<module>\u001b[0;34m\u001b[0m\n\u001b[1;32m     27\u001b[0m \u001b[0mrecs\u001b[0m \u001b[0;34m=\u001b[0m \u001b[0;34m[\u001b[0m\u001b[0;34m]\u001b[0m\u001b[0;34m\u001b[0m\u001b[0;34m\u001b[0m\u001b[0m\n\u001b[1;32m     28\u001b[0m \u001b[0;32mfor\u001b[0m \u001b[0mi\u001b[0m \u001b[0;32min\u001b[0m \u001b[0mrange\u001b[0m\u001b[0;34m(\u001b[0m\u001b[0;36m0\u001b[0m\u001b[0;34m,\u001b[0m\u001b[0;36m3\u001b[0m\u001b[0;34m)\u001b[0m\u001b[0;34m:\u001b[0m\u001b[0;34m\u001b[0m\u001b[0;34m\u001b[0m\u001b[0m\n\u001b[0;32m---> 29\u001b[0;31m      \u001b[0mrecs\u001b[0m\u001b[0;34m.\u001b[0m\u001b[0mappend\u001b[0m\u001b[0;34m(\u001b[0m\u001b[0mmpatches\u001b[0m\u001b[0;34m.\u001b[0m\u001b[0mRectangle\u001b[0m\u001b[0;34m(\u001b[0m\u001b[0;34m(\u001b[0m\u001b[0;36m0\u001b[0m\u001b[0;34m,\u001b[0m\u001b[0;36m0\u001b[0m\u001b[0;34m)\u001b[0m\u001b[0;34m,\u001b[0m\u001b[0;36m1\u001b[0m\u001b[0;34m,\u001b[0m\u001b[0;36m1\u001b[0m\u001b[0;34m,\u001b[0m\u001b[0mfc\u001b[0m\u001b[0;34m=\u001b[0m\u001b[0msorted\u001b[0m\u001b[0;34m(\u001b[0m\u001b[0mcolors\u001b[0m\u001b[0;34m.\u001b[0m\u001b[0munique\u001b[0m\u001b[0;34m(\u001b[0m\u001b[0;34m)\u001b[0m\u001b[0;34m)\u001b[0m\u001b[0;34m[\u001b[0m\u001b[0mi\u001b[0m\u001b[0;34m]\u001b[0m\u001b[0;34m)\u001b[0m\u001b[0;34m)\u001b[0m\u001b[0;34m\u001b[0m\u001b[0;34m\u001b[0m\u001b[0m\n\u001b[0m\u001b[1;32m     30\u001b[0m \u001b[0mplt\u001b[0m\u001b[0;34m.\u001b[0m\u001b[0mlegend\u001b[0m\u001b[0;34m(\u001b[0m\u001b[0mrecs\u001b[0m\u001b[0;34m,\u001b[0m\u001b[0mlabels\u001b[0m\u001b[0;34m,\u001b[0m\u001b[0mloc\u001b[0m\u001b[0;34m=\u001b[0m\u001b[0;36m4\u001b[0m\u001b[0;34m,\u001b[0m\u001b[0mncol\u001b[0m\u001b[0;34m=\u001b[0m\u001b[0;36m3\u001b[0m\u001b[0;34m)\u001b[0m\u001b[0;34m\u001b[0m\u001b[0;34m\u001b[0m\u001b[0m\n\u001b[1;32m     31\u001b[0m \u001b[0mplt\u001b[0m\u001b[0;34m.\u001b[0m\u001b[0mshow\u001b[0m\u001b[0;34m(\u001b[0m\u001b[0;34m)\u001b[0m\u001b[0;34m\u001b[0m\u001b[0;34m\u001b[0m\u001b[0m\n",
      "\u001b[0;31mIndexError\u001b[0m: list index out of range"
     ]
    },
    {
     "data": {
      "image/png": "[encoded data removed]",
      "text/plain": [
       "<Figure size 504x504 with 1 Axes>"
      ]
     },
     "metadata": {
      "needs_background": "light"
     },
     "output_type": "display_data"
    }
   ],
   "source": [
    "import matplotlib.patches as mpatches\n",
    "from matplotlib.colors import ListedColormap\n",
    "from torch.autograd import Variable\n",
    "\n",
    "X = np.random.uniform(-1.2, 0.6, 10000)\n",
    "Y = np.random.uniform(-0.07, 0.07, 10000)\n",
    "Z = []\n",
    "\n",
    "for i in range(len(X)):\n",
    "    z = RL.agent.act(np.array([X[i], Y[i]])).item()\n",
    "    Z.append(z)\n",
    "Z = pd.Series(Z)\n",
    "\n",
    "colors = {0:'blue',1:'lime',2:'red'}\n",
    "colors = Z.apply(lambda x:colors[x])\n",
    "labels = ['Left','Right','Nothing']\n",
    "\n",
    "fig = plt.figure(3, figsize=[7,7])\n",
    "ax = fig.gca()\n",
    "plt.set_cmap('brg')\n",
    "surf = ax.scatter(X,Y, c=Z)\n",
    "\n",
    "ax.set_xlabel('Position')\n",
    "ax.set_ylabel('Velocity')\n",
    "ax.set_title('Policy')\n",
    "\n",
    "recs = []\n",
    "for i in range(0,3):\n",
    "     recs.append(mpatches.Rectangle((0,0),1,1,fc=sorted(colors.unique())[i]))\n",
    "plt.legend(recs,labels,loc=4,ncol=3)\n",
    "plt.show()"
   ]
  },
  {
   "cell_type": "code",
   "execution_count": null,
   "id": "interesting-niagara",
   "metadata": {},
   "outputs": [],
   "source": [
    "env = gym.make(\"MountainCar-v0\")\n",
    "observation = env.reset()\n",
    "firstframe = env.render(mode = 'rgb_array')\n",
    "frames = [firstframe]\n",
    "\n",
    "for i in range(5000):\n",
    "    action = RL.agent.act(observation)\n",
    "    observation, reward, done, info = env.step(action)\n",
    "    frame = env.render(mode = 'rgb_array')\n",
    "    frames.append(frame)\n",
    "    if done:\n",
    "        break\n",
    "env.close()"
   ]
  },
  {
   "cell_type": "markdown",
   "id": "artistic-impossible",
   "metadata": {
    "tags": []
   },
   "source": [
    "- - -"
   ]
  },
  {
   "cell_type": "code",
   "execution_count": 518,
   "id": "strange-playback",
   "metadata": {},
   "outputs": [
    {
     "name": "stdout",
     "output_type": "stream",
     "text": [
      "RESOLVIDO! (episodio 61, 2 sucessos, score 2.0182151794433594)\n",
      "episodio :    100 de   1000  |  (score, media movel, media, mediana, epsilon) = (0.144, 0.12, 0.073, 0.096, 0.27) | max score : 2.018\n",
      "RESOLVIDO! (episodio 140, 3 sucessos, score 2.0031034350395203)\n",
      "RESOLVIDO! (episodio 151, 4 sucessos, score 2.0065741539001465)\n",
      "RESOLVIDO! (episodio 155, 5 sucessos, score 2.001562476158142)\n",
      "RESOLVIDO! (episodio 176, 6 sucessos, score 2.0014885663986206)\n",
      "episodio :    200 de   1000  |  (score, media movel, media, mediana, epsilon) = (0.069, 0.159, 0.08, 0.099, 0.177) | max score : 2.018\n",
      "RESOLVIDO! (episodio 214, 7 sucessos, score 2.0035122632980347)\n",
      "RESOLVIDO! (episodio 275, 8 sucessos, score 2.0174933671951294)\n",
      "episodio :    300 de   1000  |  (score, media movel, media, mediana, epsilon) = (0.093, 0.159, 0.086, 0.103, 0.143) | max score : 2.018\n",
      "RESOLVIDO! (episodio 323, 9 sucessos, score 2.018367648124695)\n",
      "RESOLVIDO! (episodio 330, 10 sucessos, score 2.0010098814964294)\n",
      "RESOLVIDO! (episodio 337, 11 sucessos, score 2.006973385810852)\n",
      "RESOLVIDO! (episodio 338, 12 sucessos, score 2.0320481061935425)\n",
      "RESOLVIDO! (episodio 342, 13 sucessos, score 2.007178485393524)\n",
      "RESOLVIDO! (episodio 354, 14 sucessos, score 2.0073867440223694)\n",
      "RESOLVIDO! (episodio 393, 15 sucessos, score 2.006756544113159)\n",
      "episodio :    400 de   1000  |  (score, media movel, media, mediana, epsilon) = (0.187, 0.264, 0.099, 0.11, 0.069) | max score : 2.032\n",
      "RESOLVIDO! (episodio 414, 16 sucessos, score 2.0188400745391846)\n",
      "RESOLVIDO! (episodio 415, 17 sucessos, score 2.0055124163627625)\n",
      "RESOLVIDO! (episodio 424, 18 sucessos, score 2.0069684386253357)\n",
      "RESOLVIDO! (episodio 427, 19 sucessos, score 2.009910464286804)\n",
      "RESOLVIDO! (episodio 429, 20 sucessos, score 2.001842200756073)\n",
      "RESOLVIDO! (episodio 431, 21 sucessos, score 2.0117053389549255)\n",
      "RESOLVIDO! (episodio 446, 22 sucessos, score 2.0363250970840454)\n",
      "RESOLVIDO! (episodio 448, 23 sucessos, score 2.0013774633407593)\n",
      "RESOLVIDO! (episodio 449, 24 sucessos, score 2.012782573699951)\n",
      "episodio :    500 de   1000  |  (score, media movel, media, mediana, epsilon) = (0.139, 0.317, 0.113, 0.119, 0.027) | max score : 2.036\n",
      "episodio :    600 de   1000  |  (score, media movel, media, mediana, epsilon) = (0.253, 0.161, 0.116, 0.127, 0.027) | max score : 2.036\n",
      "RESOLVIDO! (episodio 658, 25 sucessos, score 2.001821517944336)\n",
      "RESOLVIDO! (episodio 661, 26 sucessos, score 2.0131914019584656)\n",
      "RESOLVIDO! (episodio 677, 27 sucessos, score 2.006251037120819)\n",
      "RESOLVIDO! (episodio 682, 28 sucessos, score 2.0054574012756348)\n",
      "episodio :    700 de   1000  |  (score, media movel, media, mediana, epsilon) = (0.398, 0.314, 0.128, 0.133, 0.017) | max score : 2.036\n",
      "RESOLVIDO! (episodio 733, 29 sucessos, score 2.0046685934066772)\n",
      "RESOLVIDO! (episodio 737, 30 sucessos, score 2.003491759300232)\n",
      "RESOLVIDO! (episodio 786, 31 sucessos, score 2.027191996574402)\n",
      "RESOLVIDO! (episodio 789, 32 sucessos, score 2.022769510746002)\n",
      "episodio :    800 de   1000  |  (score, media movel, media, mediana, epsilon) = (0.114, 0.271, 0.136, 0.134, 0.011) | max score : 2.036\n",
      "RESOLVIDO! (episodio 802, 33 sucessos, score 2.001584529876709)\n",
      "RESOLVIDO! (episodio 811, 34 sucessos, score 2.0081157088279724)\n",
      "RESOLVIDO! (episodio 815, 35 sucessos, score 2.0082637667655945)\n",
      "RESOLVIDO! (episodio 833, 36 sucessos, score 2.0209232568740845)\n",
      "RESOLVIDO! (episodio 850, 37 sucessos, score 2.011329710483551)\n",
      "RESOLVIDO! (episodio 875, 38 sucessos, score 2.0108606815338135)\n",
      "RESOLVIDO! (episodio 883, 39 sucessos, score 2.006168305873871)\n",
      "RESOLVIDO! (episodio 891, 40 sucessos, score 2.0064680576324463)\n",
      "RESOLVIDO! (episodio 896, 41 sucessos, score 2.010457217693329)\n",
      "episodio :    900 de   1000  |  (score, media movel, media, mediana, epsilon) = (0.106, 0.276, 0.143, 0.134, 0.004) | max score : 2.036\n",
      "RESOLVIDO! (episodio 920, 42 sucessos, score 2.0110336542129517)\n",
      "RESOLVIDO! (episodio 936, 43 sucessos, score 2.0027024149894714)\n",
      "RESOLVIDO! (episodio 940, 44 sucessos, score 2.020464837551117)\n",
      "RESOLVIDO! (episodio 941, 45 sucessos, score 2.00127249956131)\n",
      "RESOLVIDO! (episodio 942, 46 sucessos, score 2.0181734561920166)\n",
      "RESOLVIDO! (episodio 943, 47 sucessos, score 2.009539008140564)\n",
      "RESOLVIDO! (episodio 944, 48 sucessos, score 2.0034178495407104)\n",
      "RESOLVIDO! (episodio 946, 49 sucessos, score 2.0135385394096375)\n",
      "RESOLVIDO! (episodio 947, 50 sucessos, score 2.0111849904060364)\n",
      "episodio :   1000 de   1000  |  (score, media movel, media, mediana, epsilon) = (0.067, 0.32, 0.152, 0.135, 0.002) | max score : 2.036\n"
     ]
    }
   ],
   "source": [
    "RL.solve(1000)"
   ]
  },
  {
   "cell_type": "code",
   "execution_count": 519,
   "id": "developmental-senior",
   "metadata": {},
   "outputs": [
    {
     "data": {
      "image/png": "[encoded data removed]",
      "text/plain": [
       "<Figure size 576x360 with 1 Axes>"
      ]
     },
     "metadata": {
      "needs_background": "light"
     },
     "output_type": "display_data"
    }
   ],
   "source": [
    "pd.Series(RL.scores).plot(linewidth=0.25)\n",
    "pd.Series(RL.scores).rolling(100).mean().plot(linewidth=0.75, figsize=(8, 5))\n",
    "\n",
    "plt.xlabel(\"episodio\")\n",
    "plt.ylabel(\"score\")\n",
    "plt.title(\"media movel de score\")\n",
    "plt.grid()"
   ]
  },
  {
   "cell_type": "code",
   "execution_count": 520,
   "id": "twelve-complement",
   "metadata": {},
   "outputs": [
    {
     "ename": "IndexError",
     "evalue": "list index out of range",
     "output_type": "error",
     "traceback": [
      "\u001b[0;31m---------------------------------------------------------------------------\u001b[0m",
      "\u001b[0;31mIndexError\u001b[0m                                Traceback (most recent call last)",
      "\u001b[0;32m<ipython-input-520-f9ed0ce50eb8>\u001b[0m in \u001b[0;36m<module>\u001b[0;34m\u001b[0m\n\u001b[1;32m     27\u001b[0m \u001b[0mrecs\u001b[0m \u001b[0;34m=\u001b[0m \u001b[0;34m[\u001b[0m\u001b[0;34m]\u001b[0m\u001b[0;34m\u001b[0m\u001b[0;34m\u001b[0m\u001b[0m\n\u001b[1;32m     28\u001b[0m \u001b[0;32mfor\u001b[0m \u001b[0mi\u001b[0m \u001b[0;32min\u001b[0m \u001b[0mrange\u001b[0m\u001b[0;34m(\u001b[0m\u001b[0;36m0\u001b[0m\u001b[0;34m,\u001b[0m\u001b[0;36m3\u001b[0m\u001b[0;34m)\u001b[0m\u001b[0;34m:\u001b[0m\u001b[0;34m\u001b[0m\u001b[0;34m\u001b[0m\u001b[0m\n\u001b[0;32m---> 29\u001b[0;31m      \u001b[0mrecs\u001b[0m\u001b[0;34m.\u001b[0m\u001b[0mappend\u001b[0m\u001b[0;34m(\u001b[0m\u001b[0mmpatches\u001b[0m\u001b[0;34m.\u001b[0m\u001b[0mRectangle\u001b[0m\u001b[0;34m(\u001b[0m\u001b[0;34m(\u001b[0m\u001b[0;36m0\u001b[0m\u001b[0;34m,\u001b[0m\u001b[0;36m0\u001b[0m\u001b[0;34m)\u001b[0m\u001b[0;34m,\u001b[0m\u001b[0;36m1\u001b[0m\u001b[0;34m,\u001b[0m\u001b[0;36m1\u001b[0m\u001b[0;34m,\u001b[0m\u001b[0mfc\u001b[0m\u001b[0;34m=\u001b[0m\u001b[0msorted\u001b[0m\u001b[0;34m(\u001b[0m\u001b[0mcolors\u001b[0m\u001b[0;34m.\u001b[0m\u001b[0munique\u001b[0m\u001b[0;34m(\u001b[0m\u001b[0;34m)\u001b[0m\u001b[0;34m)\u001b[0m\u001b[0;34m[\u001b[0m\u001b[0mi\u001b[0m\u001b[0;34m]\u001b[0m\u001b[0;34m)\u001b[0m\u001b[0;34m)\u001b[0m\u001b[0;34m\u001b[0m\u001b[0;34m\u001b[0m\u001b[0m\n\u001b[0m\u001b[1;32m     30\u001b[0m \u001b[0mplt\u001b[0m\u001b[0;34m.\u001b[0m\u001b[0mlegend\u001b[0m\u001b[0;34m(\u001b[0m\u001b[0mrecs\u001b[0m\u001b[0;34m,\u001b[0m\u001b[0mlabels\u001b[0m\u001b[0;34m,\u001b[0m\u001b[0mloc\u001b[0m\u001b[0;34m=\u001b[0m\u001b[0;36m4\u001b[0m\u001b[0;34m,\u001b[0m\u001b[0mncol\u001b[0m\u001b[0;34m=\u001b[0m\u001b[0;36m3\u001b[0m\u001b[0;34m)\u001b[0m\u001b[0;34m\u001b[0m\u001b[0;34m\u001b[0m\u001b[0m\n\u001b[1;32m     31\u001b[0m \u001b[0mplt\u001b[0m\u001b[0;34m.\u001b[0m\u001b[0mshow\u001b[0m\u001b[0;34m(\u001b[0m\u001b[0;34m)\u001b[0m\u001b[0;34m\u001b[0m\u001b[0;34m\u001b[0m\u001b[0m\n",
      "\u001b[0;31mIndexError\u001b[0m: list index out of range"
     ]
    },
    {
     "data": {
      "image/png": "[encoded data removed]",
      "text/plain": [
       "<Figure size 504x504 with 1 Axes>"
      ]
     },
     "metadata": {
      "needs_background": "light"
     },
     "output_type": "display_data"
    }
   ],
   "source": [
    "import matplotlib.patches as mpatches\n",
    "from matplotlib.colors import ListedColormap\n",
    "from torch.autograd import Variable\n",
    "\n",
    "X = np.random.uniform(-1.2, 0.6, 10000)\n",
    "Y = np.random.uniform(-0.07, 0.07, 10000)\n",
    "Z = []\n",
    "\n",
    "for i in range(len(X)):\n",
    "    z = RL.agent.act(np.array([X[i], Y[i]])).item()\n",
    "    Z.append(z)\n",
    "Z = pd.Series(Z)\n",
    "\n",
    "colors = {0:'blue',1:'lime',2:'red'}\n",
    "colors = Z.apply(lambda x:colors[x])\n",
    "labels = ['Left','Right','Nothing']\n",
    "\n",
    "fig = plt.figure(3, figsize=[7,7])\n",
    "ax = fig.gca()\n",
    "plt.set_cmap('brg')\n",
    "surf = ax.scatter(X,Y, c=Z)\n",
    "\n",
    "ax.set_xlabel('Position')\n",
    "ax.set_ylabel('Velocity')\n",
    "ax.set_title('Policy')\n",
    "\n",
    "recs = []\n",
    "for i in range(0,3):\n",
    "     recs.append(mpatches.Rectangle((0,0),1,1,fc=sorted(colors.unique())[i]))\n",
    "plt.legend(recs,labels,loc=4,ncol=3)\n",
    "plt.show()"
   ]
  },
  {
   "cell_type": "code",
   "execution_count": 522,
   "id": "helpful-beast",
   "metadata": {},
   "outputs": [],
   "source": [
    "env = gym.make(\"MountainCar-v0\")\n",
    "observation = env.reset()\n",
    "firstframe = env.render(mode = 'rgb_array')\n",
    "frames = [firstframe]\n",
    "\n",
    "max_pos = -np.inf\n",
    "\n",
    "for i in range(500):\n",
    "    action = RL.agent.act(observation)\n",
    "    observation, reward, done, info = env.step(action)\n",
    "    frame = env.render(mode = 'rgb_array')\n",
    "    frames.append(frame)\n",
    "    if observation[0] > max_pos:\n",
    "        max_pos = observation[0]\n",
    "        # print(max_pos)\n",
    "    if done:\n",
    "        break\n",
    "env.close()"
   ]
  },
  {
   "cell_type": "code",
   "execution_count": 523,
   "id": "northern-blind",
   "metadata": {},
   "outputs": [
    {
     "name": "stdout",
     "output_type": "stream",
     "text": [
      "RESOLVIDO! (episodio 41, 51 sucessos, score 2.004181444644928)\n",
      "episodio :    100 de   1000  |  (score, media movel, media, mediana, epsilon) = (-0.092, 0.174, 0.153, 0.136, 0.002) | max score : 2.036\n",
      "episodio :    200 de   1000  |  (score, media movel, media, mediana, epsilon) = (-0.045, 0.112, 0.151, 0.135, 0.002) | max score : 2.036\n",
      "RESOLVIDO! (episodio 249, 52 sucessos, score 2.003628373146057)\n",
      "episodio :    300 de   1000  |  (score, media movel, media, mediana, epsilon) = (-0.033, 0.128, 0.15, 0.135, 0.001) | max score : 2.036\n",
      "episodio :    400 de   1000  |  (score, media movel, media, mediana, epsilon) = (0.565, 0.158, 0.151, 0.136, 0.001) | max score : 2.036\n",
      "episodio :    500 de   1000  |  (score, media movel, media, mediana, epsilon) = (0.327, 0.12, 0.149, 0.135, 0.001) | max score : 2.036\n",
      "episodio :    600 de   1000  |  (score, media movel, media, mediana, epsilon) = (0.081, 0.16, 0.15, 0.136, 0.001) | max score : 2.036\n",
      "episodio :    700 de   1000  |  (score, media movel, media, mediana, epsilon) = (0.288, 0.128, 0.149, 0.135, 0.001) | max score : 2.036\n",
      "episodio :    800 de   1000  |  (score, media movel, media, mediana, epsilon) = (0.328, 0.166, 0.15, 0.136, 0.001) | max score : 2.036\n",
      "episodio :    900 de   1000  |  (score, media movel, media, mediana, epsilon) = (-0.018, 0.143, 0.149, 0.136, 0.001) | max score : 2.036\n",
      "RESOLVIDO! (episodio 983, 53 sucessos, score 2.0032207369804382)\n",
      "episodio :   1000 de   1000  |  (score, media movel, media, mediana, epsilon) = (0.449, 0.124, 0.149, 0.135, 0.001) | max score : 2.036\n"
     ]
    }
   ],
   "source": [
    "RL.solve(1000)"
   ]
  },
  {
   "cell_type": "code",
   "execution_count": 524,
   "id": "assigned-margin",
   "metadata": {},
   "outputs": [
    {
     "data": {
      "image/png": "[encoded data removed]",
      "text/plain": [
       "<Figure size 576x360 with 1 Axes>"
      ]
     },
     "metadata": {
      "needs_background": "light"
     },
     "output_type": "display_data"
    }
   ],
   "source": [
    "pd.Series(RL.scores).plot(linewidth=0.25)\n",
    "pd.Series(RL.scores).rolling(100).mean().plot(linewidth=0.75, figsize=(8, 5))\n",
    "\n",
    "plt.xlabel(\"episodio\")\n",
    "plt.ylabel(\"score\")\n",
    "plt.title(\"media movel de score\")\n",
    "plt.grid()"
   ]
  },
  {
   "cell_type": "code",
   "execution_count": 525,
   "id": "oriental-simulation",
   "metadata": {
    "tags": []
   },
   "outputs": [
    {
     "ename": "IndexError",
     "evalue": "list index out of range",
     "output_type": "error",
     "traceback": [
      "\u001b[0;31m---------------------------------------------------------------------------\u001b[0m",
      "\u001b[0;31mIndexError\u001b[0m                                Traceback (most recent call last)",
      "\u001b[0;32m<ipython-input-525-f9ed0ce50eb8>\u001b[0m in \u001b[0;36m<module>\u001b[0;34m\u001b[0m\n\u001b[1;32m     27\u001b[0m \u001b[0mrecs\u001b[0m \u001b[0;34m=\u001b[0m \u001b[0;34m[\u001b[0m\u001b[0;34m]\u001b[0m\u001b[0;34m\u001b[0m\u001b[0;34m\u001b[0m\u001b[0m\n\u001b[1;32m     28\u001b[0m \u001b[0;32mfor\u001b[0m \u001b[0mi\u001b[0m \u001b[0;32min\u001b[0m \u001b[0mrange\u001b[0m\u001b[0;34m(\u001b[0m\u001b[0;36m0\u001b[0m\u001b[0;34m,\u001b[0m\u001b[0;36m3\u001b[0m\u001b[0;34m)\u001b[0m\u001b[0;34m:\u001b[0m\u001b[0;34m\u001b[0m\u001b[0;34m\u001b[0m\u001b[0m\n\u001b[0;32m---> 29\u001b[0;31m      \u001b[0mrecs\u001b[0m\u001b[0;34m.\u001b[0m\u001b[0mappend\u001b[0m\u001b[0;34m(\u001b[0m\u001b[0mmpatches\u001b[0m\u001b[0;34m.\u001b[0m\u001b[0mRectangle\u001b[0m\u001b[0;34m(\u001b[0m\u001b[0;34m(\u001b[0m\u001b[0;36m0\u001b[0m\u001b[0;34m,\u001b[0m\u001b[0;36m0\u001b[0m\u001b[0;34m)\u001b[0m\u001b[0;34m,\u001b[0m\u001b[0;36m1\u001b[0m\u001b[0;34m,\u001b[0m\u001b[0;36m1\u001b[0m\u001b[0;34m,\u001b[0m\u001b[0mfc\u001b[0m\u001b[0;34m=\u001b[0m\u001b[0msorted\u001b[0m\u001b[0;34m(\u001b[0m\u001b[0mcolors\u001b[0m\u001b[0;34m.\u001b[0m\u001b[0munique\u001b[0m\u001b[0;34m(\u001b[0m\u001b[0;34m)\u001b[0m\u001b[0;34m)\u001b[0m\u001b[0;34m[\u001b[0m\u001b[0mi\u001b[0m\u001b[0;34m]\u001b[0m\u001b[0;34m)\u001b[0m\u001b[0;34m)\u001b[0m\u001b[0;34m\u001b[0m\u001b[0;34m\u001b[0m\u001b[0m\n\u001b[0m\u001b[1;32m     30\u001b[0m \u001b[0mplt\u001b[0m\u001b[0;34m.\u001b[0m\u001b[0mlegend\u001b[0m\u001b[0;34m(\u001b[0m\u001b[0mrecs\u001b[0m\u001b[0;34m,\u001b[0m\u001b[0mlabels\u001b[0m\u001b[0;34m,\u001b[0m\u001b[0mloc\u001b[0m\u001b[0;34m=\u001b[0m\u001b[0;36m4\u001b[0m\u001b[0;34m,\u001b[0m\u001b[0mncol\u001b[0m\u001b[0;34m=\u001b[0m\u001b[0;36m3\u001b[0m\u001b[0;34m)\u001b[0m\u001b[0;34m\u001b[0m\u001b[0;34m\u001b[0m\u001b[0m\n\u001b[1;32m     31\u001b[0m \u001b[0mplt\u001b[0m\u001b[0;34m.\u001b[0m\u001b[0mshow\u001b[0m\u001b[0;34m(\u001b[0m\u001b[0;34m)\u001b[0m\u001b[0;34m\u001b[0m\u001b[0;34m\u001b[0m\u001b[0m\n",
      "\u001b[0;31mIndexError\u001b[0m: list index out of range"
     ]
    },
    {
     "data": {
      "image/png": "[encoded data removed]",
      "text/plain": [
       "<Figure size 504x504 with 1 Axes>"
      ]
     },
     "metadata": {
      "needs_background": "light"
     },
     "output_type": "display_data"
    }
   ],
   "source": [
    "import matplotlib.patches as mpatches\n",
    "from matplotlib.colors import ListedColormap\n",
    "from torch.autograd import Variable\n",
    "\n",
    "X = np.random.uniform(-1.2, 0.6, 10000)\n",
    "Y = np.random.uniform(-0.07, 0.07, 10000)\n",
    "Z = []\n",
    "\n",
    "for i in range(len(X)):\n",
    "    z = RL.agent.act(np.array([X[i], Y[i]])).item()\n",
    "    Z.append(z)\n",
    "Z = pd.Series(Z)\n",
    "\n",
    "colors = {0:'blue',1:'lime',2:'red'}\n",
    "colors = Z.apply(lambda x:colors[x])\n",
    "labels = ['Left','Right','Nothing']\n",
    "\n",
    "fig = plt.figure(3, figsize=[7,7])\n",
    "ax = fig.gca()\n",
    "plt.set_cmap('brg')\n",
    "surf = ax.scatter(X,Y, c=Z)\n",
    "\n",
    "ax.set_xlabel('Position')\n",
    "ax.set_ylabel('Velocity')\n",
    "ax.set_title('Policy')\n",
    "\n",
    "recs = []\n",
    "for i in range(0,3):\n",
    "     recs.append(mpatches.Rectangle((0,0),1,1,fc=sorted(colors.unique())[i]))\n",
    "plt.legend(recs,labels,loc=4,ncol=3)\n",
    "plt.show()"
   ]
  },
  {
   "cell_type": "code",
   "execution_count": 526,
   "id": "nuclear-taxation",
   "metadata": {},
   "outputs": [],
   "source": [
    "env = gym.make(\"MountainCar-v0\")\n",
    "observation = env.reset()\n",
    "firstframe = env.render(mode = 'rgb_array')\n",
    "frames = [firstframe]\n",
    "\n",
    "for i in range(500):\n",
    "    action = RL.agent.act(observation)\n",
    "    observation, reward, done, info = env.step(action)\n",
    "    frame = env.render(mode = 'rgb_array')\n",
    "    frames.append(frame)\n",
    "    if done:\n",
    "        break\n",
    "env.close()"
   ]
  },
  {
   "cell_type": "markdown",
   "id": "korean-network",
   "metadata": {},
   "source": [
    "- - -"
   ]
  },
  {
   "cell_type": "markdown",
   "id": "affiliated-breast",
   "metadata": {},
   "source": [
    "continous"
   ]
  },
  {
   "cell_type": "code",
   "execution_count": 32,
   "id": "after-limit",
   "metadata": {},
   "outputs": [],
   "source": [
    "from torch.distributions import Categorical\n",
    "\n",
    "DEVICE = \"cpu\""
   ]
  },
  {
   "cell_type": "code",
   "execution_count": 122,
   "id": "varied-linux",
   "metadata": {},
   "outputs": [],
   "source": [
    "class Model(nn.Module):\n",
    "    def __init__(self, dim_estados, dim_acoes, hparam_rede):\n",
    "        super(Model, self).__init__()\n",
    "        \n",
    "        self.hparam_rede = dict()\n",
    "        \n",
    "        self.dim_estados = dim_estados\n",
    "        self.dim_acoes = dim_acoes\n",
    "        self.hparam_rede = hparam_rede\n",
    "        \n",
    "        self.constroi_modelo()\n",
    "    \n",
    "        \n",
    "    def constroi_modelo(self):\n",
    "        self.input = nn.Linear( self.dim_estados, self.hparam_rede['hidden_layers'][0] )\n",
    "        self.hidden = nn.ModuleList()\n",
    "        for i in range(len(self.hparam_rede['hidden_layers'])-1):\n",
    "            self.hidden.append(nn.Dropout(0.1))\n",
    "            self.hidden.append( nn.Linear(self.hparam_rede['hidden_layers'][i], self.hparam_rede['hidden_layers'][i+1]) )\n",
    "        self.output = nn.Linear( self.hparam_rede['hidden_layers'][-1], self.dim_acoes )\n",
    "    \n",
    "    \n",
    "    def forward(self, estado):\n",
    "        x = estado\n",
    "        if not isinstance(x, torch.Tensor):\n",
    "            x = torch.tensor(x, dtype=torch.float32)\n",
    "            x = x.unsqueeze(0)\n",
    "        \n",
    "        x = self.hparam_rede['func_ativacao']( self.input(x) )\n",
    "        for h in self.hidden:\n",
    "            x = self.hparam_rede['func_ativacao']( h(x) )\n",
    "        # x = F.softmax(self.output(x), dim=0)\n",
    "        x = self.output(x)\n",
    "        \n",
    "        return x"
   ]
  },
  {
   "cell_type": "code",
   "execution_count": 129,
   "id": "protected-indicator",
   "metadata": {},
   "outputs": [],
   "source": [
    "class Agent(object):\n",
    "    def __init__(self, hparams_ambiente, hparams_model, hparams_reforco):\n",
    "        self.dim_estados = hparams_ambiente['estados']\n",
    "        self.dim_acoes = hparams_ambiente['acoes']\n",
    "\n",
    "        self.hparams_model = dict()\n",
    "        self.hparams_reforco = dict()\n",
    "        self.memoria = collections.deque()\n",
    "\n",
    "        self.hparams_model['hidden_layers'] = hparams_model['hidden_layers']\n",
    "        self.hparams_model['func_ativacao'] = hparams_model['func_ativacao']\n",
    "        self.modelo = Model(self.dim_estados, self.dim_acoes, self.hparams_model)\n",
    "        self.hparams_model['func_opt'] = hparams_model['func_opt'](self.modelo.parameters(), lr=0.001)\n",
    "        self.hparams_model['func_loss'] = hparams_model['func_loss']\n",
    "     \n",
    "        self.hparams_reforco['gamma'] = 0.99\n",
    "        \n",
    "        \n",
    "    def act(self, estado, epsilon=0.0):\n",
    "        x = torch.from_numpy(estado).float().unsqueeze(0).to(DEVICE)\n",
    "        \n",
    "        with torch.no_grad():\n",
    "            acoes = self.modelo(x)\n",
    "        \n",
    "        if random.random() > epsilon:\n",
    "            return np.argmax(acoes.cpu().data.numpy())\n",
    "        else:\n",
    "            return random.choice([-1,1])*random.random() #random.choice(np.arange(self.dim_acoes))\n",
    "\n",
    "    \n",
    "    def remember(self, estado, acao, reward, proximo_estado, done):\n",
    "        self.memoria.append( (estado, acao, reward, proximo_estado, done) )\n",
    "    \n",
    "        \n",
    "    def learn(self):\n",
    "        estados, acoes, rewards, prx_estados, dones = list(map(list, zip(*self.memoria)))\n",
    "\n",
    "        estados = torch.FloatTensor(estados).to(DEVICE)\n",
    "        prx_estados = torch.FloatTensor(prx_estados).to(DEVICE)\n",
    "        acoes = torch.FloatTensor(acoes).to(DEVICE).view(-1, 1) # torch.LongTensor(acoes).to(DEVICE).view(-1, 1)\n",
    "        rewards = torch.FloatTensor(rewards).to(DEVICE).view(-1, 1)\n",
    "        dones = torch.IntTensor(dones).to(DEVICE).view(-1, 1)\n",
    "        \n",
    "        max_a_q_sp = self.modelo(prx_estados).detach().max(1)[0].unsqueeze(1) * (1 - dones)\n",
    "        target_q_s = rewards + max_a_q_sp\n",
    "        print(self.modelo(estados), acoes)\n",
    "        q_sa = self.modelo(estados).gather(1, acoes)\n",
    "        \n",
    "        loss = self.hparams_model['func_loss']( target_q_s, q_sa )\n",
    "        self.hparams_model['func_opt'].zero_grad()\n",
    "        loss.backward()\n",
    "        self.hparams_model['func_opt'].step()\n",
    "        self.memoria = collections.deque()"
   ]
  },
  {
   "cell_type": "code",
   "execution_count": 130,
   "id": "sufficient-period",
   "metadata": {},
   "outputs": [],
   "source": [
    "class Solver():\n",
    "    def __init__(self, ambiente, hparams_model, hparams_reforco):\n",
    "        self.env = ambiente\n",
    "        \n",
    "        self.hparams_ambiente = dict()\n",
    "        self.hparams_model = hparams_model\n",
    "        self.hparams_reforco = hparams_reforco\n",
    "        \n",
    "        self.hparams_ambiente['estados'] = self.env.observation_space.shape[0]\n",
    "        self.hparams_ambiente['acoes'] = 1#self.env.action_space.n\n",
    "        \n",
    "        self.agent = Agent(self.hparams_ambiente, self.hparams_model, self.hparams_reforco)\n",
    "        self.scores = list()\n",
    "        self.sucesso = 0\n",
    "        self.epsilon = 0.333\n",
    "        self.max_score = -np.inf\n",
    "        \n",
    "    def solve(self, episodios):\n",
    "        estado = self.env.reset()\n",
    "        \n",
    "        for e in range(episodios + 1):\n",
    "            estado = self.env.reset()\n",
    "            score = 0\n",
    "            done = False\n",
    "            # epsilon = max( 1 -  e/episodios, 0.05)\n",
    "\n",
    "            for _ in range(self.hparams_reforco[\"MAX\"]):\n",
    "                acao = self.agent.act(estado, self.epsilon)                # observe state -> take action\n",
    "                prx_estado, reward, done, _ = self.env.step([acao])        # feedback -> new state\n",
    "                \n",
    "                #score += reward                                           # recompensa\n",
    "                #score = prx_estado[0] + 0.5\n",
    "                #if prx_estado[0] >= 0.5:\n",
    "                #    score += 1\n",
    "                if prx_estado[0] >= 0.5:\n",
    "                    score = reward + 10\n",
    "                elif prx_estado[0] > -0.4:\n",
    "                    score = reward + (1 + prx_estado[0])**2\n",
    "                else:\n",
    "                    score = reward\n",
    "                \n",
    "                if score > self.max_score:\n",
    "                    self.max_score = score\n",
    "                \n",
    "                if e > 30:\n",
    "                    print(acao, prx_estado, reward, done)\n",
    "                    break\n",
    "                \n",
    "                self.agent.remember(estado, acao, score, prx_estado, done)\n",
    "                if done:\n",
    "                    if prx_estado[0] >= 0.5:\n",
    "                        self.epsilon *= .9\n",
    "                        self.sucesso += 1\n",
    "                        print(rf\"RESOLVIDO! (episodio {e}, {self.sucesso} sucessos, score {score})\")\n",
    "                        break\n",
    "                else:\n",
    "                    estado = prx_estado                                        # novo estado\n",
    "            self.agent.learn()\n",
    "            self.scores.append(score)\n",
    "\n",
    "            if (e % 100 == 0) and (e > 1):\n",
    "                print( \"episodio : {:>6} de {:>6}  |  (score, media movel, media, mediana, epsilon) = ({:>3}, {:>3}, {:>3}, {:>3}, {:>3}) | max score : {:>3}\".format(\n",
    "                    e, episodios, round(score, 3), round(np.mean(self.scores[-100:]),3), round(np.mean(self.scores), 3), round(np.median(self.scores), 3), round(self.epsilon, 3), round(self.max_score, 3)) )"
   ]
  },
  {
   "cell_type": "code",
   "execution_count": 151,
   "id": "respective-wichita",
   "metadata": {},
   "outputs": [
    {
     "data": {
      "text/plain": [
       "0.99"
      ]
     },
     "execution_count": 151,
     "metadata": {},
     "output_type": "execute_result"
    }
   ],
   "source": [
    "RL.agent.hparams_reforco['gamma']"
   ]
  },
  {
   "cell_type": "code",
   "execution_count": 131,
   "id": "magnetic-discipline",
   "metadata": {},
   "outputs": [],
   "source": [
    "hparams_model = {\n",
    "    \"hidden_layers\" : (32,) , \n",
    "    \"func_ativacao\" : F.relu ,\n",
    "    \"func_opt\" : optim.RMSprop , \n",
    "    \"func_loss\" : F.mse_loss , \n",
    "}\n",
    "\n",
    "hparams_reforco = {    \n",
    "    \"MAX\" : 555 ,\n",
    "}\n",
    "\n",
    "RL = Solver(gym.make(\"MountainCarContinuous-v0\"), hparams_model, hparams_reforco)"
   ]
  },
  {
   "cell_type": "code",
   "execution_count": 132,
   "id": "funny-thomson",
   "metadata": {},
   "outputs": [
    {
     "data": {
      "text/plain": [
       "Model(\n",
       "  (input): Linear(in_features=2, out_features=32, bias=True)\n",
       "  (hidden): ModuleList()\n",
       "  (output): Linear(in_features=32, out_features=1, bias=True)\n",
       ")"
      ]
     },
     "execution_count": 132,
     "metadata": {},
     "output_type": "execute_result"
    }
   ],
   "source": [
    "RL.agent.modelo"
   ]
  },
  {
   "cell_type": "code",
   "execution_count": 133,
   "id": "changed-action",
   "metadata": {},
   "outputs": [
    {
     "data": {
      "text/plain": [
       "=================================================================\n",
       "Layer (type:depth-idx)                   Param #\n",
       "=================================================================\n",
       "Model                                    --\n",
       "├─Linear: 1-1                            96\n",
       "├─ModuleList: 1-2                        --\n",
       "├─Linear: 1-3                            33\n",
       "=================================================================\n",
       "Total params: 129\n",
       "Trainable params: 129\n",
       "Non-trainable params: 0\n",
       "================================================================="
      ]
     },
     "execution_count": 133,
     "metadata": {},
     "output_type": "execute_result"
    }
   ],
   "source": [
    "torchinfo.summary(RL.agent.modelo)"
   ]
  },
  {
   "cell_type": "code",
   "execution_count": 134,
   "id": "excessive-hurricane",
   "metadata": {
    "tags": []
   },
   "outputs": [
    {
     "name": "stdout",
     "output_type": "stream",
     "text": [
      "tensor([[0.0520],\n",
      "        [0.0520],\n",
      "        [0.0522],\n",
      "        [0.0524],\n",
      "        [0.0527],\n",
      "        [0.0529],\n",
      "        [0.0532],\n",
      "        [0.0536],\n",
      "        [0.0540],\n",
      "        [0.0545],\n",
      "        [0.0550],\n",
      "        [0.0556],\n",
      "        [0.0563],\n",
      "        [0.0569],\n",
      "        [0.0575],\n",
      "        [0.0581],\n",
      "        [0.0589],\n",
      "        [0.0597],\n",
      "        [0.0604],\n",
      "        [0.0612],\n",
      "        [0.0620],\n",
      "        [0.0626],\n",
      "        [0.0633],\n",
      "        [0.0640],\n",
      "        [0.0646],\n",
      "        [0.0653],\n",
      "        [0.0658],\n",
      "        [0.0663],\n",
      "        [0.0668],\n",
      "        [0.0672],\n",
      "        [0.0675],\n",
      "        [0.0677],\n",
      "        [0.0679],\n",
      "        [0.0680],\n",
      "        [0.0681],\n",
      "        [0.0682],\n",
      "        [0.0682],\n",
      "        [0.0680],\n",
      "        [0.0679],\n",
      "        [0.0677],\n",
      "        [0.0674],\n",
      "        [0.0671],\n",
      "        [0.0668],\n",
      "        [0.0664],\n",
      "        [0.0660],\n",
      "        [0.0654],\n",
      "        [0.0649],\n",
      "        [0.0642],\n",
      "        [0.0636],\n",
      "        [0.0629],\n",
      "        [0.0622],\n",
      "        [0.0613],\n",
      "        [0.0604],\n",
      "        [0.0595],\n",
      "        [0.0585],\n",
      "        [0.0576],\n",
      "        [0.0567],\n",
      "        [0.0558],\n",
      "        [0.0550],\n",
      "        [0.0543],\n",
      "        [0.0536],\n",
      "        [0.0529],\n",
      "        [0.0523],\n",
      "        [0.0518],\n",
      "        [0.0513],\n",
      "        [0.0509],\n",
      "        [0.0505],\n",
      "        [0.0501],\n",
      "        [0.0499],\n",
      "        [0.0499],\n",
      "        [0.0500],\n",
      "        [0.0502],\n",
      "        [0.0505],\n",
      "        [0.0509],\n",
      "        [0.0513],\n",
      "        [0.0519],\n",
      "        [0.0527],\n",
      "        [0.0534],\n",
      "        [0.0543],\n",
      "        [0.0552],\n",
      "        [0.0562],\n",
      "        [0.0572],\n",
      "        [0.0582],\n",
      "        [0.0592],\n",
      "        [0.0603],\n",
      "        [0.0613],\n",
      "        [0.0622],\n",
      "        [0.0631],\n",
      "        [0.0638],\n",
      "        [0.0645],\n",
      "        [0.0652],\n",
      "        [0.0658],\n",
      "        [0.0662],\n",
      "        [0.0666],\n",
      "        [0.0670],\n",
      "        [0.0673],\n",
      "        [0.0675],\n",
      "        [0.0678],\n",
      "        [0.0680],\n",
      "        [0.0682],\n",
      "        [0.0684],\n",
      "        [0.0684],\n",
      "        [0.0685],\n",
      "        [0.0684],\n",
      "        [0.0683],\n",
      "        [0.0682],\n",
      "        [0.0680],\n",
      "        [0.0678],\n",
      "        [0.0675],\n",
      "        [0.0672],\n",
      "        [0.0668],\n",
      "        [0.0663],\n",
      "        [0.0659],\n",
      "        [0.0655],\n",
      "        [0.0651],\n",
      "        [0.0648],\n",
      "        [0.0645],\n",
      "        [0.0641],\n",
      "        [0.0638],\n",
      "        [0.0635],\n",
      "        [0.0631],\n",
      "        [0.0627],\n",
      "        [0.0623],\n",
      "        [0.0618],\n",
      "        [0.0613],\n",
      "        [0.0606],\n",
      "        [0.0598],\n",
      "        [0.0590],\n",
      "        [0.0583],\n",
      "        [0.0576],\n",
      "        [0.0569],\n",
      "        [0.0561],\n",
      "        [0.0554],\n",
      "        [0.0547],\n",
      "        [0.0541],\n",
      "        [0.0536],\n",
      "        [0.0532],\n",
      "        [0.0528],\n",
      "        [0.0524],\n",
      "        [0.0521],\n",
      "        [0.0519],\n",
      "        [0.0516],\n",
      "        [0.0515],\n",
      "        [0.0516],\n",
      "        [0.0517],\n",
      "        [0.0518],\n",
      "        [0.0519],\n",
      "        [0.0520],\n",
      "        [0.0523],\n",
      "        [0.0525],\n",
      "        [0.0529],\n",
      "        [0.0533],\n",
      "        [0.0539],\n",
      "        [0.0545],\n",
      "        [0.0551],\n",
      "        [0.0558],\n",
      "        [0.0565],\n",
      "        [0.0573],\n",
      "        [0.0582],\n",
      "        [0.0590],\n",
      "        [0.0598],\n",
      "        [0.0607],\n",
      "        [0.0615],\n",
      "        [0.0622],\n",
      "        [0.0630],\n",
      "        [0.0637],\n",
      "        [0.0645],\n",
      "        [0.0652],\n",
      "        [0.0659],\n",
      "        [0.0666],\n",
      "        [0.0672],\n",
      "        [0.0677],\n",
      "        [0.0682],\n",
      "        [0.0686],\n",
      "        [0.0690],\n",
      "        [0.0693],\n",
      "        [0.0696],\n",
      "        [0.0698],\n",
      "        [0.0699],\n",
      "        [0.0699],\n",
      "        [0.0698],\n",
      "        [0.0696],\n",
      "        [0.0693],\n",
      "        [0.0690],\n",
      "        [0.0686],\n",
      "        [0.0683],\n",
      "        [0.0679],\n",
      "        [0.0675],\n",
      "        [0.0670],\n",
      "        [0.0665],\n",
      "        [0.0660],\n",
      "        [0.0653],\n",
      "        [0.0646],\n",
      "        [0.0641],\n",
      "        [0.0635],\n",
      "        [0.0628],\n",
      "        [0.0622],\n",
      "        [0.0615],\n",
      "        [0.0607],\n",
      "        [0.0599],\n",
      "        [0.0592],\n",
      "        [0.0585],\n",
      "        [0.0577],\n",
      "        [0.0570],\n",
      "        [0.0563],\n",
      "        [0.0557],\n",
      "        [0.0552],\n",
      "        [0.0548],\n",
      "        [0.0544],\n",
      "        [0.0541],\n",
      "        [0.0538],\n",
      "        [0.0536],\n",
      "        [0.0535],\n",
      "        [0.0535],\n",
      "        [0.0535],\n",
      "        [0.0535],\n",
      "        [0.0536],\n",
      "        [0.0538],\n",
      "        [0.0541],\n",
      "        [0.0543],\n",
      "        [0.0547],\n",
      "        [0.0550],\n",
      "        [0.0553],\n",
      "        [0.0557],\n",
      "        [0.0561],\n",
      "        [0.0565],\n",
      "        [0.0570],\n",
      "        [0.0575],\n",
      "        [0.0581],\n",
      "        [0.0587],\n",
      "        [0.0593],\n",
      "        [0.0599],\n",
      "        [0.0605],\n",
      "        [0.0612],\n",
      "        [0.0618],\n",
      "        [0.0623],\n",
      "        [0.0628],\n",
      "        [0.0633],\n",
      "        [0.0638],\n",
      "        [0.0642],\n",
      "        [0.0648],\n",
      "        [0.0653],\n",
      "        [0.0657],\n",
      "        [0.0662],\n",
      "        [0.0666],\n",
      "        [0.0670],\n",
      "        [0.0673],\n",
      "        [0.0676],\n",
      "        [0.0679],\n",
      "        [0.0680],\n",
      "        [0.0680],\n",
      "        [0.0680],\n",
      "        [0.0680],\n",
      "        [0.0680],\n",
      "        [0.0679],\n",
      "        [0.0678],\n",
      "        [0.0677],\n",
      "        [0.0675],\n",
      "        [0.0673],\n",
      "        [0.0670],\n",
      "        [0.0667],\n",
      "        [0.0665],\n",
      "        [0.0663],\n",
      "        [0.0659],\n",
      "        [0.0656],\n",
      "        [0.0652],\n",
      "        [0.0648],\n",
      "        [0.0644],\n",
      "        [0.0640],\n",
      "        [0.0635],\n",
      "        [0.0631],\n",
      "        [0.0626],\n",
      "        [0.0622],\n",
      "        [0.0617],\n",
      "        [0.0613],\n",
      "        [0.0609],\n",
      "        [0.0606],\n",
      "        [0.0605],\n",
      "        [0.0604],\n",
      "        [0.0603],\n",
      "        [0.0602],\n",
      "        [0.0602],\n",
      "        [0.0602],\n",
      "        [0.0602],\n",
      "        [0.0603],\n",
      "        [0.0602],\n",
      "        [0.0602],\n",
      "        [0.0600],\n",
      "        [0.0597],\n",
      "        [0.0596],\n",
      "        [0.0593],\n",
      "        [0.0591],\n",
      "        [0.0589],\n",
      "        [0.0586],\n",
      "        [0.0585],\n",
      "        [0.0583],\n",
      "        [0.0581],\n",
      "        [0.0579],\n",
      "        [0.0579],\n",
      "        [0.0577],\n",
      "        [0.0576],\n",
      "        [0.0575],\n",
      "        [0.0575],\n",
      "        [0.0576],\n",
      "        [0.0579],\n",
      "        [0.0580],\n",
      "        [0.0581],\n",
      "        [0.0583],\n",
      "        [0.0586],\n",
      "        [0.0589],\n",
      "        [0.0593],\n",
      "        [0.0597],\n",
      "        [0.0602],\n",
      "        [0.0606],\n",
      "        [0.0610],\n",
      "        [0.0615],\n",
      "        [0.0619],\n",
      "        [0.0622],\n",
      "        [0.0627],\n",
      "        [0.0630],\n",
      "        [0.0633],\n",
      "        [0.0636],\n",
      "        [0.0638],\n",
      "        [0.0640],\n",
      "        [0.0641],\n",
      "        [0.0642],\n",
      "        [0.0641],\n",
      "        [0.0641],\n",
      "        [0.0640],\n",
      "        [0.0640],\n",
      "        [0.0640],\n",
      "        [0.0639],\n",
      "        [0.0638],\n",
      "        [0.0638],\n",
      "        [0.0636],\n",
      "        [0.0633],\n",
      "        [0.0630],\n",
      "        [0.0626],\n",
      "        [0.0623],\n",
      "        [0.0619],\n",
      "        [0.0614],\n",
      "        [0.0607],\n",
      "        [0.0601],\n",
      "        [0.0594],\n",
      "        [0.0587],\n",
      "        [0.0582],\n",
      "        [0.0578],\n",
      "        [0.0574],\n",
      "        [0.0570],\n",
      "        [0.0567],\n",
      "        [0.0564],\n",
      "        [0.0562],\n",
      "        [0.0560],\n",
      "        [0.0561],\n",
      "        [0.0562],\n",
      "        [0.0563],\n",
      "        [0.0565],\n",
      "        [0.0566],\n",
      "        [0.0570],\n",
      "        [0.0574],\n",
      "        [0.0579],\n",
      "        [0.0584],\n",
      "        [0.0590],\n",
      "        [0.0596],\n",
      "        [0.0602],\n",
      "        [0.0607],\n",
      "        [0.0613],\n",
      "        [0.0619],\n",
      "        [0.0625],\n",
      "        [0.0632],\n",
      "        [0.0638],\n",
      "        [0.0645],\n",
      "        [0.0653],\n",
      "        [0.0661],\n",
      "        [0.0668],\n",
      "        [0.0675],\n",
      "        [0.0682],\n",
      "        [0.0688],\n",
      "        [0.0694],\n",
      "        [0.0699],\n",
      "        [0.0703],\n",
      "        [0.0707],\n",
      "        [0.0711],\n",
      "        [0.0714],\n",
      "        [0.0717],\n",
      "        [0.0719],\n",
      "        [0.0721],\n",
      "        [0.0721],\n",
      "        [0.0722],\n",
      "        [0.0721],\n",
      "        [0.0720],\n",
      "        [0.0718],\n",
      "        [0.0715],\n",
      "        [0.0712],\n",
      "        [0.0709],\n",
      "        [0.0704],\n",
      "        [0.0699],\n",
      "        [0.0693],\n",
      "        [0.0687],\n",
      "        [0.0679],\n",
      "        [0.0671],\n",
      "        [0.0661],\n",
      "        [0.0652],\n",
      "        [0.0642],\n",
      "        [0.0633],\n",
      "        [0.0625],\n",
      "        [0.0616],\n",
      "        [0.0606],\n",
      "        [0.0595],\n",
      "        [0.0585],\n",
      "        [0.0576],\n",
      "        [0.0566],\n",
      "        [0.0557],\n",
      "        [0.0549],\n",
      "        [0.0542],\n",
      "        [0.0536],\n",
      "        [0.0530],\n",
      "        [0.0526],\n",
      "        [0.0521],\n",
      "        [0.0515],\n",
      "        [0.0511],\n",
      "        [0.0505],\n",
      "        [0.0500],\n",
      "        [0.0495],\n",
      "        [0.0491],\n",
      "        [0.0488],\n",
      "        [0.0485],\n",
      "        [0.0481],\n",
      "        [0.0478],\n",
      "        [0.0477],\n",
      "        [0.0477],\n",
      "        [0.0478],\n",
      "        [0.0480],\n",
      "        [0.0483],\n",
      "        [0.0488],\n",
      "        [0.0492],\n",
      "        [0.0496],\n",
      "        [0.0502],\n",
      "        [0.0508],\n",
      "        [0.0515],\n",
      "        [0.0522],\n",
      "        [0.0531],\n",
      "        [0.0541],\n",
      "        [0.0551],\n",
      "        [0.0561],\n",
      "        [0.0573],\n",
      "        [0.0584],\n",
      "        [0.0595],\n",
      "        [0.0607],\n",
      "        [0.0619],\n",
      "        [0.0629],\n",
      "        [0.0641],\n",
      "        [0.0652],\n",
      "        [0.0664],\n",
      "        [0.0675],\n",
      "        [0.0686],\n",
      "        [0.0696],\n",
      "        [0.0706],\n",
      "        [0.0715],\n",
      "        [0.0724],\n",
      "        [0.0732],\n",
      "        [0.0740],\n",
      "        [0.0747],\n",
      "        [0.0754],\n",
      "        [0.0760],\n",
      "        [0.0764],\n",
      "        [0.0768],\n",
      "        [0.0771],\n",
      "        [0.0772],\n",
      "        [0.0772],\n",
      "        [0.0771],\n",
      "        [0.0769],\n",
      "        [0.0765],\n",
      "        [0.0760],\n",
      "        [0.0754],\n",
      "        [0.0746],\n",
      "        [0.0737],\n",
      "        [0.0727],\n",
      "        [0.0716],\n",
      "        [0.0705],\n",
      "        [0.0692],\n",
      "        [0.0679],\n",
      "        [0.0665],\n",
      "        [0.0651],\n",
      "        [0.0636],\n",
      "        [0.0622],\n",
      "        [0.0606],\n",
      "        [0.0588],\n",
      "        [0.0570],\n",
      "        [0.0554],\n",
      "        [0.0538],\n",
      "        [0.0522],\n",
      "        [0.0506],\n",
      "        [0.0490],\n",
      "        [0.0475],\n",
      "        [0.0462],\n",
      "        [0.0450],\n",
      "        [0.0439],\n",
      "        [0.0430],\n",
      "        [0.0423],\n",
      "        [0.0418],\n",
      "        [0.0412],\n",
      "        [0.0408],\n",
      "        [0.0406],\n",
      "        [0.0406],\n",
      "        [0.0408],\n",
      "        [0.0411],\n",
      "        [0.0418],\n",
      "        [0.0426],\n",
      "        [0.0435],\n",
      "        [0.0445],\n",
      "        [0.0456],\n",
      "        [0.0468],\n",
      "        [0.0482],\n",
      "        [0.0496],\n",
      "        [0.0509],\n",
      "        [0.0523],\n",
      "        [0.0537],\n",
      "        [0.0552],\n",
      "        [0.0567],\n",
      "        [0.0583],\n",
      "        [0.0599],\n",
      "        [0.0615],\n",
      "        [0.0629],\n",
      "        [0.0643],\n",
      "        [0.0656],\n",
      "        [0.0670],\n",
      "        [0.0684],\n",
      "        [0.0696],\n",
      "        [0.0708],\n",
      "        [0.0719],\n",
      "        [0.0729],\n",
      "        [0.0739],\n",
      "        [0.0747],\n",
      "        [0.0753],\n",
      "        [0.0759],\n",
      "        [0.0764],\n",
      "        [0.0768],\n",
      "        [0.0770],\n",
      "        [0.0771],\n",
      "        [0.0773],\n",
      "        [0.0772],\n",
      "        [0.0771],\n",
      "        [0.0770],\n",
      "        [0.0766],\n",
      "        [0.0763],\n",
      "        [0.0758],\n",
      "        [0.0752],\n",
      "        [0.0746],\n",
      "        [0.0738],\n",
      "        [0.0730],\n",
      "        [0.0720],\n",
      "        [0.0710],\n",
      "        [0.0698],\n",
      "        [0.0686]], grad_fn=<AddmmBackward>) tensor([[-0.9478],\n",
      "        [ 0.4988],\n",
      "        [ 0.0000],\n",
      "        [ 0.6708],\n",
      "        [ 0.0000],\n",
      "        [ 0.0000],\n",
      "        [ 0.0000],\n",
      "        [ 0.0327],\n",
      "        [-0.2888],\n",
      "        [ 0.0000],\n",
      "        [ 0.0000],\n",
      "        [ 0.7387],\n",
      "        [ 0.0000],\n",
      "        [ 0.0000],\n",
      "        [-0.4893],\n",
      "        [ 0.0000],\n",
      "        [ 0.0000],\n",
      "        [-0.0186],\n",
      "        [ 0.0000],\n",
      "        [ 0.2837],\n",
      "        [-0.4806],\n",
      "        [ 0.0000],\n",
      "        [ 0.0000],\n",
      "        [ 0.0000],\n",
      "        [ 0.6326],\n",
      "        [ 0.0000],\n",
      "        [ 0.0000],\n",
      "        [ 0.0000],\n",
      "        [ 0.8229],\n",
      "        [ 0.0322],\n",
      "        [-0.1128],\n",
      "        [ 0.0000],\n",
      "        [ 0.0000],\n",
      "        [ 0.0000],\n",
      "        [ 0.0000],\n",
      "        [ 0.4844],\n",
      "        [ 0.0000],\n",
      "        [ 0.0000],\n",
      "        [ 0.0000],\n",
      "        [ 0.0000],\n",
      "        [ 0.0000],\n",
      "        [ 0.0000],\n",
      "        [ 0.0000],\n",
      "        [ 0.6431],\n",
      "        [ 0.0000],\n",
      "        [ 0.4002],\n",
      "        [ 0.0000],\n",
      "        [ 0.0000],\n",
      "        [ 0.3924],\n",
      "        [ 0.6583],\n",
      "        [-0.8445],\n",
      "        [ 0.9331],\n",
      "        [ 0.0000],\n",
      "        [ 0.0000],\n",
      "        [ 0.0000],\n",
      "        [-0.2686],\n",
      "        [ 0.0000],\n",
      "        [ 0.0000],\n",
      "        [ 0.0000],\n",
      "        [ 0.2742],\n",
      "        [ 0.0000],\n",
      "        [ 0.0000],\n",
      "        [ 0.0000],\n",
      "        [ 0.4626],\n",
      "        [ 0.0000],\n",
      "        [ 0.0000],\n",
      "        [ 0.0000],\n",
      "        [-0.9536],\n",
      "        [ 0.0000],\n",
      "        [ 0.0000],\n",
      "        [ 0.0000],\n",
      "        [ 0.0000],\n",
      "        [ 0.0000],\n",
      "        [-0.9822],\n",
      "        [ 0.0000],\n",
      "        [ 0.0000],\n",
      "        [ 0.0000],\n",
      "        [ 0.0000],\n",
      "        [ 0.0000],\n",
      "        [ 0.0000],\n",
      "        [ 0.0000],\n",
      "        [ 0.0000],\n",
      "        [ 0.0000],\n",
      "        [ 0.5586],\n",
      "        [ 0.0000],\n",
      "        [ 0.0000],\n",
      "        [ 0.7036],\n",
      "        [ 0.0000],\n",
      "        [ 0.0000],\n",
      "        [ 0.6730],\n",
      "        [ 0.9971],\n",
      "        [ 0.0000],\n",
      "        [ 0.0000],\n",
      "        [ 0.0000],\n",
      "        [ 0.0000],\n",
      "        [-0.4572],\n",
      "        [ 0.0000],\n",
      "        [ 0.0000],\n",
      "        [ 0.0000],\n",
      "        [ 0.0000],\n",
      "        [ 0.0000],\n",
      "        [ 0.1681],\n",
      "        [ 0.0000],\n",
      "        [ 0.0000],\n",
      "        [ 0.0000],\n",
      "        [ 0.0000],\n",
      "        [ 0.0000],\n",
      "        [ 0.0000],\n",
      "        [ 0.0000],\n",
      "        [ 0.1430],\n",
      "        [ 0.0000],\n",
      "        [-0.7199],\n",
      "        [-0.8761],\n",
      "        [ 0.0000],\n",
      "        [-0.3600],\n",
      "        [ 0.0000],\n",
      "        [-0.5517],\n",
      "        [ 0.3254],\n",
      "        [ 0.4685],\n",
      "        [-0.2397],\n",
      "        [ 0.0000],\n",
      "        [ 0.0000],\n",
      "        [ 0.6686],\n",
      "        [ 0.9486],\n",
      "        [ 0.2834],\n",
      "        [ 0.0000],\n",
      "        [ 0.0000],\n",
      "        [ 0.0000],\n",
      "        [ 0.0000],\n",
      "        [ 0.8537],\n",
      "        [-0.1413],\n",
      "        [ 0.0000],\n",
      "        [-0.4813],\n",
      "        [ 0.0000],\n",
      "        [ 0.0000],\n",
      "        [ 0.2083],\n",
      "        [ 0.0000],\n",
      "        [ 0.0000],\n",
      "        [ 0.4827],\n",
      "        [ 0.0000],\n",
      "        [-0.1725],\n",
      "        [-0.9285],\n",
      "        [ 0.8727],\n",
      "        [ 0.0000],\n",
      "        [ 0.7004],\n",
      "        [ 0.0000],\n",
      "        [ 0.0000],\n",
      "        [ 0.0000],\n",
      "        [ 0.0000],\n",
      "        [-0.1220],\n",
      "        [-0.1749],\n",
      "        [ 0.0000],\n",
      "        [ 0.0000],\n",
      "        [ 0.0000],\n",
      "        [ 0.0000],\n",
      "        [ 0.0000],\n",
      "        [-0.7975],\n",
      "        [ 0.9256],\n",
      "        [ 0.0000],\n",
      "        [ 0.0000],\n",
      "        [ 0.0000],\n",
      "        [ 0.0000],\n",
      "        [ 0.0000],\n",
      "        [ 0.0000],\n",
      "        [-0.9830],\n",
      "        [ 0.4543],\n",
      "        [ 0.0000],\n",
      "        [ 0.0000],\n",
      "        [ 0.0000],\n",
      "        [ 0.7550],\n",
      "        [-0.1493],\n",
      "        [-0.0798],\n",
      "        [ 0.0000],\n",
      "        [ 0.0000],\n",
      "        [ 0.0000],\n",
      "        [ 0.0000],\n",
      "        [ 0.6091],\n",
      "        [ 0.0000],\n",
      "        [ 0.1055],\n",
      "        [ 0.5717],\n",
      "        [ 0.0000],\n",
      "        [ 0.0000],\n",
      "        [ 0.0000],\n",
      "        [-0.7916],\n",
      "        [ 0.0000],\n",
      "        [ 0.0000],\n",
      "        [-0.1331],\n",
      "        [ 0.0000],\n",
      "        [ 0.0000],\n",
      "        [ 0.7001],\n",
      "        [ 0.0000],\n",
      "        [-0.9873],\n",
      "        [ 0.0000],\n",
      "        [ 0.0000],\n",
      "        [ 0.0000],\n",
      "        [ 0.6641],\n",
      "        [ 0.0000],\n",
      "        [-0.6798],\n",
      "        [ 0.0000],\n",
      "        [ 0.0000],\n",
      "        [ 0.7587],\n",
      "        [-0.3083],\n",
      "        [ 0.0000],\n",
      "        [ 0.0000],\n",
      "        [-0.6917],\n",
      "        [ 0.0000],\n",
      "        [ 0.0000],\n",
      "        [-0.3061],\n",
      "        [ 0.0000],\n",
      "        [ 0.0000],\n",
      "        [ 0.0000],\n",
      "        [ 0.0000],\n",
      "        [ 0.0000],\n",
      "        [ 0.0000],\n",
      "        [ 0.0000],\n",
      "        [ 0.0000],\n",
      "        [ 0.0000],\n",
      "        [ 0.0000],\n",
      "        [ 0.0000],\n",
      "        [ 0.7825],\n",
      "        [ 0.0000],\n",
      "        [ 0.0000],\n",
      "        [ 0.0000],\n",
      "        [ 0.0000],\n",
      "        [ 0.0000],\n",
      "        [ 0.0000],\n",
      "        [ 0.0000],\n",
      "        [ 0.0000],\n",
      "        [ 0.0000],\n",
      "        [ 0.0000],\n",
      "        [ 0.0000],\n",
      "        [ 0.0000],\n",
      "        [ 0.0000],\n",
      "        [ 0.3218],\n",
      "        [ 0.0000],\n",
      "        [ 0.0000],\n",
      "        [ 0.0000],\n",
      "        [ 0.0000],\n",
      "        [-0.9250],\n",
      "        [ 0.2749],\n",
      "        [ 0.0000],\n",
      "        [ 0.0000],\n",
      "        [ 0.0000],\n",
      "        [ 0.0000],\n",
      "        [ 0.0000],\n",
      "        [-0.3517],\n",
      "        [ 0.3918],\n",
      "        [ 0.6349],\n",
      "        [ 0.0000],\n",
      "        [ 0.0000],\n",
      "        [ 0.0000],\n",
      "        [-0.6510],\n",
      "        [ 0.0000],\n",
      "        [ 0.0203],\n",
      "        [ 0.0000],\n",
      "        [ 0.0000],\n",
      "        [ 0.0000],\n",
      "        [ 0.0000],\n",
      "        [-0.5530],\n",
      "        [-0.5048],\n",
      "        [ 0.0000],\n",
      "        [ 0.1789],\n",
      "        [ 0.0000],\n",
      "        [ 0.0000],\n",
      "        [ 0.0000],\n",
      "        [-0.2465],\n",
      "        [ 0.1256],\n",
      "        [ 0.0000],\n",
      "        [-0.1328],\n",
      "        [ 0.0000],\n",
      "        [ 0.0000],\n",
      "        [ 0.0000],\n",
      "        [-0.9606],\n",
      "        [ 0.0000],\n",
      "        [-0.9156],\n",
      "        [-0.9749],\n",
      "        [ 0.0000],\n",
      "        [ 0.0000],\n",
      "        [ 0.0000],\n",
      "        [ 0.0000],\n",
      "        [-0.3755],\n",
      "        [-0.2756],\n",
      "        [ 0.0000],\n",
      "        [ 0.9914],\n",
      "        [ 0.0000],\n",
      "        [ 0.9272],\n",
      "        [ 0.3682],\n",
      "        [-0.5725],\n",
      "        [ 0.8723],\n",
      "        [ 0.0000],\n",
      "        [ 0.0000],\n",
      "        [ 0.0000],\n",
      "        [-0.0571],\n",
      "        [ 0.0000],\n",
      "        [ 0.4579],\n",
      "        [ 0.0000],\n",
      "        [-0.5793],\n",
      "        [ 0.7385],\n",
      "        [ 0.0000],\n",
      "        [ 0.0000],\n",
      "        [-0.6146],\n",
      "        [-0.0564],\n",
      "        [-0.9133],\n",
      "        [ 0.9365],\n",
      "        [ 0.1585],\n",
      "        [ 0.0000],\n",
      "        [-0.7701],\n",
      "        [ 0.0000],\n",
      "        [-0.4394],\n",
      "        [ 0.0000],\n",
      "        [ 0.0000],\n",
      "        [ 0.1343],\n",
      "        [ 0.0000],\n",
      "        [ 0.0000],\n",
      "        [ 0.0000],\n",
      "        [ 0.0000],\n",
      "        [-0.6994],\n",
      "        [ 0.9656],\n",
      "        [ 0.0000],\n",
      "        [ 0.4183],\n",
      "        [ 0.0000],\n",
      "        [ 0.6358],\n",
      "        [ 0.0000],\n",
      "        [ 0.0000],\n",
      "        [ 0.7858],\n",
      "        [ 0.0000],\n",
      "        [ 0.0000],\n",
      "        [-0.5694],\n",
      "        [ 0.0130],\n",
      "        [ 0.0000],\n",
      "        [ 0.0000],\n",
      "        [ 0.0000],\n",
      "        [ 0.7436],\n",
      "        [ 0.5462],\n",
      "        [ 0.0000],\n",
      "        [ 0.3249],\n",
      "        [ 0.0000],\n",
      "        [ 0.0000],\n",
      "        [ 0.8563],\n",
      "        [ 0.6882],\n",
      "        [ 0.0000],\n",
      "        [ 0.0000],\n",
      "        [ 0.0000],\n",
      "        [-0.8539],\n",
      "        [-0.1983],\n",
      "        [ 0.0000],\n",
      "        [ 0.0000],\n",
      "        [-0.0053],\n",
      "        [ 0.0000],\n",
      "        [-0.5189],\n",
      "        [ 0.0000],\n",
      "        [-0.9257],\n",
      "        [ 0.0000],\n",
      "        [ 0.0000],\n",
      "        [ 0.0000],\n",
      "        [ 0.0000],\n",
      "        [-0.9388],\n",
      "        [ 0.0000],\n",
      "        [ 0.0000],\n",
      "        [-0.4329],\n",
      "        [ 0.0000],\n",
      "        [-0.2945],\n",
      "        [ 0.6248],\n",
      "        [ 0.0000],\n",
      "        [ 0.0000],\n",
      "        [-0.4385],\n",
      "        [-0.9043],\n",
      "        [ 0.0000],\n",
      "        [ 0.0000],\n",
      "        [-0.8119],\n",
      "        [-0.7434],\n",
      "        [ 0.0000],\n",
      "        [ 0.0000],\n",
      "        [ 0.0000],\n",
      "        [ 0.0000],\n",
      "        [ 0.0000],\n",
      "        [ 0.0000],\n",
      "        [ 0.0000],\n",
      "        [ 0.0000],\n",
      "        [ 0.0000],\n",
      "        [-0.9066],\n",
      "        [ 0.0000],\n",
      "        [ 0.0000],\n",
      "        [ 0.0000],\n",
      "        [ 0.0000],\n",
      "        [ 0.0000],\n",
      "        [-0.9279],\n",
      "        [ 0.7906],\n",
      "        [ 0.0000],\n",
      "        [-0.4977],\n",
      "        [ 0.0000],\n",
      "        [-0.1435],\n",
      "        [ 0.0000],\n",
      "        [ 0.0000],\n",
      "        [ 0.0000],\n",
      "        [ 0.0000],\n",
      "        [ 0.0000],\n",
      "        [ 0.7852],\n",
      "        [ 0.0000],\n",
      "        [ 0.9408],\n",
      "        [-0.7437],\n",
      "        [ 0.0000],\n",
      "        [-0.9147],\n",
      "        [ 0.0000],\n",
      "        [ 0.0000],\n",
      "        [ 0.0000],\n",
      "        [ 0.0000],\n",
      "        [ 0.0000],\n",
      "        [ 0.0000],\n",
      "        [ 0.0000],\n",
      "        [ 0.0000],\n",
      "        [-0.8666],\n",
      "        [ 0.0000],\n",
      "        [ 0.0000],\n",
      "        [ 0.0000],\n",
      "        [-0.3591],\n",
      "        [ 0.6534],\n",
      "        [ 0.7886],\n",
      "        [ 0.0000],\n",
      "        [ 0.9342],\n",
      "        [ 0.0000],\n",
      "        [ 0.3624],\n",
      "        [ 0.0000],\n",
      "        [ 0.0000],\n",
      "        [ 0.8132],\n",
      "        [ 0.8165],\n",
      "        [ 0.0000],\n",
      "        [ 0.0000],\n",
      "        [ 0.0000],\n",
      "        [ 0.0000],\n",
      "        [ 0.0000],\n",
      "        [ 0.0000],\n",
      "        [ 0.0000],\n",
      "        [ 0.4016],\n",
      "        [ 0.9332],\n",
      "        [-0.9158],\n",
      "        [ 0.4439],\n",
      "        [ 0.0000],\n",
      "        [ 0.0000],\n",
      "        [-0.6786],\n",
      "        [ 0.0000],\n",
      "        [ 0.0000],\n",
      "        [ 0.0000],\n",
      "        [ 0.0000],\n",
      "        [ 0.3469],\n",
      "        [ 0.0000],\n",
      "        [-0.6417],\n",
      "        [ 0.0000],\n",
      "        [ 0.0000],\n",
      "        [-0.6873],\n",
      "        [ 0.0000],\n",
      "        [-0.6852],\n",
      "        [ 0.0000],\n",
      "        [ 0.0000],\n",
      "        [ 0.0000],\n",
      "        [ 0.0000],\n",
      "        [ 0.0000],\n",
      "        [ 0.0000],\n",
      "        [-0.8475],\n",
      "        [ 0.0000],\n",
      "        [ 0.0000],\n",
      "        [-0.5059],\n",
      "        [ 0.0000],\n",
      "        [ 0.0000],\n",
      "        [ 0.0000],\n",
      "        [ 0.0000],\n",
      "        [ 0.0000],\n",
      "        [ 0.0000],\n",
      "        [ 0.0000],\n",
      "        [ 0.1818],\n",
      "        [ 0.6068],\n",
      "        [ 0.0000],\n",
      "        [ 0.0000],\n",
      "        [ 0.6263],\n",
      "        [ 0.0000],\n",
      "        [ 0.0000],\n",
      "        [ 0.0000],\n",
      "        [ 0.2046],\n",
      "        [ 0.0000],\n",
      "        [ 0.3704],\n",
      "        [ 0.0000],\n",
      "        [ 0.0000],\n",
      "        [ 0.0000],\n",
      "        [ 0.0000],\n",
      "        [ 0.0000],\n",
      "        [ 0.3470],\n",
      "        [ 0.0000],\n",
      "        [-0.3343],\n",
      "        [-0.2329],\n",
      "        [ 0.0000],\n",
      "        [ 0.0000],\n",
      "        [ 0.0000],\n",
      "        [ 0.0000],\n",
      "        [ 0.0000],\n",
      "        [ 0.0000],\n",
      "        [ 0.2486],\n",
      "        [-0.8055],\n",
      "        [ 0.0000],\n",
      "        [ 0.0000],\n",
      "        [ 0.9189],\n",
      "        [ 0.0000],\n",
      "        [-0.2131],\n",
      "        [-0.5387],\n",
      "        [ 0.0000],\n",
      "        [-0.0017],\n",
      "        [-0.7926],\n",
      "        [ 0.0000],\n",
      "        [ 0.0000],\n",
      "        [ 0.6963],\n",
      "        [ 0.0000],\n",
      "        [ 0.0000],\n",
      "        [ 0.0000],\n",
      "        [ 0.0000],\n",
      "        [ 0.0000],\n",
      "        [ 0.5313],\n",
      "        [ 0.0000],\n",
      "        [ 0.0000],\n",
      "        [-0.0806],\n",
      "        [ 0.0000],\n",
      "        [ 0.0000],\n",
      "        [ 0.0000],\n",
      "        [ 0.0000],\n",
      "        [ 0.0000],\n",
      "        [ 0.0000],\n",
      "        [-0.8641],\n",
      "        [ 0.0000],\n",
      "        [ 0.8868],\n",
      "        [ 0.0000],\n",
      "        [ 0.0000],\n",
      "        [-0.2866],\n",
      "        [ 0.0000],\n",
      "        [ 0.7851],\n",
      "        [ 0.0000],\n",
      "        [ 0.0000],\n",
      "        [ 0.0000],\n",
      "        [ 0.0000],\n",
      "        [ 0.0000],\n",
      "        [ 0.1991],\n",
      "        [-0.8766],\n",
      "        [ 0.2533],\n",
      "        [-0.0790],\n",
      "        [-0.6549],\n",
      "        [ 0.6061],\n",
      "        [-0.6306],\n",
      "        [ 0.0000],\n",
      "        [-0.0340],\n",
      "        [ 0.0000],\n",
      "        [ 0.0000],\n",
      "        [ 0.0000],\n",
      "        [ 0.0000],\n",
      "        [ 0.4074],\n",
      "        [ 0.0000],\n",
      "        [ 0.0342],\n",
      "        [ 0.0000],\n",
      "        [-0.4208]])\n"
     ]
    },
    {
     "ename": "RuntimeError",
     "evalue": "gather_out_cpu(): Expected dtype int64 for index",
     "output_type": "error",
     "traceback": [
      "\u001b[0;31m---------------------------------------------------------------------------\u001b[0m",
      "\u001b[0;31mRuntimeError\u001b[0m                              Traceback (most recent call last)",
      "\u001b[0;32m<ipython-input-134-73696b6f2be1>\u001b[0m in \u001b[0;36m<module>\u001b[0;34m\u001b[0m\n\u001b[0;32m----> 1\u001b[0;31m \u001b[0mRL\u001b[0m\u001b[0;34m.\u001b[0m\u001b[0msolve\u001b[0m\u001b[0;34m(\u001b[0m\u001b[0;36m1000\u001b[0m\u001b[0;34m)\u001b[0m\u001b[0;34m\u001b[0m\u001b[0;34m\u001b[0m\u001b[0m\n\u001b[0m",
      "\u001b[0;32m<ipython-input-130-2545ecbf32cd>\u001b[0m in \u001b[0;36msolve\u001b[0;34m(self, episodios)\u001b[0m\n\u001b[1;32m     56\u001b[0m                 \u001b[0;32melse\u001b[0m\u001b[0;34m:\u001b[0m\u001b[0;34m\u001b[0m\u001b[0;34m\u001b[0m\u001b[0m\n\u001b[1;32m     57\u001b[0m                     \u001b[0mestado\u001b[0m \u001b[0;34m=\u001b[0m \u001b[0mprx_estado\u001b[0m                                        \u001b[0;31m# novo estado\u001b[0m\u001b[0;34m\u001b[0m\u001b[0;34m\u001b[0m\u001b[0m\n\u001b[0;32m---> 58\u001b[0;31m             \u001b[0mself\u001b[0m\u001b[0;34m.\u001b[0m\u001b[0magent\u001b[0m\u001b[0;34m.\u001b[0m\u001b[0mlearn\u001b[0m\u001b[0;34m(\u001b[0m\u001b[0;34m)\u001b[0m\u001b[0;34m\u001b[0m\u001b[0;34m\u001b[0m\u001b[0m\n\u001b[0m\u001b[1;32m     59\u001b[0m             \u001b[0mself\u001b[0m\u001b[0;34m.\u001b[0m\u001b[0mscores\u001b[0m\u001b[0;34m.\u001b[0m\u001b[0mappend\u001b[0m\u001b[0;34m(\u001b[0m\u001b[0mscore\u001b[0m\u001b[0;34m)\u001b[0m\u001b[0;34m\u001b[0m\u001b[0;34m\u001b[0m\u001b[0m\n\u001b[1;32m     60\u001b[0m \u001b[0;34m\u001b[0m\u001b[0m\n",
      "\u001b[0;32m<ipython-input-129-bef65eb262a8>\u001b[0m in \u001b[0;36mlearn\u001b[0;34m(self)\u001b[0m\n\u001b[1;32m     45\u001b[0m         \u001b[0mtarget_q_s\u001b[0m \u001b[0;34m=\u001b[0m \u001b[0mrewards\u001b[0m \u001b[0;34m+\u001b[0m \u001b[0mmax_a_q_sp\u001b[0m\u001b[0;34m\u001b[0m\u001b[0;34m\u001b[0m\u001b[0m\n\u001b[1;32m     46\u001b[0m         \u001b[0mprint\u001b[0m\u001b[0;34m(\u001b[0m\u001b[0mself\u001b[0m\u001b[0;34m.\u001b[0m\u001b[0mmodelo\u001b[0m\u001b[0;34m(\u001b[0m\u001b[0mestados\u001b[0m\u001b[0;34m)\u001b[0m\u001b[0;34m,\u001b[0m \u001b[0macoes\u001b[0m\u001b[0;34m)\u001b[0m\u001b[0;34m\u001b[0m\u001b[0;34m\u001b[0m\u001b[0m\n\u001b[0;32m---> 47\u001b[0;31m         \u001b[0mq_sa\u001b[0m \u001b[0;34m=\u001b[0m \u001b[0mself\u001b[0m\u001b[0;34m.\u001b[0m\u001b[0mmodelo\u001b[0m\u001b[0;34m(\u001b[0m\u001b[0mestados\u001b[0m\u001b[0;34m)\u001b[0m\u001b[0;34m.\u001b[0m\u001b[0mgather\u001b[0m\u001b[0;34m(\u001b[0m\u001b[0;36m1\u001b[0m\u001b[0;34m,\u001b[0m \u001b[0macoes\u001b[0m\u001b[0;34m)\u001b[0m\u001b[0;34m\u001b[0m\u001b[0;34m\u001b[0m\u001b[0m\n\u001b[0m\u001b[1;32m     48\u001b[0m \u001b[0;34m\u001b[0m\u001b[0m\n\u001b[1;32m     49\u001b[0m         \u001b[0mloss\u001b[0m \u001b[0;34m=\u001b[0m \u001b[0mself\u001b[0m\u001b[0;34m.\u001b[0m\u001b[0mhparams_model\u001b[0m\u001b[0;34m[\u001b[0m\u001b[0;34m'func_loss'\u001b[0m\u001b[0;34m]\u001b[0m\u001b[0;34m(\u001b[0m \u001b[0mtarget_q_s\u001b[0m\u001b[0;34m,\u001b[0m \u001b[0mq_sa\u001b[0m \u001b[0;34m)\u001b[0m\u001b[0;34m\u001b[0m\u001b[0;34m\u001b[0m\u001b[0m\n",
      "\u001b[0;31mRuntimeError\u001b[0m: gather_out_cpu(): Expected dtype int64 for index"
     ]
    }
   ],
   "source": [
    "RL.solve(1000)"
   ]
  },
  {
   "cell_type": "code",
   "execution_count": 105,
   "id": "prompt-giant",
   "metadata": {},
   "outputs": [
    {
     "name": "stderr",
     "output_type": "stream",
     "text": [
      "<ipython-input-105-64727d2dc40c>:1: DeprecationWarning: The default dtype for empty Series will be 'object' instead of 'float64' in a future version. Specify a dtype explicitly to silence this warning.\n",
      "  pd.Series(RL.scores).plot(linewidth=0.25)\n",
      "<ipython-input-105-64727d2dc40c>:2: DeprecationWarning: The default dtype for empty Series will be 'object' instead of 'float64' in a future version. Specify a dtype explicitly to silence this warning.\n",
      "  pd.Series(RL.scores).rolling(100).mean().plot(linewidth=0.75, figsize=(8, 5))\n"
     ]
    },
    {
     "data": {
      "image/png": "[encoded data removed]",
      "text/plain": [
       "<Figure size 576x360 with 1 Axes>"
      ]
     },
     "metadata": {
      "needs_background": "light"
     },
     "output_type": "display_data"
    }
   ],
   "source": [
    "pd.Series(RL.scores).plot(linewidth=0.25)\n",
    "pd.Series(RL.scores).rolling(100).mean().plot(linewidth=0.75, figsize=(8, 5))\n",
    "\n",
    "plt.xlabel(\"episodio\")\n",
    "plt.ylabel(\"score\")\n",
    "plt.title(\"media movel de score\")\n",
    "plt.grid()"
   ]
  },
  {
   "cell_type": "code",
   "execution_count": 29,
   "id": "joined-finland",
   "metadata": {},
   "outputs": [
    {
     "ename": "IndexError",
     "evalue": "list index out of range",
     "output_type": "error",
     "traceback": [
      "\u001b[0;31m---------------------------------------------------------------------------\u001b[0m",
      "\u001b[0;31mIndexError\u001b[0m                                Traceback (most recent call last)",
      "\u001b[0;32m<ipython-input-29-f9ed0ce50eb8>\u001b[0m in \u001b[0;36m<module>\u001b[0;34m\u001b[0m\n\u001b[1;32m     27\u001b[0m \u001b[0mrecs\u001b[0m \u001b[0;34m=\u001b[0m \u001b[0;34m[\u001b[0m\u001b[0;34m]\u001b[0m\u001b[0;34m\u001b[0m\u001b[0;34m\u001b[0m\u001b[0m\n\u001b[1;32m     28\u001b[0m \u001b[0;32mfor\u001b[0m \u001b[0mi\u001b[0m \u001b[0;32min\u001b[0m \u001b[0mrange\u001b[0m\u001b[0;34m(\u001b[0m\u001b[0;36m0\u001b[0m\u001b[0;34m,\u001b[0m\u001b[0;36m3\u001b[0m\u001b[0;34m)\u001b[0m\u001b[0;34m:\u001b[0m\u001b[0;34m\u001b[0m\u001b[0;34m\u001b[0m\u001b[0m\n\u001b[0;32m---> 29\u001b[0;31m      \u001b[0mrecs\u001b[0m\u001b[0;34m.\u001b[0m\u001b[0mappend\u001b[0m\u001b[0;34m(\u001b[0m\u001b[0mmpatches\u001b[0m\u001b[0;34m.\u001b[0m\u001b[0mRectangle\u001b[0m\u001b[0;34m(\u001b[0m\u001b[0;34m(\u001b[0m\u001b[0;36m0\u001b[0m\u001b[0;34m,\u001b[0m\u001b[0;36m0\u001b[0m\u001b[0;34m)\u001b[0m\u001b[0;34m,\u001b[0m\u001b[0;36m1\u001b[0m\u001b[0;34m,\u001b[0m\u001b[0;36m1\u001b[0m\u001b[0;34m,\u001b[0m\u001b[0mfc\u001b[0m\u001b[0;34m=\u001b[0m\u001b[0msorted\u001b[0m\u001b[0;34m(\u001b[0m\u001b[0mcolors\u001b[0m\u001b[0;34m.\u001b[0m\u001b[0munique\u001b[0m\u001b[0;34m(\u001b[0m\u001b[0;34m)\u001b[0m\u001b[0;34m)\u001b[0m\u001b[0;34m[\u001b[0m\u001b[0mi\u001b[0m\u001b[0;34m]\u001b[0m\u001b[0;34m)\u001b[0m\u001b[0;34m)\u001b[0m\u001b[0;34m\u001b[0m\u001b[0;34m\u001b[0m\u001b[0m\n\u001b[0m\u001b[1;32m     30\u001b[0m \u001b[0mplt\u001b[0m\u001b[0;34m.\u001b[0m\u001b[0mlegend\u001b[0m\u001b[0;34m(\u001b[0m\u001b[0mrecs\u001b[0m\u001b[0;34m,\u001b[0m\u001b[0mlabels\u001b[0m\u001b[0;34m,\u001b[0m\u001b[0mloc\u001b[0m\u001b[0;34m=\u001b[0m\u001b[0;36m4\u001b[0m\u001b[0;34m,\u001b[0m\u001b[0mncol\u001b[0m\u001b[0;34m=\u001b[0m\u001b[0;36m3\u001b[0m\u001b[0;34m)\u001b[0m\u001b[0;34m\u001b[0m\u001b[0;34m\u001b[0m\u001b[0m\n\u001b[1;32m     31\u001b[0m \u001b[0mplt\u001b[0m\u001b[0;34m.\u001b[0m\u001b[0mshow\u001b[0m\u001b[0;34m(\u001b[0m\u001b[0;34m)\u001b[0m\u001b[0;34m\u001b[0m\u001b[0;34m\u001b[0m\u001b[0m\n",
      "\u001b[0;31mIndexError\u001b[0m: list index out of range"
     ]
    },
    {
     "data": {
      "image/png": "[encoded data removed]",
      "text/plain": [
       "<Figure size 504x504 with 1 Axes>"
      ]
     },
     "metadata": {
      "needs_background": "light"
     },
     "output_type": "display_data"
    }
   ],
   "source": [
    "import matplotlib.patches as mpatches\n",
    "from matplotlib.colors import ListedColormap\n",
    "from torch.autograd import Variable\n",
    "\n",
    "X = np.random.uniform(-1.2, 0.6, 10000)\n",
    "Y = np.random.uniform(-0.07, 0.07, 10000)\n",
    "Z = []\n",
    "\n",
    "for i in range(len(X)):\n",
    "    z = RL.agent.act(np.array([X[i], Y[i]])).item()\n",
    "    Z.append(z)\n",
    "Z = pd.Series(Z)\n",
    "\n",
    "colors = {0:'blue',1:'lime',2:'red'}\n",
    "colors = Z.apply(lambda x:colors[x])\n",
    "labels = ['Left','Right','Nothing']\n",
    "\n",
    "fig = plt.figure(3, figsize=[7,7])\n",
    "ax = fig.gca()\n",
    "plt.set_cmap('brg')\n",
    "surf = ax.scatter(X,Y, c=Z)\n",
    "\n",
    "ax.set_xlabel('Position')\n",
    "ax.set_ylabel('Velocity')\n",
    "ax.set_title('Policy')\n",
    "\n",
    "recs = []\n",
    "for i in range(0,3):\n",
    "     recs.append(mpatches.Rectangle((0,0),1,1,fc=sorted(colors.unique())[i]))\n",
    "plt.legend(recs,labels,loc=4,ncol=3)\n",
    "plt.show()"
   ]
  },
  {
   "cell_type": "markdown",
   "id": "republican-working",
   "metadata": {},
   "source": [
    "."
   ]
  }
 ],
 "metadata": {
  "kernelspec": {
   "display_name": "Python 3",
   "language": "python",
   "name": "python3"
  },
  "language_info": {
   "codemirror_mode": {
    "name": "ipython",
    "version": 3
   },
   "file_extension": ".py",
   "mimetype": "text/x-python",
   "name": "python",
   "nbconvert_exporter": "python",
   "pygments_lexer": "ipython3",
   "version": "3.8.10"
  },
  "toc-autonumbering": true,
  "toc-showtags": false
 },
 "nbformat": 4,
 "nbformat_minor": 5
}
