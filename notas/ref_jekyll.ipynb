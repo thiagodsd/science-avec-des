{
 "cells": [
  {
   "cell_type": "markdown",
   "id": "affiliated-quarterly",
   "metadata": {},
   "source": [
    "1. ~[Jekyll on Ubuntu | Jekyll • Simple, blog-aware, static sites](https://jekyllrb.com/docs/installation/ubuntu/)~\n",
    "2. ~[Setting Up Github Pages site with Jekyll Tutorial - DEV Community](https://dev.to/azukacchi/setting-up-github-pages-site-with-jekyll-tutorial-1l60)~\n",
    "\n",
    "[Creating your blog for free using Jekyll + Github pages | by Arya Murali | .20% | Medium](https://medium.com/20percentwork/creating-your-blog-for-free-using-jekyll-github-pages-dba37272730a)\n",
    "\n",
    "```sh\n",
    "bundle install\n",
    "bundle exec jekyll serve\n",
    "\n",
    "git checkout -b gh-pages\n",
    "git status\n",
    "git add .\n",
    "git commit -m \".\"\n",
    "git remote add origin https://github.com/thiagodsd/thiagodsd.github.io.git\n",
    "git push origin gh-pages\n",
    "```"
   ]
  },
  {
   "cell_type": "markdown",
   "id": "increasing-reaction",
   "metadata": {},
   "source": [
    "."
   ]
  }
 ],
 "metadata": {
  "kernelspec": {
   "display_name": "Python 3",
   "language": "python",
   "name": "python3"
  },
  "language_info": {
   "codemirror_mode": {
    "name": "ipython",
    "version": 3
   },
   "file_extension": ".py",
   "mimetype": "text/x-python",
   "name": "python",
   "nbconvert_exporter": "python",
   "pygments_lexer": "ipython3",
   "version": "3.8.5"
  }
 },
 "nbformat": 4,
 "nbformat_minor": 5
}
