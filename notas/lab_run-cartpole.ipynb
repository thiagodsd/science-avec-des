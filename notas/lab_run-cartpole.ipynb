{
 "cells": [
  {
   "cell_type": "code",
   "execution_count": 2,
   "metadata": {
    "colab": {
     "base_uri": "https://localhost:8080/"
    },
    "executionInfo": {
     "elapsed": 26747,
     "status": "ok",
     "timestamp": 1604760019912,
     "user": {
      "displayName": "thiago",
      "photoUrl": "",
      "userId": "13163010393159238908"
     },
     "user_tz": 180
    },
    "id": "_6Nb0CKfJSuk",
    "outputId": "7c35a6eb-3e0e-4fd6-e3b9-662ea698fe8b"
   },
   "outputs": [
    {
     "name": "stdout",
     "output_type": "stream",
     "text": [
      "Mounted at /content/gdrive\n"
     ]
    }
   ],
   "source": [
    "from google.colab import drive\n",
    "drive.mount('/content/gdrive')"
   ]
  },
  {
   "cell_type": "code",
   "execution_count": 3,
   "metadata": {
    "colab": {
     "base_uri": "https://localhost:8080/"
    },
    "executionInfo": {
     "elapsed": 749,
     "status": "ok",
     "timestamp": 1604760024656,
     "user": {
      "displayName": "thiago",
      "photoUrl": "",
      "userId": "13163010393159238908"
     },
     "user_tz": 180
    },
    "id": "hwKN40Z7JXyO",
    "outputId": "d4239520-5aee-47a1-cf25-5789eeae78fa"
   },
   "outputs": [
    {
     "name": "stdout",
     "output_type": "stream",
     "text": [
      "gdrive\tsample_data\n"
     ]
    }
   ],
   "source": [
    "!ls"
   ]
  },
  {
   "cell_type": "code",
   "execution_count": 4,
   "metadata": {
    "executionInfo": {
     "elapsed": 524,
     "status": "ok",
     "timestamp": 1604760083787,
     "user": {
      "displayName": "thiago",
      "photoUrl": "",
      "userId": "13163010393159238908"
     },
     "user_tz": 180
    },
    "id": "ygaVtvDtJrGx"
   },
   "outputs": [],
   "source": [
    "%mkdir gdrive/My\\ Drive/_lab_cartpole"
   ]
  },
  {
   "cell_type": "code",
   "execution_count": 5,
   "metadata": {
    "colab": {
     "base_uri": "https://localhost:8080/"
    },
    "executionInfo": {
     "elapsed": 506,
     "status": "ok",
     "timestamp": 1604760092951,
     "user": {
      "displayName": "thiago",
      "photoUrl": "",
      "userId": "13163010393159238908"
     },
     "user_tz": 180
    },
    "id": "SdzNsCjTJ5r9",
    "outputId": "c6616eab-3463-4207-a268-a0db708c550d"
   },
   "outputs": [
    {
     "name": "stdout",
     "output_type": "stream",
     "text": [
      "/content/gdrive/My Drive/_lab_cartpole\n"
     ]
    }
   ],
   "source": [
    "%cd gdrive/My\\ Drive/_lab_cartpole"
   ]
  },
  {
   "cell_type": "code",
   "execution_count": 6,
   "metadata": {
    "colab": {
     "base_uri": "https://localhost:8080/"
    },
    "executionInfo": {
     "elapsed": 2427,
     "status": "ok",
     "timestamp": 1604760128306,
     "user": {
      "displayName": "thiago",
      "photoUrl": "",
      "userId": "13163010393159238908"
     },
     "user_tz": 180
    },
    "id": "2OBLbVpdJ77a",
    "outputId": "8629336e-1955-45d0-dcd7-24a9886fe8da"
   },
   "outputs": [
    {
     "name": "stdout",
     "output_type": "stream",
     "text": [
      "Cloning into 'cartpole'...\n",
      "remote: Enumerating objects: 82, done.\u001b[K\n",
      "remote: Total 82 (delta 0), reused 0 (delta 0), pack-reused 82\u001b[K\n",
      "Unpacking objects: 100% (82/82), done.\n"
     ]
    }
   ],
   "source": [
    "! git clone https://github.com/gsurma/cartpole"
   ]
  },
  {
   "cell_type": "code",
   "execution_count": 8,
   "metadata": {
    "colab": {
     "base_uri": "https://localhost:8080/"
    },
    "executionInfo": {
     "elapsed": 559,
     "status": "ok",
     "timestamp": 1604760171606,
     "user": {
      "displayName": "thiago",
      "photoUrl": "",
      "userId": "13163010393159238908"
     },
     "user_tz": 180
    },
    "id": "LfaoBmkmKEF4",
    "outputId": "34fc3fc2-4193-4798-f8cb-ec55216da604"
   },
   "outputs": [
    {
     "name": "stdout",
     "output_type": "stream",
     "text": [
      "/content/gdrive/My Drive/_lab_cartpole/cartpole\n"
     ]
    }
   ],
   "source": [
    "%cd cartpole/"
   ]
  },
  {
   "cell_type": "code",
   "execution_count": null,
   "metadata": {
    "colab": {
     "base_uri": "https://localhost:8080/"
    },
    "id": "IKad_7yCKL09",
    "outputId": "3dff3147-5742-4032-aa34-048e7aa7054d"
   },
   "outputs": [
    {
     "name": "stdout",
     "output_type": "stream",
     "text": [
      "2020-11-07 14:45:44.550986: I tensorflow/stream_executor/platform/default/dso_loader.cc:48] Successfully opened dynamic library libcudart.so.10.1\n",
      "2020-11-07 14:45:46.679254: I tensorflow/stream_executor/platform/default/dso_loader.cc:48] Successfully opened dynamic library libcuda.so.1\n",
      "2020-11-07 14:45:46.725056: E tensorflow/stream_executor/cuda/cuda_driver.cc:314] failed call to cuInit: CUDA_ERROR_NO_DEVICE: no CUDA-capable device is detected\n",
      "2020-11-07 14:45:46.725106: I tensorflow/stream_executor/cuda/cuda_diagnostics.cc:156] kernel driver does not appear to be running on this host (87e57dd40ba4): /proc/driver/nvidia/version does not exist\n",
      "2020-11-07 14:45:46.777432: I tensorflow/core/platform/profile_utils/cpu_utils.cc:104] CPU Frequency: 2300000000 Hz\n",
      "2020-11-07 14:45:46.777701: I tensorflow/compiler/xla/service/service.cc:168] XLA service 0x288e840 initialized for platform Host (this does not guarantee that XLA will be used). Devices:\n",
      "2020-11-07 14:45:46.777737: I tensorflow/compiler/xla/service/service.cc:176]   StreamExecutor device (0): Host, Default Version\n",
      "Run: 1, exploration: 1.0, score: 14\n",
      "Scores: (min: 14, avg: 14, max: 14)\n",
      "\n",
      "Run: 2, exploration: 0.985074875, score: 9\n",
      "/content/gdrive/My Drive/_lab_cartpole/cartpole/scores/score_logger.py:38: RankWarning: Polyfit may be poorly conditioned\n",
      "  show_legend=True)\n",
      "Scores: (min: 9, avg: 11.5, max: 14)\n",
      "\n",
      "Run: 3, exploration: 0.9046104802746175, score: 18\n",
      "Scores: (min: 9, avg: 13.666666666666666, max: 18)\n",
      "\n",
      "Run: 4, exploration: 0.8390886103705794, score: 16\n",
      "Scores: (min: 9, avg: 14.25, max: 18)\n",
      "\n",
      "Run: 5, exploration: 0.7628626641409962, score: 20\n",
      "Scores: (min: 9, avg: 15.4, max: 20)\n",
      "\n",
      "Run: 6, exploration: 0.697046600835495, score: 19\n",
      "Scores: (min: 9, avg: 16, max: 20)\n",
      "\n",
      "Run: 7, exploration: 0.6369088258938781, score: 19\n",
      "Scores: (min: 9, avg: 16.428571428571427, max: 20)\n",
      "\n",
      "Run: 8, exploration: 0.6057704364907278, score: 11\n",
      "Scores: (min: 9, avg: 15.75, max: 20)\n",
      "\n",
      "Run: 9, exploration: 0.5761543988830038, score: 11\n",
      "Scores: (min: 9, avg: 15.222222222222221, max: 20)\n",
      "\n",
      "Run: 10, exploration: 0.5398075216808175, score: 14\n",
      "Scores: (min: 9, avg: 15.1, max: 20)\n",
      "\n",
      "Run: 11, exploration: 0.5185893309484582, score: 9\n",
      "Scores: (min: 9, avg: 14.545454545454545, max: 20)\n",
      "\n",
      "Run: 12, exploration: 0.4810273709480478, score: 16\n",
      "Scores: (min: 9, avg: 14.666666666666666, max: 20)\n",
      "\n",
      "Run: 13, exploration: 0.4598090507939749, score: 10\n",
      "Scores: (min: 9, avg: 14.307692307692308, max: 20)\n",
      "\n",
      "Run: 14, exploration: 0.43732904629000013, score: 11\n",
      "Scores: (min: 9, avg: 14.071428571428571, max: 20)\n",
      "\n",
      "Run: 15, exploration: 0.40974000909221303, score: 14\n",
      "Scores: (min: 9, avg: 14.066666666666666, max: 20)\n",
      "\n",
      "Run: 16, exploration: 0.3819719776053028, score: 15\n",
      "Scores: (min: 9, avg: 14.125, max: 20)\n",
      "\n",
      "Run: 17, exploration: 0.3596735257153405, score: 13\n",
      "Scores: (min: 9, avg: 14.058823529411764, max: 20)\n",
      "\n",
      "Run: 18, exploration: 0.3438081748424137, score: 10\n",
      "Scores: (min: 9, avg: 13.833333333333334, max: 20)\n",
      "\n",
      "Run: 19, exploration: 0.32864265128599696, score: 10\n",
      "Scores: (min: 9, avg: 13.631578947368421, max: 20)\n",
      "\n",
      "Run: 20, exploration: 0.3125753549412418, score: 11\n",
      "Scores: (min: 9, avg: 13.5, max: 20)\n",
      "\n",
      "Run: 21, exploration: 0.3017979588795719, score: 8\n",
      "Scores: (min: 8, avg: 13.238095238095237, max: 20)\n",
      "\n",
      "Run: 22, exploration: 0.28134514724562876, score: 15\n",
      "Scores: (min: 8, avg: 13.318181818181818, max: 20)\n",
      "\n",
      "Run: 23, exploration: 0.26759021970270175, score: 11\n",
      "Scores: (min: 8, avg: 13.217391304347826, max: 20)\n",
      "\n",
      "Run: 24, exploration: 0.2570720625972084, score: 9\n",
      "Scores: (min: 8, avg: 13.041666666666666, max: 20)\n",
      "\n",
      "Run: 25, exploration: 0.2457325055235537, score: 10\n",
      "Scores: (min: 8, avg: 12.92, max: 20)\n",
      "\n",
      "Run: 26, exploration: 0.23489314109365644, score: 10\n",
      "Scores: (min: 8, avg: 12.807692307692308, max: 20)\n",
      "\n",
      "Run: 27, exploration: 0.22453190559909803, score: 10\n",
      "Scores: (min: 8, avg: 12.703703703703704, max: 20)\n",
      "\n",
      "Run: 28, exploration: 0.21142436319205632, score: 13\n",
      "Scores: (min: 8, avg: 12.714285714285714, max: 20)\n",
      "\n",
      "Run: 29, exploration: 0.20209834538617025, score: 10\n",
      "Scores: (min: 8, avg: 12.620689655172415, max: 20)\n",
      "\n",
      "Run: 30, exploration: 0.19415447453059972, score: 9\n",
      "Scores: (min: 8, avg: 12.5, max: 20)\n",
      "\n",
      "Run: 31, exploration: 0.18099664897669618, score: 15\n",
      "Scores: (min: 8, avg: 12.580645161290322, max: 20)\n",
      "\n",
      "Run: 32, exploration: 0.17388222158237718, score: 9\n",
      "Scores: (min: 8, avg: 12.46875, max: 20)\n",
      "\n",
      "Run: 33, exploration: 0.16704744067563246, score: 9\n",
      "Scores: (min: 8, avg: 12.363636363636363, max: 20)\n",
      "\n",
      "Run: 34, exploration: 0.1580861105294992, score: 12\n",
      "Scores: (min: 8, avg: 12.352941176470589, max: 20)\n",
      "\n",
      "Run: 35, exploration: 0.15035730121053842, score: 11\n",
      "Scores: (min: 8, avg: 12.314285714285715, max: 20)\n",
      "\n",
      "Run: 36, exploration: 0.14372497725712216, score: 10\n",
      "Scores: (min: 8, avg: 12.25, max: 20)\n",
      "\n",
      "Run: 37, exploration: 0.13738520790976036, score: 10\n",
      "Scores: (min: 8, avg: 12.18918918918919, max: 20)\n",
      "\n",
      "Run: 38, exploration: 0.1313250884614265, score: 10\n",
      "Scores: (min: 8, avg: 12.131578947368421, max: 20)\n",
      "\n",
      "Run: 39, exploration: 0.11412846151764894, score: 29\n",
      "Scores: (min: 8, avg: 12.564102564102564, max: 29)\n",
      "\n",
      "Run: 40, exploration: 0.10909420695870241, score: 10\n",
      "Scores: (min: 8, avg: 12.5, max: 29)\n",
      "\n",
      "Run: 41, exploration: 0.10480604571960442, score: 9\n",
      "Scores: (min: 8, avg: 12.414634146341463, max: 29)\n",
      "\n",
      "Run: 42, exploration: 0.10018300685223579, score: 10\n",
      "Scores: (min: 8, avg: 12.357142857142858, max: 29)\n",
      "\n",
      "Run: 43, exploration: 0.07875931641927113, score: 49\n",
      "Scores: (min: 8, avg: 13.209302325581396, max: 49)\n",
      "\n",
      "Run: 44, exploration: 0.056292216338080694, score: 68\n",
      "Scores: (min: 8, avg: 14.454545454545455, max: 68)\n",
      "\n",
      "Run: 45, exploration: 0.04251487140556204, score: 57\n",
      "Scores: (min: 8, avg: 15.4, max: 68)\n",
      "\n",
      "Run: 46, exploration: 0.03163025067641567, score: 60\n",
      "Scores: (min: 8, avg: 16.369565217391305, max: 68)\n",
      "\n",
      "Run: 47, exploration: 0.021075222784267326, score: 82\n",
      "Scores: (min: 8, avg: 17.76595744680851, max: 82)\n",
      "\n",
      "Run: 48, exploration: 0.014471156162198668, score: 76\n",
      "Scores: (min: 8, avg: 18.979166666666668, max: 82)\n",
      "\n",
      "Run: 49, exploration: 0.01, score: 111\n",
      "Scores: (min: 8, avg: 20.857142857142858, max: 111)\n",
      "\n",
      "Run: 50, exploration: 0.01, score: 103\n",
      "Scores: (min: 8, avg: 22.5, max: 111)\n",
      "\n",
      "Run: 51, exploration: 0.01, score: 46\n",
      "Scores: (min: 8, avg: 22.96078431372549, max: 111)\n",
      "\n",
      "Run: 52, exploration: 0.01, score: 62\n",
      "Scores: (min: 8, avg: 23.71153846153846, max: 111)\n",
      "\n",
      "Run: 53, exploration: 0.01, score: 57\n",
      "Scores: (min: 8, avg: 24.339622641509433, max: 111)\n",
      "\n",
      "Run: 54, exploration: 0.01, score: 43\n",
      "Scores: (min: 8, avg: 24.685185185185187, max: 111)\n",
      "\n",
      "Run: 55, exploration: 0.01, score: 48\n",
      "Scores: (min: 8, avg: 25.10909090909091, max: 111)\n",
      "\n",
      "Run: 56, exploration: 0.01, score: 43\n",
      "Scores: (min: 8, avg: 25.428571428571427, max: 111)\n",
      "\n",
      "Run: 57, exploration: 0.01, score: 57\n",
      "Scores: (min: 8, avg: 25.982456140350877, max: 111)\n",
      "\n",
      "Run: 58, exploration: 0.01, score: 41\n",
      "Scores: (min: 8, avg: 26.24137931034483, max: 111)\n",
      "\n",
      "Run: 59, exploration: 0.01, score: 38\n",
      "Scores: (min: 8, avg: 26.440677966101696, max: 111)\n",
      "\n",
      "Run: 60, exploration: 0.01, score: 99\n",
      "Scores: (min: 8, avg: 27.65, max: 111)\n",
      "\n",
      "Run: 61, exploration: 0.01, score: 115\n",
      "Scores: (min: 8, avg: 29.081967213114755, max: 115)\n",
      "\n",
      "Run: 62, exploration: 0.01, score: 30\n",
      "Scores: (min: 8, avg: 29.096774193548388, max: 115)\n",
      "\n",
      "Run: 63, exploration: 0.01, score: 78\n",
      "Scores: (min: 8, avg: 29.873015873015873, max: 115)\n",
      "\n",
      "Run: 64, exploration: 0.01, score: 46\n",
      "Scores: (min: 8, avg: 30.125, max: 115)\n",
      "\n",
      "Run: 65, exploration: 0.01, score: 56\n",
      "Scores: (min: 8, avg: 30.523076923076925, max: 115)\n",
      "\n",
      "Run: 66, exploration: 0.01, score: 43\n",
      "Scores: (min: 8, avg: 30.71212121212121, max: 115)\n",
      "\n",
      "Run: 67, exploration: 0.01, score: 63\n",
      "Scores: (min: 8, avg: 31.19402985074627, max: 115)\n",
      "\n",
      "Run: 68, exploration: 0.01, score: 59\n",
      "Scores: (min: 8, avg: 31.602941176470587, max: 115)\n",
      "\n",
      "Run: 69, exploration: 0.01, score: 57\n",
      "Scores: (min: 8, avg: 31.971014492753625, max: 115)\n",
      "\n",
      "Run: 70, exploration: 0.01, score: 69\n",
      "Scores: (min: 8, avg: 32.5, max: 115)\n",
      "\n",
      "Run: 71, exploration: 0.01, score: 59\n",
      "Scores: (min: 8, avg: 32.87323943661972, max: 115)\n",
      "\n",
      "Run: 72, exploration: 0.01, score: 113\n",
      "Scores: (min: 8, avg: 33.986111111111114, max: 115)\n",
      "\n",
      "Run: 73, exploration: 0.01, score: 49\n",
      "Scores: (min: 8, avg: 34.19178082191781, max: 115)\n",
      "\n",
      "Run: 74, exploration: 0.01, score: 87\n",
      "Scores: (min: 8, avg: 34.9054054054054, max: 115)\n",
      "\n",
      "Run: 75, exploration: 0.01, score: 69\n",
      "Scores: (min: 8, avg: 35.36, max: 115)\n",
      "\n",
      "Run: 76, exploration: 0.01, score: 137\n",
      "Scores: (min: 8, avg: 36.69736842105263, max: 137)\n",
      "\n",
      "Run: 77, exploration: 0.01, score: 98\n",
      "Scores: (min: 8, avg: 37.493506493506494, max: 137)\n",
      "\n",
      "Run: 78, exploration: 0.01, score: 79\n",
      "Scores: (min: 8, avg: 38.02564102564103, max: 137)\n",
      "\n"
     ]
    }
   ],
   "source": [
    "! python cartpole.py"
   ]
  },
  {
   "cell_type": "code",
   "execution_count": 1,
   "metadata": {
    "colab": {
     "base_uri": "https://localhost:8080/"
    },
    "executionInfo": {
     "elapsed": 782,
     "status": "ok",
     "timestamp": 1604776783078,
     "user": {
      "displayName": "thiago",
      "photoUrl": "",
      "userId": "13163010393159238908"
     },
     "user_tz": 180
    },
    "id": "GwBmhA0lKSS9",
    "outputId": "b6b6fcdc-a375-4a13-da7a-badfcfdd0154"
   },
   "outputs": [
    {
     "name": "stdout",
     "output_type": "stream",
     "text": [
      "hi\n"
     ]
    }
   ],
   "source": [
    "print('hi')"
   ]
  }
 ],
 "metadata": {
  "colab": {
   "authorship_tag": "ABX9TyPObzBkPCNW4YDQ9fscIJNl",
   "collapsed_sections": [],
   "name": "_lab_cartpole.ipynb",
   "provenance": []
  },
  "kernelspec": {
   "display_name": "Python 3",
   "language": "python",
   "name": "python3"
  },
  "language_info": {
   "codemirror_mode": {
    "name": "ipython",
    "version": 3
   },
   "file_extension": ".py",
   "mimetype": "text/x-python",
   "name": "python",
   "nbconvert_exporter": "python",
   "pygments_lexer": "ipython3",
   "version": "3.8.5"
  }
 },
 "nbformat": 4,
 "nbformat_minor": 4
}
