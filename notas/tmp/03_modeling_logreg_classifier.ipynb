{
 "cells": [
  {
   "cell_type": "markdown",
   "metadata": {
    "toc": true
   },
   "source": [
    "<h1>Conteúdo<span class=\"tocSkip\"></span></h1>\n",
    "<div class=\"toc\"><ul class=\"toc-item\"><li><span><a href=\"#Setup\" data-toc-modified-id=\"Setup-1\"><span class=\"toc-item-num\">1&nbsp;&nbsp;</span>Setup</a></span></li><li><span><a href=\"#Dados\" data-toc-modified-id=\"Dados-2\"><span class=\"toc-item-num\">2&nbsp;&nbsp;</span>Dados</a></span><ul class=\"toc-item\"><li><span><a href=\"#carrega\" data-toc-modified-id=\"carrega-2.1\"><span class=\"toc-item-num\">2.1&nbsp;&nbsp;</span>carrega</a></span></li><li><span><a href=\"#mutual-information-&amp;-entropia\" data-toc-modified-id=\"mutual-information-&amp;-entropia-2.2\"><span class=\"toc-item-num\">2.2&nbsp;&nbsp;</span>mutual information &amp; entropia</a></span></li></ul></li><li><span><a href=\"#Modelagem\" data-toc-modified-id=\"Modelagem-3\"><span class=\"toc-item-num\">3&nbsp;&nbsp;</span>Modelagem</a></span></li></ul></div>"
   ]
  },
  {
   "cell_type": "markdown",
   "metadata": {},
   "source": [
    "# Setup\n",
    "---"
   ]
  },
  {
   "cell_type": "code",
   "execution_count": 42,
   "metadata": {
    "ExecuteTime": {
     "end_time": "2022-05-14T13:23:33.886796Z",
     "start_time": "2022-05-14T13:23:33.881478Z"
    }
   },
   "outputs": [],
   "source": [
    "import datetime\n",
    "import warnings\n",
    "import pickle\n",
    "import gc\n",
    "import os\n",
    "import math\n",
    "import pprint\n",
    "import hashlib\n",
    "import functools\n",
    "import tqdm\n",
    "import joblib\n",
    "\n",
    "import numpy as np\n",
    "import pandas as pd\n",
    "import scipy\n",
    "\n",
    "import matplotlib.pyplot as plt\n",
    "import seaborn as sns\n",
    "\n",
    "from sklearn.feature_selection import mutual_info_classif\n",
    "from sklearn.model_selection import train_test_split, StratifiedKFold\n",
    "from sklearn.preprocessing import normalize, StandardScaler\n",
    "from sklearn.metrics import (classification_report,\n",
    "                             roc_curve,\n",
    "                             auc,\n",
    "                             accuracy_score,\n",
    "                             confusion_matrix,\n",
    "                             f1_score,\n",
    "                             fbeta_score,\n",
    "                             balanced_accuracy_score,\n",
    "                             mean_squared_error,\n",
    "                             r2_score,\n",
    "                             roc_auc_score)\n",
    "from sklearn.calibration import CalibratedClassifierCV, calibration_curve\n",
    "\n",
    "from sklearn.linear_model import LogisticRegression\n",
    "from sklearn.ensemble import RandomForestClassifier\n",
    "\n",
    "import lightgbm as lgbm\n",
    "import optuna\n",
    "\n",
    "import shap"
   ]
  },
  {
   "cell_type": "code",
   "execution_count": 43,
   "metadata": {
    "ExecuteTime": {
     "end_time": "2022-05-14T13:23:34.138867Z",
     "start_time": "2022-05-14T13:23:34.136658Z"
    }
   },
   "outputs": [],
   "source": [
    "from sklearn.preprocessing import StandardScaler, MinMaxScaler\n",
    "from sklearn.decomposition import PCA\n",
    "from mpl_toolkits.mplot3d import Axes3D"
   ]
  },
  {
   "cell_type": "code",
   "execution_count": 44,
   "metadata": {
    "ExecuteTime": {
     "end_time": "2022-05-14T13:23:34.465980Z",
     "start_time": "2022-05-14T13:23:34.462284Z"
    }
   },
   "outputs": [],
   "source": [
    "from sklearn.model_selection import train_test_split, StratifiedKFold\n",
    "from sklearn.preprocessing   import normalize, StandardScaler, LabelBinarizer\n",
    "from sklearn.metrics         import classification_report, roc_curve, auc,accuracy_score, confusion_matrix, f1_score, fbeta_score\n",
    "from sklearn.calibration     import CalibratedClassifierCV, calibration_curve\n",
    "from boruta                  import BorutaPy\n",
    "\n",
    "from sklearn.linear_model import LogisticRegression\n",
    "from sklearn.ensemble     import RandomForestClassifier\n",
    "\n",
    "import lightgbm as lgb  "
   ]
  },
  {
   "cell_type": "code",
   "execution_count": 45,
   "metadata": {
    "ExecuteTime": {
     "end_time": "2022-05-14T13:23:34.719479Z",
     "start_time": "2022-05-14T13:23:34.717327Z"
    }
   },
   "outputs": [],
   "source": [
    "import pymc3 as pm\n",
    "import arviz as az"
   ]
  },
  {
   "cell_type": "code",
   "execution_count": 46,
   "metadata": {
    "ExecuteTime": {
     "end_time": "2022-05-14T13:23:34.964413Z",
     "start_time": "2022-05-14T13:23:34.962710Z"
    }
   },
   "outputs": [],
   "source": [
    "import theano.tensor as tt"
   ]
  },
  {
   "cell_type": "code",
   "execution_count": 47,
   "metadata": {
    "ExecuteTime": {
     "end_time": "2022-05-14T13:23:35.180016Z",
     "start_time": "2022-05-14T13:23:35.177485Z"
    }
   },
   "outputs": [],
   "source": [
    "from IPython.display import display\n",
    "%matplotlib inline\n",
    "warnings.filterwarnings('ignore')"
   ]
  },
  {
   "cell_type": "code",
   "execution_count": 48,
   "metadata": {
    "ExecuteTime": {
     "end_time": "2022-05-14T13:23:35.406385Z",
     "start_time": "2022-05-14T13:23:35.397903Z"
    }
   },
   "outputs": [],
   "source": [
    "def reduce_mem_usage(df, int_cast=True, obj_to_category=False, subset=None):\n",
    "    \"\"\"\n",
    "    Iterate through all the columns of a dataframe and modify the data type to reduce memory usage.\n",
    "    :param df: dataframe to reduce (pd.DataFrame)\n",
    "    :param int_cast: indicate if columns should be tried to be casted to int (bool)\n",
    "    :param obj_to_category: convert non-datetime related objects to category dtype (bool)\n",
    "    :param subset: subset of columns to analyse (list)\n",
    "    :return: dataset with the column dtypes adjusted (pd.DataFrame)\n",
    "    \"\"\"\n",
    "    start_mem = df.memory_usage().sum() / 1024 ** 2;\n",
    "    gc.collect()\n",
    "    print('Memory usage of dataframe is {:.2f} MB'.format(start_mem))\n",
    "\n",
    "    cols = subset if subset is not None else df.columns.tolist()\n",
    "\n",
    "    for col in tqdm.tqdm(cols):\n",
    "        try:\n",
    "            col_type = df[col].dtype\n",
    "\n",
    "            if col_type != object and col_type.name != 'category' and 'datetime' not in col_type.name:\n",
    "                c_min = df[col].min()\n",
    "                c_max = df[col].max()\n",
    "\n",
    "                # test if column can be converted to an integer\n",
    "                treat_as_int = str(col_type)[:3] == 'int'\n",
    "                if int_cast and not treat_as_int:\n",
    "                    treat_as_int = (df[col].fillna(-9999) % 1  == 0).all()\n",
    "\n",
    "                if treat_as_int:\n",
    "                    if c_min > np.iinfo(np.int8).min and c_max < np.iinfo(np.int8).max:\n",
    "                        df[col] = df[col].astype(np.int8)\n",
    "                    elif c_min > np.iinfo(np.uint8).min and c_max < np.iinfo(np.uint8).max:\n",
    "                        df[col] = df[col].astype(np.uint8)\n",
    "                    elif c_min > np.iinfo(np.int16).min and c_max < np.iinfo(np.int16).max:\n",
    "                        df[col] = df[col].astype(np.int16)\n",
    "                    elif c_min > np.iinfo(np.uint16).min and c_max < np.iinfo(np.uint16).max:\n",
    "                        df[col] = df[col].astype(np.uint16)\n",
    "                    elif c_min > np.iinfo(np.int32).min and c_max < np.iinfo(np.int32).max:\n",
    "                        df[col] = df[col].astype(np.int32)\n",
    "                    elif c_min > np.iinfo(np.uint32).min and c_max < np.iinfo(np.uint32).max:\n",
    "                        df[col] = df[col].astype(np.uint32)\n",
    "                    elif c_min > np.iinfo(np.int64).min and c_max < np.iinfo(np.int64).max:\n",
    "                        df[col] = df[col].astype(np.int64)\n",
    "                    elif c_min > np.iinfo(np.uint64).min and c_max < np.iinfo(np.uint64).max:\n",
    "                        df[col] = df[col].astype(np.uint64)\n",
    "                else:\n",
    "                    if c_min > np.finfo(np.float16).min and c_max < np.finfo(np.float16).max:\n",
    "                        #df[col] = df[col].astype(np.float16)\n",
    "                        pass\n",
    "                    elif c_min > np.finfo(np.float32).min and c_max < np.finfo(np.float32).max:\n",
    "                        df[col] = df[col].astype(np.float32)\n",
    "                    else:\n",
    "                        df[col] = df[col].astype(np.float64)\n",
    "            elif 'datetime' not in col_type.name and obj_to_category:\n",
    "                df[col] = df[col].astype('category')\n",
    "        except Exception as e:\n",
    "            print(col, e)\n",
    "            pass\n",
    "    gc.collect()\n",
    "    end_mem = df.memory_usage().sum() / 1024 ** 2\n",
    "    print('Memory usage after optimization is: {:.3f} MB'.format(end_mem))\n",
    "    print('Decreased by {:.1f}%'.format(100 * (start_mem - end_mem) / start_mem))\n",
    "\n",
    "    return df"
   ]
  },
  {
   "cell_type": "markdown",
   "metadata": {},
   "source": [
    "# Dados\n",
    "---"
   ]
  },
  {
   "cell_type": "markdown",
   "metadata": {},
   "source": [
    "## carrega"
   ]
  },
  {
   "cell_type": "code",
   "execution_count": 49,
   "metadata": {
    "ExecuteTime": {
     "end_time": "2022-05-14T13:23:35.728698Z",
     "start_time": "2022-05-14T13:23:35.711790Z"
    }
   },
   "outputs": [],
   "source": [
    "df = pd.read_parquet(\"data/04_model_input/vars_finais.pq\")"
   ]
  },
  {
   "cell_type": "code",
   "execution_count": 50,
   "metadata": {
    "ExecuteTime": {
     "end_time": "2022-05-14T13:23:35.995379Z",
     "start_time": "2022-05-14T13:23:35.972757Z"
    },
    "scrolled": true
   },
   "outputs": [
    {
     "name": "stdout",
     "output_type": "stream",
     "text": [
      "CPU times: user 21.1 ms, sys: 0 ns, total: 21.1 ms\n",
      "Wall time: 20.5 ms\n"
     ]
    }
   ],
   "source": [
    "%%time\n",
    "df = df.drop_duplicates()\n",
    "df = df.dropna(subset=[\"TARGET_7\"])"
   ]
  },
  {
   "cell_type": "code",
   "execution_count": 51,
   "metadata": {
    "ExecuteTime": {
     "end_time": "2022-05-14T13:23:36.220028Z",
     "start_time": "2022-05-14T13:23:36.209120Z"
    }
   },
   "outputs": [
    {
     "data": {
      "text/html": [
       "<div>\n",
       "<style scoped>\n",
       "    .dataframe tbody tr th:only-of-type {\n",
       "        vertical-align: middle;\n",
       "    }\n",
       "\n",
       "    .dataframe tbody tr th {\n",
       "        vertical-align: top;\n",
       "    }\n",
       "\n",
       "    .dataframe thead th {\n",
       "        text-align: right;\n",
       "    }\n",
       "</style>\n",
       "<table border=\"1\" class=\"dataframe\">\n",
       "  <thead>\n",
       "    <tr style=\"text-align: right;\">\n",
       "      <th></th>\n",
       "      <th>CODMUN_IBGE</th>\n",
       "      <th>NM_MUNICIPIO</th>\n",
       "      <th>ESTADO</th>\n",
       "      <th>UF</th>\n",
       "      <th>CAPITAL</th>\n",
       "      <th>MACRO_REGIAO</th>\n",
       "      <th>LAT_MUNICIPIO</th>\n",
       "      <th>LONG_MUNICIPIO</th>\n",
       "      <th>POPULACAO_AVG_DECADA</th>\n",
       "      <th>IBGE_DU</th>\n",
       "      <th>...</th>\n",
       "      <th>IBGE_DU_URBAN_DIV_TOTAL</th>\n",
       "      <th>IBGE_DU_RURAL_DIV_TOTAL</th>\n",
       "      <th>IBGE_1_DIV_POP</th>\n",
       "      <th>IBGE_1-4_DIV_POP</th>\n",
       "      <th>IBGE_10-14_DIV_POP</th>\n",
       "      <th>IBGE_15-59_DIV_POP</th>\n",
       "      <th>IBGE_5-9_DIV_POP</th>\n",
       "      <th>IBGE_60+_DIV_POP</th>\n",
       "      <th>IFOOD_COUNT_DIV_POP</th>\n",
       "      <th>DENSIDADE_POP</th>\n",
       "    </tr>\n",
       "  </thead>\n",
       "  <tbody>\n",
       "    <tr>\n",
       "      <th>0</th>\n",
       "      <td>1200013</td>\n",
       "      <td>Acrelandia</td>\n",
       "      <td>Acre</td>\n",
       "      <td>AC</td>\n",
       "      <td>False</td>\n",
       "      <td>Norte</td>\n",
       "      <td>-9.82581</td>\n",
       "      <td>-66.8972</td>\n",
       "      <td>14087.6</td>\n",
       "      <td>3473</td>\n",
       "      <td>...</td>\n",
       "      <td>0.483444</td>\n",
       "      <td>0.516556</td>\n",
       "      <td>0.019993</td>\n",
       "      <td>0.086073</td>\n",
       "      <td>0.120298</td>\n",
       "      <td>0.590308</td>\n",
       "      <td>0.113690</td>\n",
       "      <td>0.069637</td>\n",
       "      <td>NaN</td>\n",
       "      <td>7.563814</td>\n",
       "    </tr>\n",
       "    <tr>\n",
       "      <th>1</th>\n",
       "      <td>1200054</td>\n",
       "      <td>Assis Brasil</td>\n",
       "      <td>Acre</td>\n",
       "      <td>AC</td>\n",
       "      <td>False</td>\n",
       "      <td>Norte</td>\n",
       "      <td>-10.92980</td>\n",
       "      <td>-69.5738</td>\n",
       "      <td>6842.8</td>\n",
       "      <td>1458</td>\n",
       "      <td>...</td>\n",
       "      <td>0.683128</td>\n",
       "      <td>0.316872</td>\n",
       "      <td>0.018899</td>\n",
       "      <td>0.095590</td>\n",
       "      <td>0.109285</td>\n",
       "      <td>0.602849</td>\n",
       "      <td>0.109011</td>\n",
       "      <td>0.064366</td>\n",
       "      <td>NaN</td>\n",
       "      <td>1.325973</td>\n",
       "    </tr>\n",
       "    <tr>\n",
       "      <th>2</th>\n",
       "      <td>1200104</td>\n",
       "      <td>Brasileia</td>\n",
       "      <td>Acre</td>\n",
       "      <td>AC</td>\n",
       "      <td>False</td>\n",
       "      <td>Norte</td>\n",
       "      <td>-10.99500</td>\n",
       "      <td>-68.7497</td>\n",
       "      <td>24212.8</td>\n",
       "      <td>5973</td>\n",
       "      <td>...</td>\n",
       "      <td>0.700151</td>\n",
       "      <td>0.299849</td>\n",
       "      <td>0.018121</td>\n",
       "      <td>0.074230</td>\n",
       "      <td>0.110327</td>\n",
       "      <td>0.618223</td>\n",
       "      <td>0.101812</td>\n",
       "      <td>0.077287</td>\n",
       "      <td>0.000041</td>\n",
       "      <td>5.968476</td>\n",
       "    </tr>\n",
       "    <tr>\n",
       "      <th>3</th>\n",
       "      <td>1200138</td>\n",
       "      <td>Bujari</td>\n",
       "      <td>Acre</td>\n",
       "      <td>AC</td>\n",
       "      <td>False</td>\n",
       "      <td>Norte</td>\n",
       "      <td>-9.81528</td>\n",
       "      <td>-67.9550</td>\n",
       "      <td>9489.0</td>\n",
       "      <td>2332</td>\n",
       "      <td>...</td>\n",
       "      <td>0.442967</td>\n",
       "      <td>0.557033</td>\n",
       "      <td>0.020619</td>\n",
       "      <td>0.078405</td>\n",
       "      <td>0.120727</td>\n",
       "      <td>0.591427</td>\n",
       "      <td>0.114759</td>\n",
       "      <td>0.074064</td>\n",
       "      <td>0.000105</td>\n",
       "      <td>3.039589</td>\n",
       "    </tr>\n",
       "    <tr>\n",
       "      <th>5</th>\n",
       "      <td>1200203</td>\n",
       "      <td>Cruzeiro Do Sul</td>\n",
       "      <td>Acre</td>\n",
       "      <td>AC</td>\n",
       "      <td>False</td>\n",
       "      <td>Norte</td>\n",
       "      <td>-7.62762</td>\n",
       "      <td>-72.6756</td>\n",
       "      <td>83165.9</td>\n",
       "      <td>18439</td>\n",
       "      <td>...</td>\n",
       "      <td>0.734422</td>\n",
       "      <td>0.265578</td>\n",
       "      <td>0.018977</td>\n",
       "      <td>0.081194</td>\n",
       "      <td>0.121907</td>\n",
       "      <td>0.601898</td>\n",
       "      <td>0.108561</td>\n",
       "      <td>0.067463</td>\n",
       "      <td>0.000529</td>\n",
       "      <td>9.281476</td>\n",
       "    </tr>\n",
       "  </tbody>\n",
       "</table>\n",
       "<p>5 rows × 105 columns</p>\n",
       "</div>"
      ],
      "text/plain": [
       "   CODMUN_IBGE     NM_MUNICIPIO ESTADO  UF  CAPITAL MACRO_REGIAO  \\\n",
       "0      1200013       Acrelandia   Acre  AC    False        Norte   \n",
       "1      1200054     Assis Brasil   Acre  AC    False        Norte   \n",
       "2      1200104        Brasileia   Acre  AC    False        Norte   \n",
       "3      1200138           Bujari   Acre  AC    False        Norte   \n",
       "5      1200203  Cruzeiro Do Sul   Acre  AC    False        Norte   \n",
       "\n",
       "   LAT_MUNICIPIO  LONG_MUNICIPIO  POPULACAO_AVG_DECADA  IBGE_DU  ...  \\\n",
       "0       -9.82581        -66.8972               14087.6     3473  ...   \n",
       "1      -10.92980        -69.5738                6842.8     1458  ...   \n",
       "2      -10.99500        -68.7497               24212.8     5973  ...   \n",
       "3       -9.81528        -67.9550                9489.0     2332  ...   \n",
       "5       -7.62762        -72.6756               83165.9    18439  ...   \n",
       "\n",
       "   IBGE_DU_URBAN_DIV_TOTAL  IBGE_DU_RURAL_DIV_TOTAL  IBGE_1_DIV_POP  \\\n",
       "0                 0.483444                 0.516556        0.019993   \n",
       "1                 0.683128                 0.316872        0.018899   \n",
       "2                 0.700151                 0.299849        0.018121   \n",
       "3                 0.442967                 0.557033        0.020619   \n",
       "5                 0.734422                 0.265578        0.018977   \n",
       "\n",
       "   IBGE_1-4_DIV_POP  IBGE_10-14_DIV_POP  IBGE_15-59_DIV_POP  IBGE_5-9_DIV_POP  \\\n",
       "0          0.086073            0.120298            0.590308          0.113690   \n",
       "1          0.095590            0.109285            0.602849          0.109011   \n",
       "2          0.074230            0.110327            0.618223          0.101812   \n",
       "3          0.078405            0.120727            0.591427          0.114759   \n",
       "5          0.081194            0.121907            0.601898          0.108561   \n",
       "\n",
       "   IBGE_60+_DIV_POP  IFOOD_COUNT_DIV_POP  DENSIDADE_POP  \n",
       "0          0.069637                  NaN       7.563814  \n",
       "1          0.064366                  NaN       1.325973  \n",
       "2          0.077287             0.000041       5.968476  \n",
       "3          0.074064             0.000105       3.039589  \n",
       "5          0.067463             0.000529       9.281476  \n",
       "\n",
       "[5 rows x 105 columns]"
      ]
     },
     "execution_count": 51,
     "metadata": {},
     "output_type": "execute_result"
    }
   ],
   "source": [
    "df.head()"
   ]
  },
  {
   "cell_type": "code",
   "execution_count": 52,
   "metadata": {
    "ExecuteTime": {
     "end_time": "2022-05-14T13:23:36.707396Z",
     "start_time": "2022-05-14T13:23:36.699794Z"
    }
   },
   "outputs": [],
   "source": [
    "drop_vars_ = [\n",
    "    'CODMUN_IBGE', 'NM_MUNICIPIO', 'ESTADO', 'UF',\n",
    "    #     'CAPITAL',\n",
    "    'MACRO_REGIAO',\n",
    "    #     'LAT_MUNICIPIO', 'LONG_MUNICIPIO',\n",
    "    \"AG_2015\",\n",
    "    \"AG_2016\",\n",
    "    \"AG_2017\",\n",
    "    \"AG_2018\",\n",
    "    \"AG_2019\",\n",
    "    \"AG_2020\",\n",
    "    \"AG_2021\",\n",
    "    \"AG_OP_2015\",\n",
    "    \"AG_OP_2016\",\n",
    "    \"AG_OP_2017\",\n",
    "    \"AG_OP_2018\",\n",
    "    \"AG_OP_2019\",\n",
    "    \"AG_OP_2020\",\n",
    "    \"AG_OP_2021\",\n",
    "    \"AG_CL_2015\",\n",
    "    \"AG_CL_2016\",\n",
    "    \"AG_CL_2017\",\n",
    "    \"AG_CL_2018\",\n",
    "    \"AG_CL_2019\",\n",
    "    \"AG_CL_2020\",\n",
    "    \"AG_CL_2021\",\n",
    "    \"TARGET_8_2015\",\n",
    "    \"TARGET_8_2016\",\n",
    "    \"TARGET_8_2017\",\n",
    "    \"TARGET_8_2018\",\n",
    "    \"TARGET_8_2019\",\n",
    "    \"TARGET_8_2020\",\n",
    "    \"TARGET_8_2021\",\n",
    "    #     'POPULACAO_AVG_DECADA',\n",
    "    'IDHM RANKING 2010',\n",
    "    \"APROX_AREA_KM2\",\n",
    "\n",
    "    \"IBGE_1_DIV_POP\",\n",
    "    \"IBGE_1-4_DIV_POP\",\n",
    "    \"IBGE_5-9_DIV_POP\",\n",
    "    \"IBGE_15-59_DIV_POP\",\n",
    "\n",
    "    # \"FX_VEL_0KBPS A 512KBPS\",\n",
    "    \"FX_VEL_12MBPS A 34MBPS\",\n",
    "    \"FX_VEL_2MBPS A 12MBPS\",\n",
    "    \"FX_VEL_512KBPS A 2MBPS\",\n",
    "    # \"FX_VEL_> 34MBPS\",\n",
    "    \"TEC_ATM\",\n",
    "    \"TEC_CABLE MODEM\",\n",
    "    \"TEC_DTH\",\n",
    "    \"TEC_ETHERNET\",\n",
    "    \"TEC_FR\",\n",
    "    \"TEC_FWA\",\n",
    "    # \"TEC_FIBRA\",\n",
    "    \"TEC_HFC\",\n",
    "    \"TEC_LTE\",\n",
    "    \"TEC_MMDS\",\n",
    "    \"TEC_PLC\",\n",
    "    # \"TEC_VSAT\",\n",
    "    \"TEC_WIMAX\",\n",
    "    \"TEC_WI-FI\",\n",
    "    \"TEC_XDSL\",\n",
    "    \"IBGE_DU_RURAL_DIV_TOTAL\",\n",
    "\n",
    "    \"IBGE_CROP_PRODUCTION_$\",\n",
    "    \"IBGE_PLANTED_AREA\",\n",
    "    'IBGE_DU_URBAN', 'IBGE_DU_RURAL', 'IBGE_DU',\n",
    "    'IBGE_1', 'IBGE_1-4', 'IBGE_10-14', 'IBGE_15-59', 'IBGE_5-9', 'IBGE_60+',\n",
    "    'IBGE_DU_URBAN', 'IBGE_DU_RURAL', 'IBGE_DU',\n",
    "    \"IFOOD_COUNT\",\n",
    "    \"GVA_TOTAL\",\n",
    "    'PR_AGENCIES', 'PU_AGENCIES',  'PR_ASSETS', 'PU_ASSETS',\n",
    "    'CARS', 'MOTORCYCLES', 'WHEELED_TRACTOR',\n",
    "    'PRIV_BANK_ASSETS_DIV_AGENCIES',\n",
    "    'PUBL_BANK_ASSETS_DIV_AGENCIES' \n",
    "\n",
    "]\n",
    "\n",
    "df = df.drop(columns=drop_vars_, errors=\"ignore\")"
   ]
  },
  {
   "cell_type": "code",
   "execution_count": 53,
   "metadata": {
    "ExecuteTime": {
     "end_time": "2022-05-14T13:23:37.291941Z",
     "start_time": "2022-05-14T13:23:37.284338Z"
    },
    "scrolled": false
   },
   "outputs": [
    {
     "name": "stdout",
     "output_type": "stream",
     "text": [
      "<class 'pandas.core.frame.DataFrame'>\n",
      "Int64Index: 3685 entries, 0 to 5571\n",
      "Data columns (total 28 columns):\n",
      " #   Column                     Non-Null Count  Dtype  \n",
      "---  ------                     --------------  -----  \n",
      " 0   CAPITAL                    3685 non-null   bool   \n",
      " 1   LAT_MUNICIPIO              3685 non-null   float64\n",
      " 2   LONG_MUNICIPIO             3685 non-null   float64\n",
      " 3   POPULACAO_AVG_DECADA       3685 non-null   float64\n",
      " 4   IDHM                       3685 non-null   float64\n",
      " 5   IDHM_RENDA                 3685 non-null   float64\n",
      " 6   IDHM_LONGEVIDADE           3685 non-null   float64\n",
      " 7   IDHM_EDUCACAO              3685 non-null   float64\n",
      " 8   GVA_AGROPEC                3684 non-null   float64\n",
      " 9   GVA_INDUSTRY               3684 non-null   float64\n",
      " 10  GVA_SERVICES               3684 non-null   float64\n",
      " 11  GVA_PUBLIC                 3684 non-null   float64\n",
      " 12  GDP_CAPITA                 3685 non-null   float64\n",
      " 13  UBER                       3685 non-null   int64  \n",
      " 14  TARGET_7                   3685 non-null   float64\n",
      " 15  FX_VEL_0KBPS A 512KBPS     3685 non-null   float64\n",
      " 16  FX_VEL_> 34MBPS            3531 non-null   float64\n",
      " 17  TEC_FIBRA                  3685 non-null   float64\n",
      " 18  TEC_VSAT                   3685 non-null   float64\n",
      " 19  PERC_VEIC_CARS             3681 non-null   float64\n",
      " 20  PERC_VEIC_MOTORCYCLES      3681 non-null   float64\n",
      " 21  PERC_VEIC_WHEELED_TRACTOR  3681 non-null   float64\n",
      " 22  CROP_PRODUCTION_DIV_AREA   3622 non-null   float64\n",
      " 23  IBGE_DU_URBAN_DIV_TOTAL    3683 non-null   float64\n",
      " 24  IBGE_10-14_DIV_POP         3683 non-null   float64\n",
      " 25  IBGE_60+_DIV_POP           3683 non-null   float64\n",
      " 26  IFOOD_COUNT_DIV_POP        1465 non-null   float64\n",
      " 27  DENSIDADE_POP              3685 non-null   float64\n",
      "dtypes: bool(1), float64(26), int64(1)\n",
      "memory usage: 809.7 KB\n"
     ]
    }
   ],
   "source": [
    "df.info()"
   ]
  },
  {
   "cell_type": "markdown",
   "metadata": {},
   "source": [
    "## mutual information & entropia"
   ]
  },
  {
   "cell_type": "code",
   "execution_count": 54,
   "metadata": {
    "ExecuteTime": {
     "end_time": "2022-05-14T13:23:38.037434Z",
     "start_time": "2022-05-14T13:23:38.032798Z"
    }
   },
   "outputs": [
    {
     "data": {
      "text/plain": [
       "0.8150612653924044"
      ]
     },
     "execution_count": 54,
     "metadata": {},
     "output_type": "execute_result"
    }
   ],
   "source": [
    "scipy.stats.entropy(df[\"TARGET_7\"].value_counts(normalize=True).values)"
   ]
  },
  {
   "cell_type": "code",
   "execution_count": 55,
   "metadata": {
    "ExecuteTime": {
     "end_time": "2022-05-14T13:23:38.943399Z",
     "start_time": "2022-05-14T13:23:38.576593Z"
    }
   },
   "outputs": [
    {
     "data": {
      "image/png": "[encoded data removed]",
      "text/plain": [
       "<Figure size 1080x504 with 1 Axes>"
      ]
     },
     "metadata": {
      "needs_background": "light"
     },
     "output_type": "display_data"
    }
   ],
   "source": [
    "X = df.drop(columns=set(drop_vars_+[\"TARGET_7\"]), errors=\"ignore\").select_dtypes(\"number\")\n",
    "X_cols = X.columns\n",
    "\n",
    "mut = mutual_info_classif(\n",
    "    X.fillna(-1),\n",
    "    np.where(df[\"TARGET_7\"].values==-1, 1, 0)\n",
    ")\n",
    "mut = pd.DataFrame([X_cols, mut]).T.sort_values(by=[1], ascending=[False])\n",
    "\n",
    "f, ax1 = plt.subplots(figsize=(15, 7))\n",
    "\n",
    "g = sns.barplot(\n",
    "    data=mut.loc[mut[1]>0],\n",
    "    x=1, \n",
    "    y=0,\n",
    "    ax=ax1, \n",
    "    palette=\"cool\",\n",
    "    orient=\"h\"\n",
    ")"
   ]
  },
  {
   "cell_type": "markdown",
   "metadata": {},
   "source": [
    "# Modelagem\n",
    "---"
   ]
  },
  {
   "cell_type": "code",
   "execution_count": 56,
   "metadata": {
    "ExecuteTime": {
     "end_time": "2022-05-14T13:23:46.968059Z",
     "start_time": "2022-05-14T13:23:46.965681Z"
    }
   },
   "outputs": [],
   "source": [
    "tag = \"logreg\""
   ]
  },
  {
   "cell_type": "code",
   "execution_count": 57,
   "metadata": {
    "ExecuteTime": {
     "end_time": "2022-05-14T13:23:47.227749Z",
     "start_time": "2022-05-14T13:23:47.209678Z"
    }
   },
   "outputs": [],
   "source": [
    "df = pd.read_parquet(\"data/04_model_input/vars_finais.pq\")\n",
    "\n",
    "df = df.dropna(subset=[\"TARGET_7\"])"
   ]
  },
  {
   "cell_type": "code",
   "execution_count": 58,
   "metadata": {
    "ExecuteTime": {
     "end_time": "2022-05-14T13:23:47.975612Z",
     "start_time": "2022-05-14T13:23:47.971177Z"
    }
   },
   "outputs": [],
   "source": [
    "X_keys = df[['UF', \"CODMUN_IBGE\"]].copy()"
   ]
  },
  {
   "cell_type": "code",
   "execution_count": 59,
   "metadata": {
    "ExecuteTime": {
     "end_time": "2022-05-14T13:23:48.456153Z",
     "start_time": "2022-05-14T13:23:48.452259Z"
    }
   },
   "outputs": [],
   "source": [
    "X = df.drop(columns=set(drop_vars_+[\"TARGET_7\"]), errors=\"ignore\").copy()\n",
    "\n",
    "y = df[[\"TARGET_7\"]].copy()\n",
    "y[\"TARGET_7\"] = np.where(y[\"TARGET_7\"]==-1, 1, 0)"
   ]
  },
  {
   "cell_type": "code",
   "execution_count": 60,
   "metadata": {
    "ExecuteTime": {
     "end_time": "2022-05-14T13:23:48.720315Z",
     "start_time": "2022-05-14T13:23:48.715433Z"
    }
   },
   "outputs": [
    {
     "data": {
      "text/plain": [
       "1    1929\n",
       "0    1757\n",
       "Name: TARGET_7, dtype: int64"
      ]
     },
     "execution_count": 60,
     "metadata": {},
     "output_type": "execute_result"
    }
   ],
   "source": [
    "y[\"TARGET_7\"].value_counts()"
   ]
  },
  {
   "cell_type": "code",
   "execution_count": 61,
   "metadata": {
    "ExecuteTime": {
     "end_time": "2022-05-14T13:23:49.166116Z",
     "start_time": "2022-05-14T13:23:49.163191Z"
    }
   },
   "outputs": [],
   "source": [
    "obj_cols = X.select_dtypes(\"object\").columns\n",
    "X[obj_cols] = X[obj_cols].astype(\"category\")"
   ]
  },
  {
   "cell_type": "code",
   "execution_count": 62,
   "metadata": {
    "ExecuteTime": {
     "end_time": "2022-05-14T13:23:49.779086Z",
     "start_time": "2022-05-14T13:23:49.762970Z"
    }
   },
   "outputs": [],
   "source": [
    "scaler = StandardScaler()\n",
    "# scaler = MinMaxScaler()\n",
    "\n",
    "yy = pd.Categorical(y[\"TARGET_7\"]).codes\n",
    "xx = pd.DataFrame(scaler.fit_transform( X.fillna(-1) ), columns=X.columns)"
   ]
  },
  {
   "cell_type": "code",
   "execution_count": 63,
   "metadata": {
    "ExecuteTime": {
     "end_time": "2022-05-14T13:23:56.156054Z",
     "start_time": "2022-05-14T13:23:56.154007Z"
    }
   },
   "outputs": [],
   "source": [
    "# skf = StratifiedKFold(n_splits=3, shuffle=True)\n",
    "\n",
    "# for train_index, test_index in skf.split(xx, yy):\n",
    "#     Xt, Xh = xx.iloc[train_index,:], xx.iloc[test_index,:]\n",
    "#     yt, yh = yy[train_index], yy[test_index]\n",
    "    \n",
    "#     print(Xt.shape, Xh.shape, yt.shape, yh.shape)"
   ]
  },
  {
   "cell_type": "code",
   "execution_count": 64,
   "metadata": {
    "ExecuteTime": {
     "end_time": "2022-05-14T13:24:50.912912Z",
     "start_time": "2022-05-14T13:23:58.233090Z"
    }
   },
   "outputs": [
    {
     "name": "stderr",
     "output_type": "stream",
     "text": [
      "Only 100 samples in chain.\n",
      "Auto-assigning NUTS sampler...\n",
      "Initializing NUTS using jitter+adapt_diag...\n",
      "Multiprocess sampling (4 chains in 4 jobs)\n",
      "NUTS: [beta, alfa]\n"
     ]
    },
    {
     "data": {
      "text/html": [
       "\n",
       "    <div>\n",
       "        <style>\n",
       "            /* Turns off some styling */\n",
       "            progress {\n",
       "                /* gets rid of default border in Firefox and Opera. */\n",
       "                border: none;\n",
       "                /* Needs to be in here for Safari polyfill so background images work as expected. */\n",
       "                background-size: auto;\n",
       "            }\n",
       "            .progress-bar-interrupted, .progress-bar-interrupted::-webkit-progress-bar {\n",
       "                background: #F44336;\n",
       "            }\n",
       "        </style>\n",
       "      <progress value='4400' class='' max='4400' style='width:300px; height:20px; vertical-align: middle;'></progress>\n",
       "      100.00% [4400/4400 00:51<00:00 Sampling 4 chains, 0 divergences]\n",
       "    </div>\n",
       "    "
      ],
      "text/plain": [
       "<IPython.core.display.HTML object>"
      ]
     },
     "metadata": {},
     "output_type": "display_data"
    },
    {
     "name": "stderr",
     "output_type": "stream",
     "text": [
      "Sampling 4 chains for 1_000 tune and 100 draw iterations (4_000 + 400 draws total) took 51 seconds.\n",
      "The number of effective samples is smaller than 25% for some parameters.\n"
     ]
    }
   ],
   "source": [
    "with pm.Model() as model_reglog:\n",
    "    data = pm.Data(\"data\", xx.values)\n",
    "    \n",
    "    alfa = pm.Normal(\"alfa\", mu=0, sd=10)\n",
    "    beta = pm.Normal(\"beta\", mu=0, sd=2, shape=xx.shape[1] )\n",
    "\n",
    "    mu = alfa + pm.math.dot(data, beta)\n",
    "    teta = pm.Deterministic(\"teta\", pm.math.sigmoid(mu))\n",
    "\n",
    "    yl = pm.Bernoulli(\"yl\", p=teta, observed=yy)\n",
    "\n",
    "    trace = pm.sample(100)"
   ]
  },
  {
   "cell_type": "code",
   "execution_count": 65,
   "metadata": {
    "ExecuteTime": {
     "end_time": "2022-05-14T13:24:51.359142Z",
     "start_time": "2022-05-14T13:24:51.118436Z"
    }
   },
   "outputs": [
    {
     "data": {
      "text/plain": [
       "84661"
      ]
     },
     "execution_count": 65,
     "metadata": {},
     "output_type": "execute_result"
    }
   ],
   "source": [
    "gc.collect()"
   ]
  },
  {
   "cell_type": "code",
   "execution_count": 66,
   "metadata": {
    "ExecuteTime": {
     "end_time": "2022-05-14T13:24:51.565578Z",
     "start_time": "2022-05-14T13:24:51.563960Z"
    }
   },
   "outputs": [],
   "source": [
    "# az.plot_trace(data=trace);"
   ]
  },
  {
   "cell_type": "code",
   "execution_count": 67,
   "metadata": {
    "ExecuteTime": {
     "end_time": "2022-05-14T13:24:58.253384Z",
     "start_time": "2022-05-14T13:24:51.768049Z"
    }
   },
   "outputs": [
    {
     "data": {
      "text/html": [
       "<div>\n",
       "<style scoped>\n",
       "    .dataframe tbody tr th:only-of-type {\n",
       "        vertical-align: middle;\n",
       "    }\n",
       "\n",
       "    .dataframe tbody tr th {\n",
       "        vertical-align: top;\n",
       "    }\n",
       "\n",
       "    .dataframe thead th {\n",
       "        text-align: right;\n",
       "    }\n",
       "</style>\n",
       "<table border=\"1\" class=\"dataframe\">\n",
       "  <thead>\n",
       "    <tr style=\"text-align: right;\">\n",
       "      <th></th>\n",
       "      <th>mean</th>\n",
       "      <th>sd</th>\n",
       "      <th>hdi_3%</th>\n",
       "      <th>hdi_97%</th>\n",
       "      <th>mcse_mean</th>\n",
       "      <th>mcse_sd</th>\n",
       "      <th>ess_bulk</th>\n",
       "      <th>ess_tail</th>\n",
       "      <th>r_hat</th>\n",
       "    </tr>\n",
       "  </thead>\n",
       "  <tbody>\n",
       "    <tr>\n",
       "      <th>beta[0]</th>\n",
       "      <td>1.477</td>\n",
       "      <td>1.189</td>\n",
       "      <td>-0.064</td>\n",
       "      <td>3.598</td>\n",
       "      <td>0.093</td>\n",
       "      <td>0.067</td>\n",
       "      <td>195.0</td>\n",
       "      <td>281.0</td>\n",
       "      <td>1.02</td>\n",
       "    </tr>\n",
       "    <tr>\n",
       "      <th>beta[1]</th>\n",
       "      <td>-0.377</td>\n",
       "      <td>0.086</td>\n",
       "      <td>-0.539</td>\n",
       "      <td>-0.212</td>\n",
       "      <td>0.005</td>\n",
       "      <td>0.003</td>\n",
       "      <td>359.0</td>\n",
       "      <td>313.0</td>\n",
       "      <td>1.01</td>\n",
       "    </tr>\n",
       "    <tr>\n",
       "      <th>beta[2]</th>\n",
       "      <td>0.017</td>\n",
       "      <td>0.051</td>\n",
       "      <td>-0.071</td>\n",
       "      <td>0.122</td>\n",
       "      <td>0.003</td>\n",
       "      <td>0.003</td>\n",
       "      <td>323.0</td>\n",
       "      <td>180.0</td>\n",
       "      <td>1.00</td>\n",
       "    </tr>\n",
       "    <tr>\n",
       "      <th>beta[3]</th>\n",
       "      <td>1.583</td>\n",
       "      <td>0.350</td>\n",
       "      <td>0.839</td>\n",
       "      <td>2.209</td>\n",
       "      <td>0.020</td>\n",
       "      <td>0.014</td>\n",
       "      <td>302.0</td>\n",
       "      <td>310.0</td>\n",
       "      <td>1.00</td>\n",
       "    </tr>\n",
       "    <tr>\n",
       "      <th>beta[4]</th>\n",
       "      <td>-2.097</td>\n",
       "      <td>1.314</td>\n",
       "      <td>-4.371</td>\n",
       "      <td>0.592</td>\n",
       "      <td>0.112</td>\n",
       "      <td>0.081</td>\n",
       "      <td>139.0</td>\n",
       "      <td>206.0</td>\n",
       "      <td>1.02</td>\n",
       "    </tr>\n",
       "    <tr>\n",
       "      <th>beta[5]</th>\n",
       "      <td>0.821</td>\n",
       "      <td>0.500</td>\n",
       "      <td>-0.119</td>\n",
       "      <td>1.749</td>\n",
       "      <td>0.042</td>\n",
       "      <td>0.030</td>\n",
       "      <td>141.0</td>\n",
       "      <td>182.0</td>\n",
       "      <td>1.01</td>\n",
       "    </tr>\n",
       "    <tr>\n",
       "      <th>beta[6]</th>\n",
       "      <td>0.346</td>\n",
       "      <td>0.245</td>\n",
       "      <td>-0.133</td>\n",
       "      <td>0.814</td>\n",
       "      <td>0.020</td>\n",
       "      <td>0.014</td>\n",
       "      <td>152.0</td>\n",
       "      <td>202.0</td>\n",
       "      <td>1.01</td>\n",
       "    </tr>\n",
       "    <tr>\n",
       "      <th>beta[7]</th>\n",
       "      <td>1.158</td>\n",
       "      <td>0.688</td>\n",
       "      <td>-0.192</td>\n",
       "      <td>2.399</td>\n",
       "      <td>0.059</td>\n",
       "      <td>0.042</td>\n",
       "      <td>139.0</td>\n",
       "      <td>214.0</td>\n",
       "      <td>1.02</td>\n",
       "    </tr>\n",
       "    <tr>\n",
       "      <th>beta[8]</th>\n",
       "      <td>0.300</td>\n",
       "      <td>0.958</td>\n",
       "      <td>-1.106</td>\n",
       "      <td>2.368</td>\n",
       "      <td>0.105</td>\n",
       "      <td>0.077</td>\n",
       "      <td>95.0</td>\n",
       "      <td>156.0</td>\n",
       "      <td>1.04</td>\n",
       "    </tr>\n",
       "    <tr>\n",
       "      <th>beta[9]</th>\n",
       "      <td>0.474</td>\n",
       "      <td>0.879</td>\n",
       "      <td>-0.846</td>\n",
       "      <td>2.368</td>\n",
       "      <td>0.096</td>\n",
       "      <td>0.070</td>\n",
       "      <td>96.0</td>\n",
       "      <td>162.0</td>\n",
       "      <td>1.04</td>\n",
       "    </tr>\n",
       "    <tr>\n",
       "      <th>beta[10]</th>\n",
       "      <td>0.277</td>\n",
       "      <td>0.812</td>\n",
       "      <td>-0.972</td>\n",
       "      <td>1.966</td>\n",
       "      <td>0.090</td>\n",
       "      <td>0.064</td>\n",
       "      <td>95.0</td>\n",
       "      <td>162.0</td>\n",
       "      <td>1.04</td>\n",
       "    </tr>\n",
       "    <tr>\n",
       "      <th>beta[11]</th>\n",
       "      <td>0.716</td>\n",
       "      <td>0.875</td>\n",
       "      <td>-0.587</td>\n",
       "      <td>2.567</td>\n",
       "      <td>0.097</td>\n",
       "      <td>0.071</td>\n",
       "      <td>95.0</td>\n",
       "      <td>155.0</td>\n",
       "      <td>1.04</td>\n",
       "    </tr>\n",
       "    <tr>\n",
       "      <th>beta[12]</th>\n",
       "      <td>0.130</td>\n",
       "      <td>0.059</td>\n",
       "      <td>0.023</td>\n",
       "      <td>0.233</td>\n",
       "      <td>0.002</td>\n",
       "      <td>0.002</td>\n",
       "      <td>542.0</td>\n",
       "      <td>285.0</td>\n",
       "      <td>1.02</td>\n",
       "    </tr>\n",
       "    <tr>\n",
       "      <th>beta[13]</th>\n",
       "      <td>0.175</td>\n",
       "      <td>0.071</td>\n",
       "      <td>0.033</td>\n",
       "      <td>0.310</td>\n",
       "      <td>0.004</td>\n",
       "      <td>0.003</td>\n",
       "      <td>383.0</td>\n",
       "      <td>238.0</td>\n",
       "      <td>1.03</td>\n",
       "    </tr>\n",
       "    <tr>\n",
       "      <th>beta[14]</th>\n",
       "      <td>-0.093</td>\n",
       "      <td>0.040</td>\n",
       "      <td>-0.167</td>\n",
       "      <td>-0.023</td>\n",
       "      <td>0.002</td>\n",
       "      <td>0.001</td>\n",
       "      <td>498.0</td>\n",
       "      <td>309.0</td>\n",
       "      <td>1.01</td>\n",
       "    </tr>\n",
       "    <tr>\n",
       "      <th>beta[15]</th>\n",
       "      <td>-0.029</td>\n",
       "      <td>0.042</td>\n",
       "      <td>-0.106</td>\n",
       "      <td>0.049</td>\n",
       "      <td>0.002</td>\n",
       "      <td>0.002</td>\n",
       "      <td>374.0</td>\n",
       "      <td>282.0</td>\n",
       "      <td>1.01</td>\n",
       "    </tr>\n",
       "    <tr>\n",
       "      <th>beta[16]</th>\n",
       "      <td>-0.043</td>\n",
       "      <td>0.038</td>\n",
       "      <td>-0.106</td>\n",
       "      <td>0.033</td>\n",
       "      <td>0.002</td>\n",
       "      <td>0.002</td>\n",
       "      <td>372.0</td>\n",
       "      <td>203.0</td>\n",
       "      <td>1.00</td>\n",
       "    </tr>\n",
       "    <tr>\n",
       "      <th>beta[17]</th>\n",
       "      <td>-0.197</td>\n",
       "      <td>0.054</td>\n",
       "      <td>-0.289</td>\n",
       "      <td>-0.089</td>\n",
       "      <td>0.003</td>\n",
       "      <td>0.002</td>\n",
       "      <td>408.0</td>\n",
       "      <td>341.0</td>\n",
       "      <td>1.00</td>\n",
       "    </tr>\n",
       "    <tr>\n",
       "      <th>beta[18]</th>\n",
       "      <td>2.130</td>\n",
       "      <td>1.214</td>\n",
       "      <td>-0.197</td>\n",
       "      <td>4.438</td>\n",
       "      <td>0.108</td>\n",
       "      <td>0.076</td>\n",
       "      <td>124.0</td>\n",
       "      <td>145.0</td>\n",
       "      <td>1.01</td>\n",
       "    </tr>\n",
       "    <tr>\n",
       "      <th>beta[19]</th>\n",
       "      <td>1.924</td>\n",
       "      <td>1.212</td>\n",
       "      <td>-0.212</td>\n",
       "      <td>4.393</td>\n",
       "      <td>0.107</td>\n",
       "      <td>0.076</td>\n",
       "      <td>125.0</td>\n",
       "      <td>154.0</td>\n",
       "      <td>1.01</td>\n",
       "    </tr>\n",
       "    <tr>\n",
       "      <th>beta[20]</th>\n",
       "      <td>-0.348</td>\n",
       "      <td>0.657</td>\n",
       "      <td>-1.559</td>\n",
       "      <td>0.917</td>\n",
       "      <td>0.061</td>\n",
       "      <td>0.044</td>\n",
       "      <td>119.0</td>\n",
       "      <td>227.0</td>\n",
       "      <td>1.02</td>\n",
       "    </tr>\n",
       "    <tr>\n",
       "      <th>beta[21]</th>\n",
       "      <td>-0.027</td>\n",
       "      <td>0.036</td>\n",
       "      <td>-0.096</td>\n",
       "      <td>0.036</td>\n",
       "      <td>0.002</td>\n",
       "      <td>0.001</td>\n",
       "      <td>369.0</td>\n",
       "      <td>248.0</td>\n",
       "      <td>1.01</td>\n",
       "    </tr>\n",
       "    <tr>\n",
       "      <th>beta[22]</th>\n",
       "      <td>-0.077</td>\n",
       "      <td>0.059</td>\n",
       "      <td>-0.180</td>\n",
       "      <td>0.030</td>\n",
       "      <td>0.003</td>\n",
       "      <td>0.002</td>\n",
       "      <td>319.0</td>\n",
       "      <td>211.0</td>\n",
       "      <td>1.01</td>\n",
       "    </tr>\n",
       "    <tr>\n",
       "      <th>beta[23]</th>\n",
       "      <td>0.171</td>\n",
       "      <td>0.126</td>\n",
       "      <td>-0.057</td>\n",
       "      <td>0.393</td>\n",
       "      <td>0.008</td>\n",
       "      <td>0.006</td>\n",
       "      <td>289.0</td>\n",
       "      <td>177.0</td>\n",
       "      <td>1.02</td>\n",
       "    </tr>\n",
       "    <tr>\n",
       "      <th>beta[24]</th>\n",
       "      <td>0.070</td>\n",
       "      <td>0.067</td>\n",
       "      <td>-0.073</td>\n",
       "      <td>0.179</td>\n",
       "      <td>0.004</td>\n",
       "      <td>0.003</td>\n",
       "      <td>249.0</td>\n",
       "      <td>194.0</td>\n",
       "      <td>1.00</td>\n",
       "    </tr>\n",
       "    <tr>\n",
       "      <th>beta[25]</th>\n",
       "      <td>0.043</td>\n",
       "      <td>0.051</td>\n",
       "      <td>-0.045</td>\n",
       "      <td>0.148</td>\n",
       "      <td>0.003</td>\n",
       "      <td>0.003</td>\n",
       "      <td>328.0</td>\n",
       "      <td>283.0</td>\n",
       "      <td>1.04</td>\n",
       "    </tr>\n",
       "    <tr>\n",
       "      <th>beta[26]</th>\n",
       "      <td>0.034</td>\n",
       "      <td>0.078</td>\n",
       "      <td>-0.122</td>\n",
       "      <td>0.161</td>\n",
       "      <td>0.005</td>\n",
       "      <td>0.005</td>\n",
       "      <td>303.0</td>\n",
       "      <td>207.0</td>\n",
       "      <td>1.01</td>\n",
       "    </tr>\n",
       "  </tbody>\n",
       "</table>\n",
       "</div>"
      ],
      "text/plain": [
       "           mean     sd  hdi_3%  hdi_97%  mcse_mean  mcse_sd  ess_bulk  \\\n",
       "beta[0]   1.477  1.189  -0.064    3.598      0.093    0.067     195.0   \n",
       "beta[1]  -0.377  0.086  -0.539   -0.212      0.005    0.003     359.0   \n",
       "beta[2]   0.017  0.051  -0.071    0.122      0.003    0.003     323.0   \n",
       "beta[3]   1.583  0.350   0.839    2.209      0.020    0.014     302.0   \n",
       "beta[4]  -2.097  1.314  -4.371    0.592      0.112    0.081     139.0   \n",
       "beta[5]   0.821  0.500  -0.119    1.749      0.042    0.030     141.0   \n",
       "beta[6]   0.346  0.245  -0.133    0.814      0.020    0.014     152.0   \n",
       "beta[7]   1.158  0.688  -0.192    2.399      0.059    0.042     139.0   \n",
       "beta[8]   0.300  0.958  -1.106    2.368      0.105    0.077      95.0   \n",
       "beta[9]   0.474  0.879  -0.846    2.368      0.096    0.070      96.0   \n",
       "beta[10]  0.277  0.812  -0.972    1.966      0.090    0.064      95.0   \n",
       "beta[11]  0.716  0.875  -0.587    2.567      0.097    0.071      95.0   \n",
       "beta[12]  0.130  0.059   0.023    0.233      0.002    0.002     542.0   \n",
       "beta[13]  0.175  0.071   0.033    0.310      0.004    0.003     383.0   \n",
       "beta[14] -0.093  0.040  -0.167   -0.023      0.002    0.001     498.0   \n",
       "beta[15] -0.029  0.042  -0.106    0.049      0.002    0.002     374.0   \n",
       "beta[16] -0.043  0.038  -0.106    0.033      0.002    0.002     372.0   \n",
       "beta[17] -0.197  0.054  -0.289   -0.089      0.003    0.002     408.0   \n",
       "beta[18]  2.130  1.214  -0.197    4.438      0.108    0.076     124.0   \n",
       "beta[19]  1.924  1.212  -0.212    4.393      0.107    0.076     125.0   \n",
       "beta[20] -0.348  0.657  -1.559    0.917      0.061    0.044     119.0   \n",
       "beta[21] -0.027  0.036  -0.096    0.036      0.002    0.001     369.0   \n",
       "beta[22] -0.077  0.059  -0.180    0.030      0.003    0.002     319.0   \n",
       "beta[23]  0.171  0.126  -0.057    0.393      0.008    0.006     289.0   \n",
       "beta[24]  0.070  0.067  -0.073    0.179      0.004    0.003     249.0   \n",
       "beta[25]  0.043  0.051  -0.045    0.148      0.003    0.003     328.0   \n",
       "beta[26]  0.034  0.078  -0.122    0.161      0.005    0.005     303.0   \n",
       "\n",
       "          ess_tail  r_hat  \n",
       "beta[0]      281.0   1.02  \n",
       "beta[1]      313.0   1.01  \n",
       "beta[2]      180.0   1.00  \n",
       "beta[3]      310.0   1.00  \n",
       "beta[4]      206.0   1.02  \n",
       "beta[5]      182.0   1.01  \n",
       "beta[6]      202.0   1.01  \n",
       "beta[7]      214.0   1.02  \n",
       "beta[8]      156.0   1.04  \n",
       "beta[9]      162.0   1.04  \n",
       "beta[10]     162.0   1.04  \n",
       "beta[11]     155.0   1.04  \n",
       "beta[12]     285.0   1.02  \n",
       "beta[13]     238.0   1.03  \n",
       "beta[14]     309.0   1.01  \n",
       "beta[15]     282.0   1.01  \n",
       "beta[16]     203.0   1.00  \n",
       "beta[17]     341.0   1.00  \n",
       "beta[18]     145.0   1.01  \n",
       "beta[19]     154.0   1.01  \n",
       "beta[20]     227.0   1.02  \n",
       "beta[21]     248.0   1.01  \n",
       "beta[22]     211.0   1.01  \n",
       "beta[23]     177.0   1.02  \n",
       "beta[24]     194.0   1.00  \n",
       "beta[25]     283.0   1.04  \n",
       "beta[26]     207.0   1.01  "
      ]
     },
     "execution_count": 67,
     "metadata": {},
     "output_type": "execute_result"
    }
   ],
   "source": [
    "az.summary(trace).T.filter(like=\"beta\").T"
   ]
  },
  {
   "cell_type": "code",
   "execution_count": 68,
   "metadata": {
    "ExecuteTime": {
     "end_time": "2022-05-14T13:25:05.084266Z",
     "start_time": "2022-05-14T13:24:58.470862Z"
    }
   },
   "outputs": [
    {
     "data": {
      "text/plain": [
       "alfa        0.304\n",
       "beta[0]     1.477\n",
       "beta[1]    -0.377\n",
       "beta[2]     0.017\n",
       "beta[3]     1.583\n",
       "beta[4]    -2.097\n",
       "beta[5]     0.821\n",
       "beta[6]     0.346\n",
       "beta[7]     1.158\n",
       "beta[8]     0.300\n",
       "beta[9]     0.474\n",
       "beta[10]    0.277\n",
       "beta[11]    0.716\n",
       "beta[12]    0.130\n",
       "beta[13]    0.175\n",
       "beta[14]   -0.093\n",
       "beta[15]   -0.029\n",
       "beta[16]   -0.043\n",
       "beta[17]   -0.197\n",
       "beta[18]    2.130\n",
       "beta[19]    1.924\n",
       "beta[20]   -0.348\n",
       "beta[21]   -0.027\n",
       "beta[22]   -0.077\n",
       "beta[23]    0.171\n",
       "beta[24]    0.070\n",
       "beta[25]    0.043\n",
       "beta[26]    0.034\n",
       "Name: mean, dtype: float64"
      ]
     },
     "execution_count": 68,
     "metadata": {},
     "output_type": "execute_result"
    }
   ],
   "source": [
    "summary_ = az.summary(trace).copy()\n",
    "params_ = summary_[\"mean\"].filter(regex=\"alfa|beta\") \n",
    "params_"
   ]
  },
  {
   "cell_type": "code",
   "execution_count": 120,
   "metadata": {
    "ExecuteTime": {
     "end_time": "2022-05-14T13:41:54.850975Z",
     "start_time": "2022-05-14T13:41:54.680088Z"
    }
   },
   "outputs": [
    {
     "data": {
      "image/png": "[encoded data removed]",
      "text/plain": [
       "<Figure size 1080x504 with 1 Axes>"
      ]
     },
     "metadata": {
      "needs_background": "light"
     },
     "output_type": "display_data"
    }
   ],
   "source": [
    "params_ = summary_[\"mean\"].filter(regex=\"beta\") \n",
    "params_ = pd.DataFrame(params_)\n",
    "params_[\"cols\"] = X.columns.values\n",
    "params_.sort_values(by=[\"mean\"])\n",
    "\n",
    "f, ax1 = plt.subplots(figsize=(15, 7))\n",
    "g = sns.barplot(\n",
    "    data=params_,\n",
    "    x=\"mean\", \n",
    "    y=\"cols\",\n",
    "    ax=ax1, \n",
    "    palette=\"cool\",\n",
    "    order=params_.sort_values(by=[\"mean\"])[\"cols\"],\n",
    "    orient=\"h\"\n",
    ")\n",
    "plt.xticks(rotation=90)\n",
    "plt.tight_layout()"
   ]
  },
  {
   "cell_type": "code",
   "execution_count": 69,
   "metadata": {
    "ExecuteTime": {
     "end_time": "2022-05-14T13:25:05.297580Z",
     "start_time": "2022-05-14T13:25:05.295675Z"
    }
   },
   "outputs": [],
   "source": [
    "def sigmoid(z):\n",
    "    return 1/(1 + np.exp(-z))"
   ]
  },
  {
   "cell_type": "code",
   "execution_count": 72,
   "metadata": {
    "ExecuteTime": {
     "end_time": "2022-05-14T13:26:14.703878Z",
     "start_time": "2022-05-14T13:26:14.689875Z"
    }
   },
   "outputs": [],
   "source": [
    "cols = xx.columns.tolist()\n",
    "t_prob = xx.copy()\n",
    "t_prob[\"1\"] = 1.0\n",
    "t_prob[\"true\"] = yy\n",
    "\n",
    "t_prob[\"dot\"] = (params_.values * t_prob[[\"1\"] + cols]).sum(axis=1)\n",
    "t_prob[\"prob\"] = t_prob[\"dot\"].apply( sigmoid )\n",
    "t_prob[\"pred\"] = (t_prob[\"prob\"] >= 0.5).astype(\"int\")\n"
   ]
  },
  {
   "cell_type": "code",
   "execution_count": 103,
   "metadata": {
    "ExecuteTime": {
     "end_time": "2022-05-14T13:31:30.798777Z",
     "start_time": "2022-05-14T13:31:30.792545Z"
    }
   },
   "outputs": [],
   "source": [
    "T = pd.concat([X_keys.reset_index().drop(columns=[\"index\"]),\n",
    "               X.reset_index().drop(columns=[\"index\"]),\n",
    "               t_prob[[\"true\", \"pred\", \"prob\"]]], axis=1)"
   ]
  },
  {
   "cell_type": "code",
   "execution_count": 105,
   "metadata": {
    "ExecuteTime": {
     "end_time": "2022-05-14T13:31:55.134987Z",
     "start_time": "2022-05-14T13:31:55.020357Z"
    }
   },
   "outputs": [
    {
     "data": {
      "image/png": "[encoded data removed]",
      "text/plain": [
       "<Figure size 432x288 with 1 Axes>"
      ]
     },
     "metadata": {
      "needs_background": "light"
     },
     "output_type": "display_data"
    }
   ],
   "source": [
    "sns.kdeplot(\n",
    "    data=T,\n",
    "    x=\"prob\",\n",
    "    hue=\"true\",\n",
    ")\n",
    "\n",
    "plt.tight_layout()"
   ]
  },
  {
   "cell_type": "code",
   "execution_count": 106,
   "metadata": {
    "ExecuteTime": {
     "end_time": "2022-05-14T13:32:11.404683Z",
     "start_time": "2022-05-14T13:32:11.392337Z"
    }
   },
   "outputs": [
    {
     "name": "stdout",
     "output_type": "stream",
     "text": [
      "              precision    recall  f1-score   support\n",
      "\n",
      "           0       0.59      0.52      0.56      1757\n",
      "           1       0.61      0.67      0.64      1929\n",
      "\n",
      "    accuracy                           0.60      3686\n",
      "   macro avg       0.60      0.60      0.60      3686\n",
      "weighted avg       0.60      0.60      0.60      3686\n",
      "\n",
      "0.599600413424433\n",
      "0.6605641420100536\n"
     ]
    }
   ],
   "source": [
    "print(classification_report(T[\"true\"], T[\"pred\"]))\n",
    "\n",
    "print(balanced_accuracy_score(T[\"true\"], T[\"pred\"]))\n",
    "\n",
    "print(roc_auc_score(T[\"true\"], T[\"prob\"]))"
   ]
  },
  {
   "cell_type": "code",
   "execution_count": 121,
   "metadata": {
    "ExecuteTime": {
     "end_time": "2022-05-14T13:47:25.010216Z",
     "start_time": "2022-05-14T13:47:24.991974Z"
    }
   },
   "outputs": [],
   "source": [
    "T.to_parquet(rf\"data/06_model_output/{tag}.pq\")"
   ]
  },
  {
   "cell_type": "markdown",
   "metadata": {},
   "source": [
    "."
   ]
  }
 ],
 "metadata": {
  "colab": {
   "authorship_tag": "ABX9TyOQV3TFW9kXwOapa1UKLHOS",
   "name": "Untitled"
  },
  "kernelspec": {
   "display_name": "Python 3 (ipykernel)",
   "language": "python",
   "name": "python3"
  },
  "language_info": {
   "codemirror_mode": {
    "name": "ipython",
    "version": 3
   },
   "file_extension": ".py",
   "mimetype": "text/x-python",
   "name": "python",
   "nbconvert_exporter": "python",
   "pygments_lexer": "ipython3",
   "version": "3.10.6"
  },
  "toc": {
   "base_numbering": 1,
   "nav_menu": {},
   "number_sections": true,
   "sideBar": true,
   "skip_h1_title": false,
   "title_cell": "Conteúdo",
   "title_sidebar": "Contents",
   "toc_cell": true,
   "toc_position": {
    "height": "calc(100% - 180px)",
    "left": "10px",
    "top": "150px",
    "width": "353.021px"
   },
   "toc_section_display": true,
   "toc_window_display": false
  },
  "varInspector": {
   "cols": {
    "lenName": 16,
    "lenType": 16,
    "lenVar": 40
   },
   "kernels_config": {
    "python": {
     "delete_cmd_postfix": "",
     "delete_cmd_prefix": "del ",
     "library": "var_list.py",
     "varRefreshCmd": "print(var_dic_list())"
    },
    "r": {
     "delete_cmd_postfix": ") ",
     "delete_cmd_prefix": "rm(",
     "library": "var_list.r",
     "varRefreshCmd": "cat(var_dic_list()) "
    }
   },
   "position": {
    "height": "406.84px",
    "left": "1616.29px",
    "right": "20px",
    "top": "121.927px",
    "width": "407.743px"
   },
   "types_to_exclude": [
    "module",
    "function",
    "builtin_function_or_method",
    "instance",
    "_Feature"
   ],
   "window_display": true
  }
 },
 "nbformat": 4,
 "nbformat_minor": 1
}
