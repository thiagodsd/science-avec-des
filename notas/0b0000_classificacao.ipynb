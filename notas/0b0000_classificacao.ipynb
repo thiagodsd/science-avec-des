{
 "cells": [
  {
   "cell_type": "markdown",
   "id": "supposed-current",
   "metadata": {},
   "source": [
    "# knn"
   ]
  },
  {
   "cell_type": "markdown",
   "id": "textile-municipality",
   "metadata": {},
   "source": [
    "## teoria"
   ]
  },
  {
   "cell_type": "markdown",
   "id": "decreased-topic",
   "metadata": {},
   "source": [
    "## codigo"
   ]
  },
  {
   "cell_type": "markdown",
   "id": "hawaiian-vision",
   "metadata": {},
   "source": [
    "# naive bayes"
   ]
  },
  {
   "cell_type": "markdown",
   "id": "strong-oriental",
   "metadata": {},
   "source": [
    "## teoria"
   ]
  },
  {
   "cell_type": "markdown",
   "id": "lonely-upgrade",
   "metadata": {},
   "source": [
    "## codigo"
   ]
  },
  {
   "cell_type": "markdown",
   "id": "recreational-panic",
   "metadata": {},
   "source": [
    "# svm"
   ]
  },
  {
   "cell_type": "markdown",
   "id": "christian-graduate",
   "metadata": {},
   "source": [
    "## teoria"
   ]
  },
  {
   "cell_type": "markdown",
   "id": "afraid-taiwan",
   "metadata": {},
   "source": [
    "## codigo"
   ]
  },
  {
   "cell_type": "markdown",
   "id": "laughing-magnet",
   "metadata": {},
   "source": [
    "# decision trees"
   ]
  },
  {
   "cell_type": "markdown",
   "id": "extensive-rental",
   "metadata": {},
   "source": [
    "## teoria"
   ]
  },
  {
   "cell_type": "markdown",
   "id": "corporate-pound",
   "metadata": {},
   "source": [
    "## codigo"
   ]
  },
  {
   "cell_type": "markdown",
   "id": "electoral-wedding",
   "metadata": {},
   "source": [
    "# logistic regression"
   ]
  },
  {
   "cell_type": "markdown",
   "id": "daily-geneva",
   "metadata": {},
   "source": [
    "## teoria"
   ]
  },
  {
   "cell_type": "markdown",
   "id": "suited-equality",
   "metadata": {},
   "source": [
    "explicações sobre categoria referência na interpretação de coeficientes em regressões:<br/>\n",
    "[reference category in a regression : statistics @ reddit](https://www.reddit.com/r/statistics/comments/2wjddx/reference_category_in_a_regression/)<br/>\n",
    "[interpretable models - logistic regression - 4.2.2 Theory](https://christophm.github.io/interpretable-ml-book/logistic.html#theory)"
   ]
  },
  {
   "cell_type": "markdown",
   "id": "backed-thursday",
   "metadata": {},
   "source": [
    "## codigo"
   ]
  },
  {
   "cell_type": "markdown",
   "id": "restricted-cleaners",
   "metadata": {},
   "source": [
    "- - -"
   ]
  },
  {
   "cell_type": "markdown",
   "id": "loved-society",
   "metadata": {},
   "source": [
    "**referencias**\n",
    "\n",
    "[what kinds of learning problems are suitable for support vector machines? @ data science stack exchange](https://datascience.stackexchange.com/questions/9736/what-kinds-of-learning-problems-are-suitable-for-support-vector-machines)<br/>\n",
    "[logistic regression vs support vector machines patricia bassey](https://medium.com/axum-labs/logistic-regression-vs-support-vector-machines-svm-c335610a3d16)<br/>\n",
    "[how should i choose between svm and decision tree for a classification problem?](https://www.quora.com/How-should-I-choose-between-SVM-and-decision-tree-for-a-classification-problem)<br/>\n",
    "[when can we use support vector machine basic over other classification algorithms?](https://www.quora.com/When-can-we-use-support-vector-machine-basic-over-other-classification-algorithms)"
   ]
  }
 ],
 "metadata": {
  "kernelspec": {
   "display_name": "Python 3",
   "language": "python",
   "name": "python3"
  },
  "language_info": {
   "codemirror_mode": {
    "name": "ipython",
    "version": 3
   },
   "file_extension": ".py",
   "mimetype": "text/x-python",
   "name": "python",
   "nbconvert_exporter": "python",
   "pygments_lexer": "ipython3",
   "version": "3.8.10"
  },
  "toc-autonumbering": true,
  "toc-showmarkdowntxt": false,
  "toc-showtags": false
 },
 "nbformat": 4,
 "nbformat_minor": 5
}
