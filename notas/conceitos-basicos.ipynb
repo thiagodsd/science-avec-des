{
 "cells": [
  {
   "cell_type": "markdown",
   "metadata": {},
   "source": [
    "**Supervised Learning Algorithms:**\n",
    "- KNN\n",
    "- Linear Regression\n",
    "- Logistic Regression\n",
    "- SVM\n",
    "- Decision Trees & Random Forests\n",
    "- Neural Networks\n",
    "\n",
    "**Unsupervised Learning Algorithms:**\n",
    "+ Clustering\n",
    "    - K-Means\n",
    "    - DBSCAN\n",
    "    - HCA\n",
    "+ Anomaly or Novelty Detection\n",
    "    - One-Class SVM\n",
    "    - Isolation Forest\n",
    "+ Visualization and Dimentionality Reduction\n",
    "    - PCA\n",
    "    - Kernel PCA\n",
    "    - t-SNE\n",
    "    - t-SNE\n",
    "+ Association Rule Learning\n",
    "    - Apriori\n",
    "    - Eclat\n",
    "\n",
    "- - -\n",
    "\n",
    "**Batch vs Online Learning**\n",
    "\n",
    "Basicamente _batch learning_ é o aprendizado feito de uma vez com todo o conjunto de dados disponível, de modo que se algo precisa ser atualizado -- um novo tipo de spam -- é necessário treinar tudo novamente, novo spam jutamente com todos os antigos treinados anteriormente.\n",
    "\n",
    "Em contraposição, _online learning_ é o aprendizado incrimental, observação a observação ou através de mini-batches. \n",
    "\n",
    "- - -\n",
    "\n",
    "**Instance-Based vs Model-Based Learning**\n",
    "\n",
    "O aprendizado _Instance-Based_ generaliza novos casos a partir dos casos aprendidos, através de alguma métrica de similaridade.\n",
    "\n",
    "O aprendizado _Model-Based_ generaliza novos casos através dos parâmetros de um modelo construído a priori.\n",
    "\n",
    "- - -\n",
    "\n",
    "**Testing and Validanting**\n",
    "\n",
    "Dado um conjunto de dados $\\mathcal{D}$\n",
    "\n",
    "- $\\mathcal{T}$ treino (0.8 * $\\mathcal{D}$)\n",
    "- $\\mathcal{V}$ validação, ou _holdout validation_ (0.2 * $\\mathcal{T}$)\n",
    "- $\\mathcal{T'}$ teste (0.2 * $\\mathcal{D}$)\n",
    "\n",
    "$\\mathcal{V}$ pode ser usado para avaliar vários modelos candidatos. O fluxo então é\n",
    "\n",
    "1. $M_1, M_2, M_3 \\rightarrow \\mathcal{T}$\n",
    "2. $M_1, M_2, M_3 \\rightarrow \\mathcal{V} \\Rightarrow M^{*}$ \n",
    "3. $M^{*} \\rightarrow \\mathcal{T'}$"
   ]
  },
  {
   "cell_type": "markdown",
   "metadata": {},
   "source": [
    "---"
   ]
  }
 ],
 "metadata": {
  "kernelspec": {
   "display_name": "Python 3",
   "language": "python",
   "name": "python3"
  },
  "language_info": {
   "codemirror_mode": {
    "name": "ipython",
    "version": 3
   },
   "file_extension": ".py",
   "mimetype": "text/x-python",
   "name": "python",
   "nbconvert_exporter": "python",
   "pygments_lexer": "ipython3",
   "version": "3.8.5"
  }
 },
 "nbformat": 4,
 "nbformat_minor": 4
}
