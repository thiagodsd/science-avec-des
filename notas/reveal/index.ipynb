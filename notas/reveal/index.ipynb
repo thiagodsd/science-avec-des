{
 "cells": [
  {
   "cell_type": "markdown",
   "id": "north-royalty",
   "metadata": {
    "slideshow": {
     "slide_type": "slide"
    }
   },
   "source": [
    "# básico\n",
    "\n",
    "**setup**\n",
    " \n",
    "```sh\n",
    "$ python3 -m pip install RISE\n",
    "``` \n",
    "para instalação da biblioteca de conversão de _.ipynb_ para _html_ + _reveal.js_\n",
    "\n",
    "`View > Cell Toolbar > Slideshow` para alterar a visualização das células do notebook\n",
    "\n",
    "**export local**\n",
    "\n",
    "`File > Download as > Reveal.js slides (.slides.html)` para exportar em formato de slideshow ou, alternativamente\n",
    "\n",
    "```sh\n",
    "$ jupyter nbconvert NOME_DO_NOTEBOOK.ipynb --no-input --to slides --post serve\n",
    "```\n",
    "\n",
    "**integração ao github pages**\n",
    "\n",
    "```sh\n",
    "$ git submodule add https://github.com/hakimel/reveal.js.git && cd reveal.js && git checkout x.x.x\n",
    "```\n",
    "para instalação de submódulo no diretório do repositório\n"
   ]
  },
  {
   "cell_type": "markdown",
   "id": "rolled-county",
   "metadata": {
    "slideshow": {
     "slide_type": "subslide"
    }
   },
   "source": [
    "**embedding de imagens**\n",
    "\n",
    "para reduzir a quantidade de referências cruzadas em documentos com muitas imagens é interessante inserir os metadados dos arquivos no código _.html_ ao invés da referência ao seu caminho; abaixo um exemplo de como isso pode ser feito\n",
    "\n",
    "```sh\n",
    "$ echo \"data:/image/jpeg;base64,$(base64 -w 0 IMAGEM.jpeg)\" > IMAGEM64.txt\n",
    "```\n",
    "\n",
    "para encoding dos metadados da imagem em base 64 a fim de torná-los interpretáveis pelos renderizadores de html, e\n",
    "\n",
    "```html\n",
    "<img src=\"data:image/jpeg;base64,iVBORw0KGgoAAAANSUhEUgAAAhkAAAEvCAYAAADo ... EYMWu72AIAAAAASUVORK5CYII=\"/>\n",
    "```\n",
    "\n",
    "para uso"
   ]
  },
  {
   "cell_type": "markdown",
   "id": "homeless-destruction",
   "metadata": {
    "slideshow": {
     "slide_type": "slide"
    }
   },
   "source": [
    "."
   ]
  }
 ],
 "metadata": {
  "celltoolbar": "Slideshow",
  "kernelspec": {
   "display_name": "Python 3",
   "language": "python",
   "name": "python3"
  },
  "language_info": {
   "codemirror_mode": {
    "name": "ipython",
    "version": 3
   },
   "file_extension": ".py",
   "mimetype": "text/x-python",
   "name": "python",
   "nbconvert_exporter": "python",
   "pygments_lexer": "ipython3",
   "version": "3.8.10"
  }
 },
 "nbformat": 4,
 "nbformat_minor": 5
}
