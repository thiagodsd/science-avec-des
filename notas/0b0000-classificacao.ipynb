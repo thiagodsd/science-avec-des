{
 "cells": [
  {
   "cell_type": "markdown",
   "id": "fitting-burlington",
   "metadata": {},
   "source": [
    "# knn"
   ]
  },
  {
   "cell_type": "markdown",
   "id": "solved-customer",
   "metadata": {},
   "source": [
    "## teoria"
   ]
  },
  {
   "cell_type": "markdown",
   "id": "viral-borough",
   "metadata": {},
   "source": [
    "## codigo"
   ]
  },
  {
   "cell_type": "markdown",
   "id": "multiple-generator",
   "metadata": {},
   "source": [
    "# naive bayes"
   ]
  },
  {
   "cell_type": "markdown",
   "id": "mechanical-interstate",
   "metadata": {},
   "source": [
    "## teoria"
   ]
  },
  {
   "cell_type": "markdown",
   "id": "integral-teach",
   "metadata": {},
   "source": [
    "## codigo"
   ]
  },
  {
   "cell_type": "markdown",
   "id": "registered-timeline",
   "metadata": {},
   "source": [
    "# svm"
   ]
  },
  {
   "cell_type": "markdown",
   "id": "certified-brown",
   "metadata": {},
   "source": [
    "## teoria"
   ]
  },
  {
   "cell_type": "markdown",
   "id": "constant-underwear",
   "metadata": {},
   "source": [
    "## codigo"
   ]
  },
  {
   "cell_type": "markdown",
   "id": "norman-grocery",
   "metadata": {},
   "source": [
    "# decision trees"
   ]
  },
  {
   "cell_type": "markdown",
   "id": "collected-postcard",
   "metadata": {},
   "source": [
    "## teoria"
   ]
  },
  {
   "cell_type": "markdown",
   "id": "sized-assistant",
   "metadata": {},
   "source": [
    "## codigo"
   ]
  },
  {
   "cell_type": "markdown",
   "id": "excellent-product",
   "metadata": {},
   "source": [
    "# logistic regression"
   ]
  },
  {
   "cell_type": "markdown",
   "id": "outdoor-trauma",
   "metadata": {},
   "source": [
    "## teoria"
   ]
  },
  {
   "cell_type": "markdown",
   "id": "interior-citation",
   "metadata": {},
   "source": [
    "## codigo"
   ]
  },
  {
   "cell_type": "markdown",
   "id": "ranking-expansion",
   "metadata": {},
   "source": [
    "- - -"
   ]
  },
  {
   "cell_type": "markdown",
   "id": "banned-gallery",
   "metadata": {},
   "source": [
    "**referencias**\n",
    "\n",
    "[what kinds of learning problems are suitable for support vector machines? @ data science stack exchange](https://datascience.stackexchange.com/questions/9736/what-kinds-of-learning-problems-are-suitable-for-support-vector-machines)<br/>\n",
    "[logistic regression vs support vector machines patricia bassey](https://medium.com/axum-labs/logistic-regression-vs-support-vector-machines-svm-c335610a3d16)<br/>\n",
    "[how should i choose between svm and decision tree for a classification problem?](https://www.quora.com/How-should-I-choose-between-SVM-and-decision-tree-for-a-classification-problem)<br/>\n",
    "[when can we use support vector machine basic over other classification algorithms?](https://www.quora.com/When-can-we-use-support-vector-machine-basic-over-other-classification-algorithms)"
   ]
  }
 ],
 "metadata": {
  "kernelspec": {
   "display_name": "Python 3",
   "language": "python",
   "name": "python3"
  },
  "language_info": {
   "codemirror_mode": {
    "name": "ipython",
    "version": 3
   },
   "file_extension": ".py",
   "mimetype": "text/x-python",
   "name": "python",
   "nbconvert_exporter": "python",
   "pygments_lexer": "ipython3",
   "version": "3.8.5"
  },
  "toc-autonumbering": true,
  "toc-showmarkdowntxt": false,
  "toc-showtags": false
 },
 "nbformat": 4,
 "nbformat_minor": 5
}
