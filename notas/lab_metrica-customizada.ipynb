{
 "cells": [
  {
   "cell_type": "markdown",
   "metadata": {
    "toc": true
   },
   "source": [
    "<h1>Table of Contents<span class=\"tocSkip\"></span></h1>\n",
    "<div class=\"toc\"><ul class=\"toc-item\"><li><span><a href=\"#libs\" data-toc-modified-id=\"libs-1\"><span class=\"toc-item-num\">1&nbsp;&nbsp;</span>libs</a></span></li><li><span><a href=\"#tabelas\" data-toc-modified-id=\"tabelas-2\"><span class=\"toc-item-num\">2&nbsp;&nbsp;</span>tabelas</a></span><ul class=\"toc-item\"><li><span><a href=\"#caso-binário\" data-toc-modified-id=\"caso-binário-2.1\"><span class=\"toc-item-num\">2.1&nbsp;&nbsp;</span>caso binário</a></span><ul class=\"toc-item\"><li><span><a href=\"#seleção\" data-toc-modified-id=\"seleção-2.1.1\"><span class=\"toc-item-num\">2.1.1&nbsp;&nbsp;</span>seleção</a></span></li><li><span><a href=\"#objective-=-'binary'\" data-toc-modified-id=\"objective-=-'binary'-2.1.2\"><span class=\"toc-item-num\">2.1.2&nbsp;&nbsp;</span><code>objective = 'binary'</code></a></span><ul class=\"toc-item\"><li><span><a href=\"#reconstruindo-objetiva\" data-toc-modified-id=\"reconstruindo-objetiva-2.1.2.1\"><span class=\"toc-item-num\">2.1.2.1&nbsp;&nbsp;</span>reconstruindo objetiva</a></span></li><li><span><a href=\"#discussão-sobre-o-TERM\" data-toc-modified-id=\"discussão-sobre-o-TERM-2.1.2.2\"><span class=\"toc-item-num\">2.1.2.2&nbsp;&nbsp;</span>discussão sobre o TERM</a></span></li></ul></li></ul></li></ul></li></ul></div>"
   ]
  },
  {
   "cell_type": "markdown",
   "metadata": {},
   "source": [
    "guiado pelos monstros sagrados que escreveram\n",
    "+ [\"Focal loss implementation for LightGBM\" por Max Halford](https://maxhalford.github.io/blog/lightgbm-focal-loss/)\n",
    "+ [\"Tilted Empirical Risk Minimization\" por Carnegie Mellon University](https://blog.ml.cmu.edu/2021/04/02/term/)"
   ]
  },
  {
   "cell_type": "markdown",
   "metadata": {
    "id": "d4j9kBPaMe1v"
   },
   "source": [
    "# libs"
   ]
  },
  {
   "cell_type": "code",
   "execution_count": 4,
   "metadata": {
    "id": "wtfbKyjIZ1K5"
   },
   "outputs": [],
   "source": [
    "import datetime\n",
    "import warnings\n",
    "import pickle\n",
    "import gc\n",
    "import os\n",
    "import math\n",
    "import pprint\n",
    "import hashlib\n",
    "import functools\n",
    "\n",
    "import numpy  as np\n",
    "import pandas as pd\n",
    "\n",
    "%matplotlib inline\n",
    "import matplotlib.pyplot as plt\n",
    "import seaborn           as sns\n",
    "\n",
    "from IPython.display import display\n",
    "\n",
    "warnings.filterwarnings('ignore')"
   ]
  },
  {
   "cell_type": "markdown",
   "metadata": {},
   "source": [
    "<br/>"
   ]
  },
  {
   "cell_type": "code",
   "execution_count": 70,
   "metadata": {},
   "outputs": [],
   "source": [
    "from scipy import special\n",
    "from sklearn.preprocessing import MinMaxScaler\n",
    "from sklearn.model_selection import train_test_split, StratifiedKFold\n",
    "from sklearn.ensemble import RandomForestClassifier\n",
    "from sklearn.metrics import classification_report, balanced_accuracy_score"
   ]
  },
  {
   "cell_type": "code",
   "execution_count": 5,
   "metadata": {},
   "outputs": [],
   "source": [
    "from boruta import BorutaPy\n",
    "import optuna\n",
    "import lightgbm as lgb"
   ]
  },
  {
   "cell_type": "code",
   "execution_count": null,
   "metadata": {},
   "outputs": [],
   "source": []
  },
  {
   "cell_type": "code",
   "execution_count": null,
   "metadata": {},
   "outputs": [],
   "source": []
  },
  {
   "cell_type": "code",
   "execution_count": null,
   "metadata": {},
   "outputs": [],
   "source": [
    "from sklearn.preprocessing import StandardScaler, MinMaxScaler\n",
    "from sklearn.decomposition import PCA\n",
    "from mpl_toolkits.mplot3d import Axes3D"
   ]
  },
  {
   "cell_type": "code",
   "execution_count": null,
   "metadata": {},
   "outputs": [],
   "source": [
    "from sklearn.model_selection import train_test_split, StratifiedKFold\n",
    "from sklearn.preprocessing   import normalize, StandardScaler, LabelBinarizer\n",
    "from sklearn.metrics         import classification_report, roc_curve, auc,accuracy_score, confusion_matrix, f1_score, fbeta_score, balanced_accuracy_score, precision_score, confusion_matrix, ConfusionMatrixDisplay\n",
    "from sklearn.calibration     import CalibratedClassifierCV, calibration_curve\n",
    "from boruta                  import BorutaPy\n",
    "import optuna\n",
    "\n",
    "from sklearn.linear_model import LogisticRegression\n",
    "from sklearn.ensemble     import RandomForestClassifier\n",
    "\n",
    "import lightgbm as lgb         "
   ]
  },
  {
   "cell_type": "markdown",
   "metadata": {
    "id": "QQ8zUw6bqp_i"
   },
   "source": [
    "# tabelas"
   ]
  },
  {
   "cell_type": "markdown",
   "metadata": {},
   "source": [
    "```\n",
    "\"FS\": suffered fouls,\n",
    "\"PE\": missed passes,\n",
    "\"A\": assistances,\n",
    "\"FT\": shots on the post,\n",
    "\"FD\": defended shots,\n",
    "\"FF\": shots off target,\n",
    "\"G\": goals,\n",
    "\"I\": offsides,\n",
    "\"PP\": missed penalties,\n",
    "\"RB\": successful tackes,\n",
    "\"FC\": fouls commited,\n",
    "\"GC\": own goals,\n",
    "\"CA\": yellow cards,\n",
    "\"CV\": red cards,\n",
    "\"SG\": clean sheets (only defenders),\n",
    "\"DD\": difficult defenses (only goalies),\n",
    "\"DP\": defended penalties (only goalies),\n",
    "\"GS\": suffered goals (only goalies)\n",
    "```"
   ]
  },
  {
   "cell_type": "code",
   "execution_count": 6,
   "metadata": {},
   "outputs": [
    {
     "data": {
      "text/html": [
       "<div>\n",
       "<style scoped>\n",
       "    .dataframe tbody tr th:only-of-type {\n",
       "        vertical-align: middle;\n",
       "    }\n",
       "\n",
       "    .dataframe tbody tr th {\n",
       "        vertical-align: top;\n",
       "    }\n",
       "\n",
       "    .dataframe thead th {\n",
       "        text-align: right;\n",
       "    }\n",
       "</style>\n",
       "<table border=\"1\" class=\"dataframe\">\n",
       "  <thead>\n",
       "    <tr style=\"text-align: right;\">\n",
       "      <th></th>\n",
       "      <th>Nome</th>\n",
       "      <th>Clube</th>\n",
       "      <th>Preço</th>\n",
       "      <th>J</th>\n",
       "      <th>Média</th>\n",
       "      <th>Últ. Pont.</th>\n",
       "      <th>Variação</th>\n",
       "      <th>DS</th>\n",
       "      <th>G</th>\n",
       "      <th>A</th>\n",
       "      <th>...</th>\n",
       "      <th>GS</th>\n",
       "      <th>FC</th>\n",
       "      <th>I</th>\n",
       "      <th>PI</th>\n",
       "      <th>rodada</th>\n",
       "      <th>ano</th>\n",
       "      <th>RB</th>\n",
       "      <th>PE</th>\n",
       "      <th>id</th>\n",
       "      <th>pos</th>\n",
       "    </tr>\n",
       "  </thead>\n",
       "  <tbody>\n",
       "    <tr>\n",
       "      <th>7882</th>\n",
       "      <td>Ricardo Bueno (ATA)</td>\n",
       "      <td>Ceará</td>\n",
       "      <td>18.52</td>\n",
       "      <td>1.0</td>\n",
       "      <td>22.70</td>\n",
       "      <td>22.7</td>\n",
       "      <td>14.52</td>\n",
       "      <td>NaN</td>\n",
       "      <td>2.0</td>\n",
       "      <td>1.0</td>\n",
       "      <td>...</td>\n",
       "      <td>NaN</td>\n",
       "      <td>2.0</td>\n",
       "      <td>1.0</td>\n",
       "      <td>NaN</td>\n",
       "      <td>1</td>\n",
       "      <td>2019</td>\n",
       "      <td>1.0</td>\n",
       "      <td>1.0</td>\n",
       "      <td>1f4d452190fb0558c5f5696b944b9afe4b02ca08</td>\n",
       "      <td>ATA</td>\n",
       "    </tr>\n",
       "    <tr>\n",
       "      <th>7883</th>\n",
       "      <td>Bruno Henrique (ATA)</td>\n",
       "      <td>Flamengo</td>\n",
       "      <td>21.51</td>\n",
       "      <td>1.0</td>\n",
       "      <td>21.00</td>\n",
       "      <td>21.0</td>\n",
       "      <td>11.51</td>\n",
       "      <td>NaN</td>\n",
       "      <td>2.0</td>\n",
       "      <td>NaN</td>\n",
       "      <td>...</td>\n",
       "      <td>NaN</td>\n",
       "      <td>1.0</td>\n",
       "      <td>NaN</td>\n",
       "      <td>NaN</td>\n",
       "      <td>1</td>\n",
       "      <td>2019</td>\n",
       "      <td>NaN</td>\n",
       "      <td>NaN</td>\n",
       "      <td>9f9a076464350d81d76c9b8940d64b9890e4b053</td>\n",
       "      <td>ATA</td>\n",
       "    </tr>\n",
       "    <tr>\n",
       "      <th>7884</th>\n",
       "      <td>Nikão (MEI)</td>\n",
       "      <td>Athlético-PR</td>\n",
       "      <td>19.29</td>\n",
       "      <td>1.0</td>\n",
       "      <td>18.80</td>\n",
       "      <td>18.8</td>\n",
       "      <td>10.29</td>\n",
       "      <td>NaN</td>\n",
       "      <td>1.0</td>\n",
       "      <td>NaN</td>\n",
       "      <td>...</td>\n",
       "      <td>NaN</td>\n",
       "      <td>1.0</td>\n",
       "      <td>NaN</td>\n",
       "      <td>NaN</td>\n",
       "      <td>1</td>\n",
       "      <td>2019</td>\n",
       "      <td>5.0</td>\n",
       "      <td>NaN</td>\n",
       "      <td>9752a812f300239c0f4fcae95d41e2843653a308</td>\n",
       "      <td>MEI</td>\n",
       "    </tr>\n",
       "    <tr>\n",
       "      <th>7885</th>\n",
       "      <td>Tiepo (GOL)</td>\n",
       "      <td>Chapecoense</td>\n",
       "      <td>13.18</td>\n",
       "      <td>1.0</td>\n",
       "      <td>17.00</td>\n",
       "      <td>17.0</td>\n",
       "      <td>11.18</td>\n",
       "      <td>NaN</td>\n",
       "      <td>NaN</td>\n",
       "      <td>NaN</td>\n",
       "      <td>...</td>\n",
       "      <td>NaN</td>\n",
       "      <td>NaN</td>\n",
       "      <td>NaN</td>\n",
       "      <td>NaN</td>\n",
       "      <td>1</td>\n",
       "      <td>2019</td>\n",
       "      <td>NaN</td>\n",
       "      <td>NaN</td>\n",
       "      <td>ec9799d86e28ec368cccfb660bf39ff3bc3eed7c</td>\n",
       "      <td>GOL</td>\n",
       "    </tr>\n",
       "    <tr>\n",
       "      <th>7886</th>\n",
       "      <td>Vanderlei (GOL)</td>\n",
       "      <td>Santos</td>\n",
       "      <td>22.69</td>\n",
       "      <td>1.0</td>\n",
       "      <td>15.70</td>\n",
       "      <td>15.7</td>\n",
       "      <td>5.69</td>\n",
       "      <td>NaN</td>\n",
       "      <td>NaN</td>\n",
       "      <td>NaN</td>\n",
       "      <td>...</td>\n",
       "      <td>1.0</td>\n",
       "      <td>NaN</td>\n",
       "      <td>NaN</td>\n",
       "      <td>NaN</td>\n",
       "      <td>1</td>\n",
       "      <td>2019</td>\n",
       "      <td>NaN</td>\n",
       "      <td>1.0</td>\n",
       "      <td>a5dde5accc0044a9808b0257f6faa5ba89342b7f</td>\n",
       "      <td>GOL</td>\n",
       "    </tr>\n",
       "    <tr>\n",
       "      <th>...</th>\n",
       "      <td>...</td>\n",
       "      <td>...</td>\n",
       "      <td>...</td>\n",
       "      <td>...</td>\n",
       "      <td>...</td>\n",
       "      <td>...</td>\n",
       "      <td>...</td>\n",
       "      <td>...</td>\n",
       "      <td>...</td>\n",
       "      <td>...</td>\n",
       "      <td>...</td>\n",
       "      <td>...</td>\n",
       "      <td>...</td>\n",
       "      <td>...</td>\n",
       "      <td>...</td>\n",
       "      <td>...</td>\n",
       "      <td>...</td>\n",
       "      <td>...</td>\n",
       "      <td>...</td>\n",
       "      <td>...</td>\n",
       "      <td>...</td>\n",
       "    </tr>\n",
       "    <tr>\n",
       "      <th>7877</th>\n",
       "      <td>Jadson (MEI)</td>\n",
       "      <td>Athlético-PR</td>\n",
       "      <td>3.53</td>\n",
       "      <td>9.0</td>\n",
       "      <td>0.11</td>\n",
       "      <td>0.8</td>\n",
       "      <td>-0.40</td>\n",
       "      <td>NaN</td>\n",
       "      <td>NaN</td>\n",
       "      <td>NaN</td>\n",
       "      <td>...</td>\n",
       "      <td>NaN</td>\n",
       "      <td>3.0</td>\n",
       "      <td>NaN</td>\n",
       "      <td>40.0</td>\n",
       "      <td>38</td>\n",
       "      <td>2020</td>\n",
       "      <td>NaN</td>\n",
       "      <td>NaN</td>\n",
       "      <td>fe95e28e44efa7db07376c045a2fa89332ea5308</td>\n",
       "      <td>MEI</td>\n",
       "    </tr>\n",
       "    <tr>\n",
       "      <th>7878</th>\n",
       "      <td>Patrick de Lucca (MEI)</td>\n",
       "      <td>Bahia</td>\n",
       "      <td>0.77</td>\n",
       "      <td>3.0</td>\n",
       "      <td>-0.23</td>\n",
       "      <td>-1.5</td>\n",
       "      <td>-0.29</td>\n",
       "      <td>1.0</td>\n",
       "      <td>NaN</td>\n",
       "      <td>NaN</td>\n",
       "      <td>...</td>\n",
       "      <td>NaN</td>\n",
       "      <td>NaN</td>\n",
       "      <td>NaN</td>\n",
       "      <td>25.0</td>\n",
       "      <td>38</td>\n",
       "      <td>2020</td>\n",
       "      <td>NaN</td>\n",
       "      <td>NaN</td>\n",
       "      <td>0157594398527348fc28f663c44291f22f8172ae</td>\n",
       "      <td>MEI</td>\n",
       "    </tr>\n",
       "    <tr>\n",
       "      <th>7879</th>\n",
       "      <td>Guilherme Biro (ATA)</td>\n",
       "      <td>Coritiba</td>\n",
       "      <td>0.77</td>\n",
       "      <td>8.0</td>\n",
       "      <td>-0.32</td>\n",
       "      <td>-3.6</td>\n",
       "      <td>-0.21</td>\n",
       "      <td>15.0</td>\n",
       "      <td>NaN</td>\n",
       "      <td>NaN</td>\n",
       "      <td>...</td>\n",
       "      <td>NaN</td>\n",
       "      <td>14.0</td>\n",
       "      <td>NaN</td>\n",
       "      <td>41.0</td>\n",
       "      <td>38</td>\n",
       "      <td>2020</td>\n",
       "      <td>NaN</td>\n",
       "      <td>NaN</td>\n",
       "      <td>3e299fb9c705d57573fa4ab8a1a9f607edc60dc2</td>\n",
       "      <td>ATA</td>\n",
       "    </tr>\n",
       "    <tr>\n",
       "      <th>7880</th>\n",
       "      <td>Gabriel Pereira (MEI)</td>\n",
       "      <td>Corinthians</td>\n",
       "      <td>0.79</td>\n",
       "      <td>5.0</td>\n",
       "      <td>-0.40</td>\n",
       "      <td>0.0</td>\n",
       "      <td>0.00</td>\n",
       "      <td>1.0</td>\n",
       "      <td>NaN</td>\n",
       "      <td>NaN</td>\n",
       "      <td>...</td>\n",
       "      <td>NaN</td>\n",
       "      <td>6.0</td>\n",
       "      <td>NaN</td>\n",
       "      <td>15.0</td>\n",
       "      <td>38</td>\n",
       "      <td>2020</td>\n",
       "      <td>NaN</td>\n",
       "      <td>NaN</td>\n",
       "      <td>90a8b33c4ac288f85fa4a7e678592dd30600d8a4</td>\n",
       "      <td>MEI</td>\n",
       "    </tr>\n",
       "    <tr>\n",
       "      <th>7881</th>\n",
       "      <td>Wellington (LAT)</td>\n",
       "      <td>São Paulo</td>\n",
       "      <td>0.77</td>\n",
       "      <td>1.0</td>\n",
       "      <td>-3.10</td>\n",
       "      <td>-3.1</td>\n",
       "      <td>-0.23</td>\n",
       "      <td>NaN</td>\n",
       "      <td>NaN</td>\n",
       "      <td>NaN</td>\n",
       "      <td>...</td>\n",
       "      <td>NaN</td>\n",
       "      <td>4.0</td>\n",
       "      <td>NaN</td>\n",
       "      <td>1.0</td>\n",
       "      <td>38</td>\n",
       "      <td>2020</td>\n",
       "      <td>NaN</td>\n",
       "      <td>NaN</td>\n",
       "      <td>e56896e9bd7426de5236ee5280c369328818c6c3</td>\n",
       "      <td>LAT</td>\n",
       "    </tr>\n",
       "  </tbody>\n",
       "</table>\n",
       "<p>16404 rows × 31 columns</p>\n",
       "</div>"
      ],
      "text/plain": [
       "                        Nome         Clube  Preço    J  Média  Últ. Pont.  \\\n",
       "7882     Ricardo Bueno (ATA)         Ceará  18.52  1.0  22.70        22.7   \n",
       "7883    Bruno Henrique (ATA)      Flamengo  21.51  1.0  21.00        21.0   \n",
       "7884             Nikão (MEI)  Athlético-PR  19.29  1.0  18.80        18.8   \n",
       "7885             Tiepo (GOL)   Chapecoense  13.18  1.0  17.00        17.0   \n",
       "7886         Vanderlei (GOL)        Santos  22.69  1.0  15.70        15.7   \n",
       "...                      ...           ...    ...  ...    ...         ...   \n",
       "7877            Jadson (MEI)  Athlético-PR   3.53  9.0   0.11         0.8   \n",
       "7878  Patrick de Lucca (MEI)         Bahia   0.77  3.0  -0.23        -1.5   \n",
       "7879    Guilherme Biro (ATA)      Coritiba   0.77  8.0  -0.32        -3.6   \n",
       "7880   Gabriel Pereira (MEI)   Corinthians   0.79  5.0  -0.40         0.0   \n",
       "7881        Wellington (LAT)     São Paulo   0.77  1.0  -3.10        -3.1   \n",
       "\n",
       "      Variação    DS    G    A  ...   GS    FC    I    PI  rodada   ano   RB  \\\n",
       "7882     14.52   NaN  2.0  1.0  ...  NaN   2.0  1.0   NaN       1  2019  1.0   \n",
       "7883     11.51   NaN  2.0  NaN  ...  NaN   1.0  NaN   NaN       1  2019  NaN   \n",
       "7884     10.29   NaN  1.0  NaN  ...  NaN   1.0  NaN   NaN       1  2019  5.0   \n",
       "7885     11.18   NaN  NaN  NaN  ...  NaN   NaN  NaN   NaN       1  2019  NaN   \n",
       "7886      5.69   NaN  NaN  NaN  ...  1.0   NaN  NaN   NaN       1  2019  NaN   \n",
       "...        ...   ...  ...  ...  ...  ...   ...  ...   ...     ...   ...  ...   \n",
       "7877     -0.40   NaN  NaN  NaN  ...  NaN   3.0  NaN  40.0      38  2020  NaN   \n",
       "7878     -0.29   1.0  NaN  NaN  ...  NaN   NaN  NaN  25.0      38  2020  NaN   \n",
       "7879     -0.21  15.0  NaN  NaN  ...  NaN  14.0  NaN  41.0      38  2020  NaN   \n",
       "7880      0.00   1.0  NaN  NaN  ...  NaN   6.0  NaN  15.0      38  2020  NaN   \n",
       "7881     -0.23   NaN  NaN  NaN  ...  NaN   4.0  NaN   1.0      38  2020  NaN   \n",
       "\n",
       "       PE                                        id  pos  \n",
       "7882  1.0  1f4d452190fb0558c5f5696b944b9afe4b02ca08  ATA  \n",
       "7883  NaN  9f9a076464350d81d76c9b8940d64b9890e4b053  ATA  \n",
       "7884  NaN  9752a812f300239c0f4fcae95d41e2843653a308  MEI  \n",
       "7885  NaN  ec9799d86e28ec368cccfb660bf39ff3bc3eed7c  GOL  \n",
       "7886  1.0  a5dde5accc0044a9808b0257f6faa5ba89342b7f  GOL  \n",
       "...   ...                                       ...  ...  \n",
       "7877  NaN  fe95e28e44efa7db07376c045a2fa89332ea5308  MEI  \n",
       "7878  NaN  0157594398527348fc28f663c44291f22f8172ae  MEI  \n",
       "7879  NaN  3e299fb9c705d57573fa4ab8a1a9f607edc60dc2  ATA  \n",
       "7880  NaN  90a8b33c4ac288f85fa4a7e678592dd30600d8a4  MEI  \n",
       "7881  NaN  e56896e9bd7426de5236ee5280c369328818c6c3  LAT  \n",
       "\n",
       "[16404 rows x 31 columns]"
      ]
     },
     "metadata": {},
     "output_type": "display_data"
    },
    {
     "data": {
      "text/plain": [
       "MEI    408\n",
       "ATA    285\n",
       "ZAG    203\n",
       "LAT    200\n",
       "GOL     96\n",
       "TEC     91\n",
       "Name: pos_first, dtype: int64"
      ]
     },
     "metadata": {},
     "output_type": "display_data"
    }
   ],
   "source": [
    "df = pd.read_csv('~/Documents/data/cartola-fc-brasil-scouts/jogadores.csv')\n",
    "\n",
    "df = df.sort_values(by=[\"ano\", \"rodada\"]).copy()\n",
    "df['id']  = df['Nome'].apply( lambda x: hashlib.sha1(str.encode(x)).hexdigest() )\n",
    "df['pos'] = df['Nome'].apply( lambda x: x.split('(')[-1].split(')')[0].strip() )\n",
    "\n",
    "display( df )\n",
    "\n",
    "scouts  = ['DS','G','A','SG','FS','FF','FD','FT','DD','DP','GC','CV','CA','PP','GS','FC','I','PI','RB','PE']\n",
    "mercado = ['Preço', 'Média','Variação']\n",
    "keys    = [\"id\", \"ano\"]\n",
    "\n",
    "gscouts = df.groupby(keys)[scouts].agg(['sum', 'max'])\n",
    "gscouts.columns = gscouts.columns.map('_'.join)\n",
    "gscouts = gscouts.reset_index()\n",
    "\n",
    "gmercado = df.groupby(keys)[mercado].agg(['sum','max'])\n",
    "gmercado.columns = gmercado.columns.map('_'.join)\n",
    "gmercado = gmercado.reset_index()\n",
    "\n",
    "gpos = df.groupby(keys)[['pos']].agg(['first'])\n",
    "gpos.columns = gpos.columns.map('_'.join)\n",
    "gpos = gpos.reset_index()\n",
    "\n",
    "display(gpos['pos_first'].value_counts())"
   ]
  },
  {
   "cell_type": "code",
   "execution_count": 7,
   "metadata": {},
   "outputs": [],
   "source": [
    "cols_ = [\"Preço_max\", \"Média_max\", \"Variação_max\",\n",
    "         \"Preço_sum\", \"Média_sum\", \"Variação_sum\",\n",
    "         \n",
    "         \"FS_max\", \"PE_max\", \"A_max\", \"FT_max\", \"FD_max\", \n",
    "         \"FF_max\", \"G_max\", \"I_max\", \"PP_max\", \"RB_max\", \n",
    "         \"FC_max\", \"GC_max\", \"CA_max\", \"CV_max\",\n",
    "\n",
    "         \"FS_sum\", \"PE_sum\", \"A_sum\", \"FT_sum\", \"FD_sum\", \n",
    "         \"FF_sum\", \"G_sum\", \"I_sum\", \"PP_sum\", \"RB_sum\", \n",
    "         \"FC_sum\", \"GC_sum\", \"CA_sum\", \"CV_sum\",\n",
    "\n",
    "         \"pos_first\"]\n",
    "\n",
    "X = pd.concat([gscouts.drop(columns=keys), gmercado.drop(columns=keys), gpos.drop(columns=keys)], axis=1).copy().fillna(-1.0)[cols_]\n",
    "X.columns = X.columns.str.upper()"
   ]
  },
  {
   "cell_type": "markdown",
   "metadata": {},
   "source": [
    "## caso binário"
   ]
  },
  {
   "cell_type": "code",
   "execution_count": 13,
   "metadata": {},
   "outputs": [],
   "source": [
    "scaler = MinMaxScaler()\n",
    "\n",
    "yy = pd.Categorical(1 * X[\"POS_FIRST\"] == \"ATA\").codes\n",
    "# yy = pd.Categorical(X[\"POS_FIRST\"]).codes\n",
    "xx = scaler.fit_transform( X.drop(columns=[\"POS_FIRST\"]) )"
   ]
  },
  {
   "cell_type": "code",
   "execution_count": 14,
   "metadata": {},
   "outputs": [],
   "source": [
    "x_ = X.drop(columns=[\"POS_FIRST\"]).copy()\n",
    "x_[x_.columns] = scaler.fit_transform( x_ )"
   ]
  },
  {
   "cell_type": "code",
   "execution_count": 15,
   "metadata": {},
   "outputs": [
    {
     "data": {
      "image/png": "[encoded data removed]",
      "text/plain": [
       "<Figure size 792x648 with 2 Axes>"
      ]
     },
     "metadata": {
      "needs_background": "light"
     },
     "output_type": "display_data"
    }
   ],
   "source": [
    "corr = x_.corr()\n",
    "\n",
    "mask = np.zeros_like(corr, dtype=np.bool)\n",
    "mask[np.triu_indices_from(mask)] = True\n",
    "\n",
    "f, ax = plt.subplots(figsize=(11, 9))\n",
    "\n",
    "cmap = sns.diverging_palette(220, 10, as_cmap=True)\n",
    "\n",
    "sns.heatmap(\n",
    "    corr,\n",
    "    mask=mask,\n",
    "    cmap=cmap,\n",
    "    vmax=0.3,\n",
    "    linewidths=0.5,\n",
    "    cbar_kws={\"shrink\": 0.5},\n",
    "    ax=ax,\n",
    ")"
   ]
  },
  {
   "cell_type": "markdown",
   "metadata": {},
   "source": [
    "### seleção"
   ]
  },
  {
   "cell_type": "code",
   "execution_count": 19,
   "metadata": {
    "scrolled": true,
    "tags": []
   },
   "outputs": [
    {
     "name": "stdout",
     "output_type": "stream",
     "text": [
      "Iteration: \t1 / 23\n",
      "Confirmed: \t0\n",
      "Tentative: \t34\n",
      "Rejected: \t0\n",
      "Iteration: \t2 / 23\n",
      "Confirmed: \t0\n",
      "Tentative: \t34\n",
      "Rejected: \t0\n",
      "Iteration: \t3 / 23\n",
      "Confirmed: \t0\n",
      "Tentative: \t34\n",
      "Rejected: \t0\n",
      "Iteration: \t4 / 23\n",
      "Confirmed: \t0\n",
      "Tentative: \t34\n",
      "Rejected: \t0\n",
      "Iteration: \t5 / 23\n",
      "Confirmed: \t0\n",
      "Tentative: \t34\n",
      "Rejected: \t0\n",
      "Iteration: \t6 / 23\n",
      "Confirmed: \t0\n",
      "Tentative: \t34\n",
      "Rejected: \t0\n",
      "Iteration: \t7 / 23\n",
      "Confirmed: \t0\n",
      "Tentative: \t34\n",
      "Rejected: \t0\n",
      "Iteration: \t8 / 23\n",
      "Confirmed: \t12\n",
      "Tentative: \t9\n",
      "Rejected: \t13\n",
      "Iteration: \t9 / 23\n",
      "Confirmed: \t12\n",
      "Tentative: \t9\n",
      "Rejected: \t13\n",
      "Iteration: \t10 / 23\n",
      "Confirmed: \t12\n",
      "Tentative: \t9\n",
      "Rejected: \t13\n",
      "Iteration: \t11 / 23\n",
      "Confirmed: \t12\n",
      "Tentative: \t9\n",
      "Rejected: \t13\n",
      "Iteration: \t12 / 23\n",
      "Confirmed: \t12\n",
      "Tentative: \t9\n",
      "Rejected: \t13\n",
      "Iteration: \t13 / 23\n",
      "Confirmed: \t12\n",
      "Tentative: \t8\n",
      "Rejected: \t14\n",
      "Iteration: \t14 / 23\n",
      "Confirmed: \t12\n",
      "Tentative: \t8\n",
      "Rejected: \t14\n",
      "Iteration: \t15 / 23\n",
      "Confirmed: \t12\n",
      "Tentative: \t8\n",
      "Rejected: \t14\n",
      "Iteration: \t16 / 23\n",
      "Confirmed: \t13\n",
      "Tentative: \t7\n",
      "Rejected: \t14\n",
      "Iteration: \t17 / 23\n",
      "Confirmed: \t13\n",
      "Tentative: \t7\n",
      "Rejected: \t14\n",
      "Iteration: \t18 / 23\n",
      "Confirmed: \t13\n",
      "Tentative: \t7\n",
      "Rejected: \t14\n",
      "Iteration: \t19 / 23\n",
      "Confirmed: \t13\n",
      "Tentative: \t7\n",
      "Rejected: \t14\n",
      "Iteration: \t20 / 23\n",
      "Confirmed: \t13\n",
      "Tentative: \t7\n",
      "Rejected: \t14\n",
      "Iteration: \t21 / 23\n",
      "Confirmed: \t13\n",
      "Tentative: \t7\n",
      "Rejected: \t14\n",
      "Iteration: \t22 / 23\n",
      "Confirmed: \t13\n",
      "Tentative: \t7\n",
      "Rejected: \t14\n",
      "\n",
      "\n",
      "BorutaPy finished running.\n",
      "\n",
      "Iteration: \t23 / 23\n",
      "Confirmed: \t13\n",
      "Tentative: \t5\n",
      "Rejected: \t14\n"
     ]
    },
    {
     "data": {
      "text/plain": [
       "BorutaPy(estimator=RandomForestClassifier(max_depth=10, n_estimators=63,\n",
       "                                          n_jobs=-1, oob_score=True,\n",
       "                                          random_state=RandomState(MT19937) at 0x7F96ABEB9740),\n",
       "         max_iter=23, n_estimators='auto',\n",
       "         random_state=RandomState(MT19937) at 0x7F96ABEB9740, verbose=2)"
      ]
     },
     "execution_count": 19,
     "metadata": {},
     "output_type": "execute_result"
    }
   ],
   "source": [
    "rf = RandomForestClassifier(n_jobs=-1, max_depth=10, n_estimators=500, oob_score=True)\n",
    "feat_selector = BorutaPy(rf, n_estimators='auto', verbose=2, random_state=1, max_iter=23)\n",
    "\n",
    "feat_selector.fit(x_.values, yy)"
   ]
  },
  {
   "cell_type": "code",
   "execution_count": 20,
   "metadata": {},
   "outputs": [],
   "source": [
    "accept = x_.columns[feat_selector.support_].to_list()\n",
    "irresolution = x_.columns[feat_selector.support_weak_].to_list()"
   ]
  },
  {
   "cell_type": "code",
   "execution_count": 21,
   "metadata": {},
   "outputs": [
    {
     "name": "stdout",
     "output_type": "stream",
     "text": [
      "['PREÇO_MAX', 'PREÇO_SUM', 'MÉDIA_SUM', 'FD_MAX', 'FF_MAX', 'G_MAX', 'I_MAX', 'FD_SUM', 'FF_SUM', 'G_SUM', 'I_SUM', 'FC_SUM', 'CA_SUM']\n",
      "----------------------------\n",
      "['MÉDIA_MAX', 'VARIAÇÃO_MAX', 'FS_MAX', 'RB_MAX', 'FC_MAX']\n"
     ]
    }
   ],
   "source": [
    "xx_ = feat_selector.transform(x_.values)\n",
    "\n",
    "print(list(accept))\n",
    "print('----------------------------')\n",
    "print(list(irresolution))"
   ]
  },
  {
   "cell_type": "code",
   "execution_count": 22,
   "metadata": {},
   "outputs": [
    {
     "data": {
      "text/plain": [
       "272"
      ]
     },
     "execution_count": 22,
     "metadata": {},
     "output_type": "execute_result"
    }
   ],
   "source": [
    "gc.collect()"
   ]
  },
  {
   "cell_type": "code",
   "execution_count": 23,
   "metadata": {},
   "outputs": [
    {
     "name": "stdout",
     "output_type": "stream",
     "text": [
      "(1283, 13)\n",
      "(1283,)\n"
     ]
    }
   ],
   "source": [
    "print(x_[accept].shape)\n",
    "print(yy.shape)"
   ]
  },
  {
   "cell_type": "code",
   "execution_count": 24,
   "metadata": {},
   "outputs": [
    {
     "data": {
      "text/plain": [
       "0    0.777864\n",
       "1    0.222136\n",
       "dtype: float64"
      ]
     },
     "execution_count": 24,
     "metadata": {},
     "output_type": "execute_result"
    }
   ],
   "source": [
    "pd.Series(yy).value_counts(normalize=True).sort_index()"
   ]
  },
  {
   "cell_type": "code",
   "execution_count": 25,
   "metadata": {},
   "outputs": [
    {
     "data": {
      "text/plain": [
       "0    998\n",
       "1    285\n",
       "dtype: int64"
      ]
     },
     "execution_count": 25,
     "metadata": {},
     "output_type": "execute_result"
    }
   ],
   "source": [
    "# MEI    408\n",
    "# ATA    285\n",
    "# ZAG    203\n",
    "# LAT    200\n",
    "# GOL     96\n",
    "# TEC     91\n",
    "pd.Series(yy).value_counts()"
   ]
  },
  {
   "cell_type": "code",
   "execution_count": 26,
   "metadata": {},
   "outputs": [],
   "source": [
    "# depara = {\n",
    "#     3 : \"MEI\",\n",
    "#     0 : \"ATA\",\n",
    "#     5 : \"ZAG\",\n",
    "#     2 : \"LAT\",\n",
    "#     1 : \"GOL\",\n",
    "#     4 : \"TEC\"\n",
    "# }\n",
    "depara = {\n",
    "    0 : \"NOT\",\n",
    "    1 : \"ATA\",\n",
    "}"
   ]
  },
  {
   "cell_type": "markdown",
   "metadata": {},
   "source": [
    "### `objective = 'binary'`"
   ]
  },
  {
   "cell_type": "code",
   "execution_count": 38,
   "metadata": {
    "scrolled": true,
    "tags": []
   },
   "outputs": [],
   "source": [
    "skf = StratifiedKFold(n_splits=5, shuffle=True)\n",
    "\n",
    "for train_index, test_index in skf.split(x_[accept], yy):\n",
    "    X_train, X_holdout = x_.iloc[train_index][accept], x_.iloc[test_index][accept]\n",
    "    y_train, y_holdout = yy[train_index], yy[test_index]"
   ]
  },
  {
   "cell_type": "code",
   "execution_count": 52,
   "metadata": {},
   "outputs": [],
   "source": [
    "hparams = {\n",
    "    'bagging_freq': 8,\n",
    "    'min_data_in_leaf': 47,\n",
    "    'max_depth': 12,\n",
    "    'learning_rate': 0.013471122435143618,\n",
    "    'num_threads': 1,\n",
    "    'min_sum_hessian_in_leaf': 8,\n",
    "    'lambda_l1': 1.9486675127706043,\n",
    "    'lambda_l2': 0.1118960383923103,\n",
    "    'verbosity': -1,\n",
    "    'num_threads': 5,\n",
    "    'objective': 'binary'\n",
    "}"
   ]
  },
  {
   "cell_type": "code",
   "execution_count": 53,
   "metadata": {},
   "outputs": [],
   "source": [
    "X_fit, X_val, y_fit, y_val = train_test_split(X_train, y_train)"
   ]
  },
  {
   "cell_type": "code",
   "execution_count": 54,
   "metadata": {},
   "outputs": [],
   "source": [
    "fit = lgb.Dataset(X_fit, y_fit)\n",
    "val = lgb.Dataset(X_val, y_val, reference=fit)"
   ]
  },
  {
   "cell_type": "markdown",
   "metadata": {},
   "source": [
    "<br/>"
   ]
  },
  {
   "cell_type": "code",
   "execution_count": 68,
   "metadata": {},
   "outputs": [
    {
     "name": "stdout",
     "output_type": "stream",
     "text": [
      "[LightGBM] [Warning] Accuracy may be bad since you didn't explicitly set num_leaves OR 2^max_depth > num_leaves. (num_leaves=31).\n",
      "Training until validation scores don't improve for 200 rounds\n",
      "[100]\tfit's binary_logloss: 0.3318\tval's binary_logloss: 0.379306\n",
      "[200]\tfit's binary_logloss: 0.274456\tval's binary_logloss: 0.341306\n",
      "[300]\tfit's binary_logloss: 0.246079\tval's binary_logloss: 0.328503\n",
      "[400]\tfit's binary_logloss: 0.232429\tval's binary_logloss: 0.325511\n",
      "[500]\tfit's binary_logloss: 0.223221\tval's binary_logloss: 0.327432\n",
      "Early stopping, best iteration is:\n",
      "[375]\tfit's binary_logloss: 0.235155\tval's binary_logloss: 0.325042\n"
     ]
    }
   ],
   "source": [
    "model = lgb.train(\n",
    "    params=hparams,\n",
    "\n",
    "    train_set=fit,\n",
    "    valid_sets=(fit, val),\n",
    "    valid_names=('fit', 'val'),\n",
    "\n",
    "    num_boost_round=10000,\n",
    "    early_stopping_rounds=200,\n",
    "    verbose_eval=100\n",
    ")"
   ]
  },
  {
   "cell_type": "code",
   "execution_count": 69,
   "metadata": {},
   "outputs": [
    {
     "name": "stdout",
     "output_type": "stream",
     "text": [
      "              precision    recall  f1-score   support\n",
      "\n",
      "           0       0.88      0.96      0.92       199\n",
      "           1       0.80      0.56      0.66        57\n",
      "\n",
      "    accuracy                           0.87       256\n",
      "   macro avg       0.84      0.76      0.79       256\n",
      "weighted avg       0.87      0.87      0.86       256\n",
      "\n",
      "0.7963847353050963\n",
      "0.7606012518734021\n",
      "0.03578348343169424\n"
     ]
    }
   ],
   "source": [
    "y_pred_train = np.where(model.predict(X_train) > 0.5, 1, 0)\n",
    "y_pred_holdout = np.where(model.predict(X_holdout) > 0.5, 1, 0)\n",
    "y_prob_holdout = model.predict(X_holdout)\n",
    "\n",
    "metrica_t = balanced_accuracy_score(y_train, y_pred_train)\n",
    "metrica_h = balanced_accuracy_score(y_holdout, y_pred_holdout)\n",
    "metrica_d = metrica_t-metrica_h\n",
    "\n",
    "print(classification_report(y_holdout, y_pred_holdout))\n",
    "\n",
    "print(metrica_t)\n",
    "print(metrica_h)\n",
    "print(metrica_d)"
   ]
  },
  {
   "cell_type": "markdown",
   "metadata": {},
   "source": [
    "#### reconstruindo objetiva"
   ]
  },
  {
   "cell_type": "code",
   "execution_count": 72,
   "metadata": {},
   "outputs": [],
   "source": [
    "def logloss_objective(pred, train):\n",
    "    y = train.get_label()\n",
    "    p = special.expit(pred)\n",
    "    grad = p-y\n",
    "    hess = p * (1-p)\n",
    "    return grad, hess"
   ]
  },
  {
   "cell_type": "code",
   "execution_count": 79,
   "metadata": {},
   "outputs": [],
   "source": [
    "def logloss_metric(pred, train):\n",
    "    y = train.get_label()\n",
    "    p = special.expit(pred)\n",
    "    \n",
    "    ll = np.empty_like(p)\n",
    "    pos = y==1\n",
    "    ll[pos] = np.log(p[pos])\n",
    "    ll[~pos] = np.log(1 - p[~pos])\n",
    "    \n",
    "    is_higher_better = False\n",
    "    return 'logloss', -ll.mean(), is_higher_better"
   ]
  },
  {
   "cell_type": "markdown",
   "metadata": {},
   "source": [
    "<br/>"
   ]
  },
  {
   "cell_type": "markdown",
   "metadata": {},
   "source": [
    "as funções acima são reflexo do fato de no framework do **empirical risk minimization**, representado a grosso modo por\n",
    "\n",
    "$$ \\mathop{\\mathrm{argmin}}\\limits_{\\theta} R(h_\\theta) : R(h)= E\\left[\\mathcal{L}\\left(h(x), y\\right)\\right] = \\int \\mathcal{L}\\left(h(x), y\\right) dP(x,y) \\sim R_{\\text{emp}}(h) = \\frac{1}{n}\\sum_{i}^{n} \\mathcal{L}\\left(h(x_i), y_i\\right)$$\n",
    "\n",
    "o problema de classificação binária em geral ter a função perda\n",
    "\n",
    "$$ \\mathcal{L} = -\\sum_{i}^{n} y_i log(\\hat{p_i}) + (1-\\hat{p_i})log(1-\\hat{p_i}) = -y_ilog(\\text{odds}) + log\\left(1 + e^{log(\\text{odds})}\\right) \\qquad \\left( \\text{odds}=\\frac{\\hat{p_i}}{1-\\hat{p_i}} \\right)$$\n",
    "\n",
    "e o algoritmo de otimização ser baseado em atualizações calculadas a partir das duas primeiras derivadas da função perda\n",
    "\n",
    "$$ \\nabla_{log(\\text{odds})} \\mathcal{L} = -y_i + \\frac{e^{log(\\text{odds})}}{1+e^{log(\\text{odds})}} =-y_i + \\hat{p_i}$$\n",
    "\n",
    "e\n",
    "\n",
    "$$ \\nabla_{log(\\text{odds})}^2 \\mathcal{L} = \\frac{e^{log(\\text{odds})}}{(1+e^{log(\\text{odds})})^2} =\\hat{p_i}\\frac{1}{(1+e^{log(\\text{odds})})} = \\hat{p_i}(1-\\hat{p_i})$$"
   ]
  },
  {
   "cell_type": "markdown",
   "metadata": {},
   "source": [
    "<br/>"
   ]
  },
  {
   "cell_type": "code",
   "execution_count": 80,
   "metadata": {},
   "outputs": [],
   "source": [
    "hparams = {\n",
    "    'bagging_freq': 8,\n",
    "    'min_data_in_leaf': 47,\n",
    "    'max_depth': 12,\n",
    "    'learning_rate': 0.013471122435143618,\n",
    "    'num_threads': 1,\n",
    "    'min_sum_hessian_in_leaf': 8,\n",
    "    'lambda_l1': 1.9486675127706043,\n",
    "    'lambda_l2': 0.1118960383923103,\n",
    "    'verbosity': -1,\n",
    "    'num_threads': 5\n",
    "}"
   ]
  },
  {
   "cell_type": "code",
   "execution_count": 81,
   "metadata": {},
   "outputs": [
    {
     "name": "stdout",
     "output_type": "stream",
     "text": [
      "[LightGBM] [Warning] Accuracy may be bad since you didn't explicitly set num_leaves OR 2^max_depth > num_leaves. (num_leaves=31).\n",
      "Training until validation scores don't improve for 200 rounds\n",
      "[100]\tfit's logloss: 0.376883\tval's logloss: 0.410359\n",
      "[200]\tfit's logloss: 0.293264\tval's logloss: 0.351781\n",
      "[300]\tfit's logloss: 0.255334\tval's logloss: 0.333917\n",
      "[400]\tfit's logloss: 0.237752\tval's logloss: 0.326833\n",
      "[500]\tfit's logloss: 0.227265\tval's logloss: 0.327809\n",
      "[600]\tfit's logloss: 0.219783\tval's logloss: 0.328096\n",
      "Early stopping, best iteration is:\n",
      "[417]\tfit's logloss: 0.235623\tval's logloss: 0.32639\n"
     ]
    }
   ],
   "source": [
    "model = lgb.train(\n",
    "    params=hparams,\n",
    "\n",
    "    train_set=fit,\n",
    "    valid_sets=(fit, val),\n",
    "    valid_names=('fit', 'val'),\n",
    "\n",
    "    num_boost_round=10000,\n",
    "    early_stopping_rounds=200,\n",
    "    verbose_eval=100,\n",
    "    fobj=logloss_objective,\n",
    "    feval=logloss_metric\n",
    ")"
   ]
  },
  {
   "cell_type": "code",
   "execution_count": 82,
   "metadata": {},
   "outputs": [
    {
     "name": "stdout",
     "output_type": "stream",
     "text": [
      "              precision    recall  f1-score   support\n",
      "\n",
      "           0       0.88      0.96      0.92       199\n",
      "           1       0.82      0.54      0.65        57\n",
      "\n",
      "    accuracy                           0.87       256\n",
      "   macro avg       0.85      0.75      0.79       256\n",
      "weighted avg       0.87      0.87      0.86       256\n",
      "\n",
      "0.7948175350767407\n",
      "0.7543418848629111\n",
      "0.040475650213829595\n"
     ]
    }
   ],
   "source": [
    "y_pred_train = np.where(special.expit(model.predict(X_train)) > 0.5, 1, 0)\n",
    "y_pred_holdout = np.where(special.expit(model.predict(X_holdout)) > 0.5, 1, 0)\n",
    "y_prob_holdout = special.expit(model.predict(X_holdout))\n",
    "\n",
    "metrica_t = balanced_accuracy_score(y_train, y_pred_train)\n",
    "metrica_h = balanced_accuracy_score(y_holdout, y_pred_holdout)\n",
    "metrica_d = metrica_t-metrica_h\n",
    "\n",
    "print(classification_report(y_holdout, y_pred_holdout))\n",
    "\n",
    "print(metrica_t)\n",
    "print(metrica_h)\n",
    "print(metrica_d)"
   ]
  },
  {
   "cell_type": "markdown",
   "metadata": {},
   "source": [
    "<br/>"
   ]
  },
  {
   "cell_type": "markdown",
   "metadata": {},
   "source": [
    "default\n",
    "```\n",
    "[LightGBM] [Warning] Accuracy may be bad since you didn't explicitly set num_leaves OR 2^max_depth > num_leaves. (num_leaves=31).\n",
    "Training until validation scores don't improve for 200 rounds\n",
    "[100]\tfit's binary_logloss: 0.3318\tval's binary_logloss: 0.379306\n",
    "[200]\tfit's binary_logloss: 0.274456\tval's binary_logloss: 0.341306\n",
    "[300]\tfit's binary_logloss: 0.246079\tval's binary_logloss: 0.328503\n",
    "[400]\tfit's binary_logloss: 0.232429\tval's binary_logloss: 0.325511\n",
    "[500]\tfit's binary_logloss: 0.223221\tval's binary_logloss: 0.327432\n",
    "Early stopping, best iteration is:\n",
    "[375]\tfit's binary_logloss: 0.235155\tval's binary_logloss: 0.325042\n",
    "\n",
    "- - -\n",
    "\n",
    "              precision    recall  f1-score   support\n",
    "\n",
    "           0       0.88      0.96      0.92       199\n",
    "           1       0.80      0.56      0.66        57\n",
    "\n",
    "    accuracy                           0.87       256\n",
    "   macro avg       0.84      0.76      0.79       256\n",
    "weighted avg       0.87      0.87      0.86       256\n",
    "\n",
    "0.7963847353050963\n",
    "0.7606012518734021\n",
    "0.03578348343169424\n",
    "```\n",
    "\n",
    "custom\n",
    "```\n",
    "[LightGBM] [Warning] Accuracy may be bad since you didn't explicitly set num_leaves OR 2^max_depth > num_leaves. (num_leaves=31).\n",
    "Training until validation scores don't improve for 200 rounds\n",
    "[100]\tfit's logloss: 0.376883\tval's logloss: 0.410359\n",
    "[200]\tfit's logloss: 0.293264\tval's logloss: 0.351781\n",
    "[300]\tfit's logloss: 0.255334\tval's logloss: 0.333917\n",
    "[400]\tfit's logloss: 0.237752\tval's logloss: 0.326833\n",
    "[500]\tfit's logloss: 0.227265\tval's logloss: 0.327809\n",
    "[600]\tfit's logloss: 0.219783\tval's logloss: 0.328096\n",
    "Early stopping, best iteration is:\n",
    "[417]\tfit's logloss: 0.235623\tval's logloss: 0.32639\n",
    "\n",
    "- - -\n",
    "\n",
    "              precision    recall  f1-score   support\n",
    "\n",
    "           0       0.88      0.96      0.92       199\n",
    "           1       0.82      0.54      0.65        57\n",
    "\n",
    "    accuracy                           0.87       256\n",
    "   macro avg       0.85      0.75      0.79       256\n",
    "weighted avg       0.87      0.87      0.86       256\n",
    "\n",
    "0.7948175350767407\n",
    "0.7543418848629111\n",
    "0.040475650213829595\n",
    "```"
   ]
  },
  {
   "cell_type": "markdown",
   "metadata": {},
   "source": [
    "<br/>"
   ]
  },
  {
   "cell_type": "markdown",
   "metadata": {},
   "source": [
    "#### discussão sobre o TERM\n",
    "\n",
    "uma alternativa ao ERM é o TERM, representado a grosso modo por\n",
    "\n",
    "$$R_{\\text{emp}}(h) = \\frac{1}{n}\\sum_{i}^{n} \\mathcal{L}\\left(h(x_i), y_i\\right) \\longrightarrow \\tilde{R}_{\\text{emp}}(h,t) = \\frac{1}{t} log \\left( \\frac{1}{n} \\sum_{i}^{n} e^{ t \\mathcal{L}\\left(h(x_i), y_i\\right)} \\right)$$"
   ]
  },
  {
   "cell_type": "markdown",
   "metadata": {},
   "source": [
    "."
   ]
  }
 ],
 "metadata": {
  "colab": {
   "collapsed_sections": [],
   "name": "anotacoes.ipynb",
   "provenance": [],
   "toc_visible": true
  },
  "kernelspec": {
   "display_name": "Python 3",
   "language": "python",
   "name": "python3"
  },
  "language_info": {
   "codemirror_mode": {
    "name": "ipython",
    "version": 3
   },
   "file_extension": ".py",
   "mimetype": "text/x-python",
   "name": "python",
   "nbconvert_exporter": "python",
   "pygments_lexer": "ipython3",
   "version": "3.8.10"
  },
  "toc": {
   "base_numbering": 1,
   "nav_menu": {},
   "number_sections": true,
   "sideBar": true,
   "skip_h1_title": false,
   "title_cell": "Table of Contents",
   "title_sidebar": "Contents",
   "toc_cell": true,
   "toc_position": {
    "height": "calc(100% - 180px)",
    "left": "10px",
    "top": "150px",
    "width": "276.267px"
   },
   "toc_section_display": true,
   "toc_window_display": false
  }
 },
 "nbformat": 4,
 "nbformat_minor": 4
}
