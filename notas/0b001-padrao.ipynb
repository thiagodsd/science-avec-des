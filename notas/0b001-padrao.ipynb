{
 "cells": [
  {
   "cell_type": "markdown",
   "id": "engaging-comment",
   "metadata": {},
   "source": [
    "# euclat"
   ]
  },
  {
   "cell_type": "markdown",
   "id": "wooden-criterion",
   "metadata": {},
   "source": [
    "## teoria"
   ]
  },
  {
   "cell_type": "markdown",
   "id": "dedicated-tyler",
   "metadata": {},
   "source": [
    "## codigo"
   ]
  },
  {
   "cell_type": "markdown",
   "id": "moving-thompson",
   "metadata": {},
   "source": [
    "# apriori"
   ]
  },
  {
   "cell_type": "markdown",
   "id": "partial-magazine",
   "metadata": {},
   "source": [
    "## teoria"
   ]
  },
  {
   "cell_type": "markdown",
   "id": "infrared-republic",
   "metadata": {},
   "source": [
    "## codigo"
   ]
  },
  {
   "cell_type": "markdown",
   "id": "discrete-retail",
   "metadata": {},
   "source": [
    "# fp-growth"
   ]
  },
  {
   "cell_type": "markdown",
   "id": "circular-offense",
   "metadata": {},
   "source": [
    "## teoria"
   ]
  },
  {
   "cell_type": "markdown",
   "id": "shaped-grave",
   "metadata": {},
   "source": [
    "## codigo"
   ]
  }
 ],
 "metadata": {
  "kernelspec": {
   "display_name": "Python 3",
   "language": "python",
   "name": "python3"
  },
  "language_info": {
   "codemirror_mode": {
    "name": "ipython",
    "version": 3
   },
   "file_extension": ".py",
   "mimetype": "text/x-python",
   "name": "python",
   "nbconvert_exporter": "python",
   "pygments_lexer": "ipython3",
   "version": "3.8.5"
  }
 },
 "nbformat": 4,
 "nbformat_minor": 5
}
