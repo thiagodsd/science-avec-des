{
 "cells": [
  {
   "cell_type": "markdown",
   "id": "genetic-preview",
   "metadata": {},
   "source": [
    "# sne"
   ]
  },
  {
   "cell_type": "markdown",
   "id": "wanted-invasion",
   "metadata": {},
   "source": [
    "## teoria"
   ]
  },
  {
   "cell_type": "markdown",
   "id": "smart-tonight",
   "metadata": {},
   "source": [
    "## codigo"
   ]
  },
  {
   "cell_type": "markdown",
   "id": "three-passenger",
   "metadata": {},
   "source": [
    "# pca"
   ]
  },
  {
   "cell_type": "markdown",
   "id": "raising-apparatus",
   "metadata": {},
   "source": [
    "## teoria"
   ]
  },
  {
   "cell_type": "markdown",
   "id": "young-chester",
   "metadata": {},
   "source": [
    "## codigo"
   ]
  },
  {
   "cell_type": "markdown",
   "id": "acquired-invite",
   "metadata": {},
   "source": [
    "# lsa"
   ]
  },
  {
   "cell_type": "markdown",
   "id": "wrapped-evolution",
   "metadata": {},
   "source": [
    "## teoria"
   ]
  },
  {
   "cell_type": "markdown",
   "id": "decimal-oxygen",
   "metadata": {},
   "source": [
    "## codigo"
   ]
  },
  {
   "cell_type": "markdown",
   "id": "sunrise-textbook",
   "metadata": {},
   "source": [
    "# svd"
   ]
  },
  {
   "cell_type": "markdown",
   "id": "velvet-watts",
   "metadata": {},
   "source": [
    "## teoria"
   ]
  },
  {
   "cell_type": "markdown",
   "id": "exclusive-marina",
   "metadata": {},
   "source": [
    "## codigo"
   ]
  },
  {
   "cell_type": "markdown",
   "id": "usual-italy",
   "metadata": {},
   "source": [
    "# lda"
   ]
  },
  {
   "cell_type": "markdown",
   "id": "pregnant-content",
   "metadata": {},
   "source": [
    "## teoria"
   ]
  },
  {
   "cell_type": "markdown",
   "id": "japanese-titanium",
   "metadata": {},
   "source": [
    "## codigo"
   ]
  }
 ],
 "metadata": {
  "kernelspec": {
   "display_name": "Python 3",
   "language": "python",
   "name": "python3"
  },
  "language_info": {
   "codemirror_mode": {
    "name": "ipython",
    "version": 3
   },
   "file_extension": ".py",
   "mimetype": "text/x-python",
   "name": "python",
   "nbconvert_exporter": "python",
   "pygments_lexer": "ipython3",
   "version": "3.8.5"
  }
 },
 "nbformat": 4,
 "nbformat_minor": 5
}
