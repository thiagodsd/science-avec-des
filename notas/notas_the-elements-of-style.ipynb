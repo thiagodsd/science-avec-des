{
 "cells": [
  {
   "cell_type": "markdown",
   "id": "opening-child",
   "metadata": {},
   "source": [
    "projeto"
   ]
  },
  {
   "cell_type": "markdown",
   "id": "three-liverpool",
   "metadata": {},
   "source": [
    "```\n",
    ".\n",
    "├── input\n",
    "│   ├── treino.csv\n",
    "│   └── teste.csv\n",
    "├── src\n",
    "│   ├── folds.py\n",
    "│   ├── dataprep.py\n",
    "│   ├── modelo.py\n",
    "│   └── config.py\n",
    "├── modelos\n",
    "│   ├── rf.pkl\n",
    "│   └── lgb.pkl\n",
    "├── notebooks\n",
    "│   ├── eda.ipynb\n",
    "│   ├── dataprep.ipynb\n",
    "│   ├── modelo.ipynb\n",
    "│   └── analise.ipynb\n",
    "├── output\n",
    "│   ├── plot_roc_auc.png\n",
    "│   ├── plot_importance.png\n",
    "│   └── scored.csv\n",
    "└── README.md\n",
    "```"
   ]
  },
  {
   "cell_type": "markdown",
   "id": "first-windows",
   "metadata": {},
   "source": [
    "- - -\n",
    "\n",
    "**stratified k-fold for regression**: divide os valores em bins\n",
    "\n",
    "+ pra muitas observações, não importa o número de bins\n",
    "+ pra poucas observações Sturge's Rule $$ \\text{#}_{\\text{bins}} = 1 + log_2 N $$ "
   ]
  },
  {
   "cell_type": "code",
   "execution_count": null,
   "id": "active-prince",
   "metadata": {},
   "outputs": [],
   "source": []
  }
 ],
 "metadata": {
  "kernelspec": {
   "display_name": "Python 3",
   "language": "python",
   "name": "python3"
  },
  "language_info": {
   "codemirror_mode": {
    "name": "ipython",
    "version": 3
   },
   "file_extension": ".py",
   "mimetype": "text/x-python",
   "name": "python",
   "nbconvert_exporter": "python",
   "pygments_lexer": "ipython3",
   "version": "3.8.5"
  }
 },
 "nbformat": 4,
 "nbformat_minor": 5
}
