{
 "cells": [
  {
   "cell_type": "markdown",
   "id": "better-decline",
   "metadata": {},
   "source": [
    "# via construção axiomática de kolmogorov\n",
    "\n",
    "Dados eventos $A_1, A_2, \\dots ,A_n \\in \\mathcal{A}$, disjuntos, em que $\\mathcal{A}$ é uma $\\sigma$-álgebra do conjunto $\\Omega$, denotando $P(A_i)$ a probabilidade de $A_i$, segue uma função $P$ definida em $\\mathcal{A}$ satisfazendo\n",
    "\n",
    "A1. $P(A) \\geq 0$\n",
    "\n",
    "A2. $P(\\Omega) = 1$\n",
    "\n",
    "A3. $P \\left( \\bigcup_{n=1}^{\\infty} A_n \\right) = \\sum_{n=1}^{\\infty} P(A_n)$\n",
    "\n",
    "é chamada **medida de probabilidade** em $\\mathcal{A}$ e satisfaz as seguintes propriedades\n",
    "\n",
    "P1. $P(A^c) = 1 - P(A)$\n",
    "\n",
    "P2. $0 \\leq P(a) \\leq 1$\n",
    "\n",
    "P3. $A_1 \\subset A_2 \\Rightarrow P(A_1) \\leq P(A_2)$\n",
    "\n",
    "P4. $P \\left( \\bigcup_{i=1}^{\\infty} A_i \\right) \\leq \\sum_{i=1}^{\\infty} P(A_i)$\n",
    "\n",
    "P5. $A_n \\uparrow A \\Rightarrow P(A_n) \\uparrow P(A) \\qquad e \\qquad A_n \\downarrow A \\Rightarrow P(A_n) \\downarrow P(A)$"
   ]
  },
  {
   "cell_type": "markdown",
   "id": "under-discretion",
   "metadata": {},
   "source": [
    "## probabilidade condicional\n",
    "\n",
    "A probabilidade condicional do evento $A$ dada observação de $B$ pode ser definida como\n",
    "\n",
    "$$P(A  \\mid  B) = \\frac{P(A \\cap B)}{P(B)}$$\n",
    "\n",
    "expresando um resultado intuitivo: dados $n$ ensaios independentes de $A$ e $B$, no limite de $n \\to \\infty$ é razoável que\n",
    "\n",
    "$$P(A \\mid B) \\sim \\frac{1}{n} \\left( \\frac{\\text{# ocorrências de A e B}}{\\text{# ocorrências de B}} \\right)$$\n",
    "\n",
    "Disso segue que\n",
    "\n",
    "- $P(A \\cap B) = P(B)P(A \\mid B)$\n",
    "- $P(A \\cap B \\cap C) = P(A)P(B \\mid A)P(C \\mid A \\cap B)$\n",
    "\n",
    "esse segundo resultando podendo ser generalizado para o **teorema da probabilidade composta**, onde vale que\n",
    "\n",
    "$$P(A_1 \\cap \\dots \\cap A_n) = P(A_1)P(A_2  \\mid  A_1)P(A_3 \\mid A_1 \\cap A_2) \\dots P(A_n  \\mid  A_1 \\cap \\dots \\cap A_{n-1})$$\n",
    "\n",
    "Dada a disjuntividade dos $A_i$, um evento $B \\in \\mathcal{A}$ pode ser representado como \n",
    "\n",
    "$$B = \\bigcup_i \\left( A_i \\cap B \\right)$$\n",
    "\n",
    "consequentemente\n",
    "\n",
    "$$P(B) = \\sum_i P(A_i \\cap B) = \\sum_i P(A_i)P(B \\mid A_i)$$"
   ]
  },
  {
   "cell_type": "markdown",
   "id": "utility-hammer",
   "metadata": {},
   "source": [
    "## fórmula de bayes\n",
    "\n",
    "Combinando os resultados anteriores segue a fórmula de Bayes\n",
    "\n",
    "$$ P(A_i  \\mid  B) = \\frac{P(A_i \\cap B)}{P(B)} = \\boxed{ \\frac{P(A_i)P(B \\mid A_i)}{\\sum_j P(A_j)P(B \\mid A_j)} } $$"
   ]
  },
  {
   "cell_type": "markdown",
   "id": "nervous-ordering",
   "metadata": {},
   "source": [
    "# via _ensemble_\n",
    "\n",
    "definindo **ensemble** como o conjunto $$ X = (x, A_x, P_x) $$ em que a variável $x$ pode assumir os valores $$A_x = \\{ a_1, \\dots, a_n \\}$$ com probabilidades $$P_x = \\{ p_1, \\dots, p_n \\}$$ de modo que \n",
    "$$\\left\\{\\begin{matrix}\n",
    "P(x=a_i)                      = p_i \\\\ \n",
    "\\sum_{a_i \\in A_x} P(x = a_i) = 1\n",
    "\\end{matrix}\\right.$$\n",
    "\n",
    "o **joint ensemble** $XY$ pode ser definido de forma análoga, de onde emerge a **probabilidade conjunta** $$P(x,y)$$\n",
    "\n",
    "e a partir disso é possível atribuir as seguintes propriedades."
   ]
  },
  {
   "cell_type": "markdown",
   "id": "ruled-basis",
   "metadata": {},
   "source": [
    "## propriedades"
   ]
  },
  {
   "cell_type": "markdown",
   "id": "quiet-competition",
   "metadata": {},
   "source": [
    "+ **probabilidade marginal** $$P(x) = P(x=a_i) = \\sum_{b_j \\in A_y} P(x=a_i, y=b_j)$$\n",
    "+ **probabilidade condicional** $$P(x=a_i | y=b_j) = \\frac{P(x=a_i, y=b_j)}{P(y=b_j)}$$"
   ]
  },
  {
   "cell_type": "markdown",
   "id": "democratic-seminar",
   "metadata": {},
   "source": [
    "## regras"
   ]
  },
  {
   "cell_type": "markdown",
   "id": "funky-pregnancy",
   "metadata": {},
   "source": [
    "+ **regra do produto** $$P(x,y \\mid \\mathcal{H}) = P(x \\mid y, \\mathcal{H})P(y \\mid \\mathcal{H}) = P(y \\mid x, \\mathcal{H})P(x \\mid \\mathcal{H})$$\n",
    "+ **regra da soma** $$P(x \\mid \\mathcal{H}) = \\sum_{y}P(x,y \\mid \\mathcal{H}) = \\sum_{y}P(x \\mid y, \\mathcal{H})P(y \\mid \\mathcal{H})$$"
   ]
  },
  {
   "cell_type": "markdown",
   "id": "conservative-webcam",
   "metadata": {},
   "source": [
    "## fórmula de bayes\n",
    "\n",
    "$$ P(y \\mid x, \\mathcal{H}) = \\frac{P(x \\mid y, \\mathcal{H})P(y \\mid \\mathcal{H})}{P(x \\mid \\mathcal{H})} = \\boxed{ \\frac{P(x \\mid y, \\mathcal{H})P(y \\mid \\mathcal{H})}{\\sum_{y^\\prime} P(x \\mid y^\\prime , \\mathcal{H})P(y^\\prime \\mid \\mathcal{H})} } = \\frac{\\text{likelihood} \\times \\text{prior}}{\\text{evidence}} $$\n",
    "\n",
    "pensando em um modelo discriminativo, a fórmula de bayes pode ser reescrita como $$ P(y \\mid \\theta, \\mathcal{D}, \\mathcal{H}) = \\frac{P(\\mathcal{D} \\mid \\theta, y, \\mathcal{H})P(y \\mid \\theta,  \\mathcal{H})}{P(\\mathcal{D} \\mid \\theta, \\mathcal{H})} $$"
   ]
  },
  {
   "cell_type": "markdown",
   "id": "utility-parent",
   "metadata": {},
   "source": [
    "# conexões com teoria da informação\n",
    "\n",
    "![ref: [How Claude Shannon’s Information Theory Invented the Future](https://www.quantamagazine.org/how-claude-shannons-information-theory-invented-the-future-20201222/)](https://d2r55xnwy6nx47.cloudfront.net/uploads/2020/12/Shannon-Communication_v1.jpg)\n",
    "\n",
    "no contexto de teoria da informação, em que informação é pensada em um conjunto das possíveis mensagens a serem transmitidas por um canal ruidoso, a noção de **conteúdo informacional** de um evento $e_i$ é pensada como a surpresa associada a uma informação, então uma das formas de definir isso é que o conteúdo informacional (ou \"informação\", para simplificar), é uma função da probabilidade do evento onde há um vínculo de proporcionalidade inversa, ou seja\n",
    "\n",
    "$$ \\mathcal{I}(e_i) = f(P(e_i))  \\left\\{\\begin{matrix}\n",
    "P(e_i) \\to 1 \\rightarrow \\mathcal{I}(e_i) \\to 0 \\\\ \n",
    "P(e_i) \\to 0 \\rightarrow \\mathcal{I}(e_i) > 0\n",
    "\\end{matrix}\\right.$$\n",
    "\n",
    "no caso limite quando o evento é conhecido previamente a informação devido a ele é nula.\n",
    "\n",
    "para que $\\mathcal{I}$ seja consistente é preciso que possua algumas outras propriedades, sendo uma delas a aditividade, ou seja $$ \\mathcal{I}(A \\cup B) =  \\mathcal{I}(A) + \\mathcal{I}(B)$$ que impõe a seguinte propriedade para $f$ $$ \\mathcal{I}(A \\cup B) = f(P(A \\cup B)) = f(P(A)P(B)) \\overset{!}{=} f(P(A)) + f(P(B))$$\n",
    "\n",
    "uma possível funcão que possui essas propriedades é $$f(x) = a \\cdot log_b (x)$$ e como $p(x) \\in [0,1]$ então para que $\\mathcal{I} >0$ é necessário que $a<0$, então $$ \\boxed{\\mathcal{I}(e) = -log_b (P(e)) = \\log_b \\left( \\frac{1}{P(e)} \\right)} $$"
   ]
  },
  {
   "cell_type": "markdown",
   "id": "developed-mediterranean",
   "metadata": {},
   "source": [
    "## entropia"
   ]
  },
  {
   "cell_type": "markdown",
   "id": "welcome-lambda",
   "metadata": {},
   "source": [
    "finalmente shannon define a entropia como o valor esperado do conteúdo informacional (ou \"surpresa\", ou \"_self-information_\"), que pela _law of the unconscious statistician_ é $$ H(e) \\equiv E \\left[ \\mathcal{I}(e) \\right] = E \\left[ -log_b(P(e)) \\right] = \\sum_e -log_b(P(e)) P(e) = - \\sum_e P(e)log_b(P(e)) $$"
   ]
  }
 ],
 "metadata": {
  "kernelspec": {
   "display_name": "Python 3",
   "language": "python",
   "name": "python3"
  },
  "language_info": {
   "codemirror_mode": {
    "name": "ipython",
    "version": 3
   },
   "file_extension": ".py",
   "mimetype": "text/x-python",
   "name": "python",
   "nbconvert_exporter": "python",
   "pygments_lexer": "ipython3",
   "version": "3.8.5"
  },
  "toc-autonumbering": true
 },
 "nbformat": 4,
 "nbformat_minor": 5
}
