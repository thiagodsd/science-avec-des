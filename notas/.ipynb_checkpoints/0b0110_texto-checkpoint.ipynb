{
 "cells": [
  {
   "cell_type": "code",
   "execution_count": 1,
   "id": "bottom-force",
   "metadata": {},
   "outputs": [],
   "source": [
    "import numpy  as np\n",
    "import pandas as pd\n",
    "import gc\n",
    "import pprint\n",
    "import hashlib\n",
    "\n",
    "%matplotlib inline\n",
    "import matplotlib.pyplot as plt\n",
    "import seaborn           as sns\n",
    "\n",
    "from IPython.display import display"
   ]
  },
  {
   "cell_type": "code",
   "execution_count": 2,
   "id": "norman-newman",
   "metadata": {},
   "outputs": [],
   "source": [
    "class bcolors:\n",
    "    HEADER    = '\\033[95m'\n",
    "    OKBLUE    = '\\033[94m'\n",
    "    OKCYAN    = '\\033[96m'\n",
    "    OKGREEN   = '\\033[92m'\n",
    "    WARNING   = '\\033[93m'\n",
    "    FAIL      = '\\033[91m'\n",
    "    ENDC      = '\\033[0m'\n",
    "    BOLD      = '\\033[1m'\n",
    "    UNDERLINE = '\\033[4m'"
   ]
  },
  {
   "cell_type": "markdown",
   "id": "destroyed-premiere",
   "metadata": {},
   "source": [
    "- - -"
   ]
  },
  {
   "cell_type": "code",
   "execution_count": 3,
   "id": "preliminary-remains",
   "metadata": {},
   "outputs": [],
   "source": [
    "treino = pd.read_csv('~/Documents/data/movie-review-sentiment-analysis/train.tsv', delimiter=\"\\t\")\n",
    "teste  = pd.read_csv('~/Documents/data/movie-review-sentiment-analysis/test.tsv', delimiter=\"\\t\")\n",
    "sample = pd.read_csv('~/Documents/data/movie-review-sentiment-analysis/sampleSubmission.csv')"
   ]
  },
  {
   "cell_type": "code",
   "execution_count": 4,
   "id": "previous-continuity",
   "metadata": {},
   "outputs": [
    {
     "data": {
      "text/html": [
       "<div>\n",
       "<style scoped>\n",
       "    .dataframe tbody tr th:only-of-type {\n",
       "        vertical-align: middle;\n",
       "    }\n",
       "\n",
       "    .dataframe tbody tr th {\n",
       "        vertical-align: top;\n",
       "    }\n",
       "\n",
       "    .dataframe thead th {\n",
       "        text-align: right;\n",
       "    }\n",
       "</style>\n",
       "<table border=\"1\" class=\"dataframe\">\n",
       "  <thead>\n",
       "    <tr style=\"text-align: right;\">\n",
       "      <th></th>\n",
       "      <th>PhraseId</th>\n",
       "      <th>SentenceId</th>\n",
       "      <th>Phrase</th>\n",
       "      <th>Sentiment</th>\n",
       "    </tr>\n",
       "  </thead>\n",
       "  <tbody>\n",
       "    <tr>\n",
       "      <th>43294</th>\n",
       "      <td>43295</td>\n",
       "      <td>2091</td>\n",
       "      <td>staggers in terms of story .</td>\n",
       "      <td>1</td>\n",
       "    </tr>\n",
       "    <tr>\n",
       "      <th>94883</th>\n",
       "      <td>94884</td>\n",
       "      <td>4951</td>\n",
       "      <td>mainstream foreign mush</td>\n",
       "      <td>1</td>\n",
       "    </tr>\n",
       "    <tr>\n",
       "      <th>6228</th>\n",
       "      <td>6229</td>\n",
       "      <td>248</td>\n",
       "      <td>Sillier , cuter ,</td>\n",
       "      <td>3</td>\n",
       "    </tr>\n",
       "    <tr>\n",
       "      <th>93451</th>\n",
       "      <td>93452</td>\n",
       "      <td>4872</td>\n",
       "      <td>prevent itself from succumbing to its own bathos</td>\n",
       "      <td>2</td>\n",
       "    </tr>\n",
       "    <tr>\n",
       "      <th>78637</th>\n",
       "      <td>78638</td>\n",
       "      <td>4047</td>\n",
       "      <td>actor and director</td>\n",
       "      <td>2</td>\n",
       "    </tr>\n",
       "  </tbody>\n",
       "</table>\n",
       "</div>"
      ],
      "text/plain": [
       "       PhraseId  SentenceId                                            Phrase  \\\n",
       "43294     43295        2091                      staggers in terms of story .   \n",
       "94883     94884        4951                           mainstream foreign mush   \n",
       "6228       6229         248                                 Sillier , cuter ,   \n",
       "93451     93452        4872  prevent itself from succumbing to its own bathos   \n",
       "78637     78638        4047                                actor and director   \n",
       "\n",
       "       Sentiment  \n",
       "43294          1  \n",
       "94883          1  \n",
       "6228           3  \n",
       "93451          2  \n",
       "78637          2  "
      ]
     },
     "metadata": {},
     "output_type": "display_data"
    },
    {
     "data": {
      "text/html": [
       "<div>\n",
       "<style scoped>\n",
       "    .dataframe tbody tr th:only-of-type {\n",
       "        vertical-align: middle;\n",
       "    }\n",
       "\n",
       "    .dataframe tbody tr th {\n",
       "        vertical-align: top;\n",
       "    }\n",
       "\n",
       "    .dataframe thead th {\n",
       "        text-align: right;\n",
       "    }\n",
       "</style>\n",
       "<table border=\"1\" class=\"dataframe\">\n",
       "  <thead>\n",
       "    <tr style=\"text-align: right;\">\n",
       "      <th></th>\n",
       "      <th>PhraseId</th>\n",
       "      <th>SentenceId</th>\n",
       "      <th>Phrase</th>\n",
       "    </tr>\n",
       "  </thead>\n",
       "  <tbody>\n",
       "    <tr>\n",
       "      <th>50026</th>\n",
       "      <td>206087</td>\n",
       "      <td>10957</td>\n",
       "      <td>Determined to be fun , and bouncy , with energ...</td>\n",
       "    </tr>\n",
       "    <tr>\n",
       "      <th>59776</th>\n",
       "      <td>215837</td>\n",
       "      <td>11499</td>\n",
       "      <td>a better film than his earlier English-languag...</td>\n",
       "    </tr>\n",
       "    <tr>\n",
       "      <th>53701</th>\n",
       "      <td>209762</td>\n",
       "      <td>11156</td>\n",
       "      <td>Not as distinctive or even as humorous as its ...</td>\n",
       "    </tr>\n",
       "    <tr>\n",
       "      <th>62010</th>\n",
       "      <td>218071</td>\n",
       "      <td>11618</td>\n",
       "      <td>sugar-free wit</td>\n",
       "    </tr>\n",
       "    <tr>\n",
       "      <th>2101</th>\n",
       "      <td>158162</td>\n",
       "      <td>8617</td>\n",
       "      <td>, Clockstoppers will fulfill your wildest fant...</td>\n",
       "    </tr>\n",
       "  </tbody>\n",
       "</table>\n",
       "</div>"
      ],
      "text/plain": [
       "       PhraseId  SentenceId                                             Phrase\n",
       "50026    206087       10957  Determined to be fun , and bouncy , with energ...\n",
       "59776    215837       11499  a better film than his earlier English-languag...\n",
       "53701    209762       11156  Not as distinctive or even as humorous as its ...\n",
       "62010    218071       11618                                     sugar-free wit\n",
       "2101     158162        8617  , Clockstoppers will fulfill your wildest fant..."
      ]
     },
     "metadata": {},
     "output_type": "display_data"
    },
    {
     "data": {
      "text/html": [
       "<div>\n",
       "<style scoped>\n",
       "    .dataframe tbody tr th:only-of-type {\n",
       "        vertical-align: middle;\n",
       "    }\n",
       "\n",
       "    .dataframe tbody tr th {\n",
       "        vertical-align: top;\n",
       "    }\n",
       "\n",
       "    .dataframe thead th {\n",
       "        text-align: right;\n",
       "    }\n",
       "</style>\n",
       "<table border=\"1\" class=\"dataframe\">\n",
       "  <thead>\n",
       "    <tr style=\"text-align: right;\">\n",
       "      <th></th>\n",
       "      <th>PhraseId</th>\n",
       "      <th>Sentiment</th>\n",
       "    </tr>\n",
       "  </thead>\n",
       "  <tbody>\n",
       "    <tr>\n",
       "      <th>25246</th>\n",
       "      <td>181307</td>\n",
       "      <td>2</td>\n",
       "    </tr>\n",
       "    <tr>\n",
       "      <th>17011</th>\n",
       "      <td>173072</td>\n",
       "      <td>2</td>\n",
       "    </tr>\n",
       "    <tr>\n",
       "      <th>10297</th>\n",
       "      <td>166358</td>\n",
       "      <td>2</td>\n",
       "    </tr>\n",
       "    <tr>\n",
       "      <th>35458</th>\n",
       "      <td>191519</td>\n",
       "      <td>2</td>\n",
       "    </tr>\n",
       "    <tr>\n",
       "      <th>16723</th>\n",
       "      <td>172784</td>\n",
       "      <td>2</td>\n",
       "    </tr>\n",
       "  </tbody>\n",
       "</table>\n",
       "</div>"
      ],
      "text/plain": [
       "       PhraseId  Sentiment\n",
       "25246    181307          2\n",
       "17011    173072          2\n",
       "10297    166358          2\n",
       "35458    191519          2\n",
       "16723    172784          2"
      ]
     },
     "metadata": {},
     "output_type": "display_data"
    }
   ],
   "source": [
    "display( treino.sample(5) )\n",
    "display( teste.sample(5) )\n",
    "display( sample.sample(5) )"
   ]
  },
  {
   "cell_type": "code",
   "execution_count": 5,
   "id": "alternative-brother",
   "metadata": {},
   "outputs": [
    {
     "data": {
      "text/plain": [
       "2049     1\n",
       "38931    1\n",
       "77862    1\n",
       "36882    1\n",
       "6147     1\n",
       "        ..\n",
       "14329    1\n",
       "12282    1\n",
       "10235    1\n",
       "24564    1\n",
       "2047     1\n",
       "Name: PhraseId, Length: 156060, dtype: int64"
      ]
     },
     "metadata": {},
     "output_type": "display_data"
    },
    {
     "name": "stdout",
     "output_type": "stream",
     "text": [
      "\n"
     ]
    },
    {
     "data": {
      "text/plain": [
       "4486     1\n",
       "3560     1\n",
       "2114     1\n",
       "4982     1\n",
       "1879     1\n",
       "        ..\n",
       "403     57\n",
       "625     58\n",
       "509     59\n",
       "5555    63\n",
       "1       63\n",
       "Name: SentenceId, Length: 8529, dtype: int64"
      ]
     },
     "metadata": {},
     "output_type": "display_data"
    }
   ],
   "source": [
    "display(treino['PhraseId'].value_counts().sort_values())\n",
    "print()\n",
    "display(treino['SentenceId'].value_counts().sort_values())"
   ]
  },
  {
   "cell_type": "markdown",
   "id": "racial-roommate",
   "metadata": {},
   "source": [
    "- - -"
   ]
  },
  {
   "cell_type": "markdown",
   "id": "operating-fault",
   "metadata": {},
   "source": [
    "métrica para multiclasse\n",
    "\n",
    "$$ - \\frac{1}{N}\\sum_{i}^{N}\\sum_{j}^{C}y_{ij}log(p_{ij}) $$\n",
    "\n",
    "$N$ observações<br/>\n",
    "$C$ classes<br/>\n",
    "$y_{ij}=1$ se a observação é da classe $j$, $y_{ij}=0$ caso contrário<br/>\n",
    "$p_{ij}$ a probabilidade da observação pertencer à classe $j$"
   ]
  },
  {
   "cell_type": "code",
   "execution_count": 6,
   "id": "technological-birth",
   "metadata": {},
   "outputs": [],
   "source": [
    "def multiclass_logloss(actual, predicted, eps=1e-15):\n",
    "    if len(actual.shape) == 1:\n",
    "        actual2 = np.zeros((actual.shape[0], predicted.shape[1]))\n",
    "        for i, val in enumerate(actual):\n",
    "            actual2[i, val] = 1\n",
    "        actual = actual2\n",
    "    clip  = np.clip(predicted, eps, 1 - eps)\n",
    "    rows  = actual.shape[0]\n",
    "    vsota = np.sum(actual * np.log(clip))\n",
    "    return -1.0 / rows * vsota"
   ]
  },
  {
   "cell_type": "markdown",
   "id": "enabling-female",
   "metadata": {},
   "source": [
    "- - -"
   ]
  },
  {
   "cell_type": "code",
   "execution_count": 7,
   "id": "bright-medicaid",
   "metadata": {},
   "outputs": [],
   "source": [
    "from sklearn.model_selection import train_test_split"
   ]
  },
  {
   "cell_type": "code",
   "execution_count": 8,
   "id": "binary-southwest",
   "metadata": {},
   "outputs": [],
   "source": [
    "Xt, Xv, yt, yv = train_test_split(\n",
    "                     treino['Phrase'].values, treino['Sentiment'].values, stratify = treino['Sentiment'].values, \n",
    "                     test_size = 0.2, random_state = 8, shuffle = True\n",
    "                                 )"
   ]
  },
  {
   "cell_type": "markdown",
   "id": "emotional-nomination",
   "metadata": {},
   "source": [
    "- - -"
   ]
  },
  {
   "cell_type": "markdown",
   "id": "invisible-tradition",
   "metadata": {},
   "source": [
    "# modelos"
   ]
  },
  {
   "cell_type": "markdown",
   "id": "attended-constant",
   "metadata": {},
   "source": [
    "## _tf-idf_ e _logística_"
   ]
  },
  {
   "cell_type": "code",
   "execution_count": 9,
   "id": "preceding-nepal",
   "metadata": {},
   "outputs": [],
   "source": [
    "from sklearn.feature_extraction.text import TfidfVectorizer\n",
    "from sklearn.linear_model            import LogisticRegression"
   ]
  },
  {
   "cell_type": "code",
   "execution_count": 10,
   "id": "destroyed-success",
   "metadata": {},
   "outputs": [],
   "source": [
    "tfv = TfidfVectorizer(\n",
    "          min_df = 3,  \n",
    "          max_features = None, \n",
    "          strip_accents = 'unicode', \n",
    "          analyzer = 'word',\n",
    "          token_pattern = r'\\w{1,}',\n",
    "          ngram_range = (1, 3), \n",
    "          use_idf = 1,\n",
    "          smooth_idf = 1,\n",
    "          sublinear_tf = 1,\n",
    "          stop_words = 'english')\n",
    "\n",
    "tfv.fit(list(Xt) + list(Xv))\n",
    "Xt_tfv = tfv.transform(Xt) \n",
    "Xv_tfv = tfv.transform(Xv)"
   ]
  },
  {
   "cell_type": "code",
   "execution_count": 11,
   "id": "hawaiian-collapse",
   "metadata": {},
   "outputs": [
    {
     "name": "stdout",
     "output_type": "stream",
     "text": [
      "\u001b[93mobservacoes\u001b[0m\n",
      "['formulaic sports drama that carries a charge of genuine excitement'\n",
      " 'think of it' 'of the excellent cast' 'As' 'his cast members']\n",
      "\n",
      "\u001b[93mcombinacoes de n-grams\u001b[0m\n",
      "['000', '000 leagues', '000 leagues sea', '000 times', '1']\n",
      "\n",
      "\u001b[93mmatriz esparca\u001b[0m\n",
      "(124848, 114756) <class 'scipy.sparse.csr.csr_matrix'>\n"
     ]
    }
   ],
   "source": [
    "print(f\"{bcolors.WARNING}observacoes{bcolors.ENDC}\")\n",
    "print(Xt[:5])\n",
    "print()\n",
    "print(f\"{bcolors.WARNING}combinacoes de n-grams{bcolors.ENDC}\")\n",
    "print(tfv.get_feature_names()[:5])\n",
    "print()\n",
    "print(f\"{bcolors.WARNING}matriz esparca{bcolors.ENDC}\")\n",
    "# transform -> returns sparse matrix of (n_samples, n_features)\n",
    "#              Tf-idf-weighted document-term matrix.\n",
    "print(Xt_tfv.shape, type(Xt_tfv))"
   ]
  },
  {
   "cell_type": "code",
   "execution_count": 12,
   "id": "british-nursing",
   "metadata": {},
   "outputs": [
    {
     "name": "stdout",
     "output_type": "stream",
     "text": [
      "\u001b[93mtop features\u001b[0m\n",
      "s                         Score: 1438.564933501338\n",
      "movie                     Score: 841.4940518856912\n",
      "film                      Score: 839.0889224429144\n",
      "t                         Score: 451.40854387630765\n",
      "n                         Score: 445.17944775322076\n"
     ]
    }
   ],
   "source": [
    "print(f\"{bcolors.WARNING}top features{bcolors.ENDC}\")\n",
    "scores        = zip(tfv.get_feature_names(), np.asarray(Xt_tfv.sum(axis=0)).ravel())\n",
    "sorted_scores = sorted(scores, key=lambda x: x[1], reverse=True)\n",
    "\n",
    "for item in sorted_scores[:5]:\n",
    "    print(\"{0:25} Score: {1}\".format(item[0], item[1]))"
   ]
  },
  {
   "cell_type": "markdown",
   "id": "surface-lender",
   "metadata": {},
   "source": [
    "<br/>"
   ]
  },
  {
   "cell_type": "code",
   "execution_count": 13,
   "id": "corrected-running",
   "metadata": {},
   "outputs": [
    {
     "name": "stdout",
     "output_type": "stream",
     "text": [
      "CPU times: user 1min 5s, sys: 2min 23s, total: 3min 29s\n",
      "Wall time: 14.6 s\n"
     ]
    },
    {
     "name": "stderr",
     "output_type": "stream",
     "text": [
      "/home/dusodeth/.local/lib/python3.8/site-packages/sklearn/linear_model/_logistic.py:763: ConvergenceWarning: lbfgs failed to converge (status=1):\n",
      "STOP: TOTAL NO. of ITERATIONS REACHED LIMIT.\n",
      "\n",
      "Increase the number of iterations (max_iter) or scale the data as shown in:\n",
      "    https://scikit-learn.org/stable/modules/preprocessing.html\n",
      "Please also refer to the documentation for alternative solver options:\n",
      "    https://scikit-learn.org/stable/modules/linear_model.html#logistic-regression\n",
      "  n_iter_i = _check_optimize_result(\n"
     ]
    },
    {
     "data": {
      "text/plain": [
       "LogisticRegression()"
      ]
     },
     "execution_count": 13,
     "metadata": {},
     "output_type": "execute_result"
    }
   ],
   "source": [
    "%%time\n",
    "clf = LogisticRegression(C=1.0)\n",
    "clf.fit(Xt_tfv, yt)"
   ]
  },
  {
   "cell_type": "code",
   "execution_count": 14,
   "id": "standing-chorus",
   "metadata": {},
   "outputs": [
    {
     "name": "stdout",
     "output_type": "stream",
     "text": [
      "logloss: 0.94211 \n"
     ]
    }
   ],
   "source": [
    "pred = clf.predict_proba(Xv_tfv)\n",
    "print (\"logloss: {:.5} \".format(multiclass_logloss(yv, pred)))"
   ]
  },
  {
   "cell_type": "markdown",
   "id": "exceptional-vietnam",
   "metadata": {},
   "source": [
    "## _count vectorizer_ e _logística_"
   ]
  },
  {
   "cell_type": "code",
   "execution_count": 15,
   "id": "grand-master",
   "metadata": {},
   "outputs": [],
   "source": [
    "from sklearn.feature_extraction.text import CountVectorizer"
   ]
  },
  {
   "cell_type": "code",
   "execution_count": 16,
   "id": "widespread-breast",
   "metadata": {},
   "outputs": [],
   "source": [
    "ctv = CountVectorizer(\n",
    "          analyzer = 'word',\n",
    "          token_pattern = r'\\w{1,}',\n",
    "          ngram_range = (1, 3), \n",
    "          stop_words = 'english'\n",
    "                    )\n",
    "\n",
    "ctv.fit(list(Xt) + list(Xv))\n",
    "Xt_ctv = ctv.transform(Xt) \n",
    "Xv_ctv = ctv.transform(Xv)"
   ]
  },
  {
   "cell_type": "code",
   "execution_count": 17,
   "id": "vocal-cuisine",
   "metadata": {},
   "outputs": [
    {
     "name": "stdout",
     "output_type": "stream",
     "text": [
      "\u001b[93mobservacoes\u001b[0m\n",
      "['formulaic sports drama that carries a charge of genuine excitement'\n",
      " 'think of it' 'of the excellent cast' 'As' 'his cast members']\n",
      "\n",
      "\u001b[93mcombinacoes de n-grams\u001b[0m\n",
      "['000', '000 leagues', '000 leagues sea', '000 times', '1']\n",
      "\n",
      "\u001b[93mmatriz esparca\u001b[0m\n",
      "(124848, 136171) <class 'scipy.sparse.csr.csr_matrix'>\n"
     ]
    }
   ],
   "source": [
    "print(f\"{bcolors.WARNING}observacoes{bcolors.ENDC}\")\n",
    "print(Xt[:5])\n",
    "print()\n",
    "print(f\"{bcolors.WARNING}combinacoes de n-grams{bcolors.ENDC}\")\n",
    "print(ctv.get_feature_names()[:5])\n",
    "print()\n",
    "print(f\"{bcolors.WARNING}matriz esparca{bcolors.ENDC}\")\n",
    "# transform -> returns sparse matrix of (n_samples, n_features)\n",
    "#              Tf-idf-weighted document-term matrix.\n",
    "print(Xt_ctv.shape, type(Xt_ctv))"
   ]
  },
  {
   "cell_type": "code",
   "execution_count": 18,
   "id": "rotary-louisiana",
   "metadata": {},
   "outputs": [
    {
     "name": "stdout",
     "output_type": "stream",
     "text": [
      "\u001b[93mtop features\u001b[0m\n",
      "s                         Score: 13652\n",
      "film                      Score: 5364\n",
      "movie                     Score: 4998\n",
      "t                         Score: 3289\n",
      "n                         Score: 3238\n"
     ]
    }
   ],
   "source": [
    "print(f\"{bcolors.WARNING}top features{bcolors.ENDC}\")\n",
    "scores        = zip(ctv.get_feature_names(), np.asarray(Xt_ctv.sum(axis=0)).ravel())\n",
    "sorted_scores = sorted(scores, key=lambda x: x[1], reverse=True)\n",
    "\n",
    "for item in sorted_scores[:5]:\n",
    "    print(\"{0:25} Score: {1}\".format(item[0], item[1]))"
   ]
  },
  {
   "cell_type": "code",
   "execution_count": 19,
   "id": "annoying-daily",
   "metadata": {},
   "outputs": [
    {
     "name": "stdout",
     "output_type": "stream",
     "text": [
      "CPU times: user 1min 11s, sys: 2min 33s, total: 3min 45s\n",
      "Wall time: 15.6 s\n"
     ]
    },
    {
     "name": "stderr",
     "output_type": "stream",
     "text": [
      "/home/dusodeth/.local/lib/python3.8/site-packages/sklearn/linear_model/_logistic.py:763: ConvergenceWarning: lbfgs failed to converge (status=1):\n",
      "STOP: TOTAL NO. of ITERATIONS REACHED LIMIT.\n",
      "\n",
      "Increase the number of iterations (max_iter) or scale the data as shown in:\n",
      "    https://scikit-learn.org/stable/modules/preprocessing.html\n",
      "Please also refer to the documentation for alternative solver options:\n",
      "    https://scikit-learn.org/stable/modules/linear_model.html#logistic-regression\n",
      "  n_iter_i = _check_optimize_result(\n"
     ]
    },
    {
     "data": {
      "text/plain": [
       "LogisticRegression()"
      ]
     },
     "execution_count": 19,
     "metadata": {},
     "output_type": "execute_result"
    }
   ],
   "source": [
    "%%time\n",
    "clf = LogisticRegression(C=1.0)\n",
    "clf.fit(Xt_ctv, yt)"
   ]
  },
  {
   "cell_type": "code",
   "execution_count": 20,
   "id": "medium-weather",
   "metadata": {},
   "outputs": [
    {
     "name": "stdout",
     "output_type": "stream",
     "text": [
      "logloss: 0.94631 \n"
     ]
    }
   ],
   "source": [
    "pred = clf.predict_proba(Xv_ctv)\n",
    "print (\"logloss: {:.5} \".format(multiclass_logloss(yv, pred)))"
   ]
  },
  {
   "cell_type": "markdown",
   "id": "emerging-watershed",
   "metadata": {},
   "source": [
    "## _naive bayes_"
   ]
  },
  {
   "cell_type": "code",
   "execution_count": 21,
   "id": "saved-consultancy",
   "metadata": {},
   "outputs": [],
   "source": [
    "from sklearn.naive_bayes import MultinomialNB"
   ]
  },
  {
   "cell_type": "markdown",
   "id": "productive-rebound",
   "metadata": {},
   "source": [
    "tf-idf"
   ]
  },
  {
   "cell_type": "code",
   "execution_count": 22,
   "id": "changing-circular",
   "metadata": {},
   "outputs": [
    {
     "name": "stdout",
     "output_type": "stream",
     "text": [
      "CPU times: user 34.4 ms, sys: 0 ns, total: 34.4 ms\n",
      "Wall time: 34.1 ms\n"
     ]
    },
    {
     "data": {
      "text/plain": [
       "MultinomialNB()"
      ]
     },
     "execution_count": 22,
     "metadata": {},
     "output_type": "execute_result"
    }
   ],
   "source": [
    "%%time\n",
    "clf = MultinomialNB()\n",
    "clf.fit(Xt_tfv, yt)"
   ]
  },
  {
   "cell_type": "code",
   "execution_count": 23,
   "id": "sufficient-nevada",
   "metadata": {},
   "outputs": [
    {
     "name": "stdout",
     "output_type": "stream",
     "text": [
      "logloss: 0.99129 \n"
     ]
    }
   ],
   "source": [
    "pred = clf.predict_proba(Xv_tfv)\n",
    "print (\"logloss: {:.5} \".format(multiclass_logloss(yv, pred)))"
   ]
  },
  {
   "cell_type": "markdown",
   "id": "compatible-shelf",
   "metadata": {},
   "source": [
    "count vectorizer"
   ]
  },
  {
   "cell_type": "code",
   "execution_count": 24,
   "id": "single-ideal",
   "metadata": {},
   "outputs": [
    {
     "name": "stdout",
     "output_type": "stream",
     "text": [
      "CPU times: user 31.5 ms, sys: 0 ns, total: 31.5 ms\n",
      "Wall time: 31.3 ms\n"
     ]
    },
    {
     "data": {
      "text/plain": [
       "MultinomialNB()"
      ]
     },
     "execution_count": 24,
     "metadata": {},
     "output_type": "execute_result"
    }
   ],
   "source": [
    "%%time\n",
    "clf = MultinomialNB()\n",
    "clf.fit(Xt_ctv, yt)"
   ]
  },
  {
   "cell_type": "code",
   "execution_count": 25,
   "id": "unexpected-convert",
   "metadata": {},
   "outputs": [
    {
     "name": "stdout",
     "output_type": "stream",
     "text": [
      "logloss: 2.1271 \n"
     ]
    }
   ],
   "source": [
    "pred = clf.predict_proba(Xv_ctv)\n",
    "print (\"logloss: {:.5} \".format(multiclass_logloss(yv, pred)))"
   ]
  },
  {
   "cell_type": "markdown",
   "id": "reflected-innocent",
   "metadata": {},
   "source": [
    "## _dimensionality reduction_ e _svm_"
   ]
  },
  {
   "cell_type": "code",
   "execution_count": 26,
   "id": "million-commonwealth",
   "metadata": {},
   "outputs": [],
   "source": [
    "from sklearn.decomposition import TruncatedSVD\n",
    "from sklearn.preprocessing import StandardScaler\n",
    "from sklearn.svm           import SVC"
   ]
  },
  {
   "cell_type": "markdown",
   "id": "precise-branch",
   "metadata": {},
   "source": [
    "**why not pca?** porque o pca centraliza a distribuição na origem antes de calcular a variância, então computacionalmente é extremamente desaconselhável para matrizes esparças\n",
    "\n",
    "aproveitando:<br/>\n",
    "_pca_, _svd_ são não-supervisionados e lineares<br/>\n",
    "_lda_ é supervisionado e linear"
   ]
  },
  {
   "cell_type": "code",
   "execution_count": 27,
   "id": "collaborative-overhead",
   "metadata": {},
   "outputs": [],
   "source": [
    "svd = TruncatedSVD(n_components=100)\n",
    "\n",
    "svd.fit(Xt_tfv)\n",
    "Xt_svd = svd.transform(Xt_tfv)\n",
    "Xv_svd = svd.transform(Xv_tfv)"
   ]
  },
  {
   "cell_type": "code",
   "execution_count": 28,
   "id": "sorted-stamp",
   "metadata": {},
   "outputs": [],
   "source": [
    "stdscl = StandardScaler()\n",
    "stdscl.fit(Xt_svd)\n",
    "\n",
    "Xt_svd_std = stdscl.transform(Xt_svd)\n",
    "Xv_svd_std = stdscl.transform(Xv_svd)"
   ]
  },
  {
   "cell_type": "code",
   "execution_count": 29,
   "id": "thirty-johns",
   "metadata": {},
   "outputs": [
    {
     "name": "stdout",
     "output_type": "stream",
     "text": [
      "CPU times: user 7.46 s, sys: 8.63 ms, total: 7.47 s\n",
      "Wall time: 7.47 s\n"
     ]
    },
    {
     "data": {
      "text/plain": [
       "SVC(probability=True)"
      ]
     },
     "execution_count": 29,
     "metadata": {},
     "output_type": "execute_result"
    }
   ],
   "source": [
    "%%time\n",
    "clf = SVC(C=1.0, probability=True)\n",
    "clf.fit(Xt_svd_std[:5000,:], yt[:5000])"
   ]
  },
  {
   "cell_type": "code",
   "execution_count": 30,
   "id": "official-antarctica",
   "metadata": {},
   "outputs": [
    {
     "name": "stdout",
     "output_type": "stream",
     "text": [
      "logloss: 1.236 \n"
     ]
    }
   ],
   "source": [
    "pred = clf.predict_proba(Xv_svd_std)\n",
    "print (\"logloss: %0.3f \" % multiclass_logloss(yv, pred))"
   ]
  },
  {
   "cell_type": "markdown",
   "id": "eastern-sample",
   "metadata": {},
   "source": [
    "<br/>"
   ]
  },
  {
   "cell_type": "code",
   "execution_count": 31,
   "id": "surface-security",
   "metadata": {},
   "outputs": [],
   "source": [
    "svd = TruncatedSVD(n_components=100)\n",
    "\n",
    "svd.fit(Xt_ctv)\n",
    "Xt_svd = svd.transform(Xt_ctv)\n",
    "Xv_svd = svd.transform(Xv_ctv)"
   ]
  },
  {
   "cell_type": "code",
   "execution_count": 32,
   "id": "parental-italy",
   "metadata": {},
   "outputs": [],
   "source": [
    "stdscl = StandardScaler()\n",
    "stdscl.fit(Xt_svd)\n",
    "\n",
    "Xt_svd_std = stdscl.transform(Xt_svd)\n",
    "Xv_svd_std = stdscl.transform(Xv_svd)"
   ]
  },
  {
   "cell_type": "code",
   "execution_count": 33,
   "id": "cathedral-request",
   "metadata": {},
   "outputs": [
    {
     "name": "stdout",
     "output_type": "stream",
     "text": [
      "CPU times: user 7.37 s, sys: 3.98 ms, total: 7.37 s\n",
      "Wall time: 7.37 s\n"
     ]
    },
    {
     "data": {
      "text/plain": [
       "SVC(probability=True)"
      ]
     },
     "execution_count": 33,
     "metadata": {},
     "output_type": "execute_result"
    }
   ],
   "source": [
    "%%time\n",
    "clf = SVC(C=1.0, probability=True)\n",
    "clf.fit(Xt_svd_std[:5000,:], yt[:5000])"
   ]
  },
  {
   "cell_type": "code",
   "execution_count": 34,
   "id": "smaller-clause",
   "metadata": {},
   "outputs": [
    {
     "name": "stdout",
     "output_type": "stream",
     "text": [
      "logloss: 1.234 \n"
     ]
    }
   ],
   "source": [
    "pred = clf.predict_proba(Xv_svd_std)\n",
    "print (\"logloss: %0.3f \" % multiclass_logloss(yv, pred))"
   ]
  },
  {
   "cell_type": "markdown",
   "id": "normal-stanley",
   "metadata": {},
   "source": [
    "## _boosting_"
   ]
  },
  {
   "cell_type": "code",
   "execution_count": 35,
   "id": "increasing-asian",
   "metadata": {},
   "outputs": [],
   "source": [
    "import lightgbm as lgb"
   ]
  },
  {
   "cell_type": "code",
   "execution_count": 36,
   "id": "straight-moment",
   "metadata": {},
   "outputs": [
    {
     "name": "stdout",
     "output_type": "stream",
     "text": [
      "[LightGBM] [Warning] num_threads is set with nthread=5, will be overridden by n_jobs=-1. Current value: num_threads=-1\n",
      "[LightGBM] [Warning] Accuracy may be bad since you didn't explicitly set num_leaves OR 2^max_depth > num_leaves. (num_leaves=31).\n",
      "CPU times: user 4min 50s, sys: 422 ms, total: 4min 51s\n",
      "Wall time: 19.2 s\n"
     ]
    },
    {
     "data": {
      "text/plain": [
       "LGBMClassifier(colsample_bytree=0.8, max_depth=7, n_estimators=200, nthread=5,\n",
       "               subsample=0.8)"
      ]
     },
     "execution_count": 36,
     "metadata": {},
     "output_type": "execute_result"
    }
   ],
   "source": [
    "%%time\n",
    "clf = lgb.LGBMClassifier(max_depth = 7, \n",
    "                        n_estimators = 200, \n",
    "                        colsample_bytree = 0.8, \n",
    "                        subsample = 0.8, \n",
    "                        nthread = 5, \n",
    "                        learning_rate = 0.1)\n",
    "clf.fit(Xt_tfv.tocsc(), yt)"
   ]
  },
  {
   "cell_type": "code",
   "execution_count": 37,
   "id": "executed-terminal",
   "metadata": {},
   "outputs": [
    {
     "name": "stdout",
     "output_type": "stream",
     "text": [
      "logloss: 1.086 \n"
     ]
    }
   ],
   "source": [
    "pred = clf.predict_proba(Xv_tfv.tocsc())\n",
    "print (\"logloss: %0.3f \" % multiclass_logloss(yv, pred))"
   ]
  },
  {
   "cell_type": "markdown",
   "id": "concerned-allah",
   "metadata": {},
   "source": [
    "svd"
   ]
  },
  {
   "cell_type": "code",
   "execution_count": 44,
   "id": "utility-richmond",
   "metadata": {},
   "outputs": [],
   "source": [
    "svd = TruncatedSVD(n_components=543)\n",
    "\n",
    "svd.fit(Xt_tfv)\n",
    "Xt_svd = svd.transform(Xt_tfv)\n",
    "Xv_svd = svd.transform(Xv_tfv)"
   ]
  },
  {
   "cell_type": "code",
   "execution_count": 45,
   "id": "basic-terry",
   "metadata": {},
   "outputs": [
    {
     "name": "stdout",
     "output_type": "stream",
     "text": [
      "[LightGBM] [Warning] num_threads is set with nthread=5, will be overridden by n_jobs=-1. Current value: num_threads=-1\n",
      "[LightGBM] [Warning] Accuracy may be bad since you didn't explicitly set num_leaves OR 2^max_depth > num_leaves. (num_leaves=31).\n",
      "CPU times: user 17min 59s, sys: 4 s, total: 18min 3s\n",
      "Wall time: 1min 11s\n"
     ]
    },
    {
     "data": {
      "text/plain": [
       "LGBMClassifier(colsample_bytree=0.8, max_depth=7, n_estimators=200, nthread=5,\n",
       "               subsample=0.8)"
      ]
     },
     "execution_count": 45,
     "metadata": {},
     "output_type": "execute_result"
    }
   ],
   "source": [
    "%%time\n",
    "clf.fit(Xt_svd, yt)"
   ]
  },
  {
   "cell_type": "code",
   "execution_count": 46,
   "id": "specialized-charles",
   "metadata": {},
   "outputs": [
    {
     "name": "stdout",
     "output_type": "stream",
     "text": [
      "logloss: 0.979 \n"
     ]
    }
   ],
   "source": [
    "pred = clf.predict_proba(Xv_svd)\n",
    "print (\"logloss: %0.3f \" % multiclass_logloss(yv, pred))"
   ]
  },
  {
   "cell_type": "markdown",
   "id": "weird-nelson",
   "metadata": {},
   "source": [
    "<br/>"
   ]
  },
  {
   "cell_type": "markdown",
   "id": "outdoor-conditioning",
   "metadata": {},
   "source": [
    "# _precision-recall curve_"
   ]
  },
  {
   "cell_type": "code",
   "execution_count": 60,
   "id": "preceding-choir",
   "metadata": {},
   "outputs": [],
   "source": [
    "from sklearn.preprocessing import label_binarize\n",
    "from itertools             import cycle\n",
    "from sklearn.metrics       import precision_recall_curve\n",
    "from sklearn.metrics       import average_precision_score"
   ]
  },
  {
   "cell_type": "markdown",
   "id": "oriental-customer",
   "metadata": {},
   "source": [
    "lgbm"
   ]
  },
  {
   "cell_type": "code",
   "execution_count": 75,
   "id": "legitimate-wallet",
   "metadata": {},
   "outputs": [
    {
     "name": "stdout",
     "output_type": "stream",
     "text": [
      "average precision score, micro-averaged over all classes: 0.66\n"
     ]
    }
   ],
   "source": [
    "classes = np.unique(yt)\n",
    "\n",
    "precision         = dict()\n",
    "recall            = dict()\n",
    "average_precision = dict()\n",
    "\n",
    "for i in range(len(classes)):\n",
    "    precision[i], recall[i], _ = precision_recall_curve(\n",
    "                                     label_binarize(yv, classes=classes)[:, i],\n",
    "                                     pred[:, i])\n",
    "    average_precision[i] = average_precision_score(\n",
    "                               label_binarize(yv, classes=classes)[:, i],\n",
    "                               pred[:, i])\n",
    "\n",
    "precision[\"micro\"], recall[\"micro\"], _ = precision_recall_curve(\n",
    "                                             label_binarize(yv, classes=classes).ravel(),\n",
    "                                             pred.ravel())\n",
    "average_precision[\"micro\"] = average_precision_score(\n",
    "                                 label_binarize(yv, classes=classes), \n",
    "                                 pred,\n",
    "                                 average = \"micro\")\n",
    "\n",
    "print('average precision score, micro-averaged over all classes: {0:0.2f}'.format(average_precision[\"micro\"]))"
   ]
  },
  {
   "cell_type": "code",
   "execution_count": 84,
   "id": "permanent-blowing",
   "metadata": {},
   "outputs": [
    {
     "data": {
      "image/png": "[encoded data removed]",
      "text/plain": [
       "<Figure size 576x576 with 1 Axes>"
      ]
     },
     "metadata": {
      "needs_background": "light"
     },
     "output_type": "display_data"
    }
   ],
   "source": [
    "plt.figure(figsize=(8, 8))\n",
    "\n",
    "colors = cycle(['navy', 'turquoise', 'darkorange', 'cornflowerblue', 'teal'])\n",
    "\n",
    "f_scores = np.linspace(0.2, 0.8, num=4)\n",
    "lines    = []\n",
    "labels   = []\n",
    "for f_score in f_scores:\n",
    "    x  = np.linspace(0.01, 1)\n",
    "    y  = f_score * x / (2 * x - f_score)\n",
    "    l, = plt.plot(x[y >= 0], y[y >= 0], color='gray', alpha=0.2)\n",
    "    plt.annotate('f1={0:0.1f}'.format(f_score), xy=(0.9, y[45] + 0.02))\n",
    "lines.append(l)\n",
    "labels.append('iso-f1 curves')\n",
    "\n",
    "l, = plt.plot(recall[\"micro\"], precision[\"micro\"], color='gold', lw=3)\n",
    "lines.append(l)\n",
    "labels.append('micro-average precision-recall (area = {0:0.2f})'.format(average_precision[\"micro\"]))\n",
    "\n",
    "#\n",
    "\n",
    "for i, color in zip(range(len(classes)), colors):\n",
    "    l, = plt.plot(recall[i], precision[i], color=color, lw=1)\n",
    "    lines.append(l)\n",
    "    labels.append('precision-recall for class {0} (area = {1:0.2f})'.format(i, average_precision[i]))\n",
    "    \n",
    "fig = plt.gcf()\n",
    "fig.subplots_adjust(bottom=0.25)\n",
    "plt.xlim([0.0, 1.0])\n",
    "plt.ylim([0.0, 1.05])\n",
    "plt.xlabel('recall')\n",
    "plt.ylabel('precision')\n",
    "plt.legend(lines, labels, loc=(0, -.55), prop=dict(size=14))\n",
    "\n",
    "plt.tight_layout()\n",
    "plt.show()"
   ]
  },
  {
   "cell_type": "markdown",
   "id": "related-twelve",
   "metadata": {},
   "source": [
    "logística"
   ]
  },
  {
   "cell_type": "code",
   "execution_count": 85,
   "id": "gorgeous-translator",
   "metadata": {},
   "outputs": [
    {
     "name": "stdout",
     "output_type": "stream",
     "text": [
      "CPU times: user 1min 3s, sys: 2min 15s, total: 3min 19s\n",
      "Wall time: 13.7 s\n"
     ]
    },
    {
     "name": "stderr",
     "output_type": "stream",
     "text": [
      "/home/dusodeth/.local/lib/python3.8/site-packages/sklearn/linear_model/_logistic.py:763: ConvergenceWarning: lbfgs failed to converge (status=1):\n",
      "STOP: TOTAL NO. of ITERATIONS REACHED LIMIT.\n",
      "\n",
      "Increase the number of iterations (max_iter) or scale the data as shown in:\n",
      "    https://scikit-learn.org/stable/modules/preprocessing.html\n",
      "Please also refer to the documentation for alternative solver options:\n",
      "    https://scikit-learn.org/stable/modules/linear_model.html#logistic-regression\n",
      "  n_iter_i = _check_optimize_result(\n"
     ]
    },
    {
     "data": {
      "text/plain": [
       "LogisticRegression()"
      ]
     },
     "execution_count": 85,
     "metadata": {},
     "output_type": "execute_result"
    }
   ],
   "source": [
    "%%time\n",
    "clf = LogisticRegression(C=1.0)\n",
    "clf.fit(Xt_tfv, yt)"
   ]
  },
  {
   "cell_type": "code",
   "execution_count": 86,
   "id": "thrown-official",
   "metadata": {},
   "outputs": [],
   "source": [
    "pred = clf.predict_proba(Xv_tfv)"
   ]
  },
  {
   "cell_type": "code",
   "execution_count": 87,
   "id": "distinct-automation",
   "metadata": {},
   "outputs": [
    {
     "name": "stdout",
     "output_type": "stream",
     "text": [
      "average precision score, micro-averaged over all classes: 0.67\n"
     ]
    }
   ],
   "source": [
    "classes = np.unique(yt)\n",
    "\n",
    "precision         = dict()\n",
    "recall            = dict()\n",
    "average_precision = dict()\n",
    "\n",
    "for i in range(len(classes)):\n",
    "    precision[i], recall[i], _ = precision_recall_curve(\n",
    "                                     label_binarize(yv, classes=classes)[:, i],\n",
    "                                     pred[:, i])\n",
    "    average_precision[i] = average_precision_score(\n",
    "                               label_binarize(yv, classes=classes)[:, i],\n",
    "                               pred[:, i])\n",
    "\n",
    "precision[\"micro\"], recall[\"micro\"], _ = precision_recall_curve(\n",
    "                                             label_binarize(yv, classes=classes).ravel(),\n",
    "                                             pred.ravel())\n",
    "average_precision[\"micro\"] = average_precision_score(\n",
    "                                 label_binarize(yv, classes=classes), \n",
    "                                 pred,\n",
    "                                 average = \"micro\")\n",
    "\n",
    "print('average precision score, micro-averaged over all classes: {0:0.2f}'.format(average_precision[\"micro\"]))"
   ]
  },
  {
   "cell_type": "code",
   "execution_count": 88,
   "id": "forward-threat",
   "metadata": {},
   "outputs": [
    {
     "data": {
      "image/png": "[encoded data removed]",
      "text/plain": [
       "<Figure size 576x576 with 1 Axes>"
      ]
     },
     "metadata": {
      "needs_background": "light"
     },
     "output_type": "display_data"
    }
   ],
   "source": [
    "plt.figure(figsize=(8, 8))\n",
    "\n",
    "colors = cycle(['navy', 'turquoise', 'darkorange', 'cornflowerblue', 'teal'])\n",
    "\n",
    "f_scores = np.linspace(0.2, 0.8, num=4)\n",
    "lines    = []\n",
    "labels   = []\n",
    "for f_score in f_scores:\n",
    "    x  = np.linspace(0.01, 1)\n",
    "    y  = f_score * x / (2 * x - f_score)\n",
    "    l, = plt.plot(x[y >= 0], y[y >= 0], color='gray', alpha=0.2)\n",
    "    plt.annotate('f1={0:0.1f}'.format(f_score), xy=(0.9, y[45] + 0.02))\n",
    "lines.append(l)\n",
    "labels.append('iso-f1 curves')\n",
    "\n",
    "l, = plt.plot(recall[\"micro\"], precision[\"micro\"], color='gold', lw=3)\n",
    "lines.append(l)\n",
    "labels.append('micro-average precision-recall (area = {0:0.2f})'.format(average_precision[\"micro\"]))\n",
    "\n",
    "#\n",
    "\n",
    "for i, color in zip(range(len(classes)), colors):\n",
    "    l, = plt.plot(recall[i], precision[i], color=color, lw=1)\n",
    "    lines.append(l)\n",
    "    labels.append('precision-recall for class {0} (area = {1:0.2f})'.format(i, average_precision[i]))\n",
    "    \n",
    "fig = plt.gcf()\n",
    "fig.subplots_adjust(bottom=0.25)\n",
    "plt.xlim([0.0, 1.0])\n",
    "plt.ylim([0.0, 1.05])\n",
    "plt.xlabel('recall')\n",
    "plt.ylabel('precision')\n",
    "plt.legend(lines, labels, loc=(0, -.55), prop=dict(size=14))\n",
    "\n",
    "plt.tight_layout()\n",
    "plt.show()"
   ]
  },
  {
   "cell_type": "markdown",
   "id": "approximate-paris",
   "metadata": {},
   "source": [
    "- - -"
   ]
  },
  {
   "cell_type": "markdown",
   "id": "armed-sodium",
   "metadata": {},
   "source": [
    "**referências**\n",
    "\n",
    "[sentiment analysis with amazon reviews @ kaggle](https://www.kaggle.com/muonneutrino/sentiment-analysis-with-amazon-reviews)"
   ]
  }
 ],
 "metadata": {
  "kernelspec": {
   "display_name": "Python 3",
   "language": "python",
   "name": "python3"
  },
  "language_info": {
   "codemirror_mode": {
    "name": "ipython",
    "version": 3
   },
   "file_extension": ".py",
   "mimetype": "text/x-python",
   "name": "python",
   "nbconvert_exporter": "python",
   "pygments_lexer": "ipython3",
   "version": "3.8.5"
  }
 },
 "nbformat": 4,
 "nbformat_minor": 5
}
