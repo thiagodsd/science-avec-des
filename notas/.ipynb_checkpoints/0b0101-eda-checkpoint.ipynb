{
 "cells": [
  {
   "cell_type": "markdown",
   "id": "accepted-absolute",
   "metadata": {},
   "source": [
    "[top 50 matplotlib visualizations](https://www.machinelearningplus.com/plots/top-50-matplotlib-visualizations-the-master-plots-python/#24.-Joy-Plot)"
   ]
  },
  {
   "cell_type": "markdown",
   "id": "collective-bahamas",
   "metadata": {},
   "source": [
    "# boxplot"
   ]
  },
  {
   "cell_type": "markdown",
   "id": "dietary-seminar",
   "metadata": {},
   "source": [
    "# violin"
   ]
  }
 ],
 "metadata": {
  "kernelspec": {
   "display_name": "Python 3",
   "language": "python",
   "name": "python3"
  },
  "language_info": {
   "codemirror_mode": {
    "name": "ipython",
    "version": 3
   },
   "file_extension": ".py",
   "mimetype": "text/x-python",
   "name": "python",
   "nbconvert_exporter": "python",
   "pygments_lexer": "ipython3",
   "version": "3.8.5"
  }
 },
 "nbformat": 4,
 "nbformat_minor": 5
}
