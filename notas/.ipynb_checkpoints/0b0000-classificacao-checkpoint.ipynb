{
 "cells": [
  {
   "cell_type": "markdown",
   "id": "equal-morning",
   "metadata": {},
   "source": [
    "# knn"
   ]
  },
  {
   "cell_type": "markdown",
   "id": "honey-picnic",
   "metadata": {},
   "source": [
    "## teoria"
   ]
  },
  {
   "cell_type": "markdown",
   "id": "digital-balance",
   "metadata": {},
   "source": [
    "## codigo"
   ]
  },
  {
   "cell_type": "markdown",
   "id": "fourth-smith",
   "metadata": {},
   "source": [
    "# naive bayes"
   ]
  },
  {
   "cell_type": "markdown",
   "id": "reflected-browser",
   "metadata": {},
   "source": [
    "## teoria"
   ]
  },
  {
   "cell_type": "markdown",
   "id": "immune-valuable",
   "metadata": {},
   "source": [
    "## codigo"
   ]
  },
  {
   "cell_type": "markdown",
   "id": "billion-passion",
   "metadata": {},
   "source": [
    "# svm"
   ]
  },
  {
   "cell_type": "markdown",
   "id": "reasonable-burton",
   "metadata": {},
   "source": [
    "## teoria"
   ]
  },
  {
   "cell_type": "markdown",
   "id": "facial-wrong",
   "metadata": {},
   "source": [
    "## codigo"
   ]
  },
  {
   "cell_type": "markdown",
   "id": "virgin-diversity",
   "metadata": {},
   "source": [
    "# decision trees"
   ]
  },
  {
   "cell_type": "markdown",
   "id": "horizontal-sunset",
   "metadata": {},
   "source": [
    "## teoria"
   ]
  },
  {
   "cell_type": "markdown",
   "id": "breathing-fifteen",
   "metadata": {},
   "source": [
    "## codigo"
   ]
  },
  {
   "cell_type": "markdown",
   "id": "mighty-magnet",
   "metadata": {},
   "source": [
    "# logistic regression"
   ]
  },
  {
   "cell_type": "markdown",
   "id": "executed-projector",
   "metadata": {},
   "source": [
    "## teoria"
   ]
  },
  {
   "cell_type": "markdown",
   "id": "greatest-mitchell",
   "metadata": {},
   "source": [
    "## codigo"
   ]
  },
  {
   "cell_type": "markdown",
   "id": "desirable-dover",
   "metadata": {},
   "source": [
    "- - -"
   ]
  },
  {
   "cell_type": "markdown",
   "id": "virgin-volleyball",
   "metadata": {},
   "source": [
    "**referencias**\n",
    "\n",
    "[what kinds of learning problems are suitable for support vector machines? @ data science stack exchange](https://datascience.stackexchange.com/questions/9736/what-kinds-of-learning-problems-are-suitable-for-support-vector-machines)<br/>\n",
    "[logistic regression vs support vector machines patricia bassey](https://medium.com/axum-labs/logistic-regression-vs-support-vector-machines-svm-c335610a3d16)<br/>\n",
    "[how should i choose between svm and decision tree for a classification problem?](https://www.quora.com/How-should-I-choose-between-SVM-and-decision-tree-for-a-classification-problem)<br/>\n",
    "[when can we use support vector machine basic over other classification algorithms?](https://www.quora.com/When-can-we-use-support-vector-machine-basic-over-other-classification-algorithms)"
   ]
  }
 ],
 "metadata": {
  "kernelspec": {
   "display_name": "Python 3",
   "language": "python",
   "name": "python3"
  },
  "language_info": {
   "codemirror_mode": {
    "name": "ipython",
    "version": 3
   },
   "file_extension": ".py",
   "mimetype": "text/x-python",
   "name": "python",
   "nbconvert_exporter": "python",
   "pygments_lexer": "ipython3",
   "version": "3.8.5"
  },
  "toc-autonumbering": true,
  "toc-showmarkdowntxt": false,
  "toc-showtags": false
 },
 "nbformat": 4,
 "nbformat_minor": 5
}
