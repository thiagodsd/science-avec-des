{
 "cells": [
  {
   "cell_type": "markdown",
   "id": "incorrect-finger",
   "metadata": {},
   "source": [
    "+ [Choosing the Best Algorithm for your Classification Model. | by Raheel Shaikh | DataDrivenInvestor](https://medium.datadriveninvestor.com/choosing-the-best-algorithm-for-your-classification-model-7c632c78f38f)\n",
    "+ [An easy guide to choose the right Machine Learning algorithm - KDnuggets](https://www.kdnuggets.com/2020/05/guide-choose-right-machine-learning-algorithm.html)\n",
    "+ [Which machine learning algorithm should I use? - The SAS Data Science Blog](https://blogs.sas.com/content/subconsciousmusings/2020/12/09/machine-learning-algorithm-use/)\n",
    "+ [Do you know how to choose the right machine learning algorithm among 7 different types? | by Zaid Alissa Almaliki | Towards Data Science](https://towardsdatascience.com/do-you-know-how-to-choose-the-right-machine-learning-algorithm-among-7-different-types-295d0b0c7f60)\n",
    "+ [Choosing Evaluation Metrics For Classification Model](https://www.analyticsvidhya.com/blog/2020/10/how-to-choose-evaluation-metrics-for-classification-model/)"
   ]
  }
 ],
 "metadata": {
  "kernelspec": {
   "display_name": "Python 3",
   "language": "python",
   "name": "python3"
  },
  "language_info": {
   "codemirror_mode": {
    "name": "ipython",
    "version": 3
   },
   "file_extension": ".py",
   "mimetype": "text/x-python",
   "name": "python",
   "nbconvert_exporter": "python",
   "pygments_lexer": "ipython3",
   "version": "3.8.5"
  }
 },
 "nbformat": 4,
 "nbformat_minor": 5
}
