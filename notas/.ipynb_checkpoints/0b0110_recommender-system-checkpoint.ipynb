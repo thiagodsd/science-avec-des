{
 "cells": [
  {
   "cell_type": "markdown",
   "id": "pending-blake",
   "metadata": {},
   "source": [
    "[Choosing Evaluation Metrics For Classification Model](https://www.analyticsvidhya.com/blog/2020/10/how-to-choose-evaluation-metrics-for-classification-model/)<br/>\n",
    "[Music Recommendation System using Spotify Dataset | Kaggle](https://www.kaggle.com/vatsalmavani/music-recommendation-system-using-spotify-dataset)<br/>\n",
    "[Goodreads: Analysis and Recommending Books. | Kaggle](https://www.kaggle.com/hoshi7/goodreads-analysis-and-recommending-books)<br/>\n",
    "[Recommender System Using Amazon Reviews | Kaggle](https://www.kaggle.com/saurav9786/recommender-system-using-amazon-reviews)"
   ]
  }
 ],
 "metadata": {
  "kernelspec": {
   "display_name": "Python 3",
   "language": "python",
   "name": "python3"
  },
  "language_info": {
   "codemirror_mode": {
    "name": "ipython",
    "version": 3
   },
   "file_extension": ".py",
   "mimetype": "text/x-python",
   "name": "python",
   "nbconvert_exporter": "python",
   "pygments_lexer": "ipython3",
   "version": "3.8.5"
  }
 },
 "nbformat": 4,
 "nbformat_minor": 5
}
