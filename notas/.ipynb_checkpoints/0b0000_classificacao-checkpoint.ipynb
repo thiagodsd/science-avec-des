{
 "cells": [
  {
   "cell_type": "markdown",
   "id": "pharmaceutical-fisher",
   "metadata": {},
   "source": [
    "# knn"
   ]
  },
  {
   "cell_type": "markdown",
   "id": "independent-cricket",
   "metadata": {},
   "source": [
    "## teoria"
   ]
  },
  {
   "cell_type": "markdown",
   "id": "integral-litigation",
   "metadata": {},
   "source": [
    "## codigo"
   ]
  },
  {
   "cell_type": "markdown",
   "id": "curious-status",
   "metadata": {},
   "source": [
    "# naive bayes"
   ]
  },
  {
   "cell_type": "markdown",
   "id": "tough-button",
   "metadata": {},
   "source": [
    "## teoria"
   ]
  },
  {
   "cell_type": "markdown",
   "id": "involved-hours",
   "metadata": {},
   "source": [
    "## codigo"
   ]
  },
  {
   "cell_type": "markdown",
   "id": "level-daily",
   "metadata": {},
   "source": [
    "# svm"
   ]
  },
  {
   "cell_type": "markdown",
   "id": "beautiful-outline",
   "metadata": {},
   "source": [
    "## teoria"
   ]
  },
  {
   "cell_type": "markdown",
   "id": "married-delivery",
   "metadata": {},
   "source": [
    "## codigo"
   ]
  },
  {
   "cell_type": "markdown",
   "id": "rural-messaging",
   "metadata": {},
   "source": [
    "# decision trees"
   ]
  },
  {
   "cell_type": "markdown",
   "id": "internal-details",
   "metadata": {},
   "source": [
    "## teoria"
   ]
  },
  {
   "cell_type": "markdown",
   "id": "seeing-cooperation",
   "metadata": {},
   "source": [
    "## codigo"
   ]
  },
  {
   "cell_type": "markdown",
   "id": "muslim-bernard",
   "metadata": {},
   "source": [
    "# logistic regression"
   ]
  },
  {
   "cell_type": "markdown",
   "id": "rotary-coaching",
   "metadata": {},
   "source": [
    "## teoria"
   ]
  },
  {
   "cell_type": "markdown",
   "id": "continental-singing",
   "metadata": {},
   "source": [
    "explicações sobre categoria referência na interpretação de coeficientes em regressões:<br/>\n",
    "[reference category in a regression : statistics @ reddit](https://www.reddit.com/r/statistics/comments/2wjddx/reference_category_in_a_regression/)<br/>\n",
    "[interpretable models - logistic regression - 4.2.2 Theory](https://christophm.github.io/interpretable-ml-book/logistic.html#theory)"
   ]
  },
  {
   "cell_type": "markdown",
   "id": "musical-compatibility",
   "metadata": {},
   "source": [
    "## codigo"
   ]
  },
  {
   "cell_type": "markdown",
   "id": "eligible-bryan",
   "metadata": {},
   "source": [
    "- - -"
   ]
  },
  {
   "cell_type": "markdown",
   "id": "moving-blame",
   "metadata": {},
   "source": [
    "**referencias**\n",
    "\n",
    "[what kinds of learning problems are suitable for support vector machines? @ data science stack exchange](https://datascience.stackexchange.com/questions/9736/what-kinds-of-learning-problems-are-suitable-for-support-vector-machines)<br/>\n",
    "[logistic regression vs support vector machines patricia bassey](https://medium.com/axum-labs/logistic-regression-vs-support-vector-machines-svm-c335610a3d16)<br/>\n",
    "[how should i choose between svm and decision tree for a classification problem?](https://www.quora.com/How-should-I-choose-between-SVM-and-decision-tree-for-a-classification-problem)<br/>\n",
    "[when can we use support vector machine basic over other classification algorithms?](https://www.quora.com/When-can-we-use-support-vector-machine-basic-over-other-classification-algorithms)"
   ]
  }
 ],
 "metadata": {
  "kernelspec": {
   "display_name": "Python 3",
   "language": "python",
   "name": "python3"
  },
  "language_info": {
   "codemirror_mode": {
    "name": "ipython",
    "version": 3
   },
   "file_extension": ".py",
   "mimetype": "text/x-python",
   "name": "python",
   "nbconvert_exporter": "python",
   "pygments_lexer": "ipython3",
   "version": "3.8.5"
  },
  "toc-autonumbering": true,
  "toc-showmarkdowntxt": false,
  "toc-showtags": false
 },
 "nbformat": 4,
 "nbformat_minor": 5
}
