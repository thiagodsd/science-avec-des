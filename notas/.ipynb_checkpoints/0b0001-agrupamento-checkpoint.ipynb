{
 "cells": [
  {
   "cell_type": "code",
   "execution_count": 1,
   "id": "solved-silver",
   "metadata": {},
   "outputs": [],
   "source": [
    "import numpy  as np\n",
    "import pandas as pd\n",
    "import gc\n",
    "import pprint\n",
    "\n",
    "%matplotlib inline\n",
    "import matplotlib.pyplot as plt\n",
    "import seaborn           as sns\n",
    "\n",
    "from IPython.display import display"
   ]
  },
  {
   "cell_type": "code",
   "execution_count": null,
   "id": "innovative-chapter",
   "metadata": {},
   "outputs": [],
   "source": []
  },
  {
   "cell_type": "markdown",
   "id": "extensive-requirement",
   "metadata": {},
   "source": [
    "# fuzzy c-means"
   ]
  },
  {
   "cell_type": "markdown",
   "id": "peripheral-communist",
   "metadata": {},
   "source": [
    "## teoria"
   ]
  },
  {
   "cell_type": "markdown",
   "id": "painted-lincoln",
   "metadata": {},
   "source": [
    "## codigo"
   ]
  },
  {
   "cell_type": "markdown",
   "id": "fabulous-stylus",
   "metadata": {},
   "source": [
    "# mean-shift"
   ]
  },
  {
   "cell_type": "markdown",
   "id": "blond-provincial",
   "metadata": {},
   "source": [
    "## teoria"
   ]
  },
  {
   "cell_type": "markdown",
   "id": "mineral-public",
   "metadata": {},
   "source": [
    "## codigo"
   ]
  },
  {
   "cell_type": "markdown",
   "id": "controlling-nutrition",
   "metadata": {},
   "source": [
    "# k-means"
   ]
  },
  {
   "cell_type": "markdown",
   "id": "defined-regular",
   "metadata": {},
   "source": [
    "## teoria"
   ]
  },
  {
   "cell_type": "markdown",
   "id": "royal-declaration",
   "metadata": {},
   "source": [
    "## codigo"
   ]
  },
  {
   "cell_type": "markdown",
   "id": "sporting-louisville",
   "metadata": {},
   "source": [
    "# dbscan"
   ]
  },
  {
   "cell_type": "markdown",
   "id": "former-springfield",
   "metadata": {},
   "source": [
    "## teoria"
   ]
  },
  {
   "cell_type": "markdown",
   "id": "fallen-rally",
   "metadata": {},
   "source": [
    "## codigo"
   ]
  },
  {
   "cell_type": "markdown",
   "id": "quantitative-contract",
   "metadata": {},
   "source": [
    "# agglomerative"
   ]
  },
  {
   "cell_type": "markdown",
   "id": "vietnamese-twins",
   "metadata": {},
   "source": [
    "## teoria"
   ]
  },
  {
   "cell_type": "markdown",
   "id": "religious-calendar",
   "metadata": {},
   "source": [
    "## codigo"
   ]
  }
 ],
 "metadata": {
  "kernelspec": {
   "display_name": "Python 3",
   "language": "python",
   "name": "python3"
  },
  "language_info": {
   "codemirror_mode": {
    "name": "ipython",
    "version": 3
   },
   "file_extension": ".py",
   "mimetype": "text/x-python",
   "name": "python",
   "nbconvert_exporter": "python",
   "pygments_lexer": "ipython3",
   "version": "3.8.5"
  }
 },
 "nbformat": 4,
 "nbformat_minor": 5
}
