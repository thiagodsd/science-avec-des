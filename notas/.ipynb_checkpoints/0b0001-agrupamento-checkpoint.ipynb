{
 "cells": [
  {
   "cell_type": "markdown",
   "id": "miniature-benjamin",
   "metadata": {},
   "source": [
    "# fuzzy c-means"
   ]
  },
  {
   "cell_type": "markdown",
   "id": "fundamental-homeless",
   "metadata": {},
   "source": [
    "## teoria"
   ]
  },
  {
   "cell_type": "markdown",
   "id": "straight-counter",
   "metadata": {},
   "source": [
    "## codigo"
   ]
  },
  {
   "cell_type": "markdown",
   "id": "subsequent-scout",
   "metadata": {},
   "source": [
    "# mean-shift"
   ]
  },
  {
   "cell_type": "markdown",
   "id": "aware-virus",
   "metadata": {},
   "source": [
    "## teoria"
   ]
  },
  {
   "cell_type": "markdown",
   "id": "animated-phrase",
   "metadata": {},
   "source": [
    "## codigo"
   ]
  },
  {
   "cell_type": "markdown",
   "id": "velvet-lemon",
   "metadata": {},
   "source": [
    "# k-means"
   ]
  },
  {
   "cell_type": "markdown",
   "id": "eastern-affair",
   "metadata": {},
   "source": [
    "## teoria"
   ]
  },
  {
   "cell_type": "markdown",
   "id": "attempted-franklin",
   "metadata": {},
   "source": [
    "## codigo"
   ]
  },
  {
   "cell_type": "markdown",
   "id": "worse-pilot",
   "metadata": {},
   "source": [
    "# dbscan"
   ]
  },
  {
   "cell_type": "markdown",
   "id": "different-bridges",
   "metadata": {},
   "source": [
    "## teoria"
   ]
  },
  {
   "cell_type": "markdown",
   "id": "arranged-artwork",
   "metadata": {},
   "source": [
    "## codigo"
   ]
  },
  {
   "cell_type": "markdown",
   "id": "answering-change",
   "metadata": {},
   "source": [
    "# agglomerative"
   ]
  },
  {
   "cell_type": "markdown",
   "id": "transparent-pressing",
   "metadata": {},
   "source": [
    "## teoria"
   ]
  },
  {
   "cell_type": "markdown",
   "id": "hidden-cassette",
   "metadata": {},
   "source": [
    "## codigo"
   ]
  }
 ],
 "metadata": {
  "kernelspec": {
   "display_name": "Python 3",
   "language": "python",
   "name": "python3"
  },
  "language_info": {
   "codemirror_mode": {
    "name": "ipython",
    "version": 3
   },
   "file_extension": ".py",
   "mimetype": "text/x-python",
   "name": "python",
   "nbconvert_exporter": "python",
   "pygments_lexer": "ipython3",
   "version": "3.8.5"
  }
 },
 "nbformat": 4,
 "nbformat_minor": 5
}
