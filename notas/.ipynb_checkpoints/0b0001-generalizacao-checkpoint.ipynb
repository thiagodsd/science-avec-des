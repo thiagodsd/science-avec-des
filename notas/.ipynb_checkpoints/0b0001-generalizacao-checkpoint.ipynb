{
 "cells": [
  {
   "cell_type": "markdown",
   "id": "reasonable-spokesman",
   "metadata": {},
   "source": [
    "# sne"
   ]
  },
  {
   "cell_type": "markdown",
   "id": "convinced-death",
   "metadata": {},
   "source": [
    "## teoria"
   ]
  },
  {
   "cell_type": "markdown",
   "id": "narrow-fellowship",
   "metadata": {},
   "source": [
    "## codigo"
   ]
  },
  {
   "cell_type": "markdown",
   "id": "premier-paper",
   "metadata": {},
   "source": [
    "# pca"
   ]
  },
  {
   "cell_type": "markdown",
   "id": "distributed-editing",
   "metadata": {},
   "source": [
    "## teoria"
   ]
  },
  {
   "cell_type": "markdown",
   "id": "extraordinary-brass",
   "metadata": {},
   "source": [
    "## codigo"
   ]
  },
  {
   "cell_type": "markdown",
   "id": "freelance-blend",
   "metadata": {},
   "source": [
    "# lsa"
   ]
  },
  {
   "cell_type": "markdown",
   "id": "endless-renaissance",
   "metadata": {},
   "source": [
    "## teoria"
   ]
  },
  {
   "cell_type": "markdown",
   "id": "fatty-manitoba",
   "metadata": {},
   "source": [
    "## codigo"
   ]
  },
  {
   "cell_type": "markdown",
   "id": "contemporary-folder",
   "metadata": {},
   "source": [
    "# svd"
   ]
  },
  {
   "cell_type": "markdown",
   "id": "collected-coverage",
   "metadata": {},
   "source": [
    "## teoria"
   ]
  },
  {
   "cell_type": "markdown",
   "id": "optical-maintenance",
   "metadata": {},
   "source": [
    "## codigo"
   ]
  },
  {
   "cell_type": "markdown",
   "id": "medieval-bennett",
   "metadata": {},
   "source": [
    "# lda"
   ]
  },
  {
   "cell_type": "markdown",
   "id": "temporal-absolute",
   "metadata": {},
   "source": [
    "## teoria"
   ]
  },
  {
   "cell_type": "markdown",
   "id": "legendary-branch",
   "metadata": {},
   "source": [
    "## codigo"
   ]
  }
 ],
 "metadata": {
  "kernelspec": {
   "display_name": "Python 3",
   "language": "python",
   "name": "python3"
  },
  "language_info": {
   "codemirror_mode": {
    "name": "ipython",
    "version": 3
   },
   "file_extension": ".py",
   "mimetype": "text/x-python",
   "name": "python",
   "nbconvert_exporter": "python",
   "pygments_lexer": "ipython3",
   "version": "3.8.5"
  }
 },
 "nbformat": 4,
 "nbformat_minor": 5
}
