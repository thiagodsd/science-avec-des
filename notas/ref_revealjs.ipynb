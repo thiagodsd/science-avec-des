{
 "cells": [
  {
   "cell_type": "markdown",
   "id": "liquid-blogger",
   "metadata": {},
   "source": [
    "+ [Apresentações fantásticas com o Reveal.js by Diego Martins de Pinho](https://medium.com/code-prestige/revealjs-b20f83eaf104)\n",
    "+ [python - How do I separate slides when exporting an IPython notebook to reveal.js? - Stack Overflow](https://stackoverflow.com/questions/20441848/how-do-i-separate-slides-when-exporting-an-ipython-notebook-to-reveal-js#answer-33714574)"
   ]
  },
  {
   "cell_type": "markdown",
   "id": "criminal-rogers",
   "metadata": {},
   "source": [
    "."
   ]
  }
 ],
 "metadata": {
  "kernelspec": {
   "display_name": "Python 3",
   "language": "python",
   "name": "python3"
  },
  "language_info": {
   "codemirror_mode": {
    "name": "ipython",
    "version": 3
   },
   "file_extension": ".py",
   "mimetype": "text/x-python",
   "name": "python",
   "nbconvert_exporter": "python",
   "pygments_lexer": "ipython3",
   "version": "3.8.10"
  }
 },
 "nbformat": 4,
 "nbformat_minor": 5
}
