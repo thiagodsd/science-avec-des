{
 "cells": [
  {
   "cell_type": "code",
   "execution_count": 121,
   "id": "funny-qualification",
   "metadata": {},
   "outputs": [],
   "source": [
    "import gc\n",
    "import pprint\n",
    "import hashlib\n",
    "import tqdm\n",
    "\n",
    "import numpy  as np\n",
    "import pandas as pd\n",
    "\n",
    "%matplotlib inline\n",
    "import matplotlib.pyplot as plt\n",
    "import seaborn           as sns\n",
    "\n",
    "import torch\n",
    "import torch.nn as nn\n",
    "import torch.nn.functional as F\n",
    "\n",
    "from IPython.display import display"
   ]
  },
  {
   "cell_type": "code",
   "execution_count": 2,
   "id": "delayed-implement",
   "metadata": {
    "scrolled": true,
    "tags": []
   },
   "outputs": [
    {
     "data": {
      "text/html": [
       "<div>\n",
       "<style scoped>\n",
       "    .dataframe tbody tr th:only-of-type {\n",
       "        vertical-align: middle;\n",
       "    }\n",
       "\n",
       "    .dataframe tbody tr th {\n",
       "        vertical-align: top;\n",
       "    }\n",
       "\n",
       "    .dataframe thead th {\n",
       "        text-align: right;\n",
       "    }\n",
       "</style>\n",
       "<table border=\"1\" class=\"dataframe\">\n",
       "  <thead>\n",
       "    <tr style=\"text-align: right;\">\n",
       "      <th></th>\n",
       "      <th>Nome</th>\n",
       "      <th>Clube</th>\n",
       "      <th>Preço</th>\n",
       "      <th>J</th>\n",
       "      <th>Média</th>\n",
       "      <th>Últ. Pont.</th>\n",
       "      <th>Variação</th>\n",
       "      <th>DS</th>\n",
       "      <th>G</th>\n",
       "      <th>A</th>\n",
       "      <th>...</th>\n",
       "      <th>GS</th>\n",
       "      <th>FC</th>\n",
       "      <th>I</th>\n",
       "      <th>PI</th>\n",
       "      <th>rodada</th>\n",
       "      <th>ano</th>\n",
       "      <th>RB</th>\n",
       "      <th>PE</th>\n",
       "      <th>id</th>\n",
       "      <th>pos</th>\n",
       "    </tr>\n",
       "  </thead>\n",
       "  <tbody>\n",
       "    <tr>\n",
       "      <th>7240</th>\n",
       "      <td>Abel Braga (TEC)</td>\n",
       "      <td>Internacional</td>\n",
       "      <td>11.46</td>\n",
       "      <td>16.0</td>\n",
       "      <td>3.78</td>\n",
       "      <td>4.74</td>\n",
       "      <td>0.73</td>\n",
       "      <td>NaN</td>\n",
       "      <td>NaN</td>\n",
       "      <td>NaN</td>\n",
       "      <td>...</td>\n",
       "      <td>NaN</td>\n",
       "      <td>NaN</td>\n",
       "      <td>NaN</td>\n",
       "      <td>NaN</td>\n",
       "      <td>36</td>\n",
       "      <td>2020</td>\n",
       "      <td>NaN</td>\n",
       "      <td>NaN</td>\n",
       "      <td>89fcd561730cbd9cb19995a7106a268ed2bb8a1e</td>\n",
       "      <td>TEC</td>\n",
       "    </tr>\n",
       "    <tr>\n",
       "      <th>6793</th>\n",
       "      <td>Abel Braga (TEC)</td>\n",
       "      <td>Internacional</td>\n",
       "      <td>11.31</td>\n",
       "      <td>14.0</td>\n",
       "      <td>3.96</td>\n",
       "      <td>3.14</td>\n",
       "      <td>-0.18</td>\n",
       "      <td>NaN</td>\n",
       "      <td>NaN</td>\n",
       "      <td>NaN</td>\n",
       "      <td>...</td>\n",
       "      <td>NaN</td>\n",
       "      <td>NaN</td>\n",
       "      <td>NaN</td>\n",
       "      <td>NaN</td>\n",
       "      <td>34</td>\n",
       "      <td>2020</td>\n",
       "      <td>NaN</td>\n",
       "      <td>NaN</td>\n",
       "      <td>89fcd561730cbd9cb19995a7106a268ed2bb8a1e</td>\n",
       "      <td>TEC</td>\n",
       "    </tr>\n",
       "    <tr>\n",
       "      <th>6213</th>\n",
       "      <td>Abel Braga (TEC)</td>\n",
       "      <td>Internacional</td>\n",
       "      <td>11.71</td>\n",
       "      <td>11.0</td>\n",
       "      <td>4.11</td>\n",
       "      <td>7.06</td>\n",
       "      <td>0.48</td>\n",
       "      <td>NaN</td>\n",
       "      <td>NaN</td>\n",
       "      <td>NaN</td>\n",
       "      <td>...</td>\n",
       "      <td>NaN</td>\n",
       "      <td>NaN</td>\n",
       "      <td>NaN</td>\n",
       "      <td>NaN</td>\n",
       "      <td>31</td>\n",
       "      <td>2020</td>\n",
       "      <td>NaN</td>\n",
       "      <td>NaN</td>\n",
       "      <td>89fcd561730cbd9cb19995a7106a268ed2bb8a1e</td>\n",
       "      <td>TEC</td>\n",
       "    </tr>\n",
       "    <tr>\n",
       "      <th>8622</th>\n",
       "      <td>Abel Braga (TEC)</td>\n",
       "      <td>Flamengo</td>\n",
       "      <td>10.28</td>\n",
       "      <td>4.0</td>\n",
       "      <td>3.58</td>\n",
       "      <td>4.30</td>\n",
       "      <td>0.43</td>\n",
       "      <td>NaN</td>\n",
       "      <td>NaN</td>\n",
       "      <td>NaN</td>\n",
       "      <td>...</td>\n",
       "      <td>NaN</td>\n",
       "      <td>NaN</td>\n",
       "      <td>NaN</td>\n",
       "      <td>NaN</td>\n",
       "      <td>4</td>\n",
       "      <td>2019</td>\n",
       "      <td>NaN</td>\n",
       "      <td>NaN</td>\n",
       "      <td>89fcd561730cbd9cb19995a7106a268ed2bb8a1e</td>\n",
       "      <td>TEC</td>\n",
       "    </tr>\n",
       "    <tr>\n",
       "      <th>8840</th>\n",
       "      <td>Abel Braga (TEC)</td>\n",
       "      <td>Flamengo</td>\n",
       "      <td>10.53</td>\n",
       "      <td>5.0</td>\n",
       "      <td>3.82</td>\n",
       "      <td>4.79</td>\n",
       "      <td>0.25</td>\n",
       "      <td>NaN</td>\n",
       "      <td>NaN</td>\n",
       "      <td>NaN</td>\n",
       "      <td>...</td>\n",
       "      <td>NaN</td>\n",
       "      <td>NaN</td>\n",
       "      <td>NaN</td>\n",
       "      <td>NaN</td>\n",
       "      <td>5</td>\n",
       "      <td>2019</td>\n",
       "      <td>NaN</td>\n",
       "      <td>NaN</td>\n",
       "      <td>89fcd561730cbd9cb19995a7106a268ed2bb8a1e</td>\n",
       "      <td>TEC</td>\n",
       "    </tr>\n",
       "    <tr>\n",
       "      <th>...</th>\n",
       "      <td>...</td>\n",
       "      <td>...</td>\n",
       "      <td>...</td>\n",
       "      <td>...</td>\n",
       "      <td>...</td>\n",
       "      <td>...</td>\n",
       "      <td>...</td>\n",
       "      <td>...</td>\n",
       "      <td>...</td>\n",
       "      <td>...</td>\n",
       "      <td>...</td>\n",
       "      <td>...</td>\n",
       "      <td>...</td>\n",
       "      <td>...</td>\n",
       "      <td>...</td>\n",
       "      <td>...</td>\n",
       "      <td>...</td>\n",
       "      <td>...</td>\n",
       "      <td>...</td>\n",
       "      <td>...</td>\n",
       "      <td>...</td>\n",
       "    </tr>\n",
       "    <tr>\n",
       "      <th>14192</th>\n",
       "      <td>Éverson (GOL)</td>\n",
       "      <td>Santos</td>\n",
       "      <td>9.79</td>\n",
       "      <td>23.0</td>\n",
       "      <td>4.25</td>\n",
       "      <td>8.00</td>\n",
       "      <td>-0.06</td>\n",
       "      <td>NaN</td>\n",
       "      <td>NaN</td>\n",
       "      <td>NaN</td>\n",
       "      <td>...</td>\n",
       "      <td>20.0</td>\n",
       "      <td>1.0</td>\n",
       "      <td>NaN</td>\n",
       "      <td>NaN</td>\n",
       "      <td>29</td>\n",
       "      <td>2019</td>\n",
       "      <td>NaN</td>\n",
       "      <td>34.0</td>\n",
       "      <td>6d99fcc3bc6b30aced0353e17beee4f211c2ee4a</td>\n",
       "      <td>GOL</td>\n",
       "    </tr>\n",
       "    <tr>\n",
       "      <th>10828</th>\n",
       "      <td>Éverson (GOL)</td>\n",
       "      <td>Santos</td>\n",
       "      <td>8.62</td>\n",
       "      <td>8.0</td>\n",
       "      <td>4.36</td>\n",
       "      <td>6.20</td>\n",
       "      <td>1.45</td>\n",
       "      <td>NaN</td>\n",
       "      <td>NaN</td>\n",
       "      <td>NaN</td>\n",
       "      <td>...</td>\n",
       "      <td>6.0</td>\n",
       "      <td>NaN</td>\n",
       "      <td>NaN</td>\n",
       "      <td>NaN</td>\n",
       "      <td>14</td>\n",
       "      <td>2019</td>\n",
       "      <td>NaN</td>\n",
       "      <td>7.0</td>\n",
       "      <td>6d99fcc3bc6b30aced0353e17beee4f211c2ee4a</td>\n",
       "      <td>GOL</td>\n",
       "    </tr>\n",
       "    <tr>\n",
       "      <th>7848</th>\n",
       "      <td>Ênio (MEI)</td>\n",
       "      <td>Botafogo</td>\n",
       "      <td>0.85</td>\n",
       "      <td>4.0</td>\n",
       "      <td>1.35</td>\n",
       "      <td>-0.20</td>\n",
       "      <td>-0.53</td>\n",
       "      <td>2.0</td>\n",
       "      <td>NaN</td>\n",
       "      <td>NaN</td>\n",
       "      <td>...</td>\n",
       "      <td>NaN</td>\n",
       "      <td>1.0</td>\n",
       "      <td>1.0</td>\n",
       "      <td>12.0</td>\n",
       "      <td>38</td>\n",
       "      <td>2020</td>\n",
       "      <td>NaN</td>\n",
       "      <td>NaN</td>\n",
       "      <td>98db7cfc8e99fe42e23ab3d1f8b9359815e9c023</td>\n",
       "      <td>MEI</td>\n",
       "    </tr>\n",
       "    <tr>\n",
       "      <th>7589</th>\n",
       "      <td>Ênio (MEI)</td>\n",
       "      <td>Botafogo</td>\n",
       "      <td>1.38</td>\n",
       "      <td>3.0</td>\n",
       "      <td>1.87</td>\n",
       "      <td>3.10</td>\n",
       "      <td>0.32</td>\n",
       "      <td>2.0</td>\n",
       "      <td>NaN</td>\n",
       "      <td>NaN</td>\n",
       "      <td>...</td>\n",
       "      <td>NaN</td>\n",
       "      <td>NaN</td>\n",
       "      <td>1.0</td>\n",
       "      <td>3.0</td>\n",
       "      <td>37</td>\n",
       "      <td>2020</td>\n",
       "      <td>NaN</td>\n",
       "      <td>NaN</td>\n",
       "      <td>98db7cfc8e99fe42e23ab3d1f8b9359815e9c023</td>\n",
       "      <td>MEI</td>\n",
       "    </tr>\n",
       "    <tr>\n",
       "      <th>7156</th>\n",
       "      <td>Índio (ATA)</td>\n",
       "      <td>Goiás</td>\n",
       "      <td>2.40</td>\n",
       "      <td>9.0</td>\n",
       "      <td>1.61</td>\n",
       "      <td>5.80</td>\n",
       "      <td>0.18</td>\n",
       "      <td>5.0</td>\n",
       "      <td>1.0</td>\n",
       "      <td>1.0</td>\n",
       "      <td>...</td>\n",
       "      <td>NaN</td>\n",
       "      <td>8.0</td>\n",
       "      <td>NaN</td>\n",
       "      <td>25.0</td>\n",
       "      <td>35</td>\n",
       "      <td>2020</td>\n",
       "      <td>NaN</td>\n",
       "      <td>NaN</td>\n",
       "      <td>51a3c733c0e9607d34cfcfa18495308690337e71</td>\n",
       "      <td>ATA</td>\n",
       "    </tr>\n",
       "  </tbody>\n",
       "</table>\n",
       "<p>16404 rows × 31 columns</p>\n",
       "</div>"
      ],
      "text/plain": [
       "                   Nome          Clube  Preço     J  Média  Últ. Pont.  \\\n",
       "7240   Abel Braga (TEC)  Internacional  11.46  16.0   3.78        4.74   \n",
       "6793   Abel Braga (TEC)  Internacional  11.31  14.0   3.96        3.14   \n",
       "6213   Abel Braga (TEC)  Internacional  11.71  11.0   4.11        7.06   \n",
       "8622   Abel Braga (TEC)       Flamengo  10.28   4.0   3.58        4.30   \n",
       "8840   Abel Braga (TEC)       Flamengo  10.53   5.0   3.82        4.79   \n",
       "...                 ...            ...    ...   ...    ...         ...   \n",
       "14192     Éverson (GOL)         Santos   9.79  23.0   4.25        8.00   \n",
       "10828     Éverson (GOL)         Santos   8.62   8.0   4.36        6.20   \n",
       "7848         Ênio (MEI)       Botafogo   0.85   4.0   1.35       -0.20   \n",
       "7589         Ênio (MEI)       Botafogo   1.38   3.0   1.87        3.10   \n",
       "7156        Índio (ATA)          Goiás   2.40   9.0   1.61        5.80   \n",
       "\n",
       "       Variação   DS    G    A  ...    GS   FC    I    PI  rodada   ano  RB  \\\n",
       "7240       0.73  NaN  NaN  NaN  ...   NaN  NaN  NaN   NaN      36  2020 NaN   \n",
       "6793      -0.18  NaN  NaN  NaN  ...   NaN  NaN  NaN   NaN      34  2020 NaN   \n",
       "6213       0.48  NaN  NaN  NaN  ...   NaN  NaN  NaN   NaN      31  2020 NaN   \n",
       "8622       0.43  NaN  NaN  NaN  ...   NaN  NaN  NaN   NaN       4  2019 NaN   \n",
       "8840       0.25  NaN  NaN  NaN  ...   NaN  NaN  NaN   NaN       5  2019 NaN   \n",
       "...         ...  ...  ...  ...  ...   ...  ...  ...   ...     ...   ...  ..   \n",
       "14192     -0.06  NaN  NaN  NaN  ...  20.0  1.0  NaN   NaN      29  2019 NaN   \n",
       "10828      1.45  NaN  NaN  NaN  ...   6.0  NaN  NaN   NaN      14  2019 NaN   \n",
       "7848      -0.53  2.0  NaN  NaN  ...   NaN  1.0  1.0  12.0      38  2020 NaN   \n",
       "7589       0.32  2.0  NaN  NaN  ...   NaN  NaN  1.0   3.0      37  2020 NaN   \n",
       "7156       0.18  5.0  1.0  1.0  ...   NaN  8.0  NaN  25.0      35  2020 NaN   \n",
       "\n",
       "         PE                                        id  pos  \n",
       "7240    NaN  89fcd561730cbd9cb19995a7106a268ed2bb8a1e  TEC  \n",
       "6793    NaN  89fcd561730cbd9cb19995a7106a268ed2bb8a1e  TEC  \n",
       "6213    NaN  89fcd561730cbd9cb19995a7106a268ed2bb8a1e  TEC  \n",
       "8622    NaN  89fcd561730cbd9cb19995a7106a268ed2bb8a1e  TEC  \n",
       "8840    NaN  89fcd561730cbd9cb19995a7106a268ed2bb8a1e  TEC  \n",
       "...     ...                                       ...  ...  \n",
       "14192  34.0  6d99fcc3bc6b30aced0353e17beee4f211c2ee4a  GOL  \n",
       "10828   7.0  6d99fcc3bc6b30aced0353e17beee4f211c2ee4a  GOL  \n",
       "7848    NaN  98db7cfc8e99fe42e23ab3d1f8b9359815e9c023  MEI  \n",
       "7589    NaN  98db7cfc8e99fe42e23ab3d1f8b9359815e9c023  MEI  \n",
       "7156    NaN  51a3c733c0e9607d34cfcfa18495308690337e71  ATA  \n",
       "\n",
       "[16404 rows x 31 columns]"
      ]
     },
     "metadata": {},
     "output_type": "display_data"
    },
    {
     "data": {
      "text/html": [
       "<div>\n",
       "<style scoped>\n",
       "    .dataframe tbody tr th:only-of-type {\n",
       "        vertical-align: middle;\n",
       "    }\n",
       "\n",
       "    .dataframe tbody tr th {\n",
       "        vertical-align: top;\n",
       "    }\n",
       "\n",
       "    .dataframe thead th {\n",
       "        text-align: right;\n",
       "    }\n",
       "</style>\n",
       "<table border=\"1\" class=\"dataframe\">\n",
       "  <thead>\n",
       "    <tr style=\"text-align: right;\">\n",
       "      <th></th>\n",
       "      <th>id</th>\n",
       "      <th>ano</th>\n",
       "      <th>DS_sum</th>\n",
       "      <th>G_sum</th>\n",
       "      <th>A_sum</th>\n",
       "      <th>SG_sum</th>\n",
       "      <th>FS_sum</th>\n",
       "      <th>FF_sum</th>\n",
       "      <th>FD_sum</th>\n",
       "      <th>FT_sum</th>\n",
       "      <th>...</th>\n",
       "      <th>GC_sum</th>\n",
       "      <th>CV_sum</th>\n",
       "      <th>CA_sum</th>\n",
       "      <th>PP_sum</th>\n",
       "      <th>GS_sum</th>\n",
       "      <th>FC_sum</th>\n",
       "      <th>I_sum</th>\n",
       "      <th>PI_sum</th>\n",
       "      <th>RB_sum</th>\n",
       "      <th>PE_sum</th>\n",
       "    </tr>\n",
       "  </thead>\n",
       "  <tbody>\n",
       "    <tr>\n",
       "      <th>15</th>\n",
       "      <td>02298558fc62de33ac20df652f71cf734bd41237</td>\n",
       "      <td>2020</td>\n",
       "      <td>80.0</td>\n",
       "      <td>0.0</td>\n",
       "      <td>0.0</td>\n",
       "      <td>0.0</td>\n",
       "      <td>25.0</td>\n",
       "      <td>12.0</td>\n",
       "      <td>11.0</td>\n",
       "      <td>0.0</td>\n",
       "      <td>...</td>\n",
       "      <td>0.0</td>\n",
       "      <td>0.0</td>\n",
       "      <td>19.0</td>\n",
       "      <td>0.0</td>\n",
       "      <td>0.0</td>\n",
       "      <td>75.0</td>\n",
       "      <td>0.0</td>\n",
       "      <td>149.0</td>\n",
       "      <td>0.0</td>\n",
       "      <td>0.0</td>\n",
       "    </tr>\n",
       "    <tr>\n",
       "      <th>1254</th>\n",
       "      <td>fa81716fb18d99919931dae046b2dea713ae2036</td>\n",
       "      <td>2020</td>\n",
       "      <td>0.0</td>\n",
       "      <td>0.0</td>\n",
       "      <td>0.0</td>\n",
       "      <td>1.0</td>\n",
       "      <td>1.0</td>\n",
       "      <td>0.0</td>\n",
       "      <td>0.0</td>\n",
       "      <td>0.0</td>\n",
       "      <td>...</td>\n",
       "      <td>0.0</td>\n",
       "      <td>0.0</td>\n",
       "      <td>4.0</td>\n",
       "      <td>0.0</td>\n",
       "      <td>21.0</td>\n",
       "      <td>0.0</td>\n",
       "      <td>0.0</td>\n",
       "      <td>98.0</td>\n",
       "      <td>0.0</td>\n",
       "      <td>0.0</td>\n",
       "    </tr>\n",
       "    <tr>\n",
       "      <th>268</th>\n",
       "      <td>3216f76537a923f901ca7f02f22bf47a4f2cc002</td>\n",
       "      <td>2020</td>\n",
       "      <td>53.0</td>\n",
       "      <td>7.0</td>\n",
       "      <td>19.0</td>\n",
       "      <td>0.0</td>\n",
       "      <td>81.0</td>\n",
       "      <td>31.0</td>\n",
       "      <td>18.0</td>\n",
       "      <td>0.0</td>\n",
       "      <td>...</td>\n",
       "      <td>0.0</td>\n",
       "      <td>0.0</td>\n",
       "      <td>11.0</td>\n",
       "      <td>0.0</td>\n",
       "      <td>0.0</td>\n",
       "      <td>66.0</td>\n",
       "      <td>0.0</td>\n",
       "      <td>253.0</td>\n",
       "      <td>0.0</td>\n",
       "      <td>0.0</td>\n",
       "    </tr>\n",
       "    <tr>\n",
       "      <th>557</th>\n",
       "      <td>6ca56a7d80b22f0bd2f979848820347ba945daa1</td>\n",
       "      <td>2020</td>\n",
       "      <td>809.0</td>\n",
       "      <td>14.0</td>\n",
       "      <td>24.0</td>\n",
       "      <td>0.0</td>\n",
       "      <td>646.0</td>\n",
       "      <td>167.0</td>\n",
       "      <td>126.0</td>\n",
       "      <td>0.0</td>\n",
       "      <td>...</td>\n",
       "      <td>0.0</td>\n",
       "      <td>0.0</td>\n",
       "      <td>57.0</td>\n",
       "      <td>0.0</td>\n",
       "      <td>0.0</td>\n",
       "      <td>322.0</td>\n",
       "      <td>35.0</td>\n",
       "      <td>2598.0</td>\n",
       "      <td>0.0</td>\n",
       "      <td>0.0</td>\n",
       "    </tr>\n",
       "    <tr>\n",
       "      <th>1073</th>\n",
       "      <td>d7fd32c89a4eb2eed369c45871790f8fd43e5cc1</td>\n",
       "      <td>2020</td>\n",
       "      <td>0.0</td>\n",
       "      <td>0.0</td>\n",
       "      <td>0.0</td>\n",
       "      <td>0.0</td>\n",
       "      <td>0.0</td>\n",
       "      <td>0.0</td>\n",
       "      <td>0.0</td>\n",
       "      <td>0.0</td>\n",
       "      <td>...</td>\n",
       "      <td>0.0</td>\n",
       "      <td>0.0</td>\n",
       "      <td>0.0</td>\n",
       "      <td>0.0</td>\n",
       "      <td>0.0</td>\n",
       "      <td>0.0</td>\n",
       "      <td>0.0</td>\n",
       "      <td>0.0</td>\n",
       "      <td>0.0</td>\n",
       "      <td>0.0</td>\n",
       "    </tr>\n",
       "  </tbody>\n",
       "</table>\n",
       "<p>5 rows × 22 columns</p>\n",
       "</div>"
      ],
      "text/plain": [
       "                                            id   ano  DS_sum  G_sum  A_sum  \\\n",
       "15    02298558fc62de33ac20df652f71cf734bd41237  2020    80.0    0.0    0.0   \n",
       "1254  fa81716fb18d99919931dae046b2dea713ae2036  2020     0.0    0.0    0.0   \n",
       "268   3216f76537a923f901ca7f02f22bf47a4f2cc002  2020    53.0    7.0   19.0   \n",
       "557   6ca56a7d80b22f0bd2f979848820347ba945daa1  2020   809.0   14.0   24.0   \n",
       "1073  d7fd32c89a4eb2eed369c45871790f8fd43e5cc1  2020     0.0    0.0    0.0   \n",
       "\n",
       "      SG_sum  FS_sum  FF_sum  FD_sum  FT_sum  ...  GC_sum  CV_sum  CA_sum  \\\n",
       "15       0.0    25.0    12.0    11.0     0.0  ...     0.0     0.0    19.0   \n",
       "1254     1.0     1.0     0.0     0.0     0.0  ...     0.0     0.0     4.0   \n",
       "268      0.0    81.0    31.0    18.0     0.0  ...     0.0     0.0    11.0   \n",
       "557      0.0   646.0   167.0   126.0     0.0  ...     0.0     0.0    57.0   \n",
       "1073     0.0     0.0     0.0     0.0     0.0  ...     0.0     0.0     0.0   \n",
       "\n",
       "      PP_sum  GS_sum  FC_sum  I_sum  PI_sum  RB_sum  PE_sum  \n",
       "15       0.0     0.0    75.0    0.0   149.0     0.0     0.0  \n",
       "1254     0.0    21.0     0.0    0.0    98.0     0.0     0.0  \n",
       "268      0.0     0.0    66.0    0.0   253.0     0.0     0.0  \n",
       "557      0.0     0.0   322.0   35.0  2598.0     0.0     0.0  \n",
       "1073     0.0     0.0     0.0    0.0     0.0     0.0     0.0  \n",
       "\n",
       "[5 rows x 22 columns]"
      ]
     },
     "metadata": {},
     "output_type": "display_data"
    },
    {
     "data": {
      "text/html": [
       "<div>\n",
       "<style scoped>\n",
       "    .dataframe tbody tr th:only-of-type {\n",
       "        vertical-align: middle;\n",
       "    }\n",
       "\n",
       "    .dataframe tbody tr th {\n",
       "        vertical-align: top;\n",
       "    }\n",
       "\n",
       "    .dataframe thead th {\n",
       "        text-align: right;\n",
       "    }\n",
       "</style>\n",
       "<table border=\"1\" class=\"dataframe\">\n",
       "  <thead>\n",
       "    <tr style=\"text-align: right;\">\n",
       "      <th></th>\n",
       "      <th>id</th>\n",
       "      <th>ano</th>\n",
       "      <th>Preço_sum</th>\n",
       "      <th>Média_sum</th>\n",
       "      <th>Variação_sum</th>\n",
       "    </tr>\n",
       "  </thead>\n",
       "  <tbody>\n",
       "    <tr>\n",
       "      <th>27</th>\n",
       "      <td>04b1f8558ecd4fec1c6d96a9aad8ab2a75771229</td>\n",
       "      <td>2019</td>\n",
       "      <td>138.72</td>\n",
       "      <td>36.82</td>\n",
       "      <td>-2.22</td>\n",
       "    </tr>\n",
       "    <tr>\n",
       "      <th>597</th>\n",
       "      <td>7709a17ad466995ef2870dd1f3a499a96c1f7e6e</td>\n",
       "      <td>2020</td>\n",
       "      <td>218.52</td>\n",
       "      <td>85.95</td>\n",
       "      <td>4.27</td>\n",
       "    </tr>\n",
       "    <tr>\n",
       "      <th>1258</th>\n",
       "      <td>fbd932aea7f01c99bfb2368ab4c7e3e840e015e2</td>\n",
       "      <td>2019</td>\n",
       "      <td>1.79</td>\n",
       "      <td>-0.10</td>\n",
       "      <td>-0.39</td>\n",
       "    </tr>\n",
       "    <tr>\n",
       "      <th>924</th>\n",
       "      <td>b74c1950b9d812c347c3ff8cdc4d233e436c9099</td>\n",
       "      <td>2020</td>\n",
       "      <td>13.02</td>\n",
       "      <td>4.42</td>\n",
       "      <td>-1.67</td>\n",
       "    </tr>\n",
       "    <tr>\n",
       "      <th>180</th>\n",
       "      <td>20426114ee2f8b68b1fe2479b073295350b18ad7</td>\n",
       "      <td>2020</td>\n",
       "      <td>123.34</td>\n",
       "      <td>98.51</td>\n",
       "      <td>2.94</td>\n",
       "    </tr>\n",
       "  </tbody>\n",
       "</table>\n",
       "</div>"
      ],
      "text/plain": [
       "                                            id   ano  Preço_sum  Média_sum  \\\n",
       "27    04b1f8558ecd4fec1c6d96a9aad8ab2a75771229  2019     138.72      36.82   \n",
       "597   7709a17ad466995ef2870dd1f3a499a96c1f7e6e  2020     218.52      85.95   \n",
       "1258  fbd932aea7f01c99bfb2368ab4c7e3e840e015e2  2019       1.79      -0.10   \n",
       "924   b74c1950b9d812c347c3ff8cdc4d233e436c9099  2020      13.02       4.42   \n",
       "180   20426114ee2f8b68b1fe2479b073295350b18ad7  2020     123.34      98.51   \n",
       "\n",
       "      Variação_sum  \n",
       "27           -2.22  \n",
       "597           4.27  \n",
       "1258         -0.39  \n",
       "924          -1.67  \n",
       "180           2.94  "
      ]
     },
     "metadata": {},
     "output_type": "display_data"
    },
    {
     "data": {
      "text/html": [
       "<div>\n",
       "<style scoped>\n",
       "    .dataframe tbody tr th:only-of-type {\n",
       "        vertical-align: middle;\n",
       "    }\n",
       "\n",
       "    .dataframe tbody tr th {\n",
       "        vertical-align: top;\n",
       "    }\n",
       "\n",
       "    .dataframe thead th {\n",
       "        text-align: right;\n",
       "    }\n",
       "</style>\n",
       "<table border=\"1\" class=\"dataframe\">\n",
       "  <thead>\n",
       "    <tr style=\"text-align: right;\">\n",
       "      <th></th>\n",
       "      <th>id</th>\n",
       "      <th>ano</th>\n",
       "      <th>pos_first</th>\n",
       "    </tr>\n",
       "  </thead>\n",
       "  <tbody>\n",
       "    <tr>\n",
       "      <th>497</th>\n",
       "      <td>61da772d29db083dd7e9d9c156b5671ecfec1b1f</td>\n",
       "      <td>2019</td>\n",
       "      <td>ZAG</td>\n",
       "    </tr>\n",
       "    <tr>\n",
       "      <th>613</th>\n",
       "      <td>79471fa35f3143ed842e45095f0f50314476b2a9</td>\n",
       "      <td>2020</td>\n",
       "      <td>ATA</td>\n",
       "    </tr>\n",
       "    <tr>\n",
       "      <th>1054</th>\n",
       "      <td>d4be38a7845b32c17edd1b405c9efb8651670788</td>\n",
       "      <td>2020</td>\n",
       "      <td>ZAG</td>\n",
       "    </tr>\n",
       "    <tr>\n",
       "      <th>558</th>\n",
       "      <td>6caa90102c9e83a1c5e6fef4c9992eb00ce4d533</td>\n",
       "      <td>2020</td>\n",
       "      <td>GOL</td>\n",
       "    </tr>\n",
       "    <tr>\n",
       "      <th>732</th>\n",
       "      <td>940511f49a13679e4338c3ba7feee1bd5bfbfb71</td>\n",
       "      <td>2019</td>\n",
       "      <td>LAT</td>\n",
       "    </tr>\n",
       "  </tbody>\n",
       "</table>\n",
       "</div>"
      ],
      "text/plain": [
       "                                            id   ano pos_first\n",
       "497   61da772d29db083dd7e9d9c156b5671ecfec1b1f  2019       ZAG\n",
       "613   79471fa35f3143ed842e45095f0f50314476b2a9  2020       ATA\n",
       "1054  d4be38a7845b32c17edd1b405c9efb8651670788  2020       ZAG\n",
       "558   6caa90102c9e83a1c5e6fef4c9992eb00ce4d533  2020       GOL\n",
       "732   940511f49a13679e4338c3ba7feee1bd5bfbfb71  2019       LAT"
      ]
     },
     "metadata": {},
     "output_type": "display_data"
    },
    {
     "data": {
      "text/plain": [
       "MEI    408\n",
       "ATA    285\n",
       "ZAG    203\n",
       "LAT    200\n",
       "GOL     96\n",
       "TEC     91\n",
       "Name: pos_first, dtype: int64"
      ]
     },
     "metadata": {},
     "output_type": "display_data"
    }
   ],
   "source": [
    "df = pd.read_csv('~/Documents/data/cartola-fc-brasil-scouts/jogadores.csv')\n",
    "\n",
    "df['id']  = df['Nome'].apply( lambda x: hashlib.sha1(str.encode(x)).hexdigest() )\n",
    "df['pos'] = df['Nome'].apply( lambda x: x.split('(')[-1].split(')')[0].strip() )\n",
    "\n",
    "display( df.sort_values(by=\"Nome\") )\n",
    "\n",
    "scouts  = ['DS','G','A','SG','FS','FF','FD','FT','DD','DP','GC','CV','CA','PP','GS','FC','I','PI','RB','PE']\n",
    "mercado = ['Preço', 'Média','Variação']\n",
    "keys    = [\"id\", \"ano\"]\n",
    "\n",
    "gscouts = df.groupby(keys)[scouts].agg(['sum'])\n",
    "gscouts.columns = gscouts.columns.map('_'.join)\n",
    "gscouts = gscouts.reset_index()\n",
    "\n",
    "gmercado = df.groupby(keys)[mercado].agg(['sum'])\n",
    "gmercado.columns = gmercado.columns.map('_'.join)\n",
    "gmercado = gmercado.reset_index()\n",
    "\n",
    "gpos = df.groupby(keys)[['pos']].agg(['first'])\n",
    "gpos.columns = gpos.columns.map('_'.join)\n",
    "gpos = gpos.reset_index()\n",
    "\n",
    "display(gscouts.sample(5))\n",
    "display(gmercado.sample(5))\n",
    "display(gpos.sample(5))\n",
    "\n",
    "display(gpos['pos_first'].value_counts())"
   ]
  },
  {
   "cell_type": "markdown",
   "id": "third-bikini",
   "metadata": {},
   "source": [
    "# feedforward neural network"
   ]
  },
  {
   "cell_type": "markdown",
   "id": "quality-argument",
   "metadata": {},
   "source": [
    "## teoria"
   ]
  },
  {
   "cell_type": "markdown",
   "id": "demonstrated-terrace",
   "metadata": {},
   "source": [
    "_A perceptron is always feedforward, that is, all the arrows are going in the direction of the output. Neural networks in general might have loops, and if so, are often called recurrent networks. (...) Finally, having multiple layers means more than two layers, that is, you have hidden layers. A perceptron is a network with two layers, one input and one output. A multilayered network means that you have at least one hidden layer (we call all the layers between the input and output layers hidden)._ [ref](https://cs.stackexchange.com/a/53656)"
   ]
  },
  {
   "cell_type": "markdown",
   "id": "nearby-jones",
   "metadata": {},
   "source": [
    "## codigo"
   ]
  },
  {
   "cell_type": "markdown",
   "id": "superb-fraction",
   "metadata": {},
   "source": [
    "### binário"
   ]
  },
  {
   "cell_type": "code",
   "execution_count": 65,
   "id": "amazing-investment",
   "metadata": {},
   "outputs": [],
   "source": [
    "from sklearn.preprocessing   import StandardScaler\n",
    "from sklearn.model_selection import train_test_split\n",
    "\n",
    "scaler = StandardScaler()\n",
    "\n",
    "X = pd.concat([gscouts.drop(columns=keys), gmercado.drop(columns=keys)], axis=1).copy(); X_columns = X.columns\n",
    "X = X.astype(np.float64).fillna(0.0).values\n",
    "X = scaler.fit_transform( X )\n",
    "\n",
    "y = np.where(gpos['pos_first']=='ATA', 1, 0)"
   ]
  },
  {
   "cell_type": "code",
   "execution_count": 66,
   "id": "environmental-dividend",
   "metadata": {},
   "outputs": [],
   "source": [
    "X_train, X_holdout, y_train, y_holdout = train_test_split(X, y, test_size = 0.2, random_state = 37)"
   ]
  },
  {
   "cell_type": "markdown",
   "id": "spanish-reply",
   "metadata": {},
   "source": [
    "- - -"
   ]
  },
  {
   "cell_type": "code",
   "execution_count": 67,
   "id": "magnetic-world",
   "metadata": {},
   "outputs": [
    {
     "name": "stdout",
     "output_type": "stream",
     "text": [
      "True 0\n",
      "GeForce GTX 1660 Ti\n"
     ]
    }
   ],
   "source": [
    "print(torch.cuda.is_available(), torch.cuda.current_device())\n",
    "print(torch.cuda.get_device_name(torch.cuda.current_device()))"
   ]
  },
  {
   "cell_type": "code",
   "execution_count": 166,
   "id": "attempted-bacteria",
   "metadata": {},
   "outputs": [
    {
     "name": "stdout",
     "output_type": "stream",
     "text": [
      "using device: cuda\n"
     ]
    }
   ],
   "source": [
    "device = torch.device('cuda' if torch.cuda.is_available() else 'cpu')\n",
    "print('using device:', device)"
   ]
  },
  {
   "cell_type": "code",
   "execution_count": 167,
   "id": "optimum-following",
   "metadata": {},
   "outputs": [
    {
     "name": "stdout",
     "output_type": "stream",
     "text": [
      "memory usage:\n",
      "allocated   : 0.0 GB\n",
      "cached      : 0.0 GB\n"
     ]
    }
   ],
   "source": [
    "if device.type == 'cuda':\n",
    "    print('memory usage:')\n",
    "    print('allocated   :', round(torch.cuda.memory_allocated(0)/1024**3,1), 'GB')\n",
    "    print('cached      :', round(torch.cuda.memory_reserved(0)/1024**3,1), 'GB')"
   ]
  },
  {
   "cell_type": "code",
   "execution_count": 70,
   "id": "surrounded-terry",
   "metadata": {},
   "outputs": [],
   "source": [
    "Xt = torch.from_numpy(X_train).type(torch.FloatTensor)\n",
    "Xh = torch.from_numpy(X_holdout).type(torch.FloatTensor)\n",
    "yt = torch.from_numpy(y_train).type(torch.LongTensor)\n",
    "yh = torch.from_numpy(y_holdout).type(torch.LongTensor) "
   ]
  },
  {
   "cell_type": "code",
   "execution_count": 71,
   "id": "dress-union",
   "metadata": {},
   "outputs": [
    {
     "name": "stdout",
     "output_type": "stream",
     "text": [
      "torch.Size([1026, 23])\n",
      "torch.Size([257, 23])\n",
      "torch.Size([1026])\n",
      "torch.Size([257])\n"
     ]
    }
   ],
   "source": [
    "print(Xt.shape)\n",
    "print(Xh.shape)\n",
    "print(yt.shape)\n",
    "print(yh.shape)"
   ]
  },
  {
   "cell_type": "code",
   "execution_count": 72,
   "id": "marked-plaza",
   "metadata": {},
   "outputs": [],
   "source": [
    "class Net(nn.Module):\n",
    "    def __init__(self):\n",
    "        super(Net, self).__init__()\n",
    "        self.fc1 = nn.Linear(23, 3)\n",
    "        self.fc2 = nn.Linear(3, 2)\n",
    "        \n",
    "    def forward(self,x):\n",
    "        x = self.fc1(x) # 1st layer\n",
    "        x = torch.tanh(x)   # hidden layer\n",
    "        x = self.fc2(x) # output layer\n",
    "        return x\n",
    "        \n",
    "    def predict(self,x):\n",
    "        pred = F.softmax(self.forward(x), dim=1)\n",
    "        ans  = []\n",
    "        for t in pred:\n",
    "            if t[0] > t[1]:\n",
    "                ans.append(0)\n",
    "            else:\n",
    "                ans.append(1)\n",
    "        return torch.tensor(ans)"
   ]
  },
  {
   "cell_type": "code",
   "execution_count": 73,
   "id": "renewable-destruction",
   "metadata": {},
   "outputs": [],
   "source": [
    "rede = Net()\n",
    "crt  = nn.CrossEntropyLoss()\n",
    "opt = torch.optim.Adam(rede.parameters(), lr=0.01)"
   ]
  },
  {
   "cell_type": "markdown",
   "id": "excellent-spray",
   "metadata": {},
   "source": [
    "treino"
   ]
  },
  {
   "cell_type": "code",
   "execution_count": 74,
   "id": "figured-minimum",
   "metadata": {},
   "outputs": [
    {
     "name": "stdout",
     "output_type": "stream",
     "text": [
      "CPU times: user 1min 50s, sys: 1.73 s, total: 1min 51s\n",
      "Wall time: 7.92 s\n"
     ]
    }
   ],
   "source": [
    "%%time\n",
    "epochs = 10000\n",
    "losses = []\n",
    "\n",
    "for i in range(epochs):\n",
    "    y_pred = rede.forward(Xt)\n",
    "    loss   = crt(y_pred, yt)\n",
    "    losses.append( loss.item() )\n",
    "    \n",
    "    opt.zero_grad() # clear the previous gradients\n",
    "    loss.backward() # compute gradients\n",
    "    opt.step()      # adjust weights"
   ]
  },
  {
   "cell_type": "code",
   "execution_count": 75,
   "id": "naughty-phenomenon",
   "metadata": {},
   "outputs": [
    {
     "data": {
      "image/png": "[encoded data removed]",
      "text/plain": [
       "<Figure size 432x288 with 1 Axes>"
      ]
     },
     "metadata": {
      "needs_background": "light"
     },
     "output_type": "display_data"
    }
   ],
   "source": [
    "plt.plot(range(epochs), losses);"
   ]
  },
  {
   "cell_type": "code",
   "execution_count": 76,
   "id": "parental-equilibrium",
   "metadata": {},
   "outputs": [
    {
     "name": "stdout",
     "output_type": "stream",
     "text": [
      "treino : 0.9220272904483431\n",
      "teste  : 0.8871595330739299\n"
     ]
    }
   ],
   "source": [
    "from sklearn.metrics import accuracy_score\n",
    "\n",
    "print(\"treino :\", accuracy_score(rede.predict(Xt), yt))\n",
    "print(\"teste  :\", accuracy_score(rede.predict(Xh), yh))"
   ]
  },
  {
   "cell_type": "markdown",
   "id": "complex-retro",
   "metadata": {},
   "source": [
    "### multiclasse"
   ]
  },
  {
   "cell_type": "code",
   "execution_count": 239,
   "id": "interstate-tooth",
   "metadata": {
    "tags": []
   },
   "outputs": [],
   "source": [
    "from torch.utils.data import Dataset, DataLoader, WeightedRandomSampler\n",
    "from sklearn.metrics  import confusion_matrix, classification_report\n",
    "\n",
    "X = pd.concat([gscouts.drop(columns=keys), gmercado.drop(columns=keys)], axis=1).copy(); X_columns = X.columns\n",
    "X = X.astype(np.float64).fillna(0.0).values\n",
    "X = scaler.fit_transform( X )\n",
    "\n",
    "y = gpos['pos_first'].astype('category').cat.codes.values"
   ]
  },
  {
   "cell_type": "code",
   "execution_count": 240,
   "id": "willing-leeds",
   "metadata": {},
   "outputs": [],
   "source": [
    "class ClassifierDataset(Dataset):\n",
    "    def __init__(self, X_data, y_data):\n",
    "        self.X_data = X_data\n",
    "        self.y_data = y_data\n",
    "        \n",
    "    def __getitem__(self, index):\n",
    "        return self.X_data[index], self.y_data[index]\n",
    "        \n",
    "    def __len__ (self):\n",
    "        return len(self.X_data)"
   ]
  },
  {
   "cell_type": "code",
   "execution_count": 241,
   "id": "auburn-anatomy",
   "metadata": {},
   "outputs": [],
   "source": [
    "X_train, X_holdout, y_train, y_holdout = train_test_split(X, y, test_size = 0.2, random_state = 37)\n",
    "\n",
    "train_dataset   = ClassifierDataset(torch.from_numpy(X_train).float(), \n",
    "                                    torch.from_numpy(y_train).long())\n",
    "holdout_dataset = ClassifierDataset(torch.from_numpy(X_holdout).float(), \n",
    "                                    torch.from_numpy(y_holdout).long())"
   ]
  },
  {
   "cell_type": "code",
   "execution_count": 242,
   "id": "expired-lawsuit",
   "metadata": {},
   "outputs": [],
   "source": [
    "EPOCHS        = 1000\n",
    "BATCH_SIZE    = 16\n",
    "LEARNING_RATE = 0.007\n",
    "NUM_FEATURES  = X.shape[1]\n",
    "NUM_CLASSES   = len(np.unique(y))"
   ]
  },
  {
   "cell_type": "code",
   "execution_count": 243,
   "id": "correct-nevada",
   "metadata": {},
   "outputs": [],
   "source": [
    "target_list = []\n",
    "\n",
    "for _, t in train_dataset:\n",
    "    target_list.append(t)\n",
    "    \n",
    "target_list = torch.tensor(target_list)\n",
    "target_list = target_list[torch.randperm(len(target_list))]"
   ]
  },
  {
   "cell_type": "code",
   "execution_count": 244,
   "id": "maritime-assurance",
   "metadata": {},
   "outputs": [
    {
     "name": "stdout",
     "output_type": "stream",
     "text": [
      "tensor([1, 0, 3,  ..., 1, 1, 2])\n",
      "tensor([0.0043, 0.0125, 0.0061, 0.0032, 0.0139, 0.0062])\n",
      "tensor([0.0125, 0.0043, 0.0032,  ..., 0.0125, 0.0125, 0.0061])\n"
     ]
    }
   ],
   "source": [
    "class_count       = pd.Series(y_train).value_counts().sort_index().values\n",
    "class_weights     = 1./torch.tensor(class_count, dtype=torch.float) \n",
    "class_weights_all = class_weights[target_list]\n",
    "\n",
    "print(target_list)\n",
    "print(class_weights)\n",
    "print(class_weights_all)"
   ]
  },
  {
   "cell_type": "code",
   "execution_count": 245,
   "id": "meaningful-seating",
   "metadata": {},
   "outputs": [],
   "source": [
    "weighted_sampler = WeightedRandomSampler(weights     = class_weights_all,\n",
    "                                         num_samples = len(class_weights_all),\n",
    "                                         replacement = True)"
   ]
  },
  {
   "cell_type": "code",
   "execution_count": 246,
   "id": "paperback-interstate",
   "metadata": {},
   "outputs": [],
   "source": [
    "train_loader = DataLoader(dataset    = train_dataset,\n",
    "                          batch_size = BATCH_SIZE,\n",
    "                          sampler    = weighted_sampler)\n",
    "holdout_loader = DataLoader(dataset    = holdout_dataset, \n",
    "                            batch_size = 1)"
   ]
  },
  {
   "cell_type": "code",
   "execution_count": 262,
   "id": "senior-traffic",
   "metadata": {},
   "outputs": [],
   "source": [
    "class Net(nn.Module):\n",
    "    def __init__(self):\n",
    "        super(Net, self).__init__()\n",
    "        self.layer_1 = nn.Linear(NUM_FEATURES, 64)\n",
    "        self.layer_2 = nn.Linear(64, 32)\n",
    "        self.layer_3 = nn.Linear(32, 16)\n",
    "        self.layer_o = nn.Linear(16, NUM_CLASSES)\n",
    "        \n",
    "        self.relu    = nn.ReLU()\n",
    "        self.dropout = nn.Dropout(p=0.2)\n",
    "        self.batchnorm1 = nn.BatchNorm1d(64)\n",
    "        self.batchnorm2 = nn.BatchNorm1d(32)\n",
    "        self.batchnorm3 = nn.BatchNorm1d(16)\n",
    "        \n",
    "    def forward(self, x):\n",
    "        x = self.layer_1(x)\n",
    "        x = self.batchnorm1(x)\n",
    "        x = self.relu(x)\n",
    "        \n",
    "        x = self.layer_2(x)\n",
    "        x = self.batchnorm2(x)\n",
    "        x = self.relu(x)\n",
    "        x = self.dropout(x)\n",
    "        \n",
    "        x = self.layer_3(x)\n",
    "        x = self.batchnorm3(x)\n",
    "        x = self.relu(x)\n",
    "        x = self.dropout(x)\n",
    "        \n",
    "        x = self.layer_o(x)\n",
    "        \n",
    "        return x"
   ]
  },
  {
   "cell_type": "code",
   "execution_count": 263,
   "id": "golden-disco",
   "metadata": {},
   "outputs": [
    {
     "name": "stdout",
     "output_type": "stream",
     "text": [
      "Net(\n",
      "  (layer_1): Linear(in_features=23, out_features=64, bias=True)\n",
      "  (layer_2): Linear(in_features=64, out_features=32, bias=True)\n",
      "  (layer_3): Linear(in_features=32, out_features=16, bias=True)\n",
      "  (layer_o): Linear(in_features=16, out_features=6, bias=True)\n",
      "  (relu): ReLU()\n",
      "  (dropout): Dropout(p=0.2, inplace=False)\n",
      "  (batchnorm1): BatchNorm1d(64, eps=1e-05, momentum=0.1, affine=True, track_running_stats=True)\n",
      "  (batchnorm2): BatchNorm1d(32, eps=1e-05, momentum=0.1, affine=True, track_running_stats=True)\n",
      "  (batchnorm3): BatchNorm1d(16, eps=1e-05, momentum=0.1, affine=True, track_running_stats=True)\n",
      ")\n"
     ]
    }
   ],
   "source": [
    "rede = Net()\n",
    "crt  = nn.CrossEntropyLoss()\n",
    "opt  = torch.optim.Adam(rede.parameters(), lr=LEARNING_RATE)\n",
    "rede.to(device)\n",
    "\n",
    "print(rede)"
   ]
  },
  {
   "cell_type": "code",
   "execution_count": 264,
   "id": "wanted-hotel",
   "metadata": {},
   "outputs": [],
   "source": [
    "def multi_acc(y_pred, y_test):\n",
    "    y_pred_softmax = torch.log_softmax(y_pred, dim = 1)\n",
    "    _, y_pred_tags = torch.max(y_pred_softmax, dim = 1)    \n",
    "    correct_pred   = (y_pred_tags == y_test).float()\n",
    "    \n",
    "    acc = correct_pred.sum() / len(correct_pred)\n",
    "    acc = torch.round(acc * 100)\n",
    "    \n",
    "    return acc"
   ]
  },
  {
   "cell_type": "code",
   "execution_count": 265,
   "id": "built-barrel",
   "metadata": {},
   "outputs": [],
   "source": [
    "acc_stats  = { \"train\": [],\n",
    "               \"val\"  : []}\n",
    "loss_stats = {\"train\": [],\n",
    "              \"val\": []}"
   ]
  },
  {
   "cell_type": "code",
   "execution_count": null,
   "id": "later-sympathy",
   "metadata": {
    "scrolled": true,
    "tags": []
   },
   "outputs": [],
   "source": [
    "for e in tqdm.tqdm(range(EPOCHS)):\n",
    "    train_epoch_loss = 0\n",
    "    train_epoch_acc  = 0\n",
    "    rede.train()\n",
    "    for X_train_batch, y_train_batch in train_loader:\n",
    "        X_train_batch = X_train_batch.to(device)\n",
    "        y_train_batch = y_train_batch.to(device)\n",
    "        opt.zero_grad()\n",
    "        \n",
    "        y_train_pred = rede(X_train_batch)\n",
    "        \n",
    "        train_loss = crt(y_train_pred, y_train_batch)\n",
    "        train_acc  = multi_acc(y_train_pred, y_train_batch)\n",
    "        \n",
    "        train_loss.backward()\n",
    "        opt.step()\n",
    "        \n",
    "        train_epoch_loss += train_loss.item()\n",
    "        train_epoch_acc  += train_acc.item()\n",
    "        \n",
    "    with torch.no_grad():\n",
    "        val_epoch_loss = 0\n",
    "        val_epoch_acc  = 0\n",
    "        rede.eval()\n",
    "        for X_val_batch, y_val_batch in holdout_loader:\n",
    "            X_val_batch = X_val_batch.to(device)\n",
    "            y_val_batch = y_val_batch.to(device)\n",
    "            \n",
    "            y_val_pred = rede(X_val_batch)\n",
    "                        \n",
    "            val_loss = crt(y_val_pred, y_val_batch)\n",
    "            val_acc  = multi_acc(y_val_pred, y_val_batch)\n",
    "            \n",
    "            val_epoch_loss += val_loss.item()\n",
    "            val_epoch_acc  += val_acc.item()\n",
    "    \n",
    "    loss_stats['train'].append(train_epoch_acc/len(train_loader))\n",
    "    loss_stats['val'].append(val_epoch_loss/len(holdout_loader))\n",
    "    acc_stats['train'].append(train_epoch_acc/len(train_loader))\n",
    "    acc_stats['val'].append(val_epoch_acc/len(holdout_loader))\n",
    "                              \n",
    "    print(f\"Epoch {e+0:03}: | Train Loss: {train_epoch_loss/len(train_loader):.5f} | Val Loss: {val_epoch_loss/len(holdout_loader):.5f} | Train Acc: {train_epoch_acc/len(train_loader):.3f}| Val Acc: {val_epoch_acc/len(holdout_loader):.3f}\")"
   ]
  },
  {
   "cell_type": "code",
   "execution_count": 267,
   "id": "clear-rendering",
   "metadata": {},
   "outputs": [
    {
     "data": {
      "text/plain": [
       "Text(0.5, 1.0, 'Train-Val Loss/Epoch')"
      ]
     },
     "execution_count": 267,
     "metadata": {},
     "output_type": "execute_result"
    },
    {
     "data": {
      "image/png": "[encoded data removed]",
      "text/plain": [
       "<Figure size 1440x504 with 2 Axes>"
      ]
     },
     "metadata": {
      "needs_background": "light"
     },
     "output_type": "display_data"
    }
   ],
   "source": [
    "train_val_acc_df  = pd.DataFrame.from_dict(acc_stats).reset_index().melt(id_vars=['index']).rename(columns={\"index\":\"epochs\"})\n",
    "train_val_loss_df = pd.DataFrame.from_dict(loss_stats).reset_index().melt(id_vars=['index']).rename(columns={\"index\":\"epochs\"})\n",
    "\n",
    "fig, axes = plt.subplots(nrows=1, ncols=2, figsize=(20,7))\n",
    "sns.lineplot(data=train_val_acc_df, x = \"epochs\", y=\"value\", hue=\"variable\",  ax=axes[0]).set_title('Train-Val Accuracy/Epoch')\n",
    "sns.lineplot(data=train_val_loss_df, x = \"epochs\", y=\"value\", hue=\"variable\", ax=axes[1]).set_title('Train-Val Loss/Epoch')"
   ]
  },
  {
   "cell_type": "code",
   "execution_count": 268,
   "id": "global-letter",
   "metadata": {},
   "outputs": [],
   "source": [
    "y_pred_list = []\n",
    "\n",
    "with torch.no_grad():\n",
    "    rede.eval()\n",
    "    for X_batch, _ in holdout_loader:\n",
    "        X_batch        = X_batch.to(device)\n",
    "        y_test_pred    = rede(X_batch)\n",
    "        _, y_pred_tags = torch.max(y_test_pred, dim = 1)\n",
    "        y_pred_list.append(y_pred_tags.cpu().numpy())\n",
    "\n",
    "y_pred_list = [a.squeeze().tolist() for a in y_pred_list]"
   ]
  },
  {
   "cell_type": "code",
   "execution_count": 269,
   "id": "commercial-romance",
   "metadata": {},
   "outputs": [
    {
     "data": {
      "text/plain": [
       "Index(['ATA', 'GOL', 'LAT', 'MEI', 'TEC', 'ZAG'], dtype='object')"
      ]
     },
     "execution_count": 269,
     "metadata": {},
     "output_type": "execute_result"
    }
   ],
   "source": [
    "gpos['pos_first'].astype('category').cat.categories"
   ]
  },
  {
   "cell_type": "code",
   "execution_count": 270,
   "id": "equivalent-entrance",
   "metadata": {},
   "outputs": [
    {
     "data": {
      "image/png": "[encoded data removed]",
      "text/plain": [
       "<Figure size 432x288 with 2 Axes>"
      ]
     },
     "metadata": {
      "needs_background": "light"
     },
     "output_type": "display_data"
    }
   ],
   "source": [
    "confusion_matrix_df = pd.DataFrame(confusion_matrix(y_holdout, y_pred_list))\n",
    "sns.heatmap(confusion_matrix_df, annot=True);"
   ]
  },
  {
   "cell_type": "code",
   "execution_count": 271,
   "id": "violent-rally",
   "metadata": {},
   "outputs": [
    {
     "name": "stdout",
     "output_type": "stream",
     "text": [
      "              precision    recall  f1-score   support\n",
      "\n",
      "           0       0.63      0.75      0.68        52\n",
      "           1       0.93      0.81      0.87        16\n",
      "           2       0.57      0.54      0.56        37\n",
      "           3       0.66      0.84      0.73        91\n",
      "           4       1.00      0.37      0.54        19\n",
      "           5       0.65      0.36      0.46        42\n",
      "\n",
      "    accuracy                           0.66       257\n",
      "   macro avg       0.74      0.61      0.64       257\n",
      "weighted avg       0.68      0.66      0.65       257\n",
      "\n"
     ]
    }
   ],
   "source": [
    "print(classification_report(y_holdout, y_pred_list))"
   ]
  },
  {
   "cell_type": "markdown",
   "id": "introductory-greek",
   "metadata": {},
   "source": [
    "- - -"
   ]
  },
  {
   "cell_type": "markdown",
   "id": "forbidden-squad",
   "metadata": {},
   "source": [
    "**referências**\n",
    "\n",
    "[binary classifier using pytorch by prudvi rajkumar](https://medium.com/@prudhvirajnitjsr/simple-classifier-using-pytorch-37fba175c25c)<br/>\n",
    "[pytorch - nn.linear](https://www.sharetechnote.com/html/Python_PyTorch_nn_Linear_01.html)\n",
    "\n",
    "[PyTorch [Tabular] —Multiclass Classification | by Akshaj Verma | Towards Data Science](https://towardsdatascience.com/pytorch-tabular-multiclass-classification-9f8211a123ab)"
   ]
  },
  {
   "cell_type": "markdown",
   "id": "raising-gender",
   "metadata": {},
   "source": [
    "* [Principal Component Analysis](https://sebastianraschka.com/Articles/2015_pca_in_3_steps.html)\n",
    "* [Blog](https://sebastianraschka.com/blog/index.html)\n",
    "* [Naive Bayes and Text Classification](https://sebastianraschka.com/Articles/2014_naive_bayes_1.html)\n",
    "* [Index of /Articles](https://sebastianraschka.com/Articles/)\n",
    "* [boosting classifier benchmark - Pesquisa Google](https://www.google.com/search?q=boosting+classifier+benchmark&client=ubuntu&hs=VsE&channel=fs&ei=bItgYPLROPTD5OUPkOuMkA0&oq=boosting+classifier+benck&gs_lcp=Cgdnd3Mtd2l6EAMYADIHCCEQChCgATIHCCEQChCgATIHCCEQChCgATIHCCEQChCgATIECCEQFToHCAAQRxCwAzoGCAAQFhAeOggIABAWEAoQHjoCCAA6BAgAEBM6CAgAEBYQHhATOgUIIRCgAVDNU1iGkAFg25kBaAJwAngAgAGpAYgB_hiSAQQyLjI1mAEAoAEBqgEHZ3dzLXdpesgBCMABAQ&sclient=gws-wiz)\n",
    "* [Comparing 13 Algorithms on 165 Datasets (hint: use Gradient Boosting)](https://machinelearningmastery.com/start-with-gradient-boosting/)\n",
    "* [Credit Card Fraud Detection using Autoencoders in Keras | TensorFlow for Hackers (Part VII) | Curiousily - Hacker's Guide to Machine Learning](https://curiousily.com/posts/credit-card-fraud-detection-using-autoencoders-in-keras/)\n",
    "* [boosting vs neural network - Pesquisa Google](https://www.google.com/search?channel=fs&client=ubuntu&q=boosting+vs+neural+network)\n",
    "* [classification - Deep Learning vs gradient boosting: When to use what? - Data Science Stack Exchange](https://datascience.stackexchange.com/questions/2504/deep-learning-vs-gradient-boosting-when-to-use-what)\n",
    "* [machine learning - Why neural networks do not perform well on structured data? - Data Science Stack Exchange](https://datascience.stackexchange.com/questions/38392/why-neural-networks-do-not-perform-well-on-structured-data)\n",
    "* [machine learning - Gradient Boosted Trees or Neural Networks Using Model Averaging? - Data Science Stack Exchange](https://datascience.stackexchange.com/questions/12147/gradient-boosted-trees-or-neural-networks-using-model-averaging)\n",
    "* [In what situations do neural networks outperform gradient boosting and random forest models on regular numeric and categorical data (non-image or text data) if any? - Quora](https://www.quora.com/In-what-situations-do-neural-networks-outperform-gradient-boosting-and-random-forest-models-on-regular-numeric-and-categorical-data-non-image-or-text-data-if-any)\n",
    "* [kinds of neural networks - Pesquisa Google](https://www.google.com/search?channel=fs&client=ubuntu&q=kinds+of+neural+networks)\n",
    "* [Types of Neural Networks and Definition of Neural Network](https://www.mygreatlearning.com/blog/types-of-neural-networks/)\n",
    "* [PyTorch: Introduction to Neural Network — Feedforward / MLP | by Andrea Eunbee Jang | BiaslyAI | Medium](https://medium.com/biaslyai/pytorch-introduction-to-neural-network-feedforward-neural-network-model-e7231cff47cb)\n",
    "* [A Comprehensive Guide To Types Of Neural Networks](https://www.digitalvidya.com/blog/types-of-neural-networks/)\n",
    "* [Feedforward Neural Networks and Multilayer Perceptrons - Boostedml](https://boostedml.com/2020/04/feedforward-neural-networks-and-multilayer-perceptrons.html)\n",
    "* [Introduction to PyTorch for Classification](https://stackabuse.com/introduction-to-pytorch-for-classification/)\n",
    "* [Binary Classifier using PyTorch. binary classifier on sklearn.moons… | by Prudvi RajKumar | Medium](https://medium.com/@prudhvirajnitjsr/simple-classifier-using-pytorch-37fba175c25c)\n",
    "* [Learning PyTorch with Examples — PyTorch Tutorials 1.8.1+cu102 documentation](https://pytorch.org/tutorials/beginner/pytorch_with_examples.html)\n",
    "* [mlp parameters - Google Search](https://www.google.com/search?q=mlp+parameters&tbm=isch&ved=2ahUKEwialPaPltTvAhUvGLkGHZBvD0sQ2-cCegQIABAA&oq=mlp+parameters&gs_lcp=CgNpbWcQAzIECAAQGDIECAAQGDoCCAA6BAgAEB46BggAEAgQHlD2-hVY75AWYNmRFmgAcAB4AIAB6gGIAfQLkgEFMy44LjGYAQCgAQGqAQtnd3Mtd2l6LWltZ8ABAQ&sclient=img&ei=ehVhYJrvIq-w5OUPkN-92AQ&bih=979&biw=933&client=ubuntu&hs=5O3#imgrc=LKCBfeQmZAws9M&imgdii=PEJ6KaL7KSzMvM)\n",
    "* [ShareTechnote - 5G - What is 5G ?](https://www.sharetechnote.com/html/Python_PyTorch_nn_Linear_01.html)\n",
    "* [Neural Networks — PyTorch Tutorials 1.8.1+cu102 documentation](https://pytorch.org/tutorials/beginner/blitz/neural_networks_tutorial.html)\n",
    "* [Guide to Encoding Categorical Values in Python - Practical Business Python](https://pbpython.com/categorical-encoding.html)\n",
    "* [PyTorch [Tabular] —Multiclass Classification | by Akshaj Verma | Towards Data Science](https://towardsdatascience.com/pytorch-tabular-multiclass-classification-9f8211a123ab)"
   ]
  }
 ],
 "metadata": {
  "kernelspec": {
   "display_name": "Python 3",
   "language": "python",
   "name": "python3"
  },
  "language_info": {
   "codemirror_mode": {
    "name": "ipython",
    "version": 3
   },
   "file_extension": ".py",
   "mimetype": "text/x-python",
   "name": "python",
   "nbconvert_exporter": "python",
   "pygments_lexer": "ipython3",
   "version": "3.8.5"
  }
 },
 "nbformat": 4,
 "nbformat_minor": 5
}
