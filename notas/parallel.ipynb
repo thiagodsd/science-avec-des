{
 "cells": [
  {
   "cell_type": "code",
   "execution_count": 24,
   "id": "raised-affiliation",
   "metadata": {},
   "outputs": [],
   "source": [
    "import datetime, warnings, pickle, gc, os, math, pprint, hashlib, functools, random, timeit\n",
    "\n",
    "import numpy           as np\n",
    "import pandas          as pd\n",
    "import multiprocessing as mp\n",
    "\n",
    "%matplotlib inline\n",
    "import matplotlib.pyplot as plt\n",
    "import seaborn           as sns\n",
    "\n",
    "from sklearn.model_selection import train_test_split\n",
    "from sklearn.preprocessing   import normalize, StandardScaler\n",
    "from sklearn.metrics         import classification_report, roc_curve, auc,accuracy_score, confusion_matrix, f1_score, fbeta_score\n",
    "from sklearn.calibration     import CalibratedClassifierCV, calibration_curve\n",
    "from boruta                  import BorutaPy\n",
    "import optuna\n",
    "\n",
    "from sklearn.linear_model import LogisticRegression\n",
    "from sklearn.ensemble     import RandomForestClassifier\n",
    "import lightgbm as lgb    \n",
    "\n",
    "from IPython.display import display\n",
    "\n",
    "random.seed(4321)"
   ]
  },
  {
   "cell_type": "code",
   "execution_count": 25,
   "id": "simplified-afternoon",
   "metadata": {},
   "outputs": [
    {
     "data": {
      "text/plain": [
       "16"
      ]
     },
     "execution_count": 25,
     "metadata": {},
     "output_type": "execute_result"
    }
   ],
   "source": [
    "mp.cpu_count()"
   ]
  },
  {
   "cell_type": "code",
   "execution_count": 38,
   "id": "adverse-dress",
   "metadata": {},
   "outputs": [],
   "source": [
    "from math          import sin, cos, sqrt, atan2, radians\n",
    "from scipy.spatial import distance"
   ]
  },
  {
   "cell_type": "code",
   "execution_count": 33,
   "id": "sustainable-private",
   "metadata": {},
   "outputs": [],
   "source": [
    "def lat_lon_converter(lat1, lon1, lat2, lon2, unit):\n",
    "    \"\"\"\n",
    "    ref: https://stackoverflow.com/questions/19412462/getting-distance-between-two-points-based-on-latitude-longitude\n",
    "    \"\"\"\n",
    "    try:\n",
    "        R = 6373.0\n",
    "        dlon = radians(lon2) - radians(lon1)\n",
    "        dlat = radians(lat2) - radians(lat1)\n",
    "        a = sin(dlat / 2)**2 + cos(lat1) * cos(lat2) * sin(dlon / 2)**2\n",
    "        c = 2 * atan2(sqrt(a), sqrt(1 - a))\n",
    "        distance = R * c\n",
    "\n",
    "        if unit == 'm':\n",
    "            return distance\n",
    "        elif unit == 'km':\n",
    "            return distance\n",
    "    except ValueError:\n",
    "        return np.nan"
   ]
  },
  {
   "cell_type": "code",
   "execution_count": 35,
   "id": "indirect-depression",
   "metadata": {},
   "outputs": [],
   "source": [
    "path = \"~/Documents/data/nyc-taxi-trip-duration/\""
   ]
  },
  {
   "cell_type": "code",
   "execution_count": 36,
   "id": "former-victim",
   "metadata": {},
   "outputs": [],
   "source": [
    "df_train = pd.read_csv(rf'{path}/train.csv')"
   ]
  },
  {
   "cell_type": "code",
   "execution_count": 105,
   "id": "premier-savings",
   "metadata": {
    "scrolled": true,
    "tags": []
   },
   "outputs": [],
   "source": [
    "train = df_train.sample(1000000)"
   ]
  },
  {
   "cell_type": "markdown",
   "id": "enabling-contract",
   "metadata": {},
   "source": [
    "serial"
   ]
  },
  {
   "cell_type": "code",
   "execution_count": 106,
   "id": "juvenile-appendix",
   "metadata": {},
   "outputs": [
    {
     "name": "stdout",
     "output_type": "stream",
     "text": [
      "CPU times: user 10.6 s, sys: 71.5 ms, total: 10.7 s\n",
      "Wall time: 10.7 s\n"
     ]
    }
   ],
   "source": [
    "%%time\n",
    "train['dist_manhattan_meter1'] = train.apply( lambda x: lat_lon_converter(x['pickup_latitude'], \n",
    "                                                                         x['pickup_longitude'],\n",
    "                                                                         x['dropoff_latitude'], \n",
    "                                                                         x['dropoff_longitude'],\n",
    "                                                                         'm'), axis=1 )\n",
    "\n"
   ]
  },
  {
   "cell_type": "markdown",
   "id": "surrounded-highway",
   "metadata": {},
   "source": [
    "paralelo"
   ]
  },
  {
   "cell_type": "code",
   "execution_count": 107,
   "id": "undefined-deadline",
   "metadata": {},
   "outputs": [],
   "source": [
    "def lat_lon_converter2(_df):\n",
    "    \"\"\"\n",
    "    ref: https://stackoverflow.com/questions/19412462/getting-distance-between-two-points-based-on-latitude-longitude\n",
    "    \"\"\"\n",
    "    lat1 = _df['pickup_latitude']\n",
    "    lon1 = _df['pickup_longitude']\n",
    "    lat2 = _df['dropoff_latitude']\n",
    "    lon2 = _df['dropoff_longitude']\n",
    "    unit = \"m\"\n",
    "    try:\n",
    "        R = 6373.0\n",
    "        dlon = radians(lon2) - radians(lon1)\n",
    "        dlat = radians(lat2) - radians(lat1)\n",
    "        a = sin(dlat / 2)**2 + cos(lat1) * cos(lat2) * sin(dlon / 2)**2\n",
    "        c = 2 * atan2(sqrt(a), sqrt(1 - a))\n",
    "        distance = R * c\n",
    "\n",
    "        if unit == 'm':\n",
    "            return distance\n",
    "        elif unit == 'km':\n",
    "            return distance\n",
    "    except ValueError:\n",
    "        return np.nan"
   ]
  },
  {
   "cell_type": "code",
   "execution_count": 108,
   "id": "personal-property",
   "metadata": {},
   "outputs": [],
   "source": [
    "def parallelize(_df, _func, _num_of_processes=2):\n",
    "    data_split = np.array_split(_df, _num_of_processes)\n",
    "    pool       = mp.Pool(_num_of_processes)\n",
    "    data       = pd.concat(pool.map(_func, data_split))\n",
    "    pool.close()\n",
    "    pool.join()\n",
    "    return data"
   ]
  },
  {
   "cell_type": "code",
   "execution_count": 109,
   "id": "willing-sport",
   "metadata": {},
   "outputs": [],
   "source": [
    "def run_on_subset(_func, data_subset):\n",
    "    return data_subset.apply(_func, axis=1)"
   ]
  },
  {
   "cell_type": "code",
   "execution_count": 110,
   "id": "social-ghana",
   "metadata": {},
   "outputs": [],
   "source": [
    "def parallelize_on_rows(_df, _func, _num_of_processes=2):\n",
    "    return parallelize(_df, functools.partial(run_on_subset, _func), _num_of_processes)"
   ]
  },
  {
   "cell_type": "code",
   "execution_count": 111,
   "id": "eligible-image",
   "metadata": {
    "tags": []
   },
   "outputs": [
    {
     "name": "stdout",
     "output_type": "stream",
     "text": [
      "CPU times: user 93.3 ms, sys: 96.3 ms, total: 190 ms\n",
      "Wall time: 5.57 s\n"
     ]
    }
   ],
   "source": [
    "%%time\n",
    "train['dist_manhattan_meter2'] = parallelize_on_rows(train[['pickup_latitude', 'pickup_longitude','dropoff_latitude', 'dropoff_longitude']], lat_lon_converter2) "
   ]
  },
  {
   "cell_type": "markdown",
   "id": "opening-restaurant",
   "metadata": {},
   "source": [
    "usando `timeit`"
   ]
  },
  {
   "cell_type": "code",
   "execution_count": 112,
   "id": "continuous-assurance",
   "metadata": {},
   "outputs": [
    {
     "name": "stdout",
     "output_type": "stream",
     "text": [
      "10.6 s ± 23.4 ms per loop (mean ± std. dev. of 7 runs, 1 loop each)\n"
     ]
    }
   ],
   "source": [
    "%timeit train.apply( lambda x: lat_lon_converter(x['pickup_latitude'], x['pickup_longitude'],x['dropoff_latitude'], x['dropoff_longitude'],'m'), axis=1 )"
   ]
  },
  {
   "cell_type": "code",
   "execution_count": 113,
   "id": "incorrect-detective",
   "metadata": {},
   "outputs": [
    {
     "name": "stdout",
     "output_type": "stream",
     "text": [
      "5.68 s ± 111 ms per loop (mean ± std. dev. of 7 runs, 1 loop each)\n"
     ]
    }
   ],
   "source": [
    "%timeit parallelize_on_rows(train[['pickup_latitude', 'pickup_longitude','dropoff_latitude', 'dropoff_longitude']], lat_lon_converter2, 2) "
   ]
  },
  {
   "cell_type": "code",
   "execution_count": 114,
   "id": "leading-panama",
   "metadata": {},
   "outputs": [
    {
     "name": "stdout",
     "output_type": "stream",
     "text": [
      "2.95 s ± 20.8 ms per loop (mean ± std. dev. of 7 runs, 1 loop each)\n"
     ]
    }
   ],
   "source": [
    "%timeit parallelize_on_rows(train[['pickup_latitude', 'pickup_longitude','dropoff_latitude', 'dropoff_longitude']], lat_lon_converter2, 4) "
   ]
  },
  {
   "cell_type": "code",
   "execution_count": 115,
   "id": "immediate-intervention",
   "metadata": {},
   "outputs": [
    {
     "name": "stdout",
     "output_type": "stream",
     "text": [
      "2.18 s ± 118 ms per loop (mean ± std. dev. of 7 runs, 1 loop each)\n"
     ]
    }
   ],
   "source": [
    "%timeit parallelize_on_rows(train[['pickup_latitude', 'pickup_longitude','dropoff_latitude', 'dropoff_longitude']], lat_lon_converter2, 6) "
   ]
  },
  {
   "cell_type": "code",
   "execution_count": 116,
   "id": "behind-proposition",
   "metadata": {},
   "outputs": [
    {
     "name": "stdout",
     "output_type": "stream",
     "text": [
      "1.81 s ± 81.4 ms per loop (mean ± std. dev. of 7 runs, 1 loop each)\n"
     ]
    }
   ],
   "source": [
    "%timeit parallelize_on_rows(train[['pickup_latitude', 'pickup_longitude','dropoff_latitude', 'dropoff_longitude']], lat_lon_converter2, 8) "
   ]
  },
  {
   "cell_type": "code",
   "execution_count": 117,
   "id": "secret-housing",
   "metadata": {},
   "outputs": [
    {
     "name": "stdout",
     "output_type": "stream",
     "text": [
      "1.88 s ± 47.5 ms per loop (mean ± std. dev. of 7 runs, 1 loop each)\n"
     ]
    }
   ],
   "source": [
    "%timeit parallelize_on_rows(train[['pickup_latitude', 'pickup_longitude','dropoff_latitude', 'dropoff_longitude']], lat_lon_converter2, 10) "
   ]
  },
  {
   "cell_type": "code",
   "execution_count": 118,
   "id": "married-means",
   "metadata": {},
   "outputs": [
    {
     "name": "stdout",
     "output_type": "stream",
     "text": [
      "1.76 s ± 38.2 ms per loop (mean ± std. dev. of 7 runs, 1 loop each)\n"
     ]
    }
   ],
   "source": [
    "%timeit parallelize_on_rows(train[['pickup_latitude', 'pickup_longitude','dropoff_latitude', 'dropoff_longitude']], lat_lon_converter2, 12) "
   ]
  },
  {
   "cell_type": "markdown",
   "id": "intimate-simon",
   "metadata": {},
   "source": [
    "compara resultados"
   ]
  },
  {
   "cell_type": "code",
   "execution_count": 119,
   "id": "pursuant-soundtrack",
   "metadata": {},
   "outputs": [
    {
     "data": {
      "text/html": [
       "<div>\n",
       "<style scoped>\n",
       "    .dataframe tbody tr th:only-of-type {\n",
       "        vertical-align: middle;\n",
       "    }\n",
       "\n",
       "    .dataframe tbody tr th {\n",
       "        vertical-align: top;\n",
       "    }\n",
       "\n",
       "    .dataframe thead th {\n",
       "        text-align: right;\n",
       "    }\n",
       "</style>\n",
       "<table border=\"1\" class=\"dataframe\">\n",
       "  <thead>\n",
       "    <tr style=\"text-align: right;\">\n",
       "      <th></th>\n",
       "      <th>dist_manhattan_meter1</th>\n",
       "      <th>dist_manhattan_meter1</th>\n",
       "    </tr>\n",
       "  </thead>\n",
       "  <tbody>\n",
       "    <tr>\n",
       "      <th>519220</th>\n",
       "      <td>1.862959</td>\n",
       "      <td>1.862959</td>\n",
       "    </tr>\n",
       "    <tr>\n",
       "      <th>938653</th>\n",
       "      <td>2.282844</td>\n",
       "      <td>2.282844</td>\n",
       "    </tr>\n",
       "    <tr>\n",
       "      <th>1395531</th>\n",
       "      <td>11.739124</td>\n",
       "      <td>11.739124</td>\n",
       "    </tr>\n",
       "    <tr>\n",
       "      <th>1108433</th>\n",
       "      <td>2.434507</td>\n",
       "      <td>2.434507</td>\n",
       "    </tr>\n",
       "    <tr>\n",
       "      <th>1130566</th>\n",
       "      <td>1.759047</td>\n",
       "      <td>1.759047</td>\n",
       "    </tr>\n",
       "    <tr>\n",
       "      <th>...</th>\n",
       "      <td>...</td>\n",
       "      <td>...</td>\n",
       "    </tr>\n",
       "    <tr>\n",
       "      <th>1267416</th>\n",
       "      <td>0.719226</td>\n",
       "      <td>0.719226</td>\n",
       "    </tr>\n",
       "    <tr>\n",
       "      <th>852552</th>\n",
       "      <td>0.196220</td>\n",
       "      <td>0.196220</td>\n",
       "    </tr>\n",
       "    <tr>\n",
       "      <th>204282</th>\n",
       "      <td>7.494901</td>\n",
       "      <td>7.494901</td>\n",
       "    </tr>\n",
       "    <tr>\n",
       "      <th>19618</th>\n",
       "      <td>1.276926</td>\n",
       "      <td>1.276926</td>\n",
       "    </tr>\n",
       "    <tr>\n",
       "      <th>792523</th>\n",
       "      <td>8.299431</td>\n",
       "      <td>8.299431</td>\n",
       "    </tr>\n",
       "  </tbody>\n",
       "</table>\n",
       "<p>1000000 rows × 2 columns</p>\n",
       "</div>"
      ],
      "text/plain": [
       "         dist_manhattan_meter1  dist_manhattan_meter1\n",
       "519220                1.862959               1.862959\n",
       "938653                2.282844               2.282844\n",
       "1395531              11.739124              11.739124\n",
       "1108433               2.434507               2.434507\n",
       "1130566               1.759047               1.759047\n",
       "...                        ...                    ...\n",
       "1267416               0.719226               0.719226\n",
       "852552                0.196220               0.196220\n",
       "204282                7.494901               7.494901\n",
       "19618                 1.276926               1.276926\n",
       "792523                8.299431               8.299431\n",
       "\n",
       "[1000000 rows x 2 columns]"
      ]
     },
     "execution_count": 119,
     "metadata": {},
     "output_type": "execute_result"
    }
   ],
   "source": [
    "train[['dist_manhattan_meter1', 'dist_manhattan_meter1']]"
   ]
  },
  {
   "cell_type": "markdown",
   "id": "expanded-nerve",
   "metadata": {},
   "source": [
    "."
   ]
  }
 ],
 "metadata": {
  "kernelspec": {
   "display_name": "Python 3",
   "language": "python",
   "name": "python3"
  },
  "language_info": {
   "codemirror_mode": {
    "name": "ipython",
    "version": 3
   },
   "file_extension": ".py",
   "mimetype": "text/x-python",
   "name": "python",
   "nbconvert_exporter": "python",
   "pygments_lexer": "ipython3",
   "version": "3.8.10"
  }
 },
 "nbformat": 4,
 "nbformat_minor": 5
}
