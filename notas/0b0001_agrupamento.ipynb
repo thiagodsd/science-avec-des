{
 "cells": [
  {
   "cell_type": "code",
   "execution_count": 4,
   "id": "southwest-happiness",
   "metadata": {},
   "outputs": [],
   "source": [
    "import numpy  as np\n",
    "import pandas as pd\n",
    "import gc\n",
    "import pprint\n",
    "import hashlib\n",
    "\n",
    "%matplotlib inline\n",
    "import matplotlib.pyplot as plt\n",
    "import seaborn           as sns\n",
    "\n",
    "from IPython.display import display"
   ]
  },
  {
   "cell_type": "code",
   "execution_count": 108,
   "id": "immediate-uniform",
   "metadata": {
    "scrolled": true,
    "tags": []
   },
   "outputs": [
    {
     "data": {
      "text/html": [
       "<div>\n",
       "<style scoped>\n",
       "    .dataframe tbody tr th:only-of-type {\n",
       "        vertical-align: middle;\n",
       "    }\n",
       "\n",
       "    .dataframe tbody tr th {\n",
       "        vertical-align: top;\n",
       "    }\n",
       "\n",
       "    .dataframe thead th {\n",
       "        text-align: right;\n",
       "    }\n",
       "</style>\n",
       "<table border=\"1\" class=\"dataframe\">\n",
       "  <thead>\n",
       "    <tr style=\"text-align: right;\">\n",
       "      <th></th>\n",
       "      <th>Nome</th>\n",
       "      <th>Clube</th>\n",
       "      <th>Preço</th>\n",
       "      <th>J</th>\n",
       "      <th>Média</th>\n",
       "      <th>Últ. Pont.</th>\n",
       "      <th>Variação</th>\n",
       "      <th>DS</th>\n",
       "      <th>G</th>\n",
       "      <th>A</th>\n",
       "      <th>...</th>\n",
       "      <th>GS</th>\n",
       "      <th>FC</th>\n",
       "      <th>I</th>\n",
       "      <th>PI</th>\n",
       "      <th>rodada</th>\n",
       "      <th>ano</th>\n",
       "      <th>RB</th>\n",
       "      <th>PE</th>\n",
       "      <th>id</th>\n",
       "      <th>pos</th>\n",
       "    </tr>\n",
       "  </thead>\n",
       "  <tbody>\n",
       "    <tr>\n",
       "      <th>7240</th>\n",
       "      <td>Abel Braga (TEC)</td>\n",
       "      <td>Internacional</td>\n",
       "      <td>11.46</td>\n",
       "      <td>16.0</td>\n",
       "      <td>3.78</td>\n",
       "      <td>4.74</td>\n",
       "      <td>0.73</td>\n",
       "      <td>NaN</td>\n",
       "      <td>NaN</td>\n",
       "      <td>NaN</td>\n",
       "      <td>...</td>\n",
       "      <td>NaN</td>\n",
       "      <td>NaN</td>\n",
       "      <td>NaN</td>\n",
       "      <td>NaN</td>\n",
       "      <td>36</td>\n",
       "      <td>2020</td>\n",
       "      <td>NaN</td>\n",
       "      <td>NaN</td>\n",
       "      <td>89fcd561730cbd9cb19995a7106a268ed2bb8a1e</td>\n",
       "      <td>TEC</td>\n",
       "    </tr>\n",
       "    <tr>\n",
       "      <th>6793</th>\n",
       "      <td>Abel Braga (TEC)</td>\n",
       "      <td>Internacional</td>\n",
       "      <td>11.31</td>\n",
       "      <td>14.0</td>\n",
       "      <td>3.96</td>\n",
       "      <td>3.14</td>\n",
       "      <td>-0.18</td>\n",
       "      <td>NaN</td>\n",
       "      <td>NaN</td>\n",
       "      <td>NaN</td>\n",
       "      <td>...</td>\n",
       "      <td>NaN</td>\n",
       "      <td>NaN</td>\n",
       "      <td>NaN</td>\n",
       "      <td>NaN</td>\n",
       "      <td>34</td>\n",
       "      <td>2020</td>\n",
       "      <td>NaN</td>\n",
       "      <td>NaN</td>\n",
       "      <td>89fcd561730cbd9cb19995a7106a268ed2bb8a1e</td>\n",
       "      <td>TEC</td>\n",
       "    </tr>\n",
       "    <tr>\n",
       "      <th>6213</th>\n",
       "      <td>Abel Braga (TEC)</td>\n",
       "      <td>Internacional</td>\n",
       "      <td>11.71</td>\n",
       "      <td>11.0</td>\n",
       "      <td>4.11</td>\n",
       "      <td>7.06</td>\n",
       "      <td>0.48</td>\n",
       "      <td>NaN</td>\n",
       "      <td>NaN</td>\n",
       "      <td>NaN</td>\n",
       "      <td>...</td>\n",
       "      <td>NaN</td>\n",
       "      <td>NaN</td>\n",
       "      <td>NaN</td>\n",
       "      <td>NaN</td>\n",
       "      <td>31</td>\n",
       "      <td>2020</td>\n",
       "      <td>NaN</td>\n",
       "      <td>NaN</td>\n",
       "      <td>89fcd561730cbd9cb19995a7106a268ed2bb8a1e</td>\n",
       "      <td>TEC</td>\n",
       "    </tr>\n",
       "    <tr>\n",
       "      <th>8622</th>\n",
       "      <td>Abel Braga (TEC)</td>\n",
       "      <td>Flamengo</td>\n",
       "      <td>10.28</td>\n",
       "      <td>4.0</td>\n",
       "      <td>3.58</td>\n",
       "      <td>4.30</td>\n",
       "      <td>0.43</td>\n",
       "      <td>NaN</td>\n",
       "      <td>NaN</td>\n",
       "      <td>NaN</td>\n",
       "      <td>...</td>\n",
       "      <td>NaN</td>\n",
       "      <td>NaN</td>\n",
       "      <td>NaN</td>\n",
       "      <td>NaN</td>\n",
       "      <td>4</td>\n",
       "      <td>2019</td>\n",
       "      <td>NaN</td>\n",
       "      <td>NaN</td>\n",
       "      <td>89fcd561730cbd9cb19995a7106a268ed2bb8a1e</td>\n",
       "      <td>TEC</td>\n",
       "    </tr>\n",
       "    <tr>\n",
       "      <th>8840</th>\n",
       "      <td>Abel Braga (TEC)</td>\n",
       "      <td>Flamengo</td>\n",
       "      <td>10.53</td>\n",
       "      <td>5.0</td>\n",
       "      <td>3.82</td>\n",
       "      <td>4.79</td>\n",
       "      <td>0.25</td>\n",
       "      <td>NaN</td>\n",
       "      <td>NaN</td>\n",
       "      <td>NaN</td>\n",
       "      <td>...</td>\n",
       "      <td>NaN</td>\n",
       "      <td>NaN</td>\n",
       "      <td>NaN</td>\n",
       "      <td>NaN</td>\n",
       "      <td>5</td>\n",
       "      <td>2019</td>\n",
       "      <td>NaN</td>\n",
       "      <td>NaN</td>\n",
       "      <td>89fcd561730cbd9cb19995a7106a268ed2bb8a1e</td>\n",
       "      <td>TEC</td>\n",
       "    </tr>\n",
       "    <tr>\n",
       "      <th>...</th>\n",
       "      <td>...</td>\n",
       "      <td>...</td>\n",
       "      <td>...</td>\n",
       "      <td>...</td>\n",
       "      <td>...</td>\n",
       "      <td>...</td>\n",
       "      <td>...</td>\n",
       "      <td>...</td>\n",
       "      <td>...</td>\n",
       "      <td>...</td>\n",
       "      <td>...</td>\n",
       "      <td>...</td>\n",
       "      <td>...</td>\n",
       "      <td>...</td>\n",
       "      <td>...</td>\n",
       "      <td>...</td>\n",
       "      <td>...</td>\n",
       "      <td>...</td>\n",
       "      <td>...</td>\n",
       "      <td>...</td>\n",
       "      <td>...</td>\n",
       "    </tr>\n",
       "    <tr>\n",
       "      <th>14192</th>\n",
       "      <td>Éverson (GOL)</td>\n",
       "      <td>Santos</td>\n",
       "      <td>9.79</td>\n",
       "      <td>23.0</td>\n",
       "      <td>4.25</td>\n",
       "      <td>8.00</td>\n",
       "      <td>-0.06</td>\n",
       "      <td>NaN</td>\n",
       "      <td>NaN</td>\n",
       "      <td>NaN</td>\n",
       "      <td>...</td>\n",
       "      <td>20.0</td>\n",
       "      <td>1.0</td>\n",
       "      <td>NaN</td>\n",
       "      <td>NaN</td>\n",
       "      <td>29</td>\n",
       "      <td>2019</td>\n",
       "      <td>NaN</td>\n",
       "      <td>34.0</td>\n",
       "      <td>6d99fcc3bc6b30aced0353e17beee4f211c2ee4a</td>\n",
       "      <td>GOL</td>\n",
       "    </tr>\n",
       "    <tr>\n",
       "      <th>10828</th>\n",
       "      <td>Éverson (GOL)</td>\n",
       "      <td>Santos</td>\n",
       "      <td>8.62</td>\n",
       "      <td>8.0</td>\n",
       "      <td>4.36</td>\n",
       "      <td>6.20</td>\n",
       "      <td>1.45</td>\n",
       "      <td>NaN</td>\n",
       "      <td>NaN</td>\n",
       "      <td>NaN</td>\n",
       "      <td>...</td>\n",
       "      <td>6.0</td>\n",
       "      <td>NaN</td>\n",
       "      <td>NaN</td>\n",
       "      <td>NaN</td>\n",
       "      <td>14</td>\n",
       "      <td>2019</td>\n",
       "      <td>NaN</td>\n",
       "      <td>7.0</td>\n",
       "      <td>6d99fcc3bc6b30aced0353e17beee4f211c2ee4a</td>\n",
       "      <td>GOL</td>\n",
       "    </tr>\n",
       "    <tr>\n",
       "      <th>7848</th>\n",
       "      <td>Ênio (MEI)</td>\n",
       "      <td>Botafogo</td>\n",
       "      <td>0.85</td>\n",
       "      <td>4.0</td>\n",
       "      <td>1.35</td>\n",
       "      <td>-0.20</td>\n",
       "      <td>-0.53</td>\n",
       "      <td>2.0</td>\n",
       "      <td>NaN</td>\n",
       "      <td>NaN</td>\n",
       "      <td>...</td>\n",
       "      <td>NaN</td>\n",
       "      <td>1.0</td>\n",
       "      <td>1.0</td>\n",
       "      <td>12.0</td>\n",
       "      <td>38</td>\n",
       "      <td>2020</td>\n",
       "      <td>NaN</td>\n",
       "      <td>NaN</td>\n",
       "      <td>98db7cfc8e99fe42e23ab3d1f8b9359815e9c023</td>\n",
       "      <td>MEI</td>\n",
       "    </tr>\n",
       "    <tr>\n",
       "      <th>7589</th>\n",
       "      <td>Ênio (MEI)</td>\n",
       "      <td>Botafogo</td>\n",
       "      <td>1.38</td>\n",
       "      <td>3.0</td>\n",
       "      <td>1.87</td>\n",
       "      <td>3.10</td>\n",
       "      <td>0.32</td>\n",
       "      <td>2.0</td>\n",
       "      <td>NaN</td>\n",
       "      <td>NaN</td>\n",
       "      <td>...</td>\n",
       "      <td>NaN</td>\n",
       "      <td>NaN</td>\n",
       "      <td>1.0</td>\n",
       "      <td>3.0</td>\n",
       "      <td>37</td>\n",
       "      <td>2020</td>\n",
       "      <td>NaN</td>\n",
       "      <td>NaN</td>\n",
       "      <td>98db7cfc8e99fe42e23ab3d1f8b9359815e9c023</td>\n",
       "      <td>MEI</td>\n",
       "    </tr>\n",
       "    <tr>\n",
       "      <th>7156</th>\n",
       "      <td>Índio (ATA)</td>\n",
       "      <td>Goiás</td>\n",
       "      <td>2.40</td>\n",
       "      <td>9.0</td>\n",
       "      <td>1.61</td>\n",
       "      <td>5.80</td>\n",
       "      <td>0.18</td>\n",
       "      <td>5.0</td>\n",
       "      <td>1.0</td>\n",
       "      <td>1.0</td>\n",
       "      <td>...</td>\n",
       "      <td>NaN</td>\n",
       "      <td>8.0</td>\n",
       "      <td>NaN</td>\n",
       "      <td>25.0</td>\n",
       "      <td>35</td>\n",
       "      <td>2020</td>\n",
       "      <td>NaN</td>\n",
       "      <td>NaN</td>\n",
       "      <td>51a3c733c0e9607d34cfcfa18495308690337e71</td>\n",
       "      <td>ATA</td>\n",
       "    </tr>\n",
       "  </tbody>\n",
       "</table>\n",
       "<p>16404 rows × 31 columns</p>\n",
       "</div>"
      ],
      "text/plain": [
       "                   Nome          Clube  Preço     J  Média  Últ. Pont.  \\\n",
       "7240   Abel Braga (TEC)  Internacional  11.46  16.0   3.78        4.74   \n",
       "6793   Abel Braga (TEC)  Internacional  11.31  14.0   3.96        3.14   \n",
       "6213   Abel Braga (TEC)  Internacional  11.71  11.0   4.11        7.06   \n",
       "8622   Abel Braga (TEC)       Flamengo  10.28   4.0   3.58        4.30   \n",
       "8840   Abel Braga (TEC)       Flamengo  10.53   5.0   3.82        4.79   \n",
       "...                 ...            ...    ...   ...    ...         ...   \n",
       "14192     Éverson (GOL)         Santos   9.79  23.0   4.25        8.00   \n",
       "10828     Éverson (GOL)         Santos   8.62   8.0   4.36        6.20   \n",
       "7848         Ênio (MEI)       Botafogo   0.85   4.0   1.35       -0.20   \n",
       "7589         Ênio (MEI)       Botafogo   1.38   3.0   1.87        3.10   \n",
       "7156        Índio (ATA)          Goiás   2.40   9.0   1.61        5.80   \n",
       "\n",
       "       Variação   DS    G    A  ...    GS   FC    I    PI  rodada   ano  RB  \\\n",
       "7240       0.73  NaN  NaN  NaN  ...   NaN  NaN  NaN   NaN      36  2020 NaN   \n",
       "6793      -0.18  NaN  NaN  NaN  ...   NaN  NaN  NaN   NaN      34  2020 NaN   \n",
       "6213       0.48  NaN  NaN  NaN  ...   NaN  NaN  NaN   NaN      31  2020 NaN   \n",
       "8622       0.43  NaN  NaN  NaN  ...   NaN  NaN  NaN   NaN       4  2019 NaN   \n",
       "8840       0.25  NaN  NaN  NaN  ...   NaN  NaN  NaN   NaN       5  2019 NaN   \n",
       "...         ...  ...  ...  ...  ...   ...  ...  ...   ...     ...   ...  ..   \n",
       "14192     -0.06  NaN  NaN  NaN  ...  20.0  1.0  NaN   NaN      29  2019 NaN   \n",
       "10828      1.45  NaN  NaN  NaN  ...   6.0  NaN  NaN   NaN      14  2019 NaN   \n",
       "7848      -0.53  2.0  NaN  NaN  ...   NaN  1.0  1.0  12.0      38  2020 NaN   \n",
       "7589       0.32  2.0  NaN  NaN  ...   NaN  NaN  1.0   3.0      37  2020 NaN   \n",
       "7156       0.18  5.0  1.0  1.0  ...   NaN  8.0  NaN  25.0      35  2020 NaN   \n",
       "\n",
       "         PE                                        id  pos  \n",
       "7240    NaN  89fcd561730cbd9cb19995a7106a268ed2bb8a1e  TEC  \n",
       "6793    NaN  89fcd561730cbd9cb19995a7106a268ed2bb8a1e  TEC  \n",
       "6213    NaN  89fcd561730cbd9cb19995a7106a268ed2bb8a1e  TEC  \n",
       "8622    NaN  89fcd561730cbd9cb19995a7106a268ed2bb8a1e  TEC  \n",
       "8840    NaN  89fcd561730cbd9cb19995a7106a268ed2bb8a1e  TEC  \n",
       "...     ...                                       ...  ...  \n",
       "14192  34.0  6d99fcc3bc6b30aced0353e17beee4f211c2ee4a  GOL  \n",
       "10828   7.0  6d99fcc3bc6b30aced0353e17beee4f211c2ee4a  GOL  \n",
       "7848    NaN  98db7cfc8e99fe42e23ab3d1f8b9359815e9c023  MEI  \n",
       "7589    NaN  98db7cfc8e99fe42e23ab3d1f8b9359815e9c023  MEI  \n",
       "7156    NaN  51a3c733c0e9607d34cfcfa18495308690337e71  ATA  \n",
       "\n",
       "[16404 rows x 31 columns]"
      ]
     },
     "metadata": {},
     "output_type": "display_data"
    },
    {
     "data": {
      "text/html": [
       "<div>\n",
       "<style scoped>\n",
       "    .dataframe tbody tr th:only-of-type {\n",
       "        vertical-align: middle;\n",
       "    }\n",
       "\n",
       "    .dataframe tbody tr th {\n",
       "        vertical-align: top;\n",
       "    }\n",
       "\n",
       "    .dataframe thead th {\n",
       "        text-align: right;\n",
       "    }\n",
       "</style>\n",
       "<table border=\"1\" class=\"dataframe\">\n",
       "  <thead>\n",
       "    <tr style=\"text-align: right;\">\n",
       "      <th></th>\n",
       "      <th>id</th>\n",
       "      <th>ano</th>\n",
       "      <th>DS_sum</th>\n",
       "      <th>G_sum</th>\n",
       "      <th>A_sum</th>\n",
       "      <th>SG_sum</th>\n",
       "      <th>FS_sum</th>\n",
       "      <th>FF_sum</th>\n",
       "      <th>FD_sum</th>\n",
       "      <th>FT_sum</th>\n",
       "      <th>...</th>\n",
       "      <th>GC_sum</th>\n",
       "      <th>CV_sum</th>\n",
       "      <th>CA_sum</th>\n",
       "      <th>PP_sum</th>\n",
       "      <th>GS_sum</th>\n",
       "      <th>FC_sum</th>\n",
       "      <th>I_sum</th>\n",
       "      <th>PI_sum</th>\n",
       "      <th>RB_sum</th>\n",
       "      <th>PE_sum</th>\n",
       "    </tr>\n",
       "  </thead>\n",
       "  <tbody>\n",
       "    <tr>\n",
       "      <th>672</th>\n",
       "      <td>8503a68c00b8da9a7a8c757a25d5efb8e10e05e2</td>\n",
       "      <td>2020</td>\n",
       "      <td>0.0</td>\n",
       "      <td>1.0</td>\n",
       "      <td>0.0</td>\n",
       "      <td>0.0</td>\n",
       "      <td>6.0</td>\n",
       "      <td>2.0</td>\n",
       "      <td>2.0</td>\n",
       "      <td>0.0</td>\n",
       "      <td>...</td>\n",
       "      <td>0.0</td>\n",
       "      <td>0.0</td>\n",
       "      <td>0.0</td>\n",
       "      <td>0.0</td>\n",
       "      <td>0.0</td>\n",
       "      <td>8.0</td>\n",
       "      <td>4.0</td>\n",
       "      <td>7.0</td>\n",
       "      <td>0.0</td>\n",
       "      <td>0.0</td>\n",
       "    </tr>\n",
       "    <tr>\n",
       "      <th>1199</th>\n",
       "      <td>eef1739f8210742b2e78774ba6fbe4e5a7ff3ecf</td>\n",
       "      <td>2019</td>\n",
       "      <td>0.0</td>\n",
       "      <td>0.0</td>\n",
       "      <td>0.0</td>\n",
       "      <td>0.0</td>\n",
       "      <td>0.0</td>\n",
       "      <td>3.0</td>\n",
       "      <td>0.0</td>\n",
       "      <td>0.0</td>\n",
       "      <td>...</td>\n",
       "      <td>0.0</td>\n",
       "      <td>0.0</td>\n",
       "      <td>1.0</td>\n",
       "      <td>0.0</td>\n",
       "      <td>0.0</td>\n",
       "      <td>3.0</td>\n",
       "      <td>0.0</td>\n",
       "      <td>0.0</td>\n",
       "      <td>8.0</td>\n",
       "      <td>8.0</td>\n",
       "    </tr>\n",
       "    <tr>\n",
       "      <th>121</th>\n",
       "      <td>131172853b1823a7017a02fa5768548c33959238</td>\n",
       "      <td>2019</td>\n",
       "      <td>0.0</td>\n",
       "      <td>0.0</td>\n",
       "      <td>0.0</td>\n",
       "      <td>1.0</td>\n",
       "      <td>2.0</td>\n",
       "      <td>0.0</td>\n",
       "      <td>0.0</td>\n",
       "      <td>0.0</td>\n",
       "      <td>...</td>\n",
       "      <td>0.0</td>\n",
       "      <td>0.0</td>\n",
       "      <td>0.0</td>\n",
       "      <td>0.0</td>\n",
       "      <td>8.0</td>\n",
       "      <td>0.0</td>\n",
       "      <td>0.0</td>\n",
       "      <td>0.0</td>\n",
       "      <td>0.0</td>\n",
       "      <td>1.0</td>\n",
       "    </tr>\n",
       "    <tr>\n",
       "      <th>5</th>\n",
       "      <td>00bb6950552b01c385f1f763a7f475f311f9baf4</td>\n",
       "      <td>2019</td>\n",
       "      <td>0.0</td>\n",
       "      <td>0.0</td>\n",
       "      <td>0.0</td>\n",
       "      <td>0.0</td>\n",
       "      <td>0.0</td>\n",
       "      <td>0.0</td>\n",
       "      <td>0.0</td>\n",
       "      <td>0.0</td>\n",
       "      <td>...</td>\n",
       "      <td>0.0</td>\n",
       "      <td>0.0</td>\n",
       "      <td>0.0</td>\n",
       "      <td>0.0</td>\n",
       "      <td>0.0</td>\n",
       "      <td>0.0</td>\n",
       "      <td>0.0</td>\n",
       "      <td>0.0</td>\n",
       "      <td>0.0</td>\n",
       "      <td>0.0</td>\n",
       "    </tr>\n",
       "    <tr>\n",
       "      <th>900</th>\n",
       "      <td>b27456debbb763e4f116a386ca16fd0e87bd4679</td>\n",
       "      <td>2020</td>\n",
       "      <td>6.0</td>\n",
       "      <td>0.0</td>\n",
       "      <td>0.0</td>\n",
       "      <td>0.0</td>\n",
       "      <td>4.0</td>\n",
       "      <td>0.0</td>\n",
       "      <td>0.0</td>\n",
       "      <td>0.0</td>\n",
       "      <td>...</td>\n",
       "      <td>0.0</td>\n",
       "      <td>0.0</td>\n",
       "      <td>3.0</td>\n",
       "      <td>0.0</td>\n",
       "      <td>48.0</td>\n",
       "      <td>3.0</td>\n",
       "      <td>0.0</td>\n",
       "      <td>315.0</td>\n",
       "      <td>0.0</td>\n",
       "      <td>0.0</td>\n",
       "    </tr>\n",
       "  </tbody>\n",
       "</table>\n",
       "<p>5 rows × 22 columns</p>\n",
       "</div>"
      ],
      "text/plain": [
       "                                            id   ano  DS_sum  G_sum  A_sum  \\\n",
       "672   8503a68c00b8da9a7a8c757a25d5efb8e10e05e2  2020     0.0    1.0    0.0   \n",
       "1199  eef1739f8210742b2e78774ba6fbe4e5a7ff3ecf  2019     0.0    0.0    0.0   \n",
       "121   131172853b1823a7017a02fa5768548c33959238  2019     0.0    0.0    0.0   \n",
       "5     00bb6950552b01c385f1f763a7f475f311f9baf4  2019     0.0    0.0    0.0   \n",
       "900   b27456debbb763e4f116a386ca16fd0e87bd4679  2020     6.0    0.0    0.0   \n",
       "\n",
       "      SG_sum  FS_sum  FF_sum  FD_sum  FT_sum  ...  GC_sum  CV_sum  CA_sum  \\\n",
       "672      0.0     6.0     2.0     2.0     0.0  ...     0.0     0.0     0.0   \n",
       "1199     0.0     0.0     3.0     0.0     0.0  ...     0.0     0.0     1.0   \n",
       "121      1.0     2.0     0.0     0.0     0.0  ...     0.0     0.0     0.0   \n",
       "5        0.0     0.0     0.0     0.0     0.0  ...     0.0     0.0     0.0   \n",
       "900      0.0     4.0     0.0     0.0     0.0  ...     0.0     0.0     3.0   \n",
       "\n",
       "      PP_sum  GS_sum  FC_sum  I_sum  PI_sum  RB_sum  PE_sum  \n",
       "672      0.0     0.0     8.0    4.0     7.0     0.0     0.0  \n",
       "1199     0.0     0.0     3.0    0.0     0.0     8.0     8.0  \n",
       "121      0.0     8.0     0.0    0.0     0.0     0.0     1.0  \n",
       "5        0.0     0.0     0.0    0.0     0.0     0.0     0.0  \n",
       "900      0.0    48.0     3.0    0.0   315.0     0.0     0.0  \n",
       "\n",
       "[5 rows x 22 columns]"
      ]
     },
     "metadata": {},
     "output_type": "display_data"
    },
    {
     "data": {
      "text/html": [
       "<div>\n",
       "<style scoped>\n",
       "    .dataframe tbody tr th:only-of-type {\n",
       "        vertical-align: middle;\n",
       "    }\n",
       "\n",
       "    .dataframe tbody tr th {\n",
       "        vertical-align: top;\n",
       "    }\n",
       "\n",
       "    .dataframe thead th {\n",
       "        text-align: right;\n",
       "    }\n",
       "</style>\n",
       "<table border=\"1\" class=\"dataframe\">\n",
       "  <thead>\n",
       "    <tr style=\"text-align: right;\">\n",
       "      <th></th>\n",
       "      <th>id</th>\n",
       "      <th>ano</th>\n",
       "      <th>Preço_sum</th>\n",
       "      <th>Média_sum</th>\n",
       "      <th>Variação_sum</th>\n",
       "    </tr>\n",
       "  </thead>\n",
       "  <tbody>\n",
       "    <tr>\n",
       "      <th>770</th>\n",
       "      <td>9cd71ee63111f28f92a77b7c34b9c0bf8e6b242b</td>\n",
       "      <td>2019</td>\n",
       "      <td>99.44</td>\n",
       "      <td>44.55</td>\n",
       "      <td>4.88</td>\n",
       "    </tr>\n",
       "    <tr>\n",
       "      <th>454</th>\n",
       "      <td>5a2bfe120db7d667e0d07751de79d083e0a95eca</td>\n",
       "      <td>2020</td>\n",
       "      <td>102.75</td>\n",
       "      <td>42.42</td>\n",
       "      <td>6.85</td>\n",
       "    </tr>\n",
       "    <tr>\n",
       "      <th>1063</th>\n",
       "      <td>d6cf8deab9740b85119d4e85b6fce995d6763089</td>\n",
       "      <td>2019</td>\n",
       "      <td>3.08</td>\n",
       "      <td>1.48</td>\n",
       "      <td>-0.32</td>\n",
       "    </tr>\n",
       "    <tr>\n",
       "      <th>771</th>\n",
       "      <td>9cd71ee63111f28f92a77b7c34b9c0bf8e6b242b</td>\n",
       "      <td>2020</td>\n",
       "      <td>46.45</td>\n",
       "      <td>11.29</td>\n",
       "      <td>0.37</td>\n",
       "    </tr>\n",
       "    <tr>\n",
       "      <th>310</th>\n",
       "      <td>3a26ed95a7e47feec36be8b2b86797f75d4f2d57</td>\n",
       "      <td>2019</td>\n",
       "      <td>17.07</td>\n",
       "      <td>7.16</td>\n",
       "      <td>0.22</td>\n",
       "    </tr>\n",
       "  </tbody>\n",
       "</table>\n",
       "</div>"
      ],
      "text/plain": [
       "                                            id   ano  Preço_sum  Média_sum  \\\n",
       "770   9cd71ee63111f28f92a77b7c34b9c0bf8e6b242b  2019      99.44      44.55   \n",
       "454   5a2bfe120db7d667e0d07751de79d083e0a95eca  2020     102.75      42.42   \n",
       "1063  d6cf8deab9740b85119d4e85b6fce995d6763089  2019       3.08       1.48   \n",
       "771   9cd71ee63111f28f92a77b7c34b9c0bf8e6b242b  2020      46.45      11.29   \n",
       "310   3a26ed95a7e47feec36be8b2b86797f75d4f2d57  2019      17.07       7.16   \n",
       "\n",
       "      Variação_sum  \n",
       "770           4.88  \n",
       "454           6.85  \n",
       "1063         -0.32  \n",
       "771           0.37  \n",
       "310           0.22  "
      ]
     },
     "metadata": {},
     "output_type": "display_data"
    },
    {
     "data": {
      "text/html": [
       "<div>\n",
       "<style scoped>\n",
       "    .dataframe tbody tr th:only-of-type {\n",
       "        vertical-align: middle;\n",
       "    }\n",
       "\n",
       "    .dataframe tbody tr th {\n",
       "        vertical-align: top;\n",
       "    }\n",
       "\n",
       "    .dataframe thead th {\n",
       "        text-align: right;\n",
       "    }\n",
       "</style>\n",
       "<table border=\"1\" class=\"dataframe\">\n",
       "  <thead>\n",
       "    <tr style=\"text-align: right;\">\n",
       "      <th></th>\n",
       "      <th>id</th>\n",
       "      <th>ano</th>\n",
       "      <th>pos_first</th>\n",
       "    </tr>\n",
       "  </thead>\n",
       "  <tbody>\n",
       "    <tr>\n",
       "      <th>268</th>\n",
       "      <td>3216f76537a923f901ca7f02f22bf47a4f2cc002</td>\n",
       "      <td>2020</td>\n",
       "      <td>MEI</td>\n",
       "    </tr>\n",
       "    <tr>\n",
       "      <th>437</th>\n",
       "      <td>5566b9519cb3c171c0964ea290f2aa6e1b7a603e</td>\n",
       "      <td>2020</td>\n",
       "      <td>LAT</td>\n",
       "    </tr>\n",
       "    <tr>\n",
       "      <th>900</th>\n",
       "      <td>b27456debbb763e4f116a386ca16fd0e87bd4679</td>\n",
       "      <td>2020</td>\n",
       "      <td>GOL</td>\n",
       "    </tr>\n",
       "    <tr>\n",
       "      <th>3</th>\n",
       "      <td>007a425aba9f1c34c7930edc9af914578e369bed</td>\n",
       "      <td>2020</td>\n",
       "      <td>TEC</td>\n",
       "    </tr>\n",
       "    <tr>\n",
       "      <th>574</th>\n",
       "      <td>7278580c441bf8711bcb6b02449c610c47be8b63</td>\n",
       "      <td>2019</td>\n",
       "      <td>ATA</td>\n",
       "    </tr>\n",
       "  </tbody>\n",
       "</table>\n",
       "</div>"
      ],
      "text/plain": [
       "                                           id   ano pos_first\n",
       "268  3216f76537a923f901ca7f02f22bf47a4f2cc002  2020       MEI\n",
       "437  5566b9519cb3c171c0964ea290f2aa6e1b7a603e  2020       LAT\n",
       "900  b27456debbb763e4f116a386ca16fd0e87bd4679  2020       GOL\n",
       "3    007a425aba9f1c34c7930edc9af914578e369bed  2020       TEC\n",
       "574  7278580c441bf8711bcb6b02449c610c47be8b63  2019       ATA"
      ]
     },
     "metadata": {},
     "output_type": "display_data"
    },
    {
     "data": {
      "text/plain": [
       "MEI    408\n",
       "ATA    285\n",
       "ZAG    203\n",
       "LAT    200\n",
       "GOL     96\n",
       "TEC     91\n",
       "Name: pos_first, dtype: int64"
      ]
     },
     "metadata": {},
     "output_type": "display_data"
    }
   ],
   "source": [
    "df = pd.read_csv('~/Documents/data/cartola-fc-brasil-scouts/jogadores.csv')\n",
    "\n",
    "df['id']  = df['Nome'].apply( lambda x: hashlib.sha1(str.encode(x)).hexdigest() )\n",
    "df['pos'] = df['Nome'].apply( lambda x: x.split('(')[-1].split(')')[0].strip() )\n",
    "\n",
    "display( df.sort_values(by=\"Nome\") )\n",
    "\n",
    "scouts  = ['DS','G','A','SG','FS','FF','FD','FT','DD','DP','GC','CV','CA','PP','GS','FC','I','PI','RB','PE']\n",
    "mercado = ['Preço', 'Média','Variação']\n",
    "keys    = [\"id\", \"ano\"]\n",
    "\n",
    "gscouts = df.groupby(keys)[scouts].agg(['sum'])\n",
    "gscouts.columns = gscouts.columns.map('_'.join)\n",
    "gscouts = gscouts.reset_index()\n",
    "\n",
    "gmercado = df.groupby(keys)[mercado].agg(['sum'])\n",
    "gmercado.columns = gmercado.columns.map('_'.join)\n",
    "gmercado = gmercado.reset_index()\n",
    "\n",
    "gpos = df.groupby(keys)[['pos']].agg(['first'])\n",
    "gpos.columns = gpos.columns.map('_'.join)\n",
    "gpos = gpos.reset_index()\n",
    "\n",
    "display(gscouts.sample(5))\n",
    "display(gmercado.sample(5))\n",
    "display(gpos.sample(5))\n",
    "\n",
    "display(gpos['pos_first'].value_counts())"
   ]
  },
  {
   "cell_type": "markdown",
   "id": "pediatric-intellectual",
   "metadata": {},
   "source": [
    "# agglomerative hierarchical "
   ]
  },
  {
   "cell_type": "markdown",
   "id": "official-click",
   "metadata": {},
   "source": [
    "in a nutshell: ![https://dashee87.github.io/images/hierarch_1.gif](../img/agglomerative.gif)"
   ]
  },
  {
   "cell_type": "markdown",
   "id": "amino-miami",
   "metadata": {},
   "source": [
    "## teoria"
   ]
  },
  {
   "cell_type": "markdown",
   "id": "statistical-measure",
   "metadata": {},
   "source": [
    "conceitos importantes:\n",
    "\n",
    "1. **metric**\n",
    "    * variável real\n",
    "        * euclidean\n",
    "        * cosine\n",
    "        * correlation\n",
    "        * manhattan\n",
    "        * minkowski\n",
    "        * mahalanobis\n",
    "    * variável discreta\n",
    "        * hamming\n",
    "        * jaccard\n",
    "2. **linkage**\n",
    "    * **single linkage**, distância entre dois clusters é definida como a distância entre os pontos mais próximos de cada um  $$d(C_i, C_j) = \\underset{x\\in C_i , y\\in C_j}{min} d(x,y)$$ dá origem a clusters finos e longos\n",
    "    * **complete linkage**, distância entre dois clusters é definida como a distância entre os pontos mais distantes de cada um  $$d(C_i, C_j) = \\underset{x\\in C_i , y\\in C_j}{max} d(x,y)$$ dá origem a clusters compactos\n",
    "    * **average linkage**, distância entre os clusters é definida como a média aritimética das distâncias de cada par de elementos com respeito à cardinalidade de cada cluster $$d(C_i, C_j) = \\frac{1}{|C_i| |C_j|} \\sum_{x\\in C_i} \\sum_{y\\in C_j} d(x,y)$$ dá origem a clusters estáveis, ao custo de uma maior complexidade computacional\n",
    "    * **ward**, \"quanto a soma dos quadrados (ou a variância, alternativamente) do cluster aumenta ao se adicionar um novo cluster?\" $$d(C_i, C_j) = \\left( \\sum_{z\\in C_i \\cup C_j} |z - m_{C_i \\cup C_j}|^2 \\right) - \\left( \\sum_{x\\in C_i} |x - m_{C_i}|^2  + \\sum_{y\\in C_j} |y - m_{C_j}|^2 \\right)$$ dá origem a clusters robustos também ao custo de uma maior complexidade computacional"
   ]
  },
  {
   "cell_type": "markdown",
   "id": "exciting-incident",
   "metadata": {},
   "source": [
    "## codigo"
   ]
  },
  {
   "cell_type": "code",
   "execution_count": 75,
   "id": "falling-utility",
   "metadata": {
    "scrolled": true,
    "tags": []
   },
   "outputs": [],
   "source": [
    "import scipy.cluster.hierarchy as hierarchical\n",
    "from sklearn.preprocessing import StandardScaler\n",
    "from sklearn.cluster       import AgglomerativeClustering\n",
    "\n",
    "scaler = StandardScaler()\n",
    "\n",
    "X = pd.concat([gscouts.drop(columns=keys), gmercado.drop(columns=keys)], axis=1).copy()\n",
    "X = X.astype(np.float64).fillna(0.0).values\n",
    "X = scaler.fit_transform( X )"
   ]
  },
  {
   "cell_type": "code",
   "execution_count": 87,
   "id": "fifth-potential",
   "metadata": {},
   "outputs": [
    {
     "name": "stdout",
     "output_type": "stream",
     "text": [
      "CPU times: user 36.3 ms, sys: 61 µs, total: 36.4 ms\n",
      "Wall time: 35.5 ms\n"
     ]
    },
    {
     "data": {
      "image/png": "[encoded data removed]",
      "text/plain": [
       "<Figure size 1440x360 with 1 Axes>"
      ]
     },
     "metadata": {
      "needs_background": "light"
     },
     "output_type": "display_data"
    }
   ],
   "source": [
    "%%time\n",
    "plt.figure(figsize=(20,5))\n",
    "dend = hierarchical.dendrogram( hierarchical.linkage(X, method='single'), truncate_mode='level', p=7 )"
   ]
  },
  {
   "cell_type": "code",
   "execution_count": 88,
   "id": "expired-malta",
   "metadata": {},
   "outputs": [
    {
     "data": {
      "text/plain": [
       "array([[9.90000000e+01, 6.96000000e+02, 0.00000000e+00, 2.00000000e+00],\n",
       "       [8.66000000e+02, 1.28300000e+03, 0.00000000e+00, 3.00000000e+00],\n",
       "       [1.05000000e+03, 1.28400000e+03, 0.00000000e+00, 4.00000000e+00],\n",
       "       ...,\n",
       "       [1.01000000e+03, 2.56100000e+03, 9.07392539e+00, 1.28100000e+03],\n",
       "       [6.13000000e+02, 2.56200000e+03, 9.99951098e+00, 1.28200000e+03],\n",
       "       [7.82000000e+02, 2.56300000e+03, 1.08590564e+01, 1.28300000e+03]])"
      ]
     },
     "execution_count": 88,
     "metadata": {},
     "output_type": "execute_result"
    }
   ],
   "source": [
    "L"
   ]
  },
  {
   "cell_type": "code",
   "execution_count": 72,
   "id": "shared-alberta",
   "metadata": {},
   "outputs": [
    {
     "name": "stdout",
     "output_type": "stream",
     "text": [
      "CPU times: user 97.2 ms, sys: 3.63 ms, total: 101 ms\n",
      "Wall time: 96.7 ms\n"
     ]
    },
    {
     "data": {
      "image/png": "[encoded data removed]",
      "text/plain": [
       "<Figure size 1440x360 with 1 Axes>"
      ]
     },
     "metadata": {
      "needs_background": "light"
     },
     "output_type": "display_data"
    }
   ],
   "source": [
    "%%time\n",
    "plt.figure(figsize=(20,5))\n",
    "dend = hierarchical.dendrogram( hierarchical.linkage(X, method='complete'), truncate_mode='level', p=7 )"
   ]
  },
  {
   "cell_type": "code",
   "execution_count": 73,
   "id": "automatic-cylinder",
   "metadata": {},
   "outputs": [
    {
     "name": "stdout",
     "output_type": "stream",
     "text": [
      "CPU times: user 64.7 ms, sys: 7.57 ms, total: 72.3 ms\n",
      "Wall time: 68.6 ms\n"
     ]
    },
    {
     "data": {
      "image/png": "[encoded data removed]",
      "text/plain": [
       "<Figure size 1440x360 with 1 Axes>"
      ]
     },
     "metadata": {
      "needs_background": "light"
     },
     "output_type": "display_data"
    }
   ],
   "source": [
    "%%time\n",
    "plt.figure(figsize=(20,5))\n",
    "dend = hierarchical.dendrogram( hierarchical.linkage(X, method='average'), truncate_mode='level', p=7 )"
   ]
  },
  {
   "cell_type": "code",
   "execution_count": 89,
   "id": "theoretical-breed",
   "metadata": {},
   "outputs": [
    {
     "name": "stdout",
     "output_type": "stream",
     "text": [
      "CPU times: user 177 ms, sys: 122 µs, total: 177 ms\n",
      "Wall time: 174 ms\n"
     ]
    },
    {
     "data": {
      "image/png": "[encoded data removed]",
      "text/plain": [
       "<Figure size 1440x360 with 1 Axes>"
      ]
     },
     "metadata": {
      "needs_background": "light"
     },
     "output_type": "display_data"
    }
   ],
   "source": [
    "%%time\n",
    "plt.figure(figsize=(20,5))\n",
    "dend = hierarchical.dendrogram( hierarchical.linkage(X, method='ward'), truncate_mode='level', p=7 )"
   ]
  },
  {
   "cell_type": "markdown",
   "id": "generic-watershed",
   "metadata": {},
   "source": [
    "- - -"
   ]
  },
  {
   "cell_type": "code",
   "execution_count": 85,
   "id": "sustainable-least",
   "metadata": {},
   "outputs": [
    {
     "data": {
      "image/png": "[encoded data removed]",
      "text/plain": [
       "<Figure size 432x288 with 2 Axes>"
      ]
     },
     "metadata": {
      "needs_background": "light"
     },
     "output_type": "display_data"
    }
   ],
   "source": [
    "sns.heatmap(X);"
   ]
  },
  {
   "cell_type": "code",
   "execution_count": 86,
   "id": "stylish-temple",
   "metadata": {},
   "outputs": [
    {
     "data": {
      "image/png": "[encoded data removed]",
      "text/plain": [
       "<Figure size 720x720 with 4 Axes>"
      ]
     },
     "metadata": {
      "needs_background": "light"
     },
     "output_type": "display_data"
    }
   ],
   "source": [
    "sns.clustermap(X, method='complete');"
   ]
  },
  {
   "cell_type": "markdown",
   "id": "operational-ethnic",
   "metadata": {},
   "source": [
    "- - -"
   ]
  },
  {
   "cell_type": "code",
   "execution_count": 109,
   "id": "powerful-richards",
   "metadata": {},
   "outputs": [],
   "source": [
    "analise = pd.concat([gscouts.drop(columns=keys), gmercado.drop(columns=keys), gpos['pos_first']], axis=1).copy()"
   ]
  },
  {
   "cell_type": "code",
   "execution_count": 114,
   "id": "renewable-apparel",
   "metadata": {},
   "outputs": [],
   "source": [
    "aggclu = AgglomerativeClustering(n_clusters=6, affinity='euclidean', linkage='ward')\n",
    "aggclu.fit_predict(X)\n",
    "\n",
    "analise['classe'] = aggclu.labels_\n",
    "analise['cell']   = 1"
   ]
  },
  {
   "cell_type": "code",
   "execution_count": 139,
   "id": "informed-concern",
   "metadata": {},
   "outputs": [],
   "source": [
    "def highlight_max(s):\n",
    "    is_max = s == s.max()\n",
    "    return ['background-color: yellow' if v else '' for v in is_max]"
   ]
  },
  {
   "cell_type": "code",
   "execution_count": 144,
   "id": "criminal-option",
   "metadata": {},
   "outputs": [
    {
     "data": {
      "text/html": [
       "<style  type=\"text/css\" >\n",
       "#T_4d352_row0_col1,#T_4d352_row1_col2,#T_4d352_row3_col0,#T_4d352_row3_col3,#T_4d352_row3_col4,#T_4d352_row3_col5{\n",
       "            background-color:  yellow;\n",
       "        }</style><table id=\"T_4d352_\" ><thead>    <tr>        <th class=\"index_name level0\" >classe</th>        <th class=\"col_heading level0 col0\" >0</th>        <th class=\"col_heading level0 col1\" >1</th>        <th class=\"col_heading level0 col2\" >2</th>        <th class=\"col_heading level0 col3\" >3</th>        <th class=\"col_heading level0 col4\" >4</th>        <th class=\"col_heading level0 col5\" >5</th>    </tr>    <tr>        <th class=\"index_name level0\" >pos_first</th>        <th class=\"blank\" ></th>        <th class=\"blank\" ></th>        <th class=\"blank\" ></th>        <th class=\"blank\" ></th>        <th class=\"blank\" ></th>        <th class=\"blank\" ></th>    </tr></thead><tbody>\n",
       "                <tr>\n",
       "                        <th id=\"T_4d352_level0_row0\" class=\"row_heading level0 row0\" >ATA</th>\n",
       "                        <td id=\"T_4d352_row0_col0\" class=\"data row0 col0\" >16</td>\n",
       "                        <td id=\"T_4d352_row0_col1\" class=\"data row0 col1\" >42</td>\n",
       "                        <td id=\"T_4d352_row0_col2\" class=\"data row0 col2\" >0</td>\n",
       "                        <td id=\"T_4d352_row0_col3\" class=\"data row0 col3\" >42</td>\n",
       "                        <td id=\"T_4d352_row0_col4\" class=\"data row0 col4\" >8</td>\n",
       "                        <td id=\"T_4d352_row0_col5\" class=\"data row0 col5\" >177</td>\n",
       "            </tr>\n",
       "            <tr>\n",
       "                        <th id=\"T_4d352_level0_row1\" class=\"row_heading level0 row1\" >GOL</th>\n",
       "                        <td id=\"T_4d352_row1_col0\" class=\"data row1 col0\" >0</td>\n",
       "                        <td id=\"T_4d352_row1_col1\" class=\"data row1 col1\" >0</td>\n",
       "                        <td id=\"T_4d352_row1_col2\" class=\"data row1 col2\" >37</td>\n",
       "                        <td id=\"T_4d352_row1_col3\" class=\"data row1 col3\" >2</td>\n",
       "                        <td id=\"T_4d352_row1_col4\" class=\"data row1 col4\" >0</td>\n",
       "                        <td id=\"T_4d352_row1_col5\" class=\"data row1 col5\" >57</td>\n",
       "            </tr>\n",
       "            <tr>\n",
       "                        <th id=\"T_4d352_level0_row2\" class=\"row_heading level0 row2\" >LAT</th>\n",
       "                        <td id=\"T_4d352_row2_col0\" class=\"data row2 col0\" >33</td>\n",
       "                        <td id=\"T_4d352_row2_col1\" class=\"data row2 col1\" >1</td>\n",
       "                        <td id=\"T_4d352_row2_col2\" class=\"data row2 col2\" >0</td>\n",
       "                        <td id=\"T_4d352_row2_col3\" class=\"data row2 col3\" >52</td>\n",
       "                        <td id=\"T_4d352_row2_col4\" class=\"data row2 col4\" >12</td>\n",
       "                        <td id=\"T_4d352_row2_col5\" class=\"data row2 col5\" >102</td>\n",
       "            </tr>\n",
       "            <tr>\n",
       "                        <th id=\"T_4d352_level0_row3\" class=\"row_heading level0 row3\" >MEI</th>\n",
       "                        <td id=\"T_4d352_row3_col0\" class=\"data row3 col0\" >38</td>\n",
       "                        <td id=\"T_4d352_row3_col1\" class=\"data row3 col1\" >15</td>\n",
       "                        <td id=\"T_4d352_row3_col2\" class=\"data row3 col2\" >0</td>\n",
       "                        <td id=\"T_4d352_row3_col3\" class=\"data row3 col3\" >81</td>\n",
       "                        <td id=\"T_4d352_row3_col4\" class=\"data row3 col4\" >34</td>\n",
       "                        <td id=\"T_4d352_row3_col5\" class=\"data row3 col5\" >240</td>\n",
       "            </tr>\n",
       "            <tr>\n",
       "                        <th id=\"T_4d352_level0_row4\" class=\"row_heading level0 row4\" >TEC</th>\n",
       "                        <td id=\"T_4d352_row4_col0\" class=\"data row4 col0\" >0</td>\n",
       "                        <td id=\"T_4d352_row4_col1\" class=\"data row4 col1\" >0</td>\n",
       "                        <td id=\"T_4d352_row4_col2\" class=\"data row4 col2\" >0</td>\n",
       "                        <td id=\"T_4d352_row4_col3\" class=\"data row4 col3\" >22</td>\n",
       "                        <td id=\"T_4d352_row4_col4\" class=\"data row4 col4\" >0</td>\n",
       "                        <td id=\"T_4d352_row4_col5\" class=\"data row4 col5\" >69</td>\n",
       "            </tr>\n",
       "            <tr>\n",
       "                        <th id=\"T_4d352_level0_row5\" class=\"row_heading level0 row5\" >ZAG</th>\n",
       "                        <td id=\"T_4d352_row5_col0\" class=\"data row5 col0\" >24</td>\n",
       "                        <td id=\"T_4d352_row5_col1\" class=\"data row5 col1\" >0</td>\n",
       "                        <td id=\"T_4d352_row5_col2\" class=\"data row5 col2\" >0</td>\n",
       "                        <td id=\"T_4d352_row5_col3\" class=\"data row5 col3\" >60</td>\n",
       "                        <td id=\"T_4d352_row5_col4\" class=\"data row5 col4\" >4</td>\n",
       "                        <td id=\"T_4d352_row5_col5\" class=\"data row5 col5\" >115</td>\n",
       "            </tr>\n",
       "    </tbody></table>"
      ],
      "text/plain": [
       "<pandas.io.formats.style.Styler at 0x7ffa7368d9a0>"
      ]
     },
     "execution_count": 144,
     "metadata": {},
     "output_type": "execute_result"
    }
   ],
   "source": [
    "ptab = pd.pivot_table(analise, \n",
    "                        values  = 'cell', \n",
    "                        index   = 'pos_first', \n",
    "                        columns = 'classe', \n",
    "                        aggfunc = 'count',\n",
    "                        fill_value = 0.0)\n",
    "# ptab_perc = ptab.copy()\n",
    "# ptab_perc.div( ptab.sum(axis=1), axis=0 ).style.apply(highlight_max, axis=1)\n",
    "ptab.style.apply(highlight_max, axis=0)"
   ]
  },
  {
   "cell_type": "markdown",
   "id": "oriental-ministry",
   "metadata": {},
   "source": [
    "# divisive hierarchical"
   ]
  },
  {
   "cell_type": "markdown",
   "id": "adopted-angola",
   "metadata": {},
   "source": [
    "exemplo com **bisecting k-means**:\n",
    "\n",
    "![https://medium.com/@afrizalfir/bisecting-kmeans-clustering-5bc17603b8a2](../img/bisecting-kmeans.png)\n",
    "\n",
    "observações:\n",
    "* pode ser uma boa alternativa ao k-means quando uma de suas hipóteses é violada: observações geradas por **mistura de gaussianas** de **mesma variância**, **mesma quantidade de observações por classe** e **covariância intra-classe nula** (ou seja, matriz covariancia identidade)."
   ]
  },
  {
   "cell_type": "markdown",
   "id": "raising-candy",
   "metadata": {},
   "source": [
    "## teoria"
   ]
  },
  {
   "cell_type": "markdown",
   "id": "black-bread",
   "metadata": {},
   "source": [
    "## codigo"
   ]
  },
  {
   "cell_type": "markdown",
   "id": "intellectual-development",
   "metadata": {
    "tags": []
   },
   "source": [
    "# fuzzy c-means"
   ]
  },
  {
   "cell_type": "markdown",
   "id": "binary-collectible",
   "metadata": {},
   "source": [
    "## teoria\n",
    "\n",
    "fcm is a method of clustering that allows points to be in more than one cluster a.k.a. soft kmeans\n",
    "\n",
    "de forma geral, dado o número de clusters $k$ definidos aleatoriamente, o **k-means \"normal\"** pode ser sistematizado em iterações sobre duas etapas:\n",
    "\n",
    "1. \"atribuição\", onde cada ponto $x_i$ é associado a um cluster $k$ de média $m$ de acordo com $$\\hat{k}_i = \\underset{k}{min} \\,\\,  d(x_i, m_k)$$ a partir do qual se calcula a probabilidade de $P(x_i \\in k) \\equiv p_{i}^{k}$ como $$p_{i}^{k} = \\left\\{\\begin{matrix}\n",
    "1 \\, \\text{se} \\, \\hat{k}_i =k\\\\ \n",
    "0 \\, \\text{se} \\, \\hat{k}_i \\neq k\n",
    "\\end{matrix}\\right.$$\n",
    "2. \"atualização\", onde os centróides de médias $m$ são recalculados de acordo com $$m_k = \\frac{\\sum_i p_i^k x_i}{\\sum_i p_i^k}$$\n",
    "\n",
    "<br/>\n",
    "\n",
    "a partir disso o k-means \"normal\" (hard k-means) dá origem a uma abordagem de fuzzy c-means (**soft k-means**) redefinindo-se a função probabilidade para $$p_{i}^{k} = \\frac{exp\\left( -\\beta d(x_i, m_k) \\right)}{\\sum_{k\\prime}exp\\left( -\\beta d(x_i, m_{k\\prime}) \\right)}$$"
   ]
  },
  {
   "cell_type": "markdown",
   "id": "technological-implementation",
   "metadata": {},
   "source": [
    "## codigo"
   ]
  },
  {
   "cell_type": "markdown",
   "id": "decent-carbon",
   "metadata": {},
   "source": [
    "# mean-shift"
   ]
  },
  {
   "cell_type": "markdown",
   "id": "instant-avenue",
   "metadata": {},
   "source": [
    "## teoria"
   ]
  },
  {
   "cell_type": "markdown",
   "id": "informal-treasurer",
   "metadata": {},
   "source": [
    "## codigo"
   ]
  },
  {
   "cell_type": "markdown",
   "id": "seventh-revision",
   "metadata": {},
   "source": [
    "# k-means"
   ]
  },
  {
   "cell_type": "markdown",
   "id": "ecological-amplifier",
   "metadata": {},
   "source": [
    "## teoria"
   ]
  },
  {
   "cell_type": "markdown",
   "id": "confused-recall",
   "metadata": {},
   "source": [
    "alguns detalhes sobre k-means estão registrados na seção [fuzzy c-means](#fuzzy-c-means)"
   ]
  },
  {
   "cell_type": "markdown",
   "id": "anticipated-platform",
   "metadata": {},
   "source": [
    "## codigo"
   ]
  },
  {
   "cell_type": "markdown",
   "id": "completed-groove",
   "metadata": {},
   "source": [
    "# dbscan"
   ]
  },
  {
   "cell_type": "markdown",
   "id": "polar-cancer",
   "metadata": {},
   "source": [
    "## teoria"
   ]
  },
  {
   "cell_type": "markdown",
   "id": "disabled-houston",
   "metadata": {},
   "source": [
    "## codigo"
   ]
  },
  {
   "cell_type": "markdown",
   "id": "radio-wrist",
   "metadata": {},
   "source": [
    "- - -"
   ]
  },
  {
   "cell_type": "markdown",
   "id": "located-convenience",
   "metadata": {},
   "source": [
    "**referencias**\n",
    "\n",
    "[hierarchical clustering @ statquest](https://www.youtube.com/watch?v=7xHsRkOdVwo)<br/>\n",
    "[agglomerative clustering @ victor lavrenko](https://www.youtube.com/watch?v=XJ3194AmH40)\n",
    "\n",
    "<br/>\n",
    "\n",
    "[choosing the number of clusters in hierarchical agglomerative clustering @ stats exchange](https://stats.stackexchange.com/questions/66128/choosing-the-number-of-clusters-in-hierarchical-agglomerative-clustering)<br/>\n",
    "[scipy.cluster.hierarchy.linkage @ scipy](https://docs.scipy.org/doc/scipy/reference/generated/scipy.cluster.hierarchy.linkage.html)<br/>\n",
    "[hierarchical clustering with python and scikit-learn @ stackabuse](https://stackabuse.com/hierarchical-clustering-with-python-and-scikit-learn/)<br/>\n",
    "[clustering with scikit with gifs @ dashee87](https://dashee87.github.io/data%20science/general/Clustering-with-Scikit-with-GIFs/)\n",
    "\n",
    "<br/>\n",
    "\n",
    "[us arrests using hierarchical clustering analysis](https://www.kaggle.com/aishu2218/us-arrests-using-hierarchical-clustering-analysis)"
   ]
  }
 ],
 "metadata": {
  "kernelspec": {
   "display_name": "Python 3",
   "language": "python",
   "name": "python3"
  },
  "language_info": {
   "codemirror_mode": {
    "name": "ipython",
    "version": 3
   },
   "file_extension": ".py",
   "mimetype": "text/x-python",
   "name": "python",
   "nbconvert_exporter": "python",
   "pygments_lexer": "ipython3",
   "version": "3.8.5"
  }
 },
 "nbformat": 4,
 "nbformat_minor": 5
}
