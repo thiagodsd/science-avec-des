{
 "cells": [
  {
   "cell_type": "code",
   "execution_count": 15,
   "metadata": {},
   "outputs": [
    {
     "name": "stdout",
     "output_type": "stream",
     "text": [
      "- [Functions](#functions)\n",
      "- [Exploration](#exploration)\n",
      "- [Data Preparation](#data-preparation)\n",
      "- [Modelling](#modelling)\n",
      "\t- [Splitting](#splitting)\n",
      "\t- [Techniques](#techniques)\n",
      "\t\t- [K-MEANS](#k-means)\n",
      "\t\t- [DBSCAN](#dbscan)\n",
      "\t- [Analysing](#analysing)\n"
     ]
    }
   ],
   "source": [
    "import unidecode\n",
    "\n",
    "with open(r'''penknife.md''', mode='r') as f:\n",
    "    s = f.readlines() \n",
    "\n",
    "STATUS = True\n",
    "for l in s:\n",
    "    if len(l.rstrip()) > 0:\n",
    "        if l[:3] == '```':\n",
    "            if STATUS == True:\n",
    "                STATUS = False\n",
    "            else:\n",
    "                STATUS = True\n",
    "        if STATUS == True:\n",
    "            if l.rstrip()[0] == \"#\":\n",
    "                hashtag = l.split()[0]\n",
    "                chapter = ' '.join(l.split()[1:])\n",
    "                link = unidecode.unidecode('-'.join(l.split()[1:]).lower())\n",
    "                ITEM = '{}{}{}'.format((len(hashtag)-1)*'\\t', '- ', '[{}](#{})'.format(chapter, link))\n",
    "                print(ITEM)"
   ]
  },
  {
   "cell_type": "markdown",
   "metadata": {},
   "source": [
    "- - -"
   ]
  }
 ],
 "metadata": {
  "kernelspec": {
   "display_name": "Python 3",
   "language": "python",
   "name": "python3"
  },
  "language_info": {
   "codemirror_mode": {
    "name": "ipython",
    "version": 3
   },
   "file_extension": ".py",
   "mimetype": "text/x-python",
   "name": "python",
   "nbconvert_exporter": "python",
   "pygments_lexer": "ipython3",
   "version": "3.7.4"
  }
 },
 "nbformat": 4,
 "nbformat_minor": 4
}
