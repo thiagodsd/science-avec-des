{
  "nbformat": 4,
  "nbformat_minor": 0,
  "metadata": {
    "kernelspec": {
      "language": "python",
      "display_name": "Python 3",
      "name": "python3"
    },
    "language_info": {
      "pygments_lexer": "ipython3",
      "nbconvert_exporter": "python",
      "version": "3.6.4",
      "file_extension": ".py",
      "codemirror_mode": {
        "name": "ipython",
        "version": 3
      },
      "name": "python",
      "mimetype": "text/x-python"
    },
    "colab": {
      "name": "study-kernel_C_nyc-taxi-trip-duration.ipynb",
      "provenance": [],
      "collapsed_sections": [],
      "toc_visible": true
    }
  },
  "cells": [
    {
      "cell_type": "markdown",
      "metadata": {
        "id": "6iB5uFmxWhRY",
        "colab_type": "text"
      },
      "source": [
        "# Overview"
      ]
    },
    {
      "cell_type": "markdown",
      "metadata": {
        "id": "ycpPkPw5KWgR",
        "colab_type": "text"
      },
      "source": [
        "After my, let's say, [_spontaneous_ attempt](https://www.kaggle.com/thiagodsd/nyc-taxi-trip-duration) to find out the duration of taxi trips in New York - which occurs to be my submission ever -, I devote this notebook to study alternative regression approaches and techniques. \n",
        "\n",
        "Again, the purpose of this notebook is to study, therefore there are none original idea/solution/approach below, just reproductions and minor adaptations from other sources. Still I'd glad if it helps somebody somewhat.\n",
        "\n",
        "- - -\n",
        "\n",
        "References first to give an overview:\n",
        "\n",
        "1. [Outlier Detection Practice: uni/multivariate | Kaggle](https://www.kaggle.com/kevinarvai/outlier-detection-practice-uni-multivariate) - since data cleaning was a step which stuck me a little. Thanks to [Kevin Arvai](https://www.kaggle.com/kevinarvai).\n",
        "\n",
        "2. [7 Regression Types and Techniques in Data Science](https://www.analyticsvidhya.com/blog/2015/08/comprehensive-guide-regression/)\n",
        "    - [Linear, Ridge and Lasso Regression comprehensive guide for beginners](https://www.analyticsvidhya.com/blog/2017/06/a-comprehensive-guide-for-linear-ridge-and-lasso-regression/)\n",
        "    - [Neural Network Model for House Prices (Keras) | Kaggle](https://www.kaggle.com/diegosiebra/neural-network-model-for-house-prices-keras) - thanks to [Diego Siebra Ferreira](https://www.kaggle.com/diegosiebra).\n",
        "    - [Regression, Blending and Stacking V.02 | Kaggle](https://www.kaggle.com/zugariy/regression-blending-and-stacking-v-02) - thanks to [ZugariY](https://www.kaggle.com/zugariy).\n",
        "\n",
        "3. [Blending of 6 Models (Top 10%) | Kaggle](https://www.kaggle.com/sandeepkumar121995/blending-of-6-models-top-10) - thanks to [Sandeep Kumar](https://www.kaggle.com/sandeepkumar121995).\n",
        "\n",
        "```\n",
        "[From EDA to the Top (LB 0.367) | Kaggle](https://www.kaggle.com/gaborfodor/from-eda-to-the-top-lb-0-367)\n",
        "[Predicting House Prices || Regression Techniques | Kaggle](https://www.kaggle.com/janiobachmann/predicting-house-prices-regression-techniques)\n",
        "[EDA, Introduction to Ensemble Regression | Kaggle](https://www.kaggle.com/yassineghouzam/eda-introduction-to-ensemble-regression)\n",
        "```\n",
        "\n",
        "- - -\n"
      ]
    },
    {
      "cell_type": "markdown",
      "metadata": {
        "id": "frkW8hR5KWgT",
        "colab_type": "text"
      },
      "source": [
        "Checking files:"
      ]
    },
    {
      "cell_type": "code",
      "metadata": {
        "id": "z1r4dEdSKw6M",
        "colab_type": "code",
        "colab": {}
      },
      "source": [
        "#from google.colab import files\n",
        "#_json = files.upload()\n",
        "\n",
        "# !pip install -q kaggle\n",
        "# !mkdir -p ~/.kaggle\n",
        "# !cp kaggle.json ~/.kaggle/\n",
        "# !chmod 600 ~/.kaggle/kaggle.json\n",
        "\n",
        "#!mkdir ~/data\n",
        "#!mkdir ~/data/nyc-taxi-trip-duration/\n",
        "#!kaggle competitions download -c nyc-taxi-trip-duration -p ~/data/nyc-taxi-trip-duration/\n",
        "\n",
        "# !unzip /root/data/nyc-taxi-trip-duration/sample_submission.zip -d /root/data/nyc-taxi-trip-duration/\n",
        "# !unzip /root/data/nyc-taxi-trip-duration/train.zip -d /root/data/nyc-taxi-trip-duration/\n",
        "# !unzip /root/data/nyc-taxi-trip-duration/test.zip -d /root/data/nyc-taxi-trip-duration/"
      ],
      "execution_count": 0,
      "outputs": []
    },
    {
      "cell_type": "code",
      "metadata": {
        "_uuid": "8f2839f25d086af736a60e9eeb907d3b93b6e0e5",
        "_cell_guid": "b1076dfc-b9ad-4769-8c92-a6c4dae69d19",
        "trusted": true,
        "id": "4GNIK_BvKWgU",
        "colab_type": "code",
        "colab": {
          "base_uri": "https://localhost:8080/",
          "height": 156
        },
        "outputId": "e8681e5c-30f4-42c7-8ec5-4df5ae04c4a1"
      },
      "source": [
        "import numpy  as np\n",
        "import pandas as pd\n",
        "\n",
        "import os\n",
        "for dirname, _, filenames in os.walk('/root/data'):\n",
        "    for filename in filenames:\n",
        "        print(os.path.join(dirname, filename))"
      ],
      "execution_count": 2,
      "outputs": [
        {
          "output_type": "stream",
          "text": [
            "/root/data/nyc-taxi-trip-duration/sample_submission.zip\n",
            "/root/data/nyc-taxi-trip-duration/db_predict.p\n",
            "/root/data/nyc-taxi-trip-duration/test.csv\n",
            "/root/data/nyc-taxi-trip-duration/sample_submission.csv\n",
            "/root/data/nyc-taxi-trip-duration/train.zip\n",
            "/root/data/nyc-taxi-trip-duration/kmeans_predict.p\n",
            "/root/data/nyc-taxi-trip-duration/test.zip\n",
            "/root/data/nyc-taxi-trip-duration/train.csv\n"
          ],
          "name": "stdout"
        }
      ]
    },
    {
      "cell_type": "markdown",
      "metadata": {
        "_uuid": "d629ff2d2480ee46fbb7e2d37f6b5fab8052498a",
        "collapsed": true,
        "_cell_guid": "79c7e3d0-c299-4dcb-8224-4455121ee9b0",
        "trusted": false,
        "id": "KPWArNVPKWga",
        "colab_type": "text"
      },
      "source": [
        "Summoning some libs:"
      ]
    },
    {
      "cell_type": "code",
      "metadata": {
        "trusted": true,
        "id": "JEzrdYfRKWgc",
        "colab_type": "code",
        "colab": {}
      },
      "source": [
        "import datetime\n",
        "import warnings\n",
        "import pickle\n",
        "import gc\n",
        "\n",
        "%matplotlib inline\n",
        "import matplotlib.pyplot as plt\n",
        "import seaborn           as sns\n",
        "from pandas.plotting import scatter_matrix\n",
        "\n",
        "from sklearn import metrics\n",
        "from sklearn.model_selection import train_test_split\n",
        "from sklearn.impute          import SimpleImputer\n",
        "from sklearn.compose         import ColumnTransformer\n",
        "from sklearn.preprocessing   import OrdinalEncoder, OneHotEncoder\n",
        "from sklearn.pipeline        import Pipeline\n",
        "from sklearn.preprocessing   import StandardScaler\n",
        "\n",
        "from sklearn.cluster      import KMeans, DBSCAN\n",
        "from sklearn.linear_model import LinearRegression\n",
        "from sklearn.tree         import DecisionTreeRegressor\n",
        "\n",
        "from sklearn.metrics import mean_absolute_error, mean_squared_log_error\n",
        "\n",
        "\n",
        "from IPython.display import display, FileLink\n",
        "\n",
        "#\n",
        "\n",
        "warnings.filterwarnings('ignore')\n",
        "plt.rcParams['figure.figsize'] = [13, 7]\n",
        "np.random.seed(1642)"
      ],
      "execution_count": 0,
      "outputs": []
    },
    {
      "cell_type": "markdown",
      "metadata": {
        "id": "jG7SIgPCKWge",
        "colab_type": "text"
      },
      "source": [
        "defining some functions:"
      ]
    },
    {
      "cell_type": "code",
      "metadata": {
        "trusted": true,
        "id": "k9isf8C1KWgf",
        "colab_type": "code",
        "colab": {}
      },
      "source": [
        "def var_cleaner(s):\n",
        "    \"\"\"\n",
        "    ('var1, var2, ..., varN') -> None\n",
        "    \"\"\"\n",
        "    trash = list()\n",
        "    miss  = list()\n",
        "    for v in s.replace(' ', '').split(','):\n",
        "        if v in globals():\n",
        "            del globals()[v]\n",
        "            trash.append(v)\n",
        "        else:\n",
        "            miss.append(v)\n",
        "    print('- DELETED:     {}'.format( ', '.join(trash) ))\n",
        "    print('- NOT DEFINED: {}'.format( ', '.join(miss) ))"
      ],
      "execution_count": 0,
      "outputs": []
    },
    {
      "cell_type": "code",
      "metadata": {
        "trusted": true,
        "id": "ofxOxElYKWgi",
        "colab_type": "code",
        "colab": {}
      },
      "source": [
        "from math import sin, cos, sqrt, atan2, radians\n",
        "def lat_lon_converter(lat1, lon1, lat2, lon2, unit):\n",
        "    \"\"\"\n",
        "    ref: https://stackoverflow.com/questions/19412462/getting-distance-between-two-points-based-on-latitude-longitude\n",
        "    \"\"\"\n",
        "    try:\n",
        "        R = 6373.0\n",
        "        dlon = radians(lon2) - radians(lon1)\n",
        "        dlat = radians(lat2) - radians(lat1)\n",
        "        a = sin(dlat / 2)**2 + cos(lat1) * cos(lat2) * sin(dlon / 2)**2\n",
        "        c = 2 * atan2(sqrt(a), sqrt(1 - a))\n",
        "        distance = R * c\n",
        "\n",
        "        if unit == 'm':\n",
        "            return distance * 10e3\n",
        "        elif unit == 'km':\n",
        "            return distance\n",
        "    except ValueError:\n",
        "        return np.nan"
      ],
      "execution_count": 0,
      "outputs": []
    },
    {
      "cell_type": "code",
      "metadata": {
        "trusted": true,
        "id": "9B7IV_LsKWgn",
        "colab_type": "code",
        "colab": {}
      },
      "source": [
        "def dbscan_predict(model, X):\n",
        "    \"\"\"\n",
        "    ref: https://stackoverflow.com/questions/27822752/scikit-learn-predicting-new-points-with-dbscan\n",
        "    \"\"\"\n",
        "    nr_samples = X.shape[0]\n",
        "\n",
        "    y_new = np.ones(shape=nr_samples, dtype=int) * -1\n",
        "\n",
        "    for i in range(nr_samples):\n",
        "        diff = model.components_ - X[i, :]   # NumPy broadcasting\n",
        "        dist = np.linalg.norm(diff, axis=1)  # Euclidean distance\n",
        "        shortest_dist_idx = np.argmin(dist)\n",
        "\n",
        "        if dist[shortest_dist_idx] < model.eps:\n",
        "            y_new[i] = model.labels_[model.core_sample_indices_[shortest_dist_idx]]\n",
        "\n",
        "    return y_new"
      ],
      "execution_count": 0,
      "outputs": []
    },
    {
      "cell_type": "markdown",
      "metadata": {
        "id": "zhVSNpGEKWgr",
        "colab_type": "text"
      },
      "source": [
        "Loading data:"
      ]
    },
    {
      "cell_type": "code",
      "metadata": {
        "trusted": true,
        "id": "-9yMFn34KWgs",
        "colab_type": "code",
        "colab": {
          "base_uri": "https://localhost:8080/",
          "height": 529
        },
        "outputId": "d7e28c4d-e8d9-408e-e44c-779085c5f173"
      },
      "source": [
        "df_train = pd.read_csv('/root/data/nyc-taxi-trip-duration/train.csv')\n",
        "df_test  = pd.read_csv('/root/data/nyc-taxi-trip-duration/test.csv')\n",
        "\n",
        "print('train: ', df_train.shape)\n",
        "print('test:  ', df_test.shape)\n",
        "\n",
        "display( df_train.head() )\n",
        "display( df_test.head() )"
      ],
      "execution_count": 7,
      "outputs": [
        {
          "output_type": "stream",
          "text": [
            "train:  (1458644, 11)\n",
            "test:   (625134, 9)\n"
          ],
          "name": "stdout"
        },
        {
          "output_type": "display_data",
          "data": {
            "text/html": [
              "<div>\n",
              "<style scoped>\n",
              "    .dataframe tbody tr th:only-of-type {\n",
              "        vertical-align: middle;\n",
              "    }\n",
              "\n",
              "    .dataframe tbody tr th {\n",
              "        vertical-align: top;\n",
              "    }\n",
              "\n",
              "    .dataframe thead th {\n",
              "        text-align: right;\n",
              "    }\n",
              "</style>\n",
              "<table border=\"1\" class=\"dataframe\">\n",
              "  <thead>\n",
              "    <tr style=\"text-align: right;\">\n",
              "      <th></th>\n",
              "      <th>id</th>\n",
              "      <th>vendor_id</th>\n",
              "      <th>pickup_datetime</th>\n",
              "      <th>dropoff_datetime</th>\n",
              "      <th>passenger_count</th>\n",
              "      <th>pickup_longitude</th>\n",
              "      <th>pickup_latitude</th>\n",
              "      <th>dropoff_longitude</th>\n",
              "      <th>dropoff_latitude</th>\n",
              "      <th>store_and_fwd_flag</th>\n",
              "      <th>trip_duration</th>\n",
              "    </tr>\n",
              "  </thead>\n",
              "  <tbody>\n",
              "    <tr>\n",
              "      <th>0</th>\n",
              "      <td>id2875421</td>\n",
              "      <td>2</td>\n",
              "      <td>2016-03-14 17:24:55</td>\n",
              "      <td>2016-03-14 17:32:30</td>\n",
              "      <td>1</td>\n",
              "      <td>-73.982155</td>\n",
              "      <td>40.767937</td>\n",
              "      <td>-73.964630</td>\n",
              "      <td>40.765602</td>\n",
              "      <td>N</td>\n",
              "      <td>455</td>\n",
              "    </tr>\n",
              "    <tr>\n",
              "      <th>1</th>\n",
              "      <td>id2377394</td>\n",
              "      <td>1</td>\n",
              "      <td>2016-06-12 00:43:35</td>\n",
              "      <td>2016-06-12 00:54:38</td>\n",
              "      <td>1</td>\n",
              "      <td>-73.980415</td>\n",
              "      <td>40.738564</td>\n",
              "      <td>-73.999481</td>\n",
              "      <td>40.731152</td>\n",
              "      <td>N</td>\n",
              "      <td>663</td>\n",
              "    </tr>\n",
              "    <tr>\n",
              "      <th>2</th>\n",
              "      <td>id3858529</td>\n",
              "      <td>2</td>\n",
              "      <td>2016-01-19 11:35:24</td>\n",
              "      <td>2016-01-19 12:10:48</td>\n",
              "      <td>1</td>\n",
              "      <td>-73.979027</td>\n",
              "      <td>40.763939</td>\n",
              "      <td>-74.005333</td>\n",
              "      <td>40.710087</td>\n",
              "      <td>N</td>\n",
              "      <td>2124</td>\n",
              "    </tr>\n",
              "    <tr>\n",
              "      <th>3</th>\n",
              "      <td>id3504673</td>\n",
              "      <td>2</td>\n",
              "      <td>2016-04-06 19:32:31</td>\n",
              "      <td>2016-04-06 19:39:40</td>\n",
              "      <td>1</td>\n",
              "      <td>-74.010040</td>\n",
              "      <td>40.719971</td>\n",
              "      <td>-74.012268</td>\n",
              "      <td>40.706718</td>\n",
              "      <td>N</td>\n",
              "      <td>429</td>\n",
              "    </tr>\n",
              "    <tr>\n",
              "      <th>4</th>\n",
              "      <td>id2181028</td>\n",
              "      <td>2</td>\n",
              "      <td>2016-03-26 13:30:55</td>\n",
              "      <td>2016-03-26 13:38:10</td>\n",
              "      <td>1</td>\n",
              "      <td>-73.973053</td>\n",
              "      <td>40.793209</td>\n",
              "      <td>-73.972923</td>\n",
              "      <td>40.782520</td>\n",
              "      <td>N</td>\n",
              "      <td>435</td>\n",
              "    </tr>\n",
              "  </tbody>\n",
              "</table>\n",
              "</div>"
            ],
            "text/plain": [
              "          id  vendor_id  ... store_and_fwd_flag trip_duration\n",
              "0  id2875421          2  ...                  N           455\n",
              "1  id2377394          1  ...                  N           663\n",
              "2  id3858529          2  ...                  N          2124\n",
              "3  id3504673          2  ...                  N           429\n",
              "4  id2181028          2  ...                  N           435\n",
              "\n",
              "[5 rows x 11 columns]"
            ]
          },
          "metadata": {
            "tags": []
          }
        },
        {
          "output_type": "display_data",
          "data": {
            "text/html": [
              "<div>\n",
              "<style scoped>\n",
              "    .dataframe tbody tr th:only-of-type {\n",
              "        vertical-align: middle;\n",
              "    }\n",
              "\n",
              "    .dataframe tbody tr th {\n",
              "        vertical-align: top;\n",
              "    }\n",
              "\n",
              "    .dataframe thead th {\n",
              "        text-align: right;\n",
              "    }\n",
              "</style>\n",
              "<table border=\"1\" class=\"dataframe\">\n",
              "  <thead>\n",
              "    <tr style=\"text-align: right;\">\n",
              "      <th></th>\n",
              "      <th>id</th>\n",
              "      <th>vendor_id</th>\n",
              "      <th>pickup_datetime</th>\n",
              "      <th>passenger_count</th>\n",
              "      <th>pickup_longitude</th>\n",
              "      <th>pickup_latitude</th>\n",
              "      <th>dropoff_longitude</th>\n",
              "      <th>dropoff_latitude</th>\n",
              "      <th>store_and_fwd_flag</th>\n",
              "    </tr>\n",
              "  </thead>\n",
              "  <tbody>\n",
              "    <tr>\n",
              "      <th>0</th>\n",
              "      <td>id3004672</td>\n",
              "      <td>1</td>\n",
              "      <td>2016-06-30 23:59:58</td>\n",
              "      <td>1</td>\n",
              "      <td>-73.988129</td>\n",
              "      <td>40.732029</td>\n",
              "      <td>-73.990173</td>\n",
              "      <td>40.756680</td>\n",
              "      <td>N</td>\n",
              "    </tr>\n",
              "    <tr>\n",
              "      <th>1</th>\n",
              "      <td>id3505355</td>\n",
              "      <td>1</td>\n",
              "      <td>2016-06-30 23:59:53</td>\n",
              "      <td>1</td>\n",
              "      <td>-73.964203</td>\n",
              "      <td>40.679993</td>\n",
              "      <td>-73.959808</td>\n",
              "      <td>40.655403</td>\n",
              "      <td>N</td>\n",
              "    </tr>\n",
              "    <tr>\n",
              "      <th>2</th>\n",
              "      <td>id1217141</td>\n",
              "      <td>1</td>\n",
              "      <td>2016-06-30 23:59:47</td>\n",
              "      <td>1</td>\n",
              "      <td>-73.997437</td>\n",
              "      <td>40.737583</td>\n",
              "      <td>-73.986160</td>\n",
              "      <td>40.729523</td>\n",
              "      <td>N</td>\n",
              "    </tr>\n",
              "    <tr>\n",
              "      <th>3</th>\n",
              "      <td>id2150126</td>\n",
              "      <td>2</td>\n",
              "      <td>2016-06-30 23:59:41</td>\n",
              "      <td>1</td>\n",
              "      <td>-73.956070</td>\n",
              "      <td>40.771900</td>\n",
              "      <td>-73.986427</td>\n",
              "      <td>40.730469</td>\n",
              "      <td>N</td>\n",
              "    </tr>\n",
              "    <tr>\n",
              "      <th>4</th>\n",
              "      <td>id1598245</td>\n",
              "      <td>1</td>\n",
              "      <td>2016-06-30 23:59:33</td>\n",
              "      <td>1</td>\n",
              "      <td>-73.970215</td>\n",
              "      <td>40.761475</td>\n",
              "      <td>-73.961510</td>\n",
              "      <td>40.755890</td>\n",
              "      <td>N</td>\n",
              "    </tr>\n",
              "  </tbody>\n",
              "</table>\n",
              "</div>"
            ],
            "text/plain": [
              "          id  vendor_id  ... dropoff_latitude  store_and_fwd_flag\n",
              "0  id3004672          1  ...        40.756680                   N\n",
              "1  id3505355          1  ...        40.655403                   N\n",
              "2  id1217141          1  ...        40.729523                   N\n",
              "3  id2150126          2  ...        40.730469                   N\n",
              "4  id1598245          1  ...        40.755890                   N\n",
              "\n",
              "[5 rows x 9 columns]"
            ]
          },
          "metadata": {
            "tags": []
          }
        }
      ]
    },
    {
      "cell_type": "code",
      "metadata": {
        "trusted": true,
        "id": "rMVVPtK6KWgw",
        "colab_type": "code",
        "colab": {
          "base_uri": "https://localhost:8080/",
          "height": 156
        },
        "outputId": "fc0378fd-6ba9-43c6-cafb-1e65e75031f8"
      },
      "source": [
        "_TARGET      = 'trip_duration'\n",
        "_NON_FEATURE = set(df_train.columns) - set(df_test.columns)\n",
        "_FEATURES    = set(df_train.columns).intersection(set(df_test.columns)) - set(['id'])\n",
        "\n",
        "display(_FEATURES)"
      ],
      "execution_count": 40,
      "outputs": [
        {
          "output_type": "display_data",
          "data": {
            "text/plain": [
              "{'dropoff_latitude',\n",
              " 'dropoff_longitude',\n",
              " 'passenger_count',\n",
              " 'pickup_datetime',\n",
              " 'pickup_latitude',\n",
              " 'pickup_longitude',\n",
              " 'store_and_fwd_flag',\n",
              " 'vendor_id'}"
            ]
          },
          "metadata": {
            "tags": []
          }
        }
      ]
    },
    {
      "cell_type": "code",
      "metadata": {
        "trusted": true,
        "id": "fpRA0iyJKWgz",
        "colab_type": "code",
        "colab": {}
      },
      "source": [
        "train = df_train[_FEATURES]\n",
        "test  = df_test[_FEATURES]"
      ],
      "execution_count": 0,
      "outputs": []
    },
    {
      "cell_type": "code",
      "metadata": {
        "trusted": true,
        "id": "3M80Bi_ZKWg2",
        "colab_type": "code",
        "colab": {
          "base_uri": "https://localhost:8080/",
          "height": 294
        },
        "outputId": "19526354-78dd-4b4f-b8cb-d9af5a30ec45"
      },
      "source": [
        "train.describe().apply( lambda s: s.apply( lambda x: format(x, '.3f') ) )"
      ],
      "execution_count": 42,
      "outputs": [
        {
          "output_type": "execute_result",
          "data": {
            "text/html": [
              "<div>\n",
              "<style scoped>\n",
              "    .dataframe tbody tr th:only-of-type {\n",
              "        vertical-align: middle;\n",
              "    }\n",
              "\n",
              "    .dataframe tbody tr th {\n",
              "        vertical-align: top;\n",
              "    }\n",
              "\n",
              "    .dataframe thead th {\n",
              "        text-align: right;\n",
              "    }\n",
              "</style>\n",
              "<table border=\"1\" class=\"dataframe\">\n",
              "  <thead>\n",
              "    <tr style=\"text-align: right;\">\n",
              "      <th></th>\n",
              "      <th>dropoff_latitude</th>\n",
              "      <th>pickup_longitude</th>\n",
              "      <th>passenger_count</th>\n",
              "      <th>vendor_id</th>\n",
              "      <th>dropoff_longitude</th>\n",
              "      <th>pickup_latitude</th>\n",
              "    </tr>\n",
              "  </thead>\n",
              "  <tbody>\n",
              "    <tr>\n",
              "      <th>count</th>\n",
              "      <td>1458644.000</td>\n",
              "      <td>1458644.000</td>\n",
              "      <td>1458644.000</td>\n",
              "      <td>1458644.000</td>\n",
              "      <td>1458644.000</td>\n",
              "      <td>1458644.000</td>\n",
              "    </tr>\n",
              "    <tr>\n",
              "      <th>mean</th>\n",
              "      <td>40.752</td>\n",
              "      <td>-73.973</td>\n",
              "      <td>1.665</td>\n",
              "      <td>1.535</td>\n",
              "      <td>-73.973</td>\n",
              "      <td>40.751</td>\n",
              "    </tr>\n",
              "    <tr>\n",
              "      <th>std</th>\n",
              "      <td>0.036</td>\n",
              "      <td>0.071</td>\n",
              "      <td>1.314</td>\n",
              "      <td>0.499</td>\n",
              "      <td>0.071</td>\n",
              "      <td>0.033</td>\n",
              "    </tr>\n",
              "    <tr>\n",
              "      <th>min</th>\n",
              "      <td>32.181</td>\n",
              "      <td>-121.933</td>\n",
              "      <td>0.000</td>\n",
              "      <td>1.000</td>\n",
              "      <td>-121.933</td>\n",
              "      <td>34.360</td>\n",
              "    </tr>\n",
              "    <tr>\n",
              "      <th>25%</th>\n",
              "      <td>40.736</td>\n",
              "      <td>-73.992</td>\n",
              "      <td>1.000</td>\n",
              "      <td>1.000</td>\n",
              "      <td>-73.991</td>\n",
              "      <td>40.737</td>\n",
              "    </tr>\n",
              "    <tr>\n",
              "      <th>50%</th>\n",
              "      <td>40.755</td>\n",
              "      <td>-73.982</td>\n",
              "      <td>1.000</td>\n",
              "      <td>2.000</td>\n",
              "      <td>-73.980</td>\n",
              "      <td>40.754</td>\n",
              "    </tr>\n",
              "    <tr>\n",
              "      <th>75%</th>\n",
              "      <td>40.770</td>\n",
              "      <td>-73.967</td>\n",
              "      <td>2.000</td>\n",
              "      <td>2.000</td>\n",
              "      <td>-73.963</td>\n",
              "      <td>40.768</td>\n",
              "    </tr>\n",
              "    <tr>\n",
              "      <th>max</th>\n",
              "      <td>43.921</td>\n",
              "      <td>-61.336</td>\n",
              "      <td>9.000</td>\n",
              "      <td>2.000</td>\n",
              "      <td>-61.336</td>\n",
              "      <td>51.881</td>\n",
              "    </tr>\n",
              "  </tbody>\n",
              "</table>\n",
              "</div>"
            ],
            "text/plain": [
              "      dropoff_latitude pickup_longitude  ... dropoff_longitude pickup_latitude\n",
              "count      1458644.000      1458644.000  ...       1458644.000     1458644.000\n",
              "mean            40.752          -73.973  ...           -73.973          40.751\n",
              "std              0.036            0.071  ...             0.071           0.033\n",
              "min             32.181         -121.933  ...          -121.933          34.360\n",
              "25%             40.736          -73.992  ...           -73.991          40.737\n",
              "50%             40.755          -73.982  ...           -73.980          40.754\n",
              "75%             40.770          -73.967  ...           -73.963          40.768\n",
              "max             43.921          -61.336  ...           -61.336          51.881\n",
              "\n",
              "[8 rows x 6 columns]"
            ]
          },
          "metadata": {
            "tags": []
          },
          "execution_count": 42
        }
      ]
    },
    {
      "cell_type": "code",
      "metadata": {
        "trusted": true,
        "id": "pkZyeRISKWg6",
        "colab_type": "code",
        "colab": {}
      },
      "source": [
        "sample = train[['dropoff_latitude', 'dropoff_longitude']].sample(10000)"
      ],
      "execution_count": 0,
      "outputs": []
    },
    {
      "cell_type": "markdown",
      "metadata": {
        "id": "z6KjUPqSKWg9",
        "colab_type": "text"
      },
      "source": [
        "# Outlier Detection\n",
        "\n",
        "![](https://2b1ohome.files.wordpress.com/2019/10/icon_outlier-4.png)"
      ]
    },
    {
      "cell_type": "code",
      "metadata": {
        "trusted": true,
        "id": "ZnpUVEc6KWg_",
        "colab_type": "code",
        "colab": {
          "base_uri": "https://localhost:8080/",
          "height": 432
        },
        "outputId": "37a8693b-abe2-4d89-ac2b-07dc291253d9"
      },
      "source": [
        "plt.hist(sample['dropoff_latitude'], bins=100);"
      ],
      "execution_count": 44,
      "outputs": [
        {
          "output_type": "display_data",
          "data": {
            "image/png": "[encoded data removed]",
            "text/plain": [
              "<Figure size 936x504 with 1 Axes>"
            ]
          },
          "metadata": {
            "tags": []
          }
        }
      ]
    },
    {
      "cell_type": "markdown",
      "metadata": {
        "id": "nfxh1jUxKWhC",
        "colab_type": "text"
      },
      "source": [
        "## Univariate"
      ]
    },
    {
      "cell_type": "markdown",
      "metadata": {
        "id": "Gqn6MkjyKWhD",
        "colab_type": "text"
      },
      "source": [
        "### Standard Deviation & Interquartile Range Method\n",
        "\n",
        "> A good statistic for summarizing a non-Gaussian distribution sample of data is the Interquartile Range, or IQR for short."
      ]
    },
    {
      "cell_type": "code",
      "metadata": {
        "trusted": true,
        "id": "1d-ROXmAKWhE",
        "colab_type": "code",
        "colab": {}
      },
      "source": [
        "def out_std(data, n_std=3.0, return_thresholds=False):\n",
        "    \"\"\"\n",
        "    ref: https://www.kaggle.com/kevinarvai/outlier-detection-practice-uni-multivariate#Parametric-methods:-Univariate\n",
        "    \"\"\"\n",
        "    mean, std    = data.mean(), data.std()\n",
        "    cutoff       = std * n_std\n",
        "    lower, upper = mean - cutoff, mean + cutoff\n",
        "    if return_thresholds:\n",
        "        return lower, upper\n",
        "    return [True if i < lower or i > upper else False for i in data]\n",
        "\n",
        "def out_iqr(data, k=1.5, return_thresholds=False):\n",
        "    \"\"\"\n",
        "    ref: https://www.kaggle.com/kevinarvai/outlier-detection-practice-uni-multivariate#Parametric-methods:-Univariate\n",
        "    \"\"\"\n",
        "    q25, q75     = np.percentile(data, 25), np.percentile(data, 75)\n",
        "    iqr          = q75 - q25\n",
        "    cutoff       = iqr * k\n",
        "    lower, upper = q25 - cutoff, q75 + cutoff\n",
        "    if return_thresholds:\n",
        "        return lower, upper\n",
        "    return [True if i < lower or i > upper else False for i in data]"
      ],
      "execution_count": 0,
      "outputs": []
    },
    {
      "cell_type": "code",
      "metadata": {
        "trusted": true,
        "id": "P_e5KjmQKWhH",
        "colab_type": "code",
        "colab": {
          "base_uri": "https://localhost:8080/",
          "height": 52
        },
        "outputId": "7b63e9d3-85d8-4f72-f741-2755a49f4f63"
      },
      "source": [
        "out_mask_std = out_std(sample['dropoff_latitude'], n_std=3.0)\n",
        "display( np.unique(out_mask_std, return_counts=True) )\n",
        "\n",
        "out_mask_iqr = out_iqr(sample['dropoff_latitude'], k=1.5)\n",
        "display( np.unique(out_mask_iqr, return_counts=True) )"
      ],
      "execution_count": 46,
      "outputs": [
        {
          "output_type": "display_data",
          "data": {
            "text/plain": [
              "(array([False,  True]), array([9946,   54]))"
            ]
          },
          "metadata": {
            "tags": []
          }
        },
        {
          "output_type": "display_data",
          "data": {
            "text/plain": [
              "(array([False,  True]), array([9489,  511]))"
            ]
          },
          "metadata": {
            "tags": []
          }
        }
      ]
    },
    {
      "cell_type": "code",
      "metadata": {
        "trusted": true,
        "id": "L_2Vf84CKWhK",
        "colab_type": "code",
        "colab": {
          "base_uri": "https://localhost:8080/",
          "height": 524
        },
        "outputId": "a1f833a2-2d69-4ba2-c144-4a47782c2293"
      },
      "source": [
        "_filter = sample.dtypes[~(sample.dtypes.isin([ np.dtype('object'),  np.dtype('<M8[ns]')]))].index\n",
        "\n",
        "out_mask_std = sample[_filter].apply(out_std, n_std=3.0)\n",
        "out_mask_iqr = sample[_filter].apply(out_iqr, k=1.5)\n",
        "\n",
        "f, ((ax1, ax2)) = plt.subplots(ncols=2, nrows=1)\n",
        "\n",
        "sns.heatmap(out_mask_std, cmap='binary', ax=ax1)\n",
        "sns.heatmap(out_mask_iqr, cmap='binary', ax=ax2)\n",
        "\n",
        "ax1.set_xticklabels(ax1.get_xticklabels(), rotation=90)\n",
        "ax1.axes.get_yaxis().set_visible(False)\n",
        "ax2.set_xticklabels(ax2.get_xticklabels(), rotation=90)\n",
        "ax2.axes.get_yaxis().set_visible(False)\n",
        "\n",
        "ax1.set_title(r'out_std')\n",
        "ax2.set_title(r'out_iqr');"
      ],
      "execution_count": 47,
      "outputs": [
        {
          "output_type": "display_data",
          "data": {
            "image/png": "[encoded data removed]",
            "text/plain": [
              "<Figure size 936x504 with 4 Axes>"
            ]
          },
          "metadata": {
            "tags": []
          }
        }
      ]
    },
    {
      "cell_type": "markdown",
      "metadata": {
        "id": "Gs23Wi-DKWhO",
        "colab_type": "text"
      },
      "source": [
        "### Isolation Forest"
      ]
    },
    {
      "cell_type": "code",
      "metadata": {
        "trusted": true,
        "id": "cjDNFuiFKWhP",
        "colab_type": "code",
        "colab": {
          "base_uri": "https://localhost:8080/",
          "height": 69
        },
        "outputId": "7abcfcac-2f35-42b2-cab3-88e26ba13096"
      },
      "source": [
        "from sklearn.ensemble import IsolationForest\n",
        "\n",
        "out_if = IsolationForest(n_estimators=100)\n",
        "out_if.fit(sample['dropoff_latitude'].values.reshape(-1, 1))"
      ],
      "execution_count": 48,
      "outputs": [
        {
          "output_type": "execute_result",
          "data": {
            "text/plain": [
              "IsolationForest(behaviour='old', bootstrap=False, contamination='legacy',\n",
              "                max_features=1.0, max_samples='auto', n_estimators=100,\n",
              "                n_jobs=None, random_state=None, verbose=0, warm_start=False)"
            ]
          },
          "metadata": {
            "tags": []
          },
          "execution_count": 48
        }
      ]
    },
    {
      "cell_type": "code",
      "metadata": {
        "trusted": true,
        "id": "f7x5fRxpKWhR",
        "colab_type": "code",
        "colab": {
          "base_uri": "https://localhost:8080/",
          "height": 432
        },
        "outputId": "25f8333b-475a-4337-b054-3cc45b1dda48"
      },
      "source": [
        "xx = np.linspace(sample['dropoff_latitude'].min(), sample['dropoff_latitude'].max(), int(sample.shape[0]/5.0)).reshape(-1, 1)\n",
        "\n",
        "anomaly_score = out_if.decision_function(xx)\n",
        "out_bounds    = out_if.predict(xx)\n",
        "\n",
        "plt.plot(xx, anomaly_score, label='anomaly score')\n",
        "plt.fill_between(xx.T[0], np.min(anomaly_score),  np.max(anomaly_score), where=(out_bounds==-1), alpha=.25, color='r', label='outlier region')\n",
        "\n",
        "plt.legend();"
      ],
      "execution_count": 49,
      "outputs": [
        {
          "output_type": "display_data",
          "data": {
            "image/png": "[encoded data removed]",
            "text/plain": [
              "<Figure size 936x504 with 1 Axes>"
            ]
          },
          "metadata": {
            "tags": []
          }
        }
      ]
    },
    {
      "cell_type": "markdown",
      "metadata": {
        "id": "Z8-CBsFSKWhU",
        "colab_type": "text"
      },
      "source": [
        "## Multivariate"
      ]
    },
    {
      "cell_type": "code",
      "metadata": {
        "trusted": true,
        "id": "AeL0cPZWKWhV",
        "colab_type": "code",
        "colab": {
          "base_uri": "https://localhost:8080/",
          "height": 432
        },
        "outputId": "fa152469-406c-424a-e21d-506d6a236690"
      },
      "source": [
        "plt.scatter(sample['dropoff_latitude'], sample['dropoff_longitude'], alpha=0.45);"
      ],
      "execution_count": 50,
      "outputs": [
        {
          "output_type": "display_data",
          "data": {
            "image/png": "[encoded data removed]",
            "text/plain": [
              "<Figure size 936x504 with 1 Axes>"
            ]
          },
          "metadata": {
            "tags": []
          }
        }
      ]
    },
    {
      "cell_type": "markdown",
      "metadata": {
        "id": "1yQEggFTKWhb",
        "colab_type": "text"
      },
      "source": [
        "### Isolation Forest"
      ]
    },
    {
      "cell_type": "code",
      "metadata": {
        "trusted": true,
        "id": "LRiswPh4KWhe",
        "colab_type": "code",
        "colab": {
          "base_uri": "https://localhost:8080/",
          "height": 69
        },
        "outputId": "95616328-8eb2-4f07-c1bd-5ac9877094a9"
      },
      "source": [
        "from sklearn.ensemble import IsolationForest\n",
        "\n",
        "out_if = IsolationForest()\n",
        "out_if.fit(sample[['dropoff_latitude', 'dropoff_longitude']])"
      ],
      "execution_count": 51,
      "outputs": [
        {
          "output_type": "execute_result",
          "data": {
            "text/plain": [
              "IsolationForest(behaviour='old', bootstrap=False, contamination='legacy',\n",
              "                max_features=1.0, max_samples='auto', n_estimators=100,\n",
              "                n_jobs=None, random_state=None, verbose=0, warm_start=False)"
            ]
          },
          "metadata": {
            "tags": []
          },
          "execution_count": 51
        }
      ]
    },
    {
      "cell_type": "code",
      "metadata": {
        "trusted": true,
        "id": "DuNuY2iGKWhl",
        "colab_type": "code",
        "colab": {
          "base_uri": "https://localhost:8080/",
          "height": 432
        },
        "outputId": "cc234dac-25a1-49eb-9d74-b7b00fbb60a5"
      },
      "source": [
        "xx_bounds = [sample['dropoff_latitude'].min(), sample['dropoff_latitude'].max()]\n",
        "yy_bounds = [sample['dropoff_longitude'].min(), sample['dropoff_longitude'].max()]\n",
        "\n",
        "xx, yy = np.meshgrid(np.linspace(min(xx_bounds), max(xx_bounds), 250),\n",
        "                    np.linspace(min(yy_bounds), max(yy_bounds), 250))\n",
        "\n",
        "zz = out_if.predict(np.c_[xx.ravel(), yy.ravel()])\n",
        "zz = zz.reshape(xx.shape)\n",
        "\n",
        "plt.scatter(sample['dropoff_latitude'], sample['dropoff_longitude'], alpha=0.45);\n",
        "plt.contour(xx, yy, zz, levels=[0], colors='black');"
      ],
      "execution_count": 52,
      "outputs": [
        {
          "output_type": "display_data",
          "data": {
            "image/png": "[encoded data removed]",
            "text/plain": [
              "<Figure size 936x504 with 1 Axes>"
            ]
          },
          "metadata": {
            "tags": []
          }
        }
      ]
    },
    {
      "cell_type": "markdown",
      "metadata": {
        "trusted": true,
        "id": "daA3e_hjKWhq",
        "colab_type": "text"
      },
      "source": [
        "### Elliptic Envelope\n",
        "\n",
        "> Outlier detection from covariance estimation may break or not perform well in high-dimensional settings. In particular, one will always take care to work with n_samples > n_features ** 2.\n",
        "\n",
        "([ref](https://scikit-learn.org/stable/modules/generated/sklearn.covariance.EllipticEnvelope.html#sklearn.covariance.EllipticEnvelope))"
      ]
    },
    {
      "cell_type": "code",
      "metadata": {
        "trusted": true,
        "id": "K0v2K-bKKWhr",
        "colab_type": "code",
        "colab": {
          "base_uri": "https://localhost:8080/",
          "height": 52
        },
        "outputId": "c0bb5cd5-84b2-480f-d5c9-1f7af39c2e6c"
      },
      "source": [
        "from sklearn.covariance import EllipticEnvelope\n",
        "\n",
        "out_elp = EllipticEnvelope()\n",
        "out_elp.fit(sample[['dropoff_latitude', 'dropoff_longitude']])"
      ],
      "execution_count": 53,
      "outputs": [
        {
          "output_type": "execute_result",
          "data": {
            "text/plain": [
              "EllipticEnvelope(assume_centered=False, contamination=0.1, random_state=None,\n",
              "                 store_precision=True, support_fraction=None)"
            ]
          },
          "metadata": {
            "tags": []
          },
          "execution_count": 53
        }
      ]
    },
    {
      "cell_type": "code",
      "metadata": {
        "trusted": true,
        "id": "KelXnmY2KWhu",
        "colab_type": "code",
        "colab": {
          "base_uri": "https://localhost:8080/",
          "height": 432
        },
        "outputId": "d95a921b-429a-4698-92a7-71fa75e7c1d6"
      },
      "source": [
        "zz = out_elp.decision_function(np.c_[xx.ravel(), yy.ravel()])\n",
        "zz = zz.reshape(xx.shape)\n",
        "\n",
        "plt.scatter(sample['dropoff_latitude'], sample['dropoff_longitude'], alpha=0.45);\n",
        "plt.contour(xx, yy, zz, levels=[0], colors='black');"
      ],
      "execution_count": 54,
      "outputs": [
        {
          "output_type": "display_data",
          "data": {
            "image/png": "[encoded data removed]",
            "text/plain": [
              "<Figure size 936x504 with 1 Axes>"
            ]
          },
          "metadata": {
            "tags": []
          }
        }
      ]
    },
    {
      "cell_type": "markdown",
      "metadata": {
        "id": "ohGCzzXYKWhx",
        "colab_type": "text"
      },
      "source": [
        "### DBSCAN"
      ]
    },
    {
      "cell_type": "code",
      "metadata": {
        "trusted": true,
        "id": "UGDZdrGGKWhy",
        "colab_type": "code",
        "colab": {
          "base_uri": "https://localhost:8080/",
          "height": 34
        },
        "outputId": "eb0020e4-c8d9-4520-b68c-c2a1cb123b0f"
      },
      "source": [
        "from sklearn.preprocessing  import StandardScaler\n",
        "from sklearn.cluster        import DBSCAN\n",
        "\n",
        "X      = StandardScaler().fit_transform(sample.values)\n",
        "out_db = DBSCAN(eps=0.75, min_samples=10).fit(X)\n",
        "labels = out_db.labels_\n",
        "\n",
        "np.unique(labels, return_counts=True)"
      ],
      "execution_count": 55,
      "outputs": [
        {
          "output_type": "execute_result",
          "data": {
            "text/plain": [
              "(array([-1,  0,  1]), array([  32, 9948,   20]))"
            ]
          },
          "metadata": {
            "tags": []
          },
          "execution_count": 55
        }
      ]
    },
    {
      "cell_type": "code",
      "metadata": {
        "trusted": true,
        "id": "Wn2TiV2VKWh1",
        "colab_type": "code",
        "colab": {
          "base_uri": "https://localhost:8080/",
          "height": 432
        },
        "outputId": "2ba9d324-0c3c-4e6a-c65c-b6ce485e34b6"
      },
      "source": [
        "unique_labels = set(labels)\n",
        "\n",
        "for label in unique_labels:\n",
        "    sample_mask = [True if l == label else False for l in labels]\n",
        "    plt.plot(sample['dropoff_latitude'][sample_mask], sample['dropoff_longitude'][sample_mask], 'o', label=label);\n",
        "plt.legend();"
      ],
      "execution_count": 56,
      "outputs": [
        {
          "output_type": "display_data",
          "data": {
            "image/png": "[encoded data removed]",
            "text/plain": [
              "<Figure size 936x504 with 1 Axes>"
            ]
          },
          "metadata": {
            "tags": []
          }
        }
      ]
    },
    {
      "cell_type": "markdown",
      "metadata": {
        "id": "v5cJMsh0KWh3",
        "colab_type": "text"
      },
      "source": [
        "### Local Outlier Factor\n",
        "\n",
        ">  The advantage of sklearn.neighbors.LocalOutlierFactor over the other estimators is shown for the third data set, where the two modes have different densities. This advantage is explained by the local aspect of LOF, meaning that it only compares the score of abnormality of one sample with the scores of its neighbors."
      ]
    },
    {
      "cell_type": "code",
      "metadata": {
        "trusted": true,
        "id": "2FqvkM5TKWh4",
        "colab_type": "code",
        "colab": {
          "base_uri": "https://localhost:8080/",
          "height": 69
        },
        "outputId": "b0cf3128-5b73-4855-f4b6-38ed5e5f417d"
      },
      "source": [
        "from sklearn.neighbors import LocalOutlierFactor\n",
        "\n",
        "out_lof = LocalOutlierFactor(n_neighbors=10, novelty=True)\n",
        "out_lof.fit(sample[['dropoff_latitude', 'dropoff_longitude']])"
      ],
      "execution_count": 57,
      "outputs": [
        {
          "output_type": "execute_result",
          "data": {
            "text/plain": [
              "LocalOutlierFactor(algorithm='auto', contamination='legacy', leaf_size=30,\n",
              "                   metric='minkowski', metric_params=None, n_jobs=None,\n",
              "                   n_neighbors=10, novelty=True, p=2)"
            ]
          },
          "metadata": {
            "tags": []
          },
          "execution_count": 57
        }
      ]
    },
    {
      "cell_type": "code",
      "metadata": {
        "trusted": true,
        "id": "QH7trfLNKWh9",
        "colab_type": "code",
        "colab": {
          "base_uri": "https://localhost:8080/",
          "height": 432
        },
        "outputId": "8e25a13f-2d87-453f-c2d4-1a2376fea5b1"
      },
      "source": [
        "zz = out_lof.decision_function(np.c_[xx.ravel(), yy.ravel()])\n",
        "zz = zz.reshape(xx.shape)\n",
        "\n",
        "plt.scatter(sample['dropoff_latitude'], sample['dropoff_longitude'], alpha=0.45);\n",
        "plt.contour(xx, yy, zz, levels=[0], colors='black');"
      ],
      "execution_count": 58,
      "outputs": [
        {
          "output_type": "display_data",
          "data": {
            "image/png": "[encoded data removed]",
            "text/plain": [
              "<Figure size 936x504 with 1 Axes>"
            ]
          },
          "metadata": {
            "tags": []
          }
        }
      ]
    },
    {
      "cell_type": "markdown",
      "metadata": {
        "id": "WRJRbaR6KWiA",
        "colab_type": "text"
      },
      "source": [
        "# Feature Engineering & Data Imputing\n",
        "\n",
        "![](https://2b1ohome.files.wordpress.com/2019/10/icon_cleaning-3.png)\n",
        "\n",
        "Apparently the _NYC Taxi Trip Duration_ dataset doesn't demand complex imputation techniques, so I'll replicate data preparation steps from my original notebook."
      ]
    },
    {
      "cell_type": "markdown",
      "metadata": {
        "id": "PNkQ-oAEKWiB",
        "colab_type": "text"
      },
      "source": [
        "Prophylactic reloadings."
      ]
    },
    {
      "cell_type": "code",
      "metadata": {
        "trusted": true,
        "id": "7JVBEO0UKWiC",
        "colab_type": "code",
        "colab": {
          "base_uri": "https://localhost:8080/",
          "height": 52
        },
        "outputId": "e80998df-d43c-4919-a35f-87ed58280651"
      },
      "source": [
        "df_train = pd.read_csv('/root/data/nyc-taxi-trip-duration/train.csv')\n",
        "df_test  = pd.read_csv('/root/data/nyc-taxi-trip-duration/test.csv')\n",
        "\n",
        "print('train: ', df_train.shape)\n",
        "print('test:  ', df_test.shape)\n",
        "\n",
        "# display( df_train.head() )\n",
        "# display( df_test.head() )\n",
        "\n",
        "_TARGET      = 'trip_duration'\n",
        "_NON_FEATURE = set(df_train.columns) - set(df_test.columns)\n",
        "_FEATURES    = set(df_train.columns).intersection(set(df_test.columns)) - set(['id'])\n",
        "#display(_FEATURES)\n",
        "\n",
        "train = df_train[_FEATURES]\n",
        "test  = df_test[_FEATURES]"
      ],
      "execution_count": 7,
      "outputs": [
        {
          "output_type": "stream",
          "text": [
            "train:  (1458644, 11)\n",
            "test:   (625134, 9)\n"
          ],
          "name": "stdout"
        }
      ]
    },
    {
      "cell_type": "markdown",
      "metadata": {
        "id": "8VhHI6LsKWiD",
        "colab_type": "text"
      },
      "source": [
        "Temporal features"
      ]
    },
    {
      "cell_type": "code",
      "metadata": {
        "trusted": true,
        "id": "LarZoIQWKWiE",
        "colab_type": "code",
        "colab": {}
      },
      "source": [
        "train['pickup_dt'] = pd.to_datetime(train['pickup_datetime'], format='%Y-%m-%d %H:%M:%S', errors='ignore')\n",
        "train = train.drop(columns=['pickup_datetime'])\n",
        "\n",
        "train['pick_minute']     = train['pickup_dt'].dt.minute\n",
        "train['pick_hour']       = train['pickup_dt'].dt.hour\n",
        "train['pick_day']        = train['pickup_dt'].dt.day\n",
        "train['pick_month']      = train['pickup_dt'].dt.month\n",
        "train['pick_year']       = train['pickup_dt'].dt.year\n",
        "train['pick_quarter']    = train['pickup_dt'].dt.quarter\n",
        "train['pick_weekofyear'] = train['pickup_dt'].dt.weekofyear"
      ],
      "execution_count": 0,
      "outputs": []
    },
    {
      "cell_type": "markdown",
      "metadata": {
        "id": "ivxernHeKWiI",
        "colab_type": "text"
      },
      "source": [
        "Spatial features"
      ]
    },
    {
      "cell_type": "code",
      "metadata": {
        "trusted": true,
        "id": "QWalQBiZKWiJ",
        "colab_type": "code",
        "colab": {}
      },
      "source": [
        "train['lon_lat_manhattan']    = abs(train['dropoff_longitude']-train['pickup_longitude']) + abs(train['dropoff_latitude']-train['pickup_latitude'])\n",
        "train['dist_manhattan_meter'] = train.apply( lambda x: lat_lon_converter(x['pickup_latitude'], \n",
        "                                                                         x['pickup_longitude'],\n",
        "                                                                         x['dropoff_latitude'], \n",
        "                                                                         x['dropoff_longitude'],\n",
        "                                                                         'm'), axis=1 )"
      ],
      "execution_count": 0,
      "outputs": []
    },
    {
      "cell_type": "markdown",
      "metadata": {
        "id": "umjeAgBUKWiL",
        "colab_type": "text"
      },
      "source": [
        "Clustering location"
      ]
    },
    {
      "cell_type": "code",
      "metadata": {
        "trusted": true,
        "id": "NWArOZJuKWiM",
        "colab_type": "code",
        "colab": {}
      },
      "source": [
        "sample = train[['pickup_latitude', 'pickup_longitude', 'dropoff_latitude', 'dropoff_longitude']].sample(10000, random_state=37)\n",
        "X      = StandardScaler().fit_transform(sample.values)"
      ],
      "execution_count": 0,
      "outputs": []
    },
    {
      "cell_type": "code",
      "metadata": {
        "trusted": true,
        "id": "M5rt7z_FKWiP",
        "colab_type": "code",
        "colab": {}
      },
      "source": [
        "db     = DBSCAN(eps=0.75, min_samples=10).fit(X)\n",
        "kmeans = KMeans(n_clusters=5, random_state=37).fit(X)"
      ],
      "execution_count": 0,
      "outputs": []
    },
    {
      "cell_type": "code",
      "metadata": {
        "trusted": true,
        "id": "BK9h57giKWiR",
        "colab_type": "code",
        "colab": {}
      },
      "source": [
        "# train['db_predict']     = dbscan_predict(db, StandardScaler().fit_transform(train[['pickup_latitude', \n",
        "#                                                                                    'pickup_longitude', \n",
        "#                                                                                    'dropoff_latitude', \n",
        "#                                                                                    'dropoff_longitude']].values))\n",
        "# train['kmeans_predict'] = kmeans.predict(StandardScaler().fit_transform(train[['pickup_latitude', \n",
        "#                                                                                'pickup_longitude', \n",
        "#                                                                                'dropoff_latitude', \n",
        "#                                                                                'dropoff_longitude']].values))\n",
        "\n",
        "# pickle.dump(train[['db_predict']], open('/root/data/nyc-taxi-trip-duration/db_predict.p', 'wb'))\n",
        "# pickle.dump(train[['kmeans_predict']], open('/root/data/nyc-taxi-trip-duration/kmeans_predict.p', 'wb'))\n",
        "train['db_predict']   = pickle.load(open('/root/data/nyc-taxi-trip-duration/db_predict.p', 'rb'))\n",
        "train['kmeans_predict']   = pickle.load(open('/root/data/nyc-taxi-trip-duration/kmeans_predict.p', 'rb'))"
      ],
      "execution_count": 0,
      "outputs": []
    },
    {
      "cell_type": "markdown",
      "metadata": {
        "trusted": true,
        "id": "0HFSVAsGKWia",
        "colab_type": "text"
      },
      "source": [
        "Preparing to regression"
      ]
    },
    {
      "cell_type": "code",
      "metadata": {
        "trusted": true,
        "id": "FihH7dIBKWic",
        "colab_type": "code",
        "colab": {
          "base_uri": "https://localhost:8080/",
          "height": 86
        },
        "outputId": "706004fc-30fa-4349-adc7-f96a5a63a1d6"
      },
      "source": [
        "_FILTERS = {\n",
        "            'int'   : [ [None], [np.dtype('int64')] ],\n",
        "            'float' : [ [None], [np.dtype('float64')] ],\n",
        "            'cat'   : [ [None], [np.dtype('object')] ],\n",
        "            'date'  : [ [None], [np.dtype('<M8[ns]')] ]\n",
        "           }\n",
        "\n",
        "for k in _FILTERS:\n",
        "    _FILTERS[k][0] = set(train.dtypes[ train.dtypes.isin(_FILTERS[k][1]) ].index.to_list())\n",
        "    print( k, _FILTERS[k][0] )\n"
      ],
      "execution_count": 13,
      "outputs": [
        {
          "output_type": "stream",
          "text": [
            "int {'pick_month', 'pick_quarter', 'pick_year', 'passenger_count', 'vendor_id', 'pick_weekofyear', 'db_predict', 'pick_minute', 'pick_day', 'pick_hour'}\n",
            "float {'dropoff_longitude', 'dist_manhattan_meter', 'pickup_latitude', 'pickup_longitude', 'dropoff_latitude', 'lon_lat_manhattan'}\n",
            "cat {'store_and_fwd_flag'}\n",
            "date {'pickup_dt'}\n"
          ],
          "name": "stdout"
        }
      ]
    },
    {
      "cell_type": "code",
      "metadata": {
        "trusted": true,
        "id": "M0z2KY7bKWih",
        "colab_type": "code",
        "colab": {}
      },
      "source": [
        "from sklearn.impute          import SimpleImputer\n",
        "from sklearn.compose         import ColumnTransformer\n",
        "from sklearn.preprocessing   import OrdinalEncoder, OneHotEncoder\n",
        "from sklearn.pipeline        import Pipeline\n",
        "from sklearn.preprocessing   import StandardScaler\n",
        "\n",
        "int_pipeline   = Pipeline([ ('imputer', SimpleImputer(strategy=\"constant\", fill_value=-1)) ])\n",
        "float_pipeline = Pipeline([ \n",
        "                          ('imputer'   , SimpleImputer(strategy=\"median\")),\n",
        "                          ('std_scaler', StandardScaler())\n",
        "                          ])\n",
        "\n",
        "full_pipeline = ColumnTransformer([\n",
        "                                  ('int'  , int_pipeline,    list(_FILTERS['int'][0]) ),\n",
        "                                  ('float', float_pipeline,  list(_FILTERS['float'][0]) ) ,\n",
        "                                  ('cat'  , OneHotEncoder(), list(_FILTERS['cat'][0]) )\n",
        "                                  ])"
      ],
      "execution_count": 0,
      "outputs": []
    },
    {
      "cell_type": "markdown",
      "metadata": {
        "id": "wzKo5ZZ1SksY",
        "colab_type": "text"
      },
      "source": [
        "- - -"
      ]
    },
    {
      "cell_type": "code",
      "metadata": {
        "trusted": true,
        "id": "Q--b4NRGKWik",
        "colab_type": "code",
        "colab": {
          "base_uri": "https://localhost:8080/",
          "height": 34
        },
        "outputId": "2215a1eb-2699-488a-ab28-cce5e3030fcd"
      },
      "source": [
        "train_x = full_pipeline.fit_transform( train[set.union(*[_FILTERS['int'][0], _FILTERS['float'][0], _FILTERS['cat'][0]])] )\n",
        "train_y = df_train[['trip_duration']]\n",
        "\n",
        "train_y['trip_duration'] = train_y['trip_duration'].mask(train_y['trip_duration'].lt(0), 0)\n",
        "\n",
        "X_train, X_holdout, y_train, y_holdout = train_test_split(train_x, train_y, \n",
        "                                                          test_size    = 0.2, \n",
        "                                                          random_state = 37)\n",
        "\n",
        "gc.collect()"
      ],
      "execution_count": 15,
      "outputs": [
        {
          "output_type": "execute_result",
          "data": {
            "text/plain": [
              "10"
            ]
          },
          "metadata": {
            "tags": []
          },
          "execution_count": 15
        }
      ]
    },
    {
      "cell_type": "markdown",
      "metadata": {
        "id": "aLCLWYBAT4pG",
        "colab_type": "text"
      },
      "source": [
        "# Regression Models"
      ]
    },
    {
      "cell_type": "markdown",
      "metadata": {
        "id": "LjV8IlgBX6kv",
        "colab_type": "text"
      },
      "source": [
        "Removing categorical features."
      ]
    },
    {
      "cell_type": "code",
      "metadata": {
        "id": "Ck7UwAPwXb0y",
        "colab_type": "code",
        "colab": {}
      },
      "source": [
        "full_pipeline = ColumnTransformer([\n",
        "                                  ('int'  , int_pipeline,    list(_FILTERS['int'][0]) ),\n",
        "                                  ('float', float_pipeline,  list(_FILTERS['float'][0]) ) ,\n",
        "                                  # ('cat'  , OneHotEncoder(), list(_FILTERS['cat'][0]) )\n",
        "                                  ])\n",
        "\n",
        "train_x = full_pipeline.fit_transform( train[set.union(*[_FILTERS['int'][0], _FILTERS['float'][0]])] )\n",
        "\n",
        "train_y = df_train[['trip_duration']]\n",
        "train_y['trip_duration'] = train_y['trip_duration'].mask(train_y['trip_duration'].lt(0), 0)\n",
        "\n",
        "X_train, X_holdout, y_train, y_holdout = train_test_split(train_x, train_y, test_size = 0.2, random_state = 37)"
      ],
      "execution_count": 0,
      "outputs": []
    },
    {
      "cell_type": "markdown",
      "metadata": {
        "id": "D97OJfp-bi7i",
        "colab_type": "text"
      },
      "source": [
        "## Linear Regression"
      ]
    },
    {
      "cell_type": "code",
      "metadata": {
        "id": "6x0orXCJXb38",
        "colab_type": "code",
        "colab": {
          "base_uri": "https://localhost:8080/",
          "height": 52
        },
        "outputId": "92ee846f-c3d5-4084-8527-89fe7cbdb437"
      },
      "source": [
        "from sklearn.linear_model import LinearRegression\n",
        "\n",
        "linreg = LinearRegression(fit_intercept=False)\n",
        "linreg.fit(X_train, y_train)\n",
        "\n",
        "y_pred_train   = linreg.predict(X_train)\n",
        "y_pred_holdout = linreg.predict(X_holdout)\n",
        "\n",
        "display( mean_absolute_error( y_train , y_pred_train ) )\n",
        "display( mean_absolute_error( y_holdout , y_pred_holdout ) )"
      ],
      "execution_count": 17,
      "outputs": [
        {
          "output_type": "display_data",
          "data": {
            "text/plain": [
              "465.37437547099347"
            ]
          },
          "metadata": {
            "tags": []
          }
        },
        {
          "output_type": "display_data",
          "data": {
            "text/plain": [
              "453.415818640902"
            ]
          },
          "metadata": {
            "tags": []
          }
        }
      ]
    },
    {
      "cell_type": "code",
      "metadata": {
        "id": "9su7UKP7skJ4",
        "colab_type": "code",
        "colab": {
          "base_uri": "https://localhost:8080/",
          "height": 553
        },
        "outputId": "e2de3f04-44e4-4644-d579-3cf36d332e1e"
      },
      "source": [
        "def get_feature_names(columnTransformer):\n",
        "    \"\"\"\n",
        "    ref: https://stackoverflow.com/questions/57528350/can-you-consistently-keep-track-of-column-labels-using-sklearns-transformer-api\n",
        "    \"\"\"\n",
        "    output_features = []\n",
        "\n",
        "    for transformers in columnTransformer.transformers_:\n",
        "\n",
        "        if transformers[0]!='remainder':\n",
        "            pipeline = transformers[1]\n",
        "            features = transformers[2]\n",
        "\n",
        "            for i in pipeline:\n",
        "                trans_features = []\n",
        "                if hasattr(i,'categories_'):\n",
        "                    trans_features.extend(i.get_feature_names(features))\n",
        "                else:\n",
        "                    trans_features = features\n",
        "            output_features.extend(trans_features)\n",
        "\n",
        "    return output_features\n",
        "\n",
        "pd.Series( linreg.coef_[0], get_feature_names(full_pipeline) ).sort_values().plot(kind='bar')"
      ],
      "execution_count": 40,
      "outputs": [
        {
          "output_type": "execute_result",
          "data": {
            "text/plain": [
              "<matplotlib.axes._subplots.AxesSubplot at 0x7f2d891ec4a8>"
            ]
          },
          "metadata": {
            "tags": []
          },
          "execution_count": 40
        },
        {
          "output_type": "display_data",
          "data": {
            "image/png": "[encoded data removed]",
            "text/plain": [
              "<Figure size 936x504 with 1 Axes>"
            ]
          },
          "metadata": {
            "tags": []
          }
        }
      ]
    },
    {
      "cell_type": "markdown",
      "metadata": {
        "id": "AcfQi9OLXbw7",
        "colab_type": "text"
      },
      "source": [
        "## Polynomial Regression"
      ]
    },
    {
      "cell_type": "code",
      "metadata": {
        "id": "j-jUOx0pXbsX",
        "colab_type": "code",
        "colab": {
          "base_uri": "https://localhost:8080/",
          "height": 86
        },
        "outputId": "b965af58-00be-4ffa-feb7-5a640e2c44b9"
      },
      "source": [
        "from sklearn.preprocessing import PolynomialFeatures\n",
        "\n",
        "d = 2\n",
        "polyreg = PolynomialFeatures(degree=d)\n",
        "x_poly  = polyreg.fit_transform(X_train)\n",
        "\n",
        "linreg_p  = LinearRegression(fit_intercept=False)\n",
        "linreg_p.fit(x_poly, y_train)\n",
        "\n",
        "# accuracy evaluation\n",
        "\n",
        "y_pred_train   = linreg_p.predict(x_poly)\n",
        "del x_poly; gc.collect()\n",
        "x_poly         = polyreg.fit_transform(X_holdout)\n",
        "y_pred_holdout = linreg_p.predict(x_poly)\n",
        "del x_poly;gc.collect()\n",
        "\n",
        "print('\\n degree={}'.format(d))\n",
        "display( mean_absolute_error( y_train , y_pred_train ) )\n",
        "display( mean_absolute_error( y_holdout , y_pred_holdout ) )"
      ],
      "execution_count": 18,
      "outputs": [
        {
          "output_type": "stream",
          "text": [
            "\n",
            " degree=2\n"
          ],
          "name": "stdout"
        },
        {
          "output_type": "display_data",
          "data": {
            "text/plain": [
              "434.43643833145865"
            ]
          },
          "metadata": {
            "tags": []
          }
        },
        {
          "output_type": "display_data",
          "data": {
            "text/plain": [
              "425.1694239555514"
            ]
          },
          "metadata": {
            "tags": []
          }
        }
      ]
    },
    {
      "cell_type": "markdown",
      "metadata": {
        "id": "KzXy8djxyEhL",
        "colab_type": "text"
      },
      "source": [
        "Note: $\\frac{n(n+1)}{2}$ features due to `PolynomialFeatures(n)` prevents a nice coefficients plot."
      ]
    },
    {
      "cell_type": "markdown",
      "metadata": {
        "id": "B_OZkYyNKWim",
        "colab_type": "text"
      },
      "source": [
        "## Ridge Regression"
      ]
    },
    {
      "cell_type": "code",
      "metadata": {
        "id": "xHibEZxTUECl",
        "colab_type": "code",
        "colab": {}
      },
      "source": [
        "from sklearn.linear_model import Ridge\n",
        "from sklearn.model_selection import GridSearchCV\n",
        "\n",
        "ridge_cv   = GridSearchCV(Ridge(fit_intercept=False), {'alpha': [10e-10, 10e-8, 10e-4, 10e-2, 1, 10]}, scoring='neg_mean_absolute_error', cv=5)\n",
        "ridge_cv.fit(X_train, y_train);"
      ],
      "execution_count": 0,
      "outputs": []
    },
    {
      "cell_type": "code",
      "metadata": {
        "id": "9Kh70JFKUEKz",
        "colab_type": "code",
        "colab": {
          "base_uri": "https://localhost:8080/",
          "height": 52
        },
        "outputId": "0595676a-57e2-4ed3-b86e-25ca54fc0478"
      },
      "source": [
        "ridreg = Ridge( alpha=ridge_cv.best_params_['alpha'], fit_intercept=False )\n",
        "ridreg.fit(X_train, y_train)\n",
        "\n",
        "y_pred_train   = ridreg.predict(X_train)\n",
        "y_pred_holdout = ridreg.predict(X_holdout)\n",
        "\n",
        "display( mean_absolute_error( y_train , y_pred_train ) )\n",
        "display( mean_absolute_error( y_holdout , y_pred_holdout ) )"
      ],
      "execution_count": 50,
      "outputs": [
        {
          "output_type": "display_data",
          "data": {
            "text/plain": [
              "465.3743754709881"
            ]
          },
          "metadata": {
            "tags": []
          }
        },
        {
          "output_type": "display_data",
          "data": {
            "text/plain": [
              "453.4158186408967"
            ]
          },
          "metadata": {
            "tags": []
          }
        }
      ]
    },
    {
      "cell_type": "code",
      "metadata": {
        "id": "RxobjF4-52ik",
        "colab_type": "code",
        "colab": {
          "base_uri": "https://localhost:8080/",
          "height": 553
        },
        "outputId": "fff3a3ee-cc83-4768-b2b9-25048744a13c"
      },
      "source": [
        "pd.Series( ridreg.coef_[0], get_feature_names(full_pipeline) ).sort_values().plot(kind='bar')"
      ],
      "execution_count": 52,
      "outputs": [
        {
          "output_type": "execute_result",
          "data": {
            "text/plain": [
              "<matplotlib.axes._subplots.AxesSubplot at 0x7f2d872a4cf8>"
            ]
          },
          "metadata": {
            "tags": []
          },
          "execution_count": 52
        },
        {
          "output_type": "display_data",
          "data": {
            "image/png": "[encoded data removed]",
            "text/plain": [
              "<Figure size 936x504 with 1 Axes>"
            ]
          },
          "metadata": {
            "tags": []
          }
        }
      ]
    },
    {
      "cell_type": "markdown",
      "metadata": {
        "id": "-ad1YcAn52m9",
        "colab_type": "text"
      },
      "source": [
        "## Lasso Regression"
      ]
    },
    {
      "cell_type": "code",
      "metadata": {
        "id": "4vfcjes852eM",
        "colab_type": "code",
        "colab": {}
      },
      "source": [
        "from sklearn.linear_model import Lasso\n",
        "from sklearn.model_selection import GridSearchCV\n",
        "\n",
        "lasso_cv   = GridSearchCV(Lasso(fit_intercept=False), {'alpha': [10e-4, 1, 10]}, scoring='neg_mean_absolute_error', cv=3)\n",
        "lasso_cv.fit(X_train, y_train);"
      ],
      "execution_count": 0,
      "outputs": []
    },
    {
      "cell_type": "code",
      "metadata": {
        "id": "6jX5nYNL52ar",
        "colab_type": "code",
        "colab": {
          "base_uri": "https://localhost:8080/",
          "height": 52
        },
        "outputId": "675c3daa-d773-476e-b6cd-fddd7f417c78"
      },
      "source": [
        "lassoreg = Lasso( alpha=lasso_cv.best_params_['alpha'], fit_intercept=False )\n",
        "lassoreg.fit(X_train, y_train)\n",
        "\n",
        "y_pred_train   = lassoreg.predict(X_train)\n",
        "y_pred_holdout = lassoreg.predict(X_holdout)\n",
        "\n",
        "display( mean_absolute_error( y_train , y_pred_train ) )\n",
        "display( mean_absolute_error( y_holdout , y_pred_holdout ) )"
      ],
      "execution_count": 58,
      "outputs": [
        {
          "output_type": "display_data",
          "data": {
            "text/plain": [
              "465.37503071781344"
            ]
          },
          "metadata": {
            "tags": []
          }
        },
        {
          "output_type": "display_data",
          "data": {
            "text/plain": [
              "453.41647078802737"
            ]
          },
          "metadata": {
            "tags": []
          }
        }
      ]
    },
    {
      "cell_type": "code",
      "metadata": {
        "id": "2L0haOQc52XF",
        "colab_type": "code",
        "colab": {}
      },
      "source": [
        ""
      ],
      "execution_count": 0,
      "outputs": []
    },
    {
      "cell_type": "markdown",
      "metadata": {
        "id": "LjyQhtV9UERv",
        "colab_type": "text"
      },
      "source": [
        "# Helper"
      ]
    },
    {
      "cell_type": "code",
      "metadata": {
        "id": "vyFxE1WsUHu9",
        "colab_type": "code",
        "colab": {}
      },
      "source": [
        "import sys\n",
        "def sizeof_fmt(num, suffix='B'):\n",
        "    ''' by Fred Cirera,  https://stackoverflow.com/a/1094933/1870254, modified'''\n",
        "    for unit in ['','Ki','Mi','Gi','Ti','Pi','Ei','Zi']:\n",
        "        if abs(num) < 1024.0:\n",
        "            return \"%3.1f %s%s\" % (num, unit, suffix)\n",
        "        num /= 1024.0\n",
        "    return \"%.1f %s%s\" % (num, 'Yi', suffix)"
      ],
      "execution_count": 0,
      "outputs": []
    },
    {
      "cell_type": "code",
      "metadata": {
        "id": "nipRMjDRUNwD",
        "colab_type": "code",
        "colab": {
          "base_uri": "https://localhost:8080/",
          "height": 190
        },
        "outputId": "6b5ae380-530d-45b2-8a1d-8b1b0445ab20"
      },
      "source": [
        "for name, size in sorted(((name, sys.getsizeof(value)) for name, value in locals().items()),\n",
        "                         key= lambda x: -x[1])[:10]:\n",
        "    print(\"{:>30}: {:>8}\".format(name, sizeof_fmt(size)))"
      ],
      "execution_count": 25,
      "outputs": [
        {
          "output_type": "stream",
          "text": [
            "                      df_train: 473.0 MiB\n",
            "                         train: 286.6 MiB\n",
            "                       train_x: 178.1 MiB\n",
            "                       df_test: 152.6 MiB\n",
            "                       X_train: 142.4 MiB\n",
            "                          test: 113.3 MiB\n",
            "                     X_holdout: 35.6 MiB\n",
            "                       y_train: 17.8 MiB\n",
            "                       train_y: 11.1 MiB\n",
            "                  y_pred_train:  8.9 MiB\n"
          ],
          "name": "stdout"
        }
      ]
    },
    {
      "cell_type": "code",
      "metadata": {
        "id": "EQiER4FpkZWf",
        "colab_type": "code",
        "colab": {
          "base_uri": "https://localhost:8080/",
          "height": 34
        },
        "outputId": "5a8a8240-eb9a-46fc-edfb-635e4166c404"
      },
      "source": [
        "gc.collect()"
      ],
      "execution_count": 24,
      "outputs": [
        {
          "output_type": "execute_result",
          "data": {
            "text/plain": [
              "392"
            ]
          },
          "metadata": {
            "tags": []
          },
          "execution_count": 24
        }
      ]
    },
    {
      "cell_type": "markdown",
      "metadata": {
        "id": "f6pZMn-Ee3ro",
        "colab_type": "text"
      },
      "source": [
        "- - -"
      ]
    }
  ]
}