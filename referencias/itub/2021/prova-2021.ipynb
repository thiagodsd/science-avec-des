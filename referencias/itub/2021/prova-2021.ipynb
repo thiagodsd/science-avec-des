{
 "cells": [
  {
   "cell_type": "code",
   "execution_count": 1,
   "id": "neutral-magnitude",
   "metadata": {},
   "outputs": [],
   "source": [
    "import numpy  as np\n",
    "import pandas as pd\n",
    "import os\n",
    "\n",
    "import datetime\n",
    "import warnings\n",
    "import pickle\n",
    "import gc\n",
    "\n",
    "import matplotlib.pyplot as plt\n",
    "import seaborn           as sns\n",
    "from pandas.plotting import scatter_matrix\n",
    "\n",
    "from sklearn import metrics\n",
    "from sklearn.model_selection import train_test_split\n",
    "from sklearn.impute          import SimpleImputer\n",
    "from sklearn.compose         import ColumnTransformer\n",
    "from sklearn.preprocessing   import OrdinalEncoder, OneHotEncoder\n",
    "from sklearn.pipeline        import Pipeline\n",
    "from sklearn.preprocessing   import StandardScaler\n",
    "\n",
    "from sklearn.cluster      import KMeans, DBSCAN\n",
    "from sklearn.linear_model import LinearRegression\n",
    "from sklearn.tree         import DecisionTreeRegressor\n",
    "\n",
    "from sklearn.metrics import mean_absolute_error, mean_squared_log_error\n",
    "\n",
    "from IPython.display import display, FileLink, Image\n",
    "\n",
    "#\n",
    "\n",
    "warnings.filterwarnings('ignore')\n",
    "plt.rcParams['figure.figsize'] = [13, 7]"
   ]
  },
  {
   "cell_type": "code",
   "execution_count": 2,
   "id": "arbitrary-cyprus",
   "metadata": {},
   "outputs": [],
   "source": [
    "agr  = pd.read_csv('agrupamento.csv')\n",
    "clf1 = pd.read_csv('classificacao_Q1.csv')\n",
    "clf2 = pd.read_csv('classificacao_Q2.csv')\n",
    "reg1 = pd.read_csv('regressao_Q1.csv')\n",
    "reg2 = pd.read_csv('regressao_Q2.csv')"
   ]
  },
  {
   "cell_type": "markdown",
   "id": "flush-interpretation",
   "metadata": {},
   "source": [
    "- - -"
   ]
  },
  {
   "cell_type": "code",
   "execution_count": 3,
   "id": "associate-harrison",
   "metadata": {},
   "outputs": [
    {
     "data": {
      "text/html": [
       "<div>\n",
       "<style scoped>\n",
       "    .dataframe tbody tr th:only-of-type {\n",
       "        vertical-align: middle;\n",
       "    }\n",
       "\n",
       "    .dataframe tbody tr th {\n",
       "        vertical-align: top;\n",
       "    }\n",
       "\n",
       "    .dataframe thead th {\n",
       "        text-align: right;\n",
       "    }\n",
       "</style>\n",
       "<table border=\"1\" class=\"dataframe\">\n",
       "  <thead>\n",
       "    <tr style=\"text-align: right;\">\n",
       "      <th></th>\n",
       "      <th>v_1</th>\n",
       "      <th>v_2</th>\n",
       "      <th>v_3</th>\n",
       "      <th>v_4</th>\n",
       "      <th>v_5</th>\n",
       "      <th>v_6</th>\n",
       "      <th>v_7</th>\n",
       "      <th>v_8</th>\n",
       "      <th>v_9</th>\n",
       "      <th>v_10</th>\n",
       "      <th>v_11</th>\n",
       "      <th>v_12</th>\n",
       "      <th>v_13</th>\n",
       "      <th>target</th>\n",
       "    </tr>\n",
       "  </thead>\n",
       "  <tbody>\n",
       "    <tr>\n",
       "      <th>0</th>\n",
       "      <td>-1.39917</td>\n",
       "      <td>0.96108</td>\n",
       "      <td>-0.36145</td>\n",
       "      <td>0.26092</td>\n",
       "      <td>2.78953</td>\n",
       "      <td>-1.55046</td>\n",
       "      <td>-0.79886</td>\n",
       "      <td>0.24304</td>\n",
       "      <td>1.51733</td>\n",
       "      <td>-0.03357</td>\n",
       "      <td>-1.51127</td>\n",
       "      <td>-0.97444</td>\n",
       "      <td>-0.01934</td>\n",
       "      <td>0</td>\n",
       "    </tr>\n",
       "    <tr>\n",
       "      <th>1</th>\n",
       "      <td>-2.48564</td>\n",
       "      <td>1.24529</td>\n",
       "      <td>-0.39431</td>\n",
       "      <td>1.06648</td>\n",
       "      <td>1.71957</td>\n",
       "      <td>-0.60296</td>\n",
       "      <td>-2.35698</td>\n",
       "      <td>-2.31878</td>\n",
       "      <td>0.95555</td>\n",
       "      <td>-2.00420</td>\n",
       "      <td>-0.75294</td>\n",
       "      <td>-3.64680</td>\n",
       "      <td>-0.55923</td>\n",
       "      <td>0</td>\n",
       "    </tr>\n",
       "    <tr>\n",
       "      <th>2</th>\n",
       "      <td>-0.57025</td>\n",
       "      <td>0.65495</td>\n",
       "      <td>-0.73706</td>\n",
       "      <td>0.22444</td>\n",
       "      <td>-0.44094</td>\n",
       "      <td>-0.42596</td>\n",
       "      <td>0.44267</td>\n",
       "      <td>-1.74196</td>\n",
       "      <td>-0.06599</td>\n",
       "      <td>-0.36783</td>\n",
       "      <td>0.93065</td>\n",
       "      <td>-0.72392</td>\n",
       "      <td>0.37139</td>\n",
       "      <td>0</td>\n",
       "    </tr>\n",
       "    <tr>\n",
       "      <th>3</th>\n",
       "      <td>2.10165</td>\n",
       "      <td>1.46236</td>\n",
       "      <td>-0.25678</td>\n",
       "      <td>2.58908</td>\n",
       "      <td>-3.40158</td>\n",
       "      <td>2.43561</td>\n",
       "      <td>0.74701</td>\n",
       "      <td>-0.65229</td>\n",
       "      <td>-0.45497</td>\n",
       "      <td>-1.57951</td>\n",
       "      <td>2.07367</td>\n",
       "      <td>1.86435</td>\n",
       "      <td>-0.37664</td>\n",
       "      <td>1</td>\n",
       "    </tr>\n",
       "    <tr>\n",
       "      <th>4</th>\n",
       "      <td>3.01588</td>\n",
       "      <td>-2.50913</td>\n",
       "      <td>-2.01442</td>\n",
       "      <td>2.10296</td>\n",
       "      <td>-3.05465</td>\n",
       "      <td>5.38227</td>\n",
       "      <td>0.46846</td>\n",
       "      <td>1.57586</td>\n",
       "      <td>3.02176</td>\n",
       "      <td>-0.86271</td>\n",
       "      <td>-1.14418</td>\n",
       "      <td>-0.89712</td>\n",
       "      <td>0.61823</td>\n",
       "      <td>1</td>\n",
       "    </tr>\n",
       "    <tr>\n",
       "      <th>...</th>\n",
       "      <td>...</td>\n",
       "      <td>...</td>\n",
       "      <td>...</td>\n",
       "      <td>...</td>\n",
       "      <td>...</td>\n",
       "      <td>...</td>\n",
       "      <td>...</td>\n",
       "      <td>...</td>\n",
       "      <td>...</td>\n",
       "      <td>...</td>\n",
       "      <td>...</td>\n",
       "      <td>...</td>\n",
       "      <td>...</td>\n",
       "      <td>...</td>\n",
       "    </tr>\n",
       "    <tr>\n",
       "      <th>2495</th>\n",
       "      <td>-0.35074</td>\n",
       "      <td>-1.71798</td>\n",
       "      <td>-1.10308</td>\n",
       "      <td>-0.12099</td>\n",
       "      <td>1.18152</td>\n",
       "      <td>3.86701</td>\n",
       "      <td>-0.99910</td>\n",
       "      <td>-0.81008</td>\n",
       "      <td>4.13192</td>\n",
       "      <td>-1.76628</td>\n",
       "      <td>-1.63717</td>\n",
       "      <td>-3.20229</td>\n",
       "      <td>-0.80414</td>\n",
       "      <td>1</td>\n",
       "    </tr>\n",
       "    <tr>\n",
       "      <th>2496</th>\n",
       "      <td>-1.68296</td>\n",
       "      <td>-1.52289</td>\n",
       "      <td>-3.09895</td>\n",
       "      <td>-0.45890</td>\n",
       "      <td>-3.28199</td>\n",
       "      <td>2.92030</td>\n",
       "      <td>0.67892</td>\n",
       "      <td>-7.21068</td>\n",
       "      <td>1.10383</td>\n",
       "      <td>-2.39771</td>\n",
       "      <td>2.72704</td>\n",
       "      <td>-6.14332</td>\n",
       "      <td>-0.96963</td>\n",
       "      <td>0</td>\n",
       "    </tr>\n",
       "    <tr>\n",
       "      <th>2497</th>\n",
       "      <td>-1.49938</td>\n",
       "      <td>-1.49193</td>\n",
       "      <td>-2.27411</td>\n",
       "      <td>1.57773</td>\n",
       "      <td>-4.37078</td>\n",
       "      <td>1.22671</td>\n",
       "      <td>-1.64107</td>\n",
       "      <td>-4.93347</td>\n",
       "      <td>-1.58359</td>\n",
       "      <td>-2.12111</td>\n",
       "      <td>1.31078</td>\n",
       "      <td>-6.70529</td>\n",
       "      <td>-1.77200</td>\n",
       "      <td>1</td>\n",
       "    </tr>\n",
       "    <tr>\n",
       "      <th>2498</th>\n",
       "      <td>0.83816</td>\n",
       "      <td>1.49354</td>\n",
       "      <td>-3.14576</td>\n",
       "      <td>3.95473</td>\n",
       "      <td>-3.93638</td>\n",
       "      <td>-1.03860</td>\n",
       "      <td>1.09382</td>\n",
       "      <td>-1.49676</td>\n",
       "      <td>-0.85550</td>\n",
       "      <td>-0.21734</td>\n",
       "      <td>1.24299</td>\n",
       "      <td>-1.12471</td>\n",
       "      <td>0.09606</td>\n",
       "      <td>0</td>\n",
       "    </tr>\n",
       "    <tr>\n",
       "      <th>2499</th>\n",
       "      <td>-1.44591</td>\n",
       "      <td>-3.12015</td>\n",
       "      <td>-0.90038</td>\n",
       "      <td>-2.86607</td>\n",
       "      <td>-1.19546</td>\n",
       "      <td>7.10168</td>\n",
       "      <td>-0.33144</td>\n",
       "      <td>-6.68211</td>\n",
       "      <td>3.44459</td>\n",
       "      <td>-3.83818</td>\n",
       "      <td>2.04205</td>\n",
       "      <td>-5.72380</td>\n",
       "      <td>0.32311</td>\n",
       "      <td>0</td>\n",
       "    </tr>\n",
       "  </tbody>\n",
       "</table>\n",
       "<p>2500 rows × 14 columns</p>\n",
       "</div>"
      ],
      "text/plain": [
       "          v_1      v_2      v_3      v_4      v_5      v_6      v_7      v_8  \\\n",
       "0    -1.39917  0.96108 -0.36145  0.26092  2.78953 -1.55046 -0.79886  0.24304   \n",
       "1    -2.48564  1.24529 -0.39431  1.06648  1.71957 -0.60296 -2.35698 -2.31878   \n",
       "2    -0.57025  0.65495 -0.73706  0.22444 -0.44094 -0.42596  0.44267 -1.74196   \n",
       "3     2.10165  1.46236 -0.25678  2.58908 -3.40158  2.43561  0.74701 -0.65229   \n",
       "4     3.01588 -2.50913 -2.01442  2.10296 -3.05465  5.38227  0.46846  1.57586   \n",
       "...       ...      ...      ...      ...      ...      ...      ...      ...   \n",
       "2495 -0.35074 -1.71798 -1.10308 -0.12099  1.18152  3.86701 -0.99910 -0.81008   \n",
       "2496 -1.68296 -1.52289 -3.09895 -0.45890 -3.28199  2.92030  0.67892 -7.21068   \n",
       "2497 -1.49938 -1.49193 -2.27411  1.57773 -4.37078  1.22671 -1.64107 -4.93347   \n",
       "2498  0.83816  1.49354 -3.14576  3.95473 -3.93638 -1.03860  1.09382 -1.49676   \n",
       "2499 -1.44591 -3.12015 -0.90038 -2.86607 -1.19546  7.10168 -0.33144 -6.68211   \n",
       "\n",
       "          v_9     v_10     v_11     v_12     v_13  target  \n",
       "0     1.51733 -0.03357 -1.51127 -0.97444 -0.01934       0  \n",
       "1     0.95555 -2.00420 -0.75294 -3.64680 -0.55923       0  \n",
       "2    -0.06599 -0.36783  0.93065 -0.72392  0.37139       0  \n",
       "3    -0.45497 -1.57951  2.07367  1.86435 -0.37664       1  \n",
       "4     3.02176 -0.86271 -1.14418 -0.89712  0.61823       1  \n",
       "...       ...      ...      ...      ...      ...     ...  \n",
       "2495  4.13192 -1.76628 -1.63717 -3.20229 -0.80414       1  \n",
       "2496  1.10383 -2.39771  2.72704 -6.14332 -0.96963       0  \n",
       "2497 -1.58359 -2.12111  1.31078 -6.70529 -1.77200       1  \n",
       "2498 -0.85550 -0.21734  1.24299 -1.12471  0.09606       0  \n",
       "2499  3.44459 -3.83818  2.04205 -5.72380  0.32311       0  \n",
       "\n",
       "[2500 rows x 14 columns]"
      ]
     },
     "execution_count": 3,
     "metadata": {},
     "output_type": "execute_result"
    }
   ],
   "source": [
    "clf2"
   ]
  },
  {
   "cell_type": "code",
   "execution_count": null,
   "id": "committed-feature",
   "metadata": {},
   "outputs": [],
   "source": []
  },
  {
   "cell_type": "code",
   "execution_count": null,
   "id": "regional-blank",
   "metadata": {},
   "outputs": [],
   "source": []
  },
  {
   "cell_type": "code",
   "execution_count": 4,
   "id": "premier-score",
   "metadata": {},
   "outputs": [
    {
     "name": "stdout",
     "output_type": "stream",
     "text": [
      "Collecting pandasql\n",
      "  Downloading pandasql-0.7.3.tar.gz (26 kB)\n",
      "Requirement already satisfied: numpy in /home/dusodeth/.local/lib/python3.8/site-packages (from pandasql) (1.19.5)\n",
      "Requirement already satisfied: pandas in /home/dusodeth/.local/lib/python3.8/site-packages (from pandasql) (1.2.3)\n",
      "Requirement already satisfied: sqlalchemy in /home/dusodeth/.local/lib/python3.8/site-packages (from pandasql) (1.4.2)\n",
      "Requirement already satisfied: pytz>=2017.3 in /usr/lib/python3/dist-packages (from pandas->pandasql) (2019.3)\n",
      "Requirement already satisfied: python-dateutil>=2.7.3 in /usr/lib/python3/dist-packages (from pandas->pandasql) (2.7.3)\n",
      "Requirement already satisfied: greenlet!=0.4.17; python_version >= \"3\" in /home/dusodeth/.local/lib/python3.8/site-packages (from sqlalchemy->pandasql) (1.0.0)\n",
      "Building wheels for collected packages: pandasql\n",
      "  Building wheel for pandasql (setup.py) ... \u001b[?25ldone\n",
      "\u001b[?25h  Created wheel for pandasql: filename=pandasql-0.7.3-py3-none-any.whl size=26818 sha256=50bd26727203bea7613d9a4ba36b40880c821ff54eb4850f600d6820af720b12\n",
      "  Stored in directory: /home/dusodeth/.cache/pip/wheels/ed/8f/46/a383923333728744f01ba24adbd8e364f2cb9470a8b8e5b9ff\n",
      "Successfully built pandasql\n",
      "Installing collected packages: pandasql\n",
      "Successfully installed pandasql-0.7.3\n"
     ]
    }
   ],
   "source": [
    "!pip3 install pandasql"
   ]
  },
  {
   "cell_type": "code",
   "execution_count": 8,
   "id": "noted-dominican",
   "metadata": {},
   "outputs": [
    {
     "data": {
      "text/html": [
       "<div>\n",
       "<style scoped>\n",
       "    .dataframe tbody tr th:only-of-type {\n",
       "        vertical-align: middle;\n",
       "    }\n",
       "\n",
       "    .dataframe tbody tr th {\n",
       "        vertical-align: top;\n",
       "    }\n",
       "\n",
       "    .dataframe thead th {\n",
       "        text-align: right;\n",
       "    }\n",
       "</style>\n",
       "<table border=\"1\" class=\"dataframe\">\n",
       "  <thead>\n",
       "    <tr style=\"text-align: right;\">\n",
       "      <th></th>\n",
       "      <th>cartao</th>\n",
       "      <th>data</th>\n",
       "      <th>valor</th>\n",
       "    </tr>\n",
       "  </thead>\n",
       "  <tbody>\n",
       "    <tr>\n",
       "      <th>0</th>\n",
       "      <td>3213</td>\n",
       "      <td>02/04/2018</td>\n",
       "      <td>20</td>\n",
       "    </tr>\n",
       "    <tr>\n",
       "      <th>1</th>\n",
       "      <td>3213</td>\n",
       "      <td>11/05/2018</td>\n",
       "      <td>30</td>\n",
       "    </tr>\n",
       "    <tr>\n",
       "      <th>2</th>\n",
       "      <td>3213</td>\n",
       "      <td>23/04/2018</td>\n",
       "      <td>50</td>\n",
       "    </tr>\n",
       "    <tr>\n",
       "      <th>3</th>\n",
       "      <td>7624</td>\n",
       "      <td>18/05/2018</td>\n",
       "      <td>10</td>\n",
       "    </tr>\n",
       "    <tr>\n",
       "      <th>4</th>\n",
       "      <td>7624</td>\n",
       "      <td>09/04/2018</td>\n",
       "      <td>5</td>\n",
       "    </tr>\n",
       "    <tr>\n",
       "      <th>5</th>\n",
       "      <td>2121</td>\n",
       "      <td>27/05/2018</td>\n",
       "      <td>25</td>\n",
       "    </tr>\n",
       "  </tbody>\n",
       "</table>\n",
       "</div>"
      ],
      "text/plain": [
       "   cartao        data  valor\n",
       "0    3213  02/04/2018     20\n",
       "1    3213  11/05/2018     30\n",
       "2    3213  23/04/2018     50\n",
       "3    7624  18/05/2018     10\n",
       "4    7624  09/04/2018      5\n",
       "5    2121  27/05/2018     25"
      ]
     },
     "metadata": {},
     "output_type": "display_data"
    },
    {
     "data": {
      "text/html": [
       "<div>\n",
       "<style scoped>\n",
       "    .dataframe tbody tr th:only-of-type {\n",
       "        vertical-align: middle;\n",
       "    }\n",
       "\n",
       "    .dataframe tbody tr th {\n",
       "        vertical-align: top;\n",
       "    }\n",
       "\n",
       "    .dataframe thead th {\n",
       "        text-align: right;\n",
       "    }\n",
       "</style>\n",
       "<table border=\"1\" class=\"dataframe\">\n",
       "  <thead>\n",
       "    <tr style=\"text-align: right;\">\n",
       "      <th></th>\n",
       "      <th>id_cliente</th>\n",
       "      <th>cartao</th>\n",
       "    </tr>\n",
       "  </thead>\n",
       "  <tbody>\n",
       "    <tr>\n",
       "      <th>0</th>\n",
       "      <td>4433</td>\n",
       "      <td>3213</td>\n",
       "    </tr>\n",
       "    <tr>\n",
       "      <th>1</th>\n",
       "      <td>2134</td>\n",
       "      <td>7624</td>\n",
       "    </tr>\n",
       "    <tr>\n",
       "      <th>2</th>\n",
       "      <td>9987</td>\n",
       "      <td>2121</td>\n",
       "    </tr>\n",
       "    <tr>\n",
       "      <th>3</th>\n",
       "      <td>8765</td>\n",
       "      <td>9864</td>\n",
       "    </tr>\n",
       "  </tbody>\n",
       "</table>\n",
       "</div>"
      ],
      "text/plain": [
       "   id_cliente  cartao\n",
       "0        4433    3213\n",
       "1        2134    7624\n",
       "2        9987    2121\n",
       "3        8765    9864"
      ]
     },
     "metadata": {},
     "output_type": "display_data"
    }
   ],
   "source": [
    "trans = pd.DataFrame([[3213, '02/04/2018', 20],\n",
    "                      [3213, '11/05/2018', 30],\n",
    "                      [3213, '23/04/2018', 50],\n",
    "                      [7624, '18/05/2018', 10],\n",
    "                      [7624, '09/04/2018', 5],\n",
    "                      [2121, '27/05/2018', 25]\n",
    "                     ],\n",
    "            columns=['cartao', 'data', 'valor'])\n",
    "\n",
    "cart = pd.DataFrame([[4433, 3213],\n",
    "                      [2134, 7624],\n",
    "                      [9987, 2121],\n",
    "                      [8765, 9864]\n",
    "                     ],\n",
    "            columns=['id_cliente','cartao'])\n",
    "\n",
    "display(trans)\n",
    "display(cart)"
   ]
  },
  {
   "cell_type": "code",
   "execution_count": 9,
   "id": "complicated-slope",
   "metadata": {},
   "outputs": [],
   "source": [
    "import pandasql as ps"
   ]
  },
  {
   "cell_type": "code",
   "execution_count": 15,
   "id": "amazing-termination",
   "metadata": {},
   "outputs": [
    {
     "name": "stdout",
     "output_type": "stream",
     "text": [
      "   id_cliente  soma_gastos_cartao\n",
      "0        2134                15.0\n",
      "1        4433               100.0\n",
      "2        8765                 NaN\n",
      "3        9987                25.0\n"
     ]
    }
   ],
   "source": [
    "\n",
    "q1 = \"\"\"\n",
    "select \n",
    "    c.id_cliente as id_cliente,\n",
    "    sum(t.valor) as soma_gastos_cartao\n",
    "from \n",
    "    cart  as c\n",
    "left join \n",
    "    trans as t\n",
    "on c.cartao = t.cartao\n",
    "group by c.id_cliente\n",
    "order by   id_cliente\n",
    "\"\"\"\n",
    "\n",
    "print(ps.sqldf(q1, locals()))"
   ]
  },
  {
   "cell_type": "code",
   "execution_count": 16,
   "id": "alpine-float",
   "metadata": {},
   "outputs": [
    {
     "name": "stdout",
     "output_type": "stream",
     "text": [
      "   id_cliente  soma_gastos_cartao\n",
      "0        2134                  15\n",
      "1        4433                 100\n",
      "2        9987                  25\n"
     ]
    }
   ],
   "source": [
    "\n",
    "q1 = \"\"\"\n",
    "select \n",
    "    c.id_cliente as id_cliente,\n",
    "    sum(t.valor) as soma_gastos_cartao\n",
    "from \n",
    "    cart  as c\n",
    "inner join \n",
    "    trans as t\n",
    "on c.cartao = t.cartao\n",
    "group by c.id_cliente\n",
    "order by   id_cliente\n",
    "\"\"\"\n",
    "\n",
    "print(ps.sqldf(q1, locals()))"
   ]
  },
  {
   "cell_type": "code",
   "execution_count": 17,
   "id": "handmade-stroke",
   "metadata": {},
   "outputs": [],
   "source": [
    "from sklearn.linear_model    import ElasticNet\n",
    "from sklearn.model_selection import cross_val_score, KFold\n",
    "from sklearn.metrics         import mean_squared_error\n",
    "\n",
    "reg = 1.0\n",
    "mix = 0.01"
   ]
  },
  {
   "cell_type": "code",
   "execution_count": 20,
   "id": "outstanding-gardening",
   "metadata": {},
   "outputs": [
    {
     "data": {
      "text/plain": [
       "[0.26855726289324394,\n",
       " 0.2687746746994237,\n",
       " 0.2684418742938754,\n",
       " 0.2686166246834847,\n",
       " 0.2686109823290495]"
      ]
     },
     "metadata": {},
     "output_type": "display_data"
    },
    {
     "data": {
      "text/plain": [
       "0.26860028377981543"
      ]
     },
     "metadata": {},
     "output_type": "display_data"
    }
   ],
   "source": [
    "# TREINO\n",
    "scores = list()\n",
    "X = reg1.drop(labels=['target'], inplace=False, axis=1)\n",
    "y = reg1['target']\n",
    "\n",
    "for train_id, test_id in KFold(n_splits=5).split(reg1):\n",
    "    X_train, X_test = X.iloc[train_id], X.iloc[test_id]\n",
    "    y_train, y_test = y.iloc[train_id], y.iloc[test_id]\n",
    "\n",
    "    eln = ElasticNet(alpha=reg, l1_ratio=mix)\n",
    "    eln.fit(X_train, y_train)\n",
    "\n",
    "    y_pred = eln.predict(X_train)\n",
    "    scores.append(mean_squared_error(y_train, y_pred))\n",
    "\n",
    "display(scores)\n",
    "display(np.mean(scores))"
   ]
  },
  {
   "cell_type": "code",
   "execution_count": 21,
   "id": "asian-badge",
   "metadata": {},
   "outputs": [
    {
     "data": {
      "text/plain": [
       "[0.2869963111887113,\n",
       " 0.24834889042329172,\n",
       " 0.2703854087759643,\n",
       " 0.286636152652695,\n",
       " 0.2535619559566215]"
      ]
     },
     "metadata": {},
     "output_type": "display_data"
    },
    {
     "data": {
      "text/plain": [
       "0.2691857437994568"
      ]
     },
     "metadata": {},
     "output_type": "display_data"
    }
   ],
   "source": [
    "# VALIDACAO\n",
    "scores = list()\n",
    "X = reg1.drop(labels=['target'], inplace=False, axis=1)\n",
    "y = reg1['target']\n",
    "\n",
    "for train_id, test_id in KFold(n_splits=5).split(reg1):\n",
    "    X_train, X_test = X.iloc[train_id], X.iloc[test_id]\n",
    "    y_train, y_test = y.iloc[train_id], y.iloc[test_id]\n",
    "\n",
    "    eln = ElasticNet(alpha=reg, l1_ratio=mix)\n",
    "    eln.fit(X_train, y_train)\n",
    "\n",
    "    y_pred = eln.predict(X_test)\n",
    "    scores.append(mean_squared_error(y_test, y_pred))\n",
    "\n",
    "display(scores)\n",
    "display(np.mean(scores))"
   ]
  },
  {
   "cell_type": "code",
   "execution_count": null,
   "id": "going-station",
   "metadata": {},
   "outputs": [],
   "source": []
  },
  {
   "cell_type": "code",
   "execution_count": null,
   "id": "satellite-tiffany",
   "metadata": {},
   "outputs": [],
   "source": []
  },
  {
   "cell_type": "code",
   "execution_count": null,
   "id": "regulation-yorkshire",
   "metadata": {},
   "outputs": [],
   "source": []
  },
  {
   "cell_type": "code",
   "execution_count": 22,
   "id": "happy-jason",
   "metadata": {},
   "outputs": [],
   "source": [
    "from sklearn.svm             import SVR\n",
    "from sklearn.model_selection import cross_val_score, KFold\n",
    "from sklearn.metrics         import mean_squared_error\n",
    "\n",
    "kernel = 'linear'\n",
    "reg    = 0.001"
   ]
  },
  {
   "cell_type": "code",
   "execution_count": 23,
   "id": "substantial-stability",
   "metadata": {},
   "outputs": [
    {
     "data": {
      "text/plain": [
       "[20285.36934024859,\n",
       " 20358.178403929414,\n",
       " 20277.25177381962,\n",
       " 20114.15880566602,\n",
       " 19960.222996435103]"
      ]
     },
     "metadata": {},
     "output_type": "display_data"
    },
    {
     "data": {
      "text/plain": [
       "20199.03626401975"
      ]
     },
     "metadata": {},
     "output_type": "display_data"
    }
   ],
   "source": [
    "# TREINO\n",
    "scores = list()\n",
    "X = reg2.drop(labels=['target'], inplace=False, axis=1)\n",
    "y = reg2['target']\n",
    "\n",
    "for train_id, test_id in KFold(n_splits=5).split(reg2):\n",
    "    X_train, X_test = X.iloc[train_id], X.iloc[test_id]\n",
    "    y_train, y_test = y.iloc[train_id], y.iloc[test_id]\n",
    "\n",
    "    svm = SVR(kernel=kernel, C=reg)\n",
    "    svm.fit(X_train, y_train)\n",
    "\n",
    "    y_pred = svm.predict(X_train)\n",
    "    scores.append(mean_squared_error(y_train, y_pred))\n",
    "\n",
    "display(scores)\n",
    "display(np.mean(scores))"
   ]
  },
  {
   "cell_type": "code",
   "execution_count": 24,
   "id": "cultural-bunny",
   "metadata": {},
   "outputs": [
    {
     "data": {
      "text/plain": [
       "[19860.61560786974,\n",
       " 19547.28782342194,\n",
       " 19891.892614244185,\n",
       " 20551.366750784626,\n",
       " 21188.238069366253]"
      ]
     },
     "metadata": {},
     "output_type": "display_data"
    },
    {
     "data": {
      "text/plain": [
       "20207.880173137346"
      ]
     },
     "metadata": {},
     "output_type": "display_data"
    }
   ],
   "source": [
    "# VALIDACAO\n",
    "scores = list()\n",
    "X = reg2.drop(labels=['target'], inplace=False, axis=1)\n",
    "y = reg2['target']\n",
    "\n",
    "for train_id, test_id in KFold(n_splits=5).split(reg2):\n",
    "    X_train, X_test = X.iloc[train_id], X.iloc[test_id]\n",
    "    y_train, y_test = y.iloc[train_id], y.iloc[test_id]\n",
    "\n",
    "    svm = SVR(kernel=kernel, C=reg)\n",
    "    svm.fit(X_train, y_train)\n",
    "\n",
    "    y_pred = svm.predict(X_test)\n",
    "    scores.append(mean_squared_error(y_test, y_pred))\n",
    "\n",
    "display(scores)\n",
    "display(np.mean(scores))"
   ]
  },
  {
   "cell_type": "code",
   "execution_count": null,
   "id": "pleased-enemy",
   "metadata": {},
   "outputs": [],
   "source": []
  },
  {
   "cell_type": "code",
   "execution_count": null,
   "id": "defined-seeker",
   "metadata": {},
   "outputs": [],
   "source": []
  },
  {
   "cell_type": "code",
   "execution_count": null,
   "id": "arbitrary-tournament",
   "metadata": {},
   "outputs": [],
   "source": []
  },
  {
   "cell_type": "code",
   "execution_count": 25,
   "id": "uniform-packaging",
   "metadata": {},
   "outputs": [],
   "source": [
    "def mean_absolute_percentage_error(y_true, y_pred):\n",
    "    y_true, y_pred = np.array(y_true), np.array(y_pred)\n",
    "    return np.mean(np.abs((y_true - y_pred) / y_true)) * 100"
   ]
  },
  {
   "cell_type": "code",
   "execution_count": 26,
   "id": "supposed-drawing",
   "metadata": {},
   "outputs": [
    {
     "data": {
      "text/plain": [
       "nan"
      ]
     },
     "execution_count": 26,
     "metadata": {},
     "output_type": "execute_result"
    }
   ],
   "source": [
    "mean_absolute_percentage_error([0.1, 0.0, 0.2, 0.1], \n",
    "                               [0.1, 0.0, 0.2, 0.1])"
   ]
  },
  {
   "cell_type": "code",
   "execution_count": 27,
   "id": "complete-greene",
   "metadata": {},
   "outputs": [
    {
     "data": {
      "text/plain": [
       "27.27272727272727"
      ]
     },
     "execution_count": 27,
     "metadata": {},
     "output_type": "execute_result"
    }
   ],
   "source": [
    "mean_absolute_percentage_error([0.11, 0.01, 0.2, 0.1], \n",
    "                               [0.1, 0.0, 0.2, 0.1])"
   ]
  },
  {
   "cell_type": "code",
   "execution_count": 28,
   "id": "comfortable-harris",
   "metadata": {},
   "outputs": [
    {
     "data": {
      "text/plain": [
       "25.0"
      ]
     },
     "execution_count": 28,
     "metadata": {},
     "output_type": "execute_result"
    }
   ],
   "source": [
    "mean_absolute_percentage_error([0.1, 0.2, 0.2, 0.1], \n",
    "                               [0.1, 0.0, 0.2, 0.1])"
   ]
  },
  {
   "cell_type": "code",
   "execution_count": 29,
   "id": "sapphire-choice",
   "metadata": {},
   "outputs": [
    {
     "data": {
      "text/plain": [
       "50.0"
      ]
     },
     "execution_count": 29,
     "metadata": {},
     "output_type": "execute_result"
    }
   ],
   "source": [
    "mean_absolute_percentage_error( [0.1, 0.1, 0.1, 0.1] , \n",
    "                               [0.1, 0.0, 0.2, 0.1])"
   ]
  },
  {
   "cell_type": "code",
   "execution_count": null,
   "id": "therapeutic-candy",
   "metadata": {},
   "outputs": [],
   "source": []
  },
  {
   "cell_type": "code",
   "execution_count": null,
   "id": "civilian-seminar",
   "metadata": {},
   "outputs": [],
   "source": []
  },
  {
   "cell_type": "code",
   "execution_count": 30,
   "id": "varying-entertainment",
   "metadata": {},
   "outputs": [],
   "source": [
    "from sklearn.metrics import mean_absolute_percentage_error"
   ]
  },
  {
   "cell_type": "code",
   "execution_count": null,
   "id": "starting-flash",
   "metadata": {},
   "outputs": [],
   "source": [
    "# mean_absolute_percentage_error(y_true, y_pred)"
   ]
  },
  {
   "cell_type": "code",
   "execution_count": 35,
   "id": "applied-spell",
   "metadata": {},
   "outputs": [
    {
     "data": {
      "text/plain": [
       "0.0"
      ]
     },
     "execution_count": 35,
     "metadata": {},
     "output_type": "execute_result"
    }
   ],
   "source": [
    "y_true = [0.1, 0.0, 0.2, 0.1]\n",
    "y_pred = [0.1, 0.0, 0.2, 0.1]\n",
    "mean_absolute_percentage_error(y_true, y_pred)"
   ]
  },
  {
   "cell_type": "code",
   "execution_count": 39,
   "id": "tracked-volunteer",
   "metadata": {},
   "outputs": [
    {
     "data": {
      "text/plain": [
       "0.2727272727272727"
      ]
     },
     "execution_count": 39,
     "metadata": {},
     "output_type": "execute_result"
    }
   ],
   "source": [
    "y_true = [0.11, 0.01, 0.2, 0.1]\n",
    "y_pred = [0.1, 0.0, 0.2, 0.1]\n",
    "mean_absolute_percentage_error(y_true, y_pred)"
   ]
  },
  {
   "cell_type": "code",
   "execution_count": 40,
   "id": "ready-killer",
   "metadata": {},
   "outputs": [
    {
     "data": {
      "text/plain": [
       "0.25"
      ]
     },
     "execution_count": 40,
     "metadata": {},
     "output_type": "execute_result"
    }
   ],
   "source": [
    "y_true = [0.1, 0.2, 0.2, 0.1] \n",
    "y_pred = [0.1, 0.0, 0.2, 0.1]\n",
    "mean_absolute_percentage_error(y_true, y_pred)"
   ]
  },
  {
   "cell_type": "code",
   "execution_count": 41,
   "id": "remarkable-trial",
   "metadata": {},
   "outputs": [
    {
     "data": {
      "text/plain": [
       "0.5"
      ]
     },
     "execution_count": 41,
     "metadata": {},
     "output_type": "execute_result"
    }
   ],
   "source": [
    "y_true = [0.1, 0.1, 0.1, 0.1] \n",
    "y_pred = [0.1, 0.0, 0.2, 0.1]\n",
    "mean_absolute_percentage_error(y_true, y_pred)"
   ]
  },
  {
   "cell_type": "code",
   "execution_count": null,
   "id": "lined-income",
   "metadata": {},
   "outputs": [],
   "source": []
  },
  {
   "cell_type": "code",
   "execution_count": null,
   "id": "analyzed-mambo",
   "metadata": {},
   "outputs": [],
   "source": []
  },
  {
   "cell_type": "code",
   "execution_count": null,
   "id": "ambient-highland",
   "metadata": {},
   "outputs": [],
   "source": []
  },
  {
   "cell_type": "code",
   "execution_count": 14,
   "id": "polar-seventh",
   "metadata": {},
   "outputs": [],
   "source": [
    "from sklearn.tree            import DecisionTreeClassifier\n",
    "from sklearn.model_selection import cross_val_score, KFold\n",
    "from sklearn.metrics         import log_loss\n",
    "\n",
    "crit = 'entropy'"
   ]
  },
  {
   "cell_type": "code",
   "execution_count": 15,
   "id": "appointed-tribune",
   "metadata": {},
   "outputs": [
    {
     "data": {
      "text/plain": [
       "[9.992007221626413e-16,\n",
       " 9.992007221626413e-16,\n",
       " 9.992007221626413e-16,\n",
       " 9.992007221626413e-16,\n",
       " 9.992007221626413e-16,\n",
       " 9.992007221626413e-16,\n",
       " 9.992007221626413e-16,\n",
       " 9.992007221626413e-16,\n",
       " 9.992007221626413e-16,\n",
       " 9.992007221626413e-16]"
      ]
     },
     "metadata": {},
     "output_type": "display_data"
    },
    {
     "data": {
      "text/plain": [
       "9.992007221626413e-16"
      ]
     },
     "metadata": {},
     "output_type": "display_data"
    }
   ],
   "source": [
    "# TREINO\n",
    "scores = list()\n",
    "X = clf1.drop(labels=['target'], inplace=False, axis=1)\n",
    "y = clf1['target']\n",
    "\n",
    "for train_id, test_id in KFold(n_splits=10).split(clf1):\n",
    "    X_train, X_test = X.iloc[train_id], X.iloc[test_id]\n",
    "    y_train, y_test = y.iloc[train_id], y.iloc[test_id]\n",
    "\n",
    "    clf = DecisionTreeClassifier(criterion=crit)\n",
    "    clf.fit(X_train, y_train)\n",
    "\n",
    "    y_pred = clf.predict(X_train)\n",
    "    scores.append(log_loss(y_train, y_pred))\n",
    "\n",
    "display(scores)\n",
    "display(np.mean(scores))"
   ]
  },
  {
   "cell_type": "code",
   "execution_count": 16,
   "id": "complex-finance",
   "metadata": {},
   "outputs": [
    {
     "data": {
      "text/plain": [
       "[9.992007221626413e-16,\n",
       " 9.992007221626413e-16,\n",
       " 9.992007221626413e-16,\n",
       " 9.992007221626413e-16,\n",
       " 9.992007221626413e-16,\n",
       " 9.992007221626413e-16,\n",
       " 9.992007221626413e-16,\n",
       " 9.992007221626413e-16,\n",
       " 9.992007221626413e-16,\n",
       " 9.992007221626413e-16]"
      ]
     },
     "metadata": {},
     "output_type": "display_data"
    },
    {
     "data": {
      "text/plain": [
       "9.992007221626413e-16"
      ]
     },
     "metadata": {},
     "output_type": "display_data"
    }
   ],
   "source": [
    "# TREINO\n",
    "scores = list()\n",
    "X = clf1.drop(labels=['target'], inplace=False, axis=1)\n",
    "y = clf1['target']\n",
    "\n",
    "for train_id, test_id in KFold(n_splits=10).split(clf1):\n",
    "    X_train, X_test = X.iloc[train_id], X.iloc[test_id]\n",
    "    y_train, y_test = y.iloc[train_id], y.iloc[test_id]\n",
    "\n",
    "    clf = DecisionTreeClassifier(criterion=crit)\n",
    "    clf.fit(X_train, y_train)\n",
    "\n",
    "    y_pred = clf.predict_proba(X_train)\n",
    "    scores.append(log_loss(y_train, y_pred))\n",
    "\n",
    "display(scores)\n",
    "display(np.mean(scores))"
   ]
  },
  {
   "cell_type": "code",
   "execution_count": 17,
   "id": "caring-rolling",
   "metadata": {},
   "outputs": [
    {
     "data": {
      "text/plain": [
       "[3.0701623216127953,\n",
       " 3.07015787940485,\n",
       " 4.605223492483438,\n",
       " 2.494498279532502,\n",
       " 3.6458085948613075,\n",
       " 3.453899850530796,\n",
       " 4.029568334819036,\n",
       " 1.7269521463693716,\n",
       " 2.8782580194902305,\n",
       " 2.3026028618258283]"
      ]
     },
     "metadata": {},
     "output_type": "display_data"
    },
    {
     "data": {
      "text/plain": [
       "3.127713178093015"
      ]
     },
     "metadata": {},
     "output_type": "display_data"
    }
   ],
   "source": [
    "# VALIDACAO\n",
    "scores = list()\n",
    "X = clf1.drop(labels=['target'], inplace=False, axis=1)\n",
    "y = clf1['target']\n",
    "\n",
    "for train_id, test_id in KFold(n_splits=10).split(clf1):\n",
    "    X_train, X_test = X.iloc[train_id], X.iloc[test_id]\n",
    "    y_train, y_test = y.iloc[train_id], y.iloc[test_id]\n",
    "\n",
    "    clf = DecisionTreeClassifier(criterion=crit)\n",
    "    clf.fit(X_train, y_train)\n",
    "\n",
    "    y_pred = clf.predict(X_test)\n",
    "    scores.append(log_loss(y_test, y_pred))\n",
    "\n",
    "display(scores)\n",
    "display(np.mean(scores))"
   ]
  },
  {
   "cell_type": "code",
   "execution_count": 18,
   "id": "quarterly-slave",
   "metadata": {},
   "outputs": [
    {
     "data": {
      "text/plain": [
       "[3.453877639491069,\n",
       " 3.261995548408232,\n",
       " 4.221406003822417,\n",
       " 2.3025850929940463,\n",
       " 3.837641821656743,\n",
       " 3.261995548408232,\n",
       " 4.029523912739579,\n",
       " 1.535056728662698,\n",
       " 3.070113457325395,\n",
       " 2.8782313662425576]"
      ]
     },
     "metadata": {},
     "output_type": "display_data"
    },
    {
     "data": {
      "text/plain": [
       "3.1852427119750972"
      ]
     },
     "metadata": {},
     "output_type": "display_data"
    }
   ],
   "source": [
    "# VALIDACAO\n",
    "scores = list()\n",
    "X = clf1.drop(labels=['target'], inplace=False, axis=1)\n",
    "y = clf1['target']\n",
    "\n",
    "for train_id, test_id in KFold(n_splits=10).split(clf1):\n",
    "    X_train, X_test = X.iloc[train_id], X.iloc[test_id]\n",
    "    y_train, y_test = y.iloc[train_id], y.iloc[test_id]\n",
    "\n",
    "    clf = DecisionTreeClassifier(criterion=crit)\n",
    "    clf.fit(X_train, y_train)\n",
    "\n",
    "    y_pred = clf.predict_proba(X_test)\n",
    "    scores.append(log_loss(y_test, y_pred))\n",
    "\n",
    "display(scores)\n",
    "display(np.mean(scores))"
   ]
  },
  {
   "cell_type": "code",
   "execution_count": null,
   "id": "handed-liberty",
   "metadata": {},
   "outputs": [],
   "source": []
  },
  {
   "cell_type": "code",
   "execution_count": 5,
   "id": "organic-designation",
   "metadata": {},
   "outputs": [],
   "source": [
    "from sklearn.linear_model    import LogisticRegression, RidgeClassifier\n",
    "from sklearn.model_selection import cross_val_score, KFold\n",
    "from sklearn                 import metrics\n"
   ]
  },
  {
   "cell_type": "code",
   "execution_count": 5,
   "id": "gothic-burton",
   "metadata": {},
   "outputs": [
    {
     "data": {
      "text/plain": [
       "[0.8094275266740373,\n",
       " 0.8092449444487904,\n",
       " 0.8112148927022345,\n",
       " 0.8048986112779152,\n",
       " 0.8044612091613523,\n",
       " 0.8049322500077037,\n",
       " 0.8077467170775193,\n",
       " 0.8110461441213653,\n",
       " 0.8053847977243994,\n",
       " 0.8112148927022345]"
      ]
     },
     "metadata": {},
     "output_type": "display_data"
    },
    {
     "data": {
      "text/plain": [
       "0.8079571985897551"
      ]
     },
     "metadata": {},
     "output_type": "display_data"
    }
   ],
   "source": [
    "# TREINO\n",
    "scores = list()\n",
    "X = clf2.drop(labels=['target'], inplace=False, axis=1)\n",
    "y = clf2['target']\n",
    "\n",
    "for train_id, test_id in KFold(n_splits=10, shuffle=False).split(clf2):\n",
    "    X_train, X_test = X.iloc[train_id], X.iloc[test_id]\n",
    "    y_train, y_test = y.iloc[train_id], y.iloc[test_id]\n",
    "\n",
    "    clf = LogisticRegression(penalty='l2', C=0.1)\n",
    "    # clf = LogisticRegression(penalty='l2', l1_ratio=0.1)\n",
    "    clf.fit(X_train, y_train)\n",
    "\n",
    "    y_pred = clf.predict(X_train)\n",
    "    scores.append(metrics.roc_auc_score(y_train, y_pred))\n",
    "\n",
    "display(scores)\n",
    "display(np.mean(scores))"
   ]
  },
  {
   "cell_type": "code",
   "execution_count": 6,
   "id": "fantastic-incentive",
   "metadata": {},
   "outputs": [
    {
     "data": {
      "text/plain": [
       "[0.7991774307563779,\n",
       " 0.8145699656491023,\n",
       " 0.7610939112487101,\n",
       " 0.8332691319979455,\n",
       " 0.8167297453332477,\n",
       " 0.8496380293420462,\n",
       " 0.8136258363355636,\n",
       " 0.78222049689441,\n",
       " 0.8322873975409836,\n",
       " 0.780766253869969]"
      ]
     },
     "metadata": {},
     "output_type": "display_data"
    },
    {
     "data": {
      "text/plain": [
       "0.8083378198968356"
      ]
     },
     "metadata": {},
     "output_type": "display_data"
    }
   ],
   "source": [
    "# TESTE\n",
    "scores = list()\n",
    "X = clf2.drop(labels=['target'], inplace=False, axis=1)\n",
    "y = clf2['target']\n",
    "\n",
    "for train_id, test_id in KFold(n_splits=10, shuffle=False).split(clf2):\n",
    "    X_train, X_test = X.iloc[train_id], X.iloc[test_id]\n",
    "    y_train, y_test = y.iloc[train_id], y.iloc[test_id]\n",
    "\n",
    "    clf = LogisticRegression(penalty='l2', C=0.1)\n",
    "    # clf = LogisticRegression(penalty='l2', l1_ratio=0.1)\n",
    "    clf.fit(X_train, y_train)\n",
    "\n",
    "    y_pred = clf.predict(X_test)\n",
    "    scores.append(metrics.roc_auc_score(y_test, y_pred))\n",
    "\n",
    "display(scores)\n",
    "display(np.mean(scores))"
   ]
  },
  {
   "cell_type": "code",
   "execution_count": null,
   "id": "federal-payroll",
   "metadata": {},
   "outputs": [],
   "source": []
  },
  {
   "cell_type": "markdown",
   "id": "affected-record",
   "metadata": {},
   "source": [
    "tentativa alternativa"
   ]
  },
  {
   "cell_type": "code",
   "execution_count": 12,
   "id": "forward-think",
   "metadata": {},
   "outputs": [
    {
     "data": {
      "text/plain": [
       "[0.8809533029495743,\n",
       " 0.8786778330089784,\n",
       " 0.8820973330467001,\n",
       " 0.8769610879692548,\n",
       " 0.8792497912092168,\n",
       " 0.8742976701335089,\n",
       " 0.8799638989169675,\n",
       " 0.8808636219974715,\n",
       " 0.876941371681416,\n",
       " 0.8808880992425296]"
      ]
     },
     "metadata": {},
     "output_type": "display_data"
    },
    {
     "data": {
      "text/plain": [
       "0.8790894010155619"
      ]
     },
     "metadata": {},
     "output_type": "display_data"
    }
   ],
   "source": [
    "# TREINO\n",
    "scores = list()\n",
    "X = clf2.drop(labels=['target'], inplace=False, axis=1)\n",
    "y = clf2['target']\n",
    "\n",
    "for train_id, test_id in KFold(n_splits=10, shuffle=False).split(clf2):\n",
    "    X_train, X_test = X.iloc[train_id], X.iloc[test_id]\n",
    "    y_train, y_test = y.iloc[train_id], y.iloc[test_id]\n",
    "    \n",
    "    \n",
    "    clf = LogisticRegression(penalty='l2', C=0.1)\n",
    "    # clf = LogisticRegression(penalty='l2', l1_ratio=0.1)\n",
    "    clf.fit(X_train, y_train)\n",
    "\n",
    "    y_pred = clf.decision_function(X_train)\n",
    "    scores.append(metrics.roc_auc_score(y_train, y_pred))\n",
    "\n",
    "display(scores)\n",
    "display(np.mean(scores))"
   ]
  },
  {
   "cell_type": "code",
   "execution_count": 13,
   "id": "assumed-blowing",
   "metadata": {},
   "outputs": [
    {
     "data": {
      "text/plain": [
       "[0.862155388471178,\n",
       " 0.8786052239289649,\n",
       " 0.8445562435500515,\n",
       " 0.896828454031844,\n",
       " 0.874013727628456,\n",
       " 0.9220321609327952,\n",
       " 0.8692743180648482,\n",
       " 0.8589544513457557,\n",
       " 0.8975409836065574,\n",
       " 0.8617776057791537]"
      ]
     },
     "metadata": {},
     "output_type": "display_data"
    },
    {
     "data": {
      "text/plain": [
       "0.8765738557339604"
      ]
     },
     "metadata": {},
     "output_type": "display_data"
    }
   ],
   "source": [
    "# TESTE\n",
    "scores = list()\n",
    "X = clf2.drop(labels=['target'], inplace=False, axis=1)\n",
    "y = clf2['target']\n",
    "\n",
    "for train_id, test_id in KFold(n_splits=10, shuffle=False).split(clf2):\n",
    "    X_train, X_test = X.iloc[train_id], X.iloc[test_id]\n",
    "    y_train, y_test = y.iloc[train_id], y.iloc[test_id]\n",
    "\n",
    "    clf = LogisticRegression(penalty='l2', C=0.1)\n",
    "    # clf = LogisticRegression(penalty='l2', l1_ratio=0.1)\n",
    "    clf.fit(X_train, y_train)\n",
    "\n",
    "    y_pred = clf.decision_function(X_test)\n",
    "    scores.append(metrics.roc_auc_score(y_test, y_pred))\n",
    "\n",
    "display(scores)\n",
    "display(np.mean(scores))"
   ]
  },
  {
   "cell_type": "code",
   "execution_count": null,
   "id": "saved-ideal",
   "metadata": {},
   "outputs": [],
   "source": []
  },
  {
   "cell_type": "code",
   "execution_count": null,
   "id": "removable-danger",
   "metadata": {},
   "outputs": [],
   "source": []
  },
  {
   "cell_type": "code",
   "execution_count": null,
   "id": "electronic-adventure",
   "metadata": {},
   "outputs": [],
   "source": []
  },
  {
   "cell_type": "code",
   "execution_count": 53,
   "id": "dependent-popularity",
   "metadata": {},
   "outputs": [
    {
     "data": {
      "text/plain": [
       "23.253496664211536"
      ]
     },
     "execution_count": 53,
     "metadata": {},
     "output_type": "execute_result"
    }
   ],
   "source": [
    "np.log2(10000000)"
   ]
  },
  {
   "cell_type": "code",
   "execution_count": 52,
   "id": "strange-folks",
   "metadata": {},
   "outputs": [
    {
     "data": {
      "text/plain": [
       "1024"
      ]
     },
     "execution_count": 52,
     "metadata": {},
     "output_type": "execute_result"
    }
   ],
   "source": [
    "2**10"
   ]
  },
  {
   "cell_type": "code",
   "execution_count": null,
   "id": "electronic-tractor",
   "metadata": {},
   "outputs": [],
   "source": []
  },
  {
   "cell_type": "code",
   "execution_count": null,
   "id": "comparative-capability",
   "metadata": {},
   "outputs": [],
   "source": []
  },
  {
   "cell_type": "code",
   "execution_count": null,
   "id": "beautiful-development",
   "metadata": {},
   "outputs": [],
   "source": []
  },
  {
   "cell_type": "code",
   "execution_count": 54,
   "id": "precious-mediterranean",
   "metadata": {},
   "outputs": [
    {
     "data": {
      "image/png": "[encoded data removed]",
      "text/plain": [
       "<Figure size 1440x360 with 1 Axes>"
      ]
     },
     "metadata": {
      "needs_background": "light"
     },
     "output_type": "display_data"
    }
   ],
   "source": [
    "import scipy.cluster.hierarchy as hierarchical\n",
    "\n",
    "plt.figure(figsize=(20,5))\n",
    "dend = hierarchical.dendrogram( hierarchical.linkage(agr, method='single'), truncate_mode='level', p=7 )"
   ]
  },
  {
   "cell_type": "code",
   "execution_count": null,
   "id": "champion-cruise",
   "metadata": {},
   "outputs": [],
   "source": []
  }
 ],
 "metadata": {
  "kernelspec": {
   "display_name": "Python 3",
   "language": "python",
   "name": "python3"
  },
  "language_info": {
   "codemirror_mode": {
    "name": "ipython",
    "version": 3
   },
   "file_extension": ".py",
   "mimetype": "text/x-python",
   "name": "python",
   "nbconvert_exporter": "python",
   "pygments_lexer": "ipython3",
   "version": "3.8.5"
  }
 },
 "nbformat": 4,
 "nbformat_minor": 5
}
