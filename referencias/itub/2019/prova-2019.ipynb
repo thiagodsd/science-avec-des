{
 "cells": [
  {
   "cell_type": "code",
   "execution_count": 5,
   "metadata": {},
   "outputs": [],
   "source": [
    "import numpy  as np\n",
    "import pandas as pd\n",
    "import os\n",
    "\n",
    "import datetime\n",
    "import warnings\n",
    "import pickle\n",
    "import gc\n",
    "\n",
    "import seaborn           as sns\n",
    "from pandas.plotting import scatter_matrix\n",
    "\n",
    "from sklearn import metrics\n",
    "from sklearn.model_selection import train_test_split\n",
    "from sklearn.impute          import SimpleImputer\n",
    "from sklearn.compose         import ColumnTransformer\n",
    "from sklearn.preprocessing   import OrdinalEncoder, OneHotEncoder\n",
    "from sklearn.pipeline        import Pipeline\n",
    "from sklearn.preprocessing   import StandardScaler\n",
    "\n",
    "from sklearn.cluster      import KMeans, DBSCAN\n",
    "from sklearn.linear_model import LinearRegression\n",
    "from sklearn.tree         import DecisionTreeRegressor\n",
    "\n",
    "from sklearn.metrics import mean_absolute_error, mean_squared_log_error\n",
    "\n",
    "from IPython.display import display, FileLink, Image\n",
    "\n",
    "#\n",
    "\n",
    "warnings.filterwarnings('ignore')\n",
    "plt.rcParams['figure.figsize'] = [13, 7]"
   ]
  },
  {
   "cell_type": "code",
   "execution_count": 6,
   "metadata": {},
   "outputs": [],
   "source": [
    "agr  = pd.read_csv('agrupamento.csv')\n",
    "clf1 = pd.read_csv('classificacao_Q1.csv')\n",
    "clf2 = pd.read_csv('classificacao_Q2.csv')\n",
    "reg1 = pd.read_csv('regressao_Q1.csv')\n",
    "reg2 = pd.read_csv('regressao_Q2.csv')"
   ]
  },
  {
   "cell_type": "code",
   "execution_count": 22,
   "metadata": {},
   "outputs": [],
   "source": [
    "from sklearn.linear_model import ElasticNet\n",
    "from sklearn.model_selection import cross_val_score, KFold\n",
    "from sklearn.metrics         import mean_squared_error\n",
    "\n",
    "reg = 1.0\n",
    "mix = 0.01"
   ]
  },
  {
   "cell_type": "code",
   "execution_count": 23,
   "metadata": {},
   "outputs": [
    {
     "data": {
      "text/plain": [
       "[0.26855726289324394,\n",
       " 0.2687746746994237,\n",
       " 0.2684418742938754,\n",
       " 0.2686166246834847,\n",
       " 0.2686109823290495]"
      ]
     },
     "metadata": {},
     "output_type": "display_data"
    },
    {
     "data": {
      "text/plain": [
       "0.26860028377981543"
      ]
     },
     "metadata": {},
     "output_type": "display_data"
    }
   ],
   "source": [
    "# TREINO\n",
    "scores = list()\n",
    "X = reg1.drop(labels=['target'], inplace=False, axis=1)\n",
    "y = reg1['target']\n",
    "\n",
    "for train_id, test_id in KFold(n_splits=5).split(reg1):\n",
    "  X_train, X_test = X.iloc[train_id], X.iloc[test_id]\n",
    "  y_train, y_test = y.iloc[train_id], y.iloc[test_id]\n",
    "\n",
    "  eln = ElasticNet(alpha=reg, l1_ratio=mix)\n",
    "  eln.fit(X_train, y_train)\n",
    "\n",
    "  y_pred = eln.predict(X_train)\n",
    "  scores.append(mean_squared_error(y_train, y_pred))\n",
    "\n",
    "display(scores)\n",
    "display(np.mean(scores))"
   ]
  },
  {
   "cell_type": "code",
   "execution_count": 24,
   "metadata": {},
   "outputs": [
    {
     "data": {
      "text/plain": [
       "[0.2869963111887113,\n",
       " 0.24834889042329172,\n",
       " 0.27038540877596434,\n",
       " 0.286636152652695,\n",
       " 0.25356195595662157]"
      ]
     },
     "metadata": {},
     "output_type": "display_data"
    },
    {
     "data": {
      "text/plain": [
       "0.2691857437994568"
      ]
     },
     "metadata": {},
     "output_type": "display_data"
    }
   ],
   "source": [
    "# VALIDACAO\n",
    "scores = list()\n",
    "X = reg1.drop(labels=['target'], inplace=False, axis=1)\n",
    "y = reg1['target']\n",
    "\n",
    "for train_id, test_id in KFold(n_splits=5).split(reg1):\n",
    "  X_train, X_test = X.iloc[train_id], X.iloc[test_id]\n",
    "  y_train, y_test = y.iloc[train_id], y.iloc[test_id]\n",
    "\n",
    "  eln = ElasticNet(alpha=reg, l1_ratio=mix)\n",
    "  eln.fit(X_train, y_train)\n",
    "\n",
    "  y_pred = eln.predict(X_test)\n",
    "  scores.append(mean_squared_error(y_test, y_pred))\n",
    "\n",
    "display(scores)\n",
    "display(np.mean(scores))"
   ]
  },
  {
   "cell_type": "code",
   "execution_count": null,
   "metadata": {},
   "outputs": [],
   "source": []
  },
  {
   "cell_type": "code",
   "execution_count": 25,
   "metadata": {},
   "outputs": [],
   "source": [
    "from sklearn.svm import SVR\n",
    "from sklearn.model_selection import cross_val_score, KFold\n",
    "from sklearn.metrics         import mean_squared_error\n",
    "\n",
    "kernel = 'linear'\n",
    "reg = 0.001"
   ]
  },
  {
   "cell_type": "code",
   "execution_count": 26,
   "metadata": {},
   "outputs": [
    {
     "data": {
      "text/plain": [
       "[20285.36934024859,\n",
       " 20358.17840392941,\n",
       " 20277.25177381962,\n",
       " 20114.158805666022,\n",
       " 19960.222996435103]"
      ]
     },
     "metadata": {},
     "output_type": "display_data"
    },
    {
     "data": {
      "text/plain": [
       "20199.03626401975"
      ]
     },
     "metadata": {},
     "output_type": "display_data"
    }
   ],
   "source": [
    "# TREINO\n",
    "scores = list()\n",
    "X = reg2.drop(labels=['target'], inplace=False, axis=1)\n",
    "y = reg2['target']\n",
    "\n",
    "for train_id, test_id in KFold(n_splits=5).split(reg2):\n",
    "  X_train, X_test = X.iloc[train_id], X.iloc[test_id]\n",
    "  y_train, y_test = y.iloc[train_id], y.iloc[test_id]\n",
    "\n",
    "  svm = SVR(kernel=kernel, C=reg)\n",
    "  svm.fit(X_train, y_train)\n",
    "\n",
    "  y_pred = svm.predict(X_train)\n",
    "  scores.append(mean_squared_error(y_train, y_pred))\n",
    "\n",
    "display(scores)\n",
    "display(np.mean(scores))"
   ]
  },
  {
   "cell_type": "code",
   "execution_count": 27,
   "metadata": {},
   "outputs": [
    {
     "data": {
      "text/plain": [
       "[19860.615607869742,\n",
       " 19547.28782342194,\n",
       " 19891.892614244185,\n",
       " 20551.36675078463,\n",
       " 21188.23806936625]"
      ]
     },
     "metadata": {},
     "output_type": "display_data"
    },
    {
     "data": {
      "text/plain": [
       "20207.880173137346"
      ]
     },
     "metadata": {},
     "output_type": "display_data"
    }
   ],
   "source": [
    "# VALIDACAO\n",
    "scores = list()\n",
    "X = reg2.drop(labels=['target'], inplace=False, axis=1)\n",
    "y = reg2['target']\n",
    "\n",
    "for train_id, test_id in KFold(n_splits=5).split(reg2):\n",
    "  X_train, X_test = X.iloc[train_id], X.iloc[test_id]\n",
    "  y_train, y_test = y.iloc[train_id], y.iloc[test_id]\n",
    "\n",
    "  svm = SVR(kernel=kernel, C=reg)\n",
    "  svm.fit(X_train, y_train)\n",
    "\n",
    "  y_pred = svm.predict(X_test)\n",
    "  scores.append(mean_squared_error(y_test, y_pred))\n",
    "\n",
    "display(scores)\n",
    "display(np.mean(scores))"
   ]
  },
  {
   "cell_type": "code",
   "execution_count": 36,
   "metadata": {},
   "outputs": [],
   "source": [
    "def mean_absolute_percentage_error(y_true, y_pred):\n",
    "    y_true, y_pred = np.array(y_true), np.array(y_pred)\n",
    "    return np.mean(np.abs((y_true - y_pred) / y_true)) * 100"
   ]
  },
  {
   "cell_type": "code",
   "execution_count": 37,
   "metadata": {},
   "outputs": [
    {
     "data": {
      "text/plain": [
       "nan"
      ]
     },
     "execution_count": 37,
     "metadata": {},
     "output_type": "execute_result"
    }
   ],
   "source": [
    "mean_absolute_percentage_error([0.1, 0.0, 0.2, 0.1], \n",
    "                               [0.1, 0.0, 0.2, 0.1])"
   ]
  },
  {
   "cell_type": "code",
   "execution_count": 38,
   "metadata": {},
   "outputs": [
    {
     "data": {
      "text/plain": [
       "27.27272727272727"
      ]
     },
     "execution_count": 38,
     "metadata": {},
     "output_type": "execute_result"
    }
   ],
   "source": [
    "mean_absolute_percentage_error([0.11, 0.01, 0.2, 0.1], \n",
    "                               [0.1, 0.0, 0.2, 0.1])"
   ]
  },
  {
   "cell_type": "code",
   "execution_count": 39,
   "metadata": {},
   "outputs": [
    {
     "data": {
      "text/plain": [
       "25.0"
      ]
     },
     "execution_count": 39,
     "metadata": {},
     "output_type": "execute_result"
    }
   ],
   "source": [
    "mean_absolute_percentage_error([0.1, 0.2, 0.2, 0.1], \n",
    "                               [0.1, 0.0, 0.2, 0.1])"
   ]
  },
  {
   "cell_type": "code",
   "execution_count": 40,
   "metadata": {},
   "outputs": [
    {
     "data": {
      "text/plain": [
       "50.0"
      ]
     },
     "execution_count": 40,
     "metadata": {},
     "output_type": "execute_result"
    }
   ],
   "source": [
    "mean_absolute_percentage_error( [0.1, 0.1, 0.1, 0.1] , \n",
    "                               [0.1, 0.0, 0.2, 0.1])"
   ]
  },
  {
   "cell_type": "code",
   "execution_count": null,
   "metadata": {},
   "outputs": [],
   "source": []
  },
  {
   "cell_type": "code",
   "execution_count": 45,
   "metadata": {},
   "outputs": [],
   "source": [
    "from sklearn.tree            import DecisionTreeClassifier\n",
    "from sklearn.model_selection import cross_val_score, KFold\n",
    "from sklearn.metrics         import log_loss\n",
    "\n",
    "crit = 'entropy'"
   ]
  },
  {
   "cell_type": "code",
   "execution_count": 46,
   "metadata": {},
   "outputs": [
    {
     "data": {
      "text/plain": [
       "[9.992007221626413e-16,\n",
       " 9.992007221626413e-16,\n",
       " 9.992007221626413e-16,\n",
       " 9.992007221626413e-16,\n",
       " 9.992007221626413e-16,\n",
       " 9.992007221626413e-16,\n",
       " 9.992007221626413e-16,\n",
       " 9.992007221626413e-16,\n",
       " 9.992007221626413e-16,\n",
       " 9.992007221626413e-16]"
      ]
     },
     "metadata": {},
     "output_type": "display_data"
    },
    {
     "data": {
      "text/plain": [
       "9.992007221626413e-16"
      ]
     },
     "metadata": {},
     "output_type": "display_data"
    }
   ],
   "source": [
    "# TREINO\n",
    "scores = list()\n",
    "X = clf1.drop(labels=['target'], inplace=False, axis=1)\n",
    "y = clf1['target']\n",
    "\n",
    "for train_id, test_id in KFold(n_splits=10).split(clf1):\n",
    "  X_train, X_test = X.iloc[train_id], X.iloc[test_id]\n",
    "  y_train, y_test = y.iloc[train_id], y.iloc[test_id]\n",
    "\n",
    "  clf = DecisionTreeClassifier(criterion=crit)\n",
    "  clf.fit(X_train, y_train)\n",
    "\n",
    "  y_pred = clf.predict(X_train)\n",
    "  scores.append(log_loss(y_train, y_pred))\n",
    "\n",
    "display(scores)\n",
    "display(np.mean(scores))"
   ]
  },
  {
   "cell_type": "code",
   "execution_count": 47,
   "metadata": {},
   "outputs": [
    {
     "data": {
      "text/plain": [
       "[2.878275788322013,\n",
       " 3.262031086071796,\n",
       " 4.797114467982166,\n",
       " 2.3026206306576102,\n",
       " 3.837699570360035,\n",
       " 2.6863626017835567,\n",
       " 4.41333251698471,\n",
       " 1.5350700552865346,\n",
       " 2.8782624616981765,\n",
       " 2.1107163285350454]"
      ]
     },
     "metadata": {},
     "output_type": "display_data"
    },
    {
     "data": {
      "text/plain": [
       "3.070148550768164"
      ]
     },
     "metadata": {},
     "output_type": "display_data"
    }
   ],
   "source": [
    "# VALIDACAO\n",
    "scores = list()\n",
    "X = clf1.drop(labels=['target'], inplace=False, axis=1)\n",
    "y = clf1['target']\n",
    "\n",
    "for train_id, test_id in KFold(n_splits=10).split(clf1):\n",
    "  X_train, X_test = X.iloc[train_id], X.iloc[test_id]\n",
    "  y_train, y_test = y.iloc[train_id], y.iloc[test_id]\n",
    "\n",
    "  clf = DecisionTreeClassifier(criterion=crit)\n",
    "  clf.fit(X_train, y_train)\n",
    "\n",
    "  y_pred = clf.predict(X_test)\n",
    "  scores.append(log_loss(y_test, y_pred))\n",
    "\n",
    "display(scores)\n",
    "display(np.mean(scores))"
   ]
  },
  {
   "cell_type": "code",
   "execution_count": null,
   "metadata": {},
   "outputs": [],
   "source": []
  },
  {
   "cell_type": "code",
   "execution_count": 65,
   "metadata": {},
   "outputs": [],
   "source": [
    "from sklearn.linear_model import LogisticRegression\n",
    "from sklearn.model_selection import cross_val_score, KFold\n",
    "from sklearn import metrics\n"
   ]
  },
  {
   "cell_type": "code",
   "execution_count": 68,
   "metadata": {},
   "outputs": [
    {
     "data": {
      "text/plain": [
       "[0.8085763915506071,\n",
       " 0.80878863517303,\n",
       " 0.8112449259601158,\n",
       " 0.804456141792507,\n",
       " 0.805351681111486,\n",
       " 0.8044957012789891,\n",
       " 0.8082114157820531,\n",
       " 0.8105957648546144,\n",
       " 0.8067240834386852,\n",
       " 0.8107928463941122]"
      ]
     },
     "metadata": {},
     "output_type": "display_data"
    },
    {
     "data": {
      "text/plain": [
       "0.80792375873362"
      ]
     },
     "metadata": {},
     "output_type": "display_data"
    }
   ],
   "source": [
    "# TREINO\n",
    "scores = list()\n",
    "X = clf2.drop(labels=['target'], inplace=False, axis=1)\n",
    "y = clf2['target']\n",
    "\n",
    "for train_id, test_id in KFold(n_splits=10).split(clf2):\n",
    "  X_train, X_test = X.iloc[train_id], X.iloc[test_id]\n",
    "  y_train, y_test = y.iloc[train_id], y.iloc[test_id]\n",
    "\n",
    "  clf = LogisticRegression(penalty='l2', C=0.1)\n",
    "  clf.fit(X_train, y_train)\n",
    "\n",
    "  y_pred = clf.predict(X_train)\n",
    "  scores.append(roc_auc_score(y_train, y_pred))\n",
    "\n",
    "display(scores)\n",
    "display(np.mean(scores))"
   ]
  },
  {
   "cell_type": "code",
   "execution_count": 69,
   "metadata": {},
   "outputs": [
    {
     "data": {
      "text/plain": [
       "[0.7991774307563779,\n",
       " 0.8109728433469441,\n",
       " 0.7610939112487101,\n",
       " 0.8412942989214176,\n",
       " 0.8167297453332477,\n",
       " 0.8496380293420462,\n",
       " 0.8136258363355636,\n",
       " 0.78222049689441,\n",
       " 0.8322873975409836,\n",
       " 0.772703818369453]"
      ]
     },
     "metadata": {},
     "output_type": "display_data"
    },
    {
     "data": {
      "text/plain": [
       "0.8079743808089154"
      ]
     },
     "metadata": {},
     "output_type": "display_data"
    }
   ],
   "source": [
    "# TREINO\n",
    "scores = list()\n",
    "X = clf2.drop(labels=['target'], inplace=False, axis=1)\n",
    "y = clf2['target']\n",
    "\n",
    "for train_id, test_id in KFold(n_splits=10).split(clf2):\n",
    "  X_train, X_test = X.iloc[train_id], X.iloc[test_id]\n",
    "  y_train, y_test = y.iloc[train_id], y.iloc[test_id]\n",
    "\n",
    "  clf = LogisticRegression(penalty='l2', C=0.1)\n",
    "  clf.fit(X_train, y_train)\n",
    "\n",
    "  y_pred = clf.predict(X_test)\n",
    "  scores.append(roc_auc_score(y_test, y_pred))\n",
    "\n",
    "display(scores)\n",
    "display(np.mean(scores))"
   ]
  },
  {
   "cell_type": "code",
   "execution_count": null,
   "metadata": {},
   "outputs": [],
   "source": []
  },
  {
   "cell_type": "code",
   "execution_count": 70,
   "metadata": {},
   "outputs": [],
   "source": [
    "from sklearn.cluster import AgglomerativeClustering"
   ]
  },
  {
   "cell_type": "code",
   "execution_count": 90,
   "metadata": {},
   "outputs": [
    {
     "name": "stdout",
     "output_type": "stream",
     "text": [
      "5\n",
      "4\n",
      "4\n",
      "4\n",
      "4\n",
      "4\n",
      "4\n",
      "4\n",
      "4\n",
      "4\n"
     ]
    }
   ],
   "source": [
    "for i in np.linspace(2.2, 4.6, 10):\n",
    "    clustering = AgglomerativeClustering(linkage='single', distance_threshold=i, n_clusters=None ).fit(agr)\n",
    "    print(clustering.n_clusters_)"
   ]
  },
  {
   "cell_type": "code",
   "execution_count": 91,
   "metadata": {},
   "outputs": [
    {
     "name": "stdout",
     "output_type": "stream",
     "text": [
      "3\n",
      "3\n",
      "3\n",
      "2\n",
      "2\n",
      "2\n",
      "2\n",
      "2\n",
      "1\n",
      "1\n"
     ]
    }
   ],
   "source": [
    "for i in np.linspace(4.7, 6.6, 10):\n",
    "    clustering = AgglomerativeClustering(linkage='single', distance_threshold=i, n_clusters=None ).fit(agr)\n",
    "    print(clustering.n_clusters_)"
   ]
  },
  {
   "cell_type": "code",
   "execution_count": 92,
   "metadata": {},
   "outputs": [
    {
     "name": "stdout",
     "output_type": "stream",
     "text": [
      "4\n",
      "4\n",
      "3\n",
      "3\n",
      "3\n",
      "3\n",
      "3\n",
      "3\n",
      "3\n",
      "3\n"
     ]
    }
   ],
   "source": [
    "for i in np.linspace(4.5, 5.1, 10):\n",
    "    clustering = AgglomerativeClustering(linkage='single', distance_threshold=i, n_clusters=None ).fit(agr)\n",
    "    print(clustering.n_clusters_)"
   ]
  },
  {
   "cell_type": "code",
   "execution_count": 94,
   "metadata": {},
   "outputs": [
    {
     "name": "stdout",
     "output_type": "stream",
     "text": [
      "79\n",
      "68\n",
      "53\n",
      "39\n",
      "22\n",
      "15\n",
      "10\n",
      "7\n",
      "6\n",
      "5\n"
     ]
    }
   ],
   "source": [
    "for i in np.linspace(0.5, 2.2, 10):\n",
    "    clustering = AgglomerativeClustering(linkage='single', distance_threshold=i, n_clusters=None ).fit(agr)\n",
    "    print(clustering.n_clusters_)"
   ]
  },
  {
   "cell_type": "code",
   "execution_count": null,
   "metadata": {},
   "outputs": [],
   "source": []
  },
  {
   "cell_type": "code",
   "execution_count": null,
   "metadata": {},
   "outputs": [],
   "source": []
  },
  {
   "cell_type": "code",
   "execution_count": null,
   "metadata": {},
   "outputs": [],
   "source": [
    "# TREINO\n",
    "scores = list()\n",
    "X = clf2.drop(labels=['target'], inplace=False, axis=1)\n",
    "y = clf2['target']\n",
    "\n",
    "for train_id, test_id in KFold(n_splits=10).split(clf2):\n",
    "  X_train, X_test = X.iloc[train_id], X.iloc[test_id]\n",
    "  y_train, y_test = y.iloc[train_id], y.iloc[test_id]\n",
    "\n",
    "  clf = LogisticRegression(penalty=reg, C=lamb)\n",
    "  clf.fit(X_train, y_train)\n",
    "\n",
    "  y_pred = clf.predict(X_train)\n",
    "  fpr, tpr, thresholds = metrics.roc_curve(y_train, y_pred, pos_label=2)\n",
    "  scores.append(metrics.auc(fpr, tpr))\n",
    "\n",
    "display(scores)\n",
    "display(np.mean(scores))"
   ]
  },
  {
   "cell_type": "code",
   "execution_count": null,
   "metadata": {},
   "outputs": [],
   "source": []
  },
  {
   "cell_type": "code",
   "execution_count": null,
   "metadata": {},
   "outputs": [],
   "source": []
  },
  {
   "cell_type": "code",
   "execution_count": null,
   "metadata": {},
   "outputs": [],
   "source": []
  },
  {
   "cell_type": "code",
   "execution_count": null,
   "metadata": {},
   "outputs": [],
   "source": []
  },
  {
   "cell_type": "code",
   "execution_count": null,
   "metadata": {},
   "outputs": [],
   "source": []
  },
  {
   "cell_type": "code",
   "execution_count": null,
   "metadata": {},
   "outputs": [],
   "source": []
  },
  {
   "cell_type": "code",
   "execution_count": null,
   "metadata": {},
   "outputs": [],
   "source": []
  },
  {
   "cell_type": "code",
   "execution_count": null,
   "metadata": {},
   "outputs": [],
   "source": []
  },
  {
   "cell_type": "code",
   "execution_count": 3,
   "metadata": {},
   "outputs": [
    {
     "name": "stdout",
     "output_type": "stream",
     "text": [
      "For n_clusters = 2 The average silhouette_score is : 0.7049787496083262\n",
      "For n_clusters = 3 The average silhouette_score is : 0.5882004012129721\n",
      "For n_clusters = 4 The average silhouette_score is : 0.6505186632729437\n",
      "For n_clusters = 5 The average silhouette_score is : 0.56376469026194\n"
     ]
    },
    {
     "data": {
      "image/png": "[encoded data removed]",
      "text/plain": [
       "<Figure size 936x504 with 1 Axes>"
      ]
     },
     "metadata": {
      "needs_background": "light"
     },
     "output_type": "display_data"
    },
    {
     "data": {
      "image/png": "[encoded data removed]",
      "text/plain": [
       "<Figure size 936x504 with 1 Axes>"
      ]
     },
     "metadata": {
      "needs_background": "light"
     },
     "output_type": "display_data"
    },
    {
     "data": {
      "image/png": "[encoded data removed]",
      "text/plain": [
       "<Figure size 936x504 with 1 Axes>"
      ]
     },
     "metadata": {
      "needs_background": "light"
     },
     "output_type": "display_data"
    },
    {
     "data": {
      "image/png": "[encoded data removed]",
      "text/plain": [
       "<Figure size 936x504 with 1 Axes>"
      ]
     },
     "metadata": {
      "needs_background": "light"
     },
     "output_type": "display_data"
    }
   ],
   "source": [
    "from sklearn.datasets import make_blobs\n",
    "from sklearn.cluster import KMeans\n",
    "from sklearn.metrics import silhouette_samples, silhouette_score\n",
    "\n",
    "import matplotlib.pyplot as plt\n",
    "import matplotlib.cm as cm\n",
    "import numpy as np\n",
    "\n",
    "X, y = make_blobs(n_samples=500,\n",
    "                  n_features=2,\n",
    "                  centers=4,\n",
    "                  cluster_std=1,\n",
    "                  center_box=(-10.0, 10.0),\n",
    "                  shuffle=True,\n",
    "                  random_state=1)\n",
    "\n",
    "for n_clusters in range(2,6):\n",
    "    # Create a subplot with 1 row and 2 columns\n",
    "    fig, ((ax1)) = plt.subplots(1, 1)\n",
    "    \n",
    "    ax1.set_xlim([-0.1, 1])\n",
    "    ax1.set_ylim([0, len(X) + (n_clusters + 1) * 10])\n",
    "\n",
    "    clusterer = KMeans(n_clusters=n_clusters, random_state=10)\n",
    "    cluster_labels = clusterer.fit_predict(X)\n",
    "\n",
    "    silhouette_avg = silhouette_score(X, cluster_labels)\n",
    "    print(\"For n_clusters =\", n_clusters,\n",
    "          \"The average silhouette_score is :\", silhouette_avg)\n",
    "\n",
    "    # Compute the silhouette scores for each sample\n",
    "    sample_silhouette_values = silhouette_samples(X, cluster_labels)\n",
    "\n",
    "    y_lower = 10\n",
    "    for i in range(n_clusters):\n",
    "        ith_cluster_silhouette_values = sample_silhouette_values[cluster_labels == i]\n",
    "        ith_cluster_silhouette_values.sort()\n",
    "\n",
    "        size_cluster_i = ith_cluster_silhouette_values.shape[0]\n",
    "        y_upper = y_lower + size_cluster_i\n",
    "\n",
    "        color = cm.nipy_spectral(float(i) / n_clusters)\n",
    "        ax1.fill_betweenx(np.arange(y_lower, y_upper),\n",
    "                          0, ith_cluster_silhouette_values,\n",
    "                          facecolor=color, edgecolor=color, alpha=0.7)\n",
    "\n",
    "        ax1.text(-0.05, y_lower + 0.5 * size_cluster_i, str(i))\n",
    "\n",
    "        y_lower = y_upper + 10  # 10 for the 0 samples\n",
    "\n",
    "    ax1.set_title(\"The silhouette plot for the various clusters.\")\n",
    "    ax1.set_xlabel(\"The silhouette coefficient values\")\n",
    "    ax1.set_ylabel(\"Cluster label\")\n",
    "\n",
    "    # The vertical line for average silhouette score of all the values\n",
    "    ax1.axvline(x=silhouette_avg, color=\"red\", linestyle=\"--\")\n",
    "\n",
    "    ax1.set_yticks([])  # Clear the yaxis labels / ticks\n",
    "    ax1.set_xticks([-0.1, 0, 0.2, 0.4, 0.6, 0.8, 1])\n",
    "\n",
    "plt.show()"
   ]
  },
  {
   "cell_type": "code",
   "execution_count": null,
   "metadata": {},
   "outputs": [],
   "source": []
  }
 ],
 "metadata": {
  "kernelspec": {
   "display_name": "Python 3",
   "language": "python",
   "name": "python3"
  },
  "language_info": {
   "codemirror_mode": {
    "name": "ipython",
    "version": 3
   },
   "file_extension": ".py",
   "mimetype": "text/x-python",
   "name": "python",
   "nbconvert_exporter": "python",
   "pygments_lexer": "ipython3",
   "version": "3.8.5"
  }
 },
 "nbformat": 4,
 "nbformat_minor": 4
}
