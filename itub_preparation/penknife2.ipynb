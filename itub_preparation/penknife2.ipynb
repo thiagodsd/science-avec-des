{
  "nbformat": 4,
  "nbformat_minor": 0,
  "metadata": {
    "kernelspec": {
      "display_name": "Python 3",
      "language": "python",
      "name": "python3"
    },
    "language_info": {
      "codemirror_mode": {
        "name": "ipython",
        "version": 3
      },
      "file_extension": ".py",
      "mimetype": "text/x-python",
      "name": "python",
      "nbconvert_exporter": "python",
      "pygments_lexer": "ipython3",
      "version": "3.7.4"
    },
    "colab": {
      "name": "penknife.ipynb",
      "provenance": [],
      "include_colab_link": true
    }
  },
  "cells": [
    {
      "cell_type": "markdown",
      "metadata": {
        "id": "view-in-github",
        "colab_type": "text"
      },
      "source": [
        "<a href=\"https://colab.research.google.com/github/thiagodsd/science-avec-des/blob/master/itub_preparation/penknife2.ipynb\" target=\"_parent\"><img src=\"https://colab.research.google.com/assets/colab-badge.svg\" alt=\"Open In Colab\"/></a>"
      ]
    },
    {
      "cell_type": "markdown",
      "metadata": {
        "id": "p7FVdoMKUp21",
        "colab_type": "text"
      },
      "source": [
        "# Imports"
      ]
    },
    {
      "cell_type": "code",
      "metadata": {
        "id": "roqOTe3GUp25",
        "colab_type": "code",
        "colab": {}
      },
      "source": [
        "from IPython.display import display, FileLink"
      ],
      "execution_count": 0,
      "outputs": []
    },
    {
      "cell_type": "markdown",
      "metadata": {
        "id": "MCVteEqrUp3H",
        "colab_type": "text"
      },
      "source": [
        "# Functions"
      ]
    },
    {
      "cell_type": "markdown",
      "metadata": {
        "id": "5lhhMAjgUp3L",
        "colab_type": "text"
      },
      "source": [
        "variable collector"
      ]
    },
    {
      "cell_type": "code",
      "metadata": {
        "id": "oe1eaO1lUp3O",
        "colab_type": "code",
        "colab": {}
      },
      "source": [
        "def var_cleaner(s):\n",
        "    \"\"\"\n",
        "    ('var1, var2, ..., varN') -> None\n",
        "    \"\"\"\n",
        "    trash = list()\n",
        "    miss  = list()\n",
        "    for v in s.replace(' ', '').split(','):\n",
        "        if v in globals():\n",
        "            del globals()[v]\n",
        "            trash.append(v)\n",
        "        else:\n",
        "            miss.append(v)\n",
        "    print('- DELETED:     {}'.format( ', '.join(trash) ))\n",
        "    print('- NOT DEFINED: {}'.format( ', '.join(miss) ))"
      ],
      "execution_count": 0,
      "outputs": []
    },
    {
      "cell_type": "markdown",
      "metadata": {
        "id": "54yr-NtYUp3b",
        "colab_type": "text"
      },
      "source": [
        "longitude and latitude distances to meters"
      ]
    },
    {
      "cell_type": "code",
      "metadata": {
        "id": "FddsFRTgUp3f",
        "colab_type": "code",
        "colab": {}
      },
      "source": [
        "import numpy as np\n",
        "from math import sin, cos, sqrt, atan2, radians\n",
        "#\n",
        "def lat_lon_converter(lat1, lon1, lat2, lon2, unit):\n",
        "    \"\"\"\n",
        "    ref: https://stackoverflow.com/questions/19412462/getting-distance-between-two-points-based-on-latitude-longitude\n",
        "    \"\"\"\n",
        "    try:\n",
        "        R = 6373.0\n",
        "        dlon = radians(lon2) - radians(lon1)\n",
        "        dlat = radians(lat2) - radians(lat1)\n",
        "        a = sin(dlat / 2)**2 + cos(lat1) * cos(lat2) * sin(dlon / 2)**2\n",
        "        c = 2 * atan2(sqrt(a), sqrt(1 - a))\n",
        "        distance = R * c\n",
        "\n",
        "        if unit == 'm':\n",
        "            return distance * 10e3\n",
        "        elif unit == 'km':\n",
        "            return distance\n",
        "    except ValueError:\n",
        "        return np.nan"
      ],
      "execution_count": 0,
      "outputs": []
    },
    {
      "cell_type": "markdown",
      "metadata": {
        "id": "jAsauMi6Up3s",
        "colab_type": "text"
      },
      "source": [
        "# Exploration"
      ]
    },
    {
      "cell_type": "markdown",
      "metadata": {
        "id": "ohmsdX8wUp3w",
        "colab_type": "text"
      },
      "source": [
        "## Overview"
      ]
    },
    {
      "cell_type": "markdown",
      "metadata": {
        "id": "W7EjzNBkUp30",
        "colab_type": "text"
      },
      "source": [
        ""
      ]
    },
    {
      "cell_type": "code",
      "metadata": {
        "id": "gUxtlUZGUp33",
        "colab_type": "code",
        "colab": {}
      },
      "source": [
        "train.info()"
      ],
      "execution_count": 0,
      "outputs": []
    },
    {
      "cell_type": "code",
      "metadata": {
        "id": "AmQGbzuFUp4E",
        "colab_type": "code",
        "colab": {}
      },
      "source": [
        "df.describe().apply( lambda s: s.apply( lambda x: format(x, '.3f') ) );"
      ],
      "execution_count": 0,
      "outputs": []
    },
    {
      "cell_type": "markdown",
      "metadata": {
        "id": "zNek3PdCUp4P",
        "colab_type": "text"
      },
      "source": [
        "# Data Preparation"
      ]
    },
    {
      "cell_type": "markdown",
      "metadata": {
        "id": "pF6FTJz_Up4T",
        "colab_type": "text"
      },
      "source": [
        "# Modelling"
      ]
    },
    {
      "cell_type": "markdown",
      "metadata": {
        "id": "H3DzkmfBUp4Z",
        "colab_type": "text"
      },
      "source": [
        "## Splitting"
      ]
    },
    {
      "cell_type": "code",
      "metadata": {
        "id": "vix38tm7Up4d",
        "colab_type": "code",
        "colab": {}
      },
      "source": [
        "import numpy as np\n",
        "\n",
        "def split_train_test(data, test_ratio):\n",
        "    \"\"\"\n",
        "    usage: train_set, test_set = split_train_test(housing, 0.2)\n",
        "    \"\"\"\n",
        "    shuffled_indices = np.random.permutation(len(data))\n",
        "    test_set_size    = int( len(data) * test_ratio )\n",
        "    test_indices     = shuffled_indices[ :test_set_size ]\n",
        "    train_indices    = shuffled_indices[ test_set_size: ]\n",
        "    \n",
        "    return data.iloc[train_indices], data.iloc[test_indices]\n"
      ],
      "execution_count": 0,
      "outputs": []
    },
    {
      "cell_type": "markdown",
      "metadata": {
        "id": "SR3ipNIaUp4l",
        "colab_type": "text"
      },
      "source": [
        "## Techniques"
      ]
    },
    {
      "cell_type": "markdown",
      "metadata": {
        "id": "acZNIFkeUp4p",
        "colab_type": "text"
      },
      "source": [
        "### K-MEANS"
      ]
    },
    {
      "cell_type": "markdown",
      "metadata": {
        "id": "pVRYN_xMUp4s",
        "colab_type": "text"
      },
      "source": [
        "### DBSCAN"
      ]
    },
    {
      "cell_type": "markdown",
      "metadata": {
        "id": "elSmC-QHUp4u",
        "colab_type": "text"
      },
      "source": [
        "dbscan approximate predicting"
      ]
    },
    {
      "cell_type": "code",
      "metadata": {
        "id": "AaXniktsUp4y",
        "colab_type": "code",
        "colab": {}
      },
      "source": [
        "def dbscan_predict(model, X):\n",
        "    \"\"\"\n",
        "    ref: https://stackoverflow.com/questions/27822752/scikit-learn-predicting-new-points-with-dbscan\n",
        "    \"\"\"\n",
        "    nr_samples = X.shape[0]\n",
        "    y_new      = np.ones(shape=nr_samples, dtype=int) * -1\n",
        "\n",
        "    for i in range(nr_samples):\n",
        "        diff = model.components_ - X[i, :]   # NumPy broadcasting\n",
        "        dist = np.linalg.norm(diff, axis=1)  # Euclidean distance\n",
        "        shortest_dist_idx = np.argmin(dist)\n",
        "\n",
        "        if dist[shortest_dist_idx] < model.eps:\n",
        "            y_new[i] = model.labels_[model.core_sample_indices_[shortest_dist_idx]]\n",
        "\n",
        "    return y_new"
      ],
      "execution_count": 0,
      "outputs": []
    },
    {
      "cell_type": "markdown",
      "metadata": {
        "id": "gDtZYbabUp4-",
        "colab_type": "text"
      },
      "source": [
        "## Analysing"
      ]
    },
    {
      "cell_type": "code",
      "metadata": {
        "id": "oajAQK98Up5D",
        "colab_type": "code",
        "colab": {}
      },
      "source": [
        ""
      ],
      "execution_count": 0,
      "outputs": []
    },
    {
      "cell_type": "code",
      "metadata": {
        "id": "SoMwN1D_Utw9",
        "colab_type": "code",
        "colab": {}
      },
      "source": [
        ""
      ],
      "execution_count": 0,
      "outputs": []
    },
    {
      "cell_type": "code",
      "metadata": {
        "id": "-ShriAHpUt3r",
        "colab_type": "code",
        "colab": {}
      },
      "source": [
        ""
      ],
      "execution_count": 0,
      "outputs": []
    },
    {
      "cell_type": "markdown",
      "metadata": {
        "id": "iGfLFAZMUt1m",
        "colab_type": "text"
      },
      "source": [
        "teste."
      ]
    },
    {
      "cell_type": "code",
      "metadata": {
        "id": "QtAYADCcUx3n",
        "colab_type": "code",
        "colab": {}
      },
      "source": [
        ""
      ],
      "execution_count": 0,
      "outputs": []
    }
  ]
}