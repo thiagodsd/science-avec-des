{
 "cells": [
  {
   "cell_type": "markdown",
   "metadata": {},
   "source": [
    "# Functions"
   ]
  },
  {
   "cell_type": "markdown",
   "metadata": {},
   "source": [
    "variable collector"
   ]
  },
  {
   "cell_type": "code",
   "execution_count": 1,
   "metadata": {},
   "outputs": [],
   "source": [
    "def var_cleaner(s):\n",
    "    \"\"\"\n",
    "    ('var1, var2, ..., varN') -> None\n",
    "    \"\"\"\n",
    "    trash = list()\n",
    "    miss  = list()\n",
    "    for v in s.replace(' ', '').split(','):\n",
    "        if v in globals():\n",
    "            del globals()[v]\n",
    "            trash.append(v)\n",
    "        else:\n",
    "            miss.append(v)\n",
    "    print('- DELETED:     {}'.format( ', '.join(trash) ))\n",
    "    print('- NOT DEFINED: {}'.format( ', '.join(miss) ))"
   ]
  },
  {
   "cell_type": "markdown",
   "metadata": {},
   "source": [
    "longitude and latitude distances to meters"
   ]
  },
  {
   "cell_type": "code",
   "execution_count": 2,
   "metadata": {},
   "outputs": [],
   "source": [
    "import numpy as np\n",
    "from math import sin, cos, sqrt, atan2, radians\n",
    "#\n",
    "def lat_lon_converter(lat1, lon1, lat2, lon2, unit):\n",
    "    \"\"\"\n",
    "    ref: https://stackoverflow.com/questions/19412462/getting-distance-between-two-points-based-on-latitude-longitude\n",
    "    \"\"\"\n",
    "    try:\n",
    "        R = 6373.0\n",
    "        dlon = radians(lon2) - radians(lon1)\n",
    "        dlat = radians(lat2) - radians(lat1)\n",
    "        a = sin(dlat / 2)**2 + cos(lat1) * cos(lat2) * sin(dlon / 2)**2\n",
    "        c = 2 * atan2(sqrt(a), sqrt(1 - a))\n",
    "        distance = R * c\n",
    "\n",
    "        if unit == 'm':\n",
    "            return distance * 10e3\n",
    "        elif unit == 'km':\n",
    "            return distance\n",
    "    except ValueError:\n",
    "        return np.nan"
   ]
  },
  {
   "cell_type": "markdown",
   "metadata": {},
   "source": [
    "# Exploration"
   ]
  },
  {
   "cell_type": "markdown",
   "metadata": {},
   "source": [
    "## Overview"
   ]
  },
  {
   "cell_type": "code",
   "execution_count": null,
   "metadata": {},
   "outputs": [],
   "source": [
    "df.describe().apply( lambda s: s.apply( lambda x: format(x, '.3f') ) );"
   ]
  },
  {
   "cell_type": "markdown",
   "metadata": {},
   "source": [
    "# Data Preparation"
   ]
  },
  {
   "cell_type": "markdown",
   "metadata": {},
   "source": [
    "# Modelling"
   ]
  },
  {
   "cell_type": "markdown",
   "metadata": {},
   "source": [
    "## Splitting"
   ]
  },
  {
   "cell_type": "code",
   "execution_count": null,
   "metadata": {},
   "outputs": [],
   "source": [
    "import numpy as np\n",
    "\n",
    "def split_train_test(data, test_ratio):\n",
    "    \"\"\"\n",
    "    usage: train_set, test_set = split_train_test(housing, 0.2)\n",
    "    \"\"\"\n",
    "    shuffled_indices = np.random.permutation(len(data))\n",
    "    test_set_size    = int( len(data) * test_ratio )\n",
    "    test_indices     = shuffled_indices[ :test_set_size ]\n",
    "    train_indices    = shuffled_indices[ test_set_size: ]\n",
    "    \n",
    "    return data.iloc[train_indices], data.iloc[test_indices]\n"
   ]
  },
  {
   "cell_type": "markdown",
   "metadata": {},
   "source": [
    "## Techniques"
   ]
  },
  {
   "cell_type": "markdown",
   "metadata": {},
   "source": [
    "### K-MEANS"
   ]
  },
  {
   "cell_type": "markdown",
   "metadata": {},
   "source": [
    "### DBSCAN"
   ]
  },
  {
   "cell_type": "markdown",
   "metadata": {},
   "source": [
    "dbscan approximate predicting"
   ]
  },
  {
   "cell_type": "code",
   "execution_count": 3,
   "metadata": {},
   "outputs": [],
   "source": [
    "def dbscan_predict(model, X):\n",
    "    \"\"\"\n",
    "    ref: https://stackoverflow.com/questions/27822752/scikit-learn-predicting-new-points-with-dbscan\n",
    "    \"\"\"\n",
    "    nr_samples = X.shape[0]\n",
    "    y_new      = np.ones(shape=nr_samples, dtype=int) * -1\n",
    "\n",
    "    for i in range(nr_samples):\n",
    "        diff = model.components_ - X[i, :]   # NumPy broadcasting\n",
    "        dist = np.linalg.norm(diff, axis=1)  # Euclidean distance\n",
    "        shortest_dist_idx = np.argmin(dist)\n",
    "\n",
    "        if dist[shortest_dist_idx] < model.eps:\n",
    "            y_new[i] = model.labels_[model.core_sample_indices_[shortest_dist_idx]]\n",
    "\n",
    "    return y_new"
   ]
  },
  {
   "cell_type": "markdown",
   "metadata": {},
   "source": [
    "## Analysing"
   ]
  },
  {
   "cell_type": "code",
   "execution_count": null,
   "metadata": {},
   "outputs": [],
   "source": []
  }
 ],
 "metadata": {
  "kernelspec": {
   "display_name": "Python 3",
   "language": "python",
   "name": "python3"
  },
  "language_info": {
   "codemirror_mode": {
    "name": "ipython",
    "version": 3
   },
   "file_extension": ".py",
   "mimetype": "text/x-python",
   "name": "python",
   "nbconvert_exporter": "python",
   "pygments_lexer": "ipython3",
   "version": "3.7.4"
  }
 },
 "nbformat": 4,
 "nbformat_minor": 4
}
