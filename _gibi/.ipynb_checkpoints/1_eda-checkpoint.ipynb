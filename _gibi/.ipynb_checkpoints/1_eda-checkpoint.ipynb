{
 "cells": [
  {
   "cell_type": "code",
   "execution_count": 1,
   "metadata": {
    "slideshow": {
     "slide_type": "skip"
    }
   },
   "outputs": [],
   "source": [
    "import datetime, warnings, pickle, gc, os, math, pprint, hashlib, functools, joblib, binascii\n",
    "\n",
    "import numpy  as np\n",
    "import pandas as pd\n",
    "\n",
    "%matplotlib inline\n",
    "import matplotlib.pyplot as plt\n",
    "import seaborn           as sns\n",
    "\n",
    "from IPython.display import display, display_html, Markdown"
   ]
  },
  {
   "cell_type": "code",
   "execution_count": 2,
   "metadata": {
    "slideshow": {
     "slide_type": "skip"
    }
   },
   "outputs": [],
   "source": [
    "def hide_code_in_slideshow():\n",
    "    uid = binascii.hexlify(os.urandom(8)).decode()    \n",
    "    html = \"\"\"<div id=\"%s\"></div>\n",
    "    <script type=\"text/javascript\">\n",
    "        $(function(){\n",
    "            var p = $(\"#%s\");\n",
    "            if (p.length==0) return;\n",
    "            while (!p.hasClass(\"cell\")) {\n",
    "                p=p.parent();\n",
    "                if (p.prop(\"tagName\") ==\"body\") return;\n",
    "            }\n",
    "            var cell = p;\n",
    "            cell.find(\".input\").addClass(\"hide-in-slideshow\")\n",
    "        });\n",
    "    </script>\"\"\" % (uid, uid)\n",
    "    display_html(html, raw=True)\n"
   ]
  },
  {
   "cell_type": "code",
   "execution_count": 3,
   "metadata": {
    "slideshow": {
     "slide_type": "skip"
    }
   },
   "outputs": [],
   "source": [
    "def display_side_by_side(*args):\n",
    "    \"\"\"\n",
    "    https://stackoverflow.com/questions/38783027/jupyter-notebook-display-two-pandas-tables-side-by-side\n",
    "    \"\"\"\n",
    "    html_str='<div style=\"text-align:center;\">'\n",
    "    for df in args:\n",
    "        html_str+=df.to_html()\n",
    "    html_str+=\"</div>\"\n",
    "    display_html(html_str.replace('table','table style=\"display:inline; margin-right:23px;\"'),raw=True)"
   ]
  },
  {
   "cell_type": "code",
   "execution_count": 4,
   "metadata": {
    "slideshow": {
     "slide_type": "skip"
    }
   },
   "outputs": [],
   "source": [
    "d2018 = pd.read_csv(\"raphapinheiro_quem-le-quadrinhos-em-2018.csv\", delimiter=\",\", encoding=\"utf-8\")\n",
    "d2019 = pd.read_csv(\"raphapinheiro_quem-le-quadrinhos-em-2019.csv\", delimiter=\",\", encoding=\"utf-8\")\n",
    "d2020 = pd.read_csv(\"raphapinheiro_quem-le-quadrinhos-em-2020.csv\", delimiter=\",\", encoding=\"utf-8\")\n",
    "\n",
    "for d in [d2018, d2019, d2020]:\n",
    "    d.columns = map(str.lower, d.columns)\n",
    "    \n",
    "d2018_meta = joblib.load(\"d2018_meta.jl\")\n",
    "d2019_meta = joblib.load(\"d2019_meta.jl\")\n",
    "d2020_meta = joblib.load(\"d2020_meta.jl\")"
   ]
  },
  {
   "cell_type": "markdown",
   "metadata": {
    "slideshow": {
     "slide_type": "slide"
    }
   },
   "source": [
    "# \"Quem Lê Quadrinhos?\""
   ]
  },
  {
   "cell_type": "markdown",
   "metadata": {
    "slideshow": {
     "slide_type": "slide"
    }
   },
   "source": [
    "O objetivo desta apresentação é explorar os resultados da [\"Pesquisa de Leitores de Quadrinhos\"](https://www.raphapinheiro.com/recursos), organizada anualmente pelo quadrinista [Rapha Pinheiro](https://www.youtube.com/channel/UCyRJv_q5RTWF6MT49YG_PhA).\n",
    "\n",
    "<div style=\"border: 1px dashed #bebebe\"><img src=\"img/img0.png\" /></div>\n",
    "<br/>\n",
    "\n",
    "Não pretendo me preocupar com detalhes técnicos - como por exemplo eventuais vieses de amostragem. **O espírito aqui é o de usar algumas ideias de ciência de dados de forma intuitiva** em busca de insights complementares aos das análises mais gráficas."
   ]
  },
  {
   "cell_type": "markdown",
   "metadata": {
    "slideshow": {
     "slide_type": "slide"
    }
   },
   "source": [
    "# Tratamento de Dados"
   ]
  },
  {
   "cell_type": "markdown",
   "metadata": {
    "slideshow": {
     "slide_type": "slide"
    }
   },
   "source": [
    "## Unificando Colunas\n",
    "\n",
    "A primeira coisa que fiz foi tentar compilar os resultados de 2018-2020 em uma tabela só. \n",
    "\n",
    "A pesquisa evoluiu no tempo, perdendo algumas questões e ganhando outras. Além disso algumas perguntas ficaram mais abrangentes."
   ]
  },
  {
   "cell_type": "markdown",
   "metadata": {
    "slideshow": {
     "slide_type": "subslide"
    }
   },
   "source": [
    "Por exemplo a pergunta sobre a influência de indicação de youtubers da pesquisa de 2018 abre o leque de mídias no ano seguinte:"
   ]
  },
  {
   "cell_type": "code",
   "execution_count": 5,
   "metadata": {
    "slideshow": {
     "slide_type": "fragment"
    }
   },
   "outputs": [
    {
     "data": {
      "text/html": [
       "<div style=\"text-align:center;\"><table style=\"display:inline; margin-right:23px;\" border=\"1\" class=\"dataframe\">\n",
       "  <thead>\n",
       "    <tr style=\"text-align: right;\">\n",
       "      <th></th>\n",
       "      <th>você costuma comprar os quadrinhos indicados pelos youtubers?</th>\n",
       "    </tr>\n",
       "  </thead>\n",
       "  <tbody>\n",
       "    <tr>\n",
       "      <th>449</th>\n",
       "      <td>Sim</td>\n",
       "    </tr>\n",
       "    <tr>\n",
       "      <th>3</th>\n",
       "      <td>Não</td>\n",
       "    </tr>\n",
       "    <tr>\n",
       "      <th>1533</th>\n",
       "      <td>Sim</td>\n",
       "    </tr>\n",
       "  </tbody>\n",
       "</table style=\"display:inline; margin-right:23px;\"><table style=\"display:inline; margin-right:23px;\" border=\"1\" class=\"dataframe\">\n",
       "  <thead>\n",
       "    <tr style=\"text-align: right;\">\n",
       "      <th></th>\n",
       "      <th>você costuma comprar quadrinhos indicados por youtubers/podcasters ou figuras da mídia especializada?</th>\n",
       "    </tr>\n",
       "  </thead>\n",
       "  <tbody>\n",
       "    <tr>\n",
       "      <th>1266</th>\n",
       "      <td>Sim</td>\n",
       "    </tr>\n",
       "    <tr>\n",
       "      <th>3324</th>\n",
       "      <td>Não</td>\n",
       "    </tr>\n",
       "    <tr>\n",
       "      <th>1161</th>\n",
       "      <td>Sim</td>\n",
       "    </tr>\n",
       "  </tbody>\n",
       "</table style=\"display:inline; margin-right:23px;\"></div>"
      ]
     },
     "metadata": {},
     "output_type": "display_data"
    }
   ],
   "source": [
    "q1 = \"você costuma comprar os quadrinhos indicados pelos youtubers?\"\n",
    "q2 = \"você costuma comprar quadrinhos indicados por \" \\\n",
    "     + \"youtubers/podcasters ou figuras da mídia especializada?\"\n",
    "display_side_by_side(d2018[[q1]].sample(3), d2019[[q2]].sample(3))"
   ]
  },
  {
   "cell_type": "markdown",
   "metadata": {
    "slideshow": {
     "slide_type": "subslide"
    }
   },
   "source": [
    "Outro exemplo de necessidade de tratamento é o de perguntas conceitualmente idênticas, mas escritas de forma **quase** idênticas em diferentes pesquisas, como é o caso da questão de estado de origem:"
   ]
  },
  {
   "cell_type": "code",
   "execution_count": 6,
   "metadata": {
    "slideshow": {
     "slide_type": "fragment"
    }
   },
   "outputs": [
    {
     "data": {
      "text/html": [
       "<div style=\"text-align:center;\"><table style=\"display:inline; margin-right:23px;\" border=\"1\" class=\"dataframe\">\n",
       "  <thead>\n",
       "    <tr style=\"text-align: right;\">\n",
       "      <th></th>\n",
       "      <th>qual seu estado de origem?</th>\n",
       "    </tr>\n",
       "  </thead>\n",
       "  <tbody>\n",
       "    <tr>\n",
       "      <th>356</th>\n",
       "      <td>Panará (PR)</td>\n",
       "    </tr>\n",
       "    <tr>\n",
       "      <th>1603</th>\n",
       "      <td>São Paulo (SP)</td>\n",
       "    </tr>\n",
       "    <tr>\n",
       "      <th>368</th>\n",
       "      <td>Pernambuco (PE)</td>\n",
       "    </tr>\n",
       "  </tbody>\n",
       "</table style=\"display:inline; margin-right:23px;\"><table style=\"display:inline; margin-right:23px;\" border=\"1\" class=\"dataframe\">\n",
       "  <thead>\n",
       "    <tr style=\"text-align: right;\">\n",
       "      <th></th>\n",
       "      <th>qual o seu estado de origem?</th>\n",
       "    </tr>\n",
       "  </thead>\n",
       "  <tbody>\n",
       "    <tr>\n",
       "      <th>3183</th>\n",
       "      <td>São Paulo (SP)</td>\n",
       "    </tr>\n",
       "    <tr>\n",
       "      <th>2260</th>\n",
       "      <td>São Paulo (SP)</td>\n",
       "    </tr>\n",
       "    <tr>\n",
       "      <th>1478</th>\n",
       "      <td>São Paulo (SP)</td>\n",
       "    </tr>\n",
       "  </tbody>\n",
       "</table style=\"display:inline; margin-right:23px;\"></div>"
      ]
     },
     "metadata": {},
     "output_type": "display_data"
    }
   ],
   "source": [
    "display_side_by_side(d2018[[\"qual seu estado de origem?\"]].sample(3), \n",
    "                     d2019[[\"qual o seu estado de origem?\"]].sample(3))"
   ]
  },
  {
   "cell_type": "markdown",
   "metadata": {
    "slideshow": {
     "slide_type": "subslide"
    }
   },
   "source": [
    "Pra lidar com isso escolhi **renomear todas as colunas** de modo que perguntas parecidas sejam identificadas por um mesmo rótulo.\n",
    "\n",
    "A princípio essa é uma boa abordagem, mas tem alguns problemas incontornáveis - por exemplo como é o caso das perguntas que ficam mais abrangentes. Mas entre a união de conceitos ou não usar a informação, escolhi a união.\n",
    "\n",
    "- - -\n",
    "\n",
    "Ao longo da apresentação eu tento deixar clara a relação entre os nomes antigos e os novos, mas em todo caso, para mais detalhes sobre isso por favor consulte o notebook [\"0_tratamento.ipynb\"](https://github.com/thiagodsd/science-avec-des/blob/master/_gibi/0_tratamento.ipynb)."
   ]
  },
  {
   "cell_type": "code",
   "execution_count": 7,
   "metadata": {
    "slideshow": {
     "slide_type": "skip"
    }
   },
   "outputs": [],
   "source": [
    "d2018.columns = map(str.lower, d2018.columns)\n",
    "d2018         = d2018.rename(columns=d2018_meta)\n",
    "d2018['ano']  = 2018\n",
    "d2019.columns = map(str.lower, d2019.columns)\n",
    "d2019         = d2019.rename(columns=d2019_meta)\n",
    "d2019['ano']  = 2019\n",
    "d2020.columns = map(str.lower, d2020.columns)\n",
    "d2020         = d2020.rename(columns=d2020_meta)\n",
    "d2020['ano']  = 2020"
   ]
  },
  {
   "cell_type": "code",
   "execution_count": 8,
   "metadata": {
    "slideshow": {
     "slide_type": "skip"
    }
   },
   "outputs": [
    {
     "data": {
      "text/plain": [
       "['13-17', '18-24', '25-34', '35-44', '45-54', '55-64', '65+']"
      ]
     },
     "metadata": {},
     "output_type": "display_data"
    },
    {
     "data": {
      "text/plain": [
       "array([10., 12., 13., 14., 15., 16., 17., 18., 19., 20., 21., 22., 23.,\n",
       "       24., 25., 26., 27., 28., 29., 30., 31., 32., 33., 34., 35., 36.,\n",
       "       37., 38., 39., 40., 41., 42., 43., 44., 45., 46., 47., 48., 49.,\n",
       "       50., 51., 52., 53., 54., 55., 56., 57., 58., 59., 60., 61., 62.,\n",
       "       63., 64., 67., 68., nan, 11.])"
      ]
     },
     "metadata": {},
     "output_type": "display_data"
    },
    {
     "data": {
      "text/plain": [
       "array([15., 23., 20., 19., 21., 26., 17., 29., 24., 18., 14., 33., 16.,\n",
       "       25., 35., 40., 34., 43., 42., 22., 32., 31., 38., 27., 28., 47.,\n",
       "       52., 44., 41., 36., 48., 53., 13., 51., 46., 50., 39., 12., 59.,\n",
       "       30., 45., 37., 49., 55., 58., 62., 54., 57., 66., nan, 60.])"
      ]
     },
     "metadata": {},
     "output_type": "display_data"
    }
   ],
   "source": [
    "display( sorted(d2018['perfil_idade'].unique()) )\n",
    "display( d2019['perfil_idade'].unique() )\n",
    "display( d2020['perfil_idade'].unique() )"
   ]
  },
  {
   "cell_type": "code",
   "execution_count": 9,
   "metadata": {
    "slideshow": {
     "slide_type": "skip"
    }
   },
   "outputs": [],
   "source": [
    "d2018['perfil_idade_bin'] = d2018['perfil_idade']\n",
    "\n",
    "col  = 'perfil_idade'\n",
    "lab  = ['12-', '13-17', '18-24', '25-34', '35-44', '45-54', '55-64', '65+']\n",
    "\n",
    "cond = [\n",
    "        (d2019[col] < 13),\n",
    "        (d2019[col] >= 13) & (d2019[col] <= 17),\n",
    "        (d2019[col] >= 18) & (d2019[col] <= 24),\n",
    "        (d2019[col] >= 25) & (d2019[col] <= 34),\n",
    "        (d2019[col] >= 35) & (d2019[col] <= 44),\n",
    "        (d2019[col] >= 45) & (d2019[col] <= 54),\n",
    "        (d2019[col] >= 55) & (d2019[col] <= 64),\n",
    "        (d2019[col] >= 55)\n",
    "       ]\n",
    "d2019['perfil_idade_bin'] = np.select(cond, lab, default='None')\n",
    "\n",
    "cond = [\n",
    "        (d2020[col] < 13),\n",
    "        (d2020[col] >= 13) & (d2020[col] <= 17),\n",
    "        (d2020[col] >= 18) & (d2020[col] <= 24),\n",
    "        (d2020[col] >= 25) & (d2020[col] <= 34),\n",
    "        (d2020[col] >= 35) & (d2020[col] <= 44),\n",
    "        (d2020[col] >= 45) & (d2020[col] <= 54),\n",
    "        (d2020[col] >= 55) & (d2020[col] <= 64),\n",
    "        (d2020[col] >= 55)\n",
    "       ]\n",
    "d2020['perfil_idade_bin'] = np.select(cond, lab, default='None')"
   ]
  },
  {
   "cell_type": "code",
   "execution_count": 10,
   "metadata": {
    "slideshow": {
     "slide_type": "skip"
    }
   },
   "outputs": [],
   "source": [
    "data = pd.DataFrame(columns=set(d2018.columns.tolist() + d2019.columns.tolist() + d2020.columns.tolist()))\n",
    "data = data.append(d2018[~d2018.timestamp.isnull()])\n",
    "data = data.append(d2019[~d2019.timestamp.isnull()])\n",
    "data = data.append(d2020[~d2020.timestamp.isnull()])"
   ]
  },
  {
   "cell_type": "markdown",
   "metadata": {
    "slideshow": {
     "slide_type": "slide"
    }
   },
   "source": [
    "# Perfil"
   ]
  },
  {
   "cell_type": "code",
   "execution_count": 11,
   "metadata": {
    "slideshow": {
     "slide_type": "skip"
    }
   },
   "outputs": [
    {
     "data": {
      "text/html": [
       "<svg  width=\"220\" height=\"55\"><rect x=\"0\" y=\"0\" width=\"55\" height=\"55\" style=\"fill:#120078;stroke-width:2;stroke:rgb(255,255,255)\"/><rect x=\"55\" y=\"0\" width=\"55\" height=\"55\" style=\"fill:#9d0191;stroke-width:2;stroke:rgb(255,255,255)\"/><rect x=\"110\" y=\"0\" width=\"55\" height=\"55\" style=\"fill:#fd3a69;stroke-width:2;stroke:rgb(255,255,255)\"/><rect x=\"165\" y=\"0\" width=\"55\" height=\"55\" style=\"fill:#fecd1a;stroke-width:2;stroke:rgb(255,255,255)\"/></svg>"
      ],
      "text/plain": [
       "[(0.07058823529411765, 0.0, 0.47058823529411764),\n",
       " (0.615686274509804, 0.00392156862745098, 0.5686274509803921),\n",
       " (0.9921568627450981, 0.22745098039215686, 0.4117647058823529),\n",
       " (0.996078431372549, 0.803921568627451, 0.10196078431372549)]"
      ]
     },
     "metadata": {},
     "output_type": "display_data"
    }
   ],
   "source": [
    "paltt = [\"#120078\", \"#9d0191\", \"#fd3a69\", \"#fecd1a\"]\n",
    "sns.set_palette(sns.color_palette(paltt)) # https://colorhunt.co/palette/220041\n",
    "display( sns.color_palette() )"
   ]
  },
  {
   "cell_type": "markdown",
   "metadata": {
    "slideshow": {
     "slide_type": "skip"
    }
   },
   "source": [
    "## Idade"
   ]
  },
  {
   "cell_type": "code",
   "execution_count": 12,
   "metadata": {
    "slideshow": {
     "slide_type": "skip"
    }
   },
   "outputs": [
    {
     "data": {
      "image/png": "[encoded data removed]",
      "text/plain": [
       "<Figure size 864x432 with 2 Axes>"
      ]
     },
     "metadata": {},
     "output_type": "display_data"
    }
   ],
   "source": [
    "with plt.xkcd(randomness=0.5):\n",
    "    fig, ((ax2, ax1)) = plt.subplots(nrows=1, ncols=2, figsize=(12,6))\n",
    "    \n",
    "    data.perfil_idade_bin.value_counts().sort_index().plot(\n",
    "        kind='bar',\n",
    "        label=rf\"Total: {data.shape[0]}\",\n",
    "        ax=ax1\n",
    "    )\n",
    "    ax1.set_title('Distribuição de Faixa de Idade (2018-2020)')\n",
    "    ax1.set_xlabel('Faixa de Idade')\n",
    "    ax1.set_ylabel('Frequência Absoluta')\n",
    "    ax1.legend()\n",
    "    #\n",
    "    data[data['ano'].isin([2019,2020])].perfil_idade.astype(np.float64).plot(\n",
    "        kind='kde',\n",
    "        color=paltt[2],\n",
    "        label=rf\"Total: {data.shape[0]}\",\n",
    "        ax=ax2\n",
    "    )\n",
    "    ax2.set_title('Distribuição de Idade (2019-2020)')\n",
    "    ax2.set_xlabel('Idade')\n",
    "    ax2.set_ylabel('Frequência Relativa')\n",
    "    ax2.legend()\n",
    "    \n",
    "    plt.tight_layout()\n",
    "    plt.savefig(\"img/plot0.png\", dpi=100)"
   ]
  },
  {
   "cell_type": "markdown",
   "metadata": {
    "slideshow": {
     "slide_type": "slide"
    }
   },
   "source": [
    "## Idade\n",
    "\n",
    "Para os anos de 2019 e 2020 a idade é respondida como número - em contraste a 2018, onde é respondido como faixa de idade.\n",
    "\n",
    "A resposta como número é interessante pela possibilidade de cáculo de estatísticas mais simples como média e desvio padrão:"
   ]
  },
  {
   "cell_type": "code",
   "execution_count": 13,
   "metadata": {
    "slideshow": {
     "slide_type": "fragment"
    }
   },
   "outputs": [
    {
     "data": {
      "text/html": [
       "<div style=\"text-align:center;\"><table style=\"display:inline; margin-right:23px;\" border=\"1\" class=\"dataframe\">\n",
       "  <thead>\n",
       "    <tr style=\"text-align: right;\">\n",
       "      <th></th>\n",
       "      <th>count</th>\n",
       "      <th>mean</th>\n",
       "      <th>std</th>\n",
       "      <th>min</th>\n",
       "      <th>25%</th>\n",
       "      <th>50%</th>\n",
       "      <th>75%</th>\n",
       "      <th>max</th>\n",
       "    </tr>\n",
       "  </thead>\n",
       "  <tbody>\n",
       "    <tr>\n",
       "      <th>perfil_idade</th>\n",
       "      <td>5692.0</td>\n",
       "      <td>27.586</td>\n",
       "      <td>9.022</td>\n",
       "      <td>10.0</td>\n",
       "      <td>21.0</td>\n",
       "      <td>26.0</td>\n",
       "      <td>33.0</td>\n",
       "      <td>68.0</td>\n",
       "    </tr>\n",
       "  </tbody>\n",
       "</table style=\"display:inline; margin-right:23px;\"></div>"
      ]
     },
     "metadata": {},
     "output_type": "display_data"
    }
   ],
   "source": [
    "mask = data['ano'].isin([2019,2020])\n",
    "tab  = data[mask][['perfil_idade']].astype(np.float64)\n",
    "display_side_by_side(tab.describe().T.round(3))"
   ]
  },
  {
   "cell_type": "markdown",
   "metadata": {
    "slideshow": {
     "slide_type": "subslide"
    }
   },
   "source": [
    "Nas distribuições de idades em formato de número a gente vê o pico próximo de 20 anos, mas ao agrupar os valores de idade em faixas a concentração entre 18 e 35 anos fica mais evidente, dando a sensação de que \"jovens jovens\" e \"jovens maduros\" têm a mesma \"importância\" em termos de volume.\n",
    "\n",
    "![legenda](img/plot0.png)"
   ]
  }
 ],
 "metadata": {
  "kernelspec": {
   "display_name": "Python 3",
   "language": "python",
   "name": "python3"
  },
  "language_info": {
   "codemirror_mode": {
    "name": "ipython",
    "version": 3
   },
   "file_extension": ".py",
   "mimetype": "text/x-python",
   "name": "python",
   "nbconvert_exporter": "python",
   "pygments_lexer": "ipython3",
   "version": "3.8.5"
  }
 },
 "nbformat": 4,
 "nbformat_minor": 4
}
