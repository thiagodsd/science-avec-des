{
 "cells": [
  {
   "cell_type": "code",
   "execution_count": 1,
   "metadata": {},
   "outputs": [],
   "source": [
    "import datetime, warnings, pickle, gc, os, math, pprint, hashlib, functools\n",
    "\n",
    "import numpy  as np\n",
    "import pandas as pd\n",
    "\n",
    "%matplotlib inline\n",
    "import matplotlib.pyplot as plt\n",
    "import seaborn           as sns\n",
    "\n",
    "from IPython.display import display"
   ]
  },
  {
   "cell_type": "markdown",
   "metadata": {},
   "source": [
    "# carrega resultados"
   ]
  },
  {
   "cell_type": "code",
   "execution_count": 2,
   "metadata": {},
   "outputs": [],
   "source": [
    "d2018 = pd.read_csv(\"raphapinheiro_quem-le-quadrinhos-em-2018.csv\", delimiter=\",\", encoding=\"utf-8\")\n",
    "d2019 = pd.read_csv(\"raphapinheiro_quem-le-quadrinhos-em-2019.csv\", delimiter=\",\", encoding=\"utf-8\")\n",
    "d2020 = pd.read_csv(\"raphapinheiro_quem-le-quadrinhos-em-2020.csv\", delimiter=\",\", encoding=\"utf-8\")"
   ]
  },
  {
   "cell_type": "markdown",
   "metadata": {},
   "source": [
    "colunas"
   ]
  },
  {
   "cell_type": "code",
   "execution_count": 8,
   "metadata": {},
   "outputs": [],
   "source": [
    "\"\"\"\n",
    "for d in [d2018, d2019, d2020]:\n",
    "    d.columns = map(str.lower, d.columns)\n",
    "    print(d.shape)\n",
    "    for c in sorted(d.columns):\n",
    "        print(c)\n",
    "    print()\n",
    "\"\"\";"
   ]
  },
  {
   "cell_type": "markdown",
   "metadata": {},
   "source": [
    "# 2018"
   ]
  },
  {
   "cell_type": "code",
   "execution_count": null,
   "metadata": {},
   "outputs": [],
   "source": [
    "d2018_meta = {'perfil_idade'        : 'quantos anos você tem?',\n",
    "              'perfil_escolaridade' : 'qual seu nível de escolaridade?',\n",
    "              'perfil_estado'       : 'qual seu estado de origem?',\n",
    "              'perfil_genero'       : 'com qual gênero você se identifica?',\n",
    "              'perfil_populacao'    : 'qual o tamanho da cidade onde você mora?',\n",
    "              'perfil_renda'        : 'qual a renda média mensal da sua casa?',\n",
    "              \n",
    "              'habito_qtd_yt'       : 'quantos canais de quadrinhos você costuma acompanhar no youtube?',\n",
    "              'habito_q1_yt'        : 'você costuma concordar com esses youtubers?',\n",
    "              'habito_q2_yt'        : 'você segue algum youtuber de quem costuma discordar sempre?', \n",
    "              'habito_gastos'       : 'quanto você gasta em quadrinhos por mês?',\n",
    "              'habito_q3_yt'        : 'você costuma comprar os quadrinhos indicados pelos youtubers?',\n",
    "              'habito_q1_evento'    : 'existem eventos de quadrinhos e/ou cultura pop na sua cidade?',\n",
    "              'habito_q2_evento'    : 'você costuma frequentar esses eventos?',\n",
    "              'habito_q3_evento'    : 'você costuma frequentar eventos de quadrinhos e/ou cultura pop em outras cidades?',\n",
    "              \n",
    "              'gibi_nac'     : 'você lê quadrinhos nacionais?',\n",
    "              'gibi_eur'     : 'você lê quadrinhos europeus? (bd)',\n",
    "              'gibi_usa'     : 'você lê quadrinhos americanos? (comic)',\n",
    "              'gibi_jap'     : 'você lê quadrinhos japoneses? (mangá)'\n",
    "             }"
   ]
  },
  {
   "cell_type": "code",
   "execution_count": null,
   "metadata": {},
   "outputs": [],
   "source": [
    "d2019_meta = {'perfil_idade'        : \"quantos anos você tem?\",\n",
    "              'perfil_escolaridade' : \"qual o seu nível de escolaridade?\",\n",
    "              'perfil_estado'       : \"qual o seu estado de origem?\",\n",
    "              'perfil_genero'       : \"com qual gênero você se identifica?\",\n",
    "              'perfil_populacao'    : \"qual o tamanho da sua cidade?\",\n",
    "              'perfil_renda'        : \"qual a renda mensal da sua casa?\",\n",
    "               #\n",
    "              'prefil_prof_hq'      : \"você trabalha com quadrinhos?\",\n",
    "              \n",
    "              'habito_qtd_yt'       : \"quantas canais de quadrinhos você acompanha no youtube?\",\n",
    "              'habito_q1_yt'        : \"None\",\n",
    "              'habito_q2_yt'        : \"você acompanha algum canal de mídia especializada do qual geralmente discorde?\",\n",
    "              'habito_gastos'       : \"quanto você gasta com quadrinhos por mês?\",\n",
    "              'habito_q3_yt'        : \"você costuma comprar quadrinhos indicados por youtubers/podcasters ou figuras da mídia especializada?\",\n",
    "              'habito_q1_evento'    : \"existem eventos de quadrinho na sua cidade?\",\n",
    "              'habito_q2_evento'    : \"você frequenta eventos de quadrinho?\",\n",
    "              'habito_q3_evento'    : \"None\",\n",
    "               #\n",
    "              'habito_livro'        : \"além de quadrinhos, você também lê livros?\",\n",
    "              'habito_canal'        : \"onde você geralmente compra seus quadrinhos?\",\n",
    "              'habito_tema'         : \"por qual desses temas você mais se interessa?\",\n",
    "              'habito_livraria'     : \"você tem o costume de visitar livrarias?\",\n",
    "              'habito_abertura'     : \"o quão aberto você está para conhecer quadrinhos fora das temáticas que você está acostumado a ler?\",\n",
    "              'habito_academia'     : \"para você, qual dessas áreas de conhecimento tem mais propriedade para estudar e/ou falar de quadrinhos?\",\n",
    "              'habito_q4_evento'    : \"para você, qual é a melhor parte de um evento de quadrinhos? (mesmo que você nunca tenha ido, pode responder com um palpite)\",\n",
    "              'habito_podcast'      : \"quantos podcasts de quadrinhos você acompanha?\",\n",
    "              'habito_portal'       : \"quantos sites ou blogs de quadrinhos você acompanha?\",\n",
    "              'habito_artista'      : \"você acompanha seus artistas e autores favoritos nas redes sociais?\",\n",
    "              'habito_apoio'        : \"você apoia financeiramente algum desses canais de mídia especializada? (youtube, podcasts ou sites/blogs)\",\n",
    "              \n",
    "              'gibi_nac'     : \"você lê quadrinhos nacionais?\",\n",
    "              'gibi_eur'     : \"você lê quadrinhos europeus? (bd)\",\n",
    "              'gibi_usa'     : \"você lê quadrinhos americanos? (comics)\",\n",
    "              'gibi_jap'     : \"você lê quadrinhos japoneses? (mangá)\",\n",
    "               #\n",
    "              'gibi_scan'    : \"você lê quadrinhos por scan?\",\n",
    "              'gibi_web'     : \"você lê webcomics? (quadrinhos online)\",\n",
    "              'gibi_lang'    : \"você lê quadrinhos em outras línguas?\"\n",
    "              \n",
    "             }"
   ]
  },
  {
   "cell_type": "code",
   "execution_count": null,
   "metadata": {},
   "outputs": [],
   "source": [
    "d2020_meta = {'perfil_idade'        : \"quantos anos você tem?\",\n",
    "              'perfil_escolaridade' : \"qual o seu nível de escolaridade?\",\n",
    "              'perfil_estado'       : \"qual o seu estado de origem\",\n",
    "              'perfil_genero'       : \"com qual gênero você se identifica?\",\n",
    "              'perfil_populacao'    : \"qual o tamanho da sua cidade?\",\n",
    "              'perfil_renda'        : \"qual a renda mensal da sua casa?\",\n",
    "               #\n",
    "              'prefil_prof_hq'      : \"você trabalha com quadrinhos?\",\n",
    "              \n",
    "              'habito_qtd_yt'       : \"quantos canais de quadrinhos você acompanha no youtube?\",\n",
    "              'habito_q1_yt'        : ,\n",
    "              'habito_q2_yt'        : \"você acompanha algum canal de mídia especializada do qual geralmente discorde?\",\n",
    "              'habito_gastos'       : \"quanto você gasta com quadrinhos por mês?\",\n",
    "              'habito_q3_yt'        : \"você costuma comprar quadrinhos porque foram indicados por figuras da mídia especializada?\",\n",
    "              'habito_q1_evento'    : ,\n",
    "              'habito_q2_evento'    : \"você frequenta eventos de quadrinhos na sua cidade?\",\n",
    "              'habito_q3_evento'    : \"você frequenta eventos de quadrinho em outras cidades?\",\n",
    "               #\n",
    "              'habito_livro'        : \"além de quadrinhos, você também lê livros?\",\n",
    "              'habito_canal'        : \"onde você geralmente compra seus quadrinhos?\",\n",
    "              'habito_tema'         : \"qual dessas áreas do conhecimento mais te interessam?\",\n",
    "              'habito_livraria'     : \"você tem o costume de visitar livrarias?\",\n",
    "              'habito_abertura'     : \"o quão aberto você se considera para ler títulos com temáticas que você não está acostumado?\",\n",
    "              'habito_academia'     : \"qual dessas áreas você condidera com mais propriedade para estudar e teorizar sobre quadrinhos?\",\n",
    "              'habito_q4_evento'    : \"para você, qual é a melhor parte de um evento de quadrinhos?\", \n",
    "              'habito_podcast'      : \"quantos podcasts de quadrinhos você acompanha?\",\n",
    "              'habito_portal'       : \"quantos sites/blogs/portais de quadrinhos você acompanha?\",\n",
    "              'habito_artista'      : \"você acompanha seus artistas favoritos nas redes sociais?\",\n",
    "              'habito_apoio'        : \"você apoia financeiramente algum desses canais de mídia especializada?\",\n",
    "               # \n",
    "              'habito_papo'         : \"com quem você costuma conversar sobre quadrinhos?\",\n",
    "              'habito_produto'      : \"você costuma comprar produtos licenciados de quadrinhos?\",\n",
    "              #\n",
    "              'habito_q1_fund'      : \"você sabe o que é financiamento coletivo?\",\n",
    "              'habito_q2_fund'      : \"você já apoiou quantos projetos de financiamento coletivo?\",\n",
    "              'habito_q3_fund'      : \"você já sentiu lesado por algum autor em um financiamento coletivo?\",\n",
    "              'habito_q4_fund'      : \"se sim, isso te atrapalhou de apoiar novos projetos no futuro, mesmo que não sejam dele?\",\n",
    "              \n",
    "              \n",
    "              'gibi_nac'     : \"você lê quadrinhos nacionais?\",\n",
    "              'gibi_eur'     : \"você lê quadrinhos europeus?\",\n",
    "              'gibi_usa'     : \"você lê quadrinhos americanos?\",\n",
    "              'gibi_jap'     : \"você lê quadrinhos japoneses?\",\n",
    "               #\n",
    "              'gibi_scan'    : \"você lê quadrinhos por scan?\",\n",
    "              'gibi_web'     : \"você lê webcomics?\",\n",
    "              'gibi_lang'    : \"você lê quadrinhos em língua estrangeira?\",\n",
    "              #\n",
    "              'gibi_tira'    : 'você lê tirinhas?'\n",
    "             }"
   ]
  },
  {
   "cell_type": "code",
   "execution_count": 11,
   "metadata": {},
   "outputs": [
    {
     "data": {
      "text/plain": [
       "0                     Artes\n",
       "1                     Artes\n",
       "2                     Artes\n",
       "3          Ciências Humanas\n",
       "4           Ciências Exatas\n",
       "               ...         \n",
       "2151       Ciências Humanas\n",
       "2152                  Artes\n",
       "2153       Ciências Humanas\n",
       "2154                    NaN\n",
       "2155    Ciências Biológicas\n",
       "Name: qual dessas áreas do conhecimento mais te interessam?, Length: 2156, dtype: object"
      ]
     },
     "execution_count": 11,
     "metadata": {},
     "output_type": "execute_result"
    }
   ],
   "source": [
    "d2020['qual dessas áreas do conhecimento mais te interessam?']"
   ]
  },
  {
   "cell_type": "code",
   "execution_count": 12,
   "metadata": {},
   "outputs": [
    {
     "data": {
      "text/plain": [
       "0           Ciências Exatas\n",
       "1       Ciências Biológicas\n",
       "2                     Artes\n",
       "3          Ciências Humanas\n",
       "4                     Artes\n",
       "               ...         \n",
       "3537       Ciências Humanas\n",
       "3538                    NaN\n",
       "3539                    NaN\n",
       "3540                    NaN\n",
       "3541                    NaN\n",
       "Name: por qual desses temas você mais se interessa?, Length: 3542, dtype: object"
      ]
     },
     "execution_count": 12,
     "metadata": {},
     "output_type": "execute_result"
    }
   ],
   "source": [
    "d2019['por qual desses temas você mais se interessa?']"
   ]
  },
  {
   "cell_type": "code",
   "execution_count": 13,
   "metadata": {},
   "outputs": [
    {
     "data": {
      "text/plain": [
       "timestamp                                                                                                                        18/03/2020 11:12:57\n",
       "quantos anos você tem?                                                                                                                            15\n",
       "qual o seu estado de origem                                                                                                                    Ceará\n",
       "qual o seu nível de escolaridade?                                                                                                   Médio Incompleto\n",
       "com qual gênero você se identifica?                                                                                                        Masculino\n",
       "qual o tamanho da sua cidade?                                                                                         Mais de 1 milhão de habitantes\n",
       "qual a renda mensal da sua casa?                                                                                        Entre 1 e 3 salários mínimos\n",
       "quantos canais de quadrinhos você acompanha no youtube?                                                                                  Entre 4 e 6\n",
       "quantos podcasts de quadrinhos você acompanha?                                                                                           Entre 1 e 3\n",
       "quantos sites/blogs/portais de quadrinhos você acompanha?                                                                       Não acompanho nenhum\n",
       "você apoia financeiramente algum desses canais de mídia especializada?                                                                           Não\n",
       "você acompanha algum canal de mídia especializada do qual geralmente discorde?                                                                   Sim\n",
       "quanto você gasta com quadrinhos por mês?                                                                                         Entre R$50 e R$100\n",
       "você costuma comprar quadrinhos porque foram indicados por figuras da mídia especializada?                                                       Sim\n",
       "onde você geralmente compra seus quadrinhos?                                                                                           Pela Internet\n",
       "você lê quadrinhos por scan?                                                                       Sim, mas apenas se não encontro para comprar e...\n",
       "você tem o costume de visitar livrarias?                                                                                                         Não\n",
       "você lê quadrinhos nacionais?                                                                                                                    Sim\n",
       "você lê quadrinhos americanos?                                                                                                                   Não\n",
       "você lê quadrinhos europeus?                                                                                                                     Sim\n",
       "você lê quadrinhos japoneses?                                                                                                                    Sim\n",
       "você lê tirinhas?                                                                                                                                Sim\n",
       "você lê webcomics?                                                                                                                               Sim\n",
       "você acompanha seus artistas favoritos nas redes sociais?                                                                                        Sim\n",
       "você lê quadrinhos em língua estrangeira?                                                                                                        Não\n",
       "o quão aberto você se considera para ler títulos com temáticas que você não está acostumado?                                                       5\n",
       "você costuma comprar produtos licenciados de quadrinhos?                                                                                         Não\n",
       "com quem você costuma conversar sobre quadrinhos?                                                                         Amigos da escola/faculdade\n",
       "você frequenta eventos de quadrinhos na sua cidade?                                                                                              Não\n",
       "você frequenta eventos de quadrinho em outras cidades?                                                                                           Não\n",
       "para você, qual é a melhor parte de um evento de quadrinhos?                                       Conhecer os artistas pessoalmente e conversar ...\n",
       "você sabe o que é financiamento coletivo?                                                                                                        Sim\n",
       "você já apoiou quantos projetos de financiamento coletivo?                                                                                    Nenhum\n",
       "você já sentiu lesado por algum autor em um financiamento coletivo?                                                                              Não\n",
       "se sim, isso te atrapalhou de apoiar novos projetos no futuro, mesmo que não sejam dele?                                                         NaN\n",
       "você trabalha com quadrinhos?                                                                                                      Não, mas gostaria\n",
       "qual dessas áreas do conhecimento mais te interessam?                                                                                          Artes\n",
       "além de quadrinhos, você também lê livros?                                                                                                       Sim\n",
       "qual dessas áreas você condidera com mais propriedade para estudar e teorizar sobre quadrinhos?                                        Artes Visuais\n",
       "Name: 0, dtype: object"
      ]
     },
     "execution_count": 13,
     "metadata": {},
     "output_type": "execute_result"
    }
   ],
   "source": [
    "d2020.iloc[0]"
   ]
  },
  {
   "cell_type": "code",
   "execution_count": null,
   "metadata": {},
   "outputs": [],
   "source": []
  }
 ],
 "metadata": {
  "kernelspec": {
   "display_name": "Python 3",
   "language": "python",
   "name": "python3"
  },
  "language_info": {
   "codemirror_mode": {
    "name": "ipython",
    "version": 3
   },
   "file_extension": ".py",
   "mimetype": "text/x-python",
   "name": "python",
   "nbconvert_exporter": "python",
   "pygments_lexer": "ipython3",
   "version": "3.8.5"
  }
 },
 "nbformat": 4,
 "nbformat_minor": 4
}
