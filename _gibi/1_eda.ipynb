{
 "cells": [
  {
   "cell_type": "code",
   "execution_count": 75,
   "metadata": {
    "jupyter": {
     "source_hidden": true
    },
    "slideshow": {
     "slide_type": "skip"
    }
   },
   "outputs": [],
   "source": [
    "import datetime, warnings, pickle, gc, os, math, pprint, hashlib, functools, joblib\n",
    "\n",
    "import numpy  as np\n",
    "import pandas as pd\n",
    "\n",
    "%matplotlib inline\n",
    "import matplotlib.pyplot as plt\n",
    "import seaborn           as sns\n",
    "\n",
    "from IPython.display import display, display_html, Markdown"
   ]
  },
  {
   "cell_type": "code",
   "execution_count": 62,
   "metadata": {
    "jupyter": {
     "source_hidden": true
    },
    "slideshow": {
     "slide_type": "skip"
    }
   },
   "outputs": [],
   "source": [
    "def display_side_by_side(*args):\n",
    "    \"\"\"\n",
    "    https://stackoverflow.com/questions/38783027/jupyter-notebook-display-two-pandas-tables-side-by-side\n",
    "    \"\"\"\n",
    "    html_str='<div style=\"text-align:center;\">'\n",
    "    for df in args:\n",
    "        html_str+=df.to_html()\n",
    "    html_str+=\"</div>\"\n",
    "    display_html(html_str.replace('table','table style=\"display:inline; margin-right:23px;\"'),raw=True)"
   ]
  },
  {
   "cell_type": "markdown",
   "metadata": {
    "slideshow": {
     "slide_type": "slide"
    }
   },
   "source": [
    "# \"Quem Lê Quadrinhos?\""
   ]
  },
  {
   "cell_type": "markdown",
   "metadata": {
    "slideshow": {
     "slide_type": "slide"
    }
   },
   "source": [
    "O objetivo dessa apresentação é explorar os resultados da [\"Pesquisa de Leitores de Quadrinhos\"](https://www.raphapinheiro.com/recursos), organizada anualmente pelo quadrinista [Rapha Pinheiro](https://www.youtube.com/channel/UCyRJv_q5RTWF6MT49YG_PhA).\n",
    "\n",
    "<br/>\n",
    "\n",
    "<div style=\"border: 1px solid black\"><img src=\"img/img0.png\" /></div>"
   ]
  },
  {
   "cell_type": "markdown",
   "metadata": {
    "slideshow": {
     "slide_type": "slide"
    }
   },
   "source": [
    "# Tratamento de Dados"
   ]
  },
  {
   "cell_type": "markdown",
   "metadata": {
    "slideshow": {
     "slide_type": "slide"
    }
   },
   "source": [
    "## Unificando Colunas\n",
    "\n",
    "A primeira coisa que fiz foi tentar compular os resultados de 2018-2020 em uma tabela só. \n",
    "\n",
    "A pesquisa evoluiu no tempo, perdendo algumas questões e ganhando outras. Algumas perguntas ficaram mais abrangentes, por exemplo:"
   ]
  },
  {
   "cell_type": "code",
   "execution_count": 68,
   "metadata": {
    "jupyter": {
     "source_hidden": true
    }
   },
   "outputs": [
    {
     "data": {
      "text/html": [
       "<div style=\"text-align:center;\"><table style=\"display:inline; margin-right:23px;\" border=\"1\" class=\"dataframe\">\n",
       "  <thead>\n",
       "    <tr style=\"text-align: right;\">\n",
       "      <th></th>\n",
       "      <th>você costuma comprar os quadrinhos indicados pelos youtubers?</th>\n",
       "    </tr>\n",
       "  </thead>\n",
       "  <tbody>\n",
       "    <tr>\n",
       "      <th>237</th>\n",
       "      <td>Sim</td>\n",
       "    </tr>\n",
       "    <tr>\n",
       "      <th>1310</th>\n",
       "      <td>Sim</td>\n",
       "    </tr>\n",
       "    <tr>\n",
       "      <th>704</th>\n",
       "      <td>Sim</td>\n",
       "    </tr>\n",
       "  </tbody>\n",
       "</table style=\"display:inline; margin-right:23px;\"><table style=\"display:inline; margin-right:23px;\" border=\"1\" class=\"dataframe\">\n",
       "  <thead>\n",
       "    <tr style=\"text-align: right;\">\n",
       "      <th></th>\n",
       "      <th>você costuma comprar quadrinhos indicados por youtubers/podcasters ou figuras da mídia especializada?</th>\n",
       "    </tr>\n",
       "  </thead>\n",
       "  <tbody>\n",
       "    <tr>\n",
       "      <th>973</th>\n",
       "      <td>Não</td>\n",
       "    </tr>\n",
       "    <tr>\n",
       "      <th>2730</th>\n",
       "      <td>Sim</td>\n",
       "    </tr>\n",
       "    <tr>\n",
       "      <th>2728</th>\n",
       "      <td>Sim</td>\n",
       "    </tr>\n",
       "  </tbody>\n",
       "</table style=\"display:inline; margin-right:23px;\"></div>"
      ]
     },
     "metadata": {},
     "output_type": "display_data"
    }
   ],
   "source": [
    "q1 = \"você costuma comprar os quadrinhos indicados pelos youtubers?\"\n",
    "q2 = \"você costuma comprar quadrinhos indicados por youtubers/podcasters ou figuras da mídia especializada?\"\n",
    "display_side_by_side(d2018[[q1]].sample(3), d2019[[q2]].sample(3))"
   ]
  },
  {
   "cell_type": "markdown",
   "metadata": {},
   "source": [
    "Outras são foram feitas de formas ligeiramente diferentes em cada ediçãoSeries(my_dict,index=my_dict.keys()) da pesquisa:"
   ]
  },
  {
   "cell_type": "code",
   "execution_count": 69,
   "metadata": {
    "jupyter": {
     "source_hidden": true
    },
    "slideshow": {
     "slide_type": "fragment"
    }
   },
   "outputs": [
    {
     "data": {
      "text/html": [
       "<div style=\"text-align:center;\"><table style=\"display:inline; margin-right:23px;\" border=\"1\" class=\"dataframe\">\n",
       "  <thead>\n",
       "    <tr style=\"text-align: right;\">\n",
       "      <th></th>\n",
       "      <th>qual seu estado de origem?</th>\n",
       "    </tr>\n",
       "  </thead>\n",
       "  <tbody>\n",
       "    <tr>\n",
       "      <th>443</th>\n",
       "      <td>Minas Gerais (MG)</td>\n",
       "    </tr>\n",
       "    <tr>\n",
       "      <th>934</th>\n",
       "      <td>Rio de Janeiro (RJ)</td>\n",
       "    </tr>\n",
       "    <tr>\n",
       "      <th>1206</th>\n",
       "      <td>Rio de Janeiro (RJ)</td>\n",
       "    </tr>\n",
       "  </tbody>\n",
       "</table style=\"display:inline; margin-right:23px;\"><table style=\"display:inline; margin-right:23px;\" border=\"1\" class=\"dataframe\">\n",
       "  <thead>\n",
       "    <tr style=\"text-align: right;\">\n",
       "      <th></th>\n",
       "      <th>qual o seu estado de origem?</th>\n",
       "    </tr>\n",
       "  </thead>\n",
       "  <tbody>\n",
       "    <tr>\n",
       "      <th>3300</th>\n",
       "      <td>Pará (PA)</td>\n",
       "    </tr>\n",
       "    <tr>\n",
       "      <th>2333</th>\n",
       "      <td>Santa Catarina (SC)</td>\n",
       "    </tr>\n",
       "    <tr>\n",
       "      <th>2515</th>\n",
       "      <td>São Paulo (SP)</td>\n",
       "    </tr>\n",
       "  </tbody>\n",
       "</table style=\"display:inline; margin-right:23px;\"></div>"
      ]
     },
     "metadata": {},
     "output_type": "display_data"
    }
   ],
   "source": [
    "display_side_by_side(d2018[[\"qual seu estado de origem?\"]].sample(3), \n",
    "                     d2019[[\"qual o seu estado de origem?\"]].sample(3))"
   ]
  },
  {
   "cell_type": "markdown",
   "metadata": {
    "slideshow": {
     "slide_type": "subslide"
    }
   },
   "source": [
    "Pra lidar com isso escolhi **renomear todas as colunas** de modo que perguntas parecidas sejam identificadas por um mesmo rótulo.\n",
    "A princípio essa é uma boa abordagem, mas tem alguns problemas incontornáveis, como quando uma pergunta fica mais abrangente.\n",
    "\n",
    "Do ponto de vista de _disclaimer_, é isso.\n",
    "\n",
    "Ao longo da apresentação tento deixar clara a relação entre os nomes antigos e os novos, mas em todo caso, para mais detalhes sobre isso por favor consulte o notebook [\"0_tratamento.ipynb\"](https://github.com/thiagodsd/science-avec-des/blob/master/_gibi/0_tratamento.ipynb)."
   ]
  },
  {
   "cell_type": "code",
   "execution_count": 70,
   "metadata": {
    "jupyter": {
     "source_hidden": true
    },
    "slideshow": {
     "slide_type": "fragment"
    }
   },
   "outputs": [],
   "source": [
    "d2018_meta = joblib.load(\"d2018_meta.jl\")\n",
    "d2019_meta = joblib.load(\"d2019_meta.jl\")\n",
    "d2020_meta = joblib.load(\"d2020_meta.jl\")"
   ]
  },
  {
   "cell_type": "code",
   "execution_count": null,
   "metadata": {
    "jupyter": {
     "source_hidden": true
    }
   },
   "outputs": [],
   "source": []
  },
  {
   "cell_type": "code",
   "execution_count": null,
   "metadata": {
    "jupyter": {
     "source_hidden": true
    }
   },
   "outputs": [],
   "source": []
  },
  {
   "cell_type": "code",
   "execution_count": null,
   "metadata": {
    "jupyter": {
     "source_hidden": true
    }
   },
   "outputs": [],
   "source": []
  },
  {
   "cell_type": "code",
   "execution_count": null,
   "metadata": {
    "jupyter": {
     "source_hidden": true
    }
   },
   "outputs": [],
   "source": []
  },
  {
   "cell_type": "code",
   "execution_count": 21,
   "metadata": {
    "jupyter": {
     "source_hidden": true
    },
    "slideshow": {
     "slide_type": "fragment"
    }
   },
   "outputs": [],
   "source": [
    "d2018 = pd.read_csv(\"raphapinheiro_quem-le-quadrinhos-em-2018.csv\", delimiter=\",\", encoding=\"utf-8\")\n",
    "d2019 = pd.read_csv(\"raphapinheiro_quem-le-quadrinhos-em-2019.csv\", delimiter=\",\", encoding=\"utf-8\")\n",
    "d2020 = pd.read_csv(\"raphapinheiro_quem-le-quadrinhos-em-2020.csv\", delimiter=\",\", encoding=\"utf-8\")\n",
    "\n",
    "for d in [d2018, d2019, d2020]:\n",
    "    d.columns = map(str.lower, d.columns)"
   ]
  },
  {
   "cell_type": "code",
   "execution_count": 12,
   "metadata": {
    "jupyter": {
     "source_hidden": true
    },
    "slideshow": {
     "slide_type": "skip"
    }
   },
   "outputs": [],
   "source": [
    "d2018_meta = joblib.load(\"d2018_meta.jl\")\n",
    "d2019_meta = joblib.load(\"d2019_meta.jl\")\n",
    "d2020_meta = joblib.load(\"d2020_meta.jl\")"
   ]
  },
  {
   "cell_type": "code",
   "execution_count": 16,
   "metadata": {
    "jupyter": {
     "source_hidden": true
    },
    "slideshow": {
     "slide_type": "subslide"
    }
   },
   "outputs": [],
   "source": [
    "d2018.columns = map(str.lower, d2018.columns)\n",
    "d2018         = d2018.rename(columns=d2018_meta)\n",
    "d2019.columns = map(str.lower, d2019.columns)\n",
    "d2019         = d2019.rename(columns=d2019_meta)\n",
    "d2020.columns = map(str.lower, d2020.columns)\n",
    "d2020         = d2020.rename(columns=d2020_meta)"
   ]
  }
 ],
 "metadata": {
  "kernelspec": {
   "display_name": "Python 3",
   "language": "python",
   "name": "python3"
  },
  "language_info": {
   "codemirror_mode": {
    "name": "ipython",
    "version": 3
   },
   "file_extension": ".py",
   "mimetype": "text/x-python",
   "name": "python",
   "nbconvert_exporter": "python",
   "pygments_lexer": "ipython3",
   "version": "3.8.5"
  }
 },
 "nbformat": 4,
 "nbformat_minor": 4
}
