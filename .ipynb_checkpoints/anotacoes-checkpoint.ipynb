{
  "nbformat": 4,
  "nbformat_minor": 0,
  "metadata": {
    "colab": {
      "name": "anotacoes.ipynb",
      "provenance": [],
      "collapsed_sections": [],
      "toc_visible": true,
      "authorship_tag": "ABX9TyOIf1MbcS5hI36TOfblKEhJ",
      "include_colab_link": true
    },
    "kernelspec": {
      "name": "python3",
      "display_name": "Python 3"
    }
  },
  "cells": [
    {
      "cell_type": "markdown",
      "metadata": {
        "id": "view-in-github",
        "colab_type": "text"
      },
      "source": [
        "<a href=\"https://colab.research.google.com/github/thiagodsd/science-avec-des/blob/master/anotacoes.ipynb\" target=\"_parent\"><img src=\"https://colab.research.google.com/assets/colab-badge.svg\" alt=\"Open In Colab\"/></a>"
      ]
    },
    {
      "cell_type": "markdown",
      "metadata": {
        "id": "d4j9kBPaMe1v"
      },
      "source": [
        "# libs"
      ]
    },
    {
      "cell_type": "code",
      "metadata": {
        "id": "wtfbKyjIZ1K5"
      },
      "source": [
        "import datetime, warnings, pickle, gc, os, math, pprint, hashlib, functools\n",
        "\n",
        "import numpy  as np\n",
        "import pandas as pd\n",
        "\n",
        "%matplotlib inline\n",
        "import matplotlib.pyplot as plt\n",
        "import seaborn           as sns\n",
        "\n",
        "from IPython.display import display\n",
        "\n",
        "from google.colab import drive, files"
      ],
      "execution_count": 106,
      "outputs": []
    },
    {
      "cell_type": "code",
      "metadata": {
        "id": "8qGW9O8AaLRW",
        "outputId": "373521e1-724c-47c0-c9eb-6eec8e57cce8",
        "colab": {
          "resources": {
            "http://localhost:8080/nbextensions/google.colab/files.js": {
              "data": "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",
              "ok": true,
              "headers": [
                [
                  "content-type",
                  "application/javascript"
                ]
              ],
              "status": 200,
              "status_text": ""
            }
          },
          "base_uri": "https://localhost:8080/",
          "height": 70
        }
      },
      "source": [
        "# json = files.upload()"
      ],
      "execution_count": 2,
      "outputs": [
        {
          "output_type": "display_data",
          "data": {
            "text/html": [
              "\n",
              "     <input type=\"file\" id=\"files-142fac75-80c4-4fcc-b1f3-a2b2a1a85a0b\" name=\"files[]\" multiple disabled\n",
              "        style=\"border:none\" />\n",
              "     <output id=\"result-142fac75-80c4-4fcc-b1f3-a2b2a1a85a0b\">\n",
              "      Upload widget is only available when the cell has been executed in the\n",
              "      current browser session. Please rerun this cell to enable.\n",
              "      </output>\n",
              "      <script src=\"/nbextensions/google.colab/files.js\"></script> "
            ],
            "text/plain": [
              "<IPython.core.display.HTML object>"
            ]
          },
          "metadata": {
            "tags": []
          }
        },
        {
          "output_type": "stream",
          "text": [
            "Saving kaggle.json to kaggle.json\n"
          ],
          "name": "stdout"
        }
      ]
    },
    {
      "cell_type": "code",
      "metadata": {
        "id": "MtTISnWwkv_n",
        "outputId": "031e9980-0410-47ea-80b4-2199a7afc3c9",
        "colab": {
          "base_uri": "https://localhost:8080/"
        }
      },
      "source": [
        "# !pip install Boruta"
      ],
      "execution_count": 3,
      "outputs": [
        {
          "output_type": "stream",
          "text": [
            "Collecting Boruta\n",
            "\u001b[?25l  Downloading https://files.pythonhosted.org/packages/b2/11/583f4eac99d802c79af9217e1eff56027742a69e6c866b295cce6a5a8fc2/Boruta-0.3-py3-none-any.whl (56kB)\n",
            "\r\u001b[K     |█████▉                          | 10kB 17.1MB/s eta 0:00:01\r\u001b[K     |███████████▋                    | 20kB 21.9MB/s eta 0:00:01\r\u001b[K     |█████████████████▍              | 30kB 26.9MB/s eta 0:00:01\r\u001b[K     |███████████████████████▏        | 40kB 30.6MB/s eta 0:00:01\r\u001b[K     |█████████████████████████████   | 51kB 4.4MB/s eta 0:00:01\r\u001b[K     |████████████████████████████████| 61kB 3.2MB/s \n",
            "\u001b[?25hRequirement already satisfied: numpy>=1.10.4 in /usr/local/lib/python3.6/dist-packages (from Boruta) (1.18.5)\n",
            "Requirement already satisfied: scipy>=0.17.0 in /usr/local/lib/python3.6/dist-packages (from Boruta) (1.4.1)\n",
            "Requirement already satisfied: scikit-learn>=0.17.1 in /usr/local/lib/python3.6/dist-packages (from Boruta) (0.22.2.post1)\n",
            "Requirement already satisfied: joblib>=0.11 in /usr/local/lib/python3.6/dist-packages (from scikit-learn>=0.17.1->Boruta) (0.17.0)\n",
            "Installing collected packages: Boruta\n",
            "Successfully installed Boruta-0.3\n"
          ],
          "name": "stdout"
        }
      ]
    },
    {
      "cell_type": "code",
      "metadata": {
        "id": "zoxSA59Caa-7"
      },
      "source": [
        "# !pip install -q kaggle\n",
        "# !mkdir -p ~/.kaggle\n",
        "# !cp kaggle.json ~/.kaggle/\n",
        "# !chmod 600 ~/.kaggle/kaggle.json"
      ],
      "execution_count": 4,
      "outputs": []
    },
    {
      "cell_type": "code",
      "metadata": {
        "id": "4IuU8b9oaiew",
        "outputId": "f91796c3-5aa8-4ddb-9176-39c7a07af12b",
        "colab": {
          "base_uri": "https://localhost:8080/"
        }
      },
      "source": [
        "# !kaggle datasets download lgmoneda/cartola-fc-brasil-scouts\n",
        "# !unzip '*.zip'"
      ],
      "execution_count": 5,
      "outputs": [
        {
          "output_type": "stream",
          "text": [
            "Downloading cartola-fc-brasil-scouts.zip to /content\n",
            "\r  0% 0.00/322k [00:00<?, ?B/s]\n",
            "\r100% 322k/322k [00:00<00:00, 48.5MB/s]\n",
            "Archive:  cartola-fc-brasil-scouts.zip\n",
            "  inflating: escalacoes.csv          \n",
            "  inflating: jogadores.csv           \n",
            "  inflating: jogos.csv               \n"
          ],
          "name": "stdout"
        }
      ]
    },
    {
      "cell_type": "markdown",
      "metadata": {
        "id": "QQ8zUw6bqp_i"
      },
      "source": [
        "# tabelas"
      ]
    },
    {
      "cell_type": "code",
      "metadata": {
        "id": "GZQ2IochayJh",
        "outputId": "19c350a0-b3d6-4b2e-c970-44105f22325c",
        "colab": {
          "base_uri": "https://localhost:8080/",
          "height": 772
        }
      },
      "source": [
        "for d in ['escalacoes', 'jogadores', 'jogos']:\n",
        "  with pd.option_context('display.max_rows', 5, 'display.max_columns', None): \n",
        "      _df = pd.read_csv(rf'{d}.csv')\n",
        "      print(d)\n",
        "      display(_df)"
      ],
      "execution_count": 6,
      "outputs": [
        {
          "output_type": "stream",
          "text": [
            "escalacoes\n"
          ],
          "name": "stdout"
        },
        {
          "output_type": "display_data",
          "data": {
            "text/html": [
              "<div>\n",
              "<style scoped>\n",
              "    .dataframe tbody tr th:only-of-type {\n",
              "        vertical-align: middle;\n",
              "    }\n",
              "\n",
              "    .dataframe tbody tr th {\n",
              "        vertical-align: top;\n",
              "    }\n",
              "\n",
              "    .dataframe thead th {\n",
              "        text-align: right;\n",
              "    }\n",
              "</style>\n",
              "<table border=\"1\" class=\"dataframe\">\n",
              "  <thead>\n",
              "    <tr style=\"text-align: right;\">\n",
              "      <th></th>\n",
              "      <th>colocação</th>\n",
              "      <th>jogador</th>\n",
              "      <th>escalações</th>\n",
              "      <th>rodada</th>\n",
              "      <th>ano</th>\n",
              "    </tr>\n",
              "  </thead>\n",
              "  <tbody>\n",
              "    <tr>\n",
              "      <th>0</th>\n",
              "      <td>1</td>\n",
              "      <td>Gabriel (FLA)</td>\n",
              "      <td>3327349</td>\n",
              "      <td>1</td>\n",
              "      <td>2020</td>\n",
              "    </tr>\n",
              "    <tr>\n",
              "      <th>1</th>\n",
              "      <td>2</td>\n",
              "      <td>Pedro Geromel (GRE)</td>\n",
              "      <td>3127228</td>\n",
              "      <td>1</td>\n",
              "      <td>2020</td>\n",
              "    </tr>\n",
              "    <tr>\n",
              "      <th>...</th>\n",
              "      <td>...</td>\n",
              "      <td>...</td>\n",
              "      <td>...</td>\n",
              "      <td>...</td>\n",
              "      <td>...</td>\n",
              "    </tr>\n",
              "    <tr>\n",
              "      <th>1118</th>\n",
              "      <td>19</td>\n",
              "      <td>Guarín (VAS)</td>\n",
              "      <td>557526</td>\n",
              "      <td>38</td>\n",
              "      <td>2019</td>\n",
              "    </tr>\n",
              "    <tr>\n",
              "      <th>1119</th>\n",
              "      <td>20</td>\n",
              "      <td>Jorge Jesus (FLA)</td>\n",
              "      <td>524641</td>\n",
              "      <td>38</td>\n",
              "      <td>2019</td>\n",
              "    </tr>\n",
              "  </tbody>\n",
              "</table>\n",
              "<p>1120 rows × 5 columns</p>\n",
              "</div>"
            ],
            "text/plain": [
              "      colocação              jogador  escalações  rodada   ano\n",
              "0             1        Gabriel (FLA)     3327349       1  2020\n",
              "1             2  Pedro Geromel (GRE)     3127228       1  2020\n",
              "...         ...                  ...         ...     ...   ...\n",
              "1118         19         Guarín (VAS)      557526      38  2019\n",
              "1119         20    Jorge Jesus (FLA)      524641      38  2019\n",
              "\n",
              "[1120 rows x 5 columns]"
            ]
          },
          "metadata": {
            "tags": []
          }
        },
        {
          "output_type": "stream",
          "text": [
            "jogadores\n"
          ],
          "name": "stdout"
        },
        {
          "output_type": "display_data",
          "data": {
            "text/html": [
              "<div>\n",
              "<style scoped>\n",
              "    .dataframe tbody tr th:only-of-type {\n",
              "        vertical-align: middle;\n",
              "    }\n",
              "\n",
              "    .dataframe tbody tr th {\n",
              "        vertical-align: top;\n",
              "    }\n",
              "\n",
              "    .dataframe thead th {\n",
              "        text-align: right;\n",
              "    }\n",
              "</style>\n",
              "<table border=\"1\" class=\"dataframe\">\n",
              "  <thead>\n",
              "    <tr style=\"text-align: right;\">\n",
              "      <th></th>\n",
              "      <th>Nome</th>\n",
              "      <th>Clube</th>\n",
              "      <th>Preço</th>\n",
              "      <th>J</th>\n",
              "      <th>Média</th>\n",
              "      <th>Últ. Pont.</th>\n",
              "      <th>Variação</th>\n",
              "      <th>DS</th>\n",
              "      <th>G</th>\n",
              "      <th>A</th>\n",
              "      <th>SG</th>\n",
              "      <th>FS</th>\n",
              "      <th>FF</th>\n",
              "      <th>FD</th>\n",
              "      <th>FT</th>\n",
              "      <th>DD</th>\n",
              "      <th>DP</th>\n",
              "      <th>GC</th>\n",
              "      <th>CV</th>\n",
              "      <th>CA</th>\n",
              "      <th>PP</th>\n",
              "      <th>GS</th>\n",
              "      <th>FC</th>\n",
              "      <th>I</th>\n",
              "      <th>PI</th>\n",
              "      <th>rodada</th>\n",
              "      <th>ano</th>\n",
              "      <th>RB</th>\n",
              "      <th>PE</th>\n",
              "    </tr>\n",
              "  </thead>\n",
              "  <tbody>\n",
              "    <tr>\n",
              "      <th>0</th>\n",
              "      <td>Elton (ATA)</td>\n",
              "      <td>Sport</td>\n",
              "      <td>14.21</td>\n",
              "      <td>1</td>\n",
              "      <td>15.60</td>\n",
              "      <td>15.6</td>\n",
              "      <td>10.21</td>\n",
              "      <td>NaN</td>\n",
              "      <td>2.0</td>\n",
              "      <td>NaN</td>\n",
              "      <td>NaN</td>\n",
              "      <td>NaN</td>\n",
              "      <td>NaN</td>\n",
              "      <td>NaN</td>\n",
              "      <td>1.0</td>\n",
              "      <td>NaN</td>\n",
              "      <td>NaN</td>\n",
              "      <td>NaN</td>\n",
              "      <td>NaN</td>\n",
              "      <td>1.0</td>\n",
              "      <td>NaN</td>\n",
              "      <td>NaN</td>\n",
              "      <td>1.0</td>\n",
              "      <td>1.0</td>\n",
              "      <td>4.0</td>\n",
              "      <td>1</td>\n",
              "      <td>2020</td>\n",
              "      <td>NaN</td>\n",
              "      <td>NaN</td>\n",
              "    </tr>\n",
              "    <tr>\n",
              "      <th>1</th>\n",
              "      <td>Saravia (LAT)</td>\n",
              "      <td>Internacional</td>\n",
              "      <td>13.19</td>\n",
              "      <td>1</td>\n",
              "      <td>12.20</td>\n",
              "      <td>12.2</td>\n",
              "      <td>7.19</td>\n",
              "      <td>8.0</td>\n",
              "      <td>NaN</td>\n",
              "      <td>NaN</td>\n",
              "      <td>1.0</td>\n",
              "      <td>3.0</td>\n",
              "      <td>1.0</td>\n",
              "      <td>1.0</td>\n",
              "      <td>NaN</td>\n",
              "      <td>NaN</td>\n",
              "      <td>NaN</td>\n",
              "      <td>NaN</td>\n",
              "      <td>NaN</td>\n",
              "      <td>1.0</td>\n",
              "      <td>NaN</td>\n",
              "      <td>NaN</td>\n",
              "      <td>3.0</td>\n",
              "      <td>NaN</td>\n",
              "      <td>8.0</td>\n",
              "      <td>1</td>\n",
              "      <td>2020</td>\n",
              "      <td>NaN</td>\n",
              "      <td>NaN</td>\n",
              "    </tr>\n",
              "    <tr>\n",
              "      <th>...</th>\n",
              "      <td>...</td>\n",
              "      <td>...</td>\n",
              "      <td>...</td>\n",
              "      <td>...</td>\n",
              "      <td>...</td>\n",
              "      <td>...</td>\n",
              "      <td>...</td>\n",
              "      <td>...</td>\n",
              "      <td>...</td>\n",
              "      <td>...</td>\n",
              "      <td>...</td>\n",
              "      <td>...</td>\n",
              "      <td>...</td>\n",
              "      <td>...</td>\n",
              "      <td>...</td>\n",
              "      <td>...</td>\n",
              "      <td>...</td>\n",
              "      <td>...</td>\n",
              "      <td>...</td>\n",
              "      <td>...</td>\n",
              "      <td>...</td>\n",
              "      <td>...</td>\n",
              "      <td>...</td>\n",
              "      <td>...</td>\n",
              "      <td>...</td>\n",
              "      <td>...</td>\n",
              "      <td>...</td>\n",
              "      <td>...</td>\n",
              "      <td>...</td>\n",
              "    </tr>\n",
              "    <tr>\n",
              "      <th>12294</th>\n",
              "      <td>Wesley (MEI)</td>\n",
              "      <td>Avaí</td>\n",
              "      <td>1.69</td>\n",
              "      <td>10</td>\n",
              "      <td>-0.51</td>\n",
              "      <td>2.9</td>\n",
              "      <td>0.41</td>\n",
              "      <td>NaN</td>\n",
              "      <td>NaN</td>\n",
              "      <td>NaN</td>\n",
              "      <td>NaN</td>\n",
              "      <td>3.0</td>\n",
              "      <td>3.0</td>\n",
              "      <td>NaN</td>\n",
              "      <td>NaN</td>\n",
              "      <td>NaN</td>\n",
              "      <td>NaN</td>\n",
              "      <td>NaN</td>\n",
              "      <td>1.0</td>\n",
              "      <td>2.0</td>\n",
              "      <td>NaN</td>\n",
              "      <td>NaN</td>\n",
              "      <td>11.0</td>\n",
              "      <td>1.0</td>\n",
              "      <td>NaN</td>\n",
              "      <td>38</td>\n",
              "      <td>2019</td>\n",
              "      <td>7.0</td>\n",
              "      <td>15.0</td>\n",
              "    </tr>\n",
              "    <tr>\n",
              "      <th>12295</th>\n",
              "      <td>Phelipe (GOL)</td>\n",
              "      <td>Grêmio</td>\n",
              "      <td>0.78</td>\n",
              "      <td>2</td>\n",
              "      <td>-0.65</td>\n",
              "      <td>-3.3</td>\n",
              "      <td>-0.43</td>\n",
              "      <td>NaN</td>\n",
              "      <td>NaN</td>\n",
              "      <td>NaN</td>\n",
              "      <td>NaN</td>\n",
              "      <td>NaN</td>\n",
              "      <td>NaN</td>\n",
              "      <td>NaN</td>\n",
              "      <td>NaN</td>\n",
              "      <td>3.0</td>\n",
              "      <td>NaN</td>\n",
              "      <td>NaN</td>\n",
              "      <td>NaN</td>\n",
              "      <td>NaN</td>\n",
              "      <td>NaN</td>\n",
              "      <td>5.0</td>\n",
              "      <td>NaN</td>\n",
              "      <td>NaN</td>\n",
              "      <td>NaN</td>\n",
              "      <td>38</td>\n",
              "      <td>2019</td>\n",
              "      <td>NaN</td>\n",
              "      <td>1.0</td>\n",
              "    </tr>\n",
              "  </tbody>\n",
              "</table>\n",
              "<p>12296 rows × 29 columns</p>\n",
              "</div>"
            ],
            "text/plain": [
              "                Nome          Clube  Preço   J  Média  Últ. Pont.  Variação  \\\n",
              "0        Elton (ATA)          Sport  14.21   1  15.60        15.6     10.21   \n",
              "1      Saravia (LAT)  Internacional  13.19   1  12.20        12.2      7.19   \n",
              "...              ...            ...    ...  ..    ...         ...       ...   \n",
              "12294   Wesley (MEI)           Avaí   1.69  10  -0.51         2.9      0.41   \n",
              "12295  Phelipe (GOL)         Grêmio   0.78   2  -0.65        -3.3     -0.43   \n",
              "\n",
              "        DS    G   A   SG   FS   FF   FD   FT   DD  DP  GC   CV   CA  PP   GS  \\\n",
              "0      NaN  2.0 NaN  NaN  NaN  NaN  NaN  1.0  NaN NaN NaN  NaN  1.0 NaN  NaN   \n",
              "1      8.0  NaN NaN  1.0  3.0  1.0  1.0  NaN  NaN NaN NaN  NaN  1.0 NaN  NaN   \n",
              "...    ...  ...  ..  ...  ...  ...  ...  ...  ...  ..  ..  ...  ...  ..  ...   \n",
              "12294  NaN  NaN NaN  NaN  3.0  3.0  NaN  NaN  NaN NaN NaN  1.0  2.0 NaN  NaN   \n",
              "12295  NaN  NaN NaN  NaN  NaN  NaN  NaN  NaN  3.0 NaN NaN  NaN  NaN NaN  5.0   \n",
              "\n",
              "         FC    I   PI  rodada   ano   RB    PE  \n",
              "0       1.0  1.0  4.0       1  2020  NaN   NaN  \n",
              "1       3.0  NaN  8.0       1  2020  NaN   NaN  \n",
              "...     ...  ...  ...     ...   ...  ...   ...  \n",
              "12294  11.0  1.0  NaN      38  2019  7.0  15.0  \n",
              "12295   NaN  NaN  NaN      38  2019  NaN   1.0  \n",
              "\n",
              "[12296 rows x 29 columns]"
            ]
          },
          "metadata": {
            "tags": []
          }
        },
        {
          "output_type": "stream",
          "text": [
            "jogos\n"
          ],
          "name": "stdout"
        },
        {
          "output_type": "display_data",
          "data": {
            "text/html": [
              "<div>\n",
              "<style scoped>\n",
              "    .dataframe tbody tr th:only-of-type {\n",
              "        vertical-align: middle;\n",
              "    }\n",
              "\n",
              "    .dataframe tbody tr th {\n",
              "        vertical-align: top;\n",
              "    }\n",
              "\n",
              "    .dataframe thead th {\n",
              "        text-align: right;\n",
              "    }\n",
              "</style>\n",
              "<table border=\"1\" class=\"dataframe\">\n",
              "  <thead>\n",
              "    <tr style=\"text-align: right;\">\n",
              "      <th></th>\n",
              "      <th>mandante</th>\n",
              "      <th>visitante</th>\n",
              "      <th>placar_mandante</th>\n",
              "      <th>placar_visitante</th>\n",
              "      <th>data</th>\n",
              "      <th>local</th>\n",
              "      <th>rodada</th>\n",
              "      <th>ano</th>\n",
              "    </tr>\n",
              "  </thead>\n",
              "  <tbody>\n",
              "    <tr>\n",
              "      <th>0</th>\n",
              "      <td>Fortaleza</td>\n",
              "      <td>Athlético-PR</td>\n",
              "      <td>0.0</td>\n",
              "      <td>2.0</td>\n",
              "      <td>SÁB, 08/08 19:00</td>\n",
              "      <td>Castelão (CE)</td>\n",
              "      <td>1</td>\n",
              "      <td>2020</td>\n",
              "    </tr>\n",
              "    <tr>\n",
              "      <th>1</th>\n",
              "      <td>Coritiba</td>\n",
              "      <td>Internacional</td>\n",
              "      <td>0.0</td>\n",
              "      <td>1.0</td>\n",
              "      <td>SÁB, 08/08 19:30</td>\n",
              "      <td>Couto Pereira</td>\n",
              "      <td>1</td>\n",
              "      <td>2020</td>\n",
              "    </tr>\n",
              "    <tr>\n",
              "      <th>...</th>\n",
              "      <td>...</td>\n",
              "      <td>...</td>\n",
              "      <td>...</td>\n",
              "      <td>...</td>\n",
              "      <td>...</td>\n",
              "      <td>...</td>\n",
              "      <td>...</td>\n",
              "      <td>...</td>\n",
              "    </tr>\n",
              "    <tr>\n",
              "      <th>558</th>\n",
              "      <td>Goiás</td>\n",
              "      <td>Grêmio</td>\n",
              "      <td>3.0</td>\n",
              "      <td>2.0</td>\n",
              "      <td>DOM, 08/12 16:00</td>\n",
              "      <td>Serra Dourada</td>\n",
              "      <td>38</td>\n",
              "      <td>2019</td>\n",
              "    </tr>\n",
              "    <tr>\n",
              "      <th>559</th>\n",
              "      <td>CSA</td>\n",
              "      <td>São Paulo</td>\n",
              "      <td>1.0</td>\n",
              "      <td>2.0</td>\n",
              "      <td>DOM, 08/12 16:00</td>\n",
              "      <td>Rei Pelé</td>\n",
              "      <td>38</td>\n",
              "      <td>2019</td>\n",
              "    </tr>\n",
              "  </tbody>\n",
              "</table>\n",
              "<p>560 rows × 8 columns</p>\n",
              "</div>"
            ],
            "text/plain": [
              "      mandante      visitante  placar_mandante  placar_visitante  \\\n",
              "0    Fortaleza   Athlético-PR              0.0               2.0   \n",
              "1     Coritiba  Internacional              0.0               1.0   \n",
              "..         ...            ...              ...               ...   \n",
              "558      Goiás         Grêmio              3.0               2.0   \n",
              "559        CSA      São Paulo              1.0               2.0   \n",
              "\n",
              "                 data          local  rodada   ano  \n",
              "0    SÁB, 08/08 19:00  Castelão (CE)       1  2020  \n",
              "1    SÁB, 08/08 19:30  Couto Pereira       1  2020  \n",
              "..                ...            ...     ...   ...  \n",
              "558  DOM, 08/12 16:00  Serra Dourada      38  2019  \n",
              "559  DOM, 08/12 16:00       Rei Pelé      38  2019  \n",
              "\n",
              "[560 rows x 8 columns]"
            ]
          },
          "metadata": {
            "tags": []
          }
        }
      ]
    },
    {
      "cell_type": "code",
      "metadata": {
        "id": "-NHYikrmcfYH",
        "outputId": "5573f156-0c92-4810-9006-609d825f5399",
        "colab": {
          "base_uri": "https://localhost:8080/",
          "height": 391
        }
      },
      "source": [
        "df = pd.read_csv('jogadores.csv')\n",
        "\n",
        "# df = df[df['ano'].isin([2020])]\n",
        "df = df[df['rodada']>7]\n",
        "\n",
        "df['id']  = df['Nome'].apply( lambda x: hashlib.sha1(str.encode(x)).hexdigest() )\n",
        "df['pos'] = df['Nome'].apply( lambda x: x.split('(')[-1].split(')')[0].strip() )\n",
        "\n",
        "df[['Nome', 'id', 'pos']]"
      ],
      "execution_count": 7,
      "outputs": [
        {
          "output_type": "execute_result",
          "data": {
            "text/html": [
              "<div>\n",
              "<style scoped>\n",
              "    .dataframe tbody tr th:only-of-type {\n",
              "        vertical-align: middle;\n",
              "    }\n",
              "\n",
              "    .dataframe tbody tr th {\n",
              "        vertical-align: top;\n",
              "    }\n",
              "\n",
              "    .dataframe thead th {\n",
              "        text-align: right;\n",
              "    }\n",
              "</style>\n",
              "<table border=\"1\" class=\"dataframe\">\n",
              "  <thead>\n",
              "    <tr style=\"text-align: right;\">\n",
              "      <th></th>\n",
              "      <th>Nome</th>\n",
              "      <th>id</th>\n",
              "      <th>pos</th>\n",
              "    </tr>\n",
              "  </thead>\n",
              "  <tbody>\n",
              "    <tr>\n",
              "      <th>1544</th>\n",
              "      <td>Marinho (ATA)</td>\n",
              "      <td>79471fa35f3143ed842e45095f0f50314476b2a9</td>\n",
              "      <td>ATA</td>\n",
              "    </tr>\n",
              "    <tr>\n",
              "      <th>1545</th>\n",
              "      <td>Thiago Galhardo (MEI)</td>\n",
              "      <td>d7cf1f1ebda261e1c21956a488ece0e62e519435</td>\n",
              "      <td>MEI</td>\n",
              "    </tr>\n",
              "    <tr>\n",
              "      <th>1546</th>\n",
              "      <td>Saravia (LAT)</td>\n",
              "      <td>09a1951987d2f8dd0c99f3faad7d03d07af8873d</td>\n",
              "      <td>LAT</td>\n",
              "    </tr>\n",
              "    <tr>\n",
              "      <th>1547</th>\n",
              "      <td>João Paulo (GOL)</td>\n",
              "      <td>eecc56b868165d01bf2a7db97c41e2ed358e2e6b</td>\n",
              "      <td>GOL</td>\n",
              "    </tr>\n",
              "    <tr>\n",
              "      <th>1548</th>\n",
              "      <td>Arrascaeta (MEI)</td>\n",
              "      <td>a0fce35353de77b52ad41ac388bf917a1cae2b77</td>\n",
              "      <td>MEI</td>\n",
              "    </tr>\n",
              "    <tr>\n",
              "      <th>...</th>\n",
              "      <td>...</td>\n",
              "      <td>...</td>\n",
              "      <td>...</td>\n",
              "    </tr>\n",
              "    <tr>\n",
              "      <th>12291</th>\n",
              "      <td>Lucas Hernández (LAT)</td>\n",
              "      <td>14f33434489bd23622b395e431e4661597182291</td>\n",
              "      <td>LAT</td>\n",
              "    </tr>\n",
              "    <tr>\n",
              "      <th>12292</th>\n",
              "      <td>Luccas Claro (ZAG)</td>\n",
              "      <td>dc087e601838e0fcb99b470960ae8ec1a254c9e4</td>\n",
              "      <td>ZAG</td>\n",
              "    </tr>\n",
              "    <tr>\n",
              "      <th>12293</th>\n",
              "      <td>Helinho (ATA)</td>\n",
              "      <td>5312766b3b17ef133c535874609315240162e5e0</td>\n",
              "      <td>ATA</td>\n",
              "    </tr>\n",
              "    <tr>\n",
              "      <th>12294</th>\n",
              "      <td>Wesley (MEI)</td>\n",
              "      <td>a54d28bd16bab84b30ecead11c1ce39402aa49c6</td>\n",
              "      <td>MEI</td>\n",
              "    </tr>\n",
              "    <tr>\n",
              "      <th>12295</th>\n",
              "      <td>Phelipe (GOL)</td>\n",
              "      <td>e0f16b9dbb1a7466d51aa935c3cd8422dd7e3fcb</td>\n",
              "      <td>GOL</td>\n",
              "    </tr>\n",
              "  </tbody>\n",
              "</table>\n",
              "<p>9219 rows × 3 columns</p>\n",
              "</div>"
            ],
            "text/plain": [
              "                        Nome                                        id  pos\n",
              "1544           Marinho (ATA)  79471fa35f3143ed842e45095f0f50314476b2a9  ATA\n",
              "1545   Thiago Galhardo (MEI)  d7cf1f1ebda261e1c21956a488ece0e62e519435  MEI\n",
              "1546           Saravia (LAT)  09a1951987d2f8dd0c99f3faad7d03d07af8873d  LAT\n",
              "1547        João Paulo (GOL)  eecc56b868165d01bf2a7db97c41e2ed358e2e6b  GOL\n",
              "1548        Arrascaeta (MEI)  a0fce35353de77b52ad41ac388bf917a1cae2b77  MEI\n",
              "...                      ...                                       ...  ...\n",
              "12291  Lucas Hernández (LAT)  14f33434489bd23622b395e431e4661597182291  LAT\n",
              "12292     Luccas Claro (ZAG)  dc087e601838e0fcb99b470960ae8ec1a254c9e4  ZAG\n",
              "12293          Helinho (ATA)  5312766b3b17ef133c535874609315240162e5e0  ATA\n",
              "12294           Wesley (MEI)  a54d28bd16bab84b30ecead11c1ce39402aa49c6  MEI\n",
              "12295          Phelipe (GOL)  e0f16b9dbb1a7466d51aa935c3cd8422dd7e3fcb  GOL\n",
              "\n",
              "[9219 rows x 3 columns]"
            ]
          },
          "metadata": {
            "tags": []
          },
          "execution_count": 7
        }
      ]
    },
    {
      "cell_type": "code",
      "metadata": {
        "id": "Sc-iqzVthwXl",
        "outputId": "3b5a767f-3545-4529-ecfb-fc7687d05137",
        "colab": {
          "base_uri": "https://localhost:8080/"
        }
      },
      "source": [
        "df.iloc[-51]"
      ],
      "execution_count": 8,
      "outputs": [
        {
          "output_type": "execute_result",
          "data": {
            "text/plain": [
              "Nome                                         Léo (ZAG)\n",
              "Clube                                         Cruzeiro\n",
              "Preço                                             6.09\n",
              "J                                                   18\n",
              "Média                                             1.78\n",
              "Últ. Pont.                                         1.5\n",
              "Variação                                         -0.42\n",
              "DS                                                 NaN\n",
              "G                                                  NaN\n",
              "A                                                  NaN\n",
              "SG                                                   3\n",
              "FS                                                   6\n",
              "FF                                                   1\n",
              "FD                                                   1\n",
              "FT                                                 NaN\n",
              "DD                                                 NaN\n",
              "DP                                                 NaN\n",
              "GC                                                 NaN\n",
              "CV                                                 NaN\n",
              "CA                                                   1\n",
              "PP                                                 NaN\n",
              "GS                                                 NaN\n",
              "FC                                                  21\n",
              "I                                                  NaN\n",
              "PI                                                 NaN\n",
              "rodada                                              38\n",
              "ano                                               2019\n",
              "RB                                                  20\n",
              "PE                                                  18\n",
              "id            8714b127602f983a2f9799e816ca301ba945ce3c\n",
              "pos                                                ZAG\n",
              "Name: 12245, dtype: object"
            ]
          },
          "metadata": {
            "tags": []
          },
          "execution_count": 8
        }
      ]
    },
    {
      "cell_type": "markdown",
      "metadata": {
        "id": "Tkl61Oyeq3a5"
      },
      "source": [
        "# modelos"
      ]
    },
    {
      "cell_type": "code",
      "metadata": {
        "id": "Peq5ZONphH4C"
      },
      "source": [
        "from sklearn.model_selection import train_test_split\n",
        "from sklearn.preprocessing   import normalize, StandardScaler\n",
        "from sklearn.metrics         import classification_report, roc_curve, auc,accuracy_score, confusion_matrix, f1_score, fbeta_score\n",
        "from sklearn.calibration     import CalibratedClassifierCV, calibration_curve\n",
        "from boruta                  import BorutaPy\n",
        "\n",
        "from sklearn.linear_model import LogisticRegression\n",
        "from sklearn.ensemble     import RandomForestClassifier\n",
        "import lightgbm as lgb         "
      ],
      "execution_count": 100,
      "outputs": []
    },
    {
      "cell_type": "markdown",
      "metadata": {
        "id": "9dvf_AQvq49-"
      },
      "source": [
        "## regressão logística binária"
      ]
    },
    {
      "cell_type": "code",
      "metadata": {
        "id": "puteLgglhjKa"
      },
      "source": [
        "train_x = df[['Preço', 'Média','Variação','DS','G','A','SG','FS','FF','FD','FT','DD','DP','GC','CV','CA','PP','GS','FC','I','PI','RB','PE']].fillna(0.0)\n",
        "train_y = np.where(df['pos']=='ATA', True, False)\n",
        "\n",
        "_cols = train_x.columns.to_list()\n",
        "# train_x = pd.DataFrame(StandardScaler().fit_transform(train_x[_cols]), columns=_cols)\n",
        "train_x = pd.DataFrame(normalize(train_x[_cols]), columns=_cols)"
      ],
      "execution_count": 35,
      "outputs": []
    },
    {
      "cell_type": "code",
      "metadata": {
        "id": "5WZ7n0QEeP1K"
      },
      "source": [
        "X_train, X_holdout, y_train, y_holdout = train_test_split(train_x, train_y, test_size = 0.2, random_state = 37)"
      ],
      "execution_count": 36,
      "outputs": []
    },
    {
      "cell_type": "code",
      "metadata": {
        "id": "vtqR6A3FkQR5",
        "outputId": "6dd4601b-231c-4d66-e1de-8de0f2679299",
        "colab": {
          "base_uri": "https://localhost:8080/"
        }
      },
      "source": [
        "rf = RandomForestClassifier(n_jobs=-1, class_weight='balanced', max_depth=5)\n",
        "feat_selector = BorutaPy(rf, n_estimators='auto', verbose=1, random_state=1, max_iter=23)\n",
        "\n",
        "feat_selector.fit(X_train.values, y_train)"
      ],
      "execution_count": 37,
      "outputs": [
        {
          "output_type": "stream",
          "text": [
            "Iteration: 1 / 23\n",
            "Iteration: 2 / 23\n",
            "Iteration: 3 / 23\n",
            "Iteration: 4 / 23\n",
            "Iteration: 5 / 23\n",
            "Iteration: 6 / 23\n",
            "Iteration: 7 / 23\n",
            "Iteration: 8 / 23\n",
            "Iteration: 9 / 23\n",
            "Iteration: 10 / 23\n",
            "Iteration: 11 / 23\n",
            "Iteration: 12 / 23\n",
            "Iteration: 13 / 23\n",
            "Iteration: 14 / 23\n",
            "Iteration: 15 / 23\n",
            "Iteration: 16 / 23\n",
            "Iteration: 17 / 23\n",
            "Iteration: 18 / 23\n",
            "Iteration: 19 / 23\n",
            "Iteration: 20 / 23\n",
            "Iteration: 21 / 23\n",
            "Iteration: 22 / 23\n",
            "\n",
            "\n",
            "BorutaPy finished running.\n",
            "\n",
            "Iteration: \t23 / 23\n",
            "Confirmed: \t21\n",
            "Tentative: \t0\n",
            "Rejected: \t1\n"
          ],
          "name": "stdout"
        },
        {
          "output_type": "execute_result",
          "data": {
            "text/plain": [
              "BorutaPy(alpha=0.05,\n",
              "         estimator=RandomForestClassifier(bootstrap=True, ccp_alpha=0.0,\n",
              "                                          class_weight='balanced',\n",
              "                                          criterion='gini', max_depth=5,\n",
              "                                          max_features='auto',\n",
              "                                          max_leaf_nodes=None, max_samples=None,\n",
              "                                          min_impurity_decrease=0.0,\n",
              "                                          min_impurity_split=None,\n",
              "                                          min_samples_leaf=1,\n",
              "                                          min_samples_split=2,\n",
              "                                          min_weight_fraction_leaf=0.0,\n",
              "                                          n_estimators=132, n_jobs=-1,\n",
              "                                          oob_score=False,\n",
              "                                          random_state=RandomState(MT19937) at 0x7F029538D570,\n",
              "                                          verbose=0, warm_start=False),\n",
              "         max_iter=23, n_estimators='auto', perc=100,\n",
              "         random_state=RandomState(MT19937) at 0x7F029538D570, two_step=True,\n",
              "         verbose=1)"
            ]
          },
          "metadata": {
            "tags": []
          },
          "execution_count": 37
        }
      ]
    },
    {
      "cell_type": "code",
      "metadata": {
        "id": "3ys6d0e4mae0",
        "outputId": "82069a16-d8be-4dbe-b744-668360bc0d61",
        "colab": {
          "base_uri": "https://localhost:8080/",
          "height": 105
        }
      },
      "source": [
        "pd.concat( [X_train.columns.to_frame().reset_index()['index'], pd.DataFrame(feat_selector.ranking_)], axis=1).T"
      ],
      "execution_count": 38,
      "outputs": [
        {
          "output_type": "execute_result",
          "data": {
            "text/html": [
              "<div>\n",
              "<style scoped>\n",
              "    .dataframe tbody tr th:only-of-type {\n",
              "        vertical-align: middle;\n",
              "    }\n",
              "\n",
              "    .dataframe tbody tr th {\n",
              "        vertical-align: top;\n",
              "    }\n",
              "\n",
              "    .dataframe thead th {\n",
              "        text-align: right;\n",
              "    }\n",
              "</style>\n",
              "<table border=\"1\" class=\"dataframe\">\n",
              "  <thead>\n",
              "    <tr style=\"text-align: right;\">\n",
              "      <th></th>\n",
              "      <th>0</th>\n",
              "      <th>1</th>\n",
              "      <th>2</th>\n",
              "      <th>3</th>\n",
              "      <th>4</th>\n",
              "      <th>5</th>\n",
              "      <th>6</th>\n",
              "      <th>7</th>\n",
              "      <th>8</th>\n",
              "      <th>9</th>\n",
              "      <th>10</th>\n",
              "      <th>11</th>\n",
              "      <th>12</th>\n",
              "      <th>13</th>\n",
              "      <th>14</th>\n",
              "      <th>15</th>\n",
              "      <th>16</th>\n",
              "      <th>17</th>\n",
              "      <th>18</th>\n",
              "      <th>19</th>\n",
              "      <th>20</th>\n",
              "      <th>21</th>\n",
              "      <th>22</th>\n",
              "    </tr>\n",
              "  </thead>\n",
              "  <tbody>\n",
              "    <tr>\n",
              "      <th>index</th>\n",
              "      <td>Preço</td>\n",
              "      <td>Média</td>\n",
              "      <td>Variação</td>\n",
              "      <td>DS</td>\n",
              "      <td>G</td>\n",
              "      <td>A</td>\n",
              "      <td>SG</td>\n",
              "      <td>FS</td>\n",
              "      <td>FF</td>\n",
              "      <td>FD</td>\n",
              "      <td>FT</td>\n",
              "      <td>DD</td>\n",
              "      <td>DP</td>\n",
              "      <td>GC</td>\n",
              "      <td>CV</td>\n",
              "      <td>CA</td>\n",
              "      <td>PP</td>\n",
              "      <td>GS</td>\n",
              "      <td>FC</td>\n",
              "      <td>I</td>\n",
              "      <td>PI</td>\n",
              "      <td>RB</td>\n",
              "      <td>PE</td>\n",
              "    </tr>\n",
              "    <tr>\n",
              "      <th>0</th>\n",
              "      <td>1</td>\n",
              "      <td>1</td>\n",
              "      <td>1</td>\n",
              "      <td>1</td>\n",
              "      <td>1</td>\n",
              "      <td>1</td>\n",
              "      <td>1</td>\n",
              "      <td>1</td>\n",
              "      <td>1</td>\n",
              "      <td>1</td>\n",
              "      <td>1</td>\n",
              "      <td>1</td>\n",
              "      <td>2</td>\n",
              "      <td>1</td>\n",
              "      <td>2</td>\n",
              "      <td>1</td>\n",
              "      <td>1</td>\n",
              "      <td>1</td>\n",
              "      <td>1</td>\n",
              "      <td>1</td>\n",
              "      <td>1</td>\n",
              "      <td>1</td>\n",
              "      <td>1</td>\n",
              "    </tr>\n",
              "  </tbody>\n",
              "</table>\n",
              "</div>"
            ],
            "text/plain": [
              "          0      1         2   3  4  5   6   7   ...  15  16  17  18 19  20  21  22\n",
              "index  Preço  Média  Variação  DS  G  A  SG  FS  ...  CA  PP  GS  FC  I  PI  RB  PE\n",
              "0          1      1         1   1  1  1   1   1  ...   1   1   1   1  1   1   1   1\n",
              "\n",
              "[2 rows x 23 columns]"
            ]
          },
          "metadata": {
            "tags": []
          },
          "execution_count": 38
        }
      ]
    },
    {
      "cell_type": "code",
      "metadata": {
        "id": "DUy5Ixrqjxpq",
        "outputId": "bab0f9a6-1a10-4b73-99a6-2237bb84e691",
        "colab": {
          "base_uri": "https://localhost:8080/"
        }
      },
      "source": [
        "_cols = X_train.columns[ feat_selector.support_]\n",
        "clf = LogisticRegression(random_state=0).fit(X_train[_cols], y_train)\n",
        "\n",
        "y_pred_holdout = clf.predict(X_holdout[_cols])\n",
        "print( classification_report(y_holdout, y_pred_holdout, target_names=['False', 'True']) )"
      ],
      "execution_count": 39,
      "outputs": [
        {
          "output_type": "stream",
          "text": [
            "              precision    recall  f1-score   support\n",
            "\n",
            "       False       0.92      0.97      0.95      1501\n",
            "        True       0.84      0.64      0.73       343\n",
            "\n",
            "    accuracy                           0.91      1844\n",
            "   macro avg       0.88      0.81      0.84      1844\n",
            "weighted avg       0.91      0.91      0.91      1844\n",
            "\n"
          ],
          "name": "stdout"
        }
      ]
    },
    {
      "cell_type": "code",
      "metadata": {
        "id": "Vf8IeNwQqkPa",
        "outputId": "5617654a-296a-4ee5-eb39-410538acd184",
        "colab": {
          "base_uri": "https://localhost:8080/",
          "height": 651
        }
      },
      "source": [
        "pd.concat( [pd.DataFrame(_cols), \n",
        "            pd.DataFrame(clf.coef_).T], axis=1)"
      ],
      "execution_count": 40,
      "outputs": [
        {
          "output_type": "execute_result",
          "data": {
            "text/html": [
              "<div>\n",
              "<style scoped>\n",
              "    .dataframe tbody tr th:only-of-type {\n",
              "        vertical-align: middle;\n",
              "    }\n",
              "\n",
              "    .dataframe tbody tr th {\n",
              "        vertical-align: top;\n",
              "    }\n",
              "\n",
              "    .dataframe thead th {\n",
              "        text-align: right;\n",
              "    }\n",
              "</style>\n",
              "<table border=\"1\" class=\"dataframe\">\n",
              "  <thead>\n",
              "    <tr style=\"text-align: right;\">\n",
              "      <th></th>\n",
              "      <th>0</th>\n",
              "      <th>0</th>\n",
              "    </tr>\n",
              "  </thead>\n",
              "  <tbody>\n",
              "    <tr>\n",
              "      <th>0</th>\n",
              "      <td>Preço</td>\n",
              "      <td>1.953021</td>\n",
              "    </tr>\n",
              "    <tr>\n",
              "      <th>1</th>\n",
              "      <td>Média</td>\n",
              "      <td>0.135339</td>\n",
              "    </tr>\n",
              "    <tr>\n",
              "      <th>2</th>\n",
              "      <td>Variação</td>\n",
              "      <td>0.309432</td>\n",
              "    </tr>\n",
              "    <tr>\n",
              "      <th>3</th>\n",
              "      <td>DS</td>\n",
              "      <td>-3.730350</td>\n",
              "    </tr>\n",
              "    <tr>\n",
              "      <th>4</th>\n",
              "      <td>G</td>\n",
              "      <td>5.965869</td>\n",
              "    </tr>\n",
              "    <tr>\n",
              "      <th>5</th>\n",
              "      <td>A</td>\n",
              "      <td>2.154152</td>\n",
              "    </tr>\n",
              "    <tr>\n",
              "      <th>6</th>\n",
              "      <td>SG</td>\n",
              "      <td>-7.123393</td>\n",
              "    </tr>\n",
              "    <tr>\n",
              "      <th>7</th>\n",
              "      <td>FS</td>\n",
              "      <td>4.585971</td>\n",
              "    </tr>\n",
              "    <tr>\n",
              "      <th>8</th>\n",
              "      <td>FF</td>\n",
              "      <td>5.230703</td>\n",
              "    </tr>\n",
              "    <tr>\n",
              "      <th>9</th>\n",
              "      <td>FD</td>\n",
              "      <td>4.042832</td>\n",
              "    </tr>\n",
              "    <tr>\n",
              "      <th>10</th>\n",
              "      <td>FT</td>\n",
              "      <td>2.295392</td>\n",
              "    </tr>\n",
              "    <tr>\n",
              "      <th>11</th>\n",
              "      <td>DD</td>\n",
              "      <td>-1.122098</td>\n",
              "    </tr>\n",
              "    <tr>\n",
              "      <th>12</th>\n",
              "      <td>GC</td>\n",
              "      <td>-0.113216</td>\n",
              "    </tr>\n",
              "    <tr>\n",
              "      <th>13</th>\n",
              "      <td>CA</td>\n",
              "      <td>-3.200193</td>\n",
              "    </tr>\n",
              "    <tr>\n",
              "      <th>14</th>\n",
              "      <td>PP</td>\n",
              "      <td>0.503018</td>\n",
              "    </tr>\n",
              "    <tr>\n",
              "      <th>15</th>\n",
              "      <td>GS</td>\n",
              "      <td>-1.182176</td>\n",
              "    </tr>\n",
              "    <tr>\n",
              "      <th>16</th>\n",
              "      <td>FC</td>\n",
              "      <td>3.224476</td>\n",
              "    </tr>\n",
              "    <tr>\n",
              "      <th>17</th>\n",
              "      <td>I</td>\n",
              "      <td>9.793221</td>\n",
              "    </tr>\n",
              "    <tr>\n",
              "      <th>18</th>\n",
              "      <td>PI</td>\n",
              "      <td>2.624085</td>\n",
              "    </tr>\n",
              "    <tr>\n",
              "      <th>19</th>\n",
              "      <td>RB</td>\n",
              "      <td>-3.618529</td>\n",
              "    </tr>\n",
              "    <tr>\n",
              "      <th>20</th>\n",
              "      <td>PE</td>\n",
              "      <td>0.298486</td>\n",
              "    </tr>\n",
              "  </tbody>\n",
              "</table>\n",
              "</div>"
            ],
            "text/plain": [
              "           0         0\n",
              "0      Preço  1.953021\n",
              "1      Média  0.135339\n",
              "2   Variação  0.309432\n",
              "3         DS -3.730350\n",
              "4          G  5.965869\n",
              "5          A  2.154152\n",
              "6         SG -7.123393\n",
              "7         FS  4.585971\n",
              "8         FF  5.230703\n",
              "9         FD  4.042832\n",
              "10        FT  2.295392\n",
              "11        DD -1.122098\n",
              "12        GC -0.113216\n",
              "13        CA -3.200193\n",
              "14        PP  0.503018\n",
              "15        GS -1.182176\n",
              "16        FC  3.224476\n",
              "17         I  9.793221\n",
              "18        PI  2.624085\n",
              "19        RB -3.618529\n",
              "20        PE  0.298486"
            ]
          },
          "metadata": {
            "tags": []
          },
          "execution_count": 40
        }
      ]
    },
    {
      "cell_type": "markdown",
      "metadata": {
        "id": "KYFHcKMbDAfJ"
      },
      "source": [
        "## lightgbm & optuna & calibragem"
      ]
    },
    {
      "cell_type": "code",
      "metadata": {
        "id": "Vc-PZqJ8FEIj"
      },
      "source": [
        "def lgb_opt(X_train_all, Y_train_all, trial):\n",
        "  (X_train, X_holdout, y_train, y_holdout) = train_test_split(X_train_all, Y_train_all, test_size=0.2, random_state=0)\n",
        "\n",
        "  bagging_freq            = trial.suggest_int('bagging_freq',1,10),\n",
        "  min_data_in_leaf        = trial.suggest_int('min_data_in_leaf',2,100),\n",
        "  max_depth               = trial.suggest_int('max_depth',1,20),\n",
        "  learning_rate           = trial.suggest_loguniform('learning_rate',0.001,0.1),\n",
        "  num_leaves              = trial.suggest_int('num_leaves',2,70),\n",
        "  num_threads             = trial.suggest_int('num_threads',1,10),\n",
        "  min_sum_hessian_in_leaf = trial.suggest_int('min_sum_hessian_in_leaf',1,10)\n",
        "  lambda_l1               = trial.suggest_loguniform('lambda_l1', 0.1, 2),\n",
        "  lambda_l2               = trial.suggest_loguniform('lambda_l2', 0.1, 2)\n",
        "\n",
        "  lightgbm_tuna = lgb.LGBMClassifier(\n",
        "                                    random_state = 31,\n",
        "                                    verbosity    = 1,\n",
        "                                    bagging_seed = 13,\n",
        "                                    boost_from_average = 'true',\n",
        "                                    boost              = 'gbdt',\n",
        "                                    metric             = 'auc',\n",
        "                                    bagging_freq            = bagging_freq ,\n",
        "                                    min_data_in_leaf        = min_data_in_leaf,\n",
        "                                    max_depth               = max_depth,\n",
        "                                    learning_rate           = learning_rate,\n",
        "                                    num_leaves              = num_leaves,\n",
        "                                    num_threads             = num_threads,\n",
        "                                    min_sum_hessian_in_leaf = min_sum_hessian_in_leaf,\n",
        "                                    lambda_l1               = lambda_l1,\n",
        "                                    lambda_l2               = lambda_l2\n",
        "                                    )\n",
        "\n",
        "  lightgbm_tuna.fit(X_train, y_train)\n",
        "\n",
        "  y_pred_train   = lightgbm_tuna.predict(X_train)\n",
        "  y_pred_holdout = lightgbm_tuna.predict(X_holdout)\n",
        "\n",
        "  acc_t = accuracy_score( y_train , y_pred_train )\n",
        "  acc_h = accuracy_score( y_holdout , y_pred_holdout )\n",
        "  delta = acc_t-acc_h\n",
        "\n",
        "  # return accuracy_score(y_holdout, y_pred_holdout)\n",
        "  # return 1/delta\n",
        "  return fbeta_score(y_holdout, y_pred_holdout, beta=2.0)"
      ],
      "execution_count": 112,
      "outputs": []
    },
    {
      "cell_type": "code",
      "metadata": {
        "id": "WXhEQxH4MGTm",
        "outputId": "3f37ec09-acd9-42e7-a35d-776a27bb7f67",
        "colab": {
          "base_uri": "https://localhost:8080/"
        }
      },
      "source": [
        "lb_study = optuna.create_study(direction='maximize')\n",
        "lb_study.optimize(functools.partial(lgb_opt, X_train[_cols], y_train), n_trials = 23)\n",
        "\n",
        "print(lb_study.best_trial)\n",
        "print(lb_study.best_params)"
      ],
      "execution_count": 113,
      "outputs": [
        {
          "output_type": "stream",
          "text": [
            "\u001b[32m[I 2020-11-14 21:13:39,807]\u001b[0m A new study created in memory with name: no-name-9eb28b5d-95ee-435a-bacf-50a32c39ee60\u001b[0m\n",
            "\u001b[32m[I 2020-11-14 21:13:40,887]\u001b[0m Trial 0 finished with value: 0.4311039484286866 and parameters: {'bagging_freq': 7, 'min_data_in_leaf': 22, 'max_depth': 6, 'learning_rate': 0.006733887103514793, 'num_leaves': 68, 'num_threads': 7, 'min_sum_hessian_in_leaf': 10, 'lambda_l1': 0.3161063091110503, 'lambda_l2': 0.4757480955807508}. Best is trial 0 with value: 0.4311039484286866.\u001b[0m\n",
            "\u001b[32m[I 2020-11-14 21:13:41,206]\u001b[0m Trial 1 finished with value: 0.7961095100864553 and parameters: {'bagging_freq': 8, 'min_data_in_leaf': 86, 'max_depth': 11, 'learning_rate': 0.040845522448767685, 'num_leaves': 41, 'num_threads': 2, 'min_sum_hessian_in_leaf': 1, 'lambda_l1': 1.6043994261780137, 'lambda_l2': 0.15741231509246242}. Best is trial 1 with value: 0.7961095100864553.\u001b[0m\n",
            "\u001b[32m[I 2020-11-14 21:13:42,094]\u001b[0m Trial 2 finished with value: 0.0 and parameters: {'bagging_freq': 7, 'min_data_in_leaf': 22, 'max_depth': 8, 'learning_rate': 0.002429316199171609, 'num_leaves': 64, 'num_threads': 4, 'min_sum_hessian_in_leaf': 7, 'lambda_l1': 0.19137276647955387, 'lambda_l2': 0.1696295775359653}. Best is trial 1 with value: 0.7961095100864553.\u001b[0m\n",
            "\u001b[32m[I 2020-11-14 21:13:42,430]\u001b[0m Trial 3 finished with value: 0.7148148148148149 and parameters: {'bagging_freq': 6, 'min_data_in_leaf': 45, 'max_depth': 7, 'learning_rate': 0.020244805851807674, 'num_leaves': 39, 'num_threads': 2, 'min_sum_hessian_in_leaf': 9, 'lambda_l1': 1.2003492158390243, 'lambda_l2': 0.12976823567307694}. Best is trial 1 with value: 0.7961095100864553.\u001b[0m\n",
            "\u001b[32m[I 2020-11-14 21:13:42,932]\u001b[0m Trial 4 finished with value: 0.8321325648414984 and parameters: {'bagging_freq': 1, 'min_data_in_leaf': 35, 'max_depth': 16, 'learning_rate': 0.09984502608643926, 'num_leaves': 18, 'num_threads': 4, 'min_sum_hessian_in_leaf': 3, 'lambda_l1': 0.29562343842046673, 'lambda_l2': 0.4057910507181987}. Best is trial 4 with value: 0.8321325648414984.\u001b[0m\n",
            "\u001b[32m[I 2020-11-14 21:13:43,346]\u001b[0m Trial 5 finished with value: 0.685131195335277 and parameters: {'bagging_freq': 2, 'min_data_in_leaf': 87, 'max_depth': 3, 'learning_rate': 0.04204227394342152, 'num_leaves': 17, 'num_threads': 10, 'min_sum_hessian_in_leaf': 10, 'lambda_l1': 0.15338443117221245, 'lambda_l2': 0.26429514833941586}. Best is trial 4 with value: 0.8321325648414984.\u001b[0m\n",
            "\u001b[32m[I 2020-11-14 21:13:44,686]\u001b[0m Trial 6 finished with value: 0.0 and parameters: {'bagging_freq': 8, 'min_data_in_leaf': 56, 'max_depth': 15, 'learning_rate': 0.0030119970157764238, 'num_leaves': 38, 'num_threads': 8, 'min_sum_hessian_in_leaf': 4, 'lambda_l1': 0.22375183515746921, 'lambda_l2': 1.198336086368095}. Best is trial 4 with value: 0.8321325648414984.\u001b[0m\n",
            "\u001b[32m[I 2020-11-14 21:13:45,866]\u001b[0m Trial 7 finished with value: 0.7560262965668372 and parameters: {'bagging_freq': 10, 'min_data_in_leaf': 33, 'max_depth': 6, 'learning_rate': 0.027419991896120443, 'num_leaves': 29, 'num_threads': 10, 'min_sum_hessian_in_leaf': 7, 'lambda_l1': 0.3537880917590593, 'lambda_l2': 0.434227791149874}. Best is trial 4 with value: 0.8321325648414984.\u001b[0m\n",
            "\u001b[32m[I 2020-11-14 21:13:46,222]\u001b[0m Trial 8 finished with value: 0.625 and parameters: {'bagging_freq': 6, 'min_data_in_leaf': 8, 'max_depth': 11, 'learning_rate': 0.015397268049784366, 'num_leaves': 7, 'num_threads': 6, 'min_sum_hessian_in_leaf': 3, 'lambda_l1': 0.2163067291195932, 'lambda_l2': 0.530427510177208}. Best is trial 4 with value: 0.8321325648414984.\u001b[0m\n",
            "\u001b[32m[I 2020-11-14 21:13:47,059]\u001b[0m Trial 9 finished with value: 0.7711803041274439 and parameters: {'bagging_freq': 10, 'min_data_in_leaf': 69, 'max_depth': 13, 'learning_rate': 0.025609030587808338, 'num_leaves': 25, 'num_threads': 5, 'min_sum_hessian_in_leaf': 7, 'lambda_l1': 0.18877149816409772, 'lambda_l2': 0.13896963250700067}. Best is trial 4 with value: 0.8321325648414984.\u001b[0m\n",
            "\u001b[32m[I 2020-11-14 21:13:47,177]\u001b[0m Trial 10 finished with value: 0.6407407407407407 and parameters: {'bagging_freq': 1, 'min_data_in_leaf': 3, 'max_depth': 20, 'learning_rate': 0.09506011237726397, 'num_leaves': 2, 'num_threads': 1, 'min_sum_hessian_in_leaf': 1, 'lambda_l1': 0.718650466763495, 'lambda_l2': 1.4087482754315332}. Best is trial 4 with value: 0.8321325648414984.\u001b[0m\n",
            "\u001b[32m[I 2020-11-14 21:13:47,904]\u001b[0m Trial 11 finished with value: 0.8279337652987762 and parameters: {'bagging_freq': 3, 'min_data_in_leaf': 98, 'max_depth': 18, 'learning_rate': 0.09878862278833656, 'num_leaves': 55, 'num_threads': 3, 'min_sum_hessian_in_leaf': 1, 'lambda_l1': 1.9077260392390551, 'lambda_l2': 0.2566697948747033}. Best is trial 4 with value: 0.8321325648414984.\u001b[0m\n",
            "\u001b[32m[I 2020-11-14 21:13:48,531]\u001b[0m Trial 12 finished with value: 0.8321325648414984 and parameters: {'bagging_freq': 3, 'min_data_in_leaf': 99, 'max_depth': 20, 'learning_rate': 0.09533375418078216, 'num_leaves': 55, 'num_threads': 4, 'min_sum_hessian_in_leaf': 3, 'lambda_l1': 0.7633376458617627, 'lambda_l2': 0.27244949127423607}. Best is trial 4 with value: 0.8321325648414984.\u001b[0m\n",
            "\u001b[32m[I 2020-11-14 21:13:49,708]\u001b[0m Trial 13 finished with value: 0.8447653429602889 and parameters: {'bagging_freq': 4, 'min_data_in_leaf': 59, 'max_depth': 17, 'learning_rate': 0.0967897672474627, 'num_leaves': 53, 'num_threads': 5, 'min_sum_hessian_in_leaf': 3, 'lambda_l1': 0.6571761982863763, 'lambda_l2': 0.776587102319299}. Best is trial 13 with value: 0.8447653429602889.\u001b[0m\n",
            "\u001b[32m[I 2020-11-14 21:13:50,824]\u001b[0m Trial 14 finished with value: 0.8417266187050361 and parameters: {'bagging_freq': 4, 'min_data_in_leaf': 59, 'max_depth': 16, 'learning_rate': 0.05602293861097001, 'num_leaves': 49, 'num_threads': 5, 'min_sum_hessian_in_leaf': 4, 'lambda_l1': 0.5882091644428381, 'lambda_l2': 0.8130815396672904}. Best is trial 13 with value: 0.8447653429602889.\u001b[0m\n",
            "\u001b[32m[I 2020-11-14 21:13:52,130]\u001b[0m Trial 15 finished with value: 0.8225108225108226 and parameters: {'bagging_freq': 4, 'min_data_in_leaf': 65, 'max_depth': 17, 'learning_rate': 0.05394877634285165, 'num_leaves': 48, 'num_threads': 8, 'min_sum_hessian_in_leaf': 5, 'lambda_l1': 0.5739975330754501, 'lambda_l2': 0.8567743439304278}. Best is trial 13 with value: 0.8447653429602889.\u001b[0m\n",
            "\u001b[32m[I 2020-11-14 21:13:53,035]\u001b[0m Trial 16 finished with value: 0.4852824184566427 and parameters: {'bagging_freq': 4, 'min_data_in_leaf': 70, 'max_depth': 14, 'learning_rate': 0.008405141363525947, 'num_leaves': 55, 'num_threads': 6, 'min_sum_hessian_in_leaf': 5, 'lambda_l1': 1.1479907044682902, 'lambda_l2': 0.8066998530228784}. Best is trial 13 with value: 0.8447653429602889.\u001b[0m\n",
            "\u001b[32m[I 2020-11-14 21:13:54,276]\u001b[0m Trial 17 finished with value: 0.8423326133909287 and parameters: {'bagging_freq': 4, 'min_data_in_leaf': 51, 'max_depth': 19, 'learning_rate': 0.05901370222736704, 'num_leaves': 46, 'num_threads': 5, 'min_sum_hessian_in_leaf': 2, 'lambda_l1': 0.10318798051660436, 'lambda_l2': 1.956810153433484}. Best is trial 13 with value: 0.8447653429602889.\u001b[0m\n",
            "\u001b[32m[I 2020-11-14 21:13:55,762]\u001b[0m Trial 18 finished with value: 0.0 and parameters: {'bagging_freq': 5, 'min_data_in_leaf': 46, 'max_depth': 19, 'learning_rate': 0.0010113641215114355, 'num_leaves': 62, 'num_threads': 7, 'min_sum_hessian_in_leaf': 2, 'lambda_l1': 0.11089036976445482, 'lambda_l2': 1.953137771742787}. Best is trial 13 with value: 0.8447653429602889.\u001b[0m\n",
            "\u001b[32m[I 2020-11-14 21:13:56,425]\u001b[0m Trial 19 finished with value: 0.6036446469248292 and parameters: {'bagging_freq': 2, 'min_data_in_leaf': 78, 'max_depth': 13, 'learning_rate': 0.013791371199671387, 'num_leaves': 49, 'num_threads': 3, 'min_sum_hessian_in_leaf': 2, 'lambda_l1': 0.46365404745060973, 'lambda_l2': 1.8982270158643832}. Best is trial 13 with value: 0.8447653429602889.\u001b[0m\n",
            "\u001b[32m[I 2020-11-14 21:13:57,872]\u001b[0m Trial 20 finished with value: 0.8435032304379039 and parameters: {'bagging_freq': 5, 'min_data_in_leaf': 37, 'max_depth': 20, 'learning_rate': 0.06389416074528478, 'num_leaves': 31, 'num_threads': 7, 'min_sum_hessian_in_leaf': 2, 'lambda_l1': 0.10440388089256813, 'lambda_l2': 1.235639814411465}. Best is trial 13 with value: 0.8447653429602889.\u001b[0m\n",
            "\u001b[32m[I 2020-11-14 21:13:59,282]\u001b[0m Trial 21 finished with value: 0.8506819813352475 and parameters: {'bagging_freq': 5, 'min_data_in_leaf': 38, 'max_depth': 20, 'learning_rate': 0.065923960937246, 'num_leaves': 31, 'num_threads': 7, 'min_sum_hessian_in_leaf': 2, 'lambda_l1': 0.10087693137095519, 'lambda_l2': 1.2301481176225773}. Best is trial 21 with value: 0.8506819813352475.\u001b[0m\n",
            "\u001b[32m[I 2020-11-14 21:14:00,693]\u001b[0m Trial 22 finished with value: 0.8447160316319196 and parameters: {'bagging_freq': 5, 'min_data_in_leaf': 36, 'max_depth': 20, 'learning_rate': 0.07505249604522138, 'num_leaves': 31, 'num_threads': 8, 'min_sum_hessian_in_leaf': 4, 'lambda_l1': 0.1225798316861663, 'lambda_l2': 1.1776208174384413}. Best is trial 21 with value: 0.8506819813352475.\u001b[0m\n"
          ],
          "name": "stderr"
        },
        {
          "output_type": "stream",
          "text": [
            "FrozenTrial(number=21, value=0.8506819813352475, datetime_start=datetime.datetime(2020, 11, 14, 21, 13, 57, 873567), datetime_complete=datetime.datetime(2020, 11, 14, 21, 13, 59, 282355), params={'bagging_freq': 5, 'min_data_in_leaf': 38, 'max_depth': 20, 'learning_rate': 0.065923960937246, 'num_leaves': 31, 'num_threads': 7, 'min_sum_hessian_in_leaf': 2, 'lambda_l1': 0.10087693137095519, 'lambda_l2': 1.2301481176225773}, distributions={'bagging_freq': IntUniformDistribution(high=10, low=1, step=1), 'min_data_in_leaf': IntUniformDistribution(high=100, low=2, step=1), 'max_depth': IntUniformDistribution(high=20, low=1, step=1), 'learning_rate': LogUniformDistribution(high=0.1, low=0.001), 'num_leaves': IntUniformDistribution(high=70, low=2, step=1), 'num_threads': IntUniformDistribution(high=10, low=1, step=1), 'min_sum_hessian_in_leaf': IntUniformDistribution(high=10, low=1, step=1), 'lambda_l1': LogUniformDistribution(high=2, low=0.1), 'lambda_l2': LogUniformDistribution(high=2, low=0.1)}, user_attrs={}, system_attrs={}, intermediate_values={}, trial_id=21, state=TrialState.COMPLETE)\n",
            "{'bagging_freq': 5, 'min_data_in_leaf': 38, 'max_depth': 20, 'learning_rate': 0.065923960937246, 'num_leaves': 31, 'num_threads': 7, 'min_sum_hessian_in_leaf': 2, 'lambda_l1': 0.10087693137095519, 'lambda_l2': 1.2301481176225773}\n"
          ],
          "name": "stdout"
        }
      ]
    },
    {
      "cell_type": "code",
      "metadata": {
        "id": "UKTgkcuwDAYL",
        "outputId": "216cb78a-2241-4211-a878-30cca346af7d",
        "colab": {
          "base_uri": "https://localhost:8080/",
          "height": 812
        }
      },
      "source": [
        "fig, (ax1) = plt.subplots(nrows=1, ncols=1, figsize=(9,6))\n",
        "\n",
        "# logistica\n",
        "clf = LogisticRegression(random_state=0).fit(X_train[_cols], y_train)\n",
        "y_pred_holdout      = clf.predict(X_holdout[_cols])\n",
        "y_pred_holdout_prob = clf.predict_proba(X_holdout[_cols])\n",
        "fraction_of_positives, mean_predicted_value = calibration_curve(y_holdout, y_pred_holdout_prob[:,1], n_bins=15)\n",
        "print( classification_report(y_holdout, y_pred_holdout, target_names=['False', 'True']) )\n",
        "ax1.plot(mean_predicted_value, fraction_of_positives, \"s-\", label=\"logistica\")\n",
        "\n",
        "# boosting\n",
        "lgbm =  lgb.LGBMClassifier(**lb_study.best_params)\n",
        "lgbm.fit(X_train[_cols], y_train)\n",
        "y_pred_holdout      = lgbm.predict(X_holdout[_cols])\n",
        "y_pred_holdout_prob = lgbm.predict_proba(X_holdout[_cols])\n",
        "fraction_of_positives, mean_predicted_value = calibration_curve(y_holdout, y_pred_holdout_prob[:,1], n_bins=15)\n",
        "print( classification_report(y_holdout, y_pred_holdout, target_names=['False', 'True']) )\n",
        "ax1.plot(mean_predicted_value, fraction_of_positives, \"s-\", label=\"lgbm\")\n",
        "\n",
        "# calibration\n",
        "clf_sigmoid = CalibratedClassifierCV(lgbm, cv=3, method='isotonic')\n",
        "clf_sigmoid.fit(X_train[_cols], y_train)\n",
        "y_pred_holdout      = clf_sigmoid.predict(X_holdout[_cols])\n",
        "y_pred_holdout_prob = clf_sigmoid.predict_proba(X_holdout[_cols])\n",
        "fraction_of_positives, mean_predicted_value = calibration_curve(y_holdout, y_pred_holdout_prob[:,1], n_bins=15)\n",
        "print( classification_report(y_holdout, y_pred_holdout, target_names=['False', 'True']) )\n",
        "ax1.plot(mean_predicted_value, fraction_of_positives, \"s-\", label=\"lgbm + sigm\")\n",
        "\n",
        "ax1.plot([0, 1], [0, 1], \"k:\", label=\"calibrado\")\n",
        "plt.legend()\n",
        "plt.show()"
      ],
      "execution_count": 114,
      "outputs": [
        {
          "output_type": "stream",
          "text": [
            "              precision    recall  f1-score   support\n",
            "\n",
            "       False       0.92      0.97      0.95      1501\n",
            "        True       0.84      0.64      0.73       343\n",
            "\n",
            "    accuracy                           0.91      1844\n",
            "   macro avg       0.88      0.81      0.84      1844\n",
            "weighted avg       0.91      0.91      0.91      1844\n",
            "\n",
            "              precision    recall  f1-score   support\n",
            "\n",
            "       False       0.98      0.98      0.98      1501\n",
            "        True       0.92      0.90      0.91       343\n",
            "\n",
            "    accuracy                           0.97      1844\n",
            "   macro avg       0.95      0.94      0.95      1844\n",
            "weighted avg       0.97      0.97      0.97      1844\n",
            "\n",
            "              precision    recall  f1-score   support\n",
            "\n",
            "       False       0.98      0.98      0.98      1501\n",
            "        True       0.93      0.90      0.91       343\n",
            "\n",
            "    accuracy                           0.97      1844\n",
            "   macro avg       0.95      0.94      0.95      1844\n",
            "weighted avg       0.97      0.97      0.97      1844\n",
            "\n"
          ],
          "name": "stdout"
        },
        {
          "output_type": "display_data",
          "data": {
            "image/png": "[encoded data removed]",
            "text/plain": [
              "<Figure size 648x432 with 1 Axes>"
            ]
          },
          "metadata": {
            "tags": [],
            "needs_background": "light"
          }
        }
      ]
    },
    {
      "cell_type": "markdown",
      "metadata": {
        "id": "MLel2ejVqkAW"
      },
      "source": [
        "## regressão logística multi-classe"
      ]
    },
    {
      "cell_type": "code",
      "metadata": {
        "id": "rfCPVCdiqj4K"
      },
      "source": [
        "train_x = df[['Preço', 'Média','Variação','DS','G','A','SG','FS','FF','FD','FT','DD','DP','GC','CV','CA','PP','GS','FC','I','PI','RB','PE']].fillna(0.0)\n",
        "train_y = df['pos']#np.where(df['pos']=='ATA', True, False)\n",
        "\n",
        "_cols = train_x.columns.to_list()\n",
        "# train_x = pd.DataFrame(StandardScaler().fit_transform(train_x[_cols]), columns=_cols)\n",
        "train_x = pd.DataFrame(normalize(train_x[_cols]), columns=_cols)"
      ],
      "execution_count": 115,
      "outputs": []
    },
    {
      "cell_type": "code",
      "metadata": {
        "id": "SBi6baFnqjsz"
      },
      "source": [
        "X_train, X_holdout, y_train, y_holdout = train_test_split(train_x, train_y, stratify=train_y, test_size = 0.2, random_state = 37)"
      ],
      "execution_count": 116,
      "outputs": []
    },
    {
      "cell_type": "code",
      "metadata": {
        "id": "5GvG_aBGqjPF",
        "outputId": "fcb907ed-4d5f-479e-97ee-cf1eb49de0ed",
        "colab": {
          "base_uri": "https://localhost:8080/",
          "height": 245
        }
      },
      "source": [
        "display(pd.DataFrame(y_train)['pos'].value_counts(normalize=True))\n",
        "display(pd.DataFrame(y_holdout)['pos'].value_counts(normalize=True))"
      ],
      "execution_count": 117,
      "outputs": [
        {
          "output_type": "display_data",
          "data": {
            "text/plain": [
              "MEI    0.312000\n",
              "ATA    0.188339\n",
              "ZAG    0.169220\n",
              "LAT    0.158102\n",
              "TEC    0.086508\n",
              "GOL    0.085831\n",
              "Name: pos, dtype: float64"
            ]
          },
          "metadata": {
            "tags": []
          }
        },
        {
          "output_type": "display_data",
          "data": {
            "text/plain": [
              "MEI    0.311822\n",
              "ATA    0.188720\n",
              "ZAG    0.169197\n",
              "LAT    0.158351\n",
              "TEC    0.086226\n",
              "GOL    0.085683\n",
              "Name: pos, dtype: float64"
            ]
          },
          "metadata": {
            "tags": []
          }
        }
      ]
    },
    {
      "cell_type": "code",
      "metadata": {
        "id": "dsozrrPu11ix",
        "outputId": "c707be54-c034-4ae5-c532-7236b21f7f50",
        "colab": {
          "base_uri": "https://localhost:8080/"
        }
      },
      "source": [
        "rf = RandomForestClassifier(n_jobs=-1, class_weight='balanced', max_depth=5)\n",
        "feat_selector = BorutaPy(rf, n_estimators='auto', verbose=1, random_state=1, max_iter=23)\n",
        "\n",
        "feat_selector.fit(X_train.values, y_train)"
      ],
      "execution_count": 118,
      "outputs": [
        {
          "output_type": "stream",
          "text": [
            "Iteration: 1 / 23\n",
            "Iteration: 2 / 23\n",
            "Iteration: 3 / 23\n",
            "Iteration: 4 / 23\n",
            "Iteration: 5 / 23\n",
            "Iteration: 6 / 23\n",
            "Iteration: 7 / 23\n",
            "Iteration: 8 / 23\n",
            "Iteration: 9 / 23\n",
            "Iteration: 10 / 23\n",
            "Iteration: 11 / 23\n",
            "Iteration: 12 / 23\n",
            "Iteration: 13 / 23\n",
            "Iteration: 14 / 23\n",
            "Iteration: 15 / 23\n",
            "Iteration: 16 / 23\n",
            "Iteration: 17 / 23\n",
            "Iteration: 18 / 23\n",
            "Iteration: 19 / 23\n",
            "\n",
            "\n",
            "BorutaPy finished running.\n",
            "\n",
            "Iteration: \t20 / 23\n",
            "Confirmed: \t23\n",
            "Tentative: \t0\n",
            "Rejected: \t0\n"
          ],
          "name": "stdout"
        },
        {
          "output_type": "execute_result",
          "data": {
            "text/plain": [
              "BorutaPy(alpha=0.05,\n",
              "         estimator=RandomForestClassifier(bootstrap=True, ccp_alpha=0.0,\n",
              "                                          class_weight='balanced',\n",
              "                                          criterion='gini', max_depth=5,\n",
              "                                          max_features='auto',\n",
              "                                          max_leaf_nodes=None, max_samples=None,\n",
              "                                          min_impurity_decrease=0.0,\n",
              "                                          min_impurity_split=None,\n",
              "                                          min_samples_leaf=1,\n",
              "                                          min_samples_split=2,\n",
              "                                          min_weight_fraction_leaf=0.0,\n",
              "                                          n_estimators=135, n_jobs=-1,\n",
              "                                          oob_score=False,\n",
              "                                          random_state=RandomState(MT19937) at 0x7F0288A9E570,\n",
              "                                          verbose=0, warm_start=False),\n",
              "         max_iter=23, n_estimators='auto', perc=100,\n",
              "         random_state=RandomState(MT19937) at 0x7F0288A9E570, two_step=True,\n",
              "         verbose=1)"
            ]
          },
          "metadata": {
            "tags": []
          },
          "execution_count": 118
        }
      ]
    },
    {
      "cell_type": "code",
      "metadata": {
        "id": "-6tYMTOD2B9K",
        "outputId": "7594771e-fb6c-4eaa-94f3-ea04a0414500",
        "colab": {
          "base_uri": "https://localhost:8080/",
          "height": 105
        }
      },
      "source": [
        "pd.concat( [X_train.columns.to_frame().reset_index()['index'], pd.DataFrame(feat_selector.ranking_)], axis=1).T"
      ],
      "execution_count": 119,
      "outputs": [
        {
          "output_type": "execute_result",
          "data": {
            "text/html": [
              "<div>\n",
              "<style scoped>\n",
              "    .dataframe tbody tr th:only-of-type {\n",
              "        vertical-align: middle;\n",
              "    }\n",
              "\n",
              "    .dataframe tbody tr th {\n",
              "        vertical-align: top;\n",
              "    }\n",
              "\n",
              "    .dataframe thead th {\n",
              "        text-align: right;\n",
              "    }\n",
              "</style>\n",
              "<table border=\"1\" class=\"dataframe\">\n",
              "  <thead>\n",
              "    <tr style=\"text-align: right;\">\n",
              "      <th></th>\n",
              "      <th>0</th>\n",
              "      <th>1</th>\n",
              "      <th>2</th>\n",
              "      <th>3</th>\n",
              "      <th>4</th>\n",
              "      <th>5</th>\n",
              "      <th>6</th>\n",
              "      <th>7</th>\n",
              "      <th>8</th>\n",
              "      <th>9</th>\n",
              "      <th>10</th>\n",
              "      <th>11</th>\n",
              "      <th>12</th>\n",
              "      <th>13</th>\n",
              "      <th>14</th>\n",
              "      <th>15</th>\n",
              "      <th>16</th>\n",
              "      <th>17</th>\n",
              "      <th>18</th>\n",
              "      <th>19</th>\n",
              "      <th>20</th>\n",
              "      <th>21</th>\n",
              "      <th>22</th>\n",
              "    </tr>\n",
              "  </thead>\n",
              "  <tbody>\n",
              "    <tr>\n",
              "      <th>index</th>\n",
              "      <td>Preço</td>\n",
              "      <td>Média</td>\n",
              "      <td>Variação</td>\n",
              "      <td>DS</td>\n",
              "      <td>G</td>\n",
              "      <td>A</td>\n",
              "      <td>SG</td>\n",
              "      <td>FS</td>\n",
              "      <td>FF</td>\n",
              "      <td>FD</td>\n",
              "      <td>FT</td>\n",
              "      <td>DD</td>\n",
              "      <td>DP</td>\n",
              "      <td>GC</td>\n",
              "      <td>CV</td>\n",
              "      <td>CA</td>\n",
              "      <td>PP</td>\n",
              "      <td>GS</td>\n",
              "      <td>FC</td>\n",
              "      <td>I</td>\n",
              "      <td>PI</td>\n",
              "      <td>RB</td>\n",
              "      <td>PE</td>\n",
              "    </tr>\n",
              "    <tr>\n",
              "      <th>0</th>\n",
              "      <td>1</td>\n",
              "      <td>1</td>\n",
              "      <td>1</td>\n",
              "      <td>1</td>\n",
              "      <td>1</td>\n",
              "      <td>1</td>\n",
              "      <td>1</td>\n",
              "      <td>1</td>\n",
              "      <td>1</td>\n",
              "      <td>1</td>\n",
              "      <td>1</td>\n",
              "      <td>1</td>\n",
              "      <td>1</td>\n",
              "      <td>1</td>\n",
              "      <td>1</td>\n",
              "      <td>1</td>\n",
              "      <td>1</td>\n",
              "      <td>1</td>\n",
              "      <td>1</td>\n",
              "      <td>1</td>\n",
              "      <td>1</td>\n",
              "      <td>1</td>\n",
              "      <td>1</td>\n",
              "    </tr>\n",
              "  </tbody>\n",
              "</table>\n",
              "</div>"
            ],
            "text/plain": [
              "          0      1         2   3  4  5   6   7   ...  15  16  17  18 19  20  21  22\n",
              "index  Preço  Média  Variação  DS  G  A  SG  FS  ...  CA  PP  GS  FC  I  PI  RB  PE\n",
              "0          1      1         1   1  1  1   1   1  ...   1   1   1   1  1   1   1   1\n",
              "\n",
              "[2 rows x 23 columns]"
            ]
          },
          "metadata": {
            "tags": []
          },
          "execution_count": 119
        }
      ]
    },
    {
      "cell_type": "code",
      "metadata": {
        "id": "ydF-t5BZ2KRe",
        "outputId": "cccc8ee3-f776-4b02-fb68-990f85823ec4",
        "colab": {
          "base_uri": "https://localhost:8080/"
        }
      },
      "source": [
        "_cols = X_train.columns[ feat_selector.support_]\n",
        "clf = LogisticRegression(random_state=0).fit(X_train[_cols], y_train)\n",
        "\n",
        "y_pred_holdout = clf.predict(X_holdout[_cols])\n",
        "print( classification_report(y_holdout, y_pred_holdout, target_names=sorted(y_holdout.unique())) )"
      ],
      "execution_count": 120,
      "outputs": [
        {
          "output_type": "stream",
          "text": [
            "              precision    recall  f1-score   support\n",
            "\n",
            "         ATA       0.75      0.68      0.72       348\n",
            "         GOL       1.00      0.96      0.98       158\n",
            "         LAT       0.71      0.54      0.62       292\n",
            "         MEI       0.72      0.86      0.79       575\n",
            "         TEC       0.89      1.00      0.94       159\n",
            "         ZAG       0.73      0.68      0.70       312\n",
            "\n",
            "    accuracy                           0.77      1844\n",
            "   macro avg       0.80      0.79      0.79      1844\n",
            "weighted avg       0.77      0.77      0.76      1844\n",
            "\n"
          ],
          "name": "stdout"
        },
        {
          "output_type": "stream",
          "text": [
            "/usr/local/lib/python3.6/dist-packages/sklearn/linear_model/_logistic.py:940: ConvergenceWarning:\n",
            "\n",
            "lbfgs failed to converge (status=1):\n",
            "STOP: TOTAL NO. of ITERATIONS REACHED LIMIT.\n",
            "\n",
            "Increase the number of iterations (max_iter) or scale the data as shown in:\n",
            "    https://scikit-learn.org/stable/modules/preprocessing.html\n",
            "Please also refer to the documentation for alternative solver options:\n",
            "    https://scikit-learn.org/stable/modules/linear_model.html#logistic-regression\n",
            "\n"
          ],
          "name": "stderr"
        }
      ]
    },
    {
      "cell_type": "code",
      "metadata": {
        "id": "Pl5t4k612Brd",
        "outputId": "e3fcc8e4-032c-4896-f8f7-3220e76efdfd",
        "colab": {
          "base_uri": "https://localhost:8080/",
          "height": 708
        }
      },
      "source": [
        "_coefs = pd.concat( [pd.DataFrame(_cols), \n",
        "            pd.DataFrame(clf.coef_).T], axis=1)\n",
        "_coefs.columns = _coefs.columns[:-6].to_list() + sorted(y_holdout.unique())\n",
        "_coefs"
      ],
      "execution_count": 121,
      "outputs": [
        {
          "output_type": "execute_result",
          "data": {
            "text/html": [
              "<div>\n",
              "<style scoped>\n",
              "    .dataframe tbody tr th:only-of-type {\n",
              "        vertical-align: middle;\n",
              "    }\n",
              "\n",
              "    .dataframe tbody tr th {\n",
              "        vertical-align: top;\n",
              "    }\n",
              "\n",
              "    .dataframe thead th {\n",
              "        text-align: right;\n",
              "    }\n",
              "</style>\n",
              "<table border=\"1\" class=\"dataframe\">\n",
              "  <thead>\n",
              "    <tr style=\"text-align: right;\">\n",
              "      <th></th>\n",
              "      <th>0</th>\n",
              "      <th>ATA</th>\n",
              "      <th>GOL</th>\n",
              "      <th>LAT</th>\n",
              "      <th>MEI</th>\n",
              "      <th>TEC</th>\n",
              "      <th>ZAG</th>\n",
              "    </tr>\n",
              "  </thead>\n",
              "  <tbody>\n",
              "    <tr>\n",
              "      <th>0</th>\n",
              "      <td>Preço</td>\n",
              "      <td>-0.278003</td>\n",
              "      <td>-1.176171</td>\n",
              "      <td>-1.543337</td>\n",
              "      <td>-2.155060</td>\n",
              "      <td>5.023617</td>\n",
              "      <td>0.128955</td>\n",
              "    </tr>\n",
              "    <tr>\n",
              "      <th>1</th>\n",
              "      <td>Média</td>\n",
              "      <td>-0.734285</td>\n",
              "      <td>-1.238613</td>\n",
              "      <td>0.989994</td>\n",
              "      <td>-1.749860</td>\n",
              "      <td>3.739687</td>\n",
              "      <td>-1.006923</td>\n",
              "    </tr>\n",
              "    <tr>\n",
              "      <th>2</th>\n",
              "      <td>Variação</td>\n",
              "      <td>0.335143</td>\n",
              "      <td>-0.134636</td>\n",
              "      <td>-0.127180</td>\n",
              "      <td>0.386366</td>\n",
              "      <td>0.025014</td>\n",
              "      <td>-0.484707</td>\n",
              "    </tr>\n",
              "    <tr>\n",
              "      <th>3</th>\n",
              "      <td>DS</td>\n",
              "      <td>-2.106726</td>\n",
              "      <td>-4.760869</td>\n",
              "      <td>0.447867</td>\n",
              "      <td>3.857282</td>\n",
              "      <td>-0.514344</td>\n",
              "      <td>3.076791</td>\n",
              "    </tr>\n",
              "    <tr>\n",
              "      <th>4</th>\n",
              "      <td>G</td>\n",
              "      <td>4.992768</td>\n",
              "      <td>-0.463016</td>\n",
              "      <td>-4.575783</td>\n",
              "      <td>-0.513464</td>\n",
              "      <td>-0.463444</td>\n",
              "      <td>1.022939</td>\n",
              "    </tr>\n",
              "    <tr>\n",
              "      <th>5</th>\n",
              "      <td>A</td>\n",
              "      <td>1.885278</td>\n",
              "      <td>-0.330126</td>\n",
              "      <td>3.485229</td>\n",
              "      <td>0.122697</td>\n",
              "      <td>-0.267562</td>\n",
              "      <td>-4.895516</td>\n",
              "    </tr>\n",
              "    <tr>\n",
              "      <th>6</th>\n",
              "      <td>SG</td>\n",
              "      <td>-6.887074</td>\n",
              "      <td>1.974240</td>\n",
              "      <td>9.296098</td>\n",
              "      <td>-18.432989</td>\n",
              "      <td>-1.362341</td>\n",
              "      <td>15.412066</td>\n",
              "    </tr>\n",
              "    <tr>\n",
              "      <th>7</th>\n",
              "      <td>FS</td>\n",
              "      <td>4.775896</td>\n",
              "      <td>-3.034522</td>\n",
              "      <td>0.714315</td>\n",
              "      <td>1.905535</td>\n",
              "      <td>-2.771111</td>\n",
              "      <td>-1.590113</td>\n",
              "    </tr>\n",
              "    <tr>\n",
              "      <th>8</th>\n",
              "      <td>FF</td>\n",
              "      <td>5.995269</td>\n",
              "      <td>-1.921652</td>\n",
              "      <td>-3.941561</td>\n",
              "      <td>2.023937</td>\n",
              "      <td>-1.492529</td>\n",
              "      <td>-0.663465</td>\n",
              "    </tr>\n",
              "    <tr>\n",
              "      <th>9</th>\n",
              "      <td>FD</td>\n",
              "      <td>4.843438</td>\n",
              "      <td>-1.185683</td>\n",
              "      <td>-1.921749</td>\n",
              "      <td>2.775535</td>\n",
              "      <td>-1.357979</td>\n",
              "      <td>-3.153563</td>\n",
              "    </tr>\n",
              "    <tr>\n",
              "      <th>10</th>\n",
              "      <td>FT</td>\n",
              "      <td>1.786632</td>\n",
              "      <td>-0.120252</td>\n",
              "      <td>-0.777058</td>\n",
              "      <td>-1.516531</td>\n",
              "      <td>-0.077493</td>\n",
              "      <td>0.704702</td>\n",
              "    </tr>\n",
              "    <tr>\n",
              "      <th>11</th>\n",
              "      <td>DD</td>\n",
              "      <td>-0.344002</td>\n",
              "      <td>6.665961</td>\n",
              "      <td>-2.030580</td>\n",
              "      <td>-0.566108</td>\n",
              "      <td>-1.186964</td>\n",
              "      <td>-2.538307</td>\n",
              "    </tr>\n",
              "    <tr>\n",
              "      <th>12</th>\n",
              "      <td>DP</td>\n",
              "      <td>-0.010121</td>\n",
              "      <td>0.115130</td>\n",
              "      <td>-0.053907</td>\n",
              "      <td>-0.018075</td>\n",
              "      <td>-0.001957</td>\n",
              "      <td>-0.031068</td>\n",
              "    </tr>\n",
              "    <tr>\n",
              "      <th>13</th>\n",
              "      <td>GC</td>\n",
              "      <td>-0.226094</td>\n",
              "      <td>-0.024864</td>\n",
              "      <td>-0.529213</td>\n",
              "      <td>-0.384714</td>\n",
              "      <td>-0.004589</td>\n",
              "      <td>1.169475</td>\n",
              "    </tr>\n",
              "    <tr>\n",
              "      <th>14</th>\n",
              "      <td>CV</td>\n",
              "      <td>0.220729</td>\n",
              "      <td>0.007530</td>\n",
              "      <td>0.507529</td>\n",
              "      <td>-0.992804</td>\n",
              "      <td>-0.002323</td>\n",
              "      <td>0.259339</td>\n",
              "    </tr>\n",
              "    <tr>\n",
              "      <th>15</th>\n",
              "      <td>CA</td>\n",
              "      <td>-3.027524</td>\n",
              "      <td>-0.145159</td>\n",
              "      <td>-2.854575</td>\n",
              "      <td>-0.060775</td>\n",
              "      <td>-0.238781</td>\n",
              "      <td>6.326814</td>\n",
              "    </tr>\n",
              "    <tr>\n",
              "      <th>16</th>\n",
              "      <td>PP</td>\n",
              "      <td>0.456040</td>\n",
              "      <td>-0.020252</td>\n",
              "      <td>-0.139272</td>\n",
              "      <td>-0.124555</td>\n",
              "      <td>-0.000865</td>\n",
              "      <td>-0.171096</td>\n",
              "    </tr>\n",
              "    <tr>\n",
              "      <th>17</th>\n",
              "      <td>GS</td>\n",
              "      <td>-0.381206</td>\n",
              "      <td>5.900913</td>\n",
              "      <td>-2.082288</td>\n",
              "      <td>-0.858809</td>\n",
              "      <td>-0.577140</td>\n",
              "      <td>-2.001469</td>\n",
              "    </tr>\n",
              "    <tr>\n",
              "      <th>18</th>\n",
              "      <td>FC</td>\n",
              "      <td>3.333491</td>\n",
              "      <td>-4.534283</td>\n",
              "      <td>1.627292</td>\n",
              "      <td>1.418102</td>\n",
              "      <td>-2.304382</td>\n",
              "      <td>0.459780</td>\n",
              "    </tr>\n",
              "    <tr>\n",
              "      <th>19</th>\n",
              "      <td>I</td>\n",
              "      <td>6.778112</td>\n",
              "      <td>-0.455364</td>\n",
              "      <td>0.488384</td>\n",
              "      <td>-5.477216</td>\n",
              "      <td>-0.285623</td>\n",
              "      <td>-1.048293</td>\n",
              "    </tr>\n",
              "    <tr>\n",
              "      <th>20</th>\n",
              "      <td>PI</td>\n",
              "      <td>0.396254</td>\n",
              "      <td>0.830090</td>\n",
              "      <td>1.638906</td>\n",
              "      <td>-0.924881</td>\n",
              "      <td>-2.260962</td>\n",
              "      <td>0.320593</td>\n",
              "    </tr>\n",
              "    <tr>\n",
              "      <th>21</th>\n",
              "      <td>RB</td>\n",
              "      <td>-2.697173</td>\n",
              "      <td>-1.264584</td>\n",
              "      <td>1.863514</td>\n",
              "      <td>2.468257</td>\n",
              "      <td>-2.742084</td>\n",
              "      <td>2.372071</td>\n",
              "    </tr>\n",
              "    <tr>\n",
              "      <th>22</th>\n",
              "      <td>PE</td>\n",
              "      <td>-0.617862</td>\n",
              "      <td>-0.640485</td>\n",
              "      <td>2.650066</td>\n",
              "      <td>0.448127</td>\n",
              "      <td>-2.948958</td>\n",
              "      <td>1.109111</td>\n",
              "    </tr>\n",
              "  </tbody>\n",
              "</table>\n",
              "</div>"
            ],
            "text/plain": [
              "           0       ATA       GOL       LAT        MEI       TEC        ZAG\n",
              "0      Preço -0.278003 -1.176171 -1.543337  -2.155060  5.023617   0.128955\n",
              "1      Média -0.734285 -1.238613  0.989994  -1.749860  3.739687  -1.006923\n",
              "2   Variação  0.335143 -0.134636 -0.127180   0.386366  0.025014  -0.484707\n",
              "3         DS -2.106726 -4.760869  0.447867   3.857282 -0.514344   3.076791\n",
              "4          G  4.992768 -0.463016 -4.575783  -0.513464 -0.463444   1.022939\n",
              "5          A  1.885278 -0.330126  3.485229   0.122697 -0.267562  -4.895516\n",
              "6         SG -6.887074  1.974240  9.296098 -18.432989 -1.362341  15.412066\n",
              "7         FS  4.775896 -3.034522  0.714315   1.905535 -2.771111  -1.590113\n",
              "8         FF  5.995269 -1.921652 -3.941561   2.023937 -1.492529  -0.663465\n",
              "9         FD  4.843438 -1.185683 -1.921749   2.775535 -1.357979  -3.153563\n",
              "10        FT  1.786632 -0.120252 -0.777058  -1.516531 -0.077493   0.704702\n",
              "11        DD -0.344002  6.665961 -2.030580  -0.566108 -1.186964  -2.538307\n",
              "12        DP -0.010121  0.115130 -0.053907  -0.018075 -0.001957  -0.031068\n",
              "13        GC -0.226094 -0.024864 -0.529213  -0.384714 -0.004589   1.169475\n",
              "14        CV  0.220729  0.007530  0.507529  -0.992804 -0.002323   0.259339\n",
              "15        CA -3.027524 -0.145159 -2.854575  -0.060775 -0.238781   6.326814\n",
              "16        PP  0.456040 -0.020252 -0.139272  -0.124555 -0.000865  -0.171096\n",
              "17        GS -0.381206  5.900913 -2.082288  -0.858809 -0.577140  -2.001469\n",
              "18        FC  3.333491 -4.534283  1.627292   1.418102 -2.304382   0.459780\n",
              "19         I  6.778112 -0.455364  0.488384  -5.477216 -0.285623  -1.048293\n",
              "20        PI  0.396254  0.830090  1.638906  -0.924881 -2.260962   0.320593\n",
              "21        RB -2.697173 -1.264584  1.863514   2.468257 -2.742084   2.372071\n",
              "22        PE -0.617862 -0.640485  2.650066   0.448127 -2.948958   1.109111"
            ]
          },
          "metadata": {
            "tags": []
          },
          "execution_count": 121
        }
      ]
    },
    {
      "cell_type": "code",
      "metadata": {
        "id": "_JgRarS9l31w",
        "outputId": "5fb59ba4-6a61-4485-d67f-f9221f08cfdf",
        "colab": {
          "base_uri": "https://localhost:8080/"
        }
      },
      "source": [
        "gc.collect()"
      ],
      "execution_count": 122,
      "outputs": [
        {
          "output_type": "execute_result",
          "data": {
            "text/plain": [
              "30211"
            ]
          },
          "metadata": {
            "tags": []
          },
          "execution_count": 122
        }
      ]
    },
    {
      "cell_type": "markdown",
      "metadata": {
        "id": "Xi-aQLb3nKoF"
      },
      "source": [
        "## lightgbm & optuna & calibragem"
      ]
    },
    {
      "cell_type": "code",
      "metadata": {
        "id": "ga5eFKSUnKoH"
      },
      "source": [
        "def lgb_opt(X_train_all, Y_train_all, trial):\n",
        "  (X_train, X_holdout, y_train, y_holdout) = train_test_split(X_train_all, Y_train_all, test_size=0.2, random_state=0)\n",
        "\n",
        "  bagging_freq            = trial.suggest_int('bagging_freq',1,10),\n",
        "  min_data_in_leaf        = trial.suggest_int('min_data_in_leaf',2,100),\n",
        "  max_depth               = trial.suggest_int('max_depth',1,20),\n",
        "  learning_rate           = trial.suggest_loguniform('learning_rate',0.001,0.1),\n",
        "  num_leaves              = trial.suggest_int('num_leaves',2,70),\n",
        "  num_threads             = trial.suggest_int('num_threads',1,10),\n",
        "  min_sum_hessian_in_leaf = trial.suggest_int('min_sum_hessian_in_leaf',1,10)\n",
        "  lambda_l1               = trial.suggest_loguniform('lambda_l1', 0.1, 2),\n",
        "  lambda_l2               = trial.suggest_loguniform('lambda_l2', 0.1, 2)\n",
        "\n",
        "  lightgbm_tuna = lgb.LGBMClassifier(\n",
        "                                    random_state = 31,\n",
        "                                    verbosity    = 1,\n",
        "                                    bagging_seed = 13,\n",
        "                                    boost_from_average = 'true',\n",
        "                                    boost              = 'gbdt',\n",
        "                                    metric             = 'multi_logloss',\n",
        "                                    bagging_freq            = bagging_freq ,\n",
        "                                    min_data_in_leaf        = min_data_in_leaf,\n",
        "                                    max_depth               = max_depth,\n",
        "                                    learning_rate           = learning_rate,\n",
        "                                    num_leaves              = num_leaves,\n",
        "                                    num_threads             = num_threads,\n",
        "                                    min_sum_hessian_in_leaf = min_sum_hessian_in_leaf,\n",
        "                                    lambda_l1               = lambda_l1,\n",
        "                                    lambda_l2               = lambda_l2\n",
        "                                    )\n",
        "\n",
        "  lightgbm_tuna.fit(X_train, y_train)\n",
        "\n",
        "  y_pred_train   = lightgbm_tuna.predict(X_train)\n",
        "  y_pred_holdout = lightgbm_tuna.predict(X_holdout)\n",
        "\n",
        "  acc_t = accuracy_score( y_train , y_pred_train )\n",
        "  acc_h = accuracy_score( y_holdout , y_pred_holdout )\n",
        "  delta = acc_t-acc_h\n",
        "\n",
        "  # return accuracy_score(y_holdout, y_pred_holdout)\n",
        "  # return 1/delta\n",
        "  return fbeta_score(y_holdout, y_pred_holdout, beta=2.0, average=\"macro\")"
      ],
      "execution_count": 129,
      "outputs": []
    },
    {
      "cell_type": "code",
      "metadata": {
        "id": "ozF6EDD_nKo0",
        "outputId": "8138b649-9238-46dd-ed10-da8f780ad663",
        "colab": {
          "base_uri": "https://localhost:8080/"
        }
      },
      "source": [
        "lb_study = optuna.create_study(direction='maximize')\n",
        "lb_study.optimize(functools.partial(lgb_opt, X_train[_cols], y_train), n_trials = 23)\n",
        "\n",
        "print(lb_study.best_trial)\n",
        "print(lb_study.best_params)"
      ],
      "execution_count": 130,
      "outputs": [
        {
          "output_type": "stream",
          "text": [
            "\u001b[32m[I 2020-11-14 21:23:58,585]\u001b[0m A new study created in memory with name: no-name-4a9939c5-f944-4cdc-a7da-6c7e1959749b\u001b[0m\n",
            "\u001b[32m[I 2020-11-14 21:24:01,325]\u001b[0m Trial 0 finished with value: 0.8033437578974055 and parameters: {'bagging_freq': 5, 'min_data_in_leaf': 91, 'max_depth': 10, 'learning_rate': 0.0048314193098557305, 'num_leaves': 63, 'num_threads': 3, 'min_sum_hessian_in_leaf': 7, 'lambda_l1': 0.6827974891830152, 'lambda_l2': 0.1323355638019082}. Best is trial 0 with value: 0.8033437578974055.\u001b[0m\n",
            "\u001b[32m[I 2020-11-14 21:24:02,353]\u001b[0m Trial 1 finished with value: 0.8004448467576474 and parameters: {'bagging_freq': 8, 'min_data_in_leaf': 36, 'max_depth': 2, 'learning_rate': 0.02062118963215979, 'num_leaves': 17, 'num_threads': 3, 'min_sum_hessian_in_leaf': 3, 'lambda_l1': 1.6012101689223446, 'lambda_l2': 1.606539263788929}. Best is trial 0 with value: 0.8033437578974055.\u001b[0m\n",
            "\u001b[32m[I 2020-11-14 21:24:06,673]\u001b[0m Trial 2 finished with value: 0.9208213782024511 and parameters: {'bagging_freq': 5, 'min_data_in_leaf': 59, 'max_depth': 18, 'learning_rate': 0.06243353870507991, 'num_leaves': 28, 'num_threads': 5, 'min_sum_hessian_in_leaf': 3, 'lambda_l1': 0.29229675540437705, 'lambda_l2': 0.5324979746021269}. Best is trial 2 with value: 0.9208213782024511.\u001b[0m\n",
            "\u001b[32m[I 2020-11-14 21:24:10,102]\u001b[0m Trial 3 finished with value: 0.9058505018490458 and parameters: {'bagging_freq': 5, 'min_data_in_leaf': 57, 'max_depth': 12, 'learning_rate': 0.04046263601337784, 'num_leaves': 43, 'num_threads': 3, 'min_sum_hessian_in_leaf': 8, 'lambda_l1': 1.0584531659997873, 'lambda_l2': 0.9116148386167515}. Best is trial 2 with value: 0.9208213782024511.\u001b[0m\n",
            "\u001b[32m[I 2020-11-14 21:24:12,087]\u001b[0m Trial 4 finished with value: 0.7812301586936469 and parameters: {'bagging_freq': 6, 'min_data_in_leaf': 29, 'max_depth': 4, 'learning_rate': 0.004508440406989396, 'num_leaves': 56, 'num_threads': 6, 'min_sum_hessian_in_leaf': 9, 'lambda_l1': 0.17129204044774154, 'lambda_l2': 1.7795878572750508}. Best is trial 2 with value: 0.9208213782024511.\u001b[0m\n",
            "\u001b[32m[I 2020-11-14 21:24:13,344]\u001b[0m Trial 5 finished with value: 0.9201018041808776 and parameters: {'bagging_freq': 8, 'min_data_in_leaf': 28, 'max_depth': 6, 'learning_rate': 0.08981258883549832, 'num_leaves': 21, 'num_threads': 2, 'min_sum_hessian_in_leaf': 9, 'lambda_l1': 0.30165550494677934, 'lambda_l2': 0.3798479267166758}. Best is trial 2 with value: 0.9208213782024511.\u001b[0m\n",
            "\u001b[32m[I 2020-11-14 21:24:20,421]\u001b[0m Trial 6 finished with value: 0.8699947913482647 and parameters: {'bagging_freq': 5, 'min_data_in_leaf': 24, 'max_depth': 16, 'learning_rate': 0.0069600251162683655, 'num_leaves': 62, 'num_threads': 6, 'min_sum_hessian_in_leaf': 7, 'lambda_l1': 0.11752353550067612, 'lambda_l2': 1.58248397877809}. Best is trial 2 with value: 0.9208213782024511.\u001b[0m\n",
            "\u001b[32m[I 2020-11-14 21:24:24,822]\u001b[0m Trial 7 finished with value: 0.8502686923241631 and parameters: {'bagging_freq': 2, 'min_data_in_leaf': 84, 'max_depth': 8, 'learning_rate': 0.017450326402592933, 'num_leaves': 35, 'num_threads': 8, 'min_sum_hessian_in_leaf': 4, 'lambda_l1': 1.0203604361856549, 'lambda_l2': 1.8429715831708595}. Best is trial 2 with value: 0.9208213782024511.\u001b[0m\n",
            "\u001b[32m[I 2020-11-14 21:24:30,305]\u001b[0m Trial 8 finished with value: 0.8793168983900452 and parameters: {'bagging_freq': 1, 'min_data_in_leaf': 24, 'max_depth': 14, 'learning_rate': 0.01432118173455004, 'num_leaves': 27, 'num_threads': 8, 'min_sum_hessian_in_leaf': 10, 'lambda_l1': 0.35479544063881235, 'lambda_l2': 0.2784911589927001}. Best is trial 2 with value: 0.9208213782024511.\u001b[0m\n",
            "\u001b[32m[I 2020-11-14 21:24:34,227]\u001b[0m Trial 9 finished with value: 0.894860842383757 and parameters: {'bagging_freq': 5, 'min_data_in_leaf': 61, 'max_depth': 13, 'learning_rate': 0.030808005038736912, 'num_leaves': 27, 'num_threads': 6, 'min_sum_hessian_in_leaf': 10, 'lambda_l1': 0.10606009929442536, 'lambda_l2': 0.4321080952788992}. Best is trial 2 with value: 0.9208213782024511.\u001b[0m\n",
            "\u001b[32m[I 2020-11-14 21:24:34,680]\u001b[0m Trial 10 finished with value: 0.81668842340271 and parameters: {'bagging_freq': 10, 'min_data_in_leaf': 4, 'max_depth': 20, 'learning_rate': 0.09501586448479911, 'num_leaves': 2, 'num_threads': 1, 'min_sum_hessian_in_leaf': 1, 'lambda_l1': 0.2171431777757023, 'lambda_l2': 0.7726354904411784}. Best is trial 2 with value: 0.9208213782024511.\u001b[0m\n",
            "\u001b[32m[I 2020-11-14 21:24:35,657]\u001b[0m Trial 11 finished with value: 0.11608125687981587 and parameters: {'bagging_freq': 8, 'min_data_in_leaf': 72, 'max_depth': 6, 'learning_rate': 0.0011786956802664573, 'num_leaves': 9, 'num_threads': 1, 'min_sum_hessian_in_leaf': 1, 'lambda_l1': 0.3587293836956486, 'lambda_l2': 0.23419857097573274}. Best is trial 2 with value: 0.9208213782024511.\u001b[0m\n",
            "\u001b[32m[I 2020-11-14 21:24:37,872]\u001b[0m Trial 12 finished with value: 0.9223836346256259 and parameters: {'bagging_freq': 8, 'min_data_in_leaf': 43, 'max_depth': 20, 'learning_rate': 0.09641813925176382, 'num_leaves': 17, 'num_threads': 4, 'min_sum_hessian_in_leaf': 4, 'lambda_l1': 0.23661724434885206, 'lambda_l2': 0.5474295626275469}. Best is trial 12 with value: 0.9223836346256259.\u001b[0m\n",
            "\u001b[32m[I 2020-11-14 21:24:41,603]\u001b[0m Trial 13 finished with value: 0.9220034050049497 and parameters: {'bagging_freq': 3, 'min_data_in_leaf': 45, 'max_depth': 20, 'learning_rate': 0.056306298731003034, 'num_leaves': 42, 'num_threads': 4, 'min_sum_hessian_in_leaf': 4, 'lambda_l1': 0.5592017938716184, 'lambda_l2': 0.7413778827229975}. Best is trial 12 with value: 0.9223836346256259.\u001b[0m\n",
            "\u001b[32m[I 2020-11-14 21:24:45,329]\u001b[0m Trial 14 finished with value: 0.9245661123338583 and parameters: {'bagging_freq': 3, 'min_data_in_leaf': 44, 'max_depth': 20, 'learning_rate': 0.05300774939752542, 'num_leaves': 41, 'num_threads': 4, 'min_sum_hessian_in_leaf': 5, 'lambda_l1': 0.5860839175065041, 'lambda_l2': 0.8986121856793882}. Best is trial 14 with value: 0.9245661123338583.\u001b[0m\n",
            "\u001b[32m[I 2020-11-14 21:24:52,107]\u001b[0m Trial 15 finished with value: 0.9369552501906582 and parameters: {'bagging_freq': 10, 'min_data_in_leaf': 8, 'max_depth': 17, 'learning_rate': 0.09667476557226036, 'num_leaves': 50, 'num_threads': 5, 'min_sum_hessian_in_leaf': 5, 'lambda_l1': 0.5629444461604162, 'lambda_l2': 0.9852231965816601}. Best is trial 15 with value: 0.9369552501906582.\u001b[0m\n",
            "\u001b[32m[I 2020-11-14 21:25:04,495]\u001b[0m Trial 16 finished with value: 0.2306243948523166 and parameters: {'bagging_freq': 3, 'min_data_in_leaf': 7, 'max_depth': 17, 'learning_rate': 0.0022627102132747436, 'num_leaves': 54, 'num_threads': 9, 'min_sum_hessian_in_leaf': 6, 'lambda_l1': 0.7274132928151621, 'lambda_l2': 1.1086426099798314}. Best is trial 15 with value: 0.9369552501906582.\u001b[0m\n",
            "\u001b[32m[I 2020-11-14 21:25:11,218]\u001b[0m Trial 17 finished with value: 0.9195243769731257 and parameters: {'bagging_freq': 10, 'min_data_in_leaf': 14, 'max_depth': 15, 'learning_rate': 0.03983715070830922, 'num_leaves': 46, 'num_threads': 5, 'min_sum_hessian_in_leaf': 5, 'lambda_l1': 0.49647417382772435, 'lambda_l2': 1.1973860239634073}. Best is trial 15 with value: 0.9369552501906582.\u001b[0m\n",
            "\u001b[32m[I 2020-11-14 21:25:16,139]\u001b[0m Trial 18 finished with value: 0.8705196272020662 and parameters: {'bagging_freq': 3, 'min_data_in_leaf': 72, 'max_depth': 18, 'learning_rate': 0.026915680103767766, 'num_leaves': 53, 'num_threads': 7, 'min_sum_hessian_in_leaf': 6, 'lambda_l1': 1.8272006605309865, 'lambda_l2': 1.2062546185376601}. Best is trial 15 with value: 0.9369552501906582.\u001b[0m\n",
            "\u001b[32m[I 2020-11-14 21:25:19,658]\u001b[0m Trial 19 finished with value: 0.9240090075397845 and parameters: {'bagging_freq': 1, 'min_data_in_leaf': 16, 'max_depth': 11, 'learning_rate': 0.060666745087259305, 'num_leaves': 34, 'num_threads': 4, 'min_sum_hessian_in_leaf': 5, 'lambda_l1': 0.9206648140720558, 'lambda_l2': 0.6635065402467237}. Best is trial 15 with value: 0.9369552501906582.\u001b[0m\n",
            "\u001b[32m[I 2020-11-14 21:25:25,174]\u001b[0m Trial 20 finished with value: 0.8343221690002133 and parameters: {'bagging_freq': 7, 'min_data_in_leaf': 100, 'max_depth': 19, 'learning_rate': 0.010451270930754951, 'num_leaves': 70, 'num_threads': 10, 'min_sum_hessian_in_leaf': 2, 'lambda_l1': 0.43992548752903443, 'lambda_l2': 1.0044252093561687}. Best is trial 15 with value: 0.9369552501906582.\u001b[0m\n",
            "\u001b[32m[I 2020-11-14 21:25:28,906]\u001b[0m Trial 21 finished with value: 0.9241439473039929 and parameters: {'bagging_freq': 1, 'min_data_in_leaf': 12, 'max_depth': 11, 'learning_rate': 0.05897404975798494, 'num_leaves': 37, 'num_threads': 4, 'min_sum_hessian_in_leaf': 5, 'lambda_l1': 1.0022814339771497, 'lambda_l2': 0.6356609787391249}. Best is trial 15 with value: 0.9369552501906582.\u001b[0m\n",
            "\u001b[32m[I 2020-11-14 21:25:35,468]\u001b[0m Trial 22 finished with value: 0.930062771773573 and parameters: {'bagging_freq': 2, 'min_data_in_leaf': 3, 'max_depth': 16, 'learning_rate': 0.07182055217791555, 'num_leaves': 46, 'num_threads': 5, 'min_sum_hessian_in_leaf': 5, 'lambda_l1': 1.3926149913174415, 'lambda_l2': 0.6153580062998478}. Best is trial 15 with value: 0.9369552501906582.\u001b[0m\n"
          ],
          "name": "stderr"
        },
        {
          "output_type": "stream",
          "text": [
            "FrozenTrial(number=15, value=0.9369552501906582, datetime_start=datetime.datetime(2020, 11, 14, 21, 24, 45, 330891), datetime_complete=datetime.datetime(2020, 11, 14, 21, 24, 52, 107121), params={'bagging_freq': 10, 'min_data_in_leaf': 8, 'max_depth': 17, 'learning_rate': 0.09667476557226036, 'num_leaves': 50, 'num_threads': 5, 'min_sum_hessian_in_leaf': 5, 'lambda_l1': 0.5629444461604162, 'lambda_l2': 0.9852231965816601}, distributions={'bagging_freq': IntUniformDistribution(high=10, low=1, step=1), 'min_data_in_leaf': IntUniformDistribution(high=100, low=2, step=1), 'max_depth': IntUniformDistribution(high=20, low=1, step=1), 'learning_rate': LogUniformDistribution(high=0.1, low=0.001), 'num_leaves': IntUniformDistribution(high=70, low=2, step=1), 'num_threads': IntUniformDistribution(high=10, low=1, step=1), 'min_sum_hessian_in_leaf': IntUniformDistribution(high=10, low=1, step=1), 'lambda_l1': LogUniformDistribution(high=2, low=0.1), 'lambda_l2': LogUniformDistribution(high=2, low=0.1)}, user_attrs={}, system_attrs={}, intermediate_values={}, trial_id=15, state=TrialState.COMPLETE)\n",
            "{'bagging_freq': 10, 'min_data_in_leaf': 8, 'max_depth': 17, 'learning_rate': 0.09667476557226036, 'num_leaves': 50, 'num_threads': 5, 'min_sum_hessian_in_leaf': 5, 'lambda_l1': 0.5629444461604162, 'lambda_l2': 0.9852231965816601}\n"
          ],
          "name": "stdout"
        }
      ]
    },
    {
      "cell_type": "code",
      "metadata": {
        "id": "qLQ5VgNFnKo7",
        "outputId": "58c9aeda-4d9b-4aab-c15e-9a4b76579bea",
        "colab": {
          "base_uri": "https://localhost:8080/"
        }
      },
      "source": [
        "# logistica\n",
        "clf = LogisticRegression(random_state=0).fit(X_train[_cols], y_train)\n",
        "y_pred_holdout      = clf.predict(X_holdout[_cols])\n",
        "y_pred_holdout_prob = clf.predict_proba(X_holdout[_cols])\n",
        "print( classification_report(y_holdout, y_pred_holdout, target_names=sorted(y_holdout.unique()) ) )\n",
        "\n",
        "# boosting\n",
        "lgbm =  lgb.LGBMClassifier(**lb_study.best_params)\n",
        "lgbm.fit(X_train[_cols], y_train)\n",
        "y_pred_holdout      = lgbm.predict(X_holdout[_cols])\n",
        "y_pred_holdout_prob = lgbm.predict_proba(X_holdout[_cols])\n",
        "print( classification_report(y_holdout, y_pred_holdout, target_names=sorted(y_holdout.unique()) ) )\n",
        "\n",
        "# calibration\n",
        "clf_sigmoid = CalibratedClassifierCV(lgbm, cv=3, method='isotonic')\n",
        "clf_sigmoid.fit(X_train[_cols], y_train)\n",
        "y_pred_holdout      = clf_sigmoid.predict(X_holdout[_cols])\n",
        "y_pred_holdout_prob = clf_sigmoid.predict_proba(X_holdout[_cols])\n",
        "print( classification_report(y_holdout, y_pred_holdout, target_names=sorted(y_holdout.unique()) ) )"
      ],
      "execution_count": 135,
      "outputs": [
        {
          "output_type": "stream",
          "text": [
            "/usr/local/lib/python3.6/dist-packages/sklearn/linear_model/_logistic.py:940: ConvergenceWarning:\n",
            "\n",
            "lbfgs failed to converge (status=1):\n",
            "STOP: TOTAL NO. of ITERATIONS REACHED LIMIT.\n",
            "\n",
            "Increase the number of iterations (max_iter) or scale the data as shown in:\n",
            "    https://scikit-learn.org/stable/modules/preprocessing.html\n",
            "Please also refer to the documentation for alternative solver options:\n",
            "    https://scikit-learn.org/stable/modules/linear_model.html#logistic-regression\n",
            "\n"
          ],
          "name": "stderr"
        },
        {
          "output_type": "stream",
          "text": [
            "              precision    recall  f1-score   support\n",
            "\n",
            "         ATA       0.75      0.68      0.72       348\n",
            "         GOL       1.00      0.96      0.98       158\n",
            "         LAT       0.71      0.54      0.62       292\n",
            "         MEI       0.72      0.86      0.79       575\n",
            "         TEC       0.89      1.00      0.94       159\n",
            "         ZAG       0.73      0.68      0.70       312\n",
            "\n",
            "    accuracy                           0.77      1844\n",
            "   macro avg       0.80      0.79      0.79      1844\n",
            "weighted avg       0.77      0.77      0.76      1844\n",
            "\n",
            "              precision    recall  f1-score   support\n",
            "\n",
            "         ATA       0.91      0.91      0.91       348\n",
            "         GOL       1.00      0.99      1.00       158\n",
            "         LAT       0.92      0.87      0.90       292\n",
            "         MEI       0.91      0.94      0.92       575\n",
            "         TEC       0.94      1.00      0.97       159\n",
            "         ZAG       0.92      0.88      0.90       312\n",
            "\n",
            "    accuracy                           0.92      1844\n",
            "   macro avg       0.93      0.93      0.93      1844\n",
            "weighted avg       0.92      0.92      0.92      1844\n",
            "\n",
            "              precision    recall  f1-score   support\n",
            "\n",
            "         ATA       0.90      0.90      0.90       348\n",
            "         GOL       1.00      0.99      1.00       158\n",
            "         LAT       0.90      0.86      0.88       292\n",
            "         MEI       0.90      0.93      0.92       575\n",
            "         TEC       0.95      1.00      0.97       159\n",
            "         ZAG       0.91      0.87      0.89       312\n",
            "\n",
            "    accuracy                           0.92      1844\n",
            "   macro avg       0.93      0.93      0.93      1844\n",
            "weighted avg       0.92      0.92      0.92      1844\n",
            "\n"
          ],
          "name": "stdout"
        }
      ]
    },
    {
      "cell_type": "code",
      "metadata": {
        "id": "SLUKNoD6ptOu",
        "outputId": "3e828ffa-a24f-49bd-e579-5d46ac383dee",
        "colab": {
          "base_uri": "https://localhost:8080/"
        }
      },
      "source": [
        "gc.collect()"
      ],
      "execution_count": 136,
      "outputs": [
        {
          "output_type": "execute_result",
          "data": {
            "text/plain": [
              "6269"
            ]
          },
          "metadata": {
            "tags": []
          },
          "execution_count": 136
        }
      ]
    },
    {
      "cell_type": "markdown",
      "metadata": {
        "id": "trE2jQJLCU8U"
      },
      "source": [
        "# optuna"
      ]
    },
    {
      "cell_type": "code",
      "metadata": {
        "id": "Huo8b7XQFxIw"
      },
      "source": [
        "# !pip install optuna"
      ],
      "execution_count": 50,
      "outputs": []
    },
    {
      "cell_type": "code",
      "metadata": {
        "id": "cAH1X29xGE3e"
      },
      "source": [
        "import optuna"
      ],
      "execution_count": 52,
      "outputs": []
    },
    {
      "cell_type": "code",
      "metadata": {
        "id": "wgbLYvHKFzq4"
      },
      "source": [
        "def objective(trial):\n",
        "    x = trial.suggest_uniform('x', -10, 10)\n",
        "    y = trial.suggest_uniform('y', -10, 10)\n",
        "    return (x - 2)**2 + (y - 6)**2 "
      ],
      "execution_count": 62,
      "outputs": []
    },
    {
      "cell_type": "code",
      "metadata": {
        "id": "e3bR3dt5F_lE"
      },
      "source": [
        "study = optuna.create_study()\n",
        "study.optimize(objective, n_trials=500)"
      ],
      "execution_count": null,
      "outputs": []
    },
    {
      "cell_type": "code",
      "metadata": {
        "id": "Ab6uRwriGH4h",
        "outputId": "9213b0a3-6e14-4918-f3e4-9b17334fd3c3",
        "colab": {
          "base_uri": "https://localhost:8080/"
        }
      },
      "source": [
        "print(study.best_trial)\n",
        "print(study.best_params)"
      ],
      "execution_count": 66,
      "outputs": [
        {
          "output_type": "stream",
          "text": [
            "FrozenTrial(number=334, value=0.0014681870441272987, datetime_start=datetime.datetime(2020, 11, 14, 18, 58, 35, 833628), datetime_complete=datetime.datetime(2020, 11, 14, 18, 58, 35, 840595), params={'x': 2.038233640289019, 'y': 6.002525033539816}, distributions={'x': UniformDistribution(high=10, low=-10), 'y': UniformDistribution(high=10, low=-10)}, user_attrs={}, system_attrs={}, intermediate_values={}, trial_id=334, state=TrialState.COMPLETE)\n",
            "{'x': 2.038233640289019, 'y': 6.002525033539816}\n"
          ],
          "name": "stdout"
        }
      ]
    },
    {
      "cell_type": "code",
      "metadata": {
        "id": "FkdcBO70GNh8"
      },
      "source": [
        "# continua a otimizacao\n",
        "# study.optimize(objective, n_trials=100)\n",
        "# print(study.best_trial)\n",
        "# print(study.best_params)"
      ],
      "execution_count": null,
      "outputs": []
    },
    {
      "cell_type": "code",
      "metadata": {
        "id": "wAfO7ytJGnin"
      },
      "source": [
        ""
      ],
      "execution_count": null,
      "outputs": []
    }
  ]
}